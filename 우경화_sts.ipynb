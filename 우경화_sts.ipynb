{
  "nbformat": 4,
  "nbformat_minor": 0,
  "metadata": {
    "colab": {
      "name": "우경화_sts(진짜최종2, 추가데이터X).ipynb",
      "provenance": [],
      "collapsed_sections": [],
      "authorship_tag": "ABX9TyNyp5AGETKt1Tl6Bsm63SOY",
      "include_colab_link": true
    },
    "kernelspec": {
      "name": "python3",
      "display_name": "Python 3"
    },
    "language_info": {
      "name": "python"
    },
    "widgets": {
      "application/vnd.jupyter.widget-state+json": {
        "3f9340f636384d208a6aedda53448368": {
          "model_module": "@jupyter-widgets/controls",
          "model_name": "HBoxModel",
          "model_module_version": "1.5.0",
          "state": {
            "_dom_classes": [],
            "_model_module": "@jupyter-widgets/controls",
            "_model_module_version": "1.5.0",
            "_model_name": "HBoxModel",
            "_view_count": null,
            "_view_module": "@jupyter-widgets/controls",
            "_view_module_version": "1.5.0",
            "_view_name": "HBoxView",
            "box_style": "",
            "children": [
              "IPY_MODEL_9076d54351b64ab1b6233c1127776b97",
              "IPY_MODEL_9803adee2e22462b9a206856379a52d5",
              "IPY_MODEL_7dea4996a79746cf9c38ae1de4201729"
            ],
            "layout": "IPY_MODEL_4acacd88a5b24a14aadc0dbe268b914e"
          }
        },
        "9076d54351b64ab1b6233c1127776b97": {
          "model_module": "@jupyter-widgets/controls",
          "model_name": "HTMLModel",
          "model_module_version": "1.5.0",
          "state": {
            "_dom_classes": [],
            "_model_module": "@jupyter-widgets/controls",
            "_model_module_version": "1.5.0",
            "_model_name": "HTMLModel",
            "_view_count": null,
            "_view_module": "@jupyter-widgets/controls",
            "_view_module_version": "1.5.0",
            "_view_name": "HTMLView",
            "description": "",
            "description_tooltip": null,
            "layout": "IPY_MODEL_9761bea2783f4712958968f2a54b8161",
            "placeholder": "​",
            "style": "IPY_MODEL_00f7c4652538408d971e1227a2811406",
            "value": "Downloading builder script: "
          }
        },
        "9803adee2e22462b9a206856379a52d5": {
          "model_module": "@jupyter-widgets/controls",
          "model_name": "FloatProgressModel",
          "model_module_version": "1.5.0",
          "state": {
            "_dom_classes": [],
            "_model_module": "@jupyter-widgets/controls",
            "_model_module_version": "1.5.0",
            "_model_name": "FloatProgressModel",
            "_view_count": null,
            "_view_module": "@jupyter-widgets/controls",
            "_view_module_version": "1.5.0",
            "_view_name": "ProgressView",
            "bar_style": "success",
            "description": "",
            "description_tooltip": null,
            "layout": "IPY_MODEL_61950a46d76f43fb91ecd415cebe1ac1",
            "max": 5206,
            "min": 0,
            "orientation": "horizontal",
            "style": "IPY_MODEL_734c23bc16b947e894cb38dd00c92c61",
            "value": 5206
          }
        },
        "7dea4996a79746cf9c38ae1de4201729": {
          "model_module": "@jupyter-widgets/controls",
          "model_name": "HTMLModel",
          "model_module_version": "1.5.0",
          "state": {
            "_dom_classes": [],
            "_model_module": "@jupyter-widgets/controls",
            "_model_module_version": "1.5.0",
            "_model_name": "HTMLModel",
            "_view_count": null,
            "_view_module": "@jupyter-widgets/controls",
            "_view_module_version": "1.5.0",
            "_view_name": "HTMLView",
            "description": "",
            "description_tooltip": null,
            "layout": "IPY_MODEL_2906b965a2ab4007b2efa78696d1d69c",
            "placeholder": "​",
            "style": "IPY_MODEL_f050dda1961c4fb29b6391e4c8774224",
            "value": " 23.3k/? [00:00&lt;00:00, 645kB/s]"
          }
        },
        "4acacd88a5b24a14aadc0dbe268b914e": {
          "model_module": "@jupyter-widgets/base",
          "model_name": "LayoutModel",
          "model_module_version": "1.2.0",
          "state": {
            "_model_module": "@jupyter-widgets/base",
            "_model_module_version": "1.2.0",
            "_model_name": "LayoutModel",
            "_view_count": null,
            "_view_module": "@jupyter-widgets/base",
            "_view_module_version": "1.2.0",
            "_view_name": "LayoutView",
            "align_content": null,
            "align_items": null,
            "align_self": null,
            "border": null,
            "bottom": null,
            "display": null,
            "flex": null,
            "flex_flow": null,
            "grid_area": null,
            "grid_auto_columns": null,
            "grid_auto_flow": null,
            "grid_auto_rows": null,
            "grid_column": null,
            "grid_gap": null,
            "grid_row": null,
            "grid_template_areas": null,
            "grid_template_columns": null,
            "grid_template_rows": null,
            "height": null,
            "justify_content": null,
            "justify_items": null,
            "left": null,
            "margin": null,
            "max_height": null,
            "max_width": null,
            "min_height": null,
            "min_width": null,
            "object_fit": null,
            "object_position": null,
            "order": null,
            "overflow": null,
            "overflow_x": null,
            "overflow_y": null,
            "padding": null,
            "right": null,
            "top": null,
            "visibility": null,
            "width": null
          }
        },
        "9761bea2783f4712958968f2a54b8161": {
          "model_module": "@jupyter-widgets/base",
          "model_name": "LayoutModel",
          "model_module_version": "1.2.0",
          "state": {
            "_model_module": "@jupyter-widgets/base",
            "_model_module_version": "1.2.0",
            "_model_name": "LayoutModel",
            "_view_count": null,
            "_view_module": "@jupyter-widgets/base",
            "_view_module_version": "1.2.0",
            "_view_name": "LayoutView",
            "align_content": null,
            "align_items": null,
            "align_self": null,
            "border": null,
            "bottom": null,
            "display": null,
            "flex": null,
            "flex_flow": null,
            "grid_area": null,
            "grid_auto_columns": null,
            "grid_auto_flow": null,
            "grid_auto_rows": null,
            "grid_column": null,
            "grid_gap": null,
            "grid_row": null,
            "grid_template_areas": null,
            "grid_template_columns": null,
            "grid_template_rows": null,
            "height": null,
            "justify_content": null,
            "justify_items": null,
            "left": null,
            "margin": null,
            "max_height": null,
            "max_width": null,
            "min_height": null,
            "min_width": null,
            "object_fit": null,
            "object_position": null,
            "order": null,
            "overflow": null,
            "overflow_x": null,
            "overflow_y": null,
            "padding": null,
            "right": null,
            "top": null,
            "visibility": null,
            "width": null
          }
        },
        "00f7c4652538408d971e1227a2811406": {
          "model_module": "@jupyter-widgets/controls",
          "model_name": "DescriptionStyleModel",
          "model_module_version": "1.5.0",
          "state": {
            "_model_module": "@jupyter-widgets/controls",
            "_model_module_version": "1.5.0",
            "_model_name": "DescriptionStyleModel",
            "_view_count": null,
            "_view_module": "@jupyter-widgets/base",
            "_view_module_version": "1.2.0",
            "_view_name": "StyleView",
            "description_width": ""
          }
        },
        "61950a46d76f43fb91ecd415cebe1ac1": {
          "model_module": "@jupyter-widgets/base",
          "model_name": "LayoutModel",
          "model_module_version": "1.2.0",
          "state": {
            "_model_module": "@jupyter-widgets/base",
            "_model_module_version": "1.2.0",
            "_model_name": "LayoutModel",
            "_view_count": null,
            "_view_module": "@jupyter-widgets/base",
            "_view_module_version": "1.2.0",
            "_view_name": "LayoutView",
            "align_content": null,
            "align_items": null,
            "align_self": null,
            "border": null,
            "bottom": null,
            "display": null,
            "flex": null,
            "flex_flow": null,
            "grid_area": null,
            "grid_auto_columns": null,
            "grid_auto_flow": null,
            "grid_auto_rows": null,
            "grid_column": null,
            "grid_gap": null,
            "grid_row": null,
            "grid_template_areas": null,
            "grid_template_columns": null,
            "grid_template_rows": null,
            "height": null,
            "justify_content": null,
            "justify_items": null,
            "left": null,
            "margin": null,
            "max_height": null,
            "max_width": null,
            "min_height": null,
            "min_width": null,
            "object_fit": null,
            "object_position": null,
            "order": null,
            "overflow": null,
            "overflow_x": null,
            "overflow_y": null,
            "padding": null,
            "right": null,
            "top": null,
            "visibility": null,
            "width": null
          }
        },
        "734c23bc16b947e894cb38dd00c92c61": {
          "model_module": "@jupyter-widgets/controls",
          "model_name": "ProgressStyleModel",
          "model_module_version": "1.5.0",
          "state": {
            "_model_module": "@jupyter-widgets/controls",
            "_model_module_version": "1.5.0",
            "_model_name": "ProgressStyleModel",
            "_view_count": null,
            "_view_module": "@jupyter-widgets/base",
            "_view_module_version": "1.2.0",
            "_view_name": "StyleView",
            "bar_color": null,
            "description_width": ""
          }
        },
        "2906b965a2ab4007b2efa78696d1d69c": {
          "model_module": "@jupyter-widgets/base",
          "model_name": "LayoutModel",
          "model_module_version": "1.2.0",
          "state": {
            "_model_module": "@jupyter-widgets/base",
            "_model_module_version": "1.2.0",
            "_model_name": "LayoutModel",
            "_view_count": null,
            "_view_module": "@jupyter-widgets/base",
            "_view_module_version": "1.2.0",
            "_view_name": "LayoutView",
            "align_content": null,
            "align_items": null,
            "align_self": null,
            "border": null,
            "bottom": null,
            "display": null,
            "flex": null,
            "flex_flow": null,
            "grid_area": null,
            "grid_auto_columns": null,
            "grid_auto_flow": null,
            "grid_auto_rows": null,
            "grid_column": null,
            "grid_gap": null,
            "grid_row": null,
            "grid_template_areas": null,
            "grid_template_columns": null,
            "grid_template_rows": null,
            "height": null,
            "justify_content": null,
            "justify_items": null,
            "left": null,
            "margin": null,
            "max_height": null,
            "max_width": null,
            "min_height": null,
            "min_width": null,
            "object_fit": null,
            "object_position": null,
            "order": null,
            "overflow": null,
            "overflow_x": null,
            "overflow_y": null,
            "padding": null,
            "right": null,
            "top": null,
            "visibility": null,
            "width": null
          }
        },
        "f050dda1961c4fb29b6391e4c8774224": {
          "model_module": "@jupyter-widgets/controls",
          "model_name": "DescriptionStyleModel",
          "model_module_version": "1.5.0",
          "state": {
            "_model_module": "@jupyter-widgets/controls",
            "_model_module_version": "1.5.0",
            "_model_name": "DescriptionStyleModel",
            "_view_count": null,
            "_view_module": "@jupyter-widgets/base",
            "_view_module_version": "1.2.0",
            "_view_name": "StyleView",
            "description_width": ""
          }
        },
        "61a5f6d9449e4b4a9bd47cd1f6975277": {
          "model_module": "@jupyter-widgets/controls",
          "model_name": "HBoxModel",
          "model_module_version": "1.5.0",
          "state": {
            "_dom_classes": [],
            "_model_module": "@jupyter-widgets/controls",
            "_model_module_version": "1.5.0",
            "_model_name": "HBoxModel",
            "_view_count": null,
            "_view_module": "@jupyter-widgets/controls",
            "_view_module_version": "1.5.0",
            "_view_name": "HBoxView",
            "box_style": "",
            "children": [
              "IPY_MODEL_3c56b68ec7904bf8889de2ca50ee42ad",
              "IPY_MODEL_7adb8af82a6f4150a04a1f9ea427e69b",
              "IPY_MODEL_14aa13c1d51e477683872eba9e85ccfe"
            ],
            "layout": "IPY_MODEL_791342b332fb407a965059da4b2a0a81"
          }
        },
        "3c56b68ec7904bf8889de2ca50ee42ad": {
          "model_module": "@jupyter-widgets/controls",
          "model_name": "HTMLModel",
          "model_module_version": "1.5.0",
          "state": {
            "_dom_classes": [],
            "_model_module": "@jupyter-widgets/controls",
            "_model_module_version": "1.5.0",
            "_model_name": "HTMLModel",
            "_view_count": null,
            "_view_module": "@jupyter-widgets/controls",
            "_view_module_version": "1.5.0",
            "_view_name": "HTMLView",
            "description": "",
            "description_tooltip": null,
            "layout": "IPY_MODEL_fb3693902aea4ac9b91936d4f2c75dee",
            "placeholder": "​",
            "style": "IPY_MODEL_01a2af672af94a6a8294e9b5c39e97a8",
            "value": "Downloading metadata: "
          }
        },
        "7adb8af82a6f4150a04a1f9ea427e69b": {
          "model_module": "@jupyter-widgets/controls",
          "model_name": "FloatProgressModel",
          "model_module_version": "1.5.0",
          "state": {
            "_dom_classes": [],
            "_model_module": "@jupyter-widgets/controls",
            "_model_module_version": "1.5.0",
            "_model_name": "FloatProgressModel",
            "_view_count": null,
            "_view_module": "@jupyter-widgets/controls",
            "_view_module_version": "1.5.0",
            "_view_name": "ProgressView",
            "bar_style": "success",
            "description": "",
            "description_tooltip": null,
            "layout": "IPY_MODEL_4dc9be548a82499d9194645df0947cf4",
            "max": 2932,
            "min": 0,
            "orientation": "horizontal",
            "style": "IPY_MODEL_0667622fae274b30ae5c728ebf16dacb",
            "value": 2932
          }
        },
        "14aa13c1d51e477683872eba9e85ccfe": {
          "model_module": "@jupyter-widgets/controls",
          "model_name": "HTMLModel",
          "model_module_version": "1.5.0",
          "state": {
            "_dom_classes": [],
            "_model_module": "@jupyter-widgets/controls",
            "_model_module_version": "1.5.0",
            "_model_name": "HTMLModel",
            "_view_count": null,
            "_view_module": "@jupyter-widgets/controls",
            "_view_module_version": "1.5.0",
            "_view_name": "HTMLView",
            "description": "",
            "description_tooltip": null,
            "layout": "IPY_MODEL_2482946a5cf849f295faf1d048f9d175",
            "placeholder": "​",
            "style": "IPY_MODEL_3057c4abbbf54ff0b107a003b3c620f3",
            "value": " 22.7k/? [00:00&lt;00:00, 667kB/s]"
          }
        },
        "791342b332fb407a965059da4b2a0a81": {
          "model_module": "@jupyter-widgets/base",
          "model_name": "LayoutModel",
          "model_module_version": "1.2.0",
          "state": {
            "_model_module": "@jupyter-widgets/base",
            "_model_module_version": "1.2.0",
            "_model_name": "LayoutModel",
            "_view_count": null,
            "_view_module": "@jupyter-widgets/base",
            "_view_module_version": "1.2.0",
            "_view_name": "LayoutView",
            "align_content": null,
            "align_items": null,
            "align_self": null,
            "border": null,
            "bottom": null,
            "display": null,
            "flex": null,
            "flex_flow": null,
            "grid_area": null,
            "grid_auto_columns": null,
            "grid_auto_flow": null,
            "grid_auto_rows": null,
            "grid_column": null,
            "grid_gap": null,
            "grid_row": null,
            "grid_template_areas": null,
            "grid_template_columns": null,
            "grid_template_rows": null,
            "height": null,
            "justify_content": null,
            "justify_items": null,
            "left": null,
            "margin": null,
            "max_height": null,
            "max_width": null,
            "min_height": null,
            "min_width": null,
            "object_fit": null,
            "object_position": null,
            "order": null,
            "overflow": null,
            "overflow_x": null,
            "overflow_y": null,
            "padding": null,
            "right": null,
            "top": null,
            "visibility": null,
            "width": null
          }
        },
        "fb3693902aea4ac9b91936d4f2c75dee": {
          "model_module": "@jupyter-widgets/base",
          "model_name": "LayoutModel",
          "model_module_version": "1.2.0",
          "state": {
            "_model_module": "@jupyter-widgets/base",
            "_model_module_version": "1.2.0",
            "_model_name": "LayoutModel",
            "_view_count": null,
            "_view_module": "@jupyter-widgets/base",
            "_view_module_version": "1.2.0",
            "_view_name": "LayoutView",
            "align_content": null,
            "align_items": null,
            "align_self": null,
            "border": null,
            "bottom": null,
            "display": null,
            "flex": null,
            "flex_flow": null,
            "grid_area": null,
            "grid_auto_columns": null,
            "grid_auto_flow": null,
            "grid_auto_rows": null,
            "grid_column": null,
            "grid_gap": null,
            "grid_row": null,
            "grid_template_areas": null,
            "grid_template_columns": null,
            "grid_template_rows": null,
            "height": null,
            "justify_content": null,
            "justify_items": null,
            "left": null,
            "margin": null,
            "max_height": null,
            "max_width": null,
            "min_height": null,
            "min_width": null,
            "object_fit": null,
            "object_position": null,
            "order": null,
            "overflow": null,
            "overflow_x": null,
            "overflow_y": null,
            "padding": null,
            "right": null,
            "top": null,
            "visibility": null,
            "width": null
          }
        },
        "01a2af672af94a6a8294e9b5c39e97a8": {
          "model_module": "@jupyter-widgets/controls",
          "model_name": "DescriptionStyleModel",
          "model_module_version": "1.5.0",
          "state": {
            "_model_module": "@jupyter-widgets/controls",
            "_model_module_version": "1.5.0",
            "_model_name": "DescriptionStyleModel",
            "_view_count": null,
            "_view_module": "@jupyter-widgets/base",
            "_view_module_version": "1.2.0",
            "_view_name": "StyleView",
            "description_width": ""
          }
        },
        "4dc9be548a82499d9194645df0947cf4": {
          "model_module": "@jupyter-widgets/base",
          "model_name": "LayoutModel",
          "model_module_version": "1.2.0",
          "state": {
            "_model_module": "@jupyter-widgets/base",
            "_model_module_version": "1.2.0",
            "_model_name": "LayoutModel",
            "_view_count": null,
            "_view_module": "@jupyter-widgets/base",
            "_view_module_version": "1.2.0",
            "_view_name": "LayoutView",
            "align_content": null,
            "align_items": null,
            "align_self": null,
            "border": null,
            "bottom": null,
            "display": null,
            "flex": null,
            "flex_flow": null,
            "grid_area": null,
            "grid_auto_columns": null,
            "grid_auto_flow": null,
            "grid_auto_rows": null,
            "grid_column": null,
            "grid_gap": null,
            "grid_row": null,
            "grid_template_areas": null,
            "grid_template_columns": null,
            "grid_template_rows": null,
            "height": null,
            "justify_content": null,
            "justify_items": null,
            "left": null,
            "margin": null,
            "max_height": null,
            "max_width": null,
            "min_height": null,
            "min_width": null,
            "object_fit": null,
            "object_position": null,
            "order": null,
            "overflow": null,
            "overflow_x": null,
            "overflow_y": null,
            "padding": null,
            "right": null,
            "top": null,
            "visibility": null,
            "width": null
          }
        },
        "0667622fae274b30ae5c728ebf16dacb": {
          "model_module": "@jupyter-widgets/controls",
          "model_name": "ProgressStyleModel",
          "model_module_version": "1.5.0",
          "state": {
            "_model_module": "@jupyter-widgets/controls",
            "_model_module_version": "1.5.0",
            "_model_name": "ProgressStyleModel",
            "_view_count": null,
            "_view_module": "@jupyter-widgets/base",
            "_view_module_version": "1.2.0",
            "_view_name": "StyleView",
            "bar_color": null,
            "description_width": ""
          }
        },
        "2482946a5cf849f295faf1d048f9d175": {
          "model_module": "@jupyter-widgets/base",
          "model_name": "LayoutModel",
          "model_module_version": "1.2.0",
          "state": {
            "_model_module": "@jupyter-widgets/base",
            "_model_module_version": "1.2.0",
            "_model_name": "LayoutModel",
            "_view_count": null,
            "_view_module": "@jupyter-widgets/base",
            "_view_module_version": "1.2.0",
            "_view_name": "LayoutView",
            "align_content": null,
            "align_items": null,
            "align_self": null,
            "border": null,
            "bottom": null,
            "display": null,
            "flex": null,
            "flex_flow": null,
            "grid_area": null,
            "grid_auto_columns": null,
            "grid_auto_flow": null,
            "grid_auto_rows": null,
            "grid_column": null,
            "grid_gap": null,
            "grid_row": null,
            "grid_template_areas": null,
            "grid_template_columns": null,
            "grid_template_rows": null,
            "height": null,
            "justify_content": null,
            "justify_items": null,
            "left": null,
            "margin": null,
            "max_height": null,
            "max_width": null,
            "min_height": null,
            "min_width": null,
            "object_fit": null,
            "object_position": null,
            "order": null,
            "overflow": null,
            "overflow_x": null,
            "overflow_y": null,
            "padding": null,
            "right": null,
            "top": null,
            "visibility": null,
            "width": null
          }
        },
        "3057c4abbbf54ff0b107a003b3c620f3": {
          "model_module": "@jupyter-widgets/controls",
          "model_name": "DescriptionStyleModel",
          "model_module_version": "1.5.0",
          "state": {
            "_model_module": "@jupyter-widgets/controls",
            "_model_module_version": "1.5.0",
            "_model_name": "DescriptionStyleModel",
            "_view_count": null,
            "_view_module": "@jupyter-widgets/base",
            "_view_module_version": "1.2.0",
            "_view_name": "StyleView",
            "description_width": ""
          }
        },
        "1f36d30c7a1740a5a3701c01e6b9dac1": {
          "model_module": "@jupyter-widgets/controls",
          "model_name": "HBoxModel",
          "model_module_version": "1.5.0",
          "state": {
            "_dom_classes": [],
            "_model_module": "@jupyter-widgets/controls",
            "_model_module_version": "1.5.0",
            "_model_name": "HBoxModel",
            "_view_count": null,
            "_view_module": "@jupyter-widgets/controls",
            "_view_module_version": "1.5.0",
            "_view_name": "HBoxView",
            "box_style": "",
            "children": [
              "IPY_MODEL_fe583213f3c14c919f67fb2903575537",
              "IPY_MODEL_82da878f33084b6ba3760ae7911e0e62",
              "IPY_MODEL_501568021eb04929bed19fd37784fa81"
            ],
            "layout": "IPY_MODEL_9115cdc6df6e4d9b907307799a84a4de"
          }
        },
        "fe583213f3c14c919f67fb2903575537": {
          "model_module": "@jupyter-widgets/controls",
          "model_name": "HTMLModel",
          "model_module_version": "1.5.0",
          "state": {
            "_dom_classes": [],
            "_model_module": "@jupyter-widgets/controls",
            "_model_module_version": "1.5.0",
            "_model_name": "HTMLModel",
            "_view_count": null,
            "_view_module": "@jupyter-widgets/controls",
            "_view_module_version": "1.5.0",
            "_view_name": "HTMLView",
            "description": "",
            "description_tooltip": null,
            "layout": "IPY_MODEL_13240915e61647c28f887b7ee08e7fb0",
            "placeholder": "​",
            "style": "IPY_MODEL_5cab29235c6f441b9defe06cd770baf2",
            "value": "Downloading data: 100%"
          }
        },
        "82da878f33084b6ba3760ae7911e0e62": {
          "model_module": "@jupyter-widgets/controls",
          "model_name": "FloatProgressModel",
          "model_module_version": "1.5.0",
          "state": {
            "_dom_classes": [],
            "_model_module": "@jupyter-widgets/controls",
            "_model_module_version": "1.5.0",
            "_model_name": "FloatProgressModel",
            "_view_count": null,
            "_view_module": "@jupyter-widgets/controls",
            "_view_module_version": "1.5.0",
            "_view_name": "ProgressView",
            "bar_style": "success",
            "description": "",
            "description_tooltip": null,
            "layout": "IPY_MODEL_a7a306ee13d14b1cbbc49caaeaec9d96",
            "max": 1349875,
            "min": 0,
            "orientation": "horizontal",
            "style": "IPY_MODEL_cca199bdc629420185c34762e9925ad1",
            "value": 1349875
          }
        },
        "501568021eb04929bed19fd37784fa81": {
          "model_module": "@jupyter-widgets/controls",
          "model_name": "HTMLModel",
          "model_module_version": "1.5.0",
          "state": {
            "_dom_classes": [],
            "_model_module": "@jupyter-widgets/controls",
            "_model_module_version": "1.5.0",
            "_model_name": "HTMLModel",
            "_view_count": null,
            "_view_module": "@jupyter-widgets/controls",
            "_view_module_version": "1.5.0",
            "_view_name": "HTMLView",
            "description": "",
            "description_tooltip": null,
            "layout": "IPY_MODEL_767cc695bc374d38b6eafd04dcf6972a",
            "placeholder": "​",
            "style": "IPY_MODEL_98fe56ee1bf3462fbf7c697dec694e8d",
            "value": " 1.35M/1.35M [00:00&lt;00:00, 2.70MB/s]"
          }
        },
        "9115cdc6df6e4d9b907307799a84a4de": {
          "model_module": "@jupyter-widgets/base",
          "model_name": "LayoutModel",
          "model_module_version": "1.2.0",
          "state": {
            "_model_module": "@jupyter-widgets/base",
            "_model_module_version": "1.2.0",
            "_model_name": "LayoutModel",
            "_view_count": null,
            "_view_module": "@jupyter-widgets/base",
            "_view_module_version": "1.2.0",
            "_view_name": "LayoutView",
            "align_content": null,
            "align_items": null,
            "align_self": null,
            "border": null,
            "bottom": null,
            "display": null,
            "flex": null,
            "flex_flow": null,
            "grid_area": null,
            "grid_auto_columns": null,
            "grid_auto_flow": null,
            "grid_auto_rows": null,
            "grid_column": null,
            "grid_gap": null,
            "grid_row": null,
            "grid_template_areas": null,
            "grid_template_columns": null,
            "grid_template_rows": null,
            "height": null,
            "justify_content": null,
            "justify_items": null,
            "left": null,
            "margin": null,
            "max_height": null,
            "max_width": null,
            "min_height": null,
            "min_width": null,
            "object_fit": null,
            "object_position": null,
            "order": null,
            "overflow": null,
            "overflow_x": null,
            "overflow_y": null,
            "padding": null,
            "right": null,
            "top": null,
            "visibility": null,
            "width": null
          }
        },
        "13240915e61647c28f887b7ee08e7fb0": {
          "model_module": "@jupyter-widgets/base",
          "model_name": "LayoutModel",
          "model_module_version": "1.2.0",
          "state": {
            "_model_module": "@jupyter-widgets/base",
            "_model_module_version": "1.2.0",
            "_model_name": "LayoutModel",
            "_view_count": null,
            "_view_module": "@jupyter-widgets/base",
            "_view_module_version": "1.2.0",
            "_view_name": "LayoutView",
            "align_content": null,
            "align_items": null,
            "align_self": null,
            "border": null,
            "bottom": null,
            "display": null,
            "flex": null,
            "flex_flow": null,
            "grid_area": null,
            "grid_auto_columns": null,
            "grid_auto_flow": null,
            "grid_auto_rows": null,
            "grid_column": null,
            "grid_gap": null,
            "grid_row": null,
            "grid_template_areas": null,
            "grid_template_columns": null,
            "grid_template_rows": null,
            "height": null,
            "justify_content": null,
            "justify_items": null,
            "left": null,
            "margin": null,
            "max_height": null,
            "max_width": null,
            "min_height": null,
            "min_width": null,
            "object_fit": null,
            "object_position": null,
            "order": null,
            "overflow": null,
            "overflow_x": null,
            "overflow_y": null,
            "padding": null,
            "right": null,
            "top": null,
            "visibility": null,
            "width": null
          }
        },
        "5cab29235c6f441b9defe06cd770baf2": {
          "model_module": "@jupyter-widgets/controls",
          "model_name": "DescriptionStyleModel",
          "model_module_version": "1.5.0",
          "state": {
            "_model_module": "@jupyter-widgets/controls",
            "_model_module_version": "1.5.0",
            "_model_name": "DescriptionStyleModel",
            "_view_count": null,
            "_view_module": "@jupyter-widgets/base",
            "_view_module_version": "1.2.0",
            "_view_name": "StyleView",
            "description_width": ""
          }
        },
        "a7a306ee13d14b1cbbc49caaeaec9d96": {
          "model_module": "@jupyter-widgets/base",
          "model_name": "LayoutModel",
          "model_module_version": "1.2.0",
          "state": {
            "_model_module": "@jupyter-widgets/base",
            "_model_module_version": "1.2.0",
            "_model_name": "LayoutModel",
            "_view_count": null,
            "_view_module": "@jupyter-widgets/base",
            "_view_module_version": "1.2.0",
            "_view_name": "LayoutView",
            "align_content": null,
            "align_items": null,
            "align_self": null,
            "border": null,
            "bottom": null,
            "display": null,
            "flex": null,
            "flex_flow": null,
            "grid_area": null,
            "grid_auto_columns": null,
            "grid_auto_flow": null,
            "grid_auto_rows": null,
            "grid_column": null,
            "grid_gap": null,
            "grid_row": null,
            "grid_template_areas": null,
            "grid_template_columns": null,
            "grid_template_rows": null,
            "height": null,
            "justify_content": null,
            "justify_items": null,
            "left": null,
            "margin": null,
            "max_height": null,
            "max_width": null,
            "min_height": null,
            "min_width": null,
            "object_fit": null,
            "object_position": null,
            "order": null,
            "overflow": null,
            "overflow_x": null,
            "overflow_y": null,
            "padding": null,
            "right": null,
            "top": null,
            "visibility": null,
            "width": null
          }
        },
        "cca199bdc629420185c34762e9925ad1": {
          "model_module": "@jupyter-widgets/controls",
          "model_name": "ProgressStyleModel",
          "model_module_version": "1.5.0",
          "state": {
            "_model_module": "@jupyter-widgets/controls",
            "_model_module_version": "1.5.0",
            "_model_name": "ProgressStyleModel",
            "_view_count": null,
            "_view_module": "@jupyter-widgets/base",
            "_view_module_version": "1.2.0",
            "_view_name": "StyleView",
            "bar_color": null,
            "description_width": ""
          }
        },
        "767cc695bc374d38b6eafd04dcf6972a": {
          "model_module": "@jupyter-widgets/base",
          "model_name": "LayoutModel",
          "model_module_version": "1.2.0",
          "state": {
            "_model_module": "@jupyter-widgets/base",
            "_model_module_version": "1.2.0",
            "_model_name": "LayoutModel",
            "_view_count": null,
            "_view_module": "@jupyter-widgets/base",
            "_view_module_version": "1.2.0",
            "_view_name": "LayoutView",
            "align_content": null,
            "align_items": null,
            "align_self": null,
            "border": null,
            "bottom": null,
            "display": null,
            "flex": null,
            "flex_flow": null,
            "grid_area": null,
            "grid_auto_columns": null,
            "grid_auto_flow": null,
            "grid_auto_rows": null,
            "grid_column": null,
            "grid_gap": null,
            "grid_row": null,
            "grid_template_areas": null,
            "grid_template_columns": null,
            "grid_template_rows": null,
            "height": null,
            "justify_content": null,
            "justify_items": null,
            "left": null,
            "margin": null,
            "max_height": null,
            "max_width": null,
            "min_height": null,
            "min_width": null,
            "object_fit": null,
            "object_position": null,
            "order": null,
            "overflow": null,
            "overflow_x": null,
            "overflow_y": null,
            "padding": null,
            "right": null,
            "top": null,
            "visibility": null,
            "width": null
          }
        },
        "98fe56ee1bf3462fbf7c697dec694e8d": {
          "model_module": "@jupyter-widgets/controls",
          "model_name": "DescriptionStyleModel",
          "model_module_version": "1.5.0",
          "state": {
            "_model_module": "@jupyter-widgets/controls",
            "_model_module_version": "1.5.0",
            "_model_name": "DescriptionStyleModel",
            "_view_count": null,
            "_view_module": "@jupyter-widgets/base",
            "_view_module_version": "1.2.0",
            "_view_name": "StyleView",
            "description_width": ""
          }
        },
        "6a382e2394ae4d4f9bcc0b0711c959de": {
          "model_module": "@jupyter-widgets/controls",
          "model_name": "HBoxModel",
          "model_module_version": "1.5.0",
          "state": {
            "_dom_classes": [],
            "_model_module": "@jupyter-widgets/controls",
            "_model_module_version": "1.5.0",
            "_model_name": "HBoxModel",
            "_view_count": null,
            "_view_module": "@jupyter-widgets/controls",
            "_view_module_version": "1.5.0",
            "_view_name": "HBoxView",
            "box_style": "",
            "children": [
              "IPY_MODEL_84120c6151414e0e8f1ad54bf9f09275",
              "IPY_MODEL_56fdb25eb54a4e1ea9d13d02fe43d4d7",
              "IPY_MODEL_85128a8000a34833b7bb421fea4b4c83"
            ],
            "layout": "IPY_MODEL_562dfefac01045a598c4b9ed9f2b7ec1"
          }
        },
        "84120c6151414e0e8f1ad54bf9f09275": {
          "model_module": "@jupyter-widgets/controls",
          "model_name": "HTMLModel",
          "model_module_version": "1.5.0",
          "state": {
            "_dom_classes": [],
            "_model_module": "@jupyter-widgets/controls",
            "_model_module_version": "1.5.0",
            "_model_name": "HTMLModel",
            "_view_count": null,
            "_view_module": "@jupyter-widgets/controls",
            "_view_module_version": "1.5.0",
            "_view_name": "HTMLView",
            "description": "",
            "description_tooltip": null,
            "layout": "IPY_MODEL_4a0f619357c842d5a33d6037ad6df32e",
            "placeholder": "​",
            "style": "IPY_MODEL_13f3d3ebd119487393d2055ddf31399b",
            "value": "Generating train split:  95%"
          }
        },
        "56fdb25eb54a4e1ea9d13d02fe43d4d7": {
          "model_module": "@jupyter-widgets/controls",
          "model_name": "FloatProgressModel",
          "model_module_version": "1.5.0",
          "state": {
            "_dom_classes": [],
            "_model_module": "@jupyter-widgets/controls",
            "_model_module_version": "1.5.0",
            "_model_name": "FloatProgressModel",
            "_view_count": null,
            "_view_module": "@jupyter-widgets/controls",
            "_view_module_version": "1.5.0",
            "_view_name": "ProgressView",
            "bar_style": "",
            "description": "",
            "description_tooltip": null,
            "layout": "IPY_MODEL_b7bfa8b5c0d84935b883374e37045d51",
            "max": 11668,
            "min": 0,
            "orientation": "horizontal",
            "style": "IPY_MODEL_168064435371408cae6f57939ab684ce",
            "value": 11668
          }
        },
        "85128a8000a34833b7bb421fea4b4c83": {
          "model_module": "@jupyter-widgets/controls",
          "model_name": "HTMLModel",
          "model_module_version": "1.5.0",
          "state": {
            "_dom_classes": [],
            "_model_module": "@jupyter-widgets/controls",
            "_model_module_version": "1.5.0",
            "_model_name": "HTMLModel",
            "_view_count": null,
            "_view_module": "@jupyter-widgets/controls",
            "_view_module_version": "1.5.0",
            "_view_name": "HTMLView",
            "description": "",
            "description_tooltip": null,
            "layout": "IPY_MODEL_0be51e73cad54a08baafc82ecbe44a53",
            "placeholder": "​",
            "style": "IPY_MODEL_59a30e852da041cb92f4cf1ae96acfb8",
            "value": " 11087/11668 [00:01&lt;00:00, 10210.28 examples/s]"
          }
        },
        "562dfefac01045a598c4b9ed9f2b7ec1": {
          "model_module": "@jupyter-widgets/base",
          "model_name": "LayoutModel",
          "model_module_version": "1.2.0",
          "state": {
            "_model_module": "@jupyter-widgets/base",
            "_model_module_version": "1.2.0",
            "_model_name": "LayoutModel",
            "_view_count": null,
            "_view_module": "@jupyter-widgets/base",
            "_view_module_version": "1.2.0",
            "_view_name": "LayoutView",
            "align_content": null,
            "align_items": null,
            "align_self": null,
            "border": null,
            "bottom": null,
            "display": null,
            "flex": null,
            "flex_flow": null,
            "grid_area": null,
            "grid_auto_columns": null,
            "grid_auto_flow": null,
            "grid_auto_rows": null,
            "grid_column": null,
            "grid_gap": null,
            "grid_row": null,
            "grid_template_areas": null,
            "grid_template_columns": null,
            "grid_template_rows": null,
            "height": null,
            "justify_content": null,
            "justify_items": null,
            "left": null,
            "margin": null,
            "max_height": null,
            "max_width": null,
            "min_height": null,
            "min_width": null,
            "object_fit": null,
            "object_position": null,
            "order": null,
            "overflow": null,
            "overflow_x": null,
            "overflow_y": null,
            "padding": null,
            "right": null,
            "top": null,
            "visibility": null,
            "width": null
          }
        },
        "4a0f619357c842d5a33d6037ad6df32e": {
          "model_module": "@jupyter-widgets/base",
          "model_name": "LayoutModel",
          "model_module_version": "1.2.0",
          "state": {
            "_model_module": "@jupyter-widgets/base",
            "_model_module_version": "1.2.0",
            "_model_name": "LayoutModel",
            "_view_count": null,
            "_view_module": "@jupyter-widgets/base",
            "_view_module_version": "1.2.0",
            "_view_name": "LayoutView",
            "align_content": null,
            "align_items": null,
            "align_self": null,
            "border": null,
            "bottom": null,
            "display": null,
            "flex": null,
            "flex_flow": null,
            "grid_area": null,
            "grid_auto_columns": null,
            "grid_auto_flow": null,
            "grid_auto_rows": null,
            "grid_column": null,
            "grid_gap": null,
            "grid_row": null,
            "grid_template_areas": null,
            "grid_template_columns": null,
            "grid_template_rows": null,
            "height": null,
            "justify_content": null,
            "justify_items": null,
            "left": null,
            "margin": null,
            "max_height": null,
            "max_width": null,
            "min_height": null,
            "min_width": null,
            "object_fit": null,
            "object_position": null,
            "order": null,
            "overflow": null,
            "overflow_x": null,
            "overflow_y": null,
            "padding": null,
            "right": null,
            "top": null,
            "visibility": null,
            "width": null
          }
        },
        "13f3d3ebd119487393d2055ddf31399b": {
          "model_module": "@jupyter-widgets/controls",
          "model_name": "DescriptionStyleModel",
          "model_module_version": "1.5.0",
          "state": {
            "_model_module": "@jupyter-widgets/controls",
            "_model_module_version": "1.5.0",
            "_model_name": "DescriptionStyleModel",
            "_view_count": null,
            "_view_module": "@jupyter-widgets/base",
            "_view_module_version": "1.2.0",
            "_view_name": "StyleView",
            "description_width": ""
          }
        },
        "b7bfa8b5c0d84935b883374e37045d51": {
          "model_module": "@jupyter-widgets/base",
          "model_name": "LayoutModel",
          "model_module_version": "1.2.0",
          "state": {
            "_model_module": "@jupyter-widgets/base",
            "_model_module_version": "1.2.0",
            "_model_name": "LayoutModel",
            "_view_count": null,
            "_view_module": "@jupyter-widgets/base",
            "_view_module_version": "1.2.0",
            "_view_name": "LayoutView",
            "align_content": null,
            "align_items": null,
            "align_self": null,
            "border": null,
            "bottom": null,
            "display": null,
            "flex": null,
            "flex_flow": null,
            "grid_area": null,
            "grid_auto_columns": null,
            "grid_auto_flow": null,
            "grid_auto_rows": null,
            "grid_column": null,
            "grid_gap": null,
            "grid_row": null,
            "grid_template_areas": null,
            "grid_template_columns": null,
            "grid_template_rows": null,
            "height": null,
            "justify_content": null,
            "justify_items": null,
            "left": null,
            "margin": null,
            "max_height": null,
            "max_width": null,
            "min_height": null,
            "min_width": null,
            "object_fit": null,
            "object_position": null,
            "order": null,
            "overflow": null,
            "overflow_x": null,
            "overflow_y": null,
            "padding": null,
            "right": null,
            "top": null,
            "visibility": null,
            "width": null
          }
        },
        "168064435371408cae6f57939ab684ce": {
          "model_module": "@jupyter-widgets/controls",
          "model_name": "ProgressStyleModel",
          "model_module_version": "1.5.0",
          "state": {
            "_model_module": "@jupyter-widgets/controls",
            "_model_module_version": "1.5.0",
            "_model_name": "ProgressStyleModel",
            "_view_count": null,
            "_view_module": "@jupyter-widgets/base",
            "_view_module_version": "1.2.0",
            "_view_name": "StyleView",
            "bar_color": null,
            "description_width": ""
          }
        },
        "0be51e73cad54a08baafc82ecbe44a53": {
          "model_module": "@jupyter-widgets/base",
          "model_name": "LayoutModel",
          "model_module_version": "1.2.0",
          "state": {
            "_model_module": "@jupyter-widgets/base",
            "_model_module_version": "1.2.0",
            "_model_name": "LayoutModel",
            "_view_count": null,
            "_view_module": "@jupyter-widgets/base",
            "_view_module_version": "1.2.0",
            "_view_name": "LayoutView",
            "align_content": null,
            "align_items": null,
            "align_self": null,
            "border": null,
            "bottom": null,
            "display": null,
            "flex": null,
            "flex_flow": null,
            "grid_area": null,
            "grid_auto_columns": null,
            "grid_auto_flow": null,
            "grid_auto_rows": null,
            "grid_column": null,
            "grid_gap": null,
            "grid_row": null,
            "grid_template_areas": null,
            "grid_template_columns": null,
            "grid_template_rows": null,
            "height": null,
            "justify_content": null,
            "justify_items": null,
            "left": null,
            "margin": null,
            "max_height": null,
            "max_width": null,
            "min_height": null,
            "min_width": null,
            "object_fit": null,
            "object_position": null,
            "order": null,
            "overflow": null,
            "overflow_x": null,
            "overflow_y": null,
            "padding": null,
            "right": null,
            "top": null,
            "visibility": null,
            "width": null
          }
        },
        "59a30e852da041cb92f4cf1ae96acfb8": {
          "model_module": "@jupyter-widgets/controls",
          "model_name": "DescriptionStyleModel",
          "model_module_version": "1.5.0",
          "state": {
            "_model_module": "@jupyter-widgets/controls",
            "_model_module_version": "1.5.0",
            "_model_name": "DescriptionStyleModel",
            "_view_count": null,
            "_view_module": "@jupyter-widgets/base",
            "_view_module_version": "1.2.0",
            "_view_name": "StyleView",
            "description_width": ""
          }
        },
        "023e63ea1bab44f7b928c618963a193e": {
          "model_module": "@jupyter-widgets/controls",
          "model_name": "HBoxModel",
          "model_module_version": "1.5.0",
          "state": {
            "_dom_classes": [],
            "_model_module": "@jupyter-widgets/controls",
            "_model_module_version": "1.5.0",
            "_model_name": "HBoxModel",
            "_view_count": null,
            "_view_module": "@jupyter-widgets/controls",
            "_view_module_version": "1.5.0",
            "_view_name": "HBoxView",
            "box_style": "",
            "children": [
              "IPY_MODEL_f5aa198ec4264973a49636a5108a830d",
              "IPY_MODEL_6939a5160a244ce18f330d1b50650fec",
              "IPY_MODEL_a5cebfbf54e04bf1a0cdce840f49fbce"
            ],
            "layout": "IPY_MODEL_1cc24ff18f2d4f3ca12817f52c2ede21"
          }
        },
        "f5aa198ec4264973a49636a5108a830d": {
          "model_module": "@jupyter-widgets/controls",
          "model_name": "HTMLModel",
          "model_module_version": "1.5.0",
          "state": {
            "_dom_classes": [],
            "_model_module": "@jupyter-widgets/controls",
            "_model_module_version": "1.5.0",
            "_model_name": "HTMLModel",
            "_view_count": null,
            "_view_module": "@jupyter-widgets/controls",
            "_view_module_version": "1.5.0",
            "_view_name": "HTMLView",
            "description": "",
            "description_tooltip": null,
            "layout": "IPY_MODEL_c3c04140659a4c07b0508c440f482386",
            "placeholder": "​",
            "style": "IPY_MODEL_42bdd55b44774d6683cf92ede3cb3e6c",
            "value": "Generating validation split:  98%"
          }
        },
        "6939a5160a244ce18f330d1b50650fec": {
          "model_module": "@jupyter-widgets/controls",
          "model_name": "FloatProgressModel",
          "model_module_version": "1.5.0",
          "state": {
            "_dom_classes": [],
            "_model_module": "@jupyter-widgets/controls",
            "_model_module_version": "1.5.0",
            "_model_name": "FloatProgressModel",
            "_view_count": null,
            "_view_module": "@jupyter-widgets/controls",
            "_view_module_version": "1.5.0",
            "_view_name": "ProgressView",
            "bar_style": "",
            "description": "",
            "description_tooltip": null,
            "layout": "IPY_MODEL_d753d8dedc5c4c129ae6e4a62c2e19af",
            "max": 519,
            "min": 0,
            "orientation": "horizontal",
            "style": "IPY_MODEL_100056b9567d4869bf3b508fa2772fd3",
            "value": 519
          }
        },
        "a5cebfbf54e04bf1a0cdce840f49fbce": {
          "model_module": "@jupyter-widgets/controls",
          "model_name": "HTMLModel",
          "model_module_version": "1.5.0",
          "state": {
            "_dom_classes": [],
            "_model_module": "@jupyter-widgets/controls",
            "_model_module_version": "1.5.0",
            "_model_name": "HTMLModel",
            "_view_count": null,
            "_view_module": "@jupyter-widgets/controls",
            "_view_module_version": "1.5.0",
            "_view_name": "HTMLView",
            "description": "",
            "description_tooltip": null,
            "layout": "IPY_MODEL_838767857a534c238d1d3563b94bcdbb",
            "placeholder": "​",
            "style": "IPY_MODEL_e012b7a9a2f7444facca0a2da5815a31",
            "value": " 511/519 [00:00&lt;00:00, 5107.56 examples/s]"
          }
        },
        "1cc24ff18f2d4f3ca12817f52c2ede21": {
          "model_module": "@jupyter-widgets/base",
          "model_name": "LayoutModel",
          "model_module_version": "1.2.0",
          "state": {
            "_model_module": "@jupyter-widgets/base",
            "_model_module_version": "1.2.0",
            "_model_name": "LayoutModel",
            "_view_count": null,
            "_view_module": "@jupyter-widgets/base",
            "_view_module_version": "1.2.0",
            "_view_name": "LayoutView",
            "align_content": null,
            "align_items": null,
            "align_self": null,
            "border": null,
            "bottom": null,
            "display": null,
            "flex": null,
            "flex_flow": null,
            "grid_area": null,
            "grid_auto_columns": null,
            "grid_auto_flow": null,
            "grid_auto_rows": null,
            "grid_column": null,
            "grid_gap": null,
            "grid_row": null,
            "grid_template_areas": null,
            "grid_template_columns": null,
            "grid_template_rows": null,
            "height": null,
            "justify_content": null,
            "justify_items": null,
            "left": null,
            "margin": null,
            "max_height": null,
            "max_width": null,
            "min_height": null,
            "min_width": null,
            "object_fit": null,
            "object_position": null,
            "order": null,
            "overflow": null,
            "overflow_x": null,
            "overflow_y": null,
            "padding": null,
            "right": null,
            "top": null,
            "visibility": null,
            "width": null
          }
        },
        "c3c04140659a4c07b0508c440f482386": {
          "model_module": "@jupyter-widgets/base",
          "model_name": "LayoutModel",
          "model_module_version": "1.2.0",
          "state": {
            "_model_module": "@jupyter-widgets/base",
            "_model_module_version": "1.2.0",
            "_model_name": "LayoutModel",
            "_view_count": null,
            "_view_module": "@jupyter-widgets/base",
            "_view_module_version": "1.2.0",
            "_view_name": "LayoutView",
            "align_content": null,
            "align_items": null,
            "align_self": null,
            "border": null,
            "bottom": null,
            "display": null,
            "flex": null,
            "flex_flow": null,
            "grid_area": null,
            "grid_auto_columns": null,
            "grid_auto_flow": null,
            "grid_auto_rows": null,
            "grid_column": null,
            "grid_gap": null,
            "grid_row": null,
            "grid_template_areas": null,
            "grid_template_columns": null,
            "grid_template_rows": null,
            "height": null,
            "justify_content": null,
            "justify_items": null,
            "left": null,
            "margin": null,
            "max_height": null,
            "max_width": null,
            "min_height": null,
            "min_width": null,
            "object_fit": null,
            "object_position": null,
            "order": null,
            "overflow": null,
            "overflow_x": null,
            "overflow_y": null,
            "padding": null,
            "right": null,
            "top": null,
            "visibility": null,
            "width": null
          }
        },
        "42bdd55b44774d6683cf92ede3cb3e6c": {
          "model_module": "@jupyter-widgets/controls",
          "model_name": "DescriptionStyleModel",
          "model_module_version": "1.5.0",
          "state": {
            "_model_module": "@jupyter-widgets/controls",
            "_model_module_version": "1.5.0",
            "_model_name": "DescriptionStyleModel",
            "_view_count": null,
            "_view_module": "@jupyter-widgets/base",
            "_view_module_version": "1.2.0",
            "_view_name": "StyleView",
            "description_width": ""
          }
        },
        "d753d8dedc5c4c129ae6e4a62c2e19af": {
          "model_module": "@jupyter-widgets/base",
          "model_name": "LayoutModel",
          "model_module_version": "1.2.0",
          "state": {
            "_model_module": "@jupyter-widgets/base",
            "_model_module_version": "1.2.0",
            "_model_name": "LayoutModel",
            "_view_count": null,
            "_view_module": "@jupyter-widgets/base",
            "_view_module_version": "1.2.0",
            "_view_name": "LayoutView",
            "align_content": null,
            "align_items": null,
            "align_self": null,
            "border": null,
            "bottom": null,
            "display": null,
            "flex": null,
            "flex_flow": null,
            "grid_area": null,
            "grid_auto_columns": null,
            "grid_auto_flow": null,
            "grid_auto_rows": null,
            "grid_column": null,
            "grid_gap": null,
            "grid_row": null,
            "grid_template_areas": null,
            "grid_template_columns": null,
            "grid_template_rows": null,
            "height": null,
            "justify_content": null,
            "justify_items": null,
            "left": null,
            "margin": null,
            "max_height": null,
            "max_width": null,
            "min_height": null,
            "min_width": null,
            "object_fit": null,
            "object_position": null,
            "order": null,
            "overflow": null,
            "overflow_x": null,
            "overflow_y": null,
            "padding": null,
            "right": null,
            "top": null,
            "visibility": null,
            "width": null
          }
        },
        "100056b9567d4869bf3b508fa2772fd3": {
          "model_module": "@jupyter-widgets/controls",
          "model_name": "ProgressStyleModel",
          "model_module_version": "1.5.0",
          "state": {
            "_model_module": "@jupyter-widgets/controls",
            "_model_module_version": "1.5.0",
            "_model_name": "ProgressStyleModel",
            "_view_count": null,
            "_view_module": "@jupyter-widgets/base",
            "_view_module_version": "1.2.0",
            "_view_name": "StyleView",
            "bar_color": null,
            "description_width": ""
          }
        },
        "838767857a534c238d1d3563b94bcdbb": {
          "model_module": "@jupyter-widgets/base",
          "model_name": "LayoutModel",
          "model_module_version": "1.2.0",
          "state": {
            "_model_module": "@jupyter-widgets/base",
            "_model_module_version": "1.2.0",
            "_model_name": "LayoutModel",
            "_view_count": null,
            "_view_module": "@jupyter-widgets/base",
            "_view_module_version": "1.2.0",
            "_view_name": "LayoutView",
            "align_content": null,
            "align_items": null,
            "align_self": null,
            "border": null,
            "bottom": null,
            "display": null,
            "flex": null,
            "flex_flow": null,
            "grid_area": null,
            "grid_auto_columns": null,
            "grid_auto_flow": null,
            "grid_auto_rows": null,
            "grid_column": null,
            "grid_gap": null,
            "grid_row": null,
            "grid_template_areas": null,
            "grid_template_columns": null,
            "grid_template_rows": null,
            "height": null,
            "justify_content": null,
            "justify_items": null,
            "left": null,
            "margin": null,
            "max_height": null,
            "max_width": null,
            "min_height": null,
            "min_width": null,
            "object_fit": null,
            "object_position": null,
            "order": null,
            "overflow": null,
            "overflow_x": null,
            "overflow_y": null,
            "padding": null,
            "right": null,
            "top": null,
            "visibility": null,
            "width": null
          }
        },
        "e012b7a9a2f7444facca0a2da5815a31": {
          "model_module": "@jupyter-widgets/controls",
          "model_name": "DescriptionStyleModel",
          "model_module_version": "1.5.0",
          "state": {
            "_model_module": "@jupyter-widgets/controls",
            "_model_module_version": "1.5.0",
            "_model_name": "DescriptionStyleModel",
            "_view_count": null,
            "_view_module": "@jupyter-widgets/base",
            "_view_module_version": "1.2.0",
            "_view_name": "StyleView",
            "description_width": ""
          }
        },
        "e279c2556c244d3884fd9806075a0713": {
          "model_module": "@jupyter-widgets/controls",
          "model_name": "HBoxModel",
          "model_module_version": "1.5.0",
          "state": {
            "_dom_classes": [],
            "_model_module": "@jupyter-widgets/controls",
            "_model_module_version": "1.5.0",
            "_model_name": "HBoxModel",
            "_view_count": null,
            "_view_module": "@jupyter-widgets/controls",
            "_view_module_version": "1.5.0",
            "_view_name": "HBoxView",
            "box_style": "",
            "children": [
              "IPY_MODEL_8c32d3cc1a61479dbae8628bf99ef82d",
              "IPY_MODEL_f4dfcce8b47147b4ab6ce2a236e3b0b8",
              "IPY_MODEL_d20fab01630b45a3ba096efacc654180"
            ],
            "layout": "IPY_MODEL_411d631044ee450d820c70fa13abebb8"
          }
        },
        "8c32d3cc1a61479dbae8628bf99ef82d": {
          "model_module": "@jupyter-widgets/controls",
          "model_name": "HTMLModel",
          "model_module_version": "1.5.0",
          "state": {
            "_dom_classes": [],
            "_model_module": "@jupyter-widgets/controls",
            "_model_module_version": "1.5.0",
            "_model_name": "HTMLModel",
            "_view_count": null,
            "_view_module": "@jupyter-widgets/controls",
            "_view_module_version": "1.5.0",
            "_view_name": "HTMLView",
            "description": "",
            "description_tooltip": null,
            "layout": "IPY_MODEL_cc344f5b07f84e8186df0fe3e386ae44",
            "placeholder": "​",
            "style": "IPY_MODEL_dfd34c7270984b84a2d25ebf9c74f130",
            "value": "Downloading: 100%"
          }
        },
        "f4dfcce8b47147b4ab6ce2a236e3b0b8": {
          "model_module": "@jupyter-widgets/controls",
          "model_name": "FloatProgressModel",
          "model_module_version": "1.5.0",
          "state": {
            "_dom_classes": [],
            "_model_module": "@jupyter-widgets/controls",
            "_model_module_version": "1.5.0",
            "_model_name": "FloatProgressModel",
            "_view_count": null,
            "_view_module": "@jupyter-widgets/controls",
            "_view_module_version": "1.5.0",
            "_view_name": "ProgressView",
            "bar_style": "success",
            "description": "",
            "description_tooltip": null,
            "layout": "IPY_MODEL_56f66a57596f49b6b565f0e9aaf906f4",
            "max": 375,
            "min": 0,
            "orientation": "horizontal",
            "style": "IPY_MODEL_236a52811655483f95c87298b2abf085",
            "value": 375
          }
        },
        "d20fab01630b45a3ba096efacc654180": {
          "model_module": "@jupyter-widgets/controls",
          "model_name": "HTMLModel",
          "model_module_version": "1.5.0",
          "state": {
            "_dom_classes": [],
            "_model_module": "@jupyter-widgets/controls",
            "_model_module_version": "1.5.0",
            "_model_name": "HTMLModel",
            "_view_count": null,
            "_view_module": "@jupyter-widgets/controls",
            "_view_module_version": "1.5.0",
            "_view_name": "HTMLView",
            "description": "",
            "description_tooltip": null,
            "layout": "IPY_MODEL_b3e67e17d56f41198772e0da132a2e22",
            "placeholder": "​",
            "style": "IPY_MODEL_32d0196738bd4673a2c0091a11a237bb",
            "value": " 375/375 [00:00&lt;00:00, 11.2kB/s]"
          }
        },
        "411d631044ee450d820c70fa13abebb8": {
          "model_module": "@jupyter-widgets/base",
          "model_name": "LayoutModel",
          "model_module_version": "1.2.0",
          "state": {
            "_model_module": "@jupyter-widgets/base",
            "_model_module_version": "1.2.0",
            "_model_name": "LayoutModel",
            "_view_count": null,
            "_view_module": "@jupyter-widgets/base",
            "_view_module_version": "1.2.0",
            "_view_name": "LayoutView",
            "align_content": null,
            "align_items": null,
            "align_self": null,
            "border": null,
            "bottom": null,
            "display": null,
            "flex": null,
            "flex_flow": null,
            "grid_area": null,
            "grid_auto_columns": null,
            "grid_auto_flow": null,
            "grid_auto_rows": null,
            "grid_column": null,
            "grid_gap": null,
            "grid_row": null,
            "grid_template_areas": null,
            "grid_template_columns": null,
            "grid_template_rows": null,
            "height": null,
            "justify_content": null,
            "justify_items": null,
            "left": null,
            "margin": null,
            "max_height": null,
            "max_width": null,
            "min_height": null,
            "min_width": null,
            "object_fit": null,
            "object_position": null,
            "order": null,
            "overflow": null,
            "overflow_x": null,
            "overflow_y": null,
            "padding": null,
            "right": null,
            "top": null,
            "visibility": null,
            "width": null
          }
        },
        "cc344f5b07f84e8186df0fe3e386ae44": {
          "model_module": "@jupyter-widgets/base",
          "model_name": "LayoutModel",
          "model_module_version": "1.2.0",
          "state": {
            "_model_module": "@jupyter-widgets/base",
            "_model_module_version": "1.2.0",
            "_model_name": "LayoutModel",
            "_view_count": null,
            "_view_module": "@jupyter-widgets/base",
            "_view_module_version": "1.2.0",
            "_view_name": "LayoutView",
            "align_content": null,
            "align_items": null,
            "align_self": null,
            "border": null,
            "bottom": null,
            "display": null,
            "flex": null,
            "flex_flow": null,
            "grid_area": null,
            "grid_auto_columns": null,
            "grid_auto_flow": null,
            "grid_auto_rows": null,
            "grid_column": null,
            "grid_gap": null,
            "grid_row": null,
            "grid_template_areas": null,
            "grid_template_columns": null,
            "grid_template_rows": null,
            "height": null,
            "justify_content": null,
            "justify_items": null,
            "left": null,
            "margin": null,
            "max_height": null,
            "max_width": null,
            "min_height": null,
            "min_width": null,
            "object_fit": null,
            "object_position": null,
            "order": null,
            "overflow": null,
            "overflow_x": null,
            "overflow_y": null,
            "padding": null,
            "right": null,
            "top": null,
            "visibility": null,
            "width": null
          }
        },
        "dfd34c7270984b84a2d25ebf9c74f130": {
          "model_module": "@jupyter-widgets/controls",
          "model_name": "DescriptionStyleModel",
          "model_module_version": "1.5.0",
          "state": {
            "_model_module": "@jupyter-widgets/controls",
            "_model_module_version": "1.5.0",
            "_model_name": "DescriptionStyleModel",
            "_view_count": null,
            "_view_module": "@jupyter-widgets/base",
            "_view_module_version": "1.2.0",
            "_view_name": "StyleView",
            "description_width": ""
          }
        },
        "56f66a57596f49b6b565f0e9aaf906f4": {
          "model_module": "@jupyter-widgets/base",
          "model_name": "LayoutModel",
          "model_module_version": "1.2.0",
          "state": {
            "_model_module": "@jupyter-widgets/base",
            "_model_module_version": "1.2.0",
            "_model_name": "LayoutModel",
            "_view_count": null,
            "_view_module": "@jupyter-widgets/base",
            "_view_module_version": "1.2.0",
            "_view_name": "LayoutView",
            "align_content": null,
            "align_items": null,
            "align_self": null,
            "border": null,
            "bottom": null,
            "display": null,
            "flex": null,
            "flex_flow": null,
            "grid_area": null,
            "grid_auto_columns": null,
            "grid_auto_flow": null,
            "grid_auto_rows": null,
            "grid_column": null,
            "grid_gap": null,
            "grid_row": null,
            "grid_template_areas": null,
            "grid_template_columns": null,
            "grid_template_rows": null,
            "height": null,
            "justify_content": null,
            "justify_items": null,
            "left": null,
            "margin": null,
            "max_height": null,
            "max_width": null,
            "min_height": null,
            "min_width": null,
            "object_fit": null,
            "object_position": null,
            "order": null,
            "overflow": null,
            "overflow_x": null,
            "overflow_y": null,
            "padding": null,
            "right": null,
            "top": null,
            "visibility": null,
            "width": null
          }
        },
        "236a52811655483f95c87298b2abf085": {
          "model_module": "@jupyter-widgets/controls",
          "model_name": "ProgressStyleModel",
          "model_module_version": "1.5.0",
          "state": {
            "_model_module": "@jupyter-widgets/controls",
            "_model_module_version": "1.5.0",
            "_model_name": "ProgressStyleModel",
            "_view_count": null,
            "_view_module": "@jupyter-widgets/base",
            "_view_module_version": "1.2.0",
            "_view_name": "StyleView",
            "bar_color": null,
            "description_width": ""
          }
        },
        "b3e67e17d56f41198772e0da132a2e22": {
          "model_module": "@jupyter-widgets/base",
          "model_name": "LayoutModel",
          "model_module_version": "1.2.0",
          "state": {
            "_model_module": "@jupyter-widgets/base",
            "_model_module_version": "1.2.0",
            "_model_name": "LayoutModel",
            "_view_count": null,
            "_view_module": "@jupyter-widgets/base",
            "_view_module_version": "1.2.0",
            "_view_name": "LayoutView",
            "align_content": null,
            "align_items": null,
            "align_self": null,
            "border": null,
            "bottom": null,
            "display": null,
            "flex": null,
            "flex_flow": null,
            "grid_area": null,
            "grid_auto_columns": null,
            "grid_auto_flow": null,
            "grid_auto_rows": null,
            "grid_column": null,
            "grid_gap": null,
            "grid_row": null,
            "grid_template_areas": null,
            "grid_template_columns": null,
            "grid_template_rows": null,
            "height": null,
            "justify_content": null,
            "justify_items": null,
            "left": null,
            "margin": null,
            "max_height": null,
            "max_width": null,
            "min_height": null,
            "min_width": null,
            "object_fit": null,
            "object_position": null,
            "order": null,
            "overflow": null,
            "overflow_x": null,
            "overflow_y": null,
            "padding": null,
            "right": null,
            "top": null,
            "visibility": null,
            "width": null
          }
        },
        "32d0196738bd4673a2c0091a11a237bb": {
          "model_module": "@jupyter-widgets/controls",
          "model_name": "DescriptionStyleModel",
          "model_module_version": "1.5.0",
          "state": {
            "_model_module": "@jupyter-widgets/controls",
            "_model_module_version": "1.5.0",
            "_model_name": "DescriptionStyleModel",
            "_view_count": null,
            "_view_module": "@jupyter-widgets/base",
            "_view_module_version": "1.2.0",
            "_view_name": "StyleView",
            "description_width": ""
          }
        },
        "0b9f894833824226b2b88985c880ffac": {
          "model_module": "@jupyter-widgets/controls",
          "model_name": "HBoxModel",
          "model_module_version": "1.5.0",
          "state": {
            "_dom_classes": [],
            "_model_module": "@jupyter-widgets/controls",
            "_model_module_version": "1.5.0",
            "_model_name": "HBoxModel",
            "_view_count": null,
            "_view_module": "@jupyter-widgets/controls",
            "_view_module_version": "1.5.0",
            "_view_name": "HBoxView",
            "box_style": "",
            "children": [
              "IPY_MODEL_eb12d0bb3cc1486684829896fa8f60e1",
              "IPY_MODEL_3b4b71df043747f190334143828f793b",
              "IPY_MODEL_179e05b96b314933b2e4be1b3aaa1565"
            ],
            "layout": "IPY_MODEL_3735cce306a74b8eaeb1bf4d31fb24db"
          }
        },
        "eb12d0bb3cc1486684829896fa8f60e1": {
          "model_module": "@jupyter-widgets/controls",
          "model_name": "HTMLModel",
          "model_module_version": "1.5.0",
          "state": {
            "_dom_classes": [],
            "_model_module": "@jupyter-widgets/controls",
            "_model_module_version": "1.5.0",
            "_model_name": "HTMLModel",
            "_view_count": null,
            "_view_module": "@jupyter-widgets/controls",
            "_view_module_version": "1.5.0",
            "_view_name": "HTMLView",
            "description": "",
            "description_tooltip": null,
            "layout": "IPY_MODEL_c62d8f5a11f9492f804c12bcc22e01c7",
            "placeholder": "​",
            "style": "IPY_MODEL_292ef191c847486c8b916898ad4366c7",
            "value": "Downloading: 100%"
          }
        },
        "3b4b71df043747f190334143828f793b": {
          "model_module": "@jupyter-widgets/controls",
          "model_name": "FloatProgressModel",
          "model_module_version": "1.5.0",
          "state": {
            "_dom_classes": [],
            "_model_module": "@jupyter-widgets/controls",
            "_model_module_version": "1.5.0",
            "_model_name": "FloatProgressModel",
            "_view_count": null,
            "_view_module": "@jupyter-widgets/controls",
            "_view_module_version": "1.5.0",
            "_view_name": "ProgressView",
            "bar_style": "success",
            "description": "",
            "description_tooltip": null,
            "layout": "IPY_MODEL_c6b5e2c29b0146f1ada8e77dc02ff4d2",
            "max": 248477,
            "min": 0,
            "orientation": "horizontal",
            "style": "IPY_MODEL_525f2f05c72f4151909bc483c29f2294",
            "value": 248477
          }
        },
        "179e05b96b314933b2e4be1b3aaa1565": {
          "model_module": "@jupyter-widgets/controls",
          "model_name": "HTMLModel",
          "model_module_version": "1.5.0",
          "state": {
            "_dom_classes": [],
            "_model_module": "@jupyter-widgets/controls",
            "_model_module_version": "1.5.0",
            "_model_name": "HTMLModel",
            "_view_count": null,
            "_view_module": "@jupyter-widgets/controls",
            "_view_module_version": "1.5.0",
            "_view_name": "HTMLView",
            "description": "",
            "description_tooltip": null,
            "layout": "IPY_MODEL_7775af37624448188e232902372aa844",
            "placeholder": "​",
            "style": "IPY_MODEL_b4b00dcea59243788c123f95439420e6",
            "value": " 243k/243k [00:00&lt;00:00, 278kB/s]"
          }
        },
        "3735cce306a74b8eaeb1bf4d31fb24db": {
          "model_module": "@jupyter-widgets/base",
          "model_name": "LayoutModel",
          "model_module_version": "1.2.0",
          "state": {
            "_model_module": "@jupyter-widgets/base",
            "_model_module_version": "1.2.0",
            "_model_name": "LayoutModel",
            "_view_count": null,
            "_view_module": "@jupyter-widgets/base",
            "_view_module_version": "1.2.0",
            "_view_name": "LayoutView",
            "align_content": null,
            "align_items": null,
            "align_self": null,
            "border": null,
            "bottom": null,
            "display": null,
            "flex": null,
            "flex_flow": null,
            "grid_area": null,
            "grid_auto_columns": null,
            "grid_auto_flow": null,
            "grid_auto_rows": null,
            "grid_column": null,
            "grid_gap": null,
            "grid_row": null,
            "grid_template_areas": null,
            "grid_template_columns": null,
            "grid_template_rows": null,
            "height": null,
            "justify_content": null,
            "justify_items": null,
            "left": null,
            "margin": null,
            "max_height": null,
            "max_width": null,
            "min_height": null,
            "min_width": null,
            "object_fit": null,
            "object_position": null,
            "order": null,
            "overflow": null,
            "overflow_x": null,
            "overflow_y": null,
            "padding": null,
            "right": null,
            "top": null,
            "visibility": null,
            "width": null
          }
        },
        "c62d8f5a11f9492f804c12bcc22e01c7": {
          "model_module": "@jupyter-widgets/base",
          "model_name": "LayoutModel",
          "model_module_version": "1.2.0",
          "state": {
            "_model_module": "@jupyter-widgets/base",
            "_model_module_version": "1.2.0",
            "_model_name": "LayoutModel",
            "_view_count": null,
            "_view_module": "@jupyter-widgets/base",
            "_view_module_version": "1.2.0",
            "_view_name": "LayoutView",
            "align_content": null,
            "align_items": null,
            "align_self": null,
            "border": null,
            "bottom": null,
            "display": null,
            "flex": null,
            "flex_flow": null,
            "grid_area": null,
            "grid_auto_columns": null,
            "grid_auto_flow": null,
            "grid_auto_rows": null,
            "grid_column": null,
            "grid_gap": null,
            "grid_row": null,
            "grid_template_areas": null,
            "grid_template_columns": null,
            "grid_template_rows": null,
            "height": null,
            "justify_content": null,
            "justify_items": null,
            "left": null,
            "margin": null,
            "max_height": null,
            "max_width": null,
            "min_height": null,
            "min_width": null,
            "object_fit": null,
            "object_position": null,
            "order": null,
            "overflow": null,
            "overflow_x": null,
            "overflow_y": null,
            "padding": null,
            "right": null,
            "top": null,
            "visibility": null,
            "width": null
          }
        },
        "292ef191c847486c8b916898ad4366c7": {
          "model_module": "@jupyter-widgets/controls",
          "model_name": "DescriptionStyleModel",
          "model_module_version": "1.5.0",
          "state": {
            "_model_module": "@jupyter-widgets/controls",
            "_model_module_version": "1.5.0",
            "_model_name": "DescriptionStyleModel",
            "_view_count": null,
            "_view_module": "@jupyter-widgets/base",
            "_view_module_version": "1.2.0",
            "_view_name": "StyleView",
            "description_width": ""
          }
        },
        "c6b5e2c29b0146f1ada8e77dc02ff4d2": {
          "model_module": "@jupyter-widgets/base",
          "model_name": "LayoutModel",
          "model_module_version": "1.2.0",
          "state": {
            "_model_module": "@jupyter-widgets/base",
            "_model_module_version": "1.2.0",
            "_model_name": "LayoutModel",
            "_view_count": null,
            "_view_module": "@jupyter-widgets/base",
            "_view_module_version": "1.2.0",
            "_view_name": "LayoutView",
            "align_content": null,
            "align_items": null,
            "align_self": null,
            "border": null,
            "bottom": null,
            "display": null,
            "flex": null,
            "flex_flow": null,
            "grid_area": null,
            "grid_auto_columns": null,
            "grid_auto_flow": null,
            "grid_auto_rows": null,
            "grid_column": null,
            "grid_gap": null,
            "grid_row": null,
            "grid_template_areas": null,
            "grid_template_columns": null,
            "grid_template_rows": null,
            "height": null,
            "justify_content": null,
            "justify_items": null,
            "left": null,
            "margin": null,
            "max_height": null,
            "max_width": null,
            "min_height": null,
            "min_width": null,
            "object_fit": null,
            "object_position": null,
            "order": null,
            "overflow": null,
            "overflow_x": null,
            "overflow_y": null,
            "padding": null,
            "right": null,
            "top": null,
            "visibility": null,
            "width": null
          }
        },
        "525f2f05c72f4151909bc483c29f2294": {
          "model_module": "@jupyter-widgets/controls",
          "model_name": "ProgressStyleModel",
          "model_module_version": "1.5.0",
          "state": {
            "_model_module": "@jupyter-widgets/controls",
            "_model_module_version": "1.5.0",
            "_model_name": "ProgressStyleModel",
            "_view_count": null,
            "_view_module": "@jupyter-widgets/base",
            "_view_module_version": "1.2.0",
            "_view_name": "StyleView",
            "bar_color": null,
            "description_width": ""
          }
        },
        "7775af37624448188e232902372aa844": {
          "model_module": "@jupyter-widgets/base",
          "model_name": "LayoutModel",
          "model_module_version": "1.2.0",
          "state": {
            "_model_module": "@jupyter-widgets/base",
            "_model_module_version": "1.2.0",
            "_model_name": "LayoutModel",
            "_view_count": null,
            "_view_module": "@jupyter-widgets/base",
            "_view_module_version": "1.2.0",
            "_view_name": "LayoutView",
            "align_content": null,
            "align_items": null,
            "align_self": null,
            "border": null,
            "bottom": null,
            "display": null,
            "flex": null,
            "flex_flow": null,
            "grid_area": null,
            "grid_auto_columns": null,
            "grid_auto_flow": null,
            "grid_auto_rows": null,
            "grid_column": null,
            "grid_gap": null,
            "grid_row": null,
            "grid_template_areas": null,
            "grid_template_columns": null,
            "grid_template_rows": null,
            "height": null,
            "justify_content": null,
            "justify_items": null,
            "left": null,
            "margin": null,
            "max_height": null,
            "max_width": null,
            "min_height": null,
            "min_width": null,
            "object_fit": null,
            "object_position": null,
            "order": null,
            "overflow": null,
            "overflow_x": null,
            "overflow_y": null,
            "padding": null,
            "right": null,
            "top": null,
            "visibility": null,
            "width": null
          }
        },
        "b4b00dcea59243788c123f95439420e6": {
          "model_module": "@jupyter-widgets/controls",
          "model_name": "DescriptionStyleModel",
          "model_module_version": "1.5.0",
          "state": {
            "_model_module": "@jupyter-widgets/controls",
            "_model_module_version": "1.5.0",
            "_model_name": "DescriptionStyleModel",
            "_view_count": null,
            "_view_module": "@jupyter-widgets/base",
            "_view_module_version": "1.2.0",
            "_view_name": "StyleView",
            "description_width": ""
          }
        },
        "ca317e806c974824b4923bce34ec069f": {
          "model_module": "@jupyter-widgets/controls",
          "model_name": "HBoxModel",
          "model_module_version": "1.5.0",
          "state": {
            "_dom_classes": [],
            "_model_module": "@jupyter-widgets/controls",
            "_model_module_version": "1.5.0",
            "_model_name": "HBoxModel",
            "_view_count": null,
            "_view_module": "@jupyter-widgets/controls",
            "_view_module_version": "1.5.0",
            "_view_name": "HBoxView",
            "box_style": "",
            "children": [
              "IPY_MODEL_7fc50e7425b0433e83b52788b9d40962",
              "IPY_MODEL_6cd36af9e0c742b79406b4c6a8872885",
              "IPY_MODEL_6aae1a41ebe245438e7fb0005e7382c9"
            ],
            "layout": "IPY_MODEL_fd43e0b1a9cb4ec6925167c083ae2270"
          }
        },
        "7fc50e7425b0433e83b52788b9d40962": {
          "model_module": "@jupyter-widgets/controls",
          "model_name": "HTMLModel",
          "model_module_version": "1.5.0",
          "state": {
            "_dom_classes": [],
            "_model_module": "@jupyter-widgets/controls",
            "_model_module_version": "1.5.0",
            "_model_name": "HTMLModel",
            "_view_count": null,
            "_view_module": "@jupyter-widgets/controls",
            "_view_module_version": "1.5.0",
            "_view_name": "HTMLView",
            "description": "",
            "description_tooltip": null,
            "layout": "IPY_MODEL_cd50018d21eb4bdab67eee6ba2454cd1",
            "placeholder": "​",
            "style": "IPY_MODEL_1f72a88f74b74926954610464ba191ee",
            "value": "Downloading: 100%"
          }
        },
        "6cd36af9e0c742b79406b4c6a8872885": {
          "model_module": "@jupyter-widgets/controls",
          "model_name": "FloatProgressModel",
          "model_module_version": "1.5.0",
          "state": {
            "_dom_classes": [],
            "_model_module": "@jupyter-widgets/controls",
            "_model_module_version": "1.5.0",
            "_model_name": "FloatProgressModel",
            "_view_count": null,
            "_view_module": "@jupyter-widgets/controls",
            "_view_module_version": "1.5.0",
            "_view_name": "ProgressView",
            "bar_style": "success",
            "description": "",
            "description_tooltip": null,
            "layout": "IPY_MODEL_717b19d3784546acaf50c3ea6fb0a6af",
            "max": 751504,
            "min": 0,
            "orientation": "horizontal",
            "style": "IPY_MODEL_2c9e56fbba474f9d8127570b18133467",
            "value": 751504
          }
        },
        "6aae1a41ebe245438e7fb0005e7382c9": {
          "model_module": "@jupyter-widgets/controls",
          "model_name": "HTMLModel",
          "model_module_version": "1.5.0",
          "state": {
            "_dom_classes": [],
            "_model_module": "@jupyter-widgets/controls",
            "_model_module_version": "1.5.0",
            "_model_name": "HTMLModel",
            "_view_count": null,
            "_view_module": "@jupyter-widgets/controls",
            "_view_module_version": "1.5.0",
            "_view_name": "HTMLView",
            "description": "",
            "description_tooltip": null,
            "layout": "IPY_MODEL_8bbad1e6c7d84b5ba18812edf6742a28",
            "placeholder": "​",
            "style": "IPY_MODEL_99fff384fd974b8c81e8782c0096d0ad",
            "value": " 734k/734k [00:01&lt;00:00, 515kB/s]"
          }
        },
        "fd43e0b1a9cb4ec6925167c083ae2270": {
          "model_module": "@jupyter-widgets/base",
          "model_name": "LayoutModel",
          "model_module_version": "1.2.0",
          "state": {
            "_model_module": "@jupyter-widgets/base",
            "_model_module_version": "1.2.0",
            "_model_name": "LayoutModel",
            "_view_count": null,
            "_view_module": "@jupyter-widgets/base",
            "_view_module_version": "1.2.0",
            "_view_name": "LayoutView",
            "align_content": null,
            "align_items": null,
            "align_self": null,
            "border": null,
            "bottom": null,
            "display": null,
            "flex": null,
            "flex_flow": null,
            "grid_area": null,
            "grid_auto_columns": null,
            "grid_auto_flow": null,
            "grid_auto_rows": null,
            "grid_column": null,
            "grid_gap": null,
            "grid_row": null,
            "grid_template_areas": null,
            "grid_template_columns": null,
            "grid_template_rows": null,
            "height": null,
            "justify_content": null,
            "justify_items": null,
            "left": null,
            "margin": null,
            "max_height": null,
            "max_width": null,
            "min_height": null,
            "min_width": null,
            "object_fit": null,
            "object_position": null,
            "order": null,
            "overflow": null,
            "overflow_x": null,
            "overflow_y": null,
            "padding": null,
            "right": null,
            "top": null,
            "visibility": null,
            "width": null
          }
        },
        "cd50018d21eb4bdab67eee6ba2454cd1": {
          "model_module": "@jupyter-widgets/base",
          "model_name": "LayoutModel",
          "model_module_version": "1.2.0",
          "state": {
            "_model_module": "@jupyter-widgets/base",
            "_model_module_version": "1.2.0",
            "_model_name": "LayoutModel",
            "_view_count": null,
            "_view_module": "@jupyter-widgets/base",
            "_view_module_version": "1.2.0",
            "_view_name": "LayoutView",
            "align_content": null,
            "align_items": null,
            "align_self": null,
            "border": null,
            "bottom": null,
            "display": null,
            "flex": null,
            "flex_flow": null,
            "grid_area": null,
            "grid_auto_columns": null,
            "grid_auto_flow": null,
            "grid_auto_rows": null,
            "grid_column": null,
            "grid_gap": null,
            "grid_row": null,
            "grid_template_areas": null,
            "grid_template_columns": null,
            "grid_template_rows": null,
            "height": null,
            "justify_content": null,
            "justify_items": null,
            "left": null,
            "margin": null,
            "max_height": null,
            "max_width": null,
            "min_height": null,
            "min_width": null,
            "object_fit": null,
            "object_position": null,
            "order": null,
            "overflow": null,
            "overflow_x": null,
            "overflow_y": null,
            "padding": null,
            "right": null,
            "top": null,
            "visibility": null,
            "width": null
          }
        },
        "1f72a88f74b74926954610464ba191ee": {
          "model_module": "@jupyter-widgets/controls",
          "model_name": "DescriptionStyleModel",
          "model_module_version": "1.5.0",
          "state": {
            "_model_module": "@jupyter-widgets/controls",
            "_model_module_version": "1.5.0",
            "_model_name": "DescriptionStyleModel",
            "_view_count": null,
            "_view_module": "@jupyter-widgets/base",
            "_view_module_version": "1.2.0",
            "_view_name": "StyleView",
            "description_width": ""
          }
        },
        "717b19d3784546acaf50c3ea6fb0a6af": {
          "model_module": "@jupyter-widgets/base",
          "model_name": "LayoutModel",
          "model_module_version": "1.2.0",
          "state": {
            "_model_module": "@jupyter-widgets/base",
            "_model_module_version": "1.2.0",
            "_model_name": "LayoutModel",
            "_view_count": null,
            "_view_module": "@jupyter-widgets/base",
            "_view_module_version": "1.2.0",
            "_view_name": "LayoutView",
            "align_content": null,
            "align_items": null,
            "align_self": null,
            "border": null,
            "bottom": null,
            "display": null,
            "flex": null,
            "flex_flow": null,
            "grid_area": null,
            "grid_auto_columns": null,
            "grid_auto_flow": null,
            "grid_auto_rows": null,
            "grid_column": null,
            "grid_gap": null,
            "grid_row": null,
            "grid_template_areas": null,
            "grid_template_columns": null,
            "grid_template_rows": null,
            "height": null,
            "justify_content": null,
            "justify_items": null,
            "left": null,
            "margin": null,
            "max_height": null,
            "max_width": null,
            "min_height": null,
            "min_width": null,
            "object_fit": null,
            "object_position": null,
            "order": null,
            "overflow": null,
            "overflow_x": null,
            "overflow_y": null,
            "padding": null,
            "right": null,
            "top": null,
            "visibility": null,
            "width": null
          }
        },
        "2c9e56fbba474f9d8127570b18133467": {
          "model_module": "@jupyter-widgets/controls",
          "model_name": "ProgressStyleModel",
          "model_module_version": "1.5.0",
          "state": {
            "_model_module": "@jupyter-widgets/controls",
            "_model_module_version": "1.5.0",
            "_model_name": "ProgressStyleModel",
            "_view_count": null,
            "_view_module": "@jupyter-widgets/base",
            "_view_module_version": "1.2.0",
            "_view_name": "StyleView",
            "bar_color": null,
            "description_width": ""
          }
        },
        "8bbad1e6c7d84b5ba18812edf6742a28": {
          "model_module": "@jupyter-widgets/base",
          "model_name": "LayoutModel",
          "model_module_version": "1.2.0",
          "state": {
            "_model_module": "@jupyter-widgets/base",
            "_model_module_version": "1.2.0",
            "_model_name": "LayoutModel",
            "_view_count": null,
            "_view_module": "@jupyter-widgets/base",
            "_view_module_version": "1.2.0",
            "_view_name": "LayoutView",
            "align_content": null,
            "align_items": null,
            "align_self": null,
            "border": null,
            "bottom": null,
            "display": null,
            "flex": null,
            "flex_flow": null,
            "grid_area": null,
            "grid_auto_columns": null,
            "grid_auto_flow": null,
            "grid_auto_rows": null,
            "grid_column": null,
            "grid_gap": null,
            "grid_row": null,
            "grid_template_areas": null,
            "grid_template_columns": null,
            "grid_template_rows": null,
            "height": null,
            "justify_content": null,
            "justify_items": null,
            "left": null,
            "margin": null,
            "max_height": null,
            "max_width": null,
            "min_height": null,
            "min_width": null,
            "object_fit": null,
            "object_position": null,
            "order": null,
            "overflow": null,
            "overflow_x": null,
            "overflow_y": null,
            "padding": null,
            "right": null,
            "top": null,
            "visibility": null,
            "width": null
          }
        },
        "99fff384fd974b8c81e8782c0096d0ad": {
          "model_module": "@jupyter-widgets/controls",
          "model_name": "DescriptionStyleModel",
          "model_module_version": "1.5.0",
          "state": {
            "_model_module": "@jupyter-widgets/controls",
            "_model_module_version": "1.5.0",
            "_model_name": "DescriptionStyleModel",
            "_view_count": null,
            "_view_module": "@jupyter-widgets/base",
            "_view_module_version": "1.2.0",
            "_view_name": "StyleView",
            "description_width": ""
          }
        },
        "032375f8ce6049dd902c3dd938425d56": {
          "model_module": "@jupyter-widgets/controls",
          "model_name": "HBoxModel",
          "model_module_version": "1.5.0",
          "state": {
            "_dom_classes": [],
            "_model_module": "@jupyter-widgets/controls",
            "_model_module_version": "1.5.0",
            "_model_name": "HBoxModel",
            "_view_count": null,
            "_view_module": "@jupyter-widgets/controls",
            "_view_module_version": "1.5.0",
            "_view_name": "HBoxView",
            "box_style": "",
            "children": [
              "IPY_MODEL_784f3006c8364e93a6eddf821217beb3",
              "IPY_MODEL_f1df3fa119d54306911af4580e3622d0",
              "IPY_MODEL_223823611a28416289510997a51da8f0"
            ],
            "layout": "IPY_MODEL_7e9daee0c7354cec93aa4fd26b21a5c5"
          }
        },
        "784f3006c8364e93a6eddf821217beb3": {
          "model_module": "@jupyter-widgets/controls",
          "model_name": "HTMLModel",
          "model_module_version": "1.5.0",
          "state": {
            "_dom_classes": [],
            "_model_module": "@jupyter-widgets/controls",
            "_model_module_version": "1.5.0",
            "_model_name": "HTMLModel",
            "_view_count": null,
            "_view_module": "@jupyter-widgets/controls",
            "_view_module_version": "1.5.0",
            "_view_name": "HTMLView",
            "description": "",
            "description_tooltip": null,
            "layout": "IPY_MODEL_3113e635b5994aad8c973b022558d761",
            "placeholder": "​",
            "style": "IPY_MODEL_898c5fc1f01e4864a8fecfe36fdebf90",
            "value": "Downloading: 100%"
          }
        },
        "f1df3fa119d54306911af4580e3622d0": {
          "model_module": "@jupyter-widgets/controls",
          "model_name": "FloatProgressModel",
          "model_module_version": "1.5.0",
          "state": {
            "_dom_classes": [],
            "_model_module": "@jupyter-widgets/controls",
            "_model_module_version": "1.5.0",
            "_model_name": "FloatProgressModel",
            "_view_count": null,
            "_view_module": "@jupyter-widgets/controls",
            "_view_module_version": "1.5.0",
            "_view_name": "ProgressView",
            "bar_style": "success",
            "description": "",
            "description_tooltip": null,
            "layout": "IPY_MODEL_6f885fe4c747454da2515004ccdddd8d",
            "max": 173,
            "min": 0,
            "orientation": "horizontal",
            "style": "IPY_MODEL_306098431aa547c1811b5ff8c8f917a7",
            "value": 173
          }
        },
        "223823611a28416289510997a51da8f0": {
          "model_module": "@jupyter-widgets/controls",
          "model_name": "HTMLModel",
          "model_module_version": "1.5.0",
          "state": {
            "_dom_classes": [],
            "_model_module": "@jupyter-widgets/controls",
            "_model_module_version": "1.5.0",
            "_model_name": "HTMLModel",
            "_view_count": null,
            "_view_module": "@jupyter-widgets/controls",
            "_view_module_version": "1.5.0",
            "_view_name": "HTMLView",
            "description": "",
            "description_tooltip": null,
            "layout": "IPY_MODEL_c4c25bcb858640d5b7331e9e2070e9bc",
            "placeholder": "​",
            "style": "IPY_MODEL_a62fe2c49e6b4464bcd70ded46c807d5",
            "value": " 173/173 [00:00&lt;00:00, 4.53kB/s]"
          }
        },
        "7e9daee0c7354cec93aa4fd26b21a5c5": {
          "model_module": "@jupyter-widgets/base",
          "model_name": "LayoutModel",
          "model_module_version": "1.2.0",
          "state": {
            "_model_module": "@jupyter-widgets/base",
            "_model_module_version": "1.2.0",
            "_model_name": "LayoutModel",
            "_view_count": null,
            "_view_module": "@jupyter-widgets/base",
            "_view_module_version": "1.2.0",
            "_view_name": "LayoutView",
            "align_content": null,
            "align_items": null,
            "align_self": null,
            "border": null,
            "bottom": null,
            "display": null,
            "flex": null,
            "flex_flow": null,
            "grid_area": null,
            "grid_auto_columns": null,
            "grid_auto_flow": null,
            "grid_auto_rows": null,
            "grid_column": null,
            "grid_gap": null,
            "grid_row": null,
            "grid_template_areas": null,
            "grid_template_columns": null,
            "grid_template_rows": null,
            "height": null,
            "justify_content": null,
            "justify_items": null,
            "left": null,
            "margin": null,
            "max_height": null,
            "max_width": null,
            "min_height": null,
            "min_width": null,
            "object_fit": null,
            "object_position": null,
            "order": null,
            "overflow": null,
            "overflow_x": null,
            "overflow_y": null,
            "padding": null,
            "right": null,
            "top": null,
            "visibility": null,
            "width": null
          }
        },
        "3113e635b5994aad8c973b022558d761": {
          "model_module": "@jupyter-widgets/base",
          "model_name": "LayoutModel",
          "model_module_version": "1.2.0",
          "state": {
            "_model_module": "@jupyter-widgets/base",
            "_model_module_version": "1.2.0",
            "_model_name": "LayoutModel",
            "_view_count": null,
            "_view_module": "@jupyter-widgets/base",
            "_view_module_version": "1.2.0",
            "_view_name": "LayoutView",
            "align_content": null,
            "align_items": null,
            "align_self": null,
            "border": null,
            "bottom": null,
            "display": null,
            "flex": null,
            "flex_flow": null,
            "grid_area": null,
            "grid_auto_columns": null,
            "grid_auto_flow": null,
            "grid_auto_rows": null,
            "grid_column": null,
            "grid_gap": null,
            "grid_row": null,
            "grid_template_areas": null,
            "grid_template_columns": null,
            "grid_template_rows": null,
            "height": null,
            "justify_content": null,
            "justify_items": null,
            "left": null,
            "margin": null,
            "max_height": null,
            "max_width": null,
            "min_height": null,
            "min_width": null,
            "object_fit": null,
            "object_position": null,
            "order": null,
            "overflow": null,
            "overflow_x": null,
            "overflow_y": null,
            "padding": null,
            "right": null,
            "top": null,
            "visibility": null,
            "width": null
          }
        },
        "898c5fc1f01e4864a8fecfe36fdebf90": {
          "model_module": "@jupyter-widgets/controls",
          "model_name": "DescriptionStyleModel",
          "model_module_version": "1.5.0",
          "state": {
            "_model_module": "@jupyter-widgets/controls",
            "_model_module_version": "1.5.0",
            "_model_name": "DescriptionStyleModel",
            "_view_count": null,
            "_view_module": "@jupyter-widgets/base",
            "_view_module_version": "1.2.0",
            "_view_name": "StyleView",
            "description_width": ""
          }
        },
        "6f885fe4c747454da2515004ccdddd8d": {
          "model_module": "@jupyter-widgets/base",
          "model_name": "LayoutModel",
          "model_module_version": "1.2.0",
          "state": {
            "_model_module": "@jupyter-widgets/base",
            "_model_module_version": "1.2.0",
            "_model_name": "LayoutModel",
            "_view_count": null,
            "_view_module": "@jupyter-widgets/base",
            "_view_module_version": "1.2.0",
            "_view_name": "LayoutView",
            "align_content": null,
            "align_items": null,
            "align_self": null,
            "border": null,
            "bottom": null,
            "display": null,
            "flex": null,
            "flex_flow": null,
            "grid_area": null,
            "grid_auto_columns": null,
            "grid_auto_flow": null,
            "grid_auto_rows": null,
            "grid_column": null,
            "grid_gap": null,
            "grid_row": null,
            "grid_template_areas": null,
            "grid_template_columns": null,
            "grid_template_rows": null,
            "height": null,
            "justify_content": null,
            "justify_items": null,
            "left": null,
            "margin": null,
            "max_height": null,
            "max_width": null,
            "min_height": null,
            "min_width": null,
            "object_fit": null,
            "object_position": null,
            "order": null,
            "overflow": null,
            "overflow_x": null,
            "overflow_y": null,
            "padding": null,
            "right": null,
            "top": null,
            "visibility": null,
            "width": null
          }
        },
        "306098431aa547c1811b5ff8c8f917a7": {
          "model_module": "@jupyter-widgets/controls",
          "model_name": "ProgressStyleModel",
          "model_module_version": "1.5.0",
          "state": {
            "_model_module": "@jupyter-widgets/controls",
            "_model_module_version": "1.5.0",
            "_model_name": "ProgressStyleModel",
            "_view_count": null,
            "_view_module": "@jupyter-widgets/base",
            "_view_module_version": "1.2.0",
            "_view_name": "StyleView",
            "bar_color": null,
            "description_width": ""
          }
        },
        "c4c25bcb858640d5b7331e9e2070e9bc": {
          "model_module": "@jupyter-widgets/base",
          "model_name": "LayoutModel",
          "model_module_version": "1.2.0",
          "state": {
            "_model_module": "@jupyter-widgets/base",
            "_model_module_version": "1.2.0",
            "_model_name": "LayoutModel",
            "_view_count": null,
            "_view_module": "@jupyter-widgets/base",
            "_view_module_version": "1.2.0",
            "_view_name": "LayoutView",
            "align_content": null,
            "align_items": null,
            "align_self": null,
            "border": null,
            "bottom": null,
            "display": null,
            "flex": null,
            "flex_flow": null,
            "grid_area": null,
            "grid_auto_columns": null,
            "grid_auto_flow": null,
            "grid_auto_rows": null,
            "grid_column": null,
            "grid_gap": null,
            "grid_row": null,
            "grid_template_areas": null,
            "grid_template_columns": null,
            "grid_template_rows": null,
            "height": null,
            "justify_content": null,
            "justify_items": null,
            "left": null,
            "margin": null,
            "max_height": null,
            "max_width": null,
            "min_height": null,
            "min_width": null,
            "object_fit": null,
            "object_position": null,
            "order": null,
            "overflow": null,
            "overflow_x": null,
            "overflow_y": null,
            "padding": null,
            "right": null,
            "top": null,
            "visibility": null,
            "width": null
          }
        },
        "a62fe2c49e6b4464bcd70ded46c807d5": {
          "model_module": "@jupyter-widgets/controls",
          "model_name": "DescriptionStyleModel",
          "model_module_version": "1.5.0",
          "state": {
            "_model_module": "@jupyter-widgets/controls",
            "_model_module_version": "1.5.0",
            "_model_name": "DescriptionStyleModel",
            "_view_count": null,
            "_view_module": "@jupyter-widgets/base",
            "_view_module_version": "1.2.0",
            "_view_name": "StyleView",
            "description_width": ""
          }
        },
        "09a912f32bd3448f980312506499e1be": {
          "model_module": "@jupyter-widgets/controls",
          "model_name": "HBoxModel",
          "model_module_version": "1.5.0",
          "state": {
            "_dom_classes": [],
            "_model_module": "@jupyter-widgets/controls",
            "_model_module_version": "1.5.0",
            "_model_name": "HBoxModel",
            "_view_count": null,
            "_view_module": "@jupyter-widgets/controls",
            "_view_module_version": "1.5.0",
            "_view_name": "HBoxView",
            "box_style": "",
            "children": [
              "IPY_MODEL_f2253241967e4e28b34280cc6580e7fa",
              "IPY_MODEL_c4405927a56c447ca2ee19334e9e0a0b",
              "IPY_MODEL_d9ce6d572bb248b984a5c30e5ac814fe"
            ],
            "layout": "IPY_MODEL_2a58b8babd4b47c9a4f386e3a5851587"
          }
        },
        "f2253241967e4e28b34280cc6580e7fa": {
          "model_module": "@jupyter-widgets/controls",
          "model_name": "HTMLModel",
          "model_module_version": "1.5.0",
          "state": {
            "_dom_classes": [],
            "_model_module": "@jupyter-widgets/controls",
            "_model_module_version": "1.5.0",
            "_model_name": "HTMLModel",
            "_view_count": null,
            "_view_module": "@jupyter-widgets/controls",
            "_view_module_version": "1.5.0",
            "_view_name": "HTMLView",
            "description": "",
            "description_tooltip": null,
            "layout": "IPY_MODEL_4753c88eeb9641a9b3965e7458213a77",
            "placeholder": "​",
            "style": "IPY_MODEL_e30710cfeb6249739bf2569cf0b51b8f",
            "value": "100%"
          }
        },
        "c4405927a56c447ca2ee19334e9e0a0b": {
          "model_module": "@jupyter-widgets/controls",
          "model_name": "FloatProgressModel",
          "model_module_version": "1.5.0",
          "state": {
            "_dom_classes": [],
            "_model_module": "@jupyter-widgets/controls",
            "_model_module_version": "1.5.0",
            "_model_name": "FloatProgressModel",
            "_view_count": null,
            "_view_module": "@jupyter-widgets/controls",
            "_view_module_version": "1.5.0",
            "_view_name": "ProgressView",
            "bar_style": "success",
            "description": "",
            "description_tooltip": null,
            "layout": "IPY_MODEL_8021e35c5fdc462bb9d73a7648f1386e",
            "max": 11,
            "min": 0,
            "orientation": "horizontal",
            "style": "IPY_MODEL_74d97c8323e045dea8654c5af22652be",
            "value": 11
          }
        },
        "d9ce6d572bb248b984a5c30e5ac814fe": {
          "model_module": "@jupyter-widgets/controls",
          "model_name": "HTMLModel",
          "model_module_version": "1.5.0",
          "state": {
            "_dom_classes": [],
            "_model_module": "@jupyter-widgets/controls",
            "_model_module_version": "1.5.0",
            "_model_name": "HTMLModel",
            "_view_count": null,
            "_view_module": "@jupyter-widgets/controls",
            "_view_module_version": "1.5.0",
            "_view_name": "HTMLView",
            "description": "",
            "description_tooltip": null,
            "layout": "IPY_MODEL_72f75378d7a64c3793a3f6b1feb8a66f",
            "placeholder": "​",
            "style": "IPY_MODEL_c5f0d51bf89047d890e1b0b4beabc2b2",
            "value": " 11/11 [00:01&lt;00:00,  7.70ba/s]"
          }
        },
        "2a58b8babd4b47c9a4f386e3a5851587": {
          "model_module": "@jupyter-widgets/base",
          "model_name": "LayoutModel",
          "model_module_version": "1.2.0",
          "state": {
            "_model_module": "@jupyter-widgets/base",
            "_model_module_version": "1.2.0",
            "_model_name": "LayoutModel",
            "_view_count": null,
            "_view_module": "@jupyter-widgets/base",
            "_view_module_version": "1.2.0",
            "_view_name": "LayoutView",
            "align_content": null,
            "align_items": null,
            "align_self": null,
            "border": null,
            "bottom": null,
            "display": null,
            "flex": null,
            "flex_flow": null,
            "grid_area": null,
            "grid_auto_columns": null,
            "grid_auto_flow": null,
            "grid_auto_rows": null,
            "grid_column": null,
            "grid_gap": null,
            "grid_row": null,
            "grid_template_areas": null,
            "grid_template_columns": null,
            "grid_template_rows": null,
            "height": null,
            "justify_content": null,
            "justify_items": null,
            "left": null,
            "margin": null,
            "max_height": null,
            "max_width": null,
            "min_height": null,
            "min_width": null,
            "object_fit": null,
            "object_position": null,
            "order": null,
            "overflow": null,
            "overflow_x": null,
            "overflow_y": null,
            "padding": null,
            "right": null,
            "top": null,
            "visibility": null,
            "width": null
          }
        },
        "4753c88eeb9641a9b3965e7458213a77": {
          "model_module": "@jupyter-widgets/base",
          "model_name": "LayoutModel",
          "model_module_version": "1.2.0",
          "state": {
            "_model_module": "@jupyter-widgets/base",
            "_model_module_version": "1.2.0",
            "_model_name": "LayoutModel",
            "_view_count": null,
            "_view_module": "@jupyter-widgets/base",
            "_view_module_version": "1.2.0",
            "_view_name": "LayoutView",
            "align_content": null,
            "align_items": null,
            "align_self": null,
            "border": null,
            "bottom": null,
            "display": null,
            "flex": null,
            "flex_flow": null,
            "grid_area": null,
            "grid_auto_columns": null,
            "grid_auto_flow": null,
            "grid_auto_rows": null,
            "grid_column": null,
            "grid_gap": null,
            "grid_row": null,
            "grid_template_areas": null,
            "grid_template_columns": null,
            "grid_template_rows": null,
            "height": null,
            "justify_content": null,
            "justify_items": null,
            "left": null,
            "margin": null,
            "max_height": null,
            "max_width": null,
            "min_height": null,
            "min_width": null,
            "object_fit": null,
            "object_position": null,
            "order": null,
            "overflow": null,
            "overflow_x": null,
            "overflow_y": null,
            "padding": null,
            "right": null,
            "top": null,
            "visibility": null,
            "width": null
          }
        },
        "e30710cfeb6249739bf2569cf0b51b8f": {
          "model_module": "@jupyter-widgets/controls",
          "model_name": "DescriptionStyleModel",
          "model_module_version": "1.5.0",
          "state": {
            "_model_module": "@jupyter-widgets/controls",
            "_model_module_version": "1.5.0",
            "_model_name": "DescriptionStyleModel",
            "_view_count": null,
            "_view_module": "@jupyter-widgets/base",
            "_view_module_version": "1.2.0",
            "_view_name": "StyleView",
            "description_width": ""
          }
        },
        "8021e35c5fdc462bb9d73a7648f1386e": {
          "model_module": "@jupyter-widgets/base",
          "model_name": "LayoutModel",
          "model_module_version": "1.2.0",
          "state": {
            "_model_module": "@jupyter-widgets/base",
            "_model_module_version": "1.2.0",
            "_model_name": "LayoutModel",
            "_view_count": null,
            "_view_module": "@jupyter-widgets/base",
            "_view_module_version": "1.2.0",
            "_view_name": "LayoutView",
            "align_content": null,
            "align_items": null,
            "align_self": null,
            "border": null,
            "bottom": null,
            "display": null,
            "flex": null,
            "flex_flow": null,
            "grid_area": null,
            "grid_auto_columns": null,
            "grid_auto_flow": null,
            "grid_auto_rows": null,
            "grid_column": null,
            "grid_gap": null,
            "grid_row": null,
            "grid_template_areas": null,
            "grid_template_columns": null,
            "grid_template_rows": null,
            "height": null,
            "justify_content": null,
            "justify_items": null,
            "left": null,
            "margin": null,
            "max_height": null,
            "max_width": null,
            "min_height": null,
            "min_width": null,
            "object_fit": null,
            "object_position": null,
            "order": null,
            "overflow": null,
            "overflow_x": null,
            "overflow_y": null,
            "padding": null,
            "right": null,
            "top": null,
            "visibility": null,
            "width": null
          }
        },
        "74d97c8323e045dea8654c5af22652be": {
          "model_module": "@jupyter-widgets/controls",
          "model_name": "ProgressStyleModel",
          "model_module_version": "1.5.0",
          "state": {
            "_model_module": "@jupyter-widgets/controls",
            "_model_module_version": "1.5.0",
            "_model_name": "ProgressStyleModel",
            "_view_count": null,
            "_view_module": "@jupyter-widgets/base",
            "_view_module_version": "1.2.0",
            "_view_name": "StyleView",
            "bar_color": null,
            "description_width": ""
          }
        },
        "72f75378d7a64c3793a3f6b1feb8a66f": {
          "model_module": "@jupyter-widgets/base",
          "model_name": "LayoutModel",
          "model_module_version": "1.2.0",
          "state": {
            "_model_module": "@jupyter-widgets/base",
            "_model_module_version": "1.2.0",
            "_model_name": "LayoutModel",
            "_view_count": null,
            "_view_module": "@jupyter-widgets/base",
            "_view_module_version": "1.2.0",
            "_view_name": "LayoutView",
            "align_content": null,
            "align_items": null,
            "align_self": null,
            "border": null,
            "bottom": null,
            "display": null,
            "flex": null,
            "flex_flow": null,
            "grid_area": null,
            "grid_auto_columns": null,
            "grid_auto_flow": null,
            "grid_auto_rows": null,
            "grid_column": null,
            "grid_gap": null,
            "grid_row": null,
            "grid_template_areas": null,
            "grid_template_columns": null,
            "grid_template_rows": null,
            "height": null,
            "justify_content": null,
            "justify_items": null,
            "left": null,
            "margin": null,
            "max_height": null,
            "max_width": null,
            "min_height": null,
            "min_width": null,
            "object_fit": null,
            "object_position": null,
            "order": null,
            "overflow": null,
            "overflow_x": null,
            "overflow_y": null,
            "padding": null,
            "right": null,
            "top": null,
            "visibility": null,
            "width": null
          }
        },
        "c5f0d51bf89047d890e1b0b4beabc2b2": {
          "model_module": "@jupyter-widgets/controls",
          "model_name": "DescriptionStyleModel",
          "model_module_version": "1.5.0",
          "state": {
            "_model_module": "@jupyter-widgets/controls",
            "_model_module_version": "1.5.0",
            "_model_name": "DescriptionStyleModel",
            "_view_count": null,
            "_view_module": "@jupyter-widgets/base",
            "_view_module_version": "1.2.0",
            "_view_name": "StyleView",
            "description_width": ""
          }
        },
        "d01cb75d653b4d4a85677dad207efbca": {
          "model_module": "@jupyter-widgets/controls",
          "model_name": "HBoxModel",
          "model_module_version": "1.5.0",
          "state": {
            "_dom_classes": [],
            "_model_module": "@jupyter-widgets/controls",
            "_model_module_version": "1.5.0",
            "_model_name": "HBoxModel",
            "_view_count": null,
            "_view_module": "@jupyter-widgets/controls",
            "_view_module_version": "1.5.0",
            "_view_name": "HBoxView",
            "box_style": "",
            "children": [
              "IPY_MODEL_af70b8afddd441b4ab016dad839bbffe",
              "IPY_MODEL_6490d610716742f2b5550668fd6deee1",
              "IPY_MODEL_f24a50cb11414b8f8046993f71b4a4ba"
            ],
            "layout": "IPY_MODEL_500eda2e97df4cf58dae2c89f497748b"
          }
        },
        "af70b8afddd441b4ab016dad839bbffe": {
          "model_module": "@jupyter-widgets/controls",
          "model_name": "HTMLModel",
          "model_module_version": "1.5.0",
          "state": {
            "_dom_classes": [],
            "_model_module": "@jupyter-widgets/controls",
            "_model_module_version": "1.5.0",
            "_model_name": "HTMLModel",
            "_view_count": null,
            "_view_module": "@jupyter-widgets/controls",
            "_view_module_version": "1.5.0",
            "_view_name": "HTMLView",
            "description": "",
            "description_tooltip": null,
            "layout": "IPY_MODEL_ff1a3c6a75e743ff990d340b6dd964b7",
            "placeholder": "​",
            "style": "IPY_MODEL_e35056efc826475987288d3d7b647770",
            "value": "100%"
          }
        },
        "6490d610716742f2b5550668fd6deee1": {
          "model_module": "@jupyter-widgets/controls",
          "model_name": "FloatProgressModel",
          "model_module_version": "1.5.0",
          "state": {
            "_dom_classes": [],
            "_model_module": "@jupyter-widgets/controls",
            "_model_module_version": "1.5.0",
            "_model_name": "FloatProgressModel",
            "_view_count": null,
            "_view_module": "@jupyter-widgets/controls",
            "_view_module_version": "1.5.0",
            "_view_name": "ProgressView",
            "bar_style": "success",
            "description": "",
            "description_tooltip": null,
            "layout": "IPY_MODEL_faf1f11d649b4df2b56053e6cd927642",
            "max": 2,
            "min": 0,
            "orientation": "horizontal",
            "style": "IPY_MODEL_f68f92f04f81481999bd0bf2e511b203",
            "value": 2
          }
        },
        "f24a50cb11414b8f8046993f71b4a4ba": {
          "model_module": "@jupyter-widgets/controls",
          "model_name": "HTMLModel",
          "model_module_version": "1.5.0",
          "state": {
            "_dom_classes": [],
            "_model_module": "@jupyter-widgets/controls",
            "_model_module_version": "1.5.0",
            "_model_name": "HTMLModel",
            "_view_count": null,
            "_view_module": "@jupyter-widgets/controls",
            "_view_module_version": "1.5.0",
            "_view_name": "HTMLView",
            "description": "",
            "description_tooltip": null,
            "layout": "IPY_MODEL_4a4818a208ce4c91907acedd1236fea5",
            "placeholder": "​",
            "style": "IPY_MODEL_16e3e7e8d8604062827bff1e166ff184",
            "value": " 2/2 [00:00&lt;00:00,  5.99ba/s]"
          }
        },
        "500eda2e97df4cf58dae2c89f497748b": {
          "model_module": "@jupyter-widgets/base",
          "model_name": "LayoutModel",
          "model_module_version": "1.2.0",
          "state": {
            "_model_module": "@jupyter-widgets/base",
            "_model_module_version": "1.2.0",
            "_model_name": "LayoutModel",
            "_view_count": null,
            "_view_module": "@jupyter-widgets/base",
            "_view_module_version": "1.2.0",
            "_view_name": "LayoutView",
            "align_content": null,
            "align_items": null,
            "align_self": null,
            "border": null,
            "bottom": null,
            "display": null,
            "flex": null,
            "flex_flow": null,
            "grid_area": null,
            "grid_auto_columns": null,
            "grid_auto_flow": null,
            "grid_auto_rows": null,
            "grid_column": null,
            "grid_gap": null,
            "grid_row": null,
            "grid_template_areas": null,
            "grid_template_columns": null,
            "grid_template_rows": null,
            "height": null,
            "justify_content": null,
            "justify_items": null,
            "left": null,
            "margin": null,
            "max_height": null,
            "max_width": null,
            "min_height": null,
            "min_width": null,
            "object_fit": null,
            "object_position": null,
            "order": null,
            "overflow": null,
            "overflow_x": null,
            "overflow_y": null,
            "padding": null,
            "right": null,
            "top": null,
            "visibility": null,
            "width": null
          }
        },
        "ff1a3c6a75e743ff990d340b6dd964b7": {
          "model_module": "@jupyter-widgets/base",
          "model_name": "LayoutModel",
          "model_module_version": "1.2.0",
          "state": {
            "_model_module": "@jupyter-widgets/base",
            "_model_module_version": "1.2.0",
            "_model_name": "LayoutModel",
            "_view_count": null,
            "_view_module": "@jupyter-widgets/base",
            "_view_module_version": "1.2.0",
            "_view_name": "LayoutView",
            "align_content": null,
            "align_items": null,
            "align_self": null,
            "border": null,
            "bottom": null,
            "display": null,
            "flex": null,
            "flex_flow": null,
            "grid_area": null,
            "grid_auto_columns": null,
            "grid_auto_flow": null,
            "grid_auto_rows": null,
            "grid_column": null,
            "grid_gap": null,
            "grid_row": null,
            "grid_template_areas": null,
            "grid_template_columns": null,
            "grid_template_rows": null,
            "height": null,
            "justify_content": null,
            "justify_items": null,
            "left": null,
            "margin": null,
            "max_height": null,
            "max_width": null,
            "min_height": null,
            "min_width": null,
            "object_fit": null,
            "object_position": null,
            "order": null,
            "overflow": null,
            "overflow_x": null,
            "overflow_y": null,
            "padding": null,
            "right": null,
            "top": null,
            "visibility": null,
            "width": null
          }
        },
        "e35056efc826475987288d3d7b647770": {
          "model_module": "@jupyter-widgets/controls",
          "model_name": "DescriptionStyleModel",
          "model_module_version": "1.5.0",
          "state": {
            "_model_module": "@jupyter-widgets/controls",
            "_model_module_version": "1.5.0",
            "_model_name": "DescriptionStyleModel",
            "_view_count": null,
            "_view_module": "@jupyter-widgets/base",
            "_view_module_version": "1.2.0",
            "_view_name": "StyleView",
            "description_width": ""
          }
        },
        "faf1f11d649b4df2b56053e6cd927642": {
          "model_module": "@jupyter-widgets/base",
          "model_name": "LayoutModel",
          "model_module_version": "1.2.0",
          "state": {
            "_model_module": "@jupyter-widgets/base",
            "_model_module_version": "1.2.0",
            "_model_name": "LayoutModel",
            "_view_count": null,
            "_view_module": "@jupyter-widgets/base",
            "_view_module_version": "1.2.0",
            "_view_name": "LayoutView",
            "align_content": null,
            "align_items": null,
            "align_self": null,
            "border": null,
            "bottom": null,
            "display": null,
            "flex": null,
            "flex_flow": null,
            "grid_area": null,
            "grid_auto_columns": null,
            "grid_auto_flow": null,
            "grid_auto_rows": null,
            "grid_column": null,
            "grid_gap": null,
            "grid_row": null,
            "grid_template_areas": null,
            "grid_template_columns": null,
            "grid_template_rows": null,
            "height": null,
            "justify_content": null,
            "justify_items": null,
            "left": null,
            "margin": null,
            "max_height": null,
            "max_width": null,
            "min_height": null,
            "min_width": null,
            "object_fit": null,
            "object_position": null,
            "order": null,
            "overflow": null,
            "overflow_x": null,
            "overflow_y": null,
            "padding": null,
            "right": null,
            "top": null,
            "visibility": null,
            "width": null
          }
        },
        "f68f92f04f81481999bd0bf2e511b203": {
          "model_module": "@jupyter-widgets/controls",
          "model_name": "ProgressStyleModel",
          "model_module_version": "1.5.0",
          "state": {
            "_model_module": "@jupyter-widgets/controls",
            "_model_module_version": "1.5.0",
            "_model_name": "ProgressStyleModel",
            "_view_count": null,
            "_view_module": "@jupyter-widgets/base",
            "_view_module_version": "1.2.0",
            "_view_name": "StyleView",
            "bar_color": null,
            "description_width": ""
          }
        },
        "4a4818a208ce4c91907acedd1236fea5": {
          "model_module": "@jupyter-widgets/base",
          "model_name": "LayoutModel",
          "model_module_version": "1.2.0",
          "state": {
            "_model_module": "@jupyter-widgets/base",
            "_model_module_version": "1.2.0",
            "_model_name": "LayoutModel",
            "_view_count": null,
            "_view_module": "@jupyter-widgets/base",
            "_view_module_version": "1.2.0",
            "_view_name": "LayoutView",
            "align_content": null,
            "align_items": null,
            "align_self": null,
            "border": null,
            "bottom": null,
            "display": null,
            "flex": null,
            "flex_flow": null,
            "grid_area": null,
            "grid_auto_columns": null,
            "grid_auto_flow": null,
            "grid_auto_rows": null,
            "grid_column": null,
            "grid_gap": null,
            "grid_row": null,
            "grid_template_areas": null,
            "grid_template_columns": null,
            "grid_template_rows": null,
            "height": null,
            "justify_content": null,
            "justify_items": null,
            "left": null,
            "margin": null,
            "max_height": null,
            "max_width": null,
            "min_height": null,
            "min_width": null,
            "object_fit": null,
            "object_position": null,
            "order": null,
            "overflow": null,
            "overflow_x": null,
            "overflow_y": null,
            "padding": null,
            "right": null,
            "top": null,
            "visibility": null,
            "width": null
          }
        },
        "16e3e7e8d8604062827bff1e166ff184": {
          "model_module": "@jupyter-widgets/controls",
          "model_name": "DescriptionStyleModel",
          "model_module_version": "1.5.0",
          "state": {
            "_model_module": "@jupyter-widgets/controls",
            "_model_module_version": "1.5.0",
            "_model_name": "DescriptionStyleModel",
            "_view_count": null,
            "_view_module": "@jupyter-widgets/base",
            "_view_module_version": "1.2.0",
            "_view_name": "StyleView",
            "description_width": ""
          }
        },
        "3961b9f43ace4116a69a582cfbc0293a": {
          "model_module": "@jupyter-widgets/controls",
          "model_name": "HBoxModel",
          "model_module_version": "1.5.0",
          "state": {
            "_dom_classes": [],
            "_model_module": "@jupyter-widgets/controls",
            "_model_module_version": "1.5.0",
            "_model_name": "HBoxModel",
            "_view_count": null,
            "_view_module": "@jupyter-widgets/controls",
            "_view_module_version": "1.5.0",
            "_view_name": "HBoxView",
            "box_style": "",
            "children": [
              "IPY_MODEL_86fcb6d9997740628b7ed2472a0d4a7b",
              "IPY_MODEL_8a0cf22c474c433bb4660af48fbe18df",
              "IPY_MODEL_1949f93746f24947af880f2414b3a429"
            ],
            "layout": "IPY_MODEL_8a34ff9c82f84926ab00c10820fe05f1"
          }
        },
        "86fcb6d9997740628b7ed2472a0d4a7b": {
          "model_module": "@jupyter-widgets/controls",
          "model_name": "HTMLModel",
          "model_module_version": "1.5.0",
          "state": {
            "_dom_classes": [],
            "_model_module": "@jupyter-widgets/controls",
            "_model_module_version": "1.5.0",
            "_model_name": "HTMLModel",
            "_view_count": null,
            "_view_module": "@jupyter-widgets/controls",
            "_view_module_version": "1.5.0",
            "_view_name": "HTMLView",
            "description": "",
            "description_tooltip": null,
            "layout": "IPY_MODEL_83f8201c00ea42c89386961384e21661",
            "placeholder": "​",
            "style": "IPY_MODEL_14f9e838304240d2825d8fb560e78f48",
            "value": "100%"
          }
        },
        "8a0cf22c474c433bb4660af48fbe18df": {
          "model_module": "@jupyter-widgets/controls",
          "model_name": "FloatProgressModel",
          "model_module_version": "1.5.0",
          "state": {
            "_dom_classes": [],
            "_model_module": "@jupyter-widgets/controls",
            "_model_module_version": "1.5.0",
            "_model_name": "FloatProgressModel",
            "_view_count": null,
            "_view_module": "@jupyter-widgets/controls",
            "_view_module_version": "1.5.0",
            "_view_name": "ProgressView",
            "bar_style": "success",
            "description": "",
            "description_tooltip": null,
            "layout": "IPY_MODEL_03a2a02c0cef4d538cf91fb2fc2b8a82",
            "max": 1,
            "min": 0,
            "orientation": "horizontal",
            "style": "IPY_MODEL_75ba22a15bf9474c8f00dd513908ddd8",
            "value": 1
          }
        },
        "1949f93746f24947af880f2414b3a429": {
          "model_module": "@jupyter-widgets/controls",
          "model_name": "HTMLModel",
          "model_module_version": "1.5.0",
          "state": {
            "_dom_classes": [],
            "_model_module": "@jupyter-widgets/controls",
            "_model_module_version": "1.5.0",
            "_model_name": "HTMLModel",
            "_view_count": null,
            "_view_module": "@jupyter-widgets/controls",
            "_view_module_version": "1.5.0",
            "_view_name": "HTMLView",
            "description": "",
            "description_tooltip": null,
            "layout": "IPY_MODEL_a5d34c82e9044b94a990c565ff368d8d",
            "placeholder": "​",
            "style": "IPY_MODEL_5b584b7b33414670aa0dc1cd9c21db41",
            "value": " 1/1 [00:00&lt;00:00,  9.20ba/s]"
          }
        },
        "8a34ff9c82f84926ab00c10820fe05f1": {
          "model_module": "@jupyter-widgets/base",
          "model_name": "LayoutModel",
          "model_module_version": "1.2.0",
          "state": {
            "_model_module": "@jupyter-widgets/base",
            "_model_module_version": "1.2.0",
            "_model_name": "LayoutModel",
            "_view_count": null,
            "_view_module": "@jupyter-widgets/base",
            "_view_module_version": "1.2.0",
            "_view_name": "LayoutView",
            "align_content": null,
            "align_items": null,
            "align_self": null,
            "border": null,
            "bottom": null,
            "display": null,
            "flex": null,
            "flex_flow": null,
            "grid_area": null,
            "grid_auto_columns": null,
            "grid_auto_flow": null,
            "grid_auto_rows": null,
            "grid_column": null,
            "grid_gap": null,
            "grid_row": null,
            "grid_template_areas": null,
            "grid_template_columns": null,
            "grid_template_rows": null,
            "height": null,
            "justify_content": null,
            "justify_items": null,
            "left": null,
            "margin": null,
            "max_height": null,
            "max_width": null,
            "min_height": null,
            "min_width": null,
            "object_fit": null,
            "object_position": null,
            "order": null,
            "overflow": null,
            "overflow_x": null,
            "overflow_y": null,
            "padding": null,
            "right": null,
            "top": null,
            "visibility": null,
            "width": null
          }
        },
        "83f8201c00ea42c89386961384e21661": {
          "model_module": "@jupyter-widgets/base",
          "model_name": "LayoutModel",
          "model_module_version": "1.2.0",
          "state": {
            "_model_module": "@jupyter-widgets/base",
            "_model_module_version": "1.2.0",
            "_model_name": "LayoutModel",
            "_view_count": null,
            "_view_module": "@jupyter-widgets/base",
            "_view_module_version": "1.2.0",
            "_view_name": "LayoutView",
            "align_content": null,
            "align_items": null,
            "align_self": null,
            "border": null,
            "bottom": null,
            "display": null,
            "flex": null,
            "flex_flow": null,
            "grid_area": null,
            "grid_auto_columns": null,
            "grid_auto_flow": null,
            "grid_auto_rows": null,
            "grid_column": null,
            "grid_gap": null,
            "grid_row": null,
            "grid_template_areas": null,
            "grid_template_columns": null,
            "grid_template_rows": null,
            "height": null,
            "justify_content": null,
            "justify_items": null,
            "left": null,
            "margin": null,
            "max_height": null,
            "max_width": null,
            "min_height": null,
            "min_width": null,
            "object_fit": null,
            "object_position": null,
            "order": null,
            "overflow": null,
            "overflow_x": null,
            "overflow_y": null,
            "padding": null,
            "right": null,
            "top": null,
            "visibility": null,
            "width": null
          }
        },
        "14f9e838304240d2825d8fb560e78f48": {
          "model_module": "@jupyter-widgets/controls",
          "model_name": "DescriptionStyleModel",
          "model_module_version": "1.5.0",
          "state": {
            "_model_module": "@jupyter-widgets/controls",
            "_model_module_version": "1.5.0",
            "_model_name": "DescriptionStyleModel",
            "_view_count": null,
            "_view_module": "@jupyter-widgets/base",
            "_view_module_version": "1.2.0",
            "_view_name": "StyleView",
            "description_width": ""
          }
        },
        "03a2a02c0cef4d538cf91fb2fc2b8a82": {
          "model_module": "@jupyter-widgets/base",
          "model_name": "LayoutModel",
          "model_module_version": "1.2.0",
          "state": {
            "_model_module": "@jupyter-widgets/base",
            "_model_module_version": "1.2.0",
            "_model_name": "LayoutModel",
            "_view_count": null,
            "_view_module": "@jupyter-widgets/base",
            "_view_module_version": "1.2.0",
            "_view_name": "LayoutView",
            "align_content": null,
            "align_items": null,
            "align_self": null,
            "border": null,
            "bottom": null,
            "display": null,
            "flex": null,
            "flex_flow": null,
            "grid_area": null,
            "grid_auto_columns": null,
            "grid_auto_flow": null,
            "grid_auto_rows": null,
            "grid_column": null,
            "grid_gap": null,
            "grid_row": null,
            "grid_template_areas": null,
            "grid_template_columns": null,
            "grid_template_rows": null,
            "height": null,
            "justify_content": null,
            "justify_items": null,
            "left": null,
            "margin": null,
            "max_height": null,
            "max_width": null,
            "min_height": null,
            "min_width": null,
            "object_fit": null,
            "object_position": null,
            "order": null,
            "overflow": null,
            "overflow_x": null,
            "overflow_y": null,
            "padding": null,
            "right": null,
            "top": null,
            "visibility": null,
            "width": null
          }
        },
        "75ba22a15bf9474c8f00dd513908ddd8": {
          "model_module": "@jupyter-widgets/controls",
          "model_name": "ProgressStyleModel",
          "model_module_version": "1.5.0",
          "state": {
            "_model_module": "@jupyter-widgets/controls",
            "_model_module_version": "1.5.0",
            "_model_name": "ProgressStyleModel",
            "_view_count": null,
            "_view_module": "@jupyter-widgets/base",
            "_view_module_version": "1.2.0",
            "_view_name": "StyleView",
            "bar_color": null,
            "description_width": ""
          }
        },
        "a5d34c82e9044b94a990c565ff368d8d": {
          "model_module": "@jupyter-widgets/base",
          "model_name": "LayoutModel",
          "model_module_version": "1.2.0",
          "state": {
            "_model_module": "@jupyter-widgets/base",
            "_model_module_version": "1.2.0",
            "_model_name": "LayoutModel",
            "_view_count": null,
            "_view_module": "@jupyter-widgets/base",
            "_view_module_version": "1.2.0",
            "_view_name": "LayoutView",
            "align_content": null,
            "align_items": null,
            "align_self": null,
            "border": null,
            "bottom": null,
            "display": null,
            "flex": null,
            "flex_flow": null,
            "grid_area": null,
            "grid_auto_columns": null,
            "grid_auto_flow": null,
            "grid_auto_rows": null,
            "grid_column": null,
            "grid_gap": null,
            "grid_row": null,
            "grid_template_areas": null,
            "grid_template_columns": null,
            "grid_template_rows": null,
            "height": null,
            "justify_content": null,
            "justify_items": null,
            "left": null,
            "margin": null,
            "max_height": null,
            "max_width": null,
            "min_height": null,
            "min_width": null,
            "object_fit": null,
            "object_position": null,
            "order": null,
            "overflow": null,
            "overflow_x": null,
            "overflow_y": null,
            "padding": null,
            "right": null,
            "top": null,
            "visibility": null,
            "width": null
          }
        },
        "5b584b7b33414670aa0dc1cd9c21db41": {
          "model_module": "@jupyter-widgets/controls",
          "model_name": "DescriptionStyleModel",
          "model_module_version": "1.5.0",
          "state": {
            "_model_module": "@jupyter-widgets/controls",
            "_model_module_version": "1.5.0",
            "_model_name": "DescriptionStyleModel",
            "_view_count": null,
            "_view_module": "@jupyter-widgets/base",
            "_view_module_version": "1.2.0",
            "_view_name": "StyleView",
            "description_width": ""
          }
        },
        "e8c7b1d309b646f381e7e345d3cfff36": {
          "model_module": "@jupyter-widgets/controls",
          "model_name": "HBoxModel",
          "model_module_version": "1.5.0",
          "state": {
            "_dom_classes": [],
            "_model_module": "@jupyter-widgets/controls",
            "_model_module_version": "1.5.0",
            "_model_name": "HBoxModel",
            "_view_count": null,
            "_view_module": "@jupyter-widgets/controls",
            "_view_module_version": "1.5.0",
            "_view_name": "HBoxView",
            "box_style": "",
            "children": [
              "IPY_MODEL_9c71c4700e7840e384817b7c5b42863b",
              "IPY_MODEL_f2903379552644db8191db72dcd768ad",
              "IPY_MODEL_7e38ddd18a604f3184d041b579f24d1a"
            ],
            "layout": "IPY_MODEL_ae6598a05bcf4fa68ea8460cc60d34b9"
          }
        },
        "9c71c4700e7840e384817b7c5b42863b": {
          "model_module": "@jupyter-widgets/controls",
          "model_name": "HTMLModel",
          "model_module_version": "1.5.0",
          "state": {
            "_dom_classes": [],
            "_model_module": "@jupyter-widgets/controls",
            "_model_module_version": "1.5.0",
            "_model_name": "HTMLModel",
            "_view_count": null,
            "_view_module": "@jupyter-widgets/controls",
            "_view_module_version": "1.5.0",
            "_view_name": "HTMLView",
            "description": "",
            "description_tooltip": null,
            "layout": "IPY_MODEL_0b8e5d3465a7409daec21ce611e635ff",
            "placeholder": "​",
            "style": "IPY_MODEL_ee7fc857ac2140b392d1c583904e2bcb",
            "value": "Downloading: 100%"
          }
        },
        "f2903379552644db8191db72dcd768ad": {
          "model_module": "@jupyter-widgets/controls",
          "model_name": "FloatProgressModel",
          "model_module_version": "1.5.0",
          "state": {
            "_dom_classes": [],
            "_model_module": "@jupyter-widgets/controls",
            "_model_module_version": "1.5.0",
            "_model_name": "FloatProgressModel",
            "_view_count": null,
            "_view_module": "@jupyter-widgets/controls",
            "_view_module_version": "1.5.0",
            "_view_name": "ProgressView",
            "bar_style": "success",
            "description": "",
            "description_tooltip": null,
            "layout": "IPY_MODEL_c928310d9cc34f179a3693e2f63a0cd0",
            "max": 546,
            "min": 0,
            "orientation": "horizontal",
            "style": "IPY_MODEL_b5d26059c34649ee9ca489574f4276de",
            "value": 546
          }
        },
        "7e38ddd18a604f3184d041b579f24d1a": {
          "model_module": "@jupyter-widgets/controls",
          "model_name": "HTMLModel",
          "model_module_version": "1.5.0",
          "state": {
            "_dom_classes": [],
            "_model_module": "@jupyter-widgets/controls",
            "_model_module_version": "1.5.0",
            "_model_name": "HTMLModel",
            "_view_count": null,
            "_view_module": "@jupyter-widgets/controls",
            "_view_module_version": "1.5.0",
            "_view_name": "HTMLView",
            "description": "",
            "description_tooltip": null,
            "layout": "IPY_MODEL_fbb066533736400288187ca4f113158c",
            "placeholder": "​",
            "style": "IPY_MODEL_f2a2d63490f840b4ba9fe6a2adc7c558",
            "value": " 546/546 [00:00&lt;00:00, 14.8kB/s]"
          }
        },
        "ae6598a05bcf4fa68ea8460cc60d34b9": {
          "model_module": "@jupyter-widgets/base",
          "model_name": "LayoutModel",
          "model_module_version": "1.2.0",
          "state": {
            "_model_module": "@jupyter-widgets/base",
            "_model_module_version": "1.2.0",
            "_model_name": "LayoutModel",
            "_view_count": null,
            "_view_module": "@jupyter-widgets/base",
            "_view_module_version": "1.2.0",
            "_view_name": "LayoutView",
            "align_content": null,
            "align_items": null,
            "align_self": null,
            "border": null,
            "bottom": null,
            "display": null,
            "flex": null,
            "flex_flow": null,
            "grid_area": null,
            "grid_auto_columns": null,
            "grid_auto_flow": null,
            "grid_auto_rows": null,
            "grid_column": null,
            "grid_gap": null,
            "grid_row": null,
            "grid_template_areas": null,
            "grid_template_columns": null,
            "grid_template_rows": null,
            "height": null,
            "justify_content": null,
            "justify_items": null,
            "left": null,
            "margin": null,
            "max_height": null,
            "max_width": null,
            "min_height": null,
            "min_width": null,
            "object_fit": null,
            "object_position": null,
            "order": null,
            "overflow": null,
            "overflow_x": null,
            "overflow_y": null,
            "padding": null,
            "right": null,
            "top": null,
            "visibility": null,
            "width": null
          }
        },
        "0b8e5d3465a7409daec21ce611e635ff": {
          "model_module": "@jupyter-widgets/base",
          "model_name": "LayoutModel",
          "model_module_version": "1.2.0",
          "state": {
            "_model_module": "@jupyter-widgets/base",
            "_model_module_version": "1.2.0",
            "_model_name": "LayoutModel",
            "_view_count": null,
            "_view_module": "@jupyter-widgets/base",
            "_view_module_version": "1.2.0",
            "_view_name": "LayoutView",
            "align_content": null,
            "align_items": null,
            "align_self": null,
            "border": null,
            "bottom": null,
            "display": null,
            "flex": null,
            "flex_flow": null,
            "grid_area": null,
            "grid_auto_columns": null,
            "grid_auto_flow": null,
            "grid_auto_rows": null,
            "grid_column": null,
            "grid_gap": null,
            "grid_row": null,
            "grid_template_areas": null,
            "grid_template_columns": null,
            "grid_template_rows": null,
            "height": null,
            "justify_content": null,
            "justify_items": null,
            "left": null,
            "margin": null,
            "max_height": null,
            "max_width": null,
            "min_height": null,
            "min_width": null,
            "object_fit": null,
            "object_position": null,
            "order": null,
            "overflow": null,
            "overflow_x": null,
            "overflow_y": null,
            "padding": null,
            "right": null,
            "top": null,
            "visibility": null,
            "width": null
          }
        },
        "ee7fc857ac2140b392d1c583904e2bcb": {
          "model_module": "@jupyter-widgets/controls",
          "model_name": "DescriptionStyleModel",
          "model_module_version": "1.5.0",
          "state": {
            "_model_module": "@jupyter-widgets/controls",
            "_model_module_version": "1.5.0",
            "_model_name": "DescriptionStyleModel",
            "_view_count": null,
            "_view_module": "@jupyter-widgets/base",
            "_view_module_version": "1.2.0",
            "_view_name": "StyleView",
            "description_width": ""
          }
        },
        "c928310d9cc34f179a3693e2f63a0cd0": {
          "model_module": "@jupyter-widgets/base",
          "model_name": "LayoutModel",
          "model_module_version": "1.2.0",
          "state": {
            "_model_module": "@jupyter-widgets/base",
            "_model_module_version": "1.2.0",
            "_model_name": "LayoutModel",
            "_view_count": null,
            "_view_module": "@jupyter-widgets/base",
            "_view_module_version": "1.2.0",
            "_view_name": "LayoutView",
            "align_content": null,
            "align_items": null,
            "align_self": null,
            "border": null,
            "bottom": null,
            "display": null,
            "flex": null,
            "flex_flow": null,
            "grid_area": null,
            "grid_auto_columns": null,
            "grid_auto_flow": null,
            "grid_auto_rows": null,
            "grid_column": null,
            "grid_gap": null,
            "grid_row": null,
            "grid_template_areas": null,
            "grid_template_columns": null,
            "grid_template_rows": null,
            "height": null,
            "justify_content": null,
            "justify_items": null,
            "left": null,
            "margin": null,
            "max_height": null,
            "max_width": null,
            "min_height": null,
            "min_width": null,
            "object_fit": null,
            "object_position": null,
            "order": null,
            "overflow": null,
            "overflow_x": null,
            "overflow_y": null,
            "padding": null,
            "right": null,
            "top": null,
            "visibility": null,
            "width": null
          }
        },
        "b5d26059c34649ee9ca489574f4276de": {
          "model_module": "@jupyter-widgets/controls",
          "model_name": "ProgressStyleModel",
          "model_module_version": "1.5.0",
          "state": {
            "_model_module": "@jupyter-widgets/controls",
            "_model_module_version": "1.5.0",
            "_model_name": "ProgressStyleModel",
            "_view_count": null,
            "_view_module": "@jupyter-widgets/base",
            "_view_module_version": "1.2.0",
            "_view_name": "StyleView",
            "bar_color": null,
            "description_width": ""
          }
        },
        "fbb066533736400288187ca4f113158c": {
          "model_module": "@jupyter-widgets/base",
          "model_name": "LayoutModel",
          "model_module_version": "1.2.0",
          "state": {
            "_model_module": "@jupyter-widgets/base",
            "_model_module_version": "1.2.0",
            "_model_name": "LayoutModel",
            "_view_count": null,
            "_view_module": "@jupyter-widgets/base",
            "_view_module_version": "1.2.0",
            "_view_name": "LayoutView",
            "align_content": null,
            "align_items": null,
            "align_self": null,
            "border": null,
            "bottom": null,
            "display": null,
            "flex": null,
            "flex_flow": null,
            "grid_area": null,
            "grid_auto_columns": null,
            "grid_auto_flow": null,
            "grid_auto_rows": null,
            "grid_column": null,
            "grid_gap": null,
            "grid_row": null,
            "grid_template_areas": null,
            "grid_template_columns": null,
            "grid_template_rows": null,
            "height": null,
            "justify_content": null,
            "justify_items": null,
            "left": null,
            "margin": null,
            "max_height": null,
            "max_width": null,
            "min_height": null,
            "min_width": null,
            "object_fit": null,
            "object_position": null,
            "order": null,
            "overflow": null,
            "overflow_x": null,
            "overflow_y": null,
            "padding": null,
            "right": null,
            "top": null,
            "visibility": null,
            "width": null
          }
        },
        "f2a2d63490f840b4ba9fe6a2adc7c558": {
          "model_module": "@jupyter-widgets/controls",
          "model_name": "DescriptionStyleModel",
          "model_module_version": "1.5.0",
          "state": {
            "_model_module": "@jupyter-widgets/controls",
            "_model_module_version": "1.5.0",
            "_model_name": "DescriptionStyleModel",
            "_view_count": null,
            "_view_module": "@jupyter-widgets/base",
            "_view_module_version": "1.2.0",
            "_view_name": "StyleView",
            "description_width": ""
          }
        },
        "40496dac6a3b4ee0830af638461f0027": {
          "model_module": "@jupyter-widgets/controls",
          "model_name": "HBoxModel",
          "model_module_version": "1.5.0",
          "state": {
            "_dom_classes": [],
            "_model_module": "@jupyter-widgets/controls",
            "_model_module_version": "1.5.0",
            "_model_name": "HBoxModel",
            "_view_count": null,
            "_view_module": "@jupyter-widgets/controls",
            "_view_module_version": "1.5.0",
            "_view_name": "HBoxView",
            "box_style": "",
            "children": [
              "IPY_MODEL_9d4b77ba57264698be3ca99c60285882",
              "IPY_MODEL_f17249a394b64067a2d1375909de0b97",
              "IPY_MODEL_9ab9eb5ab8c840218534dbafa527a8ab"
            ],
            "layout": "IPY_MODEL_80bdfd0d450f44389908368cfd6bbfdd"
          }
        },
        "9d4b77ba57264698be3ca99c60285882": {
          "model_module": "@jupyter-widgets/controls",
          "model_name": "HTMLModel",
          "model_module_version": "1.5.0",
          "state": {
            "_dom_classes": [],
            "_model_module": "@jupyter-widgets/controls",
            "_model_module_version": "1.5.0",
            "_model_name": "HTMLModel",
            "_view_count": null,
            "_view_module": "@jupyter-widgets/controls",
            "_view_module_version": "1.5.0",
            "_view_name": "HTMLView",
            "description": "",
            "description_tooltip": null,
            "layout": "IPY_MODEL_6230b21deacf4a279fbce57166b6011b",
            "placeholder": "​",
            "style": "IPY_MODEL_8fa394f277244d7d8cea9dcb1bf65627",
            "value": "Downloading: 100%"
          }
        },
        "f17249a394b64067a2d1375909de0b97": {
          "model_module": "@jupyter-widgets/controls",
          "model_name": "FloatProgressModel",
          "model_module_version": "1.5.0",
          "state": {
            "_dom_classes": [],
            "_model_module": "@jupyter-widgets/controls",
            "_model_module_version": "1.5.0",
            "_model_name": "FloatProgressModel",
            "_view_count": null,
            "_view_module": "@jupyter-widgets/controls",
            "_view_module_version": "1.5.0",
            "_view_name": "ProgressView",
            "bar_style": "success",
            "description": "",
            "description_tooltip": null,
            "layout": "IPY_MODEL_608bb89b74984fcda74bf02274ccd487",
            "max": 442694866,
            "min": 0,
            "orientation": "horizontal",
            "style": "IPY_MODEL_493711a1574a47e08016ff1cf10a7434",
            "value": 442694866
          }
        },
        "9ab9eb5ab8c840218534dbafa527a8ab": {
          "model_module": "@jupyter-widgets/controls",
          "model_name": "HTMLModel",
          "model_module_version": "1.5.0",
          "state": {
            "_dom_classes": [],
            "_model_module": "@jupyter-widgets/controls",
            "_model_module_version": "1.5.0",
            "_model_name": "HTMLModel",
            "_view_count": null,
            "_view_module": "@jupyter-widgets/controls",
            "_view_module_version": "1.5.0",
            "_view_name": "HTMLView",
            "description": "",
            "description_tooltip": null,
            "layout": "IPY_MODEL_7bda7cd94a274e7aa366091b6e7f40a7",
            "placeholder": "​",
            "style": "IPY_MODEL_731f5563348f451887cdd210a0c133db",
            "value": " 422M/422M [00:07&lt;00:00, 57.2MB/s]"
          }
        },
        "80bdfd0d450f44389908368cfd6bbfdd": {
          "model_module": "@jupyter-widgets/base",
          "model_name": "LayoutModel",
          "model_module_version": "1.2.0",
          "state": {
            "_model_module": "@jupyter-widgets/base",
            "_model_module_version": "1.2.0",
            "_model_name": "LayoutModel",
            "_view_count": null,
            "_view_module": "@jupyter-widgets/base",
            "_view_module_version": "1.2.0",
            "_view_name": "LayoutView",
            "align_content": null,
            "align_items": null,
            "align_self": null,
            "border": null,
            "bottom": null,
            "display": null,
            "flex": null,
            "flex_flow": null,
            "grid_area": null,
            "grid_auto_columns": null,
            "grid_auto_flow": null,
            "grid_auto_rows": null,
            "grid_column": null,
            "grid_gap": null,
            "grid_row": null,
            "grid_template_areas": null,
            "grid_template_columns": null,
            "grid_template_rows": null,
            "height": null,
            "justify_content": null,
            "justify_items": null,
            "left": null,
            "margin": null,
            "max_height": null,
            "max_width": null,
            "min_height": null,
            "min_width": null,
            "object_fit": null,
            "object_position": null,
            "order": null,
            "overflow": null,
            "overflow_x": null,
            "overflow_y": null,
            "padding": null,
            "right": null,
            "top": null,
            "visibility": null,
            "width": null
          }
        },
        "6230b21deacf4a279fbce57166b6011b": {
          "model_module": "@jupyter-widgets/base",
          "model_name": "LayoutModel",
          "model_module_version": "1.2.0",
          "state": {
            "_model_module": "@jupyter-widgets/base",
            "_model_module_version": "1.2.0",
            "_model_name": "LayoutModel",
            "_view_count": null,
            "_view_module": "@jupyter-widgets/base",
            "_view_module_version": "1.2.0",
            "_view_name": "LayoutView",
            "align_content": null,
            "align_items": null,
            "align_self": null,
            "border": null,
            "bottom": null,
            "display": null,
            "flex": null,
            "flex_flow": null,
            "grid_area": null,
            "grid_auto_columns": null,
            "grid_auto_flow": null,
            "grid_auto_rows": null,
            "grid_column": null,
            "grid_gap": null,
            "grid_row": null,
            "grid_template_areas": null,
            "grid_template_columns": null,
            "grid_template_rows": null,
            "height": null,
            "justify_content": null,
            "justify_items": null,
            "left": null,
            "margin": null,
            "max_height": null,
            "max_width": null,
            "min_height": null,
            "min_width": null,
            "object_fit": null,
            "object_position": null,
            "order": null,
            "overflow": null,
            "overflow_x": null,
            "overflow_y": null,
            "padding": null,
            "right": null,
            "top": null,
            "visibility": null,
            "width": null
          }
        },
        "8fa394f277244d7d8cea9dcb1bf65627": {
          "model_module": "@jupyter-widgets/controls",
          "model_name": "DescriptionStyleModel",
          "model_module_version": "1.5.0",
          "state": {
            "_model_module": "@jupyter-widgets/controls",
            "_model_module_version": "1.5.0",
            "_model_name": "DescriptionStyleModel",
            "_view_count": null,
            "_view_module": "@jupyter-widgets/base",
            "_view_module_version": "1.2.0",
            "_view_name": "StyleView",
            "description_width": ""
          }
        },
        "608bb89b74984fcda74bf02274ccd487": {
          "model_module": "@jupyter-widgets/base",
          "model_name": "LayoutModel",
          "model_module_version": "1.2.0",
          "state": {
            "_model_module": "@jupyter-widgets/base",
            "_model_module_version": "1.2.0",
            "_model_name": "LayoutModel",
            "_view_count": null,
            "_view_module": "@jupyter-widgets/base",
            "_view_module_version": "1.2.0",
            "_view_name": "LayoutView",
            "align_content": null,
            "align_items": null,
            "align_self": null,
            "border": null,
            "bottom": null,
            "display": null,
            "flex": null,
            "flex_flow": null,
            "grid_area": null,
            "grid_auto_columns": null,
            "grid_auto_flow": null,
            "grid_auto_rows": null,
            "grid_column": null,
            "grid_gap": null,
            "grid_row": null,
            "grid_template_areas": null,
            "grid_template_columns": null,
            "grid_template_rows": null,
            "height": null,
            "justify_content": null,
            "justify_items": null,
            "left": null,
            "margin": null,
            "max_height": null,
            "max_width": null,
            "min_height": null,
            "min_width": null,
            "object_fit": null,
            "object_position": null,
            "order": null,
            "overflow": null,
            "overflow_x": null,
            "overflow_y": null,
            "padding": null,
            "right": null,
            "top": null,
            "visibility": null,
            "width": null
          }
        },
        "493711a1574a47e08016ff1cf10a7434": {
          "model_module": "@jupyter-widgets/controls",
          "model_name": "ProgressStyleModel",
          "model_module_version": "1.5.0",
          "state": {
            "_model_module": "@jupyter-widgets/controls",
            "_model_module_version": "1.5.0",
            "_model_name": "ProgressStyleModel",
            "_view_count": null,
            "_view_module": "@jupyter-widgets/base",
            "_view_module_version": "1.2.0",
            "_view_name": "StyleView",
            "bar_color": null,
            "description_width": ""
          }
        },
        "7bda7cd94a274e7aa366091b6e7f40a7": {
          "model_module": "@jupyter-widgets/base",
          "model_name": "LayoutModel",
          "model_module_version": "1.2.0",
          "state": {
            "_model_module": "@jupyter-widgets/base",
            "_model_module_version": "1.2.0",
            "_model_name": "LayoutModel",
            "_view_count": null,
            "_view_module": "@jupyter-widgets/base",
            "_view_module_version": "1.2.0",
            "_view_name": "LayoutView",
            "align_content": null,
            "align_items": null,
            "align_self": null,
            "border": null,
            "bottom": null,
            "display": null,
            "flex": null,
            "flex_flow": null,
            "grid_area": null,
            "grid_auto_columns": null,
            "grid_auto_flow": null,
            "grid_auto_rows": null,
            "grid_column": null,
            "grid_gap": null,
            "grid_row": null,
            "grid_template_areas": null,
            "grid_template_columns": null,
            "grid_template_rows": null,
            "height": null,
            "justify_content": null,
            "justify_items": null,
            "left": null,
            "margin": null,
            "max_height": null,
            "max_width": null,
            "min_height": null,
            "min_width": null,
            "object_fit": null,
            "object_position": null,
            "order": null,
            "overflow": null,
            "overflow_x": null,
            "overflow_y": null,
            "padding": null,
            "right": null,
            "top": null,
            "visibility": null,
            "width": null
          }
        },
        "731f5563348f451887cdd210a0c133db": {
          "model_module": "@jupyter-widgets/controls",
          "model_name": "DescriptionStyleModel",
          "model_module_version": "1.5.0",
          "state": {
            "_model_module": "@jupyter-widgets/controls",
            "_model_module_version": "1.5.0",
            "_model_name": "DescriptionStyleModel",
            "_view_count": null,
            "_view_module": "@jupyter-widgets/base",
            "_view_module_version": "1.2.0",
            "_view_name": "StyleView",
            "description_width": ""
          }
        },
        "3c6424e5648f47f8849f1f5a3514fe75": {
          "model_module": "@jupyter-widgets/controls",
          "model_name": "HBoxModel",
          "model_module_version": "1.5.0",
          "state": {
            "_dom_classes": [],
            "_model_module": "@jupyter-widgets/controls",
            "_model_module_version": "1.5.0",
            "_model_name": "HBoxModel",
            "_view_count": null,
            "_view_module": "@jupyter-widgets/controls",
            "_view_module_version": "1.5.0",
            "_view_name": "HBoxView",
            "box_style": "",
            "children": [
              "IPY_MODEL_a14007fd19ec4732b962c1652769d6a0",
              "IPY_MODEL_dfdd1ccf80ce4252b00d9f0dc39c4aed",
              "IPY_MODEL_6ec17878edbd4c6286bf3314a449181a"
            ],
            "layout": "IPY_MODEL_57b30467701b46c39d079d8ebf29072e"
          }
        },
        "a14007fd19ec4732b962c1652769d6a0": {
          "model_module": "@jupyter-widgets/controls",
          "model_name": "HTMLModel",
          "model_module_version": "1.5.0",
          "state": {
            "_dom_classes": [],
            "_model_module": "@jupyter-widgets/controls",
            "_model_module_version": "1.5.0",
            "_model_name": "HTMLModel",
            "_view_count": null,
            "_view_module": "@jupyter-widgets/controls",
            "_view_module_version": "1.5.0",
            "_view_name": "HTMLView",
            "description": "",
            "description_tooltip": null,
            "layout": "IPY_MODEL_e0adab12443d4e8fa95ecd7e89a2228c",
            "placeholder": "​",
            "style": "IPY_MODEL_af514fc6180e4260b78d14c9d1f5fc4a",
            "value": "Downloading builder script: "
          }
        },
        "dfdd1ccf80ce4252b00d9f0dc39c4aed": {
          "model_module": "@jupyter-widgets/controls",
          "model_name": "FloatProgressModel",
          "model_module_version": "1.5.0",
          "state": {
            "_dom_classes": [],
            "_model_module": "@jupyter-widgets/controls",
            "_model_module_version": "1.5.0",
            "_model_name": "FloatProgressModel",
            "_view_count": null,
            "_view_module": "@jupyter-widgets/controls",
            "_view_module_version": "1.5.0",
            "_view_name": "ProgressView",
            "bar_style": "success",
            "description": "",
            "description_tooltip": null,
            "layout": "IPY_MODEL_97cbca4c7bd2471980d51221aa0e9cb5",
            "max": 2318,
            "min": 0,
            "orientation": "horizontal",
            "style": "IPY_MODEL_b3a9c35e5afe425ba3c67e9ca9a2e5fa",
            "value": 2318
          }
        },
        "6ec17878edbd4c6286bf3314a449181a": {
          "model_module": "@jupyter-widgets/controls",
          "model_name": "HTMLModel",
          "model_module_version": "1.5.0",
          "state": {
            "_dom_classes": [],
            "_model_module": "@jupyter-widgets/controls",
            "_model_module_version": "1.5.0",
            "_model_name": "HTMLModel",
            "_view_count": null,
            "_view_module": "@jupyter-widgets/controls",
            "_view_module_version": "1.5.0",
            "_view_name": "HTMLView",
            "description": "",
            "description_tooltip": null,
            "layout": "IPY_MODEL_6f8850e4cf6d433696811a586e0e4e8e",
            "placeholder": "​",
            "style": "IPY_MODEL_ab5ede9ad1e8454491bb707880fc8235",
            "value": " 6.50k/? [00:00&lt;00:00, 70.3kB/s]"
          }
        },
        "57b30467701b46c39d079d8ebf29072e": {
          "model_module": "@jupyter-widgets/base",
          "model_name": "LayoutModel",
          "model_module_version": "1.2.0",
          "state": {
            "_model_module": "@jupyter-widgets/base",
            "_model_module_version": "1.2.0",
            "_model_name": "LayoutModel",
            "_view_count": null,
            "_view_module": "@jupyter-widgets/base",
            "_view_module_version": "1.2.0",
            "_view_name": "LayoutView",
            "align_content": null,
            "align_items": null,
            "align_self": null,
            "border": null,
            "bottom": null,
            "display": null,
            "flex": null,
            "flex_flow": null,
            "grid_area": null,
            "grid_auto_columns": null,
            "grid_auto_flow": null,
            "grid_auto_rows": null,
            "grid_column": null,
            "grid_gap": null,
            "grid_row": null,
            "grid_template_areas": null,
            "grid_template_columns": null,
            "grid_template_rows": null,
            "height": null,
            "justify_content": null,
            "justify_items": null,
            "left": null,
            "margin": null,
            "max_height": null,
            "max_width": null,
            "min_height": null,
            "min_width": null,
            "object_fit": null,
            "object_position": null,
            "order": null,
            "overflow": null,
            "overflow_x": null,
            "overflow_y": null,
            "padding": null,
            "right": null,
            "top": null,
            "visibility": null,
            "width": null
          }
        },
        "e0adab12443d4e8fa95ecd7e89a2228c": {
          "model_module": "@jupyter-widgets/base",
          "model_name": "LayoutModel",
          "model_module_version": "1.2.0",
          "state": {
            "_model_module": "@jupyter-widgets/base",
            "_model_module_version": "1.2.0",
            "_model_name": "LayoutModel",
            "_view_count": null,
            "_view_module": "@jupyter-widgets/base",
            "_view_module_version": "1.2.0",
            "_view_name": "LayoutView",
            "align_content": null,
            "align_items": null,
            "align_self": null,
            "border": null,
            "bottom": null,
            "display": null,
            "flex": null,
            "flex_flow": null,
            "grid_area": null,
            "grid_auto_columns": null,
            "grid_auto_flow": null,
            "grid_auto_rows": null,
            "grid_column": null,
            "grid_gap": null,
            "grid_row": null,
            "grid_template_areas": null,
            "grid_template_columns": null,
            "grid_template_rows": null,
            "height": null,
            "justify_content": null,
            "justify_items": null,
            "left": null,
            "margin": null,
            "max_height": null,
            "max_width": null,
            "min_height": null,
            "min_width": null,
            "object_fit": null,
            "object_position": null,
            "order": null,
            "overflow": null,
            "overflow_x": null,
            "overflow_y": null,
            "padding": null,
            "right": null,
            "top": null,
            "visibility": null,
            "width": null
          }
        },
        "af514fc6180e4260b78d14c9d1f5fc4a": {
          "model_module": "@jupyter-widgets/controls",
          "model_name": "DescriptionStyleModel",
          "model_module_version": "1.5.0",
          "state": {
            "_model_module": "@jupyter-widgets/controls",
            "_model_module_version": "1.5.0",
            "_model_name": "DescriptionStyleModel",
            "_view_count": null,
            "_view_module": "@jupyter-widgets/base",
            "_view_module_version": "1.2.0",
            "_view_name": "StyleView",
            "description_width": ""
          }
        },
        "97cbca4c7bd2471980d51221aa0e9cb5": {
          "model_module": "@jupyter-widgets/base",
          "model_name": "LayoutModel",
          "model_module_version": "1.2.0",
          "state": {
            "_model_module": "@jupyter-widgets/base",
            "_model_module_version": "1.2.0",
            "_model_name": "LayoutModel",
            "_view_count": null,
            "_view_module": "@jupyter-widgets/base",
            "_view_module_version": "1.2.0",
            "_view_name": "LayoutView",
            "align_content": null,
            "align_items": null,
            "align_self": null,
            "border": null,
            "bottom": null,
            "display": null,
            "flex": null,
            "flex_flow": null,
            "grid_area": null,
            "grid_auto_columns": null,
            "grid_auto_flow": null,
            "grid_auto_rows": null,
            "grid_column": null,
            "grid_gap": null,
            "grid_row": null,
            "grid_template_areas": null,
            "grid_template_columns": null,
            "grid_template_rows": null,
            "height": null,
            "justify_content": null,
            "justify_items": null,
            "left": null,
            "margin": null,
            "max_height": null,
            "max_width": null,
            "min_height": null,
            "min_width": null,
            "object_fit": null,
            "object_position": null,
            "order": null,
            "overflow": null,
            "overflow_x": null,
            "overflow_y": null,
            "padding": null,
            "right": null,
            "top": null,
            "visibility": null,
            "width": null
          }
        },
        "b3a9c35e5afe425ba3c67e9ca9a2e5fa": {
          "model_module": "@jupyter-widgets/controls",
          "model_name": "ProgressStyleModel",
          "model_module_version": "1.5.0",
          "state": {
            "_model_module": "@jupyter-widgets/controls",
            "_model_module_version": "1.5.0",
            "_model_name": "ProgressStyleModel",
            "_view_count": null,
            "_view_module": "@jupyter-widgets/base",
            "_view_module_version": "1.2.0",
            "_view_name": "StyleView",
            "bar_color": null,
            "description_width": ""
          }
        },
        "6f8850e4cf6d433696811a586e0e4e8e": {
          "model_module": "@jupyter-widgets/base",
          "model_name": "LayoutModel",
          "model_module_version": "1.2.0",
          "state": {
            "_model_module": "@jupyter-widgets/base",
            "_model_module_version": "1.2.0",
            "_model_name": "LayoutModel",
            "_view_count": null,
            "_view_module": "@jupyter-widgets/base",
            "_view_module_version": "1.2.0",
            "_view_name": "LayoutView",
            "align_content": null,
            "align_items": null,
            "align_self": null,
            "border": null,
            "bottom": null,
            "display": null,
            "flex": null,
            "flex_flow": null,
            "grid_area": null,
            "grid_auto_columns": null,
            "grid_auto_flow": null,
            "grid_auto_rows": null,
            "grid_column": null,
            "grid_gap": null,
            "grid_row": null,
            "grid_template_areas": null,
            "grid_template_columns": null,
            "grid_template_rows": null,
            "height": null,
            "justify_content": null,
            "justify_items": null,
            "left": null,
            "margin": null,
            "max_height": null,
            "max_width": null,
            "min_height": null,
            "min_width": null,
            "object_fit": null,
            "object_position": null,
            "order": null,
            "overflow": null,
            "overflow_x": null,
            "overflow_y": null,
            "padding": null,
            "right": null,
            "top": null,
            "visibility": null,
            "width": null
          }
        },
        "ab5ede9ad1e8454491bb707880fc8235": {
          "model_module": "@jupyter-widgets/controls",
          "model_name": "DescriptionStyleModel",
          "model_module_version": "1.5.0",
          "state": {
            "_model_module": "@jupyter-widgets/controls",
            "_model_module_version": "1.5.0",
            "_model_name": "DescriptionStyleModel",
            "_view_count": null,
            "_view_module": "@jupyter-widgets/base",
            "_view_module_version": "1.2.0",
            "_view_name": "StyleView",
            "description_width": ""
          }
        },
        "aa273fb3e4be4c21917ec1f3fb404b57": {
          "model_module": "@jupyter-widgets/controls",
          "model_name": "HBoxModel",
          "model_module_version": "1.5.0",
          "state": {
            "_dom_classes": [],
            "_model_module": "@jupyter-widgets/controls",
            "_model_module_version": "1.5.0",
            "_model_name": "HBoxModel",
            "_view_count": null,
            "_view_module": "@jupyter-widgets/controls",
            "_view_module_version": "1.5.0",
            "_view_name": "HBoxView",
            "box_style": "",
            "children": [
              "IPY_MODEL_15ce491bc95e4ace9cd1822062e0553c",
              "IPY_MODEL_95d7ee14f1284210a1081fb9890531b2",
              "IPY_MODEL_3de8232d4344402fbe85a7d851726136"
            ],
            "layout": "IPY_MODEL_6e42ed4f86ee454c84f28db1fd9c1456"
          }
        },
        "15ce491bc95e4ace9cd1822062e0553c": {
          "model_module": "@jupyter-widgets/controls",
          "model_name": "HTMLModel",
          "model_module_version": "1.5.0",
          "state": {
            "_dom_classes": [],
            "_model_module": "@jupyter-widgets/controls",
            "_model_module_version": "1.5.0",
            "_model_name": "HTMLModel",
            "_view_count": null,
            "_view_module": "@jupyter-widgets/controls",
            "_view_module_version": "1.5.0",
            "_view_name": "HTMLView",
            "description": "",
            "description_tooltip": null,
            "layout": "IPY_MODEL_ce9dc5736ec9482e8f4ccae4a8ebf57a",
            "placeholder": "​",
            "style": "IPY_MODEL_aab87aea4c8e48678e0ccefe6d979ab8",
            "value": "Downloading builder script: "
          }
        },
        "95d7ee14f1284210a1081fb9890531b2": {
          "model_module": "@jupyter-widgets/controls",
          "model_name": "FloatProgressModel",
          "model_module_version": "1.5.0",
          "state": {
            "_dom_classes": [],
            "_model_module": "@jupyter-widgets/controls",
            "_model_module_version": "1.5.0",
            "_model_name": "FloatProgressModel",
            "_view_count": null,
            "_view_module": "@jupyter-widgets/controls",
            "_view_module_version": "1.5.0",
            "_view_name": "ProgressView",
            "bar_style": "success",
            "description": "",
            "description_tooltip": null,
            "layout": "IPY_MODEL_040bb0c3fae64a3384be78a33f1fc4e3",
            "max": 2150,
            "min": 0,
            "orientation": "horizontal",
            "style": "IPY_MODEL_e860fe9963be4a28869653da91b6c3aa",
            "value": 2150
          }
        },
        "3de8232d4344402fbe85a7d851726136": {
          "model_module": "@jupyter-widgets/controls",
          "model_name": "HTMLModel",
          "model_module_version": "1.5.0",
          "state": {
            "_dom_classes": [],
            "_model_module": "@jupyter-widgets/controls",
            "_model_module_version": "1.5.0",
            "_model_name": "HTMLModel",
            "_view_count": null,
            "_view_module": "@jupyter-widgets/controls",
            "_view_module_version": "1.5.0",
            "_view_name": "HTMLView",
            "description": "",
            "description_tooltip": null,
            "layout": "IPY_MODEL_28e447cc7f694e77ad0080eac770dad4",
            "placeholder": "​",
            "style": "IPY_MODEL_f3e205e3887948eab8619cf8d7084790",
            "value": " 5.29k/? [00:00&lt;00:00, 130kB/s]"
          }
        },
        "6e42ed4f86ee454c84f28db1fd9c1456": {
          "model_module": "@jupyter-widgets/base",
          "model_name": "LayoutModel",
          "model_module_version": "1.2.0",
          "state": {
            "_model_module": "@jupyter-widgets/base",
            "_model_module_version": "1.2.0",
            "_model_name": "LayoutModel",
            "_view_count": null,
            "_view_module": "@jupyter-widgets/base",
            "_view_module_version": "1.2.0",
            "_view_name": "LayoutView",
            "align_content": null,
            "align_items": null,
            "align_self": null,
            "border": null,
            "bottom": null,
            "display": null,
            "flex": null,
            "flex_flow": null,
            "grid_area": null,
            "grid_auto_columns": null,
            "grid_auto_flow": null,
            "grid_auto_rows": null,
            "grid_column": null,
            "grid_gap": null,
            "grid_row": null,
            "grid_template_areas": null,
            "grid_template_columns": null,
            "grid_template_rows": null,
            "height": null,
            "justify_content": null,
            "justify_items": null,
            "left": null,
            "margin": null,
            "max_height": null,
            "max_width": null,
            "min_height": null,
            "min_width": null,
            "object_fit": null,
            "object_position": null,
            "order": null,
            "overflow": null,
            "overflow_x": null,
            "overflow_y": null,
            "padding": null,
            "right": null,
            "top": null,
            "visibility": null,
            "width": null
          }
        },
        "ce9dc5736ec9482e8f4ccae4a8ebf57a": {
          "model_module": "@jupyter-widgets/base",
          "model_name": "LayoutModel",
          "model_module_version": "1.2.0",
          "state": {
            "_model_module": "@jupyter-widgets/base",
            "_model_module_version": "1.2.0",
            "_model_name": "LayoutModel",
            "_view_count": null,
            "_view_module": "@jupyter-widgets/base",
            "_view_module_version": "1.2.0",
            "_view_name": "LayoutView",
            "align_content": null,
            "align_items": null,
            "align_self": null,
            "border": null,
            "bottom": null,
            "display": null,
            "flex": null,
            "flex_flow": null,
            "grid_area": null,
            "grid_auto_columns": null,
            "grid_auto_flow": null,
            "grid_auto_rows": null,
            "grid_column": null,
            "grid_gap": null,
            "grid_row": null,
            "grid_template_areas": null,
            "grid_template_columns": null,
            "grid_template_rows": null,
            "height": null,
            "justify_content": null,
            "justify_items": null,
            "left": null,
            "margin": null,
            "max_height": null,
            "max_width": null,
            "min_height": null,
            "min_width": null,
            "object_fit": null,
            "object_position": null,
            "order": null,
            "overflow": null,
            "overflow_x": null,
            "overflow_y": null,
            "padding": null,
            "right": null,
            "top": null,
            "visibility": null,
            "width": null
          }
        },
        "aab87aea4c8e48678e0ccefe6d979ab8": {
          "model_module": "@jupyter-widgets/controls",
          "model_name": "DescriptionStyleModel",
          "model_module_version": "1.5.0",
          "state": {
            "_model_module": "@jupyter-widgets/controls",
            "_model_module_version": "1.5.0",
            "_model_name": "DescriptionStyleModel",
            "_view_count": null,
            "_view_module": "@jupyter-widgets/base",
            "_view_module_version": "1.2.0",
            "_view_name": "StyleView",
            "description_width": ""
          }
        },
        "040bb0c3fae64a3384be78a33f1fc4e3": {
          "model_module": "@jupyter-widgets/base",
          "model_name": "LayoutModel",
          "model_module_version": "1.2.0",
          "state": {
            "_model_module": "@jupyter-widgets/base",
            "_model_module_version": "1.2.0",
            "_model_name": "LayoutModel",
            "_view_count": null,
            "_view_module": "@jupyter-widgets/base",
            "_view_module_version": "1.2.0",
            "_view_name": "LayoutView",
            "align_content": null,
            "align_items": null,
            "align_self": null,
            "border": null,
            "bottom": null,
            "display": null,
            "flex": null,
            "flex_flow": null,
            "grid_area": null,
            "grid_auto_columns": null,
            "grid_auto_flow": null,
            "grid_auto_rows": null,
            "grid_column": null,
            "grid_gap": null,
            "grid_row": null,
            "grid_template_areas": null,
            "grid_template_columns": null,
            "grid_template_rows": null,
            "height": null,
            "justify_content": null,
            "justify_items": null,
            "left": null,
            "margin": null,
            "max_height": null,
            "max_width": null,
            "min_height": null,
            "min_width": null,
            "object_fit": null,
            "object_position": null,
            "order": null,
            "overflow": null,
            "overflow_x": null,
            "overflow_y": null,
            "padding": null,
            "right": null,
            "top": null,
            "visibility": null,
            "width": null
          }
        },
        "e860fe9963be4a28869653da91b6c3aa": {
          "model_module": "@jupyter-widgets/controls",
          "model_name": "ProgressStyleModel",
          "model_module_version": "1.5.0",
          "state": {
            "_model_module": "@jupyter-widgets/controls",
            "_model_module_version": "1.5.0",
            "_model_name": "ProgressStyleModel",
            "_view_count": null,
            "_view_module": "@jupyter-widgets/base",
            "_view_module_version": "1.2.0",
            "_view_name": "StyleView",
            "bar_color": null,
            "description_width": ""
          }
        },
        "28e447cc7f694e77ad0080eac770dad4": {
          "model_module": "@jupyter-widgets/base",
          "model_name": "LayoutModel",
          "model_module_version": "1.2.0",
          "state": {
            "_model_module": "@jupyter-widgets/base",
            "_model_module_version": "1.2.0",
            "_model_name": "LayoutModel",
            "_view_count": null,
            "_view_module": "@jupyter-widgets/base",
            "_view_module_version": "1.2.0",
            "_view_name": "LayoutView",
            "align_content": null,
            "align_items": null,
            "align_self": null,
            "border": null,
            "bottom": null,
            "display": null,
            "flex": null,
            "flex_flow": null,
            "grid_area": null,
            "grid_auto_columns": null,
            "grid_auto_flow": null,
            "grid_auto_rows": null,
            "grid_column": null,
            "grid_gap": null,
            "grid_row": null,
            "grid_template_areas": null,
            "grid_template_columns": null,
            "grid_template_rows": null,
            "height": null,
            "justify_content": null,
            "justify_items": null,
            "left": null,
            "margin": null,
            "max_height": null,
            "max_width": null,
            "min_height": null,
            "min_width": null,
            "object_fit": null,
            "object_position": null,
            "order": null,
            "overflow": null,
            "overflow_x": null,
            "overflow_y": null,
            "padding": null,
            "right": null,
            "top": null,
            "visibility": null,
            "width": null
          }
        },
        "f3e205e3887948eab8619cf8d7084790": {
          "model_module": "@jupyter-widgets/controls",
          "model_name": "DescriptionStyleModel",
          "model_module_version": "1.5.0",
          "state": {
            "_model_module": "@jupyter-widgets/controls",
            "_model_module_version": "1.5.0",
            "_model_name": "DescriptionStyleModel",
            "_view_count": null,
            "_view_module": "@jupyter-widgets/base",
            "_view_module_version": "1.2.0",
            "_view_name": "StyleView",
            "description_width": ""
          }
        }
      }
    },
    "accelerator": "GPU"
  },
  "cells": [
    {
      "cell_type": "markdown",
      "metadata": {
        "id": "view-in-github",
        "colab_type": "text"
      },
      "source": [
        "<a href=\"https://colab.research.google.com/github/ttogle918/NLU_3-/blob/main/%EC%9A%B0%EA%B2%BD%ED%99%94_sts.ipynb\" target=\"_parent\"><img src=\"https://colab.research.google.com/assets/colab-badge.svg\" alt=\"Open In Colab\"/></a>"
      ]
    },
    {
      "cell_type": "markdown",
      "source": [
        "# **NLU - 문장 유사도 계산 (STS)**"
      ],
      "metadata": {
        "id": "DimWDs7A8PS6"
      }
    },
    {
      "cell_type": "markdown",
      "source": [
        "## **과제 목표**\n",
        "\n",
        "- 두 개의 한국어 문장을 입력받아 두 문장의 의미적 유사도를 출력\n",
        "- regression task (0 ≤ target ≤ 5)"
      ],
      "metadata": {
        "id": "FJ3Qkc_m8PKE"
      }
    },
    {
      "cell_type": "markdown",
      "source": [
        "## **학습 데이터셋(Dataset description)**\n",
        "\n",
        "- [KLUE-STS](https://klue-benchmark.com/tasks/67/data/download)\n",
        "  - AIRBNB (에어비앤비 리뷰)\n",
        "  - policy (정책 뉴스)\n",
        "  - paraKOQC (스마트홈 쿼리)\n",
        "\n",
        "  ![image.png](data:image/png;base64,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)"
      ],
      "metadata": {
        "id": "fmJ0IRR98PCU"
      }
    },
    {
      "cell_type": "markdown",
      "source": [
        "## **과제 결과물**\n",
        "- 학습된 모델 (모델 자유 선택) (train set만 사용해 학습)\n",
        "- 학습 방식 보고서\n",
        " - 어떤 모델을 선택했나\n",
        " - 어떻게 파라미터를 튜닝했나\n",
        " - 어떤 훈련 과정을 거쳤는가\n",
        "- dev set score (F1)\n",
        "- 문장 유사도를 출력하는 API (프레임워크 자유 선택)"
      ],
      "metadata": {
        "id": "Bxw10bz08O7s"
      }
    },
    {
      "cell_type": "markdown",
      "source": [
        "## **설치 및 설정(Set up)**"
      ],
      "metadata": {
        "id": "gJR3pTML8crf"
      }
    },
    {
      "cell_type": "code",
      "execution_count": null,
      "metadata": {
        "id": "o9vsMuRZbtG_"
      },
      "outputs": [],
      "source": [
        "# Hugging Face의 트랜스포머 모델 설치\n",
        "!pip install transformers\n",
        "!pip install sentence_transformers datasets\n",
        "!pip install datasets"
      ]
    },
    {
      "cell_type": "code",
      "source": [
        "# tensorboard 패키지 설치\n",
        "!pip install jupyter-tensorboard"
      ],
      "metadata": {
        "id": "0mYjuV7f2jWH"
      },
      "execution_count": null,
      "outputs": []
    },
    {
      "cell_type": "code",
      "source": [
        "# 라이브러리\n",
        "import os\n",
        "import sys\n",
        "import re\n",
        "import json\n",
        "import random\n",
        "import pandas as pd\n",
        "import numpy as np\n",
        "import matplotlib.pyplot as plt\n",
        "from sklearn.metrics import f1_score\n",
        "\n",
        "import math\n",
        "import logging\n",
        "import time\n",
        "from datetime import datetime\n",
        "\n",
        "import torch\n",
        "from torch.utils.data import Dataset, DataLoader\n",
        "from torch.utils.tensorboard import SummaryWriter\n",
        "from torch.optim import AdamW\n",
        "from datasets import load_dataset, load_metric\n",
        "from sentence_transformers import SentenceTransformer, models, LoggingHandler, losses, util\n",
        "from sentence_transformers.evaluation import EmbeddingSimilarityEvaluator\n",
        "from sentence_transformers.readers import InputExample\n",
        "from transformers import AutoTokenizer, AutoModelForSequenceClassification\n",
        "from transformers import TrainingArguments, Trainer, EarlyStoppingCallback\n",
        "from transformers import get_linear_schedule_with_warmup"
      ],
      "metadata": {
        "id": "7cgRTDfN88an"
      },
      "execution_count": 3,
      "outputs": []
    },
    {
      "cell_type": "code",
      "source": [
        "# seed\n",
        "seed = 7777\n",
        "random.seed(seed)\n",
        "torch.manual_seed(seed)\n",
        "torch.cuda.manual_seed_all(seed)\n",
        "\n",
        "# device type 확인\n",
        "if torch.cuda.is_available():\n",
        "    device = torch.device(\"cuda\")\n",
        "    print(f\"# available GPUs : {torch.cuda.device_count()}\")\n",
        "    print(f\"GPU name : {torch.cuda.get_device_name()}\")\n",
        "else:\n",
        "    device = torch.device(\"cpu\")\n",
        "print(device)"
      ],
      "metadata": {
        "id": "P3Hxm1n4_iz8",
        "colab": {
          "base_uri": "https://localhost:8080/"
        },
        "outputId": "6d89bc70-6029-4bcf-df1d-031d27b95163"
      },
      "execution_count": 4,
      "outputs": [
        {
          "output_type": "stream",
          "name": "stdout",
          "text": [
            "# available GPUs : 1\n",
            "GPU name : Tesla T4\n",
            "cuda\n"
          ]
        }
      ]
    },
    {
      "cell_type": "code",
      "source": [
        "# logger\n",
        "logging.basicConfig(\n",
        "    format=\"%(asctime)s - %(message)s\",\n",
        "    datefmt=\"%Y-%m-%d %H:%M:%S\",\n",
        "    level=logging.INFO,\n",
        "    handlers=[LoggingHandler()],\n",
        ")"
      ],
      "metadata": {
        "id": "SCrukh84Boms"
      },
      "execution_count": 5,
      "outputs": []
    },
    {
      "cell_type": "markdown",
      "source": [
        "## **데이터셋 불러오기(Load Dataset)**\n",
        "- STS 데이터는 두 개의 문장 쌍과 이 두 문장 사이의 유사도 점수로 구성됨.\n",
        "- STS데이터를 학습하여 문장과 문장간 서로 얼마나 유사한지를 예측."
      ],
      "metadata": {
        "id": "63TSIsF6BqsW"
      }
    },
    {
      "cell_type": "markdown",
      "source": [
        "### KLUE-STS 데이터셋\n",
        "- [KLUE-STS](https://klue-benchmark.com/tasks/67/data/download)"
      ],
      "metadata": {
        "id": "xAgHi2AoIn9N"
      }
    },
    {
      "cell_type": "code",
      "source": [
        "# KLUE-STS 데이터셋 다운로드\n",
        "#dataset = load_dataset('klue', 'sts')\n",
        "klue_sts_train = load_dataset(\"klue\", \"sts\", split='train[:90%]')\n",
        "klue_sts_valid = load_dataset(\"klue\", \"sts\", split='train[-10%:]') # train의 10%를 validation set으로 사용\n",
        "klue_sts_test = load_dataset(\"klue\", \"sts\", split='validation')"
      ],
      "metadata": {
        "id": "EDy1kxlXBrey",
        "colab": {
          "base_uri": "https://localhost:8080/",
          "height": 206,
          "referenced_widgets": [
            "3f9340f636384d208a6aedda53448368",
            "9076d54351b64ab1b6233c1127776b97",
            "9803adee2e22462b9a206856379a52d5",
            "7dea4996a79746cf9c38ae1de4201729",
            "4acacd88a5b24a14aadc0dbe268b914e",
            "9761bea2783f4712958968f2a54b8161",
            "00f7c4652538408d971e1227a2811406",
            "61950a46d76f43fb91ecd415cebe1ac1",
            "734c23bc16b947e894cb38dd00c92c61",
            "2906b965a2ab4007b2efa78696d1d69c",
            "f050dda1961c4fb29b6391e4c8774224",
            "61a5f6d9449e4b4a9bd47cd1f6975277",
            "3c56b68ec7904bf8889de2ca50ee42ad",
            "7adb8af82a6f4150a04a1f9ea427e69b",
            "14aa13c1d51e477683872eba9e85ccfe",
            "791342b332fb407a965059da4b2a0a81",
            "fb3693902aea4ac9b91936d4f2c75dee",
            "01a2af672af94a6a8294e9b5c39e97a8",
            "4dc9be548a82499d9194645df0947cf4",
            "0667622fae274b30ae5c728ebf16dacb",
            "2482946a5cf849f295faf1d048f9d175",
            "3057c4abbbf54ff0b107a003b3c620f3",
            "1f36d30c7a1740a5a3701c01e6b9dac1",
            "fe583213f3c14c919f67fb2903575537",
            "82da878f33084b6ba3760ae7911e0e62",
            "501568021eb04929bed19fd37784fa81",
            "9115cdc6df6e4d9b907307799a84a4de",
            "13240915e61647c28f887b7ee08e7fb0",
            "5cab29235c6f441b9defe06cd770baf2",
            "a7a306ee13d14b1cbbc49caaeaec9d96",
            "cca199bdc629420185c34762e9925ad1",
            "767cc695bc374d38b6eafd04dcf6972a",
            "98fe56ee1bf3462fbf7c697dec694e8d",
            "6a382e2394ae4d4f9bcc0b0711c959de",
            "84120c6151414e0e8f1ad54bf9f09275",
            "56fdb25eb54a4e1ea9d13d02fe43d4d7",
            "85128a8000a34833b7bb421fea4b4c83",
            "562dfefac01045a598c4b9ed9f2b7ec1",
            "4a0f619357c842d5a33d6037ad6df32e",
            "13f3d3ebd119487393d2055ddf31399b",
            "b7bfa8b5c0d84935b883374e37045d51",
            "168064435371408cae6f57939ab684ce",
            "0be51e73cad54a08baafc82ecbe44a53",
            "59a30e852da041cb92f4cf1ae96acfb8",
            "023e63ea1bab44f7b928c618963a193e",
            "f5aa198ec4264973a49636a5108a830d",
            "6939a5160a244ce18f330d1b50650fec",
            "a5cebfbf54e04bf1a0cdce840f49fbce",
            "1cc24ff18f2d4f3ca12817f52c2ede21",
            "c3c04140659a4c07b0508c440f482386",
            "42bdd55b44774d6683cf92ede3cb3e6c",
            "d753d8dedc5c4c129ae6e4a62c2e19af",
            "100056b9567d4869bf3b508fa2772fd3",
            "838767857a534c238d1d3563b94bcdbb",
            "e012b7a9a2f7444facca0a2da5815a31"
          ]
        },
        "outputId": "53607906-db8c-4173-d5d2-7c2f8d5fde7e"
      },
      "execution_count": 6,
      "outputs": [
        {
          "output_type": "display_data",
          "data": {
            "text/plain": [
              "Downloading builder script:   0%|          | 0.00/5.21k [00:00<?, ?B/s]"
            ],
            "application/vnd.jupyter.widget-view+json": {
              "version_major": 2,
              "version_minor": 0,
              "model_id": "3f9340f636384d208a6aedda53448368"
            }
          },
          "metadata": {}
        },
        {
          "output_type": "display_data",
          "data": {
            "text/plain": [
              "Downloading metadata:   0%|          | 0.00/2.93k [00:00<?, ?B/s]"
            ],
            "application/vnd.jupyter.widget-view+json": {
              "version_major": 2,
              "version_minor": 0,
              "model_id": "61a5f6d9449e4b4a9bd47cd1f6975277"
            }
          },
          "metadata": {}
        },
        {
          "output_type": "stream",
          "name": "stdout",
          "text": [
            "Downloading and preparing dataset klue/sts (download: 1.29 MiB, generated: 2.82 MiB, post-processed: Unknown size, total: 4.11 MiB) to /root/.cache/huggingface/datasets/klue/sts/1.0.0/e0fc3bc3de3eb03be2c92d72fd04a60ecc71903f821619cb28ca0e1e29e4233e...\n"
          ]
        },
        {
          "output_type": "display_data",
          "data": {
            "text/plain": [
              "Downloading data:   0%|          | 0.00/1.35M [00:00<?, ?B/s]"
            ],
            "application/vnd.jupyter.widget-view+json": {
              "version_major": 2,
              "version_minor": 0,
              "model_id": "1f36d30c7a1740a5a3701c01e6b9dac1"
            }
          },
          "metadata": {}
        },
        {
          "output_type": "display_data",
          "data": {
            "text/plain": [
              "Generating train split:   0%|          | 0/11668 [00:00<?, ? examples/s]"
            ],
            "application/vnd.jupyter.widget-view+json": {
              "version_major": 2,
              "version_minor": 0,
              "model_id": "6a382e2394ae4d4f9bcc0b0711c959de"
            }
          },
          "metadata": {}
        },
        {
          "output_type": "display_data",
          "data": {
            "text/plain": [
              "Generating validation split:   0%|          | 0/519 [00:00<?, ? examples/s]"
            ],
            "application/vnd.jupyter.widget-view+json": {
              "version_major": 2,
              "version_minor": 0,
              "model_id": "023e63ea1bab44f7b928c618963a193e"
            }
          },
          "metadata": {}
        },
        {
          "output_type": "stream",
          "name": "stdout",
          "text": [
            "Dataset klue downloaded and prepared to /root/.cache/huggingface/datasets/klue/sts/1.0.0/e0fc3bc3de3eb03be2c92d72fd04a60ecc71903f821619cb28ca0e1e29e4233e. Subsequent calls will reuse this data.\n",
            "2022-06-01 21:10:09 - Reusing dataset klue (/root/.cache/huggingface/datasets/klue/sts/1.0.0/e0fc3bc3de3eb03be2c92d72fd04a60ecc71903f821619cb28ca0e1e29e4233e)\n",
            "2022-06-01 21:10:11 - Reusing dataset klue (/root/.cache/huggingface/datasets/klue/sts/1.0.0/e0fc3bc3de3eb03be2c92d72fd04a60ecc71903f821619cb28ca0e1e29e4233e)\n"
          ]
        }
      ]
    },
    {
      "cell_type": "code",
      "source": [
        "print(f'shape : train {klue_sts_train.shape}, valid {klue_sts_valid.shape}, test {klue_sts_test.shape}')"
      ],
      "metadata": {
        "colab": {
          "base_uri": "https://localhost:8080/"
        },
        "id": "252btsq4BD2d",
        "outputId": "c04cae02-b91b-4daa-cf27-626c2e19a15a"
      },
      "execution_count": 7,
      "outputs": [
        {
          "output_type": "stream",
          "name": "stdout",
          "text": [
            "shape : train (10501, 5), valid (1167, 5), test (519, 5)\n"
          ]
        }
      ]
    },
    {
      "cell_type": "code",
      "source": [
        "# dataset 데이터셋 중 train 첫째 줄 내용\n",
        "klue_sts_train[0]"
      ],
      "metadata": {
        "id": "r3JYJ5E3C3Sb",
        "colab": {
          "base_uri": "https://localhost:8080/"
        },
        "outputId": "63a6aaaf-6a05-4cf2-b3b8-ba73613db7da"
      },
      "execution_count": 8,
      "outputs": [
        {
          "output_type": "execute_result",
          "data": {
            "text/plain": [
              "{'guid': 'klue-sts-v1_train_00000',\n",
              " 'labels': {'binary-label': 1, 'label': 3.7, 'real-label': 3.714285714285714},\n",
              " 'sentence1': '숙소 위치는 찾기 쉽고 일반적인 한국의 반지하 숙소입니다.',\n",
              " 'sentence2': '숙박시설의 위치는 쉽게 찾을 수 있고 한국의 대표적인 반지하 숙박시설입니다.',\n",
              " 'source': 'airbnb-rtt'}"
            ]
          },
          "metadata": {},
          "execution_count": 8
        }
      ]
    },
    {
      "cell_type": "code",
      "source": [
        "# dataset 데이터셋 중 validation 첫째 줄 내용\n",
        "klue_sts_valid[0]"
      ],
      "metadata": {
        "id": "M20zhK3bC4wS",
        "colab": {
          "base_uri": "https://localhost:8080/"
        },
        "outputId": "92da9497-dc8d-4d89-cb6d-b284c56266f4"
      },
      "execution_count": 9,
      "outputs": [
        {
          "output_type": "execute_result",
          "data": {
            "text/plain": [
              "{'guid': 'klue-sts-v1_train_10501',\n",
              " 'labels': {'binary-label': 0, 'label': 0.0, 'real-label': 0.0},\n",
              " 'sentence1': '지난해 대비 TV 등 3개 품목이 추가됐다.',\n",
              " 'sentence2': '특히 재활용산업육성자금은 전년 대비 350억 원이 증액됐다.',\n",
              " 'source': 'policy-sampled'}"
            ]
          },
          "metadata": {},
          "execution_count": 9
        }
      ]
    },
    {
      "cell_type": "markdown",
      "source": [
        "## **데이터 전처리(Data Preprocessing)**"
      ],
      "metadata": {
        "id": "Q83KGMO1C7tS"
      }
    },
    {
      "cell_type": "code",
      "source": [
        "# 파라미터 정의 \n",
        "task = \"sts\"\n",
        "model_checkpoint = \"klue/roberta-base\"\n",
        "batch_size = 32"
      ],
      "metadata": {
        "id": "QtirRVyY3zfh"
      },
      "execution_count": 10,
      "outputs": []
    },
    {
      "cell_type": "code",
      "source": [
        "# klue/roberta-base tokenizer 불러오기 \n",
        "tokenizer = AutoTokenizer.from_pretrained(model_checkpoint, use_fast=True)"
      ],
      "metadata": {
        "colab": {
          "base_uri": "https://localhost:8080/",
          "height": 145,
          "referenced_widgets": [
            "e279c2556c244d3884fd9806075a0713",
            "8c32d3cc1a61479dbae8628bf99ef82d",
            "f4dfcce8b47147b4ab6ce2a236e3b0b8",
            "d20fab01630b45a3ba096efacc654180",
            "411d631044ee450d820c70fa13abebb8",
            "cc344f5b07f84e8186df0fe3e386ae44",
            "dfd34c7270984b84a2d25ebf9c74f130",
            "56f66a57596f49b6b565f0e9aaf906f4",
            "236a52811655483f95c87298b2abf085",
            "b3e67e17d56f41198772e0da132a2e22",
            "32d0196738bd4673a2c0091a11a237bb",
            "0b9f894833824226b2b88985c880ffac",
            "eb12d0bb3cc1486684829896fa8f60e1",
            "3b4b71df043747f190334143828f793b",
            "179e05b96b314933b2e4be1b3aaa1565",
            "3735cce306a74b8eaeb1bf4d31fb24db",
            "c62d8f5a11f9492f804c12bcc22e01c7",
            "292ef191c847486c8b916898ad4366c7",
            "c6b5e2c29b0146f1ada8e77dc02ff4d2",
            "525f2f05c72f4151909bc483c29f2294",
            "7775af37624448188e232902372aa844",
            "b4b00dcea59243788c123f95439420e6",
            "ca317e806c974824b4923bce34ec069f",
            "7fc50e7425b0433e83b52788b9d40962",
            "6cd36af9e0c742b79406b4c6a8872885",
            "6aae1a41ebe245438e7fb0005e7382c9",
            "fd43e0b1a9cb4ec6925167c083ae2270",
            "cd50018d21eb4bdab67eee6ba2454cd1",
            "1f72a88f74b74926954610464ba191ee",
            "717b19d3784546acaf50c3ea6fb0a6af",
            "2c9e56fbba474f9d8127570b18133467",
            "8bbad1e6c7d84b5ba18812edf6742a28",
            "99fff384fd974b8c81e8782c0096d0ad",
            "032375f8ce6049dd902c3dd938425d56",
            "784f3006c8364e93a6eddf821217beb3",
            "f1df3fa119d54306911af4580e3622d0",
            "223823611a28416289510997a51da8f0",
            "7e9daee0c7354cec93aa4fd26b21a5c5",
            "3113e635b5994aad8c973b022558d761",
            "898c5fc1f01e4864a8fecfe36fdebf90",
            "6f885fe4c747454da2515004ccdddd8d",
            "306098431aa547c1811b5ff8c8f917a7",
            "c4c25bcb858640d5b7331e9e2070e9bc",
            "a62fe2c49e6b4464bcd70ded46c807d5"
          ]
        },
        "id": "zy1tT8TY3vWS",
        "outputId": "3c30bd7c-9268-44e0-8bb0-b14b7b982209"
      },
      "execution_count": 11,
      "outputs": [
        {
          "output_type": "display_data",
          "data": {
            "text/plain": [
              "Downloading:   0%|          | 0.00/375 [00:00<?, ?B/s]"
            ],
            "application/vnd.jupyter.widget-view+json": {
              "version_major": 2,
              "version_minor": 0,
              "model_id": "e279c2556c244d3884fd9806075a0713"
            }
          },
          "metadata": {}
        },
        {
          "output_type": "display_data",
          "data": {
            "text/plain": [
              "Downloading:   0%|          | 0.00/243k [00:00<?, ?B/s]"
            ],
            "application/vnd.jupyter.widget-view+json": {
              "version_major": 2,
              "version_minor": 0,
              "model_id": "0b9f894833824226b2b88985c880ffac"
            }
          },
          "metadata": {}
        },
        {
          "output_type": "display_data",
          "data": {
            "text/plain": [
              "Downloading:   0%|          | 0.00/734k [00:00<?, ?B/s]"
            ],
            "application/vnd.jupyter.widget-view+json": {
              "version_major": 2,
              "version_minor": 0,
              "model_id": "ca317e806c974824b4923bce34ec069f"
            }
          },
          "metadata": {}
        },
        {
          "output_type": "display_data",
          "data": {
            "text/plain": [
              "Downloading:   0%|          | 0.00/173 [00:00<?, ?B/s]"
            ],
            "application/vnd.jupyter.widget-view+json": {
              "version_major": 2,
              "version_minor": 0,
              "model_id": "032375f8ce6049dd902c3dd938425d56"
            }
          },
          "metadata": {}
        }
      ]
    },
    {
      "cell_type": "code",
      "source": [
        "# real-label을 label로 변경 \n",
        "klue_sts_train = klue_sts_train.flatten()\n",
        "klue_sts_train = klue_sts_train.rename_column('labels.real-label','label')\n",
        "klue_sts_valid = klue_sts_valid.flatten()\n",
        "klue_sts_valid = klue_sts_valid.rename_column('labels.real-label','label')\n",
        "klue_sts_test = klue_sts_test.flatten()\n",
        "klue_sts_test = klue_sts_test.rename_column('labels.real-label','label')"
      ],
      "metadata": {
        "id": "QHOaCpZ83vRf"
      },
      "execution_count": 12,
      "outputs": []
    },
    {
      "cell_type": "code",
      "source": [
        "# 모델 입력으로 만들어 주는 전처리 함수 \n",
        "# truncation으로 길이 넘어가면 자를 수 있게 설정\n",
        "# padding 으로 길이 맞춰주기 \n",
        "def preprocess_function(dataset):\n",
        "    return tokenizer(dataset['sentence1'], dataset['sentence2'], truncation=True, max_length=512, padding=True)"
      ],
      "metadata": {
        "id": "qb5niQ5W3vJ0"
      },
      "execution_count": 13,
      "outputs": []
    },
    {
      "cell_type": "code",
      "source": [
        "# 전처리 함수 각 데이터셋에 적용 \n",
        "encoded_train = klue_sts_train.map(preprocess_function, batched=True)\n",
        "encoded_valid = klue_sts_valid.map(preprocess_function, batched=True)\n",
        "encoded_test = klue_sts_test.map(preprocess_function, batched=True)"
      ],
      "metadata": {
        "colab": {
          "base_uri": "https://localhost:8080/",
          "height": 113,
          "referenced_widgets": [
            "09a912f32bd3448f980312506499e1be",
            "f2253241967e4e28b34280cc6580e7fa",
            "c4405927a56c447ca2ee19334e9e0a0b",
            "d9ce6d572bb248b984a5c30e5ac814fe",
            "2a58b8babd4b47c9a4f386e3a5851587",
            "4753c88eeb9641a9b3965e7458213a77",
            "e30710cfeb6249739bf2569cf0b51b8f",
            "8021e35c5fdc462bb9d73a7648f1386e",
            "74d97c8323e045dea8654c5af22652be",
            "72f75378d7a64c3793a3f6b1feb8a66f",
            "c5f0d51bf89047d890e1b0b4beabc2b2",
            "d01cb75d653b4d4a85677dad207efbca",
            "af70b8afddd441b4ab016dad839bbffe",
            "6490d610716742f2b5550668fd6deee1",
            "f24a50cb11414b8f8046993f71b4a4ba",
            "500eda2e97df4cf58dae2c89f497748b",
            "ff1a3c6a75e743ff990d340b6dd964b7",
            "e35056efc826475987288d3d7b647770",
            "faf1f11d649b4df2b56053e6cd927642",
            "f68f92f04f81481999bd0bf2e511b203",
            "4a4818a208ce4c91907acedd1236fea5",
            "16e3e7e8d8604062827bff1e166ff184",
            "3961b9f43ace4116a69a582cfbc0293a",
            "86fcb6d9997740628b7ed2472a0d4a7b",
            "8a0cf22c474c433bb4660af48fbe18df",
            "1949f93746f24947af880f2414b3a429",
            "8a34ff9c82f84926ab00c10820fe05f1",
            "83f8201c00ea42c89386961384e21661",
            "14f9e838304240d2825d8fb560e78f48",
            "03a2a02c0cef4d538cf91fb2fc2b8a82",
            "75ba22a15bf9474c8f00dd513908ddd8",
            "a5d34c82e9044b94a990c565ff368d8d",
            "5b584b7b33414670aa0dc1cd9c21db41"
          ]
        },
        "id": "64pYk7xM3vFM",
        "outputId": "c994037c-6b6e-4eb7-c3d3-ae136aa81b9f"
      },
      "execution_count": 14,
      "outputs": [
        {
          "output_type": "display_data",
          "data": {
            "text/plain": [
              "  0%|          | 0/11 [00:00<?, ?ba/s]"
            ],
            "application/vnd.jupyter.widget-view+json": {
              "version_major": 2,
              "version_minor": 0,
              "model_id": "09a912f32bd3448f980312506499e1be"
            }
          },
          "metadata": {}
        },
        {
          "output_type": "display_data",
          "data": {
            "text/plain": [
              "  0%|          | 0/2 [00:00<?, ?ba/s]"
            ],
            "application/vnd.jupyter.widget-view+json": {
              "version_major": 2,
              "version_minor": 0,
              "model_id": "d01cb75d653b4d4a85677dad207efbca"
            }
          },
          "metadata": {}
        },
        {
          "output_type": "display_data",
          "data": {
            "text/plain": [
              "  0%|          | 0/1 [00:00<?, ?ba/s]"
            ],
            "application/vnd.jupyter.widget-view+json": {
              "version_major": 2,
              "version_minor": 0,
              "model_id": "3961b9f43ace4116a69a582cfbc0293a"
            }
          },
          "metadata": {}
        }
      ]
    },
    {
      "cell_type": "markdown",
      "source": [
        "\n",
        "\n",
        "---\n",
        "\n",
        "\n",
        "## **모델 훈련 & 모델 평가(Model Training & Model Evaluation)**"
      ],
      "metadata": {
        "id": "udb5fO6uxlnf"
      }
    },
    {
      "cell_type": "markdown",
      "source": [
        "\n",
        "###**Model : klue/roberta-base**\n",
        "batch_size : 32"
      ],
      "metadata": {
        "id": "q8i7H7WP-MZv"
      }
    },
    {
      "cell_type": "code",
      "source": [
        "num_labels = 1\n",
        "\n",
        "# model : klue/roberta-base 사용\n",
        "model = AutoModelForSequenceClassification.from_pretrained(model_checkpoint, num_labels=num_labels)"
      ],
      "metadata": {
        "colab": {
          "base_uri": "https://localhost:8080/",
          "height": 192,
          "referenced_widgets": [
            "e8c7b1d309b646f381e7e345d3cfff36",
            "9c71c4700e7840e384817b7c5b42863b",
            "f2903379552644db8191db72dcd768ad",
            "7e38ddd18a604f3184d041b579f24d1a",
            "ae6598a05bcf4fa68ea8460cc60d34b9",
            "0b8e5d3465a7409daec21ce611e635ff",
            "ee7fc857ac2140b392d1c583904e2bcb",
            "c928310d9cc34f179a3693e2f63a0cd0",
            "b5d26059c34649ee9ca489574f4276de",
            "fbb066533736400288187ca4f113158c",
            "f2a2d63490f840b4ba9fe6a2adc7c558",
            "40496dac6a3b4ee0830af638461f0027",
            "9d4b77ba57264698be3ca99c60285882",
            "f17249a394b64067a2d1375909de0b97",
            "9ab9eb5ab8c840218534dbafa527a8ab",
            "80bdfd0d450f44389908368cfd6bbfdd",
            "6230b21deacf4a279fbce57166b6011b",
            "8fa394f277244d7d8cea9dcb1bf65627",
            "608bb89b74984fcda74bf02274ccd487",
            "493711a1574a47e08016ff1cf10a7434",
            "7bda7cd94a274e7aa366091b6e7f40a7",
            "731f5563348f451887cdd210a0c133db"
          ]
        },
        "id": "G5g4OcQzh8Oy",
        "outputId": "08a10371-f0b8-49b3-dd35-4220c1479d49"
      },
      "execution_count": 15,
      "outputs": [
        {
          "output_type": "display_data",
          "data": {
            "text/plain": [
              "Downloading:   0%|          | 0.00/546 [00:00<?, ?B/s]"
            ],
            "application/vnd.jupyter.widget-view+json": {
              "version_major": 2,
              "version_minor": 0,
              "model_id": "e8c7b1d309b646f381e7e345d3cfff36"
            }
          },
          "metadata": {}
        },
        {
          "output_type": "display_data",
          "data": {
            "text/plain": [
              "Downloading:   0%|          | 0.00/422M [00:00<?, ?B/s]"
            ],
            "application/vnd.jupyter.widget-view+json": {
              "version_major": 2,
              "version_minor": 0,
              "model_id": "40496dac6a3b4ee0830af638461f0027"
            }
          },
          "metadata": {}
        },
        {
          "output_type": "stream",
          "name": "stderr",
          "text": [
            "Some weights of the model checkpoint at klue/roberta-base were not used when initializing RobertaForSequenceClassification: ['lm_head.dense.weight', 'lm_head.decoder.bias', 'lm_head.decoder.weight', 'lm_head.layer_norm.bias', 'lm_head.bias', 'lm_head.layer_norm.weight', 'lm_head.dense.bias']\n",
            "- This IS expected if you are initializing RobertaForSequenceClassification from the checkpoint of a model trained on another task or with another architecture (e.g. initializing a BertForSequenceClassification model from a BertForPreTraining model).\n",
            "- This IS NOT expected if you are initializing RobertaForSequenceClassification from the checkpoint of a model that you expect to be exactly identical (initializing a BertForSequenceClassification model from a BertForSequenceClassification model).\n",
            "Some weights of RobertaForSequenceClassification were not initialized from the model checkpoint at klue/roberta-base and are newly initialized: ['classifier.dense.weight', 'classifier.out_proj.weight', 'classifier.out_proj.bias', 'classifier.dense.bias']\n",
            "You should probably TRAIN this model on a down-stream task to be able to use it for predictions and inference.\n"
          ]
        }
      ]
    },
    {
      "cell_type": "code",
      "source": [
        "# 텐서보드 dir 정의 \n",
        "logdir_path = \"/content/drive/MyDrive/Colab Notebooks/NLP with 파이토치/nlp/logs\" # log 파일을 저장할 경로를 지정\n",
        "logdir_path = os.path.join(logdir_path, \"sts_log\") # 이번 프로젝트 로그를 저장할 파일 경로 정의\n",
        "writer = SummaryWriter(logdir_path) "
      ],
      "metadata": {
        "id": "V2DYlh1i8Bgb"
      },
      "execution_count": 16,
      "outputs": []
    },
    {
      "cell_type": "code",
      "source": [
        "# 베이스 라인 모델 : batch_size= 32, 나머지는 default\n",
        "\n",
        "output_dir = os.path.join(\"/content/drive/MyDrive/Colab Notebooks/NLP with 파이토치/nlp\", \"sts\")\n",
        "\n",
        "args = TrainingArguments(\n",
        "    # checkpoint\n",
        "    output_dir=output_dir,\n",
        "\n",
        "    # Model Save & Load\n",
        "    save_strategy = \"epoch\", # 각 epoch 마지막에 저장 \n",
        "    load_best_model_at_end=True, # train 종료시 best model 로드할지 여부\n",
        "\n",
        "    # Dataset\n",
        "    num_train_epochs=4,\n",
        "    per_device_train_batch_size=batch_size,\n",
        "    per_device_eval_batch_size=batch_size,\n",
        "    \n",
        "    # Evaluation \n",
        "    evaluation_strategy = \"epoch\",# 각 epoch 마지막에 평가\n",
        "\n",
        "    # Randomness\n",
        "    seed=42\n",
        ")"
      ],
      "metadata": {
        "id": "YPXa2hl42ABI"
      },
      "execution_count": 17,
      "outputs": []
    },
    {
      "cell_type": "code",
      "source": [
        "# f1과 pearson 메트릭 불러오기 \n",
        "metric_f1 = load_metric(\"f1\") \n",
        "metric_pearson = load_metric(\"pearsonr\") "
      ],
      "metadata": {
        "colab": {
          "base_uri": "https://localhost:8080/",
          "height": 81,
          "referenced_widgets": [
            "3c6424e5648f47f8849f1f5a3514fe75",
            "a14007fd19ec4732b962c1652769d6a0",
            "dfdd1ccf80ce4252b00d9f0dc39c4aed",
            "6ec17878edbd4c6286bf3314a449181a",
            "57b30467701b46c39d079d8ebf29072e",
            "e0adab12443d4e8fa95ecd7e89a2228c",
            "af514fc6180e4260b78d14c9d1f5fc4a",
            "97cbca4c7bd2471980d51221aa0e9cb5",
            "b3a9c35e5afe425ba3c67e9ca9a2e5fa",
            "6f8850e4cf6d433696811a586e0e4e8e",
            "ab5ede9ad1e8454491bb707880fc8235",
            "aa273fb3e4be4c21917ec1f3fb404b57",
            "15ce491bc95e4ace9cd1822062e0553c",
            "95d7ee14f1284210a1081fb9890531b2",
            "3de8232d4344402fbe85a7d851726136",
            "6e42ed4f86ee454c84f28db1fd9c1456",
            "ce9dc5736ec9482e8f4ccae4a8ebf57a",
            "aab87aea4c8e48678e0ccefe6d979ab8",
            "040bb0c3fae64a3384be78a33f1fc4e3",
            "e860fe9963be4a28869653da91b6c3aa",
            "28e447cc7f694e77ad0080eac770dad4",
            "f3e205e3887948eab8619cf8d7084790"
          ]
        },
        "id": "4Utl51moiD8A",
        "outputId": "2ea0697d-0b29-4f7e-cbc3-357116961d86"
      },
      "execution_count": 18,
      "outputs": [
        {
          "output_type": "display_data",
          "data": {
            "text/plain": [
              "Downloading builder script:   0%|          | 0.00/2.32k [00:00<?, ?B/s]"
            ],
            "application/vnd.jupyter.widget-view+json": {
              "version_major": 2,
              "version_minor": 0,
              "model_id": "3c6424e5648f47f8849f1f5a3514fe75"
            }
          },
          "metadata": {}
        },
        {
          "output_type": "display_data",
          "data": {
            "text/plain": [
              "Downloading builder script:   0%|          | 0.00/2.15k [00:00<?, ?B/s]"
            ],
            "application/vnd.jupyter.widget-view+json": {
              "version_major": 2,
              "version_minor": 0,
              "model_id": "aa273fb3e4be4c21917ec1f3fb404b57"
            }
          },
          "metadata": {}
        }
      ]
    },
    {
      "cell_type": "code",
      "source": [
        "# metric: pearsonr, F1 score\n",
        "metric_name = \"pearsonr\"\n",
        "metric_pearsonr = load_metric(metric_name) # peason r\n",
        "metric_name2 = \"f1\"\n",
        "metric_f1 = load_metric(metric_name2) # f1"
      ],
      "metadata": {
        "id": "PxutJNk3ILQU"
      },
      "execution_count": 19,
      "outputs": []
    },
    {
      "cell_type": "code",
      "source": [
        "# 출력시 메트릭 정의 하는 함수 \n",
        "def compute_metrics(eval_pred):\n",
        "    predictions, labels = eval_pred\n",
        "    predictions = predictions[:, 0]\n",
        "\n",
        "    # 3.0 이상 -> '1' , 3.0 미만 -> '0'으로 변환\n",
        "    predict_f1 = [1 if i>=3.0 else 0 for i in predictions] \n",
        "    labels_f1 = [1 if i>=3.0 else 0 for i in labels]\n",
        "\n",
        "    # peason r 계산\n",
        "    peason_r = metric_pearson.compute(predictions=predictions, references=labels)\n",
        "\n",
        "    # f1\n",
        "    f1 = metric_f1.compute(predictions=predict_f1, references=labels_f1)\n",
        "\n",
        "    return {'pearsonr' : peason_r, 'f1' : f1}"
      ],
      "metadata": {
        "id": "LO59BdF-0wXT"
      },
      "execution_count": 20,
      "outputs": []
    },
    {
      "cell_type": "code",
      "metadata": {
        "id": "8jhJB1NJOv1y"
      },
      "source": [
        "# trainer \n",
        "trainer = Trainer(\n",
        "    model,\n",
        "    args,\n",
        "    train_dataset = encoded_train,\n",
        "    eval_dataset = encoded_valid,\n",
        "    tokenizer = tokenizer,\n",
        "    compute_metrics = compute_metrics,\n",
        "    callbacks = [EarlyStoppingCallback(early_stopping_patience = 1)]\n",
        ")"
      ],
      "execution_count": 21,
      "outputs": []
    },
    {
      "cell_type": "code",
      "source": [
        "trainer.train()"
      ],
      "metadata": {
        "id": "56IzEpmk8cuW",
        "outputId": "9eca12a9-f696-4bbe-de01-9fb7986878bc",
        "colab": {
          "base_uri": "https://localhost:8080/",
          "height": 1000
        }
      },
      "execution_count": 22,
      "outputs": [
        {
          "output_type": "stream",
          "name": "stderr",
          "text": [
            "The following columns in the training set don't have a corresponding argument in `RobertaForSequenceClassification.forward` and have been ignored: sentence1, source, labels.binary-label, guid, sentence2, labels.label. If sentence1, source, labels.binary-label, guid, sentence2, labels.label are not expected by `RobertaForSequenceClassification.forward`,  you can safely ignore this message.\n",
            "/usr/local/lib/python3.7/dist-packages/transformers/optimization.py:309: FutureWarning: This implementation of AdamW is deprecated and will be removed in a future version. Use the PyTorch implementation torch.optim.AdamW instead, or set `no_deprecation_warning=True` to disable this warning\n",
            "  FutureWarning,\n",
            "***** Running training *****\n",
            "  Num examples = 10501\n",
            "  Num Epochs = 4\n",
            "  Instantaneous batch size per device = 32\n",
            "  Total train batch size (w. parallel, distributed & accumulation) = 32\n",
            "  Gradient Accumulation steps = 1\n",
            "  Total optimization steps = 1316\n"
          ]
        },
        {
          "output_type": "display_data",
          "data": {
            "text/plain": [
              "<IPython.core.display.HTML object>"
            ],
            "text/html": [
              "\n",
              "    <div>\n",
              "      \n",
              "      <progress value='987' max='1316' style='width:300px; height:20px; vertical-align: middle;'></progress>\n",
              "      [ 987/1316 11:19 < 03:47, 1.45 it/s, Epoch 3/4]\n",
              "    </div>\n",
              "    <table border=\"1\" class=\"dataframe\">\n",
              "  <thead>\n",
              " <tr style=\"text-align: left;\">\n",
              "      <th>Epoch</th>\n",
              "      <th>Training Loss</th>\n",
              "      <th>Validation Loss</th>\n",
              "      <th>Pearsonr</th>\n",
              "      <th>F1</th>\n",
              "    </tr>\n",
              "  </thead>\n",
              "  <tbody>\n",
              "    <tr>\n",
              "      <td>1</td>\n",
              "      <td>No log</td>\n",
              "      <td>0.292051</td>\n",
              "      <td>{'pearsonr': 0.9707647775601107}</td>\n",
              "      <td>{'f1': 0.9508771929824562}</td>\n",
              "    </tr>\n",
              "    <tr>\n",
              "      <td>2</td>\n",
              "      <td>0.388800</td>\n",
              "      <td>0.172854</td>\n",
              "      <td>{'pearsonr': 0.9746129190102996}</td>\n",
              "      <td>{'f1': 0.9597855227882036}</td>\n",
              "    </tr>\n",
              "    <tr>\n",
              "      <td>3</td>\n",
              "      <td>0.388800</td>\n",
              "      <td>0.191283</td>\n",
              "      <td>{'pearsonr': 0.9785844701147103}</td>\n",
              "      <td>{'f1': 0.9590747330960854}</td>\n",
              "    </tr>\n",
              "  </tbody>\n",
              "</table><p>"
            ]
          },
          "metadata": {}
        },
        {
          "output_type": "stream",
          "name": "stderr",
          "text": [
            "The following columns in the evaluation set don't have a corresponding argument in `RobertaForSequenceClassification.forward` and have been ignored: sentence1, source, labels.binary-label, guid, sentence2, labels.label. If sentence1, source, labels.binary-label, guid, sentence2, labels.label are not expected by `RobertaForSequenceClassification.forward`,  you can safely ignore this message.\n",
            "***** Running Evaluation *****\n",
            "  Num examples = 1167\n",
            "  Batch size = 32\n",
            "Trainer is attempting to log a value of \"{'pearsonr': 0.9707647775601107}\" of type <class 'dict'> for key \"eval/pearsonr\" as a scalar. This invocation of Tensorboard's writer.add_scalar() is incorrect so we dropped this attribute.\n",
            "Trainer is attempting to log a value of \"{'f1': 0.9508771929824562}\" of type <class 'dict'> for key \"eval/f1\" as a scalar. This invocation of Tensorboard's writer.add_scalar() is incorrect so we dropped this attribute.\n",
            "Saving model checkpoint to /content/drive/MyDrive/Colab Notebooks/NLP with 파이토치/nlp/sts/checkpoint-329\n",
            "Configuration saved in /content/drive/MyDrive/Colab Notebooks/NLP with 파이토치/nlp/sts/checkpoint-329/config.json\n",
            "Model weights saved in /content/drive/MyDrive/Colab Notebooks/NLP with 파이토치/nlp/sts/checkpoint-329/pytorch_model.bin\n",
            "tokenizer config file saved in /content/drive/MyDrive/Colab Notebooks/NLP with 파이토치/nlp/sts/checkpoint-329/tokenizer_config.json\n",
            "Special tokens file saved in /content/drive/MyDrive/Colab Notebooks/NLP with 파이토치/nlp/sts/checkpoint-329/special_tokens_map.json\n",
            "The following columns in the evaluation set don't have a corresponding argument in `RobertaForSequenceClassification.forward` and have been ignored: sentence1, source, labels.binary-label, guid, sentence2, labels.label. If sentence1, source, labels.binary-label, guid, sentence2, labels.label are not expected by `RobertaForSequenceClassification.forward`,  you can safely ignore this message.\n",
            "***** Running Evaluation *****\n",
            "  Num examples = 1167\n",
            "  Batch size = 32\n",
            "Trainer is attempting to log a value of \"{'pearsonr': 0.9746129190102996}\" of type <class 'dict'> for key \"eval/pearsonr\" as a scalar. This invocation of Tensorboard's writer.add_scalar() is incorrect so we dropped this attribute.\n",
            "Trainer is attempting to log a value of \"{'f1': 0.9597855227882036}\" of type <class 'dict'> for key \"eval/f1\" as a scalar. This invocation of Tensorboard's writer.add_scalar() is incorrect so we dropped this attribute.\n",
            "Saving model checkpoint to /content/drive/MyDrive/Colab Notebooks/NLP with 파이토치/nlp/sts/checkpoint-658\n",
            "Configuration saved in /content/drive/MyDrive/Colab Notebooks/NLP with 파이토치/nlp/sts/checkpoint-658/config.json\n",
            "Model weights saved in /content/drive/MyDrive/Colab Notebooks/NLP with 파이토치/nlp/sts/checkpoint-658/pytorch_model.bin\n",
            "tokenizer config file saved in /content/drive/MyDrive/Colab Notebooks/NLP with 파이토치/nlp/sts/checkpoint-658/tokenizer_config.json\n",
            "Special tokens file saved in /content/drive/MyDrive/Colab Notebooks/NLP with 파이토치/nlp/sts/checkpoint-658/special_tokens_map.json\n",
            "The following columns in the evaluation set don't have a corresponding argument in `RobertaForSequenceClassification.forward` and have been ignored: sentence1, source, labels.binary-label, guid, sentence2, labels.label. If sentence1, source, labels.binary-label, guid, sentence2, labels.label are not expected by `RobertaForSequenceClassification.forward`,  you can safely ignore this message.\n",
            "***** Running Evaluation *****\n",
            "  Num examples = 1167\n",
            "  Batch size = 32\n",
            "Trainer is attempting to log a value of \"{'pearsonr': 0.9785844701147103}\" of type <class 'dict'> for key \"eval/pearsonr\" as a scalar. This invocation of Tensorboard's writer.add_scalar() is incorrect so we dropped this attribute.\n",
            "Trainer is attempting to log a value of \"{'f1': 0.9590747330960854}\" of type <class 'dict'> for key \"eval/f1\" as a scalar. This invocation of Tensorboard's writer.add_scalar() is incorrect so we dropped this attribute.\n",
            "Saving model checkpoint to /content/drive/MyDrive/Colab Notebooks/NLP with 파이토치/nlp/sts/checkpoint-987\n",
            "Configuration saved in /content/drive/MyDrive/Colab Notebooks/NLP with 파이토치/nlp/sts/checkpoint-987/config.json\n",
            "Model weights saved in /content/drive/MyDrive/Colab Notebooks/NLP with 파이토치/nlp/sts/checkpoint-987/pytorch_model.bin\n",
            "tokenizer config file saved in /content/drive/MyDrive/Colab Notebooks/NLP with 파이토치/nlp/sts/checkpoint-987/tokenizer_config.json\n",
            "Special tokens file saved in /content/drive/MyDrive/Colab Notebooks/NLP with 파이토치/nlp/sts/checkpoint-987/special_tokens_map.json\n",
            "\n",
            "\n",
            "Training completed. Do not forget to share your model on huggingface.co/models =)\n",
            "\n",
            "\n",
            "Loading best model from /content/drive/MyDrive/Colab Notebooks/NLP with 파이토치/nlp/sts/checkpoint-658 (score: 0.17285382747650146).\n"
          ]
        },
        {
          "output_type": "execute_result",
          "data": {
            "text/plain": [
              "TrainOutput(global_step=987, training_loss=0.25219582400181856, metrics={'train_runtime': 680.4428, 'train_samples_per_second': 61.73, 'train_steps_per_second': 1.934, 'total_flos': 2038396057643070.0, 'train_loss': 0.25219582400181856, 'epoch': 3.0})"
            ]
          },
          "metadata": {},
          "execution_count": 22
        }
      ]
    },
    {
      "cell_type": "code",
      "metadata": {
        "colab": {
          "base_uri": "https://localhost:8080/",
          "height": 295
        },
        "outputId": "be90d180-54f8-4b44-83c5-aeef8cf37aa2",
        "id": "inF3Dt40muCT"
      },
      "source": [
        "# baseline score\n",
        "trainer.evaluate()"
      ],
      "execution_count": 23,
      "outputs": [
        {
          "output_type": "stream",
          "name": "stderr",
          "text": [
            "The following columns in the evaluation set don't have a corresponding argument in `RobertaForSequenceClassification.forward` and have been ignored: sentence1, source, labels.binary-label, guid, sentence2, labels.label. If sentence1, source, labels.binary-label, guid, sentence2, labels.label are not expected by `RobertaForSequenceClassification.forward`,  you can safely ignore this message.\n",
            "***** Running Evaluation *****\n",
            "  Num examples = 1167\n",
            "  Batch size = 32\n"
          ]
        },
        {
          "output_type": "display_data",
          "data": {
            "text/plain": [
              "<IPython.core.display.HTML object>"
            ],
            "text/html": [
              "\n",
              "    <div>\n",
              "      \n",
              "      <progress value='37' max='37' style='width:300px; height:20px; vertical-align: middle;'></progress>\n",
              "      [37/37 00:06]\n",
              "    </div>\n",
              "    "
            ]
          },
          "metadata": {}
        },
        {
          "output_type": "stream",
          "name": "stderr",
          "text": [
            "Trainer is attempting to log a value of \"{'pearsonr': 0.9746129190102996}\" of type <class 'dict'> for key \"eval/pearsonr\" as a scalar. This invocation of Tensorboard's writer.add_scalar() is incorrect so we dropped this attribute.\n",
            "Trainer is attempting to log a value of \"{'f1': 0.9597855227882036}\" of type <class 'dict'> for key \"eval/f1\" as a scalar. This invocation of Tensorboard's writer.add_scalar() is incorrect so we dropped this attribute.\n"
          ]
        },
        {
          "output_type": "execute_result",
          "data": {
            "text/plain": [
              "{'epoch': 3.0,\n",
              " 'eval_f1': {'f1': 0.9597855227882036},\n",
              " 'eval_loss': 0.17285382747650146,\n",
              " 'eval_pearsonr': {'pearsonr': 0.9746129190102996},\n",
              " 'eval_runtime': 7.0541,\n",
              " 'eval_samples_per_second': 165.435,\n",
              " 'eval_steps_per_second': 5.245}"
            ]
          },
          "metadata": {},
          "execution_count": 23
        }
      ]
    },
    {
      "cell_type": "code",
      "source": [
        "# test set으로 prediction \n",
        "predictions = trainer.predict(encoded_test)"
      ],
      "metadata": {
        "colab": {
          "base_uri": "https://localhost:8080/",
          "height": 131
        },
        "id": "9gElrs4R5Mq5",
        "outputId": "ea7d9cdc-87d4-4f95-ad1b-b94cff72ef1e"
      },
      "execution_count": 24,
      "outputs": [
        {
          "output_type": "stream",
          "name": "stderr",
          "text": [
            "The following columns in the test set don't have a corresponding argument in `RobertaForSequenceClassification.forward` and have been ignored: sentence1, source, labels.binary-label, guid, sentence2, labels.label. If sentence1, source, labels.binary-label, guid, sentence2, labels.label are not expected by `RobertaForSequenceClassification.forward`,  you can safely ignore this message.\n",
            "***** Running Prediction *****\n",
            "  Num examples = 519\n",
            "  Batch size = 32\n"
          ]
        },
        {
          "output_type": "display_data",
          "data": {
            "text/plain": [
              "<IPython.core.display.HTML object>"
            ],
            "text/html": [
              "\n",
              "    <div>\n",
              "      \n",
              "      <progress value='54' max='37' style='width:300px; height:20px; vertical-align: middle;'></progress>\n",
              "      [37/37 00:10]\n",
              "    </div>\n",
              "    "
            ]
          },
          "metadata": {}
        }
      ]
    },
    {
      "cell_type": "code",
      "source": [
        "# test set score \n",
        "predictions.metrics"
      ],
      "metadata": {
        "colab": {
          "base_uri": "https://localhost:8080/"
        },
        "outputId": "1e0f4231-b2bc-4d42-ada7-fcbf345d8694",
        "id": "4-UtlDq5m3am"
      },
      "execution_count": 25,
      "outputs": [
        {
          "output_type": "execute_result",
          "data": {
            "text/plain": [
              "{'test_f1': {'f1': 0.8495934959349595},\n",
              " 'test_loss': 0.41511061787605286,\n",
              " 'test_pearsonr': {'pearsonr': 0.9092805311609943},\n",
              " 'test_runtime': 3.2509,\n",
              " 'test_samples_per_second': 159.649,\n",
              " 'test_steps_per_second': 5.229}"
            ]
          },
          "metadata": {},
          "execution_count": 25
        }
      ]
    },
    {
      "cell_type": "markdown",
      "source": [
        "\n",
        "\n",
        "---\n",
        "\n",
        "\n",
        "###**Model : klue/roberta-base**\n",
        "batch_size : 16"
      ],
      "metadata": {
        "id": "6GISTMSH_LSX"
      }
    },
    {
      "cell_type": "code",
      "source": [
        "# batch_size= 16\n",
        "\n",
        "output_dir = os.path.join(\"/content/drive/MyDrive/Colab Notebooks/NLP with 파이토치/nlp\", \"sts\")\n",
        "\n",
        "batch_args = TrainingArguments(\n",
        "    # checkpoint\n",
        "    output_dir = output_dir,\n",
        "\n",
        "    # Model Save & Load\n",
        "    save_strategy = \"epoch\", # 각 epoch 마지막에 저장 \n",
        "    load_best_model_at_end = True, # train 종료시 best model 로드할지 여부\n",
        "\n",
        "    # Dataset\n",
        "    num_train_epochs = 4,\n",
        "    per_device_train_batch_size = 16,\n",
        "    per_device_eval_batch_size = 16,\n",
        "    \n",
        "    # Optimizer (AdamW)\n",
        "    learning_rate =  5e-5,\n",
        "    warmup_steps = 200, \n",
        "    weight_decay = 0.01,\n",
        "\n",
        "    # Evaluation \n",
        "    evaluation_strategy = \"epoch\",# 각 epoch 마지막에 평가\n",
        "\n",
        "    # Randomness\n",
        "    seed = 42\n",
        ")"
      ],
      "metadata": {
        "colab": {
          "base_uri": "https://localhost:8080/"
        },
        "id": "Av69nKiX_0ts",
        "outputId": "803d61b2-6363-4ca5-f35f-746da46b944a"
      },
      "execution_count": 26,
      "outputs": [
        {
          "output_type": "stream",
          "name": "stderr",
          "text": [
            "PyTorch: setting up devices\n",
            "The default value for the training argument `--report_to` will change in v5 (from all installed integrations to none). In v5, you will need to use `--report_to all` to get the same behavior as now. You should start updating your code and make this info disappear :-).\n"
          ]
        }
      ]
    },
    {
      "cell_type": "code",
      "source": [
        "# optimizer 및 scheduler 설정: 16\n",
        "optimizer = AdamW(\n",
        "    model.parameters(),\n",
        "    lr = 5e-5,\n",
        "    eps = 1e-8\n",
        ")\n",
        "\n",
        "batch_size = 16\n",
        "total_steps = round(len(encoded_train.shard(index=1, num_shards=10)) / batch_size) * 5\n",
        "\n",
        "# lr 선형으로 감소시키는 스케줄러\n",
        "scheduler = get_linear_schedule_with_warmup(optimizer, \n",
        "                                            num_warmup_steps = 0,\n",
        "                                            num_training_steps = total_steps)"
      ],
      "metadata": {
        "id": "xZRUEUaVYyzy"
      },
      "execution_count": 27,
      "outputs": []
    },
    {
      "cell_type": "code",
      "source": [
        "# batch_size : 16\n",
        "trainer = Trainer(\n",
        "    model,\n",
        "    args = batch_args,\n",
        "    train_dataset = encoded_train ,\n",
        "    eval_dataset = encoded_valid,\n",
        "    tokenizer = tokenizer,\n",
        "    compute_metrics = compute_metrics,\n",
        "    optimizers = (optimizer, scheduler),\n",
        "    callbacks = [EarlyStoppingCallback(early_stopping_patience = 1)]\n",
        ")"
      ],
      "metadata": {
        "id": "KX4AGpX3ZKaH"
      },
      "execution_count": 28,
      "outputs": []
    },
    {
      "cell_type": "code",
      "source": [
        "trainer.train()"
      ],
      "metadata": {
        "outputId": "312bf6ff-6749-4831-9ad4-7a143189ab61",
        "colab": {
          "base_uri": "https://localhost:8080/",
          "height": 833
        },
        "id": "113W49p0_0tw"
      },
      "execution_count": 29,
      "outputs": [
        {
          "output_type": "stream",
          "name": "stderr",
          "text": [
            "The following columns in the training set don't have a corresponding argument in `RobertaForSequenceClassification.forward` and have been ignored: sentence1, source, labels.binary-label, guid, sentence2, labels.label. If sentence1, source, labels.binary-label, guid, sentence2, labels.label are not expected by `RobertaForSequenceClassification.forward`,  you can safely ignore this message.\n",
            "***** Running training *****\n",
            "  Num examples = 10501\n",
            "  Num Epochs = 4\n",
            "  Instantaneous batch size per device = 16\n",
            "  Total train batch size (w. parallel, distributed & accumulation) = 16\n",
            "  Gradient Accumulation steps = 1\n",
            "  Total optimization steps = 2628\n"
          ]
        },
        {
          "output_type": "display_data",
          "data": {
            "text/plain": [
              "<IPython.core.display.HTML object>"
            ],
            "text/html": [
              "\n",
              "    <div>\n",
              "      \n",
              "      <progress value='1314' max='2628' style='width:300px; height:20px; vertical-align: middle;'></progress>\n",
              "      [1314/2628 08:01 < 08:02, 2.72 it/s, Epoch 2/4]\n",
              "    </div>\n",
              "    <table border=\"1\" class=\"dataframe\">\n",
              "  <thead>\n",
              " <tr style=\"text-align: left;\">\n",
              "      <th>Epoch</th>\n",
              "      <th>Training Loss</th>\n",
              "      <th>Validation Loss</th>\n",
              "      <th>Pearsonr</th>\n",
              "      <th>F1</th>\n",
              "    </tr>\n",
              "  </thead>\n",
              "  <tbody>\n",
              "    <tr>\n",
              "      <td>1</td>\n",
              "      <td>0.120800</td>\n",
              "      <td>0.171174</td>\n",
              "      <td>{'pearsonr': 0.9761494725561198}</td>\n",
              "      <td>{'f1': 0.9566003616636528}</td>\n",
              "    </tr>\n",
              "    <tr>\n",
              "      <td>2</td>\n",
              "      <td>0.089300</td>\n",
              "      <td>0.171174</td>\n",
              "      <td>{'pearsonr': 0.9761494725561198}</td>\n",
              "      <td>{'f1': 0.9566003616636528}</td>\n",
              "    </tr>\n",
              "  </tbody>\n",
              "</table><p>"
            ]
          },
          "metadata": {}
        },
        {
          "output_type": "stream",
          "name": "stderr",
          "text": [
            "The following columns in the evaluation set don't have a corresponding argument in `RobertaForSequenceClassification.forward` and have been ignored: sentence1, source, labels.binary-label, guid, sentence2, labels.label. If sentence1, source, labels.binary-label, guid, sentence2, labels.label are not expected by `RobertaForSequenceClassification.forward`,  you can safely ignore this message.\n",
            "***** Running Evaluation *****\n",
            "  Num examples = 1167\n",
            "  Batch size = 16\n",
            "Trainer is attempting to log a value of \"{'pearsonr': 0.9761494725561198}\" of type <class 'dict'> for key \"eval/pearsonr\" as a scalar. This invocation of Tensorboard's writer.add_scalar() is incorrect so we dropped this attribute.\n",
            "Trainer is attempting to log a value of \"{'f1': 0.9566003616636528}\" of type <class 'dict'> for key \"eval/f1\" as a scalar. This invocation of Tensorboard's writer.add_scalar() is incorrect so we dropped this attribute.\n",
            "Saving model checkpoint to /content/drive/MyDrive/Colab Notebooks/NLP with 파이토치/nlp/sts/checkpoint-657\n",
            "Configuration saved in /content/drive/MyDrive/Colab Notebooks/NLP with 파이토치/nlp/sts/checkpoint-657/config.json\n",
            "Model weights saved in /content/drive/MyDrive/Colab Notebooks/NLP with 파이토치/nlp/sts/checkpoint-657/pytorch_model.bin\n",
            "tokenizer config file saved in /content/drive/MyDrive/Colab Notebooks/NLP with 파이토치/nlp/sts/checkpoint-657/tokenizer_config.json\n",
            "Special tokens file saved in /content/drive/MyDrive/Colab Notebooks/NLP with 파이토치/nlp/sts/checkpoint-657/special_tokens_map.json\n",
            "The following columns in the evaluation set don't have a corresponding argument in `RobertaForSequenceClassification.forward` and have been ignored: sentence1, source, labels.binary-label, guid, sentence2, labels.label. If sentence1, source, labels.binary-label, guid, sentence2, labels.label are not expected by `RobertaForSequenceClassification.forward`,  you can safely ignore this message.\n",
            "***** Running Evaluation *****\n",
            "  Num examples = 1167\n",
            "  Batch size = 16\n",
            "Trainer is attempting to log a value of \"{'pearsonr': 0.9761494725561198}\" of type <class 'dict'> for key \"eval/pearsonr\" as a scalar. This invocation of Tensorboard's writer.add_scalar() is incorrect so we dropped this attribute.\n",
            "Trainer is attempting to log a value of \"{'f1': 0.9566003616636528}\" of type <class 'dict'> for key \"eval/f1\" as a scalar. This invocation of Tensorboard's writer.add_scalar() is incorrect so we dropped this attribute.\n",
            "Saving model checkpoint to /content/drive/MyDrive/Colab Notebooks/NLP with 파이토치/nlp/sts/checkpoint-1314\n",
            "Configuration saved in /content/drive/MyDrive/Colab Notebooks/NLP with 파이토치/nlp/sts/checkpoint-1314/config.json\n",
            "Model weights saved in /content/drive/MyDrive/Colab Notebooks/NLP with 파이토치/nlp/sts/checkpoint-1314/pytorch_model.bin\n",
            "tokenizer config file saved in /content/drive/MyDrive/Colab Notebooks/NLP with 파이토치/nlp/sts/checkpoint-1314/tokenizer_config.json\n",
            "Special tokens file saved in /content/drive/MyDrive/Colab Notebooks/NLP with 파이토치/nlp/sts/checkpoint-1314/special_tokens_map.json\n",
            "\n",
            "\n",
            "Training completed. Do not forget to share your model on huggingface.co/models =)\n",
            "\n",
            "\n",
            "Loading best model from /content/drive/MyDrive/Colab Notebooks/NLP with 파이토치/nlp/sts/checkpoint-657 (score: 0.1711743026971817).\n"
          ]
        },
        {
          "output_type": "execute_result",
          "data": {
            "text/plain": [
              "TrainOutput(global_step=1314, training_loss=0.10093667191457531, metrics={'train_runtime': 482.3235, 'train_samples_per_second': 87.087, 'train_steps_per_second': 5.449, 'total_flos': 1354533912171084.0, 'train_loss': 0.10093667191457531, 'epoch': 2.0})"
            ]
          },
          "metadata": {},
          "execution_count": 29
        }
      ]
    },
    {
      "cell_type": "code",
      "metadata": {
        "colab": {
          "base_uri": "https://localhost:8080/",
          "height": 295
        },
        "id": "Ec1OAbd0_0ty",
        "outputId": "58a85d3a-bc6a-458c-c2b8-1e93a9c761b0"
      },
      "source": [
        "# score\n",
        "trainer.evaluate()"
      ],
      "execution_count": 30,
      "outputs": [
        {
          "output_type": "stream",
          "name": "stderr",
          "text": [
            "The following columns in the evaluation set don't have a corresponding argument in `RobertaForSequenceClassification.forward` and have been ignored: sentence1, source, labels.binary-label, guid, sentence2, labels.label. If sentence1, source, labels.binary-label, guid, sentence2, labels.label are not expected by `RobertaForSequenceClassification.forward`,  you can safely ignore this message.\n",
            "***** Running Evaluation *****\n",
            "  Num examples = 1167\n",
            "  Batch size = 16\n"
          ]
        },
        {
          "output_type": "display_data",
          "data": {
            "text/plain": [
              "<IPython.core.display.HTML object>"
            ],
            "text/html": [
              "\n",
              "    <div>\n",
              "      \n",
              "      <progress value='73' max='73' style='width:300px; height:20px; vertical-align: middle;'></progress>\n",
              "      [73/73 00:07]\n",
              "    </div>\n",
              "    "
            ]
          },
          "metadata": {}
        },
        {
          "output_type": "stream",
          "name": "stderr",
          "text": [
            "Trainer is attempting to log a value of \"{'pearsonr': 0.9761494725561198}\" of type <class 'dict'> for key \"eval/pearsonr\" as a scalar. This invocation of Tensorboard's writer.add_scalar() is incorrect so we dropped this attribute.\n",
            "Trainer is attempting to log a value of \"{'f1': 0.9566003616636528}\" of type <class 'dict'> for key \"eval/f1\" as a scalar. This invocation of Tensorboard's writer.add_scalar() is incorrect so we dropped this attribute.\n"
          ]
        },
        {
          "output_type": "execute_result",
          "data": {
            "text/plain": [
              "{'epoch': 2.0,\n",
              " 'eval_f1': {'f1': 0.9566003616636528},\n",
              " 'eval_loss': 0.1711743026971817,\n",
              " 'eval_pearsonr': {'pearsonr': 0.9761494725561198},\n",
              " 'eval_runtime': 7.3788,\n",
              " 'eval_samples_per_second': 158.156,\n",
              " 'eval_steps_per_second': 9.893}"
            ]
          },
          "metadata": {},
          "execution_count": 30
        }
      ]
    },
    {
      "cell_type": "markdown",
      "source": [
        "\n",
        "\n",
        "---\n",
        "\n",
        "\n",
        "###**Model : klue/roberta-base**\n",
        "batch_size : 32"
      ],
      "metadata": {
        "id": "shwOiR_fBhGW"
      }
    },
    {
      "cell_type": "code",
      "source": [
        "# batch_size= 32\n",
        "\n",
        "output_dir = os.path.join(\"/content/drive/MyDrive/Colab Notebooks/NLP with 파이토치/nlp\", \"sts\")\n",
        "\n",
        "batch_args = TrainingArguments(\n",
        "    # checkpoint\n",
        "    output_dir = output_dir,\n",
        "\n",
        "    # Model Save & Load\n",
        "    save_strategy = \"epoch\", # 각 epoch 마지막에 저장 \n",
        "    load_best_model_at_end = True, # train 종료시 best model 로드할지 여부\n",
        "\n",
        "    # Dataset\n",
        "    num_train_epochs = 4,\n",
        "    per_device_train_batch_size = 32,\n",
        "    per_device_eval_batch_size = 32,\n",
        "    \n",
        "    # Optimizer (AdamW)\n",
        "    learning_rate =  5e-5,\n",
        "    warmup_steps = 200,\n",
        "    weight_decay = 0.01,\n",
        "\n",
        "    # Evaluation \n",
        "    evaluation_strategy = \"epoch\",# 각 epoch 마지막에 평가\n",
        "\n",
        "    # Randomness\n",
        "    seed = 42\n",
        ")"
      ],
      "metadata": {
        "colab": {
          "base_uri": "https://localhost:8080/"
        },
        "id": "s6PERkThBjR7",
        "outputId": "ff7812c0-7ca3-4a01-aaaf-3b6250d4eaa2"
      },
      "execution_count": 31,
      "outputs": [
        {
          "output_type": "stream",
          "name": "stderr",
          "text": [
            "PyTorch: setting up devices\n",
            "The default value for the training argument `--report_to` will change in v5 (from all installed integrations to none). In v5, you will need to use `--report_to all` to get the same behavior as now. You should start updating your code and make this info disappear :-).\n"
          ]
        }
      ]
    },
    {
      "cell_type": "code",
      "source": [
        "# optimizer 및 scheduler 설정: 32\n",
        "optimizer = AdamW(\n",
        "    model.parameters(),\n",
        "    lr = 5e-5,\n",
        "    eps = 1e-8\n",
        ")\n",
        "\n",
        "batch_size = 32\n",
        "total_steps = round(len(encoded_train.shard(index=1, num_shards=10)) / batch_size) * 5\n",
        "\n",
        "# lr 선형으로 감소시키는 스케줄러\n",
        "scheduler = get_linear_schedule_with_warmup(optimizer, \n",
        "                                            num_warmup_steps = 0,\n",
        "                                            num_training_steps = total_steps)"
      ],
      "metadata": {
        "id": "n8hCziZvBjR9"
      },
      "execution_count": 32,
      "outputs": []
    },
    {
      "cell_type": "code",
      "source": [
        "# batch_size : 32\n",
        "trainer = Trainer(\n",
        "    model,\n",
        "    args = batch_args,\n",
        "    train_dataset = encoded_train ,\n",
        "    eval_dataset = encoded_valid,\n",
        "    tokenizer = tokenizer,\n",
        "    compute_metrics = compute_metrics,\n",
        "    optimizers = (optimizer, scheduler),\n",
        "    callbacks = [EarlyStoppingCallback(early_stopping_patience = 1)]\n",
        ")"
      ],
      "metadata": {
        "id": "Nw6uLAO_BjR9"
      },
      "execution_count": 33,
      "outputs": []
    },
    {
      "cell_type": "code",
      "source": [
        "trainer.train()"
      ],
      "metadata": {
        "outputId": "0959c9ed-ae80-4ef2-c687-85fe7a3c22de",
        "colab": {
          "base_uri": "https://localhost:8080/",
          "height": 833
        },
        "id": "-5O0vfwcBjR-"
      },
      "execution_count": 34,
      "outputs": [
        {
          "output_type": "stream",
          "name": "stderr",
          "text": [
            "The following columns in the training set don't have a corresponding argument in `RobertaForSequenceClassification.forward` and have been ignored: sentence1, source, labels.binary-label, guid, sentence2, labels.label. If sentence1, source, labels.binary-label, guid, sentence2, labels.label are not expected by `RobertaForSequenceClassification.forward`,  you can safely ignore this message.\n",
            "***** Running training *****\n",
            "  Num examples = 10501\n",
            "  Num Epochs = 4\n",
            "  Instantaneous batch size per device = 32\n",
            "  Total train batch size (w. parallel, distributed & accumulation) = 32\n",
            "  Gradient Accumulation steps = 1\n",
            "  Total optimization steps = 1316\n"
          ]
        },
        {
          "output_type": "display_data",
          "data": {
            "text/plain": [
              "<IPython.core.display.HTML object>"
            ],
            "text/html": [
              "\n",
              "    <div>\n",
              "      \n",
              "      <progress value='658' max='1316' style='width:300px; height:20px; vertical-align: middle;'></progress>\n",
              "      [ 658/1316 07:36 < 07:37, 1.44 it/s, Epoch 2/4]\n",
              "    </div>\n",
              "    <table border=\"1\" class=\"dataframe\">\n",
              "  <thead>\n",
              " <tr style=\"text-align: left;\">\n",
              "      <th>Epoch</th>\n",
              "      <th>Training Loss</th>\n",
              "      <th>Validation Loss</th>\n",
              "      <th>Pearsonr</th>\n",
              "      <th>F1</th>\n",
              "    </tr>\n",
              "  </thead>\n",
              "  <tbody>\n",
              "    <tr>\n",
              "      <td>1</td>\n",
              "      <td>No log</td>\n",
              "      <td>0.159081</td>\n",
              "      <td>{'pearsonr': 0.9778043280043923}</td>\n",
              "      <td>{'f1': 0.9592760180995474}</td>\n",
              "    </tr>\n",
              "    <tr>\n",
              "      <td>2</td>\n",
              "      <td>0.086900</td>\n",
              "      <td>0.159081</td>\n",
              "      <td>{'pearsonr': 0.9778043280043923}</td>\n",
              "      <td>{'f1': 0.9592760180995474}</td>\n",
              "    </tr>\n",
              "  </tbody>\n",
              "</table><p>"
            ]
          },
          "metadata": {}
        },
        {
          "output_type": "stream",
          "name": "stderr",
          "text": [
            "The following columns in the evaluation set don't have a corresponding argument in `RobertaForSequenceClassification.forward` and have been ignored: sentence1, source, labels.binary-label, guid, sentence2, labels.label. If sentence1, source, labels.binary-label, guid, sentence2, labels.label are not expected by `RobertaForSequenceClassification.forward`,  you can safely ignore this message.\n",
            "***** Running Evaluation *****\n",
            "  Num examples = 1167\n",
            "  Batch size = 32\n",
            "Trainer is attempting to log a value of \"{'pearsonr': 0.9778043280043923}\" of type <class 'dict'> for key \"eval/pearsonr\" as a scalar. This invocation of Tensorboard's writer.add_scalar() is incorrect so we dropped this attribute.\n",
            "Trainer is attempting to log a value of \"{'f1': 0.9592760180995474}\" of type <class 'dict'> for key \"eval/f1\" as a scalar. This invocation of Tensorboard's writer.add_scalar() is incorrect so we dropped this attribute.\n",
            "Saving model checkpoint to /content/drive/MyDrive/Colab Notebooks/NLP with 파이토치/nlp/sts/checkpoint-329\n",
            "Configuration saved in /content/drive/MyDrive/Colab Notebooks/NLP with 파이토치/nlp/sts/checkpoint-329/config.json\n",
            "Model weights saved in /content/drive/MyDrive/Colab Notebooks/NLP with 파이토치/nlp/sts/checkpoint-329/pytorch_model.bin\n",
            "tokenizer config file saved in /content/drive/MyDrive/Colab Notebooks/NLP with 파이토치/nlp/sts/checkpoint-329/tokenizer_config.json\n",
            "Special tokens file saved in /content/drive/MyDrive/Colab Notebooks/NLP with 파이토치/nlp/sts/checkpoint-329/special_tokens_map.json\n",
            "The following columns in the evaluation set don't have a corresponding argument in `RobertaForSequenceClassification.forward` and have been ignored: sentence1, source, labels.binary-label, guid, sentence2, labels.label. If sentence1, source, labels.binary-label, guid, sentence2, labels.label are not expected by `RobertaForSequenceClassification.forward`,  you can safely ignore this message.\n",
            "***** Running Evaluation *****\n",
            "  Num examples = 1167\n",
            "  Batch size = 32\n",
            "Trainer is attempting to log a value of \"{'pearsonr': 0.9778043280043923}\" of type <class 'dict'> for key \"eval/pearsonr\" as a scalar. This invocation of Tensorboard's writer.add_scalar() is incorrect so we dropped this attribute.\n",
            "Trainer is attempting to log a value of \"{'f1': 0.9592760180995474}\" of type <class 'dict'> for key \"eval/f1\" as a scalar. This invocation of Tensorboard's writer.add_scalar() is incorrect so we dropped this attribute.\n",
            "Saving model checkpoint to /content/drive/MyDrive/Colab Notebooks/NLP with 파이토치/nlp/sts/checkpoint-658\n",
            "Configuration saved in /content/drive/MyDrive/Colab Notebooks/NLP with 파이토치/nlp/sts/checkpoint-658/config.json\n",
            "Model weights saved in /content/drive/MyDrive/Colab Notebooks/NLP with 파이토치/nlp/sts/checkpoint-658/pytorch_model.bin\n",
            "tokenizer config file saved in /content/drive/MyDrive/Colab Notebooks/NLP with 파이토치/nlp/sts/checkpoint-658/tokenizer_config.json\n",
            "Special tokens file saved in /content/drive/MyDrive/Colab Notebooks/NLP with 파이토치/nlp/sts/checkpoint-658/special_tokens_map.json\n",
            "\n",
            "\n",
            "Training completed. Do not forget to share your model on huggingface.co/models =)\n",
            "\n",
            "\n",
            "Loading best model from /content/drive/MyDrive/Colab Notebooks/NLP with 파이토치/nlp/sts/checkpoint-329 (score: 0.1590813398361206).\n"
          ]
        },
        {
          "output_type": "execute_result",
          "data": {
            "text/plain": [
              "TrainOutput(global_step=658, training_loss=0.0819314055167433, metrics={'train_runtime': 457.1567, 'train_samples_per_second': 91.881, 'train_steps_per_second': 2.879, 'total_flos': 1359072537125196.0, 'train_loss': 0.0819314055167433, 'epoch': 2.0})"
            ]
          },
          "metadata": {},
          "execution_count": 34
        }
      ]
    },
    {
      "cell_type": "code",
      "metadata": {
        "colab": {
          "base_uri": "https://localhost:8080/",
          "height": 295
        },
        "id": "iwx3KLiuBjR_",
        "outputId": "6b8fa332-167e-42bd-ca61-5ff83a55fc83"
      },
      "source": [
        "# score\n",
        "trainer.evaluate()"
      ],
      "execution_count": 35,
      "outputs": [
        {
          "output_type": "stream",
          "name": "stderr",
          "text": [
            "The following columns in the evaluation set don't have a corresponding argument in `RobertaForSequenceClassification.forward` and have been ignored: sentence1, source, labels.binary-label, guid, sentence2, labels.label. If sentence1, source, labels.binary-label, guid, sentence2, labels.label are not expected by `RobertaForSequenceClassification.forward`,  you can safely ignore this message.\n",
            "***** Running Evaluation *****\n",
            "  Num examples = 1167\n",
            "  Batch size = 32\n"
          ]
        },
        {
          "output_type": "display_data",
          "data": {
            "text/plain": [
              "<IPython.core.display.HTML object>"
            ],
            "text/html": [
              "\n",
              "    <div>\n",
              "      \n",
              "      <progress value='37' max='37' style='width:300px; height:20px; vertical-align: middle;'></progress>\n",
              "      [37/37 00:06]\n",
              "    </div>\n",
              "    "
            ]
          },
          "metadata": {}
        },
        {
          "output_type": "stream",
          "name": "stderr",
          "text": [
            "Trainer is attempting to log a value of \"{'pearsonr': 0.9778043280043923}\" of type <class 'dict'> for key \"eval/pearsonr\" as a scalar. This invocation of Tensorboard's writer.add_scalar() is incorrect so we dropped this attribute.\n",
            "Trainer is attempting to log a value of \"{'f1': 0.9592760180995474}\" of type <class 'dict'> for key \"eval/f1\" as a scalar. This invocation of Tensorboard's writer.add_scalar() is incorrect so we dropped this attribute.\n"
          ]
        },
        {
          "output_type": "execute_result",
          "data": {
            "text/plain": [
              "{'epoch': 2.0,\n",
              " 'eval_f1': {'f1': 0.9592760180995474},\n",
              " 'eval_loss': 0.1590813398361206,\n",
              " 'eval_pearsonr': {'pearsonr': 0.9778043280043923},\n",
              " 'eval_runtime': 7.0474,\n",
              " 'eval_samples_per_second': 165.593,\n",
              " 'eval_steps_per_second': 5.25}"
            ]
          },
          "metadata": {},
          "execution_count": 35
        }
      ]
    },
    {
      "cell_type": "markdown",
      "source": [
        "\n",
        "\n",
        "---\n",
        "\n",
        "\n",
        "###**Model : klue/roberta-base**\n",
        "batch_size : 64"
      ],
      "metadata": {
        "id": "B5bHKMAp_OMn"
      }
    },
    {
      "cell_type": "code",
      "source": [
        "# batch_size= 64\n",
        "\n",
        "output_dir = os.path.join(\"/content/drive/MyDrive/Colab Notebooks/NLP with 파이토치/nlp\", \"sts\")\n",
        "\n",
        "batch_args = TrainingArguments(\n",
        "    # checkpoint\n",
        "    output_dir = output_dir,\n",
        "\n",
        "    # Model Save & Load\n",
        "    save_strategy = \"epoch\", # 각 epoch 마지막에 저장 \n",
        "    load_best_model_at_end = True, # train 종료시 best model 로드할지 여부\n",
        "\n",
        "    # Dataset\n",
        "    num_train_epochs = 4,\n",
        "    per_device_train_batch_size = 64,\n",
        "    per_device_eval_batch_size = 64,\n",
        "    \n",
        "    # Optimizer (AdamW)\n",
        "    learning_rate =  5e-5,\n",
        "    warmup_steps = 200,\n",
        "    weight_decay = 0.01,\n",
        "\n",
        "    # Evaluation \n",
        "    evaluation_strategy = \"epoch\",# 각 epoch 마지막에 평가\n",
        "\n",
        "    # Randomness\n",
        "    seed = 42\n",
        ")"
      ],
      "metadata": {
        "id": "ylHF8J5iBWGg",
        "colab": {
          "base_uri": "https://localhost:8080/"
        },
        "outputId": "f9abb5a4-2a6a-45c2-a2c2-f9ccd49c5106"
      },
      "execution_count": 36,
      "outputs": [
        {
          "output_type": "stream",
          "name": "stderr",
          "text": [
            "PyTorch: setting up devices\n",
            "The default value for the training argument `--report_to` will change in v5 (from all installed integrations to none). In v5, you will need to use `--report_to all` to get the same behavior as now. You should start updating your code and make this info disappear :-).\n"
          ]
        }
      ]
    },
    {
      "cell_type": "code",
      "source": [
        "# optimizer 및 scheduler 설정: 64\n",
        "optimizer = AdamW(\n",
        "    model.parameters(),\n",
        "    lr = 5e-5,\n",
        "    eps = 1e-8\n",
        ")\n",
        "\n",
        "batch_size = 64\n",
        "total_steps = round(len(encoded_train.shard(index=1, num_shards=10)) / batch_size) * 5\n",
        "\n",
        "# lr 선형으로 감소시키는 스케줄러\n",
        "scheduler = get_linear_schedule_with_warmup(optimizer, \n",
        "                                            num_warmup_steps = 0,\n",
        "                                            num_training_steps = total_steps)"
      ],
      "metadata": {
        "id": "DhBB28PhBWGi"
      },
      "execution_count": 37,
      "outputs": []
    },
    {
      "cell_type": "code",
      "source": [
        "# batch_size : 64\n",
        "trainer = Trainer(\n",
        "    model,\n",
        "    args = batch_args,\n",
        "    train_dataset = encoded_train ,\n",
        "    eval_dataset = encoded_valid,\n",
        "    tokenizer = tokenizer,\n",
        "    compute_metrics = compute_metrics,\n",
        "    optimizers = (optimizer, scheduler),\n",
        "    callbacks = [EarlyStoppingCallback(early_stopping_patience = 1)]\n",
        ")"
      ],
      "metadata": {
        "id": "1yjfc9B7BWGj"
      },
      "execution_count": 38,
      "outputs": []
    },
    {
      "cell_type": "code",
      "source": [
        "trainer.train()"
      ],
      "metadata": {
        "outputId": "967b76e0-c675-4c6d-d7a4-e0dd93137dc4",
        "colab": {
          "base_uri": "https://localhost:8080/",
          "height": 833
        },
        "id": "GozcahrHBWGk"
      },
      "execution_count": 39,
      "outputs": [
        {
          "output_type": "stream",
          "name": "stderr",
          "text": [
            "The following columns in the training set don't have a corresponding argument in `RobertaForSequenceClassification.forward` and have been ignored: sentence1, source, labels.binary-label, guid, sentence2, labels.label. If sentence1, source, labels.binary-label, guid, sentence2, labels.label are not expected by `RobertaForSequenceClassification.forward`,  you can safely ignore this message.\n",
            "***** Running training *****\n",
            "  Num examples = 10501\n",
            "  Num Epochs = 4\n",
            "  Instantaneous batch size per device = 64\n",
            "  Total train batch size (w. parallel, distributed & accumulation) = 64\n",
            "  Gradient Accumulation steps = 1\n",
            "  Total optimization steps = 660\n"
          ]
        },
        {
          "output_type": "display_data",
          "data": {
            "text/plain": [
              "<IPython.core.display.HTML object>"
            ],
            "text/html": [
              "\n",
              "    <div>\n",
              "      \n",
              "      <progress value='330' max='660' style='width:300px; height:20px; vertical-align: middle;'></progress>\n",
              "      [330/660 07:08 < 07:10, 0.77 it/s, Epoch 2/4]\n",
              "    </div>\n",
              "    <table border=\"1\" class=\"dataframe\">\n",
              "  <thead>\n",
              " <tr style=\"text-align: left;\">\n",
              "      <th>Epoch</th>\n",
              "      <th>Training Loss</th>\n",
              "      <th>Validation Loss</th>\n",
              "      <th>Pearsonr</th>\n",
              "      <th>F1</th>\n",
              "    </tr>\n",
              "  </thead>\n",
              "  <tbody>\n",
              "    <tr>\n",
              "      <td>1</td>\n",
              "      <td>No log</td>\n",
              "      <td>0.176367</td>\n",
              "      <td>{'pearsonr': 0.9780379413470249}</td>\n",
              "      <td>{'f1': 0.9607142857142857}</td>\n",
              "    </tr>\n",
              "    <tr>\n",
              "      <td>2</td>\n",
              "      <td>No log</td>\n",
              "      <td>0.176367</td>\n",
              "      <td>{'pearsonr': 0.9780379413470249}</td>\n",
              "      <td>{'f1': 0.9607142857142857}</td>\n",
              "    </tr>\n",
              "  </tbody>\n",
              "</table><p>"
            ]
          },
          "metadata": {}
        },
        {
          "output_type": "stream",
          "name": "stderr",
          "text": [
            "The following columns in the evaluation set don't have a corresponding argument in `RobertaForSequenceClassification.forward` and have been ignored: sentence1, source, labels.binary-label, guid, sentence2, labels.label. If sentence1, source, labels.binary-label, guid, sentence2, labels.label are not expected by `RobertaForSequenceClassification.forward`,  you can safely ignore this message.\n",
            "***** Running Evaluation *****\n",
            "  Num examples = 1167\n",
            "  Batch size = 64\n",
            "Trainer is attempting to log a value of \"{'pearsonr': 0.9780379413470249}\" of type <class 'dict'> for key \"eval/pearsonr\" as a scalar. This invocation of Tensorboard's writer.add_scalar() is incorrect so we dropped this attribute.\n",
            "Trainer is attempting to log a value of \"{'f1': 0.9607142857142857}\" of type <class 'dict'> for key \"eval/f1\" as a scalar. This invocation of Tensorboard's writer.add_scalar() is incorrect so we dropped this attribute.\n",
            "Saving model checkpoint to /content/drive/MyDrive/Colab Notebooks/NLP with 파이토치/nlp/sts/checkpoint-165\n",
            "Configuration saved in /content/drive/MyDrive/Colab Notebooks/NLP with 파이토치/nlp/sts/checkpoint-165/config.json\n",
            "Model weights saved in /content/drive/MyDrive/Colab Notebooks/NLP with 파이토치/nlp/sts/checkpoint-165/pytorch_model.bin\n",
            "tokenizer config file saved in /content/drive/MyDrive/Colab Notebooks/NLP with 파이토치/nlp/sts/checkpoint-165/tokenizer_config.json\n",
            "Special tokens file saved in /content/drive/MyDrive/Colab Notebooks/NLP with 파이토치/nlp/sts/checkpoint-165/special_tokens_map.json\n",
            "The following columns in the evaluation set don't have a corresponding argument in `RobertaForSequenceClassification.forward` and have been ignored: sentence1, source, labels.binary-label, guid, sentence2, labels.label. If sentence1, source, labels.binary-label, guid, sentence2, labels.label are not expected by `RobertaForSequenceClassification.forward`,  you can safely ignore this message.\n",
            "***** Running Evaluation *****\n",
            "  Num examples = 1167\n",
            "  Batch size = 64\n",
            "Trainer is attempting to log a value of \"{'pearsonr': 0.9780379413470249}\" of type <class 'dict'> for key \"eval/pearsonr\" as a scalar. This invocation of Tensorboard's writer.add_scalar() is incorrect so we dropped this attribute.\n",
            "Trainer is attempting to log a value of \"{'f1': 0.9607142857142857}\" of type <class 'dict'> for key \"eval/f1\" as a scalar. This invocation of Tensorboard's writer.add_scalar() is incorrect so we dropped this attribute.\n",
            "Saving model checkpoint to /content/drive/MyDrive/Colab Notebooks/NLP with 파이토치/nlp/sts/checkpoint-330\n",
            "Configuration saved in /content/drive/MyDrive/Colab Notebooks/NLP with 파이토치/nlp/sts/checkpoint-330/config.json\n",
            "Model weights saved in /content/drive/MyDrive/Colab Notebooks/NLP with 파이토치/nlp/sts/checkpoint-330/pytorch_model.bin\n",
            "tokenizer config file saved in /content/drive/MyDrive/Colab Notebooks/NLP with 파이토치/nlp/sts/checkpoint-330/tokenizer_config.json\n",
            "Special tokens file saved in /content/drive/MyDrive/Colab Notebooks/NLP with 파이토치/nlp/sts/checkpoint-330/special_tokens_map.json\n",
            "\n",
            "\n",
            "Training completed. Do not forget to share your model on huggingface.co/models =)\n",
            "\n",
            "\n",
            "Loading best model from /content/drive/MyDrive/Colab Notebooks/NLP with 파이토치/nlp/sts/checkpoint-165 (score: 0.17636741697788239).\n"
          ]
        },
        {
          "output_type": "execute_result",
          "data": {
            "text/plain": [
              "TrainOutput(global_step=330, training_loss=0.08469009977398496, metrics={'train_runtime': 429.5889, 'train_samples_per_second': 97.777, 'train_steps_per_second': 1.536, 'total_flos': 1359664531684428.0, 'train_loss': 0.08469009977398496, 'epoch': 2.0})"
            ]
          },
          "metadata": {},
          "execution_count": 39
        }
      ]
    },
    {
      "cell_type": "code",
      "metadata": {
        "id": "NhyLLoEmBWGl",
        "colab": {
          "base_uri": "https://localhost:8080/",
          "height": 295
        },
        "outputId": "dfe9c82d-f0c2-494e-b80c-0fb874f2d911"
      },
      "source": [
        "# score\n",
        "trainer.evaluate()"
      ],
      "execution_count": 40,
      "outputs": [
        {
          "output_type": "stream",
          "name": "stderr",
          "text": [
            "The following columns in the evaluation set don't have a corresponding argument in `RobertaForSequenceClassification.forward` and have been ignored: sentence1, source, labels.binary-label, guid, sentence2, labels.label. If sentence1, source, labels.binary-label, guid, sentence2, labels.label are not expected by `RobertaForSequenceClassification.forward`,  you can safely ignore this message.\n",
            "***** Running Evaluation *****\n",
            "  Num examples = 1167\n",
            "  Batch size = 64\n"
          ]
        },
        {
          "output_type": "display_data",
          "data": {
            "text/plain": [
              "<IPython.core.display.HTML object>"
            ],
            "text/html": [
              "\n",
              "    <div>\n",
              "      \n",
              "      <progress value='19' max='19' style='width:300px; height:20px; vertical-align: middle;'></progress>\n",
              "      [19/19 00:06]\n",
              "    </div>\n",
              "    "
            ]
          },
          "metadata": {}
        },
        {
          "output_type": "stream",
          "name": "stderr",
          "text": [
            "Trainer is attempting to log a value of \"{'pearsonr': 0.9780379413470249}\" of type <class 'dict'> for key \"eval/pearsonr\" as a scalar. This invocation of Tensorboard's writer.add_scalar() is incorrect so we dropped this attribute.\n",
            "Trainer is attempting to log a value of \"{'f1': 0.9607142857142857}\" of type <class 'dict'> for key \"eval/f1\" as a scalar. This invocation of Tensorboard's writer.add_scalar() is incorrect so we dropped this attribute.\n"
          ]
        },
        {
          "output_type": "execute_result",
          "data": {
            "text/plain": [
              "{'epoch': 2.0,\n",
              " 'eval_f1': {'f1': 0.9607142857142857},\n",
              " 'eval_loss': 0.17636741697788239,\n",
              " 'eval_pearsonr': {'pearsonr': 0.9780379413470249},\n",
              " 'eval_runtime': 6.9888,\n",
              " 'eval_samples_per_second': 166.981,\n",
              " 'eval_steps_per_second': 2.719}"
            ]
          },
          "metadata": {},
          "execution_count": 40
        }
      ]
    },
    {
      "cell_type": "markdown",
      "source": [
        "\n",
        "\n",
        "---\n",
        "\n"
      ],
      "metadata": {
        "id": "nNgJ2qrOX5lY"
      }
    },
    {
      "cell_type": "markdown",
      "source": [
        "### **Model : klue/roberta-base**\n",
        "- epochs : 2\n",
        "- batch_size : train 16\n",
        "- learning_rate : 5e-5\n",
        "- weight_decay : 0.01\n",
        "- loss : 0.1711743026971817\n",
        "- pearson 상관 계수 : 0.9761494725561198\n",
        "- f1 : 0.9566003616636528"
      ],
      "metadata": {
        "id": "EuPg1LF4YAKr"
      }
    },
    {
      "cell_type": "markdown",
      "source": [
        "### **Model : klue/roberta-base**\n",
        "- epochs : 2\n",
        "- batch_size : train 32\n",
        "- learning_rate : 5e-5\n",
        "- weight_decay : 0.01\n",
        "- loss : 0.1590813398361206\n",
        "- pearson 상관 계수 : 0.9778043280043923\n",
        "- f1 : 0.9592760180995474"
      ],
      "metadata": {
        "id": "0IaGvCPhZm-D"
      }
    },
    {
      "cell_type": "markdown",
      "source": [
        "### **Model : klue/roberta-base** (가장 성능 좋음)\n",
        "- epochs : 2\n",
        "- batch_size : train 64\n",
        "- learning_rate : 5e-5\n",
        "- weight_decay : 0.01\n",
        "- loss : 0.17636741697788239\n",
        "- pearson 상관 계수 : 0.9780379413470249\n",
        "- f1 : 0.9607142857142857"
      ],
      "metadata": {
        "id": "4Pd1rLGeaGZC"
      }
    }
  ]
}