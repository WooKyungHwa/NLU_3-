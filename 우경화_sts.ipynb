{
  "nbformat": 4,
  "nbformat_minor": 0,
  "metadata": {
    "colab": {
      "name": "우경화_sts.ipynb",
      "provenance": [],
      "collapsed_sections": [],
      "authorship_tag": "ABX9TyMUJSnnaoFoKlAo+S1+EqkB",
      "include_colab_link": true
    },
    "kernelspec": {
      "name": "python3",
      "display_name": "Python 3"
    },
    "language_info": {
      "name": "python"
    },
    "widgets": {
      "application/vnd.jupyter.widget-state+json": {
        "ac109cc9f8bf4a54a8f936316a7b253e": {
          "model_module": "@jupyter-widgets/controls",
          "model_name": "HBoxModel",
          "model_module_version": "1.5.0",
          "state": {
            "_dom_classes": [],
            "_model_module": "@jupyter-widgets/controls",
            "_model_module_version": "1.5.0",
            "_model_name": "HBoxModel",
            "_view_count": null,
            "_view_module": "@jupyter-widgets/controls",
            "_view_module_version": "1.5.0",
            "_view_name": "HBoxView",
            "box_style": "",
            "children": [
              "IPY_MODEL_2a0d642b34ab45e5b8b61d99ddd7e705",
              "IPY_MODEL_437ea44d4c794acc81633e7fc21a1cc7",
              "IPY_MODEL_3908c08451b24488a4d28d0d9298364c"
            ],
            "layout": "IPY_MODEL_070ff4fe98d743f9ad1fe6946f41192e"
          }
        },
        "2a0d642b34ab45e5b8b61d99ddd7e705": {
          "model_module": "@jupyter-widgets/controls",
          "model_name": "HTMLModel",
          "model_module_version": "1.5.0",
          "state": {
            "_dom_classes": [],
            "_model_module": "@jupyter-widgets/controls",
            "_model_module_version": "1.5.0",
            "_model_name": "HTMLModel",
            "_view_count": null,
            "_view_module": "@jupyter-widgets/controls",
            "_view_module_version": "1.5.0",
            "_view_name": "HTMLView",
            "description": "",
            "description_tooltip": null,
            "layout": "IPY_MODEL_99e119209f354800bb9d60af9f0d069a",
            "placeholder": "​",
            "style": "IPY_MODEL_1b1086af605d440dac8858e1cc5e837d",
            "value": "100%"
          }
        },
        "437ea44d4c794acc81633e7fc21a1cc7": {
          "model_module": "@jupyter-widgets/controls",
          "model_name": "FloatProgressModel",
          "model_module_version": "1.5.0",
          "state": {
            "_dom_classes": [],
            "_model_module": "@jupyter-widgets/controls",
            "_model_module_version": "1.5.0",
            "_model_name": "FloatProgressModel",
            "_view_count": null,
            "_view_module": "@jupyter-widgets/controls",
            "_view_module_version": "1.5.0",
            "_view_name": "ProgressView",
            "bar_style": "success",
            "description": "",
            "description_tooltip": null,
            "layout": "IPY_MODEL_b0b5efc3d8d04491abd06e3367267859",
            "max": 2,
            "min": 0,
            "orientation": "horizontal",
            "style": "IPY_MODEL_a53ea40f66de49d68c946f0c34df9b08",
            "value": 2
          }
        },
        "3908c08451b24488a4d28d0d9298364c": {
          "model_module": "@jupyter-widgets/controls",
          "model_name": "HTMLModel",
          "model_module_version": "1.5.0",
          "state": {
            "_dom_classes": [],
            "_model_module": "@jupyter-widgets/controls",
            "_model_module_version": "1.5.0",
            "_model_name": "HTMLModel",
            "_view_count": null,
            "_view_module": "@jupyter-widgets/controls",
            "_view_module_version": "1.5.0",
            "_view_name": "HTMLView",
            "description": "",
            "description_tooltip": null,
            "layout": "IPY_MODEL_e2a2475cfaba44c38b587e048a76b3d4",
            "placeholder": "​",
            "style": "IPY_MODEL_9ba046a197bd46ac9a9b8de9976b1c5a",
            "value": " 2/2 [00:00&lt;00:00, 50.61it/s]"
          }
        },
        "070ff4fe98d743f9ad1fe6946f41192e": {
          "model_module": "@jupyter-widgets/base",
          "model_name": "LayoutModel",
          "model_module_version": "1.2.0",
          "state": {
            "_model_module": "@jupyter-widgets/base",
            "_model_module_version": "1.2.0",
            "_model_name": "LayoutModel",
            "_view_count": null,
            "_view_module": "@jupyter-widgets/base",
            "_view_module_version": "1.2.0",
            "_view_name": "LayoutView",
            "align_content": null,
            "align_items": null,
            "align_self": null,
            "border": null,
            "bottom": null,
            "display": null,
            "flex": null,
            "flex_flow": null,
            "grid_area": null,
            "grid_auto_columns": null,
            "grid_auto_flow": null,
            "grid_auto_rows": null,
            "grid_column": null,
            "grid_gap": null,
            "grid_row": null,
            "grid_template_areas": null,
            "grid_template_columns": null,
            "grid_template_rows": null,
            "height": null,
            "justify_content": null,
            "justify_items": null,
            "left": null,
            "margin": null,
            "max_height": null,
            "max_width": null,
            "min_height": null,
            "min_width": null,
            "object_fit": null,
            "object_position": null,
            "order": null,
            "overflow": null,
            "overflow_x": null,
            "overflow_y": null,
            "padding": null,
            "right": null,
            "top": null,
            "visibility": null,
            "width": null
          }
        },
        "99e119209f354800bb9d60af9f0d069a": {
          "model_module": "@jupyter-widgets/base",
          "model_name": "LayoutModel",
          "model_module_version": "1.2.0",
          "state": {
            "_model_module": "@jupyter-widgets/base",
            "_model_module_version": "1.2.0",
            "_model_name": "LayoutModel",
            "_view_count": null,
            "_view_module": "@jupyter-widgets/base",
            "_view_module_version": "1.2.0",
            "_view_name": "LayoutView",
            "align_content": null,
            "align_items": null,
            "align_self": null,
            "border": null,
            "bottom": null,
            "display": null,
            "flex": null,
            "flex_flow": null,
            "grid_area": null,
            "grid_auto_columns": null,
            "grid_auto_flow": null,
            "grid_auto_rows": null,
            "grid_column": null,
            "grid_gap": null,
            "grid_row": null,
            "grid_template_areas": null,
            "grid_template_columns": null,
            "grid_template_rows": null,
            "height": null,
            "justify_content": null,
            "justify_items": null,
            "left": null,
            "margin": null,
            "max_height": null,
            "max_width": null,
            "min_height": null,
            "min_width": null,
            "object_fit": null,
            "object_position": null,
            "order": null,
            "overflow": null,
            "overflow_x": null,
            "overflow_y": null,
            "padding": null,
            "right": null,
            "top": null,
            "visibility": null,
            "width": null
          }
        },
        "1b1086af605d440dac8858e1cc5e837d": {
          "model_module": "@jupyter-widgets/controls",
          "model_name": "DescriptionStyleModel",
          "model_module_version": "1.5.0",
          "state": {
            "_model_module": "@jupyter-widgets/controls",
            "_model_module_version": "1.5.0",
            "_model_name": "DescriptionStyleModel",
            "_view_count": null,
            "_view_module": "@jupyter-widgets/base",
            "_view_module_version": "1.2.0",
            "_view_name": "StyleView",
            "description_width": ""
          }
        },
        "b0b5efc3d8d04491abd06e3367267859": {
          "model_module": "@jupyter-widgets/base",
          "model_name": "LayoutModel",
          "model_module_version": "1.2.0",
          "state": {
            "_model_module": "@jupyter-widgets/base",
            "_model_module_version": "1.2.0",
            "_model_name": "LayoutModel",
            "_view_count": null,
            "_view_module": "@jupyter-widgets/base",
            "_view_module_version": "1.2.0",
            "_view_name": "LayoutView",
            "align_content": null,
            "align_items": null,
            "align_self": null,
            "border": null,
            "bottom": null,
            "display": null,
            "flex": null,
            "flex_flow": null,
            "grid_area": null,
            "grid_auto_columns": null,
            "grid_auto_flow": null,
            "grid_auto_rows": null,
            "grid_column": null,
            "grid_gap": null,
            "grid_row": null,
            "grid_template_areas": null,
            "grid_template_columns": null,
            "grid_template_rows": null,
            "height": null,
            "justify_content": null,
            "justify_items": null,
            "left": null,
            "margin": null,
            "max_height": null,
            "max_width": null,
            "min_height": null,
            "min_width": null,
            "object_fit": null,
            "object_position": null,
            "order": null,
            "overflow": null,
            "overflow_x": null,
            "overflow_y": null,
            "padding": null,
            "right": null,
            "top": null,
            "visibility": null,
            "width": null
          }
        },
        "a53ea40f66de49d68c946f0c34df9b08": {
          "model_module": "@jupyter-widgets/controls",
          "model_name": "ProgressStyleModel",
          "model_module_version": "1.5.0",
          "state": {
            "_model_module": "@jupyter-widgets/controls",
            "_model_module_version": "1.5.0",
            "_model_name": "ProgressStyleModel",
            "_view_count": null,
            "_view_module": "@jupyter-widgets/base",
            "_view_module_version": "1.2.0",
            "_view_name": "StyleView",
            "bar_color": null,
            "description_width": ""
          }
        },
        "e2a2475cfaba44c38b587e048a76b3d4": {
          "model_module": "@jupyter-widgets/base",
          "model_name": "LayoutModel",
          "model_module_version": "1.2.0",
          "state": {
            "_model_module": "@jupyter-widgets/base",
            "_model_module_version": "1.2.0",
            "_model_name": "LayoutModel",
            "_view_count": null,
            "_view_module": "@jupyter-widgets/base",
            "_view_module_version": "1.2.0",
            "_view_name": "LayoutView",
            "align_content": null,
            "align_items": null,
            "align_self": null,
            "border": null,
            "bottom": null,
            "display": null,
            "flex": null,
            "flex_flow": null,
            "grid_area": null,
            "grid_auto_columns": null,
            "grid_auto_flow": null,
            "grid_auto_rows": null,
            "grid_column": null,
            "grid_gap": null,
            "grid_row": null,
            "grid_template_areas": null,
            "grid_template_columns": null,
            "grid_template_rows": null,
            "height": null,
            "justify_content": null,
            "justify_items": null,
            "left": null,
            "margin": null,
            "max_height": null,
            "max_width": null,
            "min_height": null,
            "min_width": null,
            "object_fit": null,
            "object_position": null,
            "order": null,
            "overflow": null,
            "overflow_x": null,
            "overflow_y": null,
            "padding": null,
            "right": null,
            "top": null,
            "visibility": null,
            "width": null
          }
        },
        "9ba046a197bd46ac9a9b8de9976b1c5a": {
          "model_module": "@jupyter-widgets/controls",
          "model_name": "DescriptionStyleModel",
          "model_module_version": "1.5.0",
          "state": {
            "_model_module": "@jupyter-widgets/controls",
            "_model_module_version": "1.5.0",
            "_model_name": "DescriptionStyleModel",
            "_view_count": null,
            "_view_module": "@jupyter-widgets/base",
            "_view_module_version": "1.2.0",
            "_view_name": "StyleView",
            "description_width": ""
          }
        },
        "8b6dbb481c804514899f0dc8dfbf1ea6": {
          "model_module": "@jupyter-widgets/controls",
          "model_name": "HBoxModel",
          "model_module_version": "1.5.0",
          "state": {
            "_dom_classes": [],
            "_model_module": "@jupyter-widgets/controls",
            "_model_module_version": "1.5.0",
            "_model_name": "HBoxModel",
            "_view_count": null,
            "_view_module": "@jupyter-widgets/controls",
            "_view_module_version": "1.5.0",
            "_view_name": "HBoxView",
            "box_style": "",
            "children": [
              "IPY_MODEL_59329e3454f842f8a9d4130a074e04ba",
              "IPY_MODEL_cd95f8eedea941d59f443c4485017821",
              "IPY_MODEL_f0a5cb67c19845389aa993a656d37c6f"
            ],
            "layout": "IPY_MODEL_4f9391bce3044db0acf0944d0e60410a"
          }
        },
        "59329e3454f842f8a9d4130a074e04ba": {
          "model_module": "@jupyter-widgets/controls",
          "model_name": "HTMLModel",
          "model_module_version": "1.5.0",
          "state": {
            "_dom_classes": [],
            "_model_module": "@jupyter-widgets/controls",
            "_model_module_version": "1.5.0",
            "_model_name": "HTMLModel",
            "_view_count": null,
            "_view_module": "@jupyter-widgets/controls",
            "_view_module_version": "1.5.0",
            "_view_name": "HTMLView",
            "description": "",
            "description_tooltip": null,
            "layout": "IPY_MODEL_50e88ec77420487288c074661f8a3437",
            "placeholder": "​",
            "style": "IPY_MODEL_823d553c47d24aafa3c95c7a0ccc3596",
            "value": "Epoch: 100%"
          }
        },
        "cd95f8eedea941d59f443c4485017821": {
          "model_module": "@jupyter-widgets/controls",
          "model_name": "FloatProgressModel",
          "model_module_version": "1.5.0",
          "state": {
            "_dom_classes": [],
            "_model_module": "@jupyter-widgets/controls",
            "_model_module_version": "1.5.0",
            "_model_name": "FloatProgressModel",
            "_view_count": null,
            "_view_module": "@jupyter-widgets/controls",
            "_view_module_version": "1.5.0",
            "_view_name": "ProgressView",
            "bar_style": "success",
            "description": "",
            "description_tooltip": null,
            "layout": "IPY_MODEL_c7fbab9be1674c93b87aa12db988bfe7",
            "max": 4,
            "min": 0,
            "orientation": "horizontal",
            "style": "IPY_MODEL_1433e9d33fed4817a0177b4b8a2eb91c",
            "value": 4
          }
        },
        "f0a5cb67c19845389aa993a656d37c6f": {
          "model_module": "@jupyter-widgets/controls",
          "model_name": "HTMLModel",
          "model_module_version": "1.5.0",
          "state": {
            "_dom_classes": [],
            "_model_module": "@jupyter-widgets/controls",
            "_model_module_version": "1.5.0",
            "_model_name": "HTMLModel",
            "_view_count": null,
            "_view_module": "@jupyter-widgets/controls",
            "_view_module_version": "1.5.0",
            "_view_name": "HTMLView",
            "description": "",
            "description_tooltip": null,
            "layout": "IPY_MODEL_f47ba4b4db4644799212cba6a5eb0227",
            "placeholder": "​",
            "style": "IPY_MODEL_423ee28446574ceca5f6ed1e373e40a8",
            "value": " 4/4 [12:30&lt;00:00, 188.60s/it]"
          }
        },
        "4f9391bce3044db0acf0944d0e60410a": {
          "model_module": "@jupyter-widgets/base",
          "model_name": "LayoutModel",
          "model_module_version": "1.2.0",
          "state": {
            "_model_module": "@jupyter-widgets/base",
            "_model_module_version": "1.2.0",
            "_model_name": "LayoutModel",
            "_view_count": null,
            "_view_module": "@jupyter-widgets/base",
            "_view_module_version": "1.2.0",
            "_view_name": "LayoutView",
            "align_content": null,
            "align_items": null,
            "align_self": null,
            "border": null,
            "bottom": null,
            "display": null,
            "flex": null,
            "flex_flow": null,
            "grid_area": null,
            "grid_auto_columns": null,
            "grid_auto_flow": null,
            "grid_auto_rows": null,
            "grid_column": null,
            "grid_gap": null,
            "grid_row": null,
            "grid_template_areas": null,
            "grid_template_columns": null,
            "grid_template_rows": null,
            "height": null,
            "justify_content": null,
            "justify_items": null,
            "left": null,
            "margin": null,
            "max_height": null,
            "max_width": null,
            "min_height": null,
            "min_width": null,
            "object_fit": null,
            "object_position": null,
            "order": null,
            "overflow": null,
            "overflow_x": null,
            "overflow_y": null,
            "padding": null,
            "right": null,
            "top": null,
            "visibility": null,
            "width": null
          }
        },
        "50e88ec77420487288c074661f8a3437": {
          "model_module": "@jupyter-widgets/base",
          "model_name": "LayoutModel",
          "model_module_version": "1.2.0",
          "state": {
            "_model_module": "@jupyter-widgets/base",
            "_model_module_version": "1.2.0",
            "_model_name": "LayoutModel",
            "_view_count": null,
            "_view_module": "@jupyter-widgets/base",
            "_view_module_version": "1.2.0",
            "_view_name": "LayoutView",
            "align_content": null,
            "align_items": null,
            "align_self": null,
            "border": null,
            "bottom": null,
            "display": null,
            "flex": null,
            "flex_flow": null,
            "grid_area": null,
            "grid_auto_columns": null,
            "grid_auto_flow": null,
            "grid_auto_rows": null,
            "grid_column": null,
            "grid_gap": null,
            "grid_row": null,
            "grid_template_areas": null,
            "grid_template_columns": null,
            "grid_template_rows": null,
            "height": null,
            "justify_content": null,
            "justify_items": null,
            "left": null,
            "margin": null,
            "max_height": null,
            "max_width": null,
            "min_height": null,
            "min_width": null,
            "object_fit": null,
            "object_position": null,
            "order": null,
            "overflow": null,
            "overflow_x": null,
            "overflow_y": null,
            "padding": null,
            "right": null,
            "top": null,
            "visibility": null,
            "width": null
          }
        },
        "823d553c47d24aafa3c95c7a0ccc3596": {
          "model_module": "@jupyter-widgets/controls",
          "model_name": "DescriptionStyleModel",
          "model_module_version": "1.5.0",
          "state": {
            "_model_module": "@jupyter-widgets/controls",
            "_model_module_version": "1.5.0",
            "_model_name": "DescriptionStyleModel",
            "_view_count": null,
            "_view_module": "@jupyter-widgets/base",
            "_view_module_version": "1.2.0",
            "_view_name": "StyleView",
            "description_width": ""
          }
        },
        "c7fbab9be1674c93b87aa12db988bfe7": {
          "model_module": "@jupyter-widgets/base",
          "model_name": "LayoutModel",
          "model_module_version": "1.2.0",
          "state": {
            "_model_module": "@jupyter-widgets/base",
            "_model_module_version": "1.2.0",
            "_model_name": "LayoutModel",
            "_view_count": null,
            "_view_module": "@jupyter-widgets/base",
            "_view_module_version": "1.2.0",
            "_view_name": "LayoutView",
            "align_content": null,
            "align_items": null,
            "align_self": null,
            "border": null,
            "bottom": null,
            "display": null,
            "flex": null,
            "flex_flow": null,
            "grid_area": null,
            "grid_auto_columns": null,
            "grid_auto_flow": null,
            "grid_auto_rows": null,
            "grid_column": null,
            "grid_gap": null,
            "grid_row": null,
            "grid_template_areas": null,
            "grid_template_columns": null,
            "grid_template_rows": null,
            "height": null,
            "justify_content": null,
            "justify_items": null,
            "left": null,
            "margin": null,
            "max_height": null,
            "max_width": null,
            "min_height": null,
            "min_width": null,
            "object_fit": null,
            "object_position": null,
            "order": null,
            "overflow": null,
            "overflow_x": null,
            "overflow_y": null,
            "padding": null,
            "right": null,
            "top": null,
            "visibility": null,
            "width": null
          }
        },
        "1433e9d33fed4817a0177b4b8a2eb91c": {
          "model_module": "@jupyter-widgets/controls",
          "model_name": "ProgressStyleModel",
          "model_module_version": "1.5.0",
          "state": {
            "_model_module": "@jupyter-widgets/controls",
            "_model_module_version": "1.5.0",
            "_model_name": "ProgressStyleModel",
            "_view_count": null,
            "_view_module": "@jupyter-widgets/base",
            "_view_module_version": "1.2.0",
            "_view_name": "StyleView",
            "bar_color": null,
            "description_width": ""
          }
        },
        "f47ba4b4db4644799212cba6a5eb0227": {
          "model_module": "@jupyter-widgets/base",
          "model_name": "LayoutModel",
          "model_module_version": "1.2.0",
          "state": {
            "_model_module": "@jupyter-widgets/base",
            "_model_module_version": "1.2.0",
            "_model_name": "LayoutModel",
            "_view_count": null,
            "_view_module": "@jupyter-widgets/base",
            "_view_module_version": "1.2.0",
            "_view_name": "LayoutView",
            "align_content": null,
            "align_items": null,
            "align_self": null,
            "border": null,
            "bottom": null,
            "display": null,
            "flex": null,
            "flex_flow": null,
            "grid_area": null,
            "grid_auto_columns": null,
            "grid_auto_flow": null,
            "grid_auto_rows": null,
            "grid_column": null,
            "grid_gap": null,
            "grid_row": null,
            "grid_template_areas": null,
            "grid_template_columns": null,
            "grid_template_rows": null,
            "height": null,
            "justify_content": null,
            "justify_items": null,
            "left": null,
            "margin": null,
            "max_height": null,
            "max_width": null,
            "min_height": null,
            "min_width": null,
            "object_fit": null,
            "object_position": null,
            "order": null,
            "overflow": null,
            "overflow_x": null,
            "overflow_y": null,
            "padding": null,
            "right": null,
            "top": null,
            "visibility": null,
            "width": null
          }
        },
        "423ee28446574ceca5f6ed1e373e40a8": {
          "model_module": "@jupyter-widgets/controls",
          "model_name": "DescriptionStyleModel",
          "model_module_version": "1.5.0",
          "state": {
            "_model_module": "@jupyter-widgets/controls",
            "_model_module_version": "1.5.0",
            "_model_name": "DescriptionStyleModel",
            "_view_count": null,
            "_view_module": "@jupyter-widgets/base",
            "_view_module_version": "1.2.0",
            "_view_name": "StyleView",
            "description_width": ""
          }
        },
        "928988e33dff40899f31b5ca7a1d2ccc": {
          "model_module": "@jupyter-widgets/controls",
          "model_name": "HBoxModel",
          "model_module_version": "1.5.0",
          "state": {
            "_dom_classes": [],
            "_model_module": "@jupyter-widgets/controls",
            "_model_module_version": "1.5.0",
            "_model_name": "HBoxModel",
            "_view_count": null,
            "_view_module": "@jupyter-widgets/controls",
            "_view_module_version": "1.5.0",
            "_view_name": "HBoxView",
            "box_style": "",
            "children": [
              "IPY_MODEL_ed4360934d604a059e5ec4044be769ff",
              "IPY_MODEL_79ea7261df2d426fa2029b5011aa69a5",
              "IPY_MODEL_15b9076d46094ed69204f8dd913b4551"
            ],
            "layout": "IPY_MODEL_74848b310d82432d970032edea0c78d7"
          }
        },
        "ed4360934d604a059e5ec4044be769ff": {
          "model_module": "@jupyter-widgets/controls",
          "model_name": "HTMLModel",
          "model_module_version": "1.5.0",
          "state": {
            "_dom_classes": [],
            "_model_module": "@jupyter-widgets/controls",
            "_model_module_version": "1.5.0",
            "_model_name": "HTMLModel",
            "_view_count": null,
            "_view_module": "@jupyter-widgets/controls",
            "_view_module_version": "1.5.0",
            "_view_name": "HTMLView",
            "description": "",
            "description_tooltip": null,
            "layout": "IPY_MODEL_edbd8ce52194405daec3e4f21cd2e66d",
            "placeholder": "​",
            "style": "IPY_MODEL_650972d076b04f108847d1afc1e061bb",
            "value": "Iteration: 100%"
          }
        },
        "79ea7261df2d426fa2029b5011aa69a5": {
          "model_module": "@jupyter-widgets/controls",
          "model_name": "FloatProgressModel",
          "model_module_version": "1.5.0",
          "state": {
            "_dom_classes": [],
            "_model_module": "@jupyter-widgets/controls",
            "_model_module_version": "1.5.0",
            "_model_name": "FloatProgressModel",
            "_view_count": null,
            "_view_module": "@jupyter-widgets/controls",
            "_view_module_version": "1.5.0",
            "_view_name": "ProgressView",
            "bar_style": "success",
            "description": "",
            "description_tooltip": null,
            "layout": "IPY_MODEL_35a7443410f94478912dd5e30323cf28",
            "max": 365,
            "min": 0,
            "orientation": "horizontal",
            "style": "IPY_MODEL_b48223f950024ebb80eba7342f0fb287",
            "value": 365
          }
        },
        "15b9076d46094ed69204f8dd913b4551": {
          "model_module": "@jupyter-widgets/controls",
          "model_name": "HTMLModel",
          "model_module_version": "1.5.0",
          "state": {
            "_dom_classes": [],
            "_model_module": "@jupyter-widgets/controls",
            "_model_module_version": "1.5.0",
            "_model_name": "HTMLModel",
            "_view_count": null,
            "_view_module": "@jupyter-widgets/controls",
            "_view_module_version": "1.5.0",
            "_view_name": "HTMLView",
            "description": "",
            "description_tooltip": null,
            "layout": "IPY_MODEL_27b37d737d924ed49ee86ea3f7878f2e",
            "placeholder": "​",
            "style": "IPY_MODEL_8b94a7bf2fa74df3803c172e2e94b323",
            "value": " 365/365 [02:59&lt;00:00,  2.00it/s]"
          }
        },
        "74848b310d82432d970032edea0c78d7": {
          "model_module": "@jupyter-widgets/base",
          "model_name": "LayoutModel",
          "model_module_version": "1.2.0",
          "state": {
            "_model_module": "@jupyter-widgets/base",
            "_model_module_version": "1.2.0",
            "_model_name": "LayoutModel",
            "_view_count": null,
            "_view_module": "@jupyter-widgets/base",
            "_view_module_version": "1.2.0",
            "_view_name": "LayoutView",
            "align_content": null,
            "align_items": null,
            "align_self": null,
            "border": null,
            "bottom": null,
            "display": null,
            "flex": null,
            "flex_flow": null,
            "grid_area": null,
            "grid_auto_columns": null,
            "grid_auto_flow": null,
            "grid_auto_rows": null,
            "grid_column": null,
            "grid_gap": null,
            "grid_row": null,
            "grid_template_areas": null,
            "grid_template_columns": null,
            "grid_template_rows": null,
            "height": null,
            "justify_content": null,
            "justify_items": null,
            "left": null,
            "margin": null,
            "max_height": null,
            "max_width": null,
            "min_height": null,
            "min_width": null,
            "object_fit": null,
            "object_position": null,
            "order": null,
            "overflow": null,
            "overflow_x": null,
            "overflow_y": null,
            "padding": null,
            "right": null,
            "top": null,
            "visibility": null,
            "width": null
          }
        },
        "edbd8ce52194405daec3e4f21cd2e66d": {
          "model_module": "@jupyter-widgets/base",
          "model_name": "LayoutModel",
          "model_module_version": "1.2.0",
          "state": {
            "_model_module": "@jupyter-widgets/base",
            "_model_module_version": "1.2.0",
            "_model_name": "LayoutModel",
            "_view_count": null,
            "_view_module": "@jupyter-widgets/base",
            "_view_module_version": "1.2.0",
            "_view_name": "LayoutView",
            "align_content": null,
            "align_items": null,
            "align_self": null,
            "border": null,
            "bottom": null,
            "display": null,
            "flex": null,
            "flex_flow": null,
            "grid_area": null,
            "grid_auto_columns": null,
            "grid_auto_flow": null,
            "grid_auto_rows": null,
            "grid_column": null,
            "grid_gap": null,
            "grid_row": null,
            "grid_template_areas": null,
            "grid_template_columns": null,
            "grid_template_rows": null,
            "height": null,
            "justify_content": null,
            "justify_items": null,
            "left": null,
            "margin": null,
            "max_height": null,
            "max_width": null,
            "min_height": null,
            "min_width": null,
            "object_fit": null,
            "object_position": null,
            "order": null,
            "overflow": null,
            "overflow_x": null,
            "overflow_y": null,
            "padding": null,
            "right": null,
            "top": null,
            "visibility": null,
            "width": null
          }
        },
        "650972d076b04f108847d1afc1e061bb": {
          "model_module": "@jupyter-widgets/controls",
          "model_name": "DescriptionStyleModel",
          "model_module_version": "1.5.0",
          "state": {
            "_model_module": "@jupyter-widgets/controls",
            "_model_module_version": "1.5.0",
            "_model_name": "DescriptionStyleModel",
            "_view_count": null,
            "_view_module": "@jupyter-widgets/base",
            "_view_module_version": "1.2.0",
            "_view_name": "StyleView",
            "description_width": ""
          }
        },
        "35a7443410f94478912dd5e30323cf28": {
          "model_module": "@jupyter-widgets/base",
          "model_name": "LayoutModel",
          "model_module_version": "1.2.0",
          "state": {
            "_model_module": "@jupyter-widgets/base",
            "_model_module_version": "1.2.0",
            "_model_name": "LayoutModel",
            "_view_count": null,
            "_view_module": "@jupyter-widgets/base",
            "_view_module_version": "1.2.0",
            "_view_name": "LayoutView",
            "align_content": null,
            "align_items": null,
            "align_self": null,
            "border": null,
            "bottom": null,
            "display": null,
            "flex": null,
            "flex_flow": null,
            "grid_area": null,
            "grid_auto_columns": null,
            "grid_auto_flow": null,
            "grid_auto_rows": null,
            "grid_column": null,
            "grid_gap": null,
            "grid_row": null,
            "grid_template_areas": null,
            "grid_template_columns": null,
            "grid_template_rows": null,
            "height": null,
            "justify_content": null,
            "justify_items": null,
            "left": null,
            "margin": null,
            "max_height": null,
            "max_width": null,
            "min_height": null,
            "min_width": null,
            "object_fit": null,
            "object_position": null,
            "order": null,
            "overflow": null,
            "overflow_x": null,
            "overflow_y": null,
            "padding": null,
            "right": null,
            "top": null,
            "visibility": null,
            "width": null
          }
        },
        "b48223f950024ebb80eba7342f0fb287": {
          "model_module": "@jupyter-widgets/controls",
          "model_name": "ProgressStyleModel",
          "model_module_version": "1.5.0",
          "state": {
            "_model_module": "@jupyter-widgets/controls",
            "_model_module_version": "1.5.0",
            "_model_name": "ProgressStyleModel",
            "_view_count": null,
            "_view_module": "@jupyter-widgets/base",
            "_view_module_version": "1.2.0",
            "_view_name": "StyleView",
            "bar_color": null,
            "description_width": ""
          }
        },
        "27b37d737d924ed49ee86ea3f7878f2e": {
          "model_module": "@jupyter-widgets/base",
          "model_name": "LayoutModel",
          "model_module_version": "1.2.0",
          "state": {
            "_model_module": "@jupyter-widgets/base",
            "_model_module_version": "1.2.0",
            "_model_name": "LayoutModel",
            "_view_count": null,
            "_view_module": "@jupyter-widgets/base",
            "_view_module_version": "1.2.0",
            "_view_name": "LayoutView",
            "align_content": null,
            "align_items": null,
            "align_self": null,
            "border": null,
            "bottom": null,
            "display": null,
            "flex": null,
            "flex_flow": null,
            "grid_area": null,
            "grid_auto_columns": null,
            "grid_auto_flow": null,
            "grid_auto_rows": null,
            "grid_column": null,
            "grid_gap": null,
            "grid_row": null,
            "grid_template_areas": null,
            "grid_template_columns": null,
            "grid_template_rows": null,
            "height": null,
            "justify_content": null,
            "justify_items": null,
            "left": null,
            "margin": null,
            "max_height": null,
            "max_width": null,
            "min_height": null,
            "min_width": null,
            "object_fit": null,
            "object_position": null,
            "order": null,
            "overflow": null,
            "overflow_x": null,
            "overflow_y": null,
            "padding": null,
            "right": null,
            "top": null,
            "visibility": null,
            "width": null
          }
        },
        "8b94a7bf2fa74df3803c172e2e94b323": {
          "model_module": "@jupyter-widgets/controls",
          "model_name": "DescriptionStyleModel",
          "model_module_version": "1.5.0",
          "state": {
            "_model_module": "@jupyter-widgets/controls",
            "_model_module_version": "1.5.0",
            "_model_name": "DescriptionStyleModel",
            "_view_count": null,
            "_view_module": "@jupyter-widgets/base",
            "_view_module_version": "1.2.0",
            "_view_name": "StyleView",
            "description_width": ""
          }
        },
        "48662dd050314f9699feb68efc6a9b82": {
          "model_module": "@jupyter-widgets/controls",
          "model_name": "HBoxModel",
          "model_module_version": "1.5.0",
          "state": {
            "_dom_classes": [],
            "_model_module": "@jupyter-widgets/controls",
            "_model_module_version": "1.5.0",
            "_model_name": "HBoxModel",
            "_view_count": null,
            "_view_module": "@jupyter-widgets/controls",
            "_view_module_version": "1.5.0",
            "_view_name": "HBoxView",
            "box_style": "",
            "children": [
              "IPY_MODEL_7e891f6004324aecac6440c3aad00675",
              "IPY_MODEL_6857ad96474d4616974295402b5de5e5",
              "IPY_MODEL_e2581a40795e4b789dccb08498a3c6a9"
            ],
            "layout": "IPY_MODEL_b9c1a78665ca4d3ca7d109c71350423a"
          }
        },
        "7e891f6004324aecac6440c3aad00675": {
          "model_module": "@jupyter-widgets/controls",
          "model_name": "HTMLModel",
          "model_module_version": "1.5.0",
          "state": {
            "_dom_classes": [],
            "_model_module": "@jupyter-widgets/controls",
            "_model_module_version": "1.5.0",
            "_model_name": "HTMLModel",
            "_view_count": null,
            "_view_module": "@jupyter-widgets/controls",
            "_view_module_version": "1.5.0",
            "_view_name": "HTMLView",
            "description": "",
            "description_tooltip": null,
            "layout": "IPY_MODEL_d51fe7afe46e4c96a7f687bad93098e4",
            "placeholder": "​",
            "style": "IPY_MODEL_51190affb0b64295b9bf1c6380d49da3",
            "value": "Iteration: 100%"
          }
        },
        "6857ad96474d4616974295402b5de5e5": {
          "model_module": "@jupyter-widgets/controls",
          "model_name": "FloatProgressModel",
          "model_module_version": "1.5.0",
          "state": {
            "_dom_classes": [],
            "_model_module": "@jupyter-widgets/controls",
            "_model_module_version": "1.5.0",
            "_model_name": "FloatProgressModel",
            "_view_count": null,
            "_view_module": "@jupyter-widgets/controls",
            "_view_module_version": "1.5.0",
            "_view_name": "ProgressView",
            "bar_style": "success",
            "description": "",
            "description_tooltip": null,
            "layout": "IPY_MODEL_dc27b5a97f4243ac907f5ab560a486f1",
            "max": 365,
            "min": 0,
            "orientation": "horizontal",
            "style": "IPY_MODEL_10953ac8fd174956bed6e129703d0d99",
            "value": 365
          }
        },
        "e2581a40795e4b789dccb08498a3c6a9": {
          "model_module": "@jupyter-widgets/controls",
          "model_name": "HTMLModel",
          "model_module_version": "1.5.0",
          "state": {
            "_dom_classes": [],
            "_model_module": "@jupyter-widgets/controls",
            "_model_module_version": "1.5.0",
            "_model_name": "HTMLModel",
            "_view_count": null,
            "_view_module": "@jupyter-widgets/controls",
            "_view_module_version": "1.5.0",
            "_view_name": "HTMLView",
            "description": "",
            "description_tooltip": null,
            "layout": "IPY_MODEL_c21dbf4c053a45ffafcd9a43d86cd13b",
            "placeholder": "​",
            "style": "IPY_MODEL_c950e214c90e4997bcf3cefbf2f1f629",
            "value": " 365/365 [03:11&lt;00:00,  1.90it/s]"
          }
        },
        "b9c1a78665ca4d3ca7d109c71350423a": {
          "model_module": "@jupyter-widgets/base",
          "model_name": "LayoutModel",
          "model_module_version": "1.2.0",
          "state": {
            "_model_module": "@jupyter-widgets/base",
            "_model_module_version": "1.2.0",
            "_model_name": "LayoutModel",
            "_view_count": null,
            "_view_module": "@jupyter-widgets/base",
            "_view_module_version": "1.2.0",
            "_view_name": "LayoutView",
            "align_content": null,
            "align_items": null,
            "align_self": null,
            "border": null,
            "bottom": null,
            "display": null,
            "flex": null,
            "flex_flow": null,
            "grid_area": null,
            "grid_auto_columns": null,
            "grid_auto_flow": null,
            "grid_auto_rows": null,
            "grid_column": null,
            "grid_gap": null,
            "grid_row": null,
            "grid_template_areas": null,
            "grid_template_columns": null,
            "grid_template_rows": null,
            "height": null,
            "justify_content": null,
            "justify_items": null,
            "left": null,
            "margin": null,
            "max_height": null,
            "max_width": null,
            "min_height": null,
            "min_width": null,
            "object_fit": null,
            "object_position": null,
            "order": null,
            "overflow": null,
            "overflow_x": null,
            "overflow_y": null,
            "padding": null,
            "right": null,
            "top": null,
            "visibility": null,
            "width": null
          }
        },
        "d51fe7afe46e4c96a7f687bad93098e4": {
          "model_module": "@jupyter-widgets/base",
          "model_name": "LayoutModel",
          "model_module_version": "1.2.0",
          "state": {
            "_model_module": "@jupyter-widgets/base",
            "_model_module_version": "1.2.0",
            "_model_name": "LayoutModel",
            "_view_count": null,
            "_view_module": "@jupyter-widgets/base",
            "_view_module_version": "1.2.0",
            "_view_name": "LayoutView",
            "align_content": null,
            "align_items": null,
            "align_self": null,
            "border": null,
            "bottom": null,
            "display": null,
            "flex": null,
            "flex_flow": null,
            "grid_area": null,
            "grid_auto_columns": null,
            "grid_auto_flow": null,
            "grid_auto_rows": null,
            "grid_column": null,
            "grid_gap": null,
            "grid_row": null,
            "grid_template_areas": null,
            "grid_template_columns": null,
            "grid_template_rows": null,
            "height": null,
            "justify_content": null,
            "justify_items": null,
            "left": null,
            "margin": null,
            "max_height": null,
            "max_width": null,
            "min_height": null,
            "min_width": null,
            "object_fit": null,
            "object_position": null,
            "order": null,
            "overflow": null,
            "overflow_x": null,
            "overflow_y": null,
            "padding": null,
            "right": null,
            "top": null,
            "visibility": null,
            "width": null
          }
        },
        "51190affb0b64295b9bf1c6380d49da3": {
          "model_module": "@jupyter-widgets/controls",
          "model_name": "DescriptionStyleModel",
          "model_module_version": "1.5.0",
          "state": {
            "_model_module": "@jupyter-widgets/controls",
            "_model_module_version": "1.5.0",
            "_model_name": "DescriptionStyleModel",
            "_view_count": null,
            "_view_module": "@jupyter-widgets/base",
            "_view_module_version": "1.2.0",
            "_view_name": "StyleView",
            "description_width": ""
          }
        },
        "dc27b5a97f4243ac907f5ab560a486f1": {
          "model_module": "@jupyter-widgets/base",
          "model_name": "LayoutModel",
          "model_module_version": "1.2.0",
          "state": {
            "_model_module": "@jupyter-widgets/base",
            "_model_module_version": "1.2.0",
            "_model_name": "LayoutModel",
            "_view_count": null,
            "_view_module": "@jupyter-widgets/base",
            "_view_module_version": "1.2.0",
            "_view_name": "LayoutView",
            "align_content": null,
            "align_items": null,
            "align_self": null,
            "border": null,
            "bottom": null,
            "display": null,
            "flex": null,
            "flex_flow": null,
            "grid_area": null,
            "grid_auto_columns": null,
            "grid_auto_flow": null,
            "grid_auto_rows": null,
            "grid_column": null,
            "grid_gap": null,
            "grid_row": null,
            "grid_template_areas": null,
            "grid_template_columns": null,
            "grid_template_rows": null,
            "height": null,
            "justify_content": null,
            "justify_items": null,
            "left": null,
            "margin": null,
            "max_height": null,
            "max_width": null,
            "min_height": null,
            "min_width": null,
            "object_fit": null,
            "object_position": null,
            "order": null,
            "overflow": null,
            "overflow_x": null,
            "overflow_y": null,
            "padding": null,
            "right": null,
            "top": null,
            "visibility": null,
            "width": null
          }
        },
        "10953ac8fd174956bed6e129703d0d99": {
          "model_module": "@jupyter-widgets/controls",
          "model_name": "ProgressStyleModel",
          "model_module_version": "1.5.0",
          "state": {
            "_model_module": "@jupyter-widgets/controls",
            "_model_module_version": "1.5.0",
            "_model_name": "ProgressStyleModel",
            "_view_count": null,
            "_view_module": "@jupyter-widgets/base",
            "_view_module_version": "1.2.0",
            "_view_name": "StyleView",
            "bar_color": null,
            "description_width": ""
          }
        },
        "c21dbf4c053a45ffafcd9a43d86cd13b": {
          "model_module": "@jupyter-widgets/base",
          "model_name": "LayoutModel",
          "model_module_version": "1.2.0",
          "state": {
            "_model_module": "@jupyter-widgets/base",
            "_model_module_version": "1.2.0",
            "_model_name": "LayoutModel",
            "_view_count": null,
            "_view_module": "@jupyter-widgets/base",
            "_view_module_version": "1.2.0",
            "_view_name": "LayoutView",
            "align_content": null,
            "align_items": null,
            "align_self": null,
            "border": null,
            "bottom": null,
            "display": null,
            "flex": null,
            "flex_flow": null,
            "grid_area": null,
            "grid_auto_columns": null,
            "grid_auto_flow": null,
            "grid_auto_rows": null,
            "grid_column": null,
            "grid_gap": null,
            "grid_row": null,
            "grid_template_areas": null,
            "grid_template_columns": null,
            "grid_template_rows": null,
            "height": null,
            "justify_content": null,
            "justify_items": null,
            "left": null,
            "margin": null,
            "max_height": null,
            "max_width": null,
            "min_height": null,
            "min_width": null,
            "object_fit": null,
            "object_position": null,
            "order": null,
            "overflow": null,
            "overflow_x": null,
            "overflow_y": null,
            "padding": null,
            "right": null,
            "top": null,
            "visibility": null,
            "width": null
          }
        },
        "c950e214c90e4997bcf3cefbf2f1f629": {
          "model_module": "@jupyter-widgets/controls",
          "model_name": "DescriptionStyleModel",
          "model_module_version": "1.5.0",
          "state": {
            "_model_module": "@jupyter-widgets/controls",
            "_model_module_version": "1.5.0",
            "_model_name": "DescriptionStyleModel",
            "_view_count": null,
            "_view_module": "@jupyter-widgets/base",
            "_view_module_version": "1.2.0",
            "_view_name": "StyleView",
            "description_width": ""
          }
        },
        "a8b9eb130a9a475abcbacf645ed2702c": {
          "model_module": "@jupyter-widgets/controls",
          "model_name": "HBoxModel",
          "model_module_version": "1.5.0",
          "state": {
            "_dom_classes": [],
            "_model_module": "@jupyter-widgets/controls",
            "_model_module_version": "1.5.0",
            "_model_name": "HBoxModel",
            "_view_count": null,
            "_view_module": "@jupyter-widgets/controls",
            "_view_module_version": "1.5.0",
            "_view_name": "HBoxView",
            "box_style": "",
            "children": [
              "IPY_MODEL_8f32d6d8152343e8940386d0d248f092",
              "IPY_MODEL_34ebf4fe19b64186a014bd8d1d4e401a",
              "IPY_MODEL_48683f0739bb470694d3eac7da71ae3d"
            ],
            "layout": "IPY_MODEL_862475997ada4144be97f81b2e4baf1f"
          }
        },
        "8f32d6d8152343e8940386d0d248f092": {
          "model_module": "@jupyter-widgets/controls",
          "model_name": "HTMLModel",
          "model_module_version": "1.5.0",
          "state": {
            "_dom_classes": [],
            "_model_module": "@jupyter-widgets/controls",
            "_model_module_version": "1.5.0",
            "_model_name": "HTMLModel",
            "_view_count": null,
            "_view_module": "@jupyter-widgets/controls",
            "_view_module_version": "1.5.0",
            "_view_name": "HTMLView",
            "description": "",
            "description_tooltip": null,
            "layout": "IPY_MODEL_4a700c3686854251aae47542469a0451",
            "placeholder": "​",
            "style": "IPY_MODEL_5f2dfd4abff24372b4a2cf17df275940",
            "value": "Iteration: 100%"
          }
        },
        "34ebf4fe19b64186a014bd8d1d4e401a": {
          "model_module": "@jupyter-widgets/controls",
          "model_name": "FloatProgressModel",
          "model_module_version": "1.5.0",
          "state": {
            "_dom_classes": [],
            "_model_module": "@jupyter-widgets/controls",
            "_model_module_version": "1.5.0",
            "_model_name": "FloatProgressModel",
            "_view_count": null,
            "_view_module": "@jupyter-widgets/controls",
            "_view_module_version": "1.5.0",
            "_view_name": "ProgressView",
            "bar_style": "success",
            "description": "",
            "description_tooltip": null,
            "layout": "IPY_MODEL_2bec2c0318d2461499a69dff185257cc",
            "max": 365,
            "min": 0,
            "orientation": "horizontal",
            "style": "IPY_MODEL_71cc952f6a0140a4a1589b7a795f18a2",
            "value": 365
          }
        },
        "48683f0739bb470694d3eac7da71ae3d": {
          "model_module": "@jupyter-widgets/controls",
          "model_name": "HTMLModel",
          "model_module_version": "1.5.0",
          "state": {
            "_dom_classes": [],
            "_model_module": "@jupyter-widgets/controls",
            "_model_module_version": "1.5.0",
            "_model_name": "HTMLModel",
            "_view_count": null,
            "_view_module": "@jupyter-widgets/controls",
            "_view_module_version": "1.5.0",
            "_view_name": "HTMLView",
            "description": "",
            "description_tooltip": null,
            "layout": "IPY_MODEL_31d0400e98224270b4383ad4107c8b57",
            "placeholder": "​",
            "style": "IPY_MODEL_e54b38be9e7744fa93aca44457df3abf",
            "value": " 365/365 [03:10&lt;00:00,  1.95it/s]"
          }
        },
        "862475997ada4144be97f81b2e4baf1f": {
          "model_module": "@jupyter-widgets/base",
          "model_name": "LayoutModel",
          "model_module_version": "1.2.0",
          "state": {
            "_model_module": "@jupyter-widgets/base",
            "_model_module_version": "1.2.0",
            "_model_name": "LayoutModel",
            "_view_count": null,
            "_view_module": "@jupyter-widgets/base",
            "_view_module_version": "1.2.0",
            "_view_name": "LayoutView",
            "align_content": null,
            "align_items": null,
            "align_self": null,
            "border": null,
            "bottom": null,
            "display": null,
            "flex": null,
            "flex_flow": null,
            "grid_area": null,
            "grid_auto_columns": null,
            "grid_auto_flow": null,
            "grid_auto_rows": null,
            "grid_column": null,
            "grid_gap": null,
            "grid_row": null,
            "grid_template_areas": null,
            "grid_template_columns": null,
            "grid_template_rows": null,
            "height": null,
            "justify_content": null,
            "justify_items": null,
            "left": null,
            "margin": null,
            "max_height": null,
            "max_width": null,
            "min_height": null,
            "min_width": null,
            "object_fit": null,
            "object_position": null,
            "order": null,
            "overflow": null,
            "overflow_x": null,
            "overflow_y": null,
            "padding": null,
            "right": null,
            "top": null,
            "visibility": null,
            "width": null
          }
        },
        "4a700c3686854251aae47542469a0451": {
          "model_module": "@jupyter-widgets/base",
          "model_name": "LayoutModel",
          "model_module_version": "1.2.0",
          "state": {
            "_model_module": "@jupyter-widgets/base",
            "_model_module_version": "1.2.0",
            "_model_name": "LayoutModel",
            "_view_count": null,
            "_view_module": "@jupyter-widgets/base",
            "_view_module_version": "1.2.0",
            "_view_name": "LayoutView",
            "align_content": null,
            "align_items": null,
            "align_self": null,
            "border": null,
            "bottom": null,
            "display": null,
            "flex": null,
            "flex_flow": null,
            "grid_area": null,
            "grid_auto_columns": null,
            "grid_auto_flow": null,
            "grid_auto_rows": null,
            "grid_column": null,
            "grid_gap": null,
            "grid_row": null,
            "grid_template_areas": null,
            "grid_template_columns": null,
            "grid_template_rows": null,
            "height": null,
            "justify_content": null,
            "justify_items": null,
            "left": null,
            "margin": null,
            "max_height": null,
            "max_width": null,
            "min_height": null,
            "min_width": null,
            "object_fit": null,
            "object_position": null,
            "order": null,
            "overflow": null,
            "overflow_x": null,
            "overflow_y": null,
            "padding": null,
            "right": null,
            "top": null,
            "visibility": null,
            "width": null
          }
        },
        "5f2dfd4abff24372b4a2cf17df275940": {
          "model_module": "@jupyter-widgets/controls",
          "model_name": "DescriptionStyleModel",
          "model_module_version": "1.5.0",
          "state": {
            "_model_module": "@jupyter-widgets/controls",
            "_model_module_version": "1.5.0",
            "_model_name": "DescriptionStyleModel",
            "_view_count": null,
            "_view_module": "@jupyter-widgets/base",
            "_view_module_version": "1.2.0",
            "_view_name": "StyleView",
            "description_width": ""
          }
        },
        "2bec2c0318d2461499a69dff185257cc": {
          "model_module": "@jupyter-widgets/base",
          "model_name": "LayoutModel",
          "model_module_version": "1.2.0",
          "state": {
            "_model_module": "@jupyter-widgets/base",
            "_model_module_version": "1.2.0",
            "_model_name": "LayoutModel",
            "_view_count": null,
            "_view_module": "@jupyter-widgets/base",
            "_view_module_version": "1.2.0",
            "_view_name": "LayoutView",
            "align_content": null,
            "align_items": null,
            "align_self": null,
            "border": null,
            "bottom": null,
            "display": null,
            "flex": null,
            "flex_flow": null,
            "grid_area": null,
            "grid_auto_columns": null,
            "grid_auto_flow": null,
            "grid_auto_rows": null,
            "grid_column": null,
            "grid_gap": null,
            "grid_row": null,
            "grid_template_areas": null,
            "grid_template_columns": null,
            "grid_template_rows": null,
            "height": null,
            "justify_content": null,
            "justify_items": null,
            "left": null,
            "margin": null,
            "max_height": null,
            "max_width": null,
            "min_height": null,
            "min_width": null,
            "object_fit": null,
            "object_position": null,
            "order": null,
            "overflow": null,
            "overflow_x": null,
            "overflow_y": null,
            "padding": null,
            "right": null,
            "top": null,
            "visibility": null,
            "width": null
          }
        },
        "71cc952f6a0140a4a1589b7a795f18a2": {
          "model_module": "@jupyter-widgets/controls",
          "model_name": "ProgressStyleModel",
          "model_module_version": "1.5.0",
          "state": {
            "_model_module": "@jupyter-widgets/controls",
            "_model_module_version": "1.5.0",
            "_model_name": "ProgressStyleModel",
            "_view_count": null,
            "_view_module": "@jupyter-widgets/base",
            "_view_module_version": "1.2.0",
            "_view_name": "StyleView",
            "bar_color": null,
            "description_width": ""
          }
        },
        "31d0400e98224270b4383ad4107c8b57": {
          "model_module": "@jupyter-widgets/base",
          "model_name": "LayoutModel",
          "model_module_version": "1.2.0",
          "state": {
            "_model_module": "@jupyter-widgets/base",
            "_model_module_version": "1.2.0",
            "_model_name": "LayoutModel",
            "_view_count": null,
            "_view_module": "@jupyter-widgets/base",
            "_view_module_version": "1.2.0",
            "_view_name": "LayoutView",
            "align_content": null,
            "align_items": null,
            "align_self": null,
            "border": null,
            "bottom": null,
            "display": null,
            "flex": null,
            "flex_flow": null,
            "grid_area": null,
            "grid_auto_columns": null,
            "grid_auto_flow": null,
            "grid_auto_rows": null,
            "grid_column": null,
            "grid_gap": null,
            "grid_row": null,
            "grid_template_areas": null,
            "grid_template_columns": null,
            "grid_template_rows": null,
            "height": null,
            "justify_content": null,
            "justify_items": null,
            "left": null,
            "margin": null,
            "max_height": null,
            "max_width": null,
            "min_height": null,
            "min_width": null,
            "object_fit": null,
            "object_position": null,
            "order": null,
            "overflow": null,
            "overflow_x": null,
            "overflow_y": null,
            "padding": null,
            "right": null,
            "top": null,
            "visibility": null,
            "width": null
          }
        },
        "e54b38be9e7744fa93aca44457df3abf": {
          "model_module": "@jupyter-widgets/controls",
          "model_name": "DescriptionStyleModel",
          "model_module_version": "1.5.0",
          "state": {
            "_model_module": "@jupyter-widgets/controls",
            "_model_module_version": "1.5.0",
            "_model_name": "DescriptionStyleModel",
            "_view_count": null,
            "_view_module": "@jupyter-widgets/base",
            "_view_module_version": "1.2.0",
            "_view_name": "StyleView",
            "description_width": ""
          }
        },
        "abda1b6854d247239592f58ae8cf788c": {
          "model_module": "@jupyter-widgets/controls",
          "model_name": "HBoxModel",
          "model_module_version": "1.5.0",
          "state": {
            "_dom_classes": [],
            "_model_module": "@jupyter-widgets/controls",
            "_model_module_version": "1.5.0",
            "_model_name": "HBoxModel",
            "_view_count": null,
            "_view_module": "@jupyter-widgets/controls",
            "_view_module_version": "1.5.0",
            "_view_name": "HBoxView",
            "box_style": "",
            "children": [
              "IPY_MODEL_846a7ee194684045a91f82dd67a79331",
              "IPY_MODEL_33b9976f32754af693b689191a4c7bce",
              "IPY_MODEL_36dbff6ba2fd40b8971fcbc23f0d5f33"
            ],
            "layout": "IPY_MODEL_9c1ebc2770414dd59ea2c1d1969cd8c2"
          }
        },
        "846a7ee194684045a91f82dd67a79331": {
          "model_module": "@jupyter-widgets/controls",
          "model_name": "HTMLModel",
          "model_module_version": "1.5.0",
          "state": {
            "_dom_classes": [],
            "_model_module": "@jupyter-widgets/controls",
            "_model_module_version": "1.5.0",
            "_model_name": "HTMLModel",
            "_view_count": null,
            "_view_module": "@jupyter-widgets/controls",
            "_view_module_version": "1.5.0",
            "_view_name": "HTMLView",
            "description": "",
            "description_tooltip": null,
            "layout": "IPY_MODEL_880a27180b4e4ba0a819650e3439a0e5",
            "placeholder": "​",
            "style": "IPY_MODEL_44f871d2e9694e5ba036471405ddddc8",
            "value": "Iteration: 100%"
          }
        },
        "33b9976f32754af693b689191a4c7bce": {
          "model_module": "@jupyter-widgets/controls",
          "model_name": "FloatProgressModel",
          "model_module_version": "1.5.0",
          "state": {
            "_dom_classes": [],
            "_model_module": "@jupyter-widgets/controls",
            "_model_module_version": "1.5.0",
            "_model_name": "FloatProgressModel",
            "_view_count": null,
            "_view_module": "@jupyter-widgets/controls",
            "_view_module_version": "1.5.0",
            "_view_name": "ProgressView",
            "bar_style": "success",
            "description": "",
            "description_tooltip": null,
            "layout": "IPY_MODEL_6808a381967f44cfa9d2a19e3d629e1c",
            "max": 365,
            "min": 0,
            "orientation": "horizontal",
            "style": "IPY_MODEL_8a9969a869364666b809d96e20d9ea15",
            "value": 365
          }
        },
        "36dbff6ba2fd40b8971fcbc23f0d5f33": {
          "model_module": "@jupyter-widgets/controls",
          "model_name": "HTMLModel",
          "model_module_version": "1.5.0",
          "state": {
            "_dom_classes": [],
            "_model_module": "@jupyter-widgets/controls",
            "_model_module_version": "1.5.0",
            "_model_name": "HTMLModel",
            "_view_count": null,
            "_view_module": "@jupyter-widgets/controls",
            "_view_module_version": "1.5.0",
            "_view_name": "HTMLView",
            "description": "",
            "description_tooltip": null,
            "layout": "IPY_MODEL_0ad9899c974348e1a2998e2f6e2882c2",
            "placeholder": "​",
            "style": "IPY_MODEL_6c63d62372e34b96ba738b833da77c2b",
            "value": " 365/365 [03:09&lt;00:00,  1.97it/s]"
          }
        },
        "9c1ebc2770414dd59ea2c1d1969cd8c2": {
          "model_module": "@jupyter-widgets/base",
          "model_name": "LayoutModel",
          "model_module_version": "1.2.0",
          "state": {
            "_model_module": "@jupyter-widgets/base",
            "_model_module_version": "1.2.0",
            "_model_name": "LayoutModel",
            "_view_count": null,
            "_view_module": "@jupyter-widgets/base",
            "_view_module_version": "1.2.0",
            "_view_name": "LayoutView",
            "align_content": null,
            "align_items": null,
            "align_self": null,
            "border": null,
            "bottom": null,
            "display": null,
            "flex": null,
            "flex_flow": null,
            "grid_area": null,
            "grid_auto_columns": null,
            "grid_auto_flow": null,
            "grid_auto_rows": null,
            "grid_column": null,
            "grid_gap": null,
            "grid_row": null,
            "grid_template_areas": null,
            "grid_template_columns": null,
            "grid_template_rows": null,
            "height": null,
            "justify_content": null,
            "justify_items": null,
            "left": null,
            "margin": null,
            "max_height": null,
            "max_width": null,
            "min_height": null,
            "min_width": null,
            "object_fit": null,
            "object_position": null,
            "order": null,
            "overflow": null,
            "overflow_x": null,
            "overflow_y": null,
            "padding": null,
            "right": null,
            "top": null,
            "visibility": null,
            "width": null
          }
        },
        "880a27180b4e4ba0a819650e3439a0e5": {
          "model_module": "@jupyter-widgets/base",
          "model_name": "LayoutModel",
          "model_module_version": "1.2.0",
          "state": {
            "_model_module": "@jupyter-widgets/base",
            "_model_module_version": "1.2.0",
            "_model_name": "LayoutModel",
            "_view_count": null,
            "_view_module": "@jupyter-widgets/base",
            "_view_module_version": "1.2.0",
            "_view_name": "LayoutView",
            "align_content": null,
            "align_items": null,
            "align_self": null,
            "border": null,
            "bottom": null,
            "display": null,
            "flex": null,
            "flex_flow": null,
            "grid_area": null,
            "grid_auto_columns": null,
            "grid_auto_flow": null,
            "grid_auto_rows": null,
            "grid_column": null,
            "grid_gap": null,
            "grid_row": null,
            "grid_template_areas": null,
            "grid_template_columns": null,
            "grid_template_rows": null,
            "height": null,
            "justify_content": null,
            "justify_items": null,
            "left": null,
            "margin": null,
            "max_height": null,
            "max_width": null,
            "min_height": null,
            "min_width": null,
            "object_fit": null,
            "object_position": null,
            "order": null,
            "overflow": null,
            "overflow_x": null,
            "overflow_y": null,
            "padding": null,
            "right": null,
            "top": null,
            "visibility": null,
            "width": null
          }
        },
        "44f871d2e9694e5ba036471405ddddc8": {
          "model_module": "@jupyter-widgets/controls",
          "model_name": "DescriptionStyleModel",
          "model_module_version": "1.5.0",
          "state": {
            "_model_module": "@jupyter-widgets/controls",
            "_model_module_version": "1.5.0",
            "_model_name": "DescriptionStyleModel",
            "_view_count": null,
            "_view_module": "@jupyter-widgets/base",
            "_view_module_version": "1.2.0",
            "_view_name": "StyleView",
            "description_width": ""
          }
        },
        "6808a381967f44cfa9d2a19e3d629e1c": {
          "model_module": "@jupyter-widgets/base",
          "model_name": "LayoutModel",
          "model_module_version": "1.2.0",
          "state": {
            "_model_module": "@jupyter-widgets/base",
            "_model_module_version": "1.2.0",
            "_model_name": "LayoutModel",
            "_view_count": null,
            "_view_module": "@jupyter-widgets/base",
            "_view_module_version": "1.2.0",
            "_view_name": "LayoutView",
            "align_content": null,
            "align_items": null,
            "align_self": null,
            "border": null,
            "bottom": null,
            "display": null,
            "flex": null,
            "flex_flow": null,
            "grid_area": null,
            "grid_auto_columns": null,
            "grid_auto_flow": null,
            "grid_auto_rows": null,
            "grid_column": null,
            "grid_gap": null,
            "grid_row": null,
            "grid_template_areas": null,
            "grid_template_columns": null,
            "grid_template_rows": null,
            "height": null,
            "justify_content": null,
            "justify_items": null,
            "left": null,
            "margin": null,
            "max_height": null,
            "max_width": null,
            "min_height": null,
            "min_width": null,
            "object_fit": null,
            "object_position": null,
            "order": null,
            "overflow": null,
            "overflow_x": null,
            "overflow_y": null,
            "padding": null,
            "right": null,
            "top": null,
            "visibility": null,
            "width": null
          }
        },
        "8a9969a869364666b809d96e20d9ea15": {
          "model_module": "@jupyter-widgets/controls",
          "model_name": "ProgressStyleModel",
          "model_module_version": "1.5.0",
          "state": {
            "_model_module": "@jupyter-widgets/controls",
            "_model_module_version": "1.5.0",
            "_model_name": "ProgressStyleModel",
            "_view_count": null,
            "_view_module": "@jupyter-widgets/base",
            "_view_module_version": "1.2.0",
            "_view_name": "StyleView",
            "bar_color": null,
            "description_width": ""
          }
        },
        "0ad9899c974348e1a2998e2f6e2882c2": {
          "model_module": "@jupyter-widgets/base",
          "model_name": "LayoutModel",
          "model_module_version": "1.2.0",
          "state": {
            "_model_module": "@jupyter-widgets/base",
            "_model_module_version": "1.2.0",
            "_model_name": "LayoutModel",
            "_view_count": null,
            "_view_module": "@jupyter-widgets/base",
            "_view_module_version": "1.2.0",
            "_view_name": "LayoutView",
            "align_content": null,
            "align_items": null,
            "align_self": null,
            "border": null,
            "bottom": null,
            "display": null,
            "flex": null,
            "flex_flow": null,
            "grid_area": null,
            "grid_auto_columns": null,
            "grid_auto_flow": null,
            "grid_auto_rows": null,
            "grid_column": null,
            "grid_gap": null,
            "grid_row": null,
            "grid_template_areas": null,
            "grid_template_columns": null,
            "grid_template_rows": null,
            "height": null,
            "justify_content": null,
            "justify_items": null,
            "left": null,
            "margin": null,
            "max_height": null,
            "max_width": null,
            "min_height": null,
            "min_width": null,
            "object_fit": null,
            "object_position": null,
            "order": null,
            "overflow": null,
            "overflow_x": null,
            "overflow_y": null,
            "padding": null,
            "right": null,
            "top": null,
            "visibility": null,
            "width": null
          }
        },
        "6c63d62372e34b96ba738b833da77c2b": {
          "model_module": "@jupyter-widgets/controls",
          "model_name": "DescriptionStyleModel",
          "model_module_version": "1.5.0",
          "state": {
            "_model_module": "@jupyter-widgets/controls",
            "_model_module_version": "1.5.0",
            "_model_name": "DescriptionStyleModel",
            "_view_count": null,
            "_view_module": "@jupyter-widgets/base",
            "_view_module_version": "1.2.0",
            "_view_name": "StyleView",
            "description_width": ""
          }
        }
      }
    },
    "accelerator": "GPU"
  },
  "cells": [
    {
      "cell_type": "markdown",
      "metadata": {
        "id": "view-in-github",
        "colab_type": "text"
      },
      "source": [
        "<a href=\"https://colab.research.google.com/github/ttogle918/NLU_3-/blob/main/%EC%9A%B0%EA%B2%BD%ED%99%94_sts.ipynb\" target=\"_parent\"><img src=\"https://colab.research.google.com/assets/colab-badge.svg\" alt=\"Open In Colab\"/></a>"
      ]
    },
    {
      "cell_type": "markdown",
      "source": [
        "# **NLU - 문장 유사도 계산 (STS)**"
      ],
      "metadata": {
        "id": "_O_2lOQw29Cr"
      }
    },
    {
      "cell_type": "markdown",
      "source": [
        "## **과제 목표**\n",
        "\n",
        "- 두 개의 한국어 문장을 입력받아 두 문장의 의미적 유사도를 출력\n",
        "- regression task (0 ≤ target ≤ 5)"
      ],
      "metadata": {
        "id": "w8KZ_9vI3QBA"
      }
    },
    {
      "cell_type": "markdown",
      "source": [
        "## **학습 데이터셋(Dataset description)**\n",
        "\n",
        "- [KLUE-STS](https://klue-benchmark.com/tasks/67/data/download)\n",
        "  - AIRBNB (에어비앤비 리뷰)\n",
        "  - policy (정책 뉴스)\n",
        "  - paraKOQC (스마트홈 쿼리)\n",
        "\n",
        "  ![image.png](data:image/png;base64,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)"
      ],
      "metadata": {
        "id": "3SfCr7AN3rko"
      }
    },
    {
      "cell_type": "markdown",
      "source": [
        "## **과제 결과물**\n",
        "- 학습된 모델 (모델 자유 선택) (train set만 사용해 학습)\n",
        "- 학습 방식 보고서\n",
        " - 어떤 모델을 선택했나\n",
        " - 어떻게 파라미터를 튜닝했나\n",
        " - 어떤 훈련 과정을 거쳤는가\n",
        "- dev set score (F1)\n",
        "- 문장 유사도를 출력하는 API (프레임워크 자유 선택)"
      ],
      "metadata": {
        "id": "9ZJ2q3kTl_HM"
      }
    },
    {
      "cell_type": "markdown",
      "source": [
        "## **설치 및 설정(Set up)**"
      ],
      "metadata": {
        "id": "I0l2e-RCC2oD"
      }
    },
    {
      "cell_type": "code",
      "source": [
        "# Hugging Face의 트랜스포머 모델 설치\n",
        "!pip install transformers\n",
        "!pip install sentence_transformers datasets\n",
        "!pip install datasets"
      ],
      "metadata": {
        "id": "Ve2AJ3K6C2VK",
        "colab": {
          "base_uri": "https://localhost:8080/"
        },
        "outputId": "e5b50268-43e8-4f67-87dd-d9a1f6c0feeb"
      },
      "execution_count": 1,
      "outputs": [
        {
          "output_type": "stream",
          "name": "stdout",
          "text": [
            "Looking in indexes: https://pypi.org/simple, https://us-python.pkg.dev/colab-wheels/public/simple/\n",
            "Requirement already satisfied: transformers in /usr/local/lib/python3.7/dist-packages (4.19.2)\n",
            "Requirement already satisfied: regex!=2019.12.17 in /usr/local/lib/python3.7/dist-packages (from transformers) (2019.12.20)\n",
            "Requirement already satisfied: pyyaml>=5.1 in /usr/local/lib/python3.7/dist-packages (from transformers) (6.0)\n",
            "Requirement already satisfied: packaging>=20.0 in /usr/local/lib/python3.7/dist-packages (from transformers) (21.3)\n",
            "Requirement already satisfied: importlib-metadata in /usr/local/lib/python3.7/dist-packages (from transformers) (4.11.3)\n",
            "Requirement already satisfied: requests in /usr/local/lib/python3.7/dist-packages (from transformers) (2.23.0)\n",
            "Requirement already satisfied: huggingface-hub<1.0,>=0.1.0 in /usr/local/lib/python3.7/dist-packages (from transformers) (0.6.0)\n",
            "Requirement already satisfied: filelock in /usr/local/lib/python3.7/dist-packages (from transformers) (3.7.0)\n",
            "Requirement already satisfied: tqdm>=4.27 in /usr/local/lib/python3.7/dist-packages (from transformers) (4.64.0)\n",
            "Requirement already satisfied: tokenizers!=0.11.3,<0.13,>=0.11.1 in /usr/local/lib/python3.7/dist-packages (from transformers) (0.12.1)\n",
            "Requirement already satisfied: numpy>=1.17 in /usr/local/lib/python3.7/dist-packages (from transformers) (1.21.6)\n",
            "Requirement already satisfied: typing-extensions>=3.7.4.3 in /usr/local/lib/python3.7/dist-packages (from huggingface-hub<1.0,>=0.1.0->transformers) (4.2.0)\n",
            "Requirement already satisfied: pyparsing!=3.0.5,>=2.0.2 in /usr/local/lib/python3.7/dist-packages (from packaging>=20.0->transformers) (3.0.9)\n",
            "Requirement already satisfied: zipp>=0.5 in /usr/local/lib/python3.7/dist-packages (from importlib-metadata->transformers) (3.8.0)\n",
            "Requirement already satisfied: certifi>=2017.4.17 in /usr/local/lib/python3.7/dist-packages (from requests->transformers) (2022.5.18.1)\n",
            "Requirement already satisfied: idna<3,>=2.5 in /usr/local/lib/python3.7/dist-packages (from requests->transformers) (2.10)\n",
            "Requirement already satisfied: chardet<4,>=3.0.2 in /usr/local/lib/python3.7/dist-packages (from requests->transformers) (3.0.4)\n",
            "Requirement already satisfied: urllib3!=1.25.0,!=1.25.1,<1.26,>=1.21.1 in /usr/local/lib/python3.7/dist-packages (from requests->transformers) (1.25.11)\n",
            "Looking in indexes: https://pypi.org/simple, https://us-python.pkg.dev/colab-wheels/public/simple/\n",
            "Requirement already satisfied: sentence_transformers in /usr/local/lib/python3.7/dist-packages (2.2.0)\n",
            "Requirement already satisfied: datasets in /usr/local/lib/python3.7/dist-packages (2.2.2)\n",
            "Requirement already satisfied: scikit-learn in /usr/local/lib/python3.7/dist-packages (from sentence_transformers) (1.0.2)\n",
            "Requirement already satisfied: transformers<5.0.0,>=4.6.0 in /usr/local/lib/python3.7/dist-packages (from sentence_transformers) (4.19.2)\n",
            "Requirement already satisfied: torchvision in /usr/local/lib/python3.7/dist-packages (from sentence_transformers) (0.12.0+cu113)\n",
            "Requirement already satisfied: tqdm in /usr/local/lib/python3.7/dist-packages (from sentence_transformers) (4.64.0)\n",
            "Requirement already satisfied: huggingface-hub in /usr/local/lib/python3.7/dist-packages (from sentence_transformers) (0.6.0)\n",
            "Requirement already satisfied: torch>=1.6.0 in /usr/local/lib/python3.7/dist-packages (from sentence_transformers) (1.11.0+cu113)\n",
            "Requirement already satisfied: sentencepiece in /usr/local/lib/python3.7/dist-packages (from sentence_transformers) (0.1.96)\n",
            "Requirement already satisfied: nltk in /usr/local/lib/python3.7/dist-packages (from sentence_transformers) (3.2.5)\n",
            "Requirement already satisfied: numpy in /usr/local/lib/python3.7/dist-packages (from sentence_transformers) (1.21.6)\n",
            "Requirement already satisfied: scipy in /usr/local/lib/python3.7/dist-packages (from sentence_transformers) (1.4.1)\n",
            "Requirement already satisfied: typing-extensions in /usr/local/lib/python3.7/dist-packages (from torch>=1.6.0->sentence_transformers) (4.2.0)\n",
            "Requirement already satisfied: tokenizers!=0.11.3,<0.13,>=0.11.1 in /usr/local/lib/python3.7/dist-packages (from transformers<5.0.0,>=4.6.0->sentence_transformers) (0.12.1)\n",
            "Requirement already satisfied: importlib-metadata in /usr/local/lib/python3.7/dist-packages (from transformers<5.0.0,>=4.6.0->sentence_transformers) (4.11.3)\n",
            "Requirement already satisfied: packaging>=20.0 in /usr/local/lib/python3.7/dist-packages (from transformers<5.0.0,>=4.6.0->sentence_transformers) (21.3)\n",
            "Requirement already satisfied: regex!=2019.12.17 in /usr/local/lib/python3.7/dist-packages (from transformers<5.0.0,>=4.6.0->sentence_transformers) (2019.12.20)\n",
            "Requirement already satisfied: pyyaml>=5.1 in /usr/local/lib/python3.7/dist-packages (from transformers<5.0.0,>=4.6.0->sentence_transformers) (6.0)\n",
            "Requirement already satisfied: requests in /usr/local/lib/python3.7/dist-packages (from transformers<5.0.0,>=4.6.0->sentence_transformers) (2.23.0)\n",
            "Requirement already satisfied: filelock in /usr/local/lib/python3.7/dist-packages (from transformers<5.0.0,>=4.6.0->sentence_transformers) (3.7.0)\n",
            "Requirement already satisfied: pyparsing!=3.0.5,>=2.0.2 in /usr/local/lib/python3.7/dist-packages (from packaging>=20.0->transformers<5.0.0,>=4.6.0->sentence_transformers) (3.0.9)\n",
            "Requirement already satisfied: aiohttp in /usr/local/lib/python3.7/dist-packages (from datasets) (3.8.1)\n",
            "Requirement already satisfied: pyarrow>=6.0.0 in /usr/local/lib/python3.7/dist-packages (from datasets) (6.0.1)\n",
            "Requirement already satisfied: multiprocess in /usr/local/lib/python3.7/dist-packages (from datasets) (0.70.12.2)\n",
            "Requirement already satisfied: pandas in /usr/local/lib/python3.7/dist-packages (from datasets) (1.3.5)\n",
            "Requirement already satisfied: xxhash in /usr/local/lib/python3.7/dist-packages (from datasets) (3.0.0)\n",
            "Requirement already satisfied: responses<0.19 in /usr/local/lib/python3.7/dist-packages (from datasets) (0.18.0)\n",
            "Requirement already satisfied: dill<0.3.5 in /usr/local/lib/python3.7/dist-packages (from datasets) (0.3.4)\n",
            "Requirement already satisfied: fsspec[http]>=2021.05.0 in /usr/local/lib/python3.7/dist-packages (from datasets) (2022.5.0)\n",
            "Requirement already satisfied: urllib3!=1.25.0,!=1.25.1,<1.26,>=1.21.1 in /usr/local/lib/python3.7/dist-packages (from requests->transformers<5.0.0,>=4.6.0->sentence_transformers) (1.25.11)\n",
            "Requirement already satisfied: chardet<4,>=3.0.2 in /usr/local/lib/python3.7/dist-packages (from requests->transformers<5.0.0,>=4.6.0->sentence_transformers) (3.0.4)\n",
            "Requirement already satisfied: certifi>=2017.4.17 in /usr/local/lib/python3.7/dist-packages (from requests->transformers<5.0.0,>=4.6.0->sentence_transformers) (2022.5.18.1)\n",
            "Requirement already satisfied: idna<3,>=2.5 in /usr/local/lib/python3.7/dist-packages (from requests->transformers<5.0.0,>=4.6.0->sentence_transformers) (2.10)\n",
            "Requirement already satisfied: multidict<7.0,>=4.5 in /usr/local/lib/python3.7/dist-packages (from aiohttp->datasets) (6.0.2)\n",
            "Requirement already satisfied: yarl<2.0,>=1.0 in /usr/local/lib/python3.7/dist-packages (from aiohttp->datasets) (1.7.2)\n",
            "Requirement already satisfied: charset-normalizer<3.0,>=2.0 in /usr/local/lib/python3.7/dist-packages (from aiohttp->datasets) (2.0.12)\n",
            "Requirement already satisfied: attrs>=17.3.0 in /usr/local/lib/python3.7/dist-packages (from aiohttp->datasets) (21.4.0)\n",
            "Requirement already satisfied: frozenlist>=1.1.1 in /usr/local/lib/python3.7/dist-packages (from aiohttp->datasets) (1.3.0)\n",
            "Requirement already satisfied: aiosignal>=1.1.2 in /usr/local/lib/python3.7/dist-packages (from aiohttp->datasets) (1.2.0)\n",
            "Requirement already satisfied: asynctest==0.13.0 in /usr/local/lib/python3.7/dist-packages (from aiohttp->datasets) (0.13.0)\n",
            "Requirement already satisfied: async-timeout<5.0,>=4.0.0a3 in /usr/local/lib/python3.7/dist-packages (from aiohttp->datasets) (4.0.2)\n",
            "Requirement already satisfied: zipp>=0.5 in /usr/local/lib/python3.7/dist-packages (from importlib-metadata->transformers<5.0.0,>=4.6.0->sentence_transformers) (3.8.0)\n",
            "Requirement already satisfied: six in /usr/local/lib/python3.7/dist-packages (from nltk->sentence_transformers) (1.15.0)\n",
            "Requirement already satisfied: python-dateutil>=2.7.3 in /usr/local/lib/python3.7/dist-packages (from pandas->datasets) (2.8.2)\n",
            "Requirement already satisfied: pytz>=2017.3 in /usr/local/lib/python3.7/dist-packages (from pandas->datasets) (2022.1)\n",
            "Requirement already satisfied: joblib>=0.11 in /usr/local/lib/python3.7/dist-packages (from scikit-learn->sentence_transformers) (1.1.0)\n",
            "Requirement already satisfied: threadpoolctl>=2.0.0 in /usr/local/lib/python3.7/dist-packages (from scikit-learn->sentence_transformers) (3.1.0)\n",
            "Requirement already satisfied: pillow!=8.3.*,>=5.3.0 in /usr/local/lib/python3.7/dist-packages (from torchvision->sentence_transformers) (7.1.2)\n",
            "Looking in indexes: https://pypi.org/simple, https://us-python.pkg.dev/colab-wheels/public/simple/\n",
            "Requirement already satisfied: datasets in /usr/local/lib/python3.7/dist-packages (2.2.2)\n",
            "Requirement already satisfied: pandas in /usr/local/lib/python3.7/dist-packages (from datasets) (1.3.5)\n",
            "Requirement already satisfied: pyarrow>=6.0.0 in /usr/local/lib/python3.7/dist-packages (from datasets) (6.0.1)\n",
            "Requirement already satisfied: fsspec[http]>=2021.05.0 in /usr/local/lib/python3.7/dist-packages (from datasets) (2022.5.0)\n",
            "Requirement already satisfied: tqdm>=4.62.1 in /usr/local/lib/python3.7/dist-packages (from datasets) (4.64.0)\n",
            "Requirement already satisfied: xxhash in /usr/local/lib/python3.7/dist-packages (from datasets) (3.0.0)\n",
            "Requirement already satisfied: numpy>=1.17 in /usr/local/lib/python3.7/dist-packages (from datasets) (1.21.6)\n",
            "Requirement already satisfied: aiohttp in /usr/local/lib/python3.7/dist-packages (from datasets) (3.8.1)\n",
            "Requirement already satisfied: dill<0.3.5 in /usr/local/lib/python3.7/dist-packages (from datasets) (0.3.4)\n",
            "Requirement already satisfied: requests>=2.19.0 in /usr/local/lib/python3.7/dist-packages (from datasets) (2.23.0)\n",
            "Requirement already satisfied: huggingface-hub<1.0.0,>=0.1.0 in /usr/local/lib/python3.7/dist-packages (from datasets) (0.6.0)\n",
            "Requirement already satisfied: packaging in /usr/local/lib/python3.7/dist-packages (from datasets) (21.3)\n",
            "Requirement already satisfied: responses<0.19 in /usr/local/lib/python3.7/dist-packages (from datasets) (0.18.0)\n",
            "Requirement already satisfied: importlib-metadata in /usr/local/lib/python3.7/dist-packages (from datasets) (4.11.3)\n",
            "Requirement already satisfied: multiprocess in /usr/local/lib/python3.7/dist-packages (from datasets) (0.70.12.2)\n",
            "Requirement already satisfied: filelock in /usr/local/lib/python3.7/dist-packages (from huggingface-hub<1.0.0,>=0.1.0->datasets) (3.7.0)\n",
            "Requirement already satisfied: pyyaml in /usr/local/lib/python3.7/dist-packages (from huggingface-hub<1.0.0,>=0.1.0->datasets) (6.0)\n",
            "Requirement already satisfied: typing-extensions>=3.7.4.3 in /usr/local/lib/python3.7/dist-packages (from huggingface-hub<1.0.0,>=0.1.0->datasets) (4.2.0)\n",
            "Requirement already satisfied: pyparsing!=3.0.5,>=2.0.2 in /usr/local/lib/python3.7/dist-packages (from packaging->datasets) (3.0.9)\n",
            "Requirement already satisfied: urllib3!=1.25.0,!=1.25.1,<1.26,>=1.21.1 in /usr/local/lib/python3.7/dist-packages (from requests>=2.19.0->datasets) (1.25.11)\n",
            "Requirement already satisfied: chardet<4,>=3.0.2 in /usr/local/lib/python3.7/dist-packages (from requests>=2.19.0->datasets) (3.0.4)\n",
            "Requirement already satisfied: idna<3,>=2.5 in /usr/local/lib/python3.7/dist-packages (from requests>=2.19.0->datasets) (2.10)\n",
            "Requirement already satisfied: certifi>=2017.4.17 in /usr/local/lib/python3.7/dist-packages (from requests>=2.19.0->datasets) (2022.5.18.1)\n",
            "Requirement already satisfied: aiosignal>=1.1.2 in /usr/local/lib/python3.7/dist-packages (from aiohttp->datasets) (1.2.0)\n",
            "Requirement already satisfied: frozenlist>=1.1.1 in /usr/local/lib/python3.7/dist-packages (from aiohttp->datasets) (1.3.0)\n",
            "Requirement already satisfied: charset-normalizer<3.0,>=2.0 in /usr/local/lib/python3.7/dist-packages (from aiohttp->datasets) (2.0.12)\n",
            "Requirement already satisfied: asynctest==0.13.0 in /usr/local/lib/python3.7/dist-packages (from aiohttp->datasets) (0.13.0)\n",
            "Requirement already satisfied: async-timeout<5.0,>=4.0.0a3 in /usr/local/lib/python3.7/dist-packages (from aiohttp->datasets) (4.0.2)\n",
            "Requirement already satisfied: multidict<7.0,>=4.5 in /usr/local/lib/python3.7/dist-packages (from aiohttp->datasets) (6.0.2)\n",
            "Requirement already satisfied: yarl<2.0,>=1.0 in /usr/local/lib/python3.7/dist-packages (from aiohttp->datasets) (1.7.2)\n",
            "Requirement already satisfied: attrs>=17.3.0 in /usr/local/lib/python3.7/dist-packages (from aiohttp->datasets) (21.4.0)\n",
            "Requirement already satisfied: zipp>=0.5 in /usr/local/lib/python3.7/dist-packages (from importlib-metadata->datasets) (3.8.0)\n",
            "Requirement already satisfied: pytz>=2017.3 in /usr/local/lib/python3.7/dist-packages (from pandas->datasets) (2022.1)\n",
            "Requirement already satisfied: python-dateutil>=2.7.3 in /usr/local/lib/python3.7/dist-packages (from pandas->datasets) (2.8.2)\n",
            "Requirement already satisfied: six>=1.5 in /usr/local/lib/python3.7/dist-packages (from python-dateutil>=2.7.3->pandas->datasets) (1.15.0)\n"
          ]
        }
      ]
    },
    {
      "cell_type": "code",
      "source": [
        "# 라이브러리\n",
        "import os\n",
        "import sys\n",
        "import re\n",
        "import json\n",
        "import random\n",
        "import pandas as pd\n",
        "import numpy as np\n",
        "import matplotlib.pyplot as plt\n",
        "\n",
        "import math\n",
        "import logging\n",
        "import time\n",
        "from datetime import datetime\n",
        "\n",
        "import torch\n",
        "import tensorflow as tf\n",
        "\n",
        "from torch.utils.data import DataLoader\n",
        "from datasets import load_dataset\n",
        "from sentence_transformers import SentenceTransformer, models, LoggingHandler, losses, util\n",
        "from sentence_transformers.evaluation import EmbeddingSimilarityEvaluator\n",
        "from sentence_transformers.readers import InputExample"
      ],
      "metadata": {
        "id": "fXfElfGEE3Fq"
      },
      "execution_count": 2,
      "outputs": []
    },
    {
      "cell_type": "code",
      "source": [
        "# logger\n",
        "logging.basicConfig(\n",
        "    format=\"%(asctime)s - %(message)s\",\n",
        "    datefmt=\"%Y-%m-%d %H:%M:%S\",\n",
        "    level=logging.INFO,\n",
        "    handlers=[LoggingHandler()],\n",
        ")"
      ],
      "metadata": {
        "id": "cdOw2HfuZMjT"
      },
      "execution_count": 3,
      "outputs": []
    },
    {
      "cell_type": "markdown",
      "source": [
        "- [SBERT-only-STS-training](https://colab.research.google.com/drive/1CJqg1LdNU0eMvcWYjBAE4RtDKysPKBae?usp=sharing#scrollTo=0-NWkVzvHxoe)"
      ],
      "metadata": {
        "id": "Jua26kesgTpj"
      }
    },
    {
      "cell_type": "code",
      "source": [
        "# model : klue/roberta-base 사용\n",
        "pretrained_model_name = 'klue/roberta-base'\n",
        "sts_num_epochs = 4\n",
        "train_batch_size = 32\n",
        "\n",
        "sts_model_save_path = 'output/training_sts-'+pretrained_model_name.replace(\"/\", \"-\")+'-'+datetime.now().strftime(\"%Y-%m-%d_%H-%M-%S\")"
      ],
      "metadata": {
        "id": "L0acB2OoZO1m"
      },
      "execution_count": 4,
      "outputs": []
    },
    {
      "cell_type": "markdown",
      "source": [
        "## **데이터셋 불러오기(Load Dataset)**\n",
        "- STS 데이터는 두 개의 문장 쌍과 이 두 문장 사이의 유사도 점수로 구성됨.\n",
        "- STS데이터를 학습하여 문장과 문장간 서로 얼마나 유사한지를 예측."
      ],
      "metadata": {
        "id": "fj_6wIRyAJFT"
      }
    },
    {
      "cell_type": "code",
      "execution_count": 5,
      "metadata": {
        "colab": {
          "base_uri": "https://localhost:8080/",
          "height": 87,
          "referenced_widgets": [
            "ac109cc9f8bf4a54a8f936316a7b253e",
            "2a0d642b34ab45e5b8b61d99ddd7e705",
            "437ea44d4c794acc81633e7fc21a1cc7",
            "3908c08451b24488a4d28d0d9298364c",
            "070ff4fe98d743f9ad1fe6946f41192e",
            "99e119209f354800bb9d60af9f0d069a",
            "1b1086af605d440dac8858e1cc5e837d",
            "b0b5efc3d8d04491abd06e3367267859",
            "a53ea40f66de49d68c946f0c34df9b08",
            "e2a2475cfaba44c38b587e048a76b3d4",
            "9ba046a197bd46ac9a9b8de9976b1c5a"
          ]
        },
        "id": "EPa7u3PE2IQw",
        "outputId": "702d385a-1955-4471-8462-4d75db8b3fd8"
      },
      "outputs": [
        {
          "output_type": "stream",
          "name": "stdout",
          "text": [
            "2022-05-24 20:08:51 - Reusing dataset klue (/root/.cache/huggingface/datasets/klue/sts/1.0.0/e0fc3bc3de3eb03be2c92d72fd04a60ecc71903f821619cb28ca0e1e29e4233e)\n"
          ]
        },
        {
          "output_type": "display_data",
          "data": {
            "text/plain": [
              "  0%|          | 0/2 [00:00<?, ?it/s]"
            ],
            "application/vnd.jupyter.widget-view+json": {
              "version_major": 2,
              "version_minor": 0,
              "model_id": "ac109cc9f8bf4a54a8f936316a7b253e"
            }
          },
          "metadata": {}
        }
      ],
      "source": [
        "# KLUE-STS 데이터셋 다운로드\n",
        "dataset = load_dataset('klue', 'sts')"
      ]
    },
    {
      "cell_type": "code",
      "source": [
        "# 데이터셋 구조\n",
        "dataset"
      ],
      "metadata": {
        "colab": {
          "base_uri": "https://localhost:8080/"
        },
        "id": "d5vaUPytO3uC",
        "outputId": "01cf97e0-e1cf-4e70-9af7-939ecdcc6455"
      },
      "execution_count": 6,
      "outputs": [
        {
          "output_type": "execute_result",
          "data": {
            "text/plain": [
              "DatasetDict({\n",
              "    train: Dataset({\n",
              "        features: ['guid', 'source', 'sentence1', 'sentence2', 'labels'],\n",
              "        num_rows: 11668\n",
              "    })\n",
              "    validation: Dataset({\n",
              "        features: ['guid', 'source', 'sentence1', 'sentence2', 'labels'],\n",
              "        num_rows: 519\n",
              "    })\n",
              "})"
            ]
          },
          "metadata": {},
          "execution_count": 6
        }
      ]
    },
    {
      "cell_type": "code",
      "source": [
        "# 데이터셋 중 train 첫째 줄 내용\n",
        "dataset['train'][0]"
      ],
      "metadata": {
        "colab": {
          "base_uri": "https://localhost:8080/"
        },
        "id": "By4IEpomVWYd",
        "outputId": "2fe938d7-b51b-44d4-e68e-98a649a779fd"
      },
      "execution_count": 7,
      "outputs": [
        {
          "output_type": "execute_result",
          "data": {
            "text/plain": [
              "{'guid': 'klue-sts-v1_train_00000',\n",
              " 'labels': {'binary-label': 1, 'label': 3.7, 'real-label': 3.714285714285714},\n",
              " 'sentence1': '숙소 위치는 찾기 쉽고 일반적인 한국의 반지하 숙소입니다.',\n",
              " 'sentence2': '숙박시설의 위치는 쉽게 찾을 수 있고 한국의 대표적인 반지하 숙박시설입니다.',\n",
              " 'source': 'airbnb-rtt'}"
            ]
          },
          "metadata": {},
          "execution_count": 7
        }
      ]
    },
    {
      "cell_type": "code",
      "source": [
        "# 데이터셋 중 validation 첫째 줄 내용\n",
        "dataset['validation'][0]"
      ],
      "metadata": {
        "colab": {
          "base_uri": "https://localhost:8080/"
        },
        "id": "aj8vCQjyhDvH",
        "outputId": "bb4b4071-fc65-4392-9504-30a9a1ff8dd3"
      },
      "execution_count": 8,
      "outputs": [
        {
          "output_type": "execute_result",
          "data": {
            "text/plain": [
              "{'guid': 'klue-sts-v1_dev_00000',\n",
              " 'labels': {'binary-label': 1, 'label': 4.9, 'real-label': 4.857142857142857},\n",
              " 'sentence1': '무엇보다도 호스트분들이 너무 친절하셨습니다.',\n",
              " 'sentence2': '무엇보다도, 호스트들은 매우 친절했습니다.',\n",
              " 'source': 'airbnb-rtt'}"
            ]
          },
          "metadata": {},
          "execution_count": 8
        }
      ]
    },
    {
      "cell_type": "code",
      "source": [
        "# klue_sts_train : 훈련용 / klue_sts_test : 테스트용\n",
        "# test 데이터가 없어서 validation을 test로 사용\n",
        "klue_sts_train = dataset['train']\n",
        "klue_sts_test = dataset['validation']"
      ],
      "metadata": {
        "id": "b5FwDCgae-MT"
      },
      "execution_count": 9,
      "outputs": []
    },
    {
      "cell_type": "markdown",
      "source": [
        "## **데이터 전처리(Data Preprocessing)**\n",
        "- 결측값 확인 후 제거\n",
        "- 중복 행 확인 후 제거\n",
        "- 데이터 정제\n",
        " - 특수문자 제거\n",
        " - 한글, 영어, 숫자를 제외한 모든 문자열 제거"
      ],
      "metadata": {
        "id": "HYEnXiVWA9n6"
      }
    },
    {
      "cell_type": "code",
      "source": [
        ""
      ],
      "metadata": {
        "id": "l0zJBDyPA-Ha"
      },
      "execution_count": 9,
      "outputs": []
    },
    {
      "cell_type": "markdown",
      "source": [
        "- InputExample() 클래스를 통해, 두 개의 문장 쌍과 라벨을 묶어 모델이 학습할 수 있는 형태로 변환\n",
        "- 배치학습을 위해 train 데이터를 DataLoader()로 묶음\n",
        "- EmbeddingSimilarityEvaluator() 을 통해 모델 평가 시 사용할 test 검증기 만듦"
      ],
      "metadata": {
        "id": "C3Q-slMokD1A"
      }
    },
    {
      "cell_type": "code",
      "source": [
        "def make_sts_input_example(dataset):\n",
        "    ''' \n",
        "    Transform to InputExample\n",
        "    ''' \n",
        "    input_examples = []\n",
        "    for i, data in enumerate(dataset):\n",
        "        sentence1 = data['sentence1']\n",
        "        sentence2 = data['sentence2']\n",
        "        score = (data['labels']['label']) / 5.0  # normalize 0 to 5\n",
        "        input_examples.append(InputExample(texts=[sentence1, sentence2], label=score))\n",
        "\n",
        "    return input_examples"
      ],
      "metadata": {
        "id": "OXwsUliCkijk"
      },
      "execution_count": 10,
      "outputs": []
    },
    {
      "cell_type": "code",
      "source": [
        "sts_train_examples = make_sts_input_example(klue_sts_train)\n",
        "sts_test_examples = make_sts_input_example(klue_sts_test)"
      ],
      "metadata": {
        "id": "eh6x0IdVk8U7"
      },
      "execution_count": 11,
      "outputs": []
    },
    {
      "cell_type": "code",
      "source": [
        "# Train Dataloader\n",
        "train_dataloader = DataLoader(\n",
        "    sts_train_examples,\n",
        "    shuffle=True,\n",
        "    batch_size=train_batch_size,\n",
        ")\n",
        "\n",
        "# test 검증기\n",
        "test_evaluator = EmbeddingSimilarityEvaluator.from_input_examples(\n",
        "    sts_test_examples,\n",
        "    name=\"sts-test\",\n",
        ")"
      ],
      "metadata": {
        "id": "Z6ZhgbjylY_T"
      },
      "execution_count": 12,
      "outputs": []
    },
    {
      "cell_type": "markdown",
      "source": [
        "## **EDA(Exploratory Data Analysis)**\n",
        "- 데이터 분석(가설 검정??)\n",
        "- 시각화"
      ],
      "metadata": {
        "id": "A68StBw0DfWJ"
      }
    },
    {
      "cell_type": "code",
      "source": [
        ""
      ],
      "metadata": {
        "id": "etM93D_7Dgjp"
      },
      "execution_count": 12,
      "outputs": []
    },
    {
      "cell_type": "markdown",
      "source": [
        "## **사전학습모델 불러오기(Load Pretrained Model)**\n",
        "- 임베딩모델 불러오기\n",
        "- Mean Pooling(평균 풀링) 사용"
      ],
      "metadata": {
        "id": "98naW4s1jI-Q"
      }
    },
    {
      "cell_type": "code",
      "source": [
        "# Load Embedding Model\n",
        "embedding_model = models.Transformer(\n",
        "    model_name_or_path=pretrained_model_name,  # klue/roberta-base 사용\n",
        "    max_seq_length=256,\n",
        "    do_lower_case=True\n",
        ")\n",
        "\n",
        "# Mean Pooling(평균 풀링)만 사용. -> 문장의 모든 토큰 임베딩 벡터를 풀링함.\n",
        "pooling_model = models.Pooling(\n",
        "    embedding_model.get_word_embedding_dimension(),\n",
        "    pooling_mode_mean_tokens=True,\n",
        "    pooling_mode_cls_token=False,\n",
        "    pooling_mode_max_tokens=False,\n",
        ")\n",
        "\n",
        "model = SentenceTransformer(modules=[embedding_model, pooling_model])"
      ],
      "metadata": {
        "colab": {
          "base_uri": "https://localhost:8080/"
        },
        "id": "ICINU-1clnCN",
        "outputId": "4e508890-277a-4d08-8077-8c11a03a6840"
      },
      "execution_count": 13,
      "outputs": [
        {
          "output_type": "stream",
          "name": "stderr",
          "text": [
            "Some weights of the model checkpoint at klue/roberta-base were not used when initializing RobertaModel: ['lm_head.layer_norm.bias', 'lm_head.dense.bias', 'lm_head.dense.weight', 'lm_head.layer_norm.weight', 'lm_head.bias', 'lm_head.decoder.weight', 'lm_head.decoder.bias']\n",
            "- This IS expected if you are initializing RobertaModel from the checkpoint of a model trained on another task or with another architecture (e.g. initializing a BertForSequenceClassification model from a BertForPreTraining model).\n",
            "- This IS NOT expected if you are initializing RobertaModel from the checkpoint of a model that you expect to be exactly identical (initializing a BertForSequenceClassification model from a BertForSequenceClassification model).\n",
            "Some weights of RobertaModel were not initialized from the model checkpoint at klue/roberta-base and are newly initialized: ['roberta.pooler.dense.bias', 'roberta.pooler.dense.weight']\n",
            "You should probably TRAIN this model on a down-stream task to be able to use it for predictions and inference.\n"
          ]
        },
        {
          "output_type": "stream",
          "name": "stdout",
          "text": [
            "2022-05-24 20:08:54 - Use pytorch device: cuda\n"
          ]
        }
      ]
    },
    {
      "cell_type": "markdown",
      "source": [
        "## **모델 훈련(Model Training)**"
      ],
      "metadata": {
        "id": "wfnhT-XbocB9"
      }
    },
    {
      "cell_type": "code",
      "source": [
        "\"\"\"\n",
        "sts_num_epochs = 4\n",
        "train_batch_size = 32\n",
        "sts_model_save_path = 'output/training_sts-'+pretrained_model_name.replace(\"/\", \"-\")+'-'+datetime.now().strftime(\"%Y-%m-%d_%H-%M-%S\")\n",
        "\"\"\"\n",
        "\n",
        "# CosineSimilarityLoss 사용.(loss function)\n",
        "train_loss = losses.CosineSimilarityLoss(model=model)\n",
        "\n",
        "# warm-up steps\n",
        "warmup_steps = math.ceil(len(sts_train_examples) * sts_num_epochs / train_batch_size * 0.1) # 10% of train data for warm-up\n",
        "logging.info(\"Warmup-steps: {}\".format(warmup_steps))\n",
        "\n",
        "# Training\n",
        "model.fit(\n",
        "    train_objectives=[(train_dataloader, train_loss)],\n",
        "    epochs=sts_num_epochs,\n",
        "    evaluation_steps=int(len(train_dataloader)*0.1),\n",
        "    warmup_steps=warmup_steps,\n",
        "    output_path=sts_model_save_path\n",
        ")"
      ],
      "metadata": {
        "colab": {
          "base_uri": "https://localhost:8080/",
          "height": 270,
          "referenced_widgets": [
            "8b6dbb481c804514899f0dc8dfbf1ea6",
            "59329e3454f842f8a9d4130a074e04ba",
            "cd95f8eedea941d59f443c4485017821",
            "f0a5cb67c19845389aa993a656d37c6f",
            "4f9391bce3044db0acf0944d0e60410a",
            "50e88ec77420487288c074661f8a3437",
            "823d553c47d24aafa3c95c7a0ccc3596",
            "c7fbab9be1674c93b87aa12db988bfe7",
            "1433e9d33fed4817a0177b4b8a2eb91c",
            "f47ba4b4db4644799212cba6a5eb0227",
            "423ee28446574ceca5f6ed1e373e40a8",
            "928988e33dff40899f31b5ca7a1d2ccc",
            "ed4360934d604a059e5ec4044be769ff",
            "79ea7261df2d426fa2029b5011aa69a5",
            "15b9076d46094ed69204f8dd913b4551",
            "74848b310d82432d970032edea0c78d7",
            "edbd8ce52194405daec3e4f21cd2e66d",
            "650972d076b04f108847d1afc1e061bb",
            "35a7443410f94478912dd5e30323cf28",
            "b48223f950024ebb80eba7342f0fb287",
            "27b37d737d924ed49ee86ea3f7878f2e",
            "8b94a7bf2fa74df3803c172e2e94b323",
            "48662dd050314f9699feb68efc6a9b82",
            "7e891f6004324aecac6440c3aad00675",
            "6857ad96474d4616974295402b5de5e5",
            "e2581a40795e4b789dccb08498a3c6a9",
            "b9c1a78665ca4d3ca7d109c71350423a",
            "d51fe7afe46e4c96a7f687bad93098e4",
            "51190affb0b64295b9bf1c6380d49da3",
            "dc27b5a97f4243ac907f5ab560a486f1",
            "10953ac8fd174956bed6e129703d0d99",
            "c21dbf4c053a45ffafcd9a43d86cd13b",
            "c950e214c90e4997bcf3cefbf2f1f629",
            "a8b9eb130a9a475abcbacf645ed2702c",
            "8f32d6d8152343e8940386d0d248f092",
            "34ebf4fe19b64186a014bd8d1d4e401a",
            "48683f0739bb470694d3eac7da71ae3d",
            "862475997ada4144be97f81b2e4baf1f",
            "4a700c3686854251aae47542469a0451",
            "5f2dfd4abff24372b4a2cf17df275940",
            "2bec2c0318d2461499a69dff185257cc",
            "71cc952f6a0140a4a1589b7a795f18a2",
            "31d0400e98224270b4383ad4107c8b57",
            "e54b38be9e7744fa93aca44457df3abf",
            "abda1b6854d247239592f58ae8cf788c",
            "846a7ee194684045a91f82dd67a79331",
            "33b9976f32754af693b689191a4c7bce",
            "36dbff6ba2fd40b8971fcbc23f0d5f33",
            "9c1ebc2770414dd59ea2c1d1969cd8c2",
            "880a27180b4e4ba0a819650e3439a0e5",
            "44f871d2e9694e5ba036471405ddddc8",
            "6808a381967f44cfa9d2a19e3d629e1c",
            "8a9969a869364666b809d96e20d9ea15",
            "0ad9899c974348e1a2998e2f6e2882c2",
            "6c63d62372e34b96ba738b833da77c2b"
          ]
        },
        "id": "UvwwaU5XljpR",
        "outputId": "90f0bb16-fcf9-42aa-f8ff-c3568affd754"
      },
      "execution_count": 14,
      "outputs": [
        {
          "output_type": "stream",
          "name": "stdout",
          "text": [
            "2022-05-24 20:08:54 - Warmup-steps: 146\n"
          ]
        },
        {
          "output_type": "stream",
          "name": "stderr",
          "text": [
            "/usr/local/lib/python3.7/dist-packages/transformers/optimization.py:309: FutureWarning: This implementation of AdamW is deprecated and will be removed in a future version. Use the PyTorch implementation torch.optim.AdamW instead, or set `no_deprecation_warning=True` to disable this warning\n",
            "  FutureWarning,\n"
          ]
        },
        {
          "output_type": "display_data",
          "data": {
            "text/plain": [
              "Epoch:   0%|          | 0/4 [00:00<?, ?it/s]"
            ],
            "application/vnd.jupyter.widget-view+json": {
              "version_major": 2,
              "version_minor": 0,
              "model_id": "8b6dbb481c804514899f0dc8dfbf1ea6"
            }
          },
          "metadata": {}
        },
        {
          "output_type": "display_data",
          "data": {
            "text/plain": [
              "Iteration:   0%|          | 0/365 [00:00<?, ?it/s]"
            ],
            "application/vnd.jupyter.widget-view+json": {
              "version_major": 2,
              "version_minor": 0,
              "model_id": "928988e33dff40899f31b5ca7a1d2ccc"
            }
          },
          "metadata": {}
        },
        {
          "output_type": "display_data",
          "data": {
            "text/plain": [
              "Iteration:   0%|          | 0/365 [00:00<?, ?it/s]"
            ],
            "application/vnd.jupyter.widget-view+json": {
              "version_major": 2,
              "version_minor": 0,
              "model_id": "48662dd050314f9699feb68efc6a9b82"
            }
          },
          "metadata": {}
        },
        {
          "output_type": "display_data",
          "data": {
            "text/plain": [
              "Iteration:   0%|          | 0/365 [00:00<?, ?it/s]"
            ],
            "application/vnd.jupyter.widget-view+json": {
              "version_major": 2,
              "version_minor": 0,
              "model_id": "a8b9eb130a9a475abcbacf645ed2702c"
            }
          },
          "metadata": {}
        },
        {
          "output_type": "display_data",
          "data": {
            "text/plain": [
              "Iteration:   0%|          | 0/365 [00:00<?, ?it/s]"
            ],
            "application/vnd.jupyter.widget-view+json": {
              "version_major": 2,
              "version_minor": 0,
              "model_id": "abda1b6854d247239592f58ae8cf788c"
            }
          },
          "metadata": {}
        },
        {
          "output_type": "stream",
          "name": "stdout",
          "text": [
            "2022-05-24 20:21:31 - Save model to output/training_sts-klue-roberta-base-2022-05-24_20-08-50\n"
          ]
        }
      ]
    },
    {
      "cell_type": "markdown",
      "source": [
        "## **모델 평가(Model Evaluation)**"
      ],
      "metadata": {
        "id": "HB4Ge8WAo3xs"
      }
    },
    {
      "cell_type": "code",
      "source": [
        "# evaluation sts-test\n",
        "test_evaluator(model, output_path=sts_model_save_path)"
      ],
      "metadata": {
        "colab": {
          "base_uri": "https://localhost:8080/"
        },
        "id": "Dmp5mCV8mthx",
        "outputId": "cdc7d98e-fb8a-48fd-f212-ff690ed66b75"
      },
      "execution_count": 15,
      "outputs": [
        {
          "output_type": "stream",
          "name": "stdout",
          "text": [
            "2022-05-24 20:21:32 - EmbeddingSimilarityEvaluator: Evaluating the model on sts-test dataset:\n",
            "2022-05-24 20:21:34 - Cosine-Similarity :\tPearson: 0.8855\tSpearman: 0.8847\n",
            "2022-05-24 20:21:34 - Manhattan-Distance:\tPearson: 0.8838\tSpearman: 0.8803\n",
            "2022-05-24 20:21:34 - Euclidean-Distance:\tPearson: 0.8843\tSpearman: 0.8805\n",
            "2022-05-24 20:21:34 - Dot-Product-Similarity:\tPearson: 0.8741\tSpearman: 0.8686\n"
          ]
        },
        {
          "output_type": "execute_result",
          "data": {
            "text/plain": [
              "0.884739088370507"
            ]
          },
          "metadata": {},
          "execution_count": 15
        }
      ]
    }
  ]
}