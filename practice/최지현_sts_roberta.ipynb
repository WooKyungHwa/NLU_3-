{
  "nbformat": 4,
  "nbformat_minor": 0,
  "metadata": {
    "colab": {
      "name": "최지현_sts.ipynb",
      "provenance": [],
      "collapsed_sections": [],
      "machine_shape": "hm",
      "authorship_tag": "ABX9TyNimLZROTfDthjW1w2omYFL",
      "include_colab_link": true
    },
    "kernelspec": {
      "name": "python3",
      "display_name": "Python 3"
    },
    "language_info": {
      "name": "python"
    },
    "accelerator": "GPU",
    "widgets": {
      "application/vnd.jupyter.widget-state+json": {
        "9ac901ed39624a76a374a595d1f9bfbc": {
          "model_module": "@jupyter-widgets/controls",
          "model_name": "HBoxModel",
          "model_module_version": "1.5.0",
          "state": {
            "_dom_classes": [],
            "_model_module": "@jupyter-widgets/controls",
            "_model_module_version": "1.5.0",
            "_model_name": "HBoxModel",
            "_view_count": null,
            "_view_module": "@jupyter-widgets/controls",
            "_view_module_version": "1.5.0",
            "_view_name": "HBoxView",
            "box_style": "",
            "children": [
              "IPY_MODEL_40d0128f97754a6cad4e9a9aee84808a",
              "IPY_MODEL_840784aa6a0e4542baf347e22344b5e5",
              "IPY_MODEL_122fbc420fdf4f14a58346762b06c509"
            ],
            "layout": "IPY_MODEL_03b9f80b78e842fc97a07b319c67c8c7"
          }
        },
        "40d0128f97754a6cad4e9a9aee84808a": {
          "model_module": "@jupyter-widgets/controls",
          "model_name": "HTMLModel",
          "model_module_version": "1.5.0",
          "state": {
            "_dom_classes": [],
            "_model_module": "@jupyter-widgets/controls",
            "_model_module_version": "1.5.0",
            "_model_name": "HTMLModel",
            "_view_count": null,
            "_view_module": "@jupyter-widgets/controls",
            "_view_module_version": "1.5.0",
            "_view_name": "HTMLView",
            "description": "",
            "description_tooltip": null,
            "layout": "IPY_MODEL_a3716f3976fc4f7fa6cf0e417095c8b6",
            "placeholder": "​",
            "style": "IPY_MODEL_2cba3b55d49e4421a0878b3024849e50",
            "value": "100%"
          }
        },
        "840784aa6a0e4542baf347e22344b5e5": {
          "model_module": "@jupyter-widgets/controls",
          "model_name": "FloatProgressModel",
          "model_module_version": "1.5.0",
          "state": {
            "_dom_classes": [],
            "_model_module": "@jupyter-widgets/controls",
            "_model_module_version": "1.5.0",
            "_model_name": "FloatProgressModel",
            "_view_count": null,
            "_view_module": "@jupyter-widgets/controls",
            "_view_module_version": "1.5.0",
            "_view_name": "ProgressView",
            "bar_style": "success",
            "description": "",
            "description_tooltip": null,
            "layout": "IPY_MODEL_8c240f1373f44bcfb6bd7f05340e6b94",
            "max": 2,
            "min": 0,
            "orientation": "horizontal",
            "style": "IPY_MODEL_f7f7b5bb70974dfda949f88569d54a46",
            "value": 2
          }
        },
        "122fbc420fdf4f14a58346762b06c509": {
          "model_module": "@jupyter-widgets/controls",
          "model_name": "HTMLModel",
          "model_module_version": "1.5.0",
          "state": {
            "_dom_classes": [],
            "_model_module": "@jupyter-widgets/controls",
            "_model_module_version": "1.5.0",
            "_model_name": "HTMLModel",
            "_view_count": null,
            "_view_module": "@jupyter-widgets/controls",
            "_view_module_version": "1.5.0",
            "_view_name": "HTMLView",
            "description": "",
            "description_tooltip": null,
            "layout": "IPY_MODEL_c7fd3a0a922d49b89888613fd8485a8a",
            "placeholder": "​",
            "style": "IPY_MODEL_32091e77689146e89b6da833b2c446b9",
            "value": " 2/2 [00:00&lt;00:00, 40.33it/s]"
          }
        },
        "03b9f80b78e842fc97a07b319c67c8c7": {
          "model_module": "@jupyter-widgets/base",
          "model_name": "LayoutModel",
          "model_module_version": "1.2.0",
          "state": {
            "_model_module": "@jupyter-widgets/base",
            "_model_module_version": "1.2.0",
            "_model_name": "LayoutModel",
            "_view_count": null,
            "_view_module": "@jupyter-widgets/base",
            "_view_module_version": "1.2.0",
            "_view_name": "LayoutView",
            "align_content": null,
            "align_items": null,
            "align_self": null,
            "border": null,
            "bottom": null,
            "display": null,
            "flex": null,
            "flex_flow": null,
            "grid_area": null,
            "grid_auto_columns": null,
            "grid_auto_flow": null,
            "grid_auto_rows": null,
            "grid_column": null,
            "grid_gap": null,
            "grid_row": null,
            "grid_template_areas": null,
            "grid_template_columns": null,
            "grid_template_rows": null,
            "height": null,
            "justify_content": null,
            "justify_items": null,
            "left": null,
            "margin": null,
            "max_height": null,
            "max_width": null,
            "min_height": null,
            "min_width": null,
            "object_fit": null,
            "object_position": null,
            "order": null,
            "overflow": null,
            "overflow_x": null,
            "overflow_y": null,
            "padding": null,
            "right": null,
            "top": null,
            "visibility": null,
            "width": null
          }
        },
        "a3716f3976fc4f7fa6cf0e417095c8b6": {
          "model_module": "@jupyter-widgets/base",
          "model_name": "LayoutModel",
          "model_module_version": "1.2.0",
          "state": {
            "_model_module": "@jupyter-widgets/base",
            "_model_module_version": "1.2.0",
            "_model_name": "LayoutModel",
            "_view_count": null,
            "_view_module": "@jupyter-widgets/base",
            "_view_module_version": "1.2.0",
            "_view_name": "LayoutView",
            "align_content": null,
            "align_items": null,
            "align_self": null,
            "border": null,
            "bottom": null,
            "display": null,
            "flex": null,
            "flex_flow": null,
            "grid_area": null,
            "grid_auto_columns": null,
            "grid_auto_flow": null,
            "grid_auto_rows": null,
            "grid_column": null,
            "grid_gap": null,
            "grid_row": null,
            "grid_template_areas": null,
            "grid_template_columns": null,
            "grid_template_rows": null,
            "height": null,
            "justify_content": null,
            "justify_items": null,
            "left": null,
            "margin": null,
            "max_height": null,
            "max_width": null,
            "min_height": null,
            "min_width": null,
            "object_fit": null,
            "object_position": null,
            "order": null,
            "overflow": null,
            "overflow_x": null,
            "overflow_y": null,
            "padding": null,
            "right": null,
            "top": null,
            "visibility": null,
            "width": null
          }
        },
        "2cba3b55d49e4421a0878b3024849e50": {
          "model_module": "@jupyter-widgets/controls",
          "model_name": "DescriptionStyleModel",
          "model_module_version": "1.5.0",
          "state": {
            "_model_module": "@jupyter-widgets/controls",
            "_model_module_version": "1.5.0",
            "_model_name": "DescriptionStyleModel",
            "_view_count": null,
            "_view_module": "@jupyter-widgets/base",
            "_view_module_version": "1.2.0",
            "_view_name": "StyleView",
            "description_width": ""
          }
        },
        "8c240f1373f44bcfb6bd7f05340e6b94": {
          "model_module": "@jupyter-widgets/base",
          "model_name": "LayoutModel",
          "model_module_version": "1.2.0",
          "state": {
            "_model_module": "@jupyter-widgets/base",
            "_model_module_version": "1.2.0",
            "_model_name": "LayoutModel",
            "_view_count": null,
            "_view_module": "@jupyter-widgets/base",
            "_view_module_version": "1.2.0",
            "_view_name": "LayoutView",
            "align_content": null,
            "align_items": null,
            "align_self": null,
            "border": null,
            "bottom": null,
            "display": null,
            "flex": null,
            "flex_flow": null,
            "grid_area": null,
            "grid_auto_columns": null,
            "grid_auto_flow": null,
            "grid_auto_rows": null,
            "grid_column": null,
            "grid_gap": null,
            "grid_row": null,
            "grid_template_areas": null,
            "grid_template_columns": null,
            "grid_template_rows": null,
            "height": null,
            "justify_content": null,
            "justify_items": null,
            "left": null,
            "margin": null,
            "max_height": null,
            "max_width": null,
            "min_height": null,
            "min_width": null,
            "object_fit": null,
            "object_position": null,
            "order": null,
            "overflow": null,
            "overflow_x": null,
            "overflow_y": null,
            "padding": null,
            "right": null,
            "top": null,
            "visibility": null,
            "width": null
          }
        },
        "f7f7b5bb70974dfda949f88569d54a46": {
          "model_module": "@jupyter-widgets/controls",
          "model_name": "ProgressStyleModel",
          "model_module_version": "1.5.0",
          "state": {
            "_model_module": "@jupyter-widgets/controls",
            "_model_module_version": "1.5.0",
            "_model_name": "ProgressStyleModel",
            "_view_count": null,
            "_view_module": "@jupyter-widgets/base",
            "_view_module_version": "1.2.0",
            "_view_name": "StyleView",
            "bar_color": null,
            "description_width": ""
          }
        },
        "c7fd3a0a922d49b89888613fd8485a8a": {
          "model_module": "@jupyter-widgets/base",
          "model_name": "LayoutModel",
          "model_module_version": "1.2.0",
          "state": {
            "_model_module": "@jupyter-widgets/base",
            "_model_module_version": "1.2.0",
            "_model_name": "LayoutModel",
            "_view_count": null,
            "_view_module": "@jupyter-widgets/base",
            "_view_module_version": "1.2.0",
            "_view_name": "LayoutView",
            "align_content": null,
            "align_items": null,
            "align_self": null,
            "border": null,
            "bottom": null,
            "display": null,
            "flex": null,
            "flex_flow": null,
            "grid_area": null,
            "grid_auto_columns": null,
            "grid_auto_flow": null,
            "grid_auto_rows": null,
            "grid_column": null,
            "grid_gap": null,
            "grid_row": null,
            "grid_template_areas": null,
            "grid_template_columns": null,
            "grid_template_rows": null,
            "height": null,
            "justify_content": null,
            "justify_items": null,
            "left": null,
            "margin": null,
            "max_height": null,
            "max_width": null,
            "min_height": null,
            "min_width": null,
            "object_fit": null,
            "object_position": null,
            "order": null,
            "overflow": null,
            "overflow_x": null,
            "overflow_y": null,
            "padding": null,
            "right": null,
            "top": null,
            "visibility": null,
            "width": null
          }
        },
        "32091e77689146e89b6da833b2c446b9": {
          "model_module": "@jupyter-widgets/controls",
          "model_name": "DescriptionStyleModel",
          "model_module_version": "1.5.0",
          "state": {
            "_model_module": "@jupyter-widgets/controls",
            "_model_module_version": "1.5.0",
            "_model_name": "DescriptionStyleModel",
            "_view_count": null,
            "_view_module": "@jupyter-widgets/base",
            "_view_module_version": "1.2.0",
            "_view_name": "StyleView",
            "description_width": ""
          }
        }
      }
    }
  },
  "cells": [
    {
      "cell_type": "markdown",
      "metadata": {
        "id": "view-in-github",
        "colab_type": "text"
      },
      "source": [
        "<a href=\"https://colab.research.google.com/github/ttogle918/NLU_3-/blob/main/practice/%EC%B5%9C%EC%A7%80%ED%98%84_sts_roberta.ipynb\" target=\"_parent\"><img src=\"https://colab.research.google.com/assets/colab-badge.svg\" alt=\"Open In Colab\"/></a>"
      ]
    },
    {
      "cell_type": "markdown",
      "source": [
        "# **NLU - 문장 유사도 계산 (STS)**\n",
        "\n"
      ],
      "metadata": {
        "id": "xMjisMbV8egY"
      }
    },
    {
      "cell_type": "markdown",
      "source": [
        "- RoBERTa 적용\n",
        "  - klue/roberta-base\n",
        "\n",
        "참고 : \n",
        "- [code](https://www.datafied.world/detailed-notebook-to-fine-tune-roberta-for-beginners-222)\n",
        "- [huggingface RobertaModel](https://huggingface.co/docs/transformers/model_doc/roberta#transformers.RobertaModel)\n",
        "- [huggingface git](https://github.com/huggingface/transformers/blob/v4.19.2/src/transformers/models/roberta/modeling_roberta.py#L692)\n",
        "- [huggingface models](https://huggingface.co/models)"
      ],
      "metadata": {
        "id": "8IxJAFOS83jQ"
      }
    },
    {
      "cell_type": "code",
      "source": [
        "!pip install optuna\n",
        "!pip install pytorch-transformers\n",
        "!pip install transformers\n",
        "!pip install datasets"
      ],
      "metadata": {
        "id": "ctFKX352qtdE"
      },
      "execution_count": null,
      "outputs": []
    },
    {
      "cell_type": "code",
      "execution_count": 1,
      "metadata": {
        "id": "Ev_s6Hh8h6KR"
      },
      "outputs": [],
      "source": [
        "import torch\n",
        "from torch import nn\n",
        "import torch.nn.functional as F\n",
        "import torch.optim as optim\n",
        "from torch.optim import AdamW\n",
        "from torch.nn.utils import clip_grad_norm_\n",
        "from torch.utils.data import Dataset, DataLoader\n",
        "import numpy as np\n",
        "from tqdm import tqdm, tqdm_notebook\n",
        "from sklearn.metrics import f1_score\n",
        "from scipy import stats\n",
        "import time\n",
        "import matplotlib.pyplot as plt"
      ]
    },
    {
      "cell_type": "code",
      "source": [
        "# gpu 연산이 가능하면 'cuda:0', 아니면 'cpu' 출력\n",
        "device = torch.device(\"cuda:0\" if torch.cuda.is_available() else \"cpu\")\n",
        "device, torch.cuda.device_count()"
      ],
      "metadata": {
        "colab": {
          "base_uri": "https://localhost:8080/"
        },
        "id": "ayvjtv81TpLW",
        "outputId": "51c69ffd-4100-47b3-b708-2296546f9c50"
      },
      "execution_count": 2,
      "outputs": [
        {
          "output_type": "execute_result",
          "data": {
            "text/plain": [
              "(device(type='cuda', index=0), 1)"
            ]
          },
          "metadata": {},
          "execution_count": 2
        }
      ]
    },
    {
      "cell_type": "code",
      "source": [
        "from google.colab import drive\n",
        "drive.mount('/content/drive')"
      ],
      "metadata": {
        "id": "EN4G1L_eKvSx",
        "outputId": "f8b80f8e-c5b5-40a0-9615-941c6d1ad0eb",
        "colab": {
          "base_uri": "https://localhost:8080/"
        }
      },
      "execution_count": 3,
      "outputs": [
        {
          "output_type": "stream",
          "name": "stdout",
          "text": [
            "Drive already mounted at /content/drive; to attempt to forcibly remount, call drive.mount(\"/content/drive\", force_remount=True).\n"
          ]
        }
      ]
    },
    {
      "cell_type": "code",
      "source": [
        "from transformers import AutoTokenizer, AutoModel, RobertaConfig\n",
        "from transformers.optimization import get_cosine_schedule_with_warmup\n",
        "from transformers import get_linear_schedule_with_warmup"
      ],
      "metadata": {
        "id": "fuuFJ9c_vaHu"
      },
      "execution_count": 4,
      "outputs": []
    },
    {
      "cell_type": "markdown",
      "source": [
        "# Load dataset"
      ],
      "metadata": {
        "id": "3l3wMury3Blb"
      }
    },
    {
      "cell_type": "markdown",
      "source": [
        "### KLUE 데이터셋 및 전처리 과정 예시\n",
        "\n",
        "[klue-sts-벤치마크-구조-보기](https://velog.io/@soyoun9798/KLUE-STS-%EB%B2%A4%EC%B9%98%EB%A7%88%ED%81%AC-%EA%B5%AC%EC%A1%B0-%EB%B3%B4%EA%B8%B0)\n"
      ],
      "metadata": {
        "id": "ziojmbiVoSup"
      }
    },
    {
      "cell_type": "code",
      "source": [
        "from datasets import load_dataset\n",
        "dataset = load_dataset('klue', 'sts')"
      ],
      "metadata": {
        "id": "hCQ-gQlZznhA",
        "outputId": "aa5ebb37-0fb0-4420-91fc-d46b44e3ca9f",
        "colab": {
          "base_uri": "https://localhost:8080/",
          "height": 67,
          "referenced_widgets": [
            "9ac901ed39624a76a374a595d1f9bfbc",
            "40d0128f97754a6cad4e9a9aee84808a",
            "840784aa6a0e4542baf347e22344b5e5",
            "122fbc420fdf4f14a58346762b06c509",
            "03b9f80b78e842fc97a07b319c67c8c7",
            "a3716f3976fc4f7fa6cf0e417095c8b6",
            "2cba3b55d49e4421a0878b3024849e50",
            "8c240f1373f44bcfb6bd7f05340e6b94",
            "f7f7b5bb70974dfda949f88569d54a46",
            "c7fd3a0a922d49b89888613fd8485a8a",
            "32091e77689146e89b6da833b2c446b9"
          ]
        }
      },
      "execution_count": 5,
      "outputs": [
        {
          "output_type": "stream",
          "name": "stderr",
          "text": [
            "Reusing dataset klue (/root/.cache/huggingface/datasets/klue/sts/1.0.0/e0fc3bc3de3eb03be2c92d72fd04a60ecc71903f821619cb28ca0e1e29e4233e)\n"
          ]
        },
        {
          "output_type": "display_data",
          "data": {
            "text/plain": [
              "  0%|          | 0/2 [00:00<?, ?it/s]"
            ],
            "application/vnd.jupyter.widget-view+json": {
              "version_major": 2,
              "version_minor": 0,
              "model_id": "9ac901ed39624a76a374a595d1f9bfbc"
            }
          },
          "metadata": {}
        }
      ]
    },
    {
      "cell_type": "code",
      "source": [
        "print(f\"type(dataset) : {type(dataset)}\")\n",
        "print(f\"key : {dataset.keys()}\")\n",
        "print(f\"type dataset[train] : {type(dataset['train'])}\")\n",
        "print(f\"dataset[train] : {dataset['train']} \\n\\n\")\n",
        "# labels : { 이진분류 : 1, 반올림 값 : 3.7, 실제 label 값 : 3.71422... }\n",
        "dataset['train'][0]"
      ],
      "metadata": {
        "colab": {
          "base_uri": "https://localhost:8080/"
        },
        "id": "u9qplkC53DTD",
        "outputId": "34de1176-3421-49d4-b187-7cc7fefde066"
      },
      "execution_count": 7,
      "outputs": [
        {
          "output_type": "stream",
          "name": "stdout",
          "text": [
            "type(dataset) : <class 'datasets.dataset_dict.DatasetDict'>\n",
            "key : dict_keys(['train', 'validation'])\n",
            "type dataset[train] : <class 'datasets.arrow_dataset.Dataset'>\n",
            "dataset[train] : Dataset({\n",
            "    features: ['guid', 'source', 'sentence1', 'sentence2', 'labels'],\n",
            "    num_rows: 11668\n",
            "}) \n",
            "\n",
            "\n"
          ]
        },
        {
          "output_type": "execute_result",
          "data": {
            "text/plain": [
              "{'guid': 'klue-sts-v1_train_00000',\n",
              " 'labels': {'binary-label': 1, 'label': 3.7, 'real-label': 3.714285714285714},\n",
              " 'sentence1': '숙소 위치는 찾기 쉽고 일반적인 한국의 반지하 숙소입니다.',\n",
              " 'sentence2': '숙박시설의 위치는 쉽게 찾을 수 있고 한국의 대표적인 반지하 숙박시설입니다.',\n",
              " 'source': 'airbnb-rtt'}"
            ]
          },
          "metadata": {},
          "execution_count": 7
        }
      ]
    },
    {
      "cell_type": "code",
      "source": [
        "# 데이터 4개만 확인\n",
        "i = 0\n",
        "for d in dataset['train'] :\n",
        "  if i == 4 : break\n",
        "  print(d['sentence1'],'/',  d['sentence2'])\n",
        "  i += 1"
      ],
      "metadata": {
        "id": "pYSX9gRHdEM-",
        "outputId": "e78c5598-7e17-43d9-9491-a0de9b9ca52a",
        "colab": {
          "base_uri": "https://localhost:8080/"
        }
      },
      "execution_count": null,
      "outputs": [
        {
          "output_type": "stream",
          "name": "stdout",
          "text": [
            "숙소 위치는 찾기 쉽고 일반적인 한국의 반지하 숙소입니다. / 숙박시설의 위치는 쉽게 찾을 수 있고 한국의 대표적인 반지하 숙박시설입니다.\n",
            "위반행위 조사 등을 거부·방해·기피한 자는 500만원 이하 과태료 부과 대상이다. / 시민들 스스로 자발적인 예방 노력을 한 것은 아산 뿐만이 아니었다.\n",
            "회사가 보낸 메일은 이 지메일이 아니라 다른 지메일 계정으로 전달해줘. / 사람들이 주로 네이버 메일을 쓰는 이유를 알려줘\n",
            "긴급 고용안정지원금은 지역고용대응 등 특별지원금, 지자체별 소상공인 지원사업, 취업성공패키지, 청년구직활동지원금, 긴급복지지원제도 지원금과는 중복 수급이 불가능하다. / 고용보험이 1차 고용안전망이라면, 국민취업지원제도는 2차 고용안전망입니다.\n"
          ]
        }
      ]
    },
    {
      "cell_type": "code",
      "source": [
        "import re\n",
        "i = 0\n",
        "for d in dataset['train'] :\n",
        "  if i == 4 : break\n",
        "  print(re.sub('[^가-힣A-Za-z0-9]','', d['sentence1']),'/',  re.sub('[^가-힣A-Za-z0-9]','', d['sentence2']))\n",
        "  i += 1"
      ],
      "metadata": {
        "colab": {
          "base_uri": "https://localhost:8080/"
        },
        "id": "3U8K3P4gVBWy",
        "outputId": "f665bc87-0038-4729-bc9d-8a47583798d8"
      },
      "execution_count": 9,
      "outputs": [
        {
          "output_type": "stream",
          "name": "stdout",
          "text": [
            "숙소위치는찾기쉽고일반적인한국의반지하숙소입니다 / 숙박시설의위치는쉽게찾을수있고한국의대표적인반지하숙박시설입니다\n",
            "위반행위조사등을거부방해기피한자는500만원이하과태료부과대상이다 / 시민들스스로자발적인예방노력을한것은아산뿐만이아니었다\n",
            "회사가보낸메일은이지메일이아니라다른지메일계정으로전달해줘 / 사람들이주로네이버메일을쓰는이유를알려줘\n",
            "긴급고용안정지원금은지역고용대응등특별지원금지자체별소상공인지원사업취업성공패키지청년구직활동지원금긴급복지지원제도지원금과는중복수급이불가능하다 / 고용보험이1차고용안전망이라면국민취업지원제도는2차고용안전망입니다\n"
          ]
        }
      ]
    },
    {
      "cell_type": "code",
      "source": [
        "tokenizer = AutoTokenizer.from_pretrained('klue/roberta-base')\n",
        "\n",
        "result = tokenizer(re.sub('[^가-힣]','', dataset['train']['sentence1'][0]), re.sub('[^가-힣]','', dataset['train']['sentence2'][0]))\n",
        "print('input_ids', result.input_ids)\n",
        "print('token_type_ids', result.token_type_ids)\n",
        "print('attention_mask', result.attention_mask)\n",
        "print(tokenizer.decode(result['input_ids']))"
      ],
      "metadata": {
        "colab": {
          "base_uri": "https://localhost:8080/"
        },
        "id": "EPVj0uBmVZsB",
        "outputId": "dcf1e866-270d-4db8-964f-15502e564bfd"
      },
      "execution_count": 12,
      "outputs": [
        {
          "output_type": "stream",
          "name": "stdout",
          "text": [
            "input_ids [0, 9206, 12765, 2259, 2688, 2015, 2961, 2088, 2210, 2536, 31221, 2470, 2226, 2079, 2536, 2118, 2205, 2300, 2024, 12190, 2, 8134, 10171, 2079, 12765, 2259, 2961, 2318, 2688, 2069, 2113, 2689, 2088, 2470, 2226, 2079, 5718, 31221, 2536, 2118, 2205, 2300, 2042, 10171, 12190, 2]\n",
            "token_type_ids [0, 0, 0, 0, 0, 0, 0, 0, 0, 0, 0, 0, 0, 0, 0, 0, 0, 0, 0, 0, 0, 0, 0, 0, 0, 0, 0, 0, 0, 0, 0, 0, 0, 0, 0, 0, 0, 0, 0, 0, 0, 0, 0, 0, 0, 0]\n",
            "attention_mask [1, 1, 1, 1, 1, 1, 1, 1, 1, 1, 1, 1, 1, 1, 1, 1, 1, 1, 1, 1, 1, 1, 1, 1, 1, 1, 1, 1, 1, 1, 1, 1, 1, 1, 1, 1, 1, 1, 1, 1, 1, 1, 1, 1, 1, 1]\n",
            "[CLS] 숙소위치는찾기쉽고일반적인한국의반지하숙소입니다 [SEP] 숙박시설의위치는쉽게찾을수있고한국의대표적인반지하숙박시설입니다 [SEP]\n"
          ]
        }
      ]
    },
    {
      "cell_type": "code",
      "source": [
        "model = AutoModel.from_pretrained('klue/roberta-base')#, output_hidden_states=True)\n",
        "tokenizer = AutoTokenizer.from_pretrained('klue/roberta-base')\n",
        "result = tokenizer(dataset['train']['sentence1'][0], dataset['train']['sentence2'][0], return_tensors='pt')\n",
        "outputs = model(**result)\n",
        "# 'textattack/roberta-base-STS-B'"
      ],
      "metadata": {
        "id": "dSZ9keEMb9rS",
        "outputId": "999edfc3-5fa1-4369-d2a9-30b55b932e10",
        "colab": {
          "base_uri": "https://localhost:8080/"
        }
      },
      "execution_count": 20,
      "outputs": [
        {
          "output_type": "stream",
          "name": "stderr",
          "text": [
            "Some weights of the model checkpoint at klue/roberta-base were not used when initializing RobertaModel: ['lm_head.layer_norm.bias', 'lm_head.dense.bias', 'lm_head.decoder.bias', 'lm_head.decoder.weight', 'lm_head.dense.weight', 'lm_head.layer_norm.weight', 'lm_head.bias']\n",
            "- This IS expected if you are initializing RobertaModel from the checkpoint of a model trained on another task or with another architecture (e.g. initializing a BertForSequenceClassification model from a BertForPreTraining model).\n",
            "- This IS NOT expected if you are initializing RobertaModel from the checkpoint of a model that you expect to be exactly identical (initializing a BertForSequenceClassification model from a BertForSequenceClassification model).\n",
            "Some weights of RobertaModel were not initialized from the model checkpoint at klue/roberta-base and are newly initialized: ['roberta.pooler.dense.bias', 'roberta.pooler.dense.weight']\n",
            "You should probably TRAIN this model on a down-stream task to be able to use it for predictions and inference.\n"
          ]
        }
      ]
    },
    {
      "cell_type": "code",
      "source": [
        "outputs['pooler_output'].shape, outputs['last_hidden_state'].shape, "
      ],
      "metadata": {
        "id": "RtzL52eIt6vm",
        "outputId": "5d5e02b4-968e-4a16-f886-d98282b628b2",
        "colab": {
          "base_uri": "https://localhost:8080/"
        }
      },
      "execution_count": 16,
      "outputs": [
        {
          "output_type": "execute_result",
          "data": {
            "text/plain": [
              "(torch.Size([1, 768]), torch.Size([1, 41, 768]))"
            ]
          },
          "metadata": {},
          "execution_count": 16
        }
      ]
    },
    {
      "cell_type": "code",
      "source": [
        "del outputs\n",
        "del model\n",
        "del tokenizer\n",
        "del result"
      ],
      "metadata": {
        "id": "5KbB2npXvFm_"
      },
      "execution_count": 22,
      "outputs": []
    },
    {
      "cell_type": "markdown",
      "source": [
        "# Dataset Tokenizing -> dataLoader"
      ],
      "metadata": {
        "id": "kMX55thM_Owd"
      }
    },
    {
      "cell_type": "code",
      "source": [
        "import re\n",
        "from torch.utils.data import Dataset, DataLoader, RandomSampler, SequentialSampler"
      ],
      "metadata": {
        "id": "xpST6GczRO6N"
      },
      "execution_count": 6,
      "outputs": []
    },
    {
      "cell_type": "code",
      "source": [
        "class CustomDataset(Dataset):\n",
        "    def __init__(self, dataset, appended_data=None, appended_data2=None):\n",
        "        self.sentence1, self.sentence2, self.labels = self.make_dataset(dataset, appended_data, appended_data2)\n",
        "\n",
        "    def make_dataset(self, dataset, appended_data=None, appended_data2=None):\n",
        "        \"\"\"\n",
        "        self.label : dataset의 label의 list\n",
        "        self.input : sentence1, sentence2를 tokenizer한 값을 이어 붙임 \n",
        "        rlabels : # real-label -> 0 ~ 5일 때, binary-label : 0 or 1\n",
        "        \"\"\"\n",
        "        sentence1, sentence2, rlabels = [], [], []\n",
        "\n",
        "        for data in dataset :\n",
        "          # rlabels.append(data['labels']['real-label'])\n",
        "          rlabels.append(data['labels']['binary-label'])\n",
        "          sentence1.append(self.cleaning(data['sentence1']))\n",
        "          sentence2.append(self.cleaning(data['sentence2']))\n",
        "\n",
        "        if appended_data is not None :\n",
        "          for data in appended_data :\n",
        "            if data['score'] is None or data['sentence1'] is None or data['sentence2'] is None :\n",
        "              continue \n",
        "            rlabels.append(data['score'])\n",
        "            sentence1.append(self.cleaning(data['sentence1']))\n",
        "            sentence2.append(self.cleaning(data['sentence2']))\n",
        "\n",
        "        if appended_data2 is not None :\n",
        "          for data in appended_data2 :\n",
        "            if data['score'] is None or data['sentence1'] is None or data['sentence2'] is None :\n",
        "              continue\n",
        "            rlabels.append(data['score'])\n",
        "            sentence1.append(self.cleaning(data['sentence1']))\n",
        "            sentence2.append(self.cleaning(data['sentence2']))\n",
        "        return sentence1, sentence2, rlabels\n",
        "        \n",
        "    def __len__(self):\n",
        "        return len(self.labels)\n",
        "\n",
        "    def __getitem__(self, idx):\n",
        "        return self.sentence1[idx], self.sentence2[idx], self.labels[idx]\n",
        "\n",
        "    def cleaning(self, sentence) :\n",
        "        # return re.sub('[^가-힣A-Za-z0-9]','', sentence)\n",
        "        return sentence"
      ],
      "metadata": {
        "id": "P7VYohZZeCbW"
      },
      "execution_count": 22,
      "outputs": []
    },
    {
      "cell_type": "code",
      "source": [
        "def custom_collate_fn(batch):\n",
        "    input1_list, input2_list, target_list = [], [], []\n",
        "\n",
        "    for _input1, _input2, _target in batch:\n",
        "        input1_list.append(_input1)\n",
        "        input2_list.append(_input2)\n",
        "        target_list.append(_target)\n",
        "    \n",
        "    tensorized_input = tokenizer(\n",
        "        input1_list, input2_list,\n",
        "        add_special_tokens=True,\n",
        "        padding=\"longest\",  # 배치내 가장 긴 문장을 기준으로 부족한 문장은 [PAD] 토큰을 추가\n",
        "        truncation=True, # max_length를 넘는 문장은 이 후 토큰을 제거함\n",
        "        max_length=512,\n",
        "        return_tensors='pt' # 토크나이즈된 결과 값을 텐서 형태로 반환\n",
        "    )\n",
        "    tensorized_label = torch.tensor(target_list)\n",
        "\n",
        "    return tensorized_input, tensorized_label"
      ],
      "metadata": {
        "id": "FBrzwcq1EMC6"
      },
      "execution_count": 8,
      "outputs": []
    },
    {
      "cell_type": "code",
      "source": [
        "def make_dataloader(dataset, tok_model, batch_size, s='train') :\n",
        "  global tokenizer\n",
        "  tokenizer = AutoTokenizer.from_pretrained(tok_model)\n",
        "  if s == 'train' :\n",
        "    dataloader = DataLoader(\n",
        "        dataset,\n",
        "        batch_size =batch_size,\n",
        "        sampler = RandomSampler(dataset),\n",
        "        collate_fn = custom_collate_fn\n",
        "    )\n",
        "  else :\n",
        "    dataloader = DataLoader(\n",
        "        dataset,\n",
        "        batch_size =batch_size,\n",
        "        sampler = SequentialSampler(dataset),\n",
        "        collate_fn = custom_collate_fn\n",
        "    )\n",
        "  print(f'batch_size : {batch_size}')\n",
        "  return dataloader"
      ],
      "metadata": {
        "id": "J2M5WpvbGO5O"
      },
      "execution_count": 9,
      "outputs": []
    },
    {
      "cell_type": "markdown",
      "source": [
        "# model class"
      ],
      "metadata": {
        "id": "wo6N6cZgNDRj"
      }
    },
    {
      "cell_type": "code",
      "source": [
        "class CustomBertOnlyNSPHead(nn.Module):\n",
        "    def __init__(self, config):\n",
        "        super().__init__()\n",
        "        self.seq_relationship = nn.Linear(config.hidden_size, 2)\n",
        "\n",
        "    def forward(self, pooled_output):\n",
        "        seq_relationship_score = self.seq_relationship(pooled_output)\n",
        "        return seq_relationship_score\n",
        "# 모델 클래스\n",
        "class CustomSTS(nn.Module):\n",
        "    def __init__(self, model_name):\n",
        "        super(CustomSTS, self).__init__()\n",
        "        self.config = RobertaConfig.from_pretrained(model_name)\n",
        "        self.model = AutoModel.from_pretrained(model_name)\n",
        "        self.cls = CustomBertOnlyNSPHead(self.config)\n",
        "        self.softmax = nn.Softmax(dim=1)\n",
        "        self.classifier = nn.Sequential(\n",
        "          nn.Linear(768, 32), \n",
        "          nn.ReLU(),\n",
        "          nn.Dropout(0.1),\n",
        "          nn.Linear(32, 2)\n",
        "        )\n",
        "\n",
        "    def forward(self, input_ids, attention_mask=None, token_type_ids=None, labels=None):\n",
        "        \"\"\"\n",
        "        outputs(NextSentencePredictorOutput) : logtis, loss(next_sentence_label이 주어질 때 return)\n",
        "                                              hidden_states(optional), attentions(optional) 을 가지고 있다.\n",
        "        loss는 주어진 label이 0~5 사이의 값으로 scale 되어있기 때문에 직접 구해야한다!\n",
        "\n",
        "        \"\"\"\n",
        "        # logits's shape : (batch_size, seq_len, 2)\n",
        "        outputs = self.model(\n",
        "            input_ids,\n",
        "            attention_mask=attention_mask,\n",
        "            token_type_ids=token_type_ids,\n",
        "        )['last_hidden_state']\n",
        "        logits = self.classifier(outputs)[:, 0, :]\n",
        "        probs = self.softmax(logits)\n",
        "        # probs = probs[:, 0] * 5    # 0~5 사이의 값으로 정답(T)일 확률 뽑아내기\n",
        "        return probs    # 정답(T)일 확률, 정답일때 1 "
      ],
      "metadata": {
        "id": "rvWujlFzYLR6"
      },
      "execution_count": 10,
      "outputs": []
    },
    {
      "cell_type": "markdown",
      "source": [
        "# train"
      ],
      "metadata": {
        "id": "964Xf_8dXx-Q"
      }
    },
    {
      "cell_type": "markdown",
      "source": [
        "### model, optimizer, scheduler 초기화"
      ],
      "metadata": {
        "id": "f6UwWz0Uo5xa"
      }
    },
    {
      "cell_type": "code",
      "source": [
        "def initializer(train_dataloader, epochs=2, model_name='snunlp/KR-Medium', lr=4e-5, wd=4e-5):\n",
        "    \"\"\"\n",
        "    모델, 옵티마이저, 스케쥴러 초기화\n",
        "    \"\"\"\n",
        "    model = CustomSTS(model_name=model_name)   # hidden size?\n",
        "\n",
        "    optimizer = AdamW(\n",
        "        model.parameters(), # update 대상 파라미터를 입력\n",
        "        lr=lr,    # 2e-5\n",
        "        eps=1e-8,\n",
        "        weight_decay=wd\n",
        "    )\n",
        "    \n",
        "    total_steps = len(train_dataloader) * epochs\n",
        "    print(f\"Total train steps with {epochs} epochs: {total_steps}\")\n",
        "\n",
        "    scheduler = get_linear_schedule_with_warmup(\n",
        "        optimizer, \n",
        "        num_warmup_steps = 0, # 여기서는 warmup을 사용하지 않는다.\n",
        "        num_training_steps = total_steps\n",
        "    )\n",
        "    print(f'model_name : {model_name}, lr : {lr}, weight_decay : {wd}, epochs : {epochs}')\n",
        "    return model, optimizer, scheduler"
      ],
      "metadata": {
        "id": "G0SsW8oXjDlc"
      },
      "execution_count": 11,
      "outputs": []
    },
    {
      "cell_type": "markdown",
      "source": [
        "### checkpoint"
      ],
      "metadata": {
        "id": "tq-7ThFjovDX"
      }
    },
    {
      "cell_type": "code",
      "source": [
        "def save_checkpoint(path, model, optimizer, scheduler, epoch, loss, f1, model_name=''):\n",
        "    file_name = f'{path}/epoch:{epoch}_loss:{loss:.4f}_f1:{f1:.4f}.ckpt'\n",
        "    \n",
        "    torch.save({\n",
        "            'epoch': epoch,\n",
        "            'model_state_dict': model.state_dict(),\n",
        "            'optimizer_state_dict': optimizer.state_dict(),\n",
        "            'scheduler_state_dict': scheduler.state_dict(),\n",
        "            'loss' : loss,\n",
        "            'f1' : f1\n",
        "        }, \n",
        "        file_name\n",
        "    )\n",
        "    \n",
        "    print(f\"Saving epoch {epoch} checkpoint at {file_name}\")"
      ],
      "metadata": {
        "id": "CQ9Gdhuuoug4"
      },
      "execution_count": 12,
      "outputs": []
    },
    {
      "cell_type": "markdown",
      "source": [
        "### train code"
      ],
      "metadata": {
        "id": "txIbdOd3oyR8"
      }
    },
    {
      "cell_type": "code",
      "source": [
        "before_loss, before_f1 = 0.4, 0.7"
      ],
      "metadata": {
        "id": "oYZsU8boWuTp"
      },
      "execution_count": 13,
      "outputs": []
    },
    {
      "cell_type": "code",
      "source": [
        "def train(model, optimizer, scheduler, train_dataloader, valid_dataloader=None, epochs=1, model_name=''):\n",
        "  loss_fct = nn.MSELoss()\n",
        "  train_dict = {'loss' : [], 'f1' : []}\n",
        "  valid_dict = {'loss' : [], 'f1' : []}\n",
        "  global before_loss, before_f1\n",
        "  for epoch in range(epochs) :\n",
        "\n",
        "    print(f\"*****Epoch {epoch} Train Start*****\")\n",
        "    # 배치 단위 평균 loss와 총 평균 loss 계산하기위해 변수 생성\n",
        "    total_loss, total_f1, batch_f1, batch_loss, batch_count = 0,0,0,0,0\n",
        "    \n",
        "    # model을 train 모드로 설정 & device 할당\n",
        "    model.train()\n",
        "    model.to(device)\n",
        "    \n",
        "    # data iterator를 돌면서 하나씩 학습\n",
        "    for step, batch in enumerate(train_dataloader):\n",
        "      batch_count+=1\n",
        "      \n",
        "      # tensor 연산 전, 각 tensor에 device 할당\n",
        "      batch = tuple(item.to(device) for item in batch)\n",
        "      \n",
        "      batch_input, batch_label = batch\n",
        "      labels = torch.tensor([[1, 0] if label == 1 else [0, 1] for label in batch_label]).to(device)\n",
        "\n",
        "      # batch마다 모델이 갖고 있는 기존 gradient를 초기화\n",
        "      model.zero_grad()\n",
        "      \n",
        "      # forward\n",
        "      probs = model(**batch_input)\n",
        "      pred = torch.argmin(probs, dim=1).cpu()   # [0, 1]이면 Fasle, Batch_label은 0, [1,0]이면 True, Batch_label은 1\n",
        "\n",
        "      # loss\n",
        "      loss = loss_fct(labels.to(torch.float32), probs.to(torch.float32))\n",
        "      batch_loss += loss.item()\n",
        "      total_loss += loss.item()\n",
        "\n",
        "      # f1-score\n",
        "      f1 = f1_score(pred, [b.cpu() for b in batch_label])\n",
        "      batch_f1 += f1\n",
        "      total_f1 += f1\n",
        "\n",
        "      # backward -> 파라미터의 미분(gradient)를 자동으로 계산\n",
        "      loss.backward()\n",
        "\n",
        "      # gradient clipping 적용 \n",
        "      clip_grad_norm_(model.parameters(), 1.0)\n",
        "      \n",
        "      # optimizer & scheduler 업데이트\n",
        "      optimizer.step()\n",
        "      scheduler.step()\n",
        "\n",
        "      # 그래디언트 초기화\n",
        "      model.zero_grad()\n",
        "\n",
        "      # 배치 128개씩 처리할 때마다 평균 loss와 lr를 출력\n",
        "      if (step % 128 == 0 and step != 0):\n",
        "          learning_rate = optimizer.param_groups[0]['lr']\n",
        "          print(f\"Epoch: {epoch}, Step : {step}, LR : {learning_rate:.10f}, Avg Loss : {batch_loss / batch_count:.4f}, f1 score : {batch_f1 / batch_count:.4f}\")\n",
        "          \n",
        "          if (round(batch_f1 / batch_count, 5) == 0) and (round(learning_rate, 10) == 0) :\n",
        "              print(\"Train Finished, learning_rate is 0 and train_f1 is 0\")\n",
        "              return train_dict, valid_dict\n",
        "\n",
        "          # 변수 초기화\n",
        "          batch_loss, batch_f1, batch_count = 0,0,0\n",
        "\n",
        "\n",
        "    print(f\"Epoch {epoch} Total Mean Loss : {total_loss/(step+1):.4f}\")\n",
        "    print(f\"Epoch {epoch} Total Mean f1 : {total_f1/(step+1):.4f}\")\n",
        "    print(f\"*****Epoch {epoch} Train Finish*****\\n\")\n",
        "\n",
        "    train_dict['f1'].append(total_f1/(step+1))\n",
        "    train_dict['loss'].append(total_loss/(step+1))\n",
        "    \n",
        "    if valid_dataloader is not None:\n",
        "        print(f\"*****Epoch {epoch} Valid Start*****\")\n",
        "        valid_loss, valid_acc, valid_f1 = validate(model, valid_dataloader)\n",
        "        print(f\"Epoch {epoch} Valid Loss : {valid_loss:.4f} Valid Acc : {valid_acc:.4f} Valid f1 : {valid_f1:.4f}\")\n",
        "        print(f\"*****Epoch {epoch} Valid Finish*****\\n\")\n",
        "\n",
        "    valid_dict['f1'].append(valid_f1)\n",
        "    valid_dict['loss'].append(valid_loss)\n",
        "    if round(valid_f1, 4) == 0 :\n",
        "        break\n",
        "    if before_loss > valid_loss :\n",
        "        before_loss = valid_loss\n",
        "        save_checkpoint(\"/content/drive/MyDrive/Colab Notebooks/nlp\", model, optimizer, scheduler, epoch, valid_loss, valid_f1, model_name)\n",
        "\n",
        "    elif before_f1 < valid_f1  :\n",
        "        before_f1 = valid_f1\n",
        "        save_checkpoint(\"/content/drive/MyDrive/Colab Notebooks/nlp\", model, optimizer, scheduler, epoch, valid_loss, valid_f1, model_name)\n",
        "\n",
        "  print(\"Train Finished\")\n",
        "  return train_dict, valid_dict"
      ],
      "metadata": {
        "id": "HluWdArhYFIC"
      },
      "execution_count": 14,
      "outputs": []
    },
    {
      "cell_type": "markdown",
      "source": [
        "### validation code"
      ],
      "metadata": {
        "id": "w2AMocOkozvZ"
      }
    },
    {
      "cell_type": "code",
      "source": [
        "def validate(model, valid_dataloader):\n",
        "    loss_fct = nn.MSELoss()\n",
        "    # 모델을 evaluate 모드로 설정 & device 할당\n",
        "    model.eval()\n",
        "    model.to(device)\n",
        "    \n",
        "    total_loss, total_acc, total_f1, = 0,0, 0\n",
        "        \n",
        "    for step, batch in enumerate(valid_dataloader):\n",
        "        \n",
        "        # tensor 연산 전, 각 tensor에 device 할당\n",
        "        batch = tuple(item.to(device) for item in batch)\n",
        "            \n",
        "        batch_input, batch_label = batch\n",
        "        labels = torch.tensor([[1, 0] if label == 1 else [0, 1] for label in batch_label]).to(device)\n",
        "            \n",
        "        # gradient 계산하지 않음\n",
        "        with torch.no_grad():\n",
        "            probs = model(**batch_input)\n",
        "        pred = torch.argmin(probs, dim=1).cpu()\n",
        "            \n",
        "        # loss\n",
        "        loss = loss_fct(probs.to(torch.float32), labels.to(torch.float32))\n",
        "        total_loss += loss.item()\n",
        "        \n",
        "        # accuracy\n",
        "        acc = 0\n",
        "        for p, b in zip(pred, batch_label) :\n",
        "          if p == b :\n",
        "            acc += 1\n",
        "        \n",
        "        acc = acc / len(pred)\n",
        "        total_acc+=acc\n",
        "        \n",
        "        # f1-score\n",
        "        f1 = f1_score(pred, [b.cpu() for b in batch_label])\n",
        "        total_f1 += f1\n",
        "\n",
        "    total_loss = total_loss/(step+1)\n",
        "    total_acc = total_acc/(step+1)\n",
        "    total_f1 = total_f1/(step+1)\n",
        "    return total_loss, total_acc, total_f1"
      ],
      "metadata": {
        "id": "D9DpetR6oTdb"
      },
      "execution_count": 15,
      "outputs": []
    },
    {
      "cell_type": "markdown",
      "source": [
        "### draw_plot"
      ],
      "metadata": {
        "id": "jgca7DMFJlJp"
      }
    },
    {
      "cell_type": "code",
      "source": [
        "# loss와 f1-score의 변화를 epoch마다 보기 위한 plot\n",
        "def draw_plot(train_dict, valid_dict, i) :\n",
        "  print('green is loss, gray is f1')\n",
        "  plt.subplot(1, 2, 1)\n",
        "  plt.xlabel('Epochs')\n",
        "  plt.title('Loss and F1 of Train data')\n",
        "  x_values= [n for n in range(len(train_dict['loss']))]\n",
        "  plt.plot(x_values, train_dict['loss'], color='green', marker='o')  # loss\n",
        "  plt.plot(x_values, train_dict['f1'], color='#AAAAAA', marker='*')  # f1\n",
        "\n",
        "  plt.subplot(1, 2, 2)\n",
        "  plt.xlabel('Epochs')\n",
        "  plt.title('Loss and F1 of Validation data')\n",
        "  x_values= [n for n in range(len(valid_dict['loss']))]\n",
        "  plt.plot(x_values, valid_dict['loss'], color='green', marker='o')  # loss\n",
        "  plt.plot(x_values, valid_dict['f1'], color='#AAAAAA', marker='*')  # f1\n",
        "\n",
        "  plt.show()\n",
        "  plt.savefig(f'figure_{i}.png')"
      ],
      "metadata": {
        "id": "0v_Er2FkAJsi"
      },
      "execution_count": 16,
      "outputs": []
    },
    {
      "cell_type": "markdown",
      "source": [
        "# train"
      ],
      "metadata": {
        "id": "GsT4lhE7WV4a"
      }
    },
    {
      "cell_type": "code",
      "source": [
        "# 'klue/roberta-base', 32, 32, lr : 2e-05, \n",
        "train_batch_size = 32\n",
        "model_name = 'klue/roberta-base'\n",
        "\n",
        "train_dataset = CustomDataset(dataset['train'])\n",
        "valid_dataset = CustomDataset(dataset['validation'])\n",
        "\n",
        "train_dataloader = make_dataloader(train_dataset, model_name, train_batch_size, 'train')\n",
        "valid_dataloader = make_dataloader(valid_dataset, model_name, 32, 'valid')\n",
        "learning_rate = 2e-05\n",
        "weight_decay = 0.01\n",
        "\n",
        "model, optimizer, scheduler = initializer(train_dataloader, 4, model_name, learning_rate, weight_decay)\n",
        "\n",
        "start = time.time()\n",
        "train_dict, valid_dict = train(model, optimizer, scheduler, train_dataloader, valid_dataloader, 4, model_name)\n",
        "end = time.time()\n",
        "print(f\"time : {(end - start)//60}분 {(end - start)%60}초\")\n",
        "\n",
        "draw_plot(train_dict, valid_dict, 0)"
      ],
      "metadata": {
        "id": "qle0eB0VWW0A",
        "outputId": "cbdc0e8e-3143-4895-c655-b16490fb088e",
        "colab": {
          "base_uri": "https://localhost:8080/",
          "height": 1000
        }
      },
      "execution_count": 102,
      "outputs": [
        {
          "output_type": "stream",
          "name": "stdout",
          "text": [
            "batch_size : 32\n",
            "batch_size : 32\n"
          ]
        },
        {
          "output_type": "stream",
          "name": "stderr",
          "text": [
            "Some weights of the model checkpoint at klue/roberta-base were not used when initializing RobertaModel: ['lm_head.layer_norm.bias', 'lm_head.dense.bias', 'lm_head.decoder.bias', 'lm_head.decoder.weight', 'lm_head.dense.weight', 'lm_head.layer_norm.weight', 'lm_head.bias']\n",
            "- This IS expected if you are initializing RobertaModel from the checkpoint of a model trained on another task or with another architecture (e.g. initializing a BertForSequenceClassification model from a BertForPreTraining model).\n",
            "- This IS NOT expected if you are initializing RobertaModel from the checkpoint of a model that you expect to be exactly identical (initializing a BertForSequenceClassification model from a BertForSequenceClassification model).\n",
            "Some weights of RobertaModel were not initialized from the model checkpoint at klue/roberta-base and are newly initialized: ['roberta.pooler.dense.bias', 'roberta.pooler.dense.weight']\n",
            "You should probably TRAIN this model on a down-stream task to be able to use it for predictions and inference.\n"
          ]
        },
        {
          "output_type": "stream",
          "name": "stdout",
          "text": [
            "Total train steps with 4 epochs: 1460\n",
            "model_name : klue/roberta-base, lr : 2e-05, weight_decay : 0.01, epochs : 4\n",
            "*****Epoch 0 Train Start*****\n",
            "Epoch: 0, Step : 128, LR : 0.0000182329, Avg Loss : 0.0915, f1 score : 0.8765\n",
            "Epoch: 0, Step : 256, LR : 0.0000164795, Avg Loss : 0.0628, f1 score : 0.9182\n",
            "Epoch 0 Total Mean Loss : 0.0725\n",
            "Epoch 0 Total Mean f1 : 0.9026\n",
            "*****Epoch 0 Train Finish*****\n",
            "\n",
            "*****Epoch 0 Valid Start*****\n",
            "Epoch 0 Valid Loss : 0.1926 Valid Acc : 0.7626 Valid f1 : 0.7650\n",
            "*****Epoch 0 Valid Finish*****\n",
            "\n",
            "Saving epoch 0 checkpoint at /content/drive/MyDrive/Colab Notebooks/nlp/epoch:0_loss:0.1926_f1:0.7650.ckpt\n",
            "*****Epoch 1 Train Start*****\n",
            "Epoch: 1, Step : 128, LR : 0.0000132329, Avg Loss : 0.0390, f1 score : 0.9493\n",
            "Epoch: 1, Step : 256, LR : 0.0000114795, Avg Loss : 0.0356, f1 score : 0.9540\n",
            "Epoch 1 Total Mean Loss : 0.0375\n",
            "Epoch 1 Total Mean f1 : 0.9520\n",
            "*****Epoch 1 Train Finish*****\n",
            "\n",
            "*****Epoch 1 Valid Start*****\n",
            "Epoch 1 Valid Loss : 0.1653 Valid Acc : 0.7928 Valid f1 : 0.7825\n",
            "*****Epoch 1 Valid Finish*****\n",
            "\n",
            "Saving epoch 1 checkpoint at /content/drive/MyDrive/Colab Notebooks/nlp/epoch:1_loss:0.1653_f1:0.7825.ckpt\n",
            "*****Epoch 2 Train Start*****\n",
            "Epoch: 2, Step : 128, LR : 0.0000082329, Avg Loss : 0.0264, f1 score : 0.9670\n",
            "Epoch: 2, Step : 256, LR : 0.0000064795, Avg Loss : 0.0270, f1 score : 0.9660\n",
            "Epoch 2 Total Mean Loss : 0.0254\n",
            "Epoch 2 Total Mean f1 : 0.9681\n",
            "*****Epoch 2 Train Finish*****\n",
            "\n",
            "*****Epoch 2 Valid Start*****\n",
            "Epoch 2 Valid Loss : 0.1911 Valid Acc : 0.7836 Valid f1 : 0.7822\n",
            "*****Epoch 2 Valid Finish*****\n",
            "\n",
            "*****Epoch 3 Train Start*****\n",
            "Epoch: 3, Step : 128, LR : 0.0000032329, Avg Loss : 0.0194, f1 score : 0.9773\n",
            "Epoch: 3, Step : 256, LR : 0.0000014795, Avg Loss : 0.0174, f1 score : 0.9795\n",
            "Epoch 3 Total Mean Loss : 0.0175\n",
            "Epoch 3 Total Mean f1 : 0.9796\n",
            "*****Epoch 3 Train Finish*****\n",
            "\n",
            "*****Epoch 3 Valid Start*****\n",
            "Epoch 3 Valid Loss : 0.1820 Valid Acc : 0.8002 Valid f1 : 0.7894\n",
            "*****Epoch 3 Valid Finish*****\n",
            "\n",
            "Train Finished\n",
            "time : 8.0분 16.78702163696289초\n",
            "green is loss, gray is f1\n"
          ]
        },
        {
          "output_type": "display_data",
          "data": {
            "text/plain": [
              "<Figure size 432x288 with 2 Axes>"
            ],
            "image/png": "[encoded data removed]"
          },
          "metadata": {
            "needs_background": "light"
          }
        },
        {
          "output_type": "display_data",
          "data": {
            "text/plain": [
              "<Figure size 432x288 with 0 Axes>"
            ]
          },
          "metadata": {}
        }
      ]
    },
    {
      "cell_type": "markdown",
      "source": [
        "# hyperparameter 조정\n",
        "\n",
        "[optuna 사용법](https://dacon.io/codeshare/2704)\n",
        "\n",
        "- transformer의 trainer 사용\n",
        "  - [trainer huggingface](https://huggingface.co/docs/transformers/main_classes/trainer)\n",
        "  - [bert에 optuna 사용법-medium](https://medium.com/carbon-consulting/transformer-models-hyperparameter-optimization-with-the-optuna-299e185044a8)\n",
        "  - [bert에 optuna 사용법-git블로그](https://thigm85.github.io/blog/search/cord19/bert/transformers/optuna/2020/11/07/bert-training-optuna-tuning.html)\n"
      ],
      "metadata": {
        "id": "NHB9BN_u6Q7V"
      }
    },
    {
      "cell_type": "code",
      "source": [
        "import optuna"
      ],
      "metadata": {
        "id": "6NkXzrfM_E7L"
      },
      "execution_count": 17,
      "outputs": []
    },
    {
      "cell_type": "code",
      "source": [
        "i = 0\n",
        "def objective(trial: optuna.Trial):\n",
        "    model_name = 'klue/roberta-base'\n",
        "    learning_rate = trial.suggest_loguniform('learning_rate', low=5e-5, high=0.01)\n",
        "    weight_decay = trial.suggest_loguniform('weight_decay', low=4e-5, high=0.01)\n",
        "\n",
        "    train_batch_size = trial.suggest_int(\"per_device_train_batch_size\", 16, 88)\n",
        "    train_dataloader = make_dataloader(train_dataset, model_name, train_batch_size, 'train')\n",
        "    valid_dataloader = make_dataloader(valid_dataset, model_name, 32, 'valid')\n",
        "    \n",
        "    model, optimizer, scheduler = initializer(train_dataloader, 4, model_name, learning_rate, weight_decay)\n",
        "    start = time.time()\n",
        "    train_dict, valid_dict = train(model, optimizer, scheduler, train_dataloader, valid_dataloader, 4, model_name)\n",
        "    end = time.time()\n",
        "    print(f\"time : {(end - start)//60}분 {(end - start)%60}초\")\n",
        "\n",
        "    global i\n",
        "\n",
        "    draw_plot(train_dict, valid_dict, i)\n",
        "    i += 1\n",
        "\n",
        "    gc.collect()\n",
        "    print('\\n------------------------------------------\\n\\n')\n",
        "    return max(valid_dict['f1'])"
      ],
      "metadata": {
        "id": "Ra_jiyPVEDO_"
      },
      "execution_count": 23,
      "outputs": []
    },
    {
      "cell_type": "code",
      "source": [
        "train_dataset = CustomDataset(dataset['train'])\n",
        "valid_dataset = CustomDataset(dataset['validation'])"
      ],
      "metadata": {
        "id": "CIu4WWvSaiv8"
      },
      "execution_count": 24,
      "outputs": []
    },
    {
      "cell_type": "code",
      "source": [
        "import gc\n",
        "gc.collect()"
      ],
      "metadata": {
        "colab": {
          "base_uri": "https://localhost:8080/"
        },
        "id": "ua4VteshaxPO",
        "outputId": "f39c6182-4ce7-4132-c65b-5b1d63434575"
      },
      "execution_count": 25,
      "outputs": [
        {
          "output_type": "execute_result",
          "data": {
            "text/plain": [
              "181"
            ]
          },
          "metadata": {},
          "execution_count": 25
        }
      ]
    },
    {
      "cell_type": "markdown",
      "source": [
        "### klue/roberta-base\n",
        "\n",
        "**train_batch_size, lr, epochs -> f1**\n",
        "\n",
        "- 모두 0에 수렴\n",
        "- class에 layer를 추가해야할 것 같다."
      ],
      "metadata": {
        "id": "JqHbDXMCC94f"
      }
    },
    {
      "cell_type": "code",
      "source": [
        "print('klue/roberta-base\\n\\n')\n",
        "# We want to minimize the loss! \n",
        "study = optuna.create_study(study_name='hyper-parameter-search', direction='maximize') \n",
        "# Optimize the objective using 5 different trials \n",
        "study.optimize(objective, n_trials=32)"
      ],
      "metadata": {
        "id": "2XJmhoinC_bx"
      },
      "execution_count": null,
      "outputs": []
    },
    {
      "cell_type": "markdown",
      "source": [
        "# 추가학습\n"
      ],
      "metadata": {
        "id": "kI9yDMRqpF6k"
      }
    },
    {
      "cell_type": "code",
      "source": [
        "train_batch_size = 32\n",
        "model_name = 'klue/roberta-base'\n",
        "\n",
        "train_dataloader = make_dataloader(train_dataset, model_name, train_batch_size, 'train')\n",
        "valid_dataloader = make_dataloader(valid_dataset, model_name, 32, 'valid')\n",
        "learning_rate = 2e-05\n",
        "weight_decay = 0.01\n",
        "\n",
        "model, optimizer, scheduler = initializer(train_dataloader, 20, model_name, learning_rate, weight_decay)\n",
        "\n",
        "start = time.time()\n",
        "train_dict, valid_dict = train(model, optimizer, scheduler, train_dataloader, valid_dataloader, 20, model_name)\n",
        "end = time.time()\n",
        "print(f\"time : {(end - start)//60}분 {(end - start)%60}초\")\n",
        "\n",
        "draw_plot(train_dict, valid_dict, 0)"
      ],
      "metadata": {
        "id": "r9_uo1FRzzPW"
      },
      "execution_count": null,
      "outputs": []
    },
    {
      "cell_type": "markdown",
      "source": [
        "# Test : 최적화된 모델로 KLUE-sts Validation 문장 test\n",
        "\n",
        "csv파일로 score과 두 문장 저장"
      ],
      "metadata": {
        "id": "YhdTRSOJMq3O"
      }
    },
    {
      "cell_type": "code",
      "source": [
        "model_name = ''\n",
        "checkpoint = torch.load(f'/content/drive/MyDrive/Colab Notebooks/nlp/{model_name}')\n",
        "checkpoint.keys()"
      ],
      "metadata": {
        "colab": {
          "base_uri": "https://localhost:8080/"
        },
        "id": "k55lEq4kORiX",
        "outputId": "3486ed41-b035-4539-ab00-96498100f525"
      },
      "execution_count": null,
      "outputs": [
        {
          "output_type": "execute_result",
          "data": {
            "text/plain": [
              "dict_keys(['epoch', 'model_state_dict', 'optimizer_state_dict', 'scheduler_state_dict', 'loss', 'f1'])"
            ]
          },
          "metadata": {},
          "execution_count": 25
        }
      ]
    },
    {
      "cell_type": "code",
      "source": [
        "def test(model, test_dataloader):\n",
        "    loss_fct = nn.MSELoss()\n",
        "    # 모델을 evaluate 모드로 설정 & device 할당\n",
        "    model.eval()\n",
        "    model.to(device)\n",
        "    \n",
        "    total_loss, total_acc, total_f1, total_pearson= 0,0, 0, 0\n",
        "    prediction = {'probs' : [], 'batch_input_ids' : []}   # batch_input_ids는 문장 확인을 위해 넣어둠.\n",
        "\n",
        "    for step, batch in enumerate(test_dataloader):\n",
        "        \n",
        "        # tensor 연산 전, 각 tensor에 device 할당\n",
        "        batch = tuple(item.to(device) for item in batch)\n",
        "            \n",
        "        batch_input, batch_label = batch\n",
        "        labels = torch.tensor([[1, 0] if label == 1 else [0, 1] for label in batch_label]).to(device)\n",
        "\n",
        "        prediction['batch_input_ids'].extend(batch_input['input_ids'])\n",
        "        \n",
        "        # gradient 계산하지 않음\n",
        "        with torch.no_grad():\n",
        "            probs = model(**batch_input)\n",
        "        pred = torch.argmin(probs, dim=1).cpu()\n",
        "        \n",
        "        prediction['probs'].extend(probs)\n",
        "\n",
        "        # loss\n",
        "        loss = loss_fct(probs.to(torch.float32), labels.to(torch.float32))\n",
        "        total_loss += loss.item()\n",
        "        \n",
        "        # accuracy\n",
        "        acc = 0\n",
        "        for p, b in zip(pred, batch_label) :\n",
        "          if p == b :\n",
        "            acc += 1\n",
        "        \n",
        "        acc = acc / len(probs)\n",
        "        total_acc+=acc\n",
        "        \n",
        "        # pearsonr 상관계수\n",
        "        pearson = torch.corrcoef(torch.stack([probs, batch_label], dim=0))\n",
        "        total_pearson += pearson\n",
        "\n",
        "        # f1-score\n",
        "        f1 = f1_score(pred, [b.cpu() for b in batch_label])\n",
        "        total_f1 += f1\n",
        "\n",
        "    total_loss = total_loss/(step+1)\n",
        "    total_acc = total_acc/(step+1)\n",
        "    total_f1 = total_f1/(step+1)\n",
        "    total_pearson = total_pearson/(step+1)\n",
        "    return prediction, total_loss, total_acc, total_f1, total_pearson"
      ],
      "metadata": {
        "id": "-LBs5lPfLBlr"
      },
      "execution_count": null,
      "outputs": []
    },
    {
      "cell_type": "code",
      "source": [
        "valid_dataset = CustomDataset(dataset['validation'])\n",
        "validation_loader = make_dataloader(valid_dataset, 'klue/bert-base', 32, 'valid')\n",
        "\n",
        "model = CustomSTS(hidden_size=768, model_name='klue/bert-base')\n",
        "model.load_state_dict(checkpoint['model_state_dict'])\n",
        "model.eval()\n",
        "prediction, total_loss, total_acc, total_f1, total_pearson = test(model, validation_loader)"
      ],
      "metadata": {
        "id": "K2m0GThmM7-S"
      },
      "execution_count": null,
      "outputs": []
    },
    {
      "cell_type": "code",
      "source": [
        "import pandas as pd\n",
        "df = pd.DataFrame({'sentence1' : [data['sentence1'] for data in dataset['validation']],\n",
        "                   'sentence2' : [data['sentence2'] for data in dataset['validation']],\n",
        "                   'real_label' : [data['labels']['binary-label'] for data in dataset['validation']]\n",
        "                   })\n",
        "df.head()"
      ],
      "metadata": {
        "colab": {
          "base_uri": "https://localhost:8080/",
          "height": 302
        },
        "id": "EGKEL2n2m3Tt",
        "outputId": "223d13d0-1622-445b-c654-2d0291931ddc"
      },
      "execution_count": null,
      "outputs": [
        {
          "output_type": "execute_result",
          "data": {
            "text/plain": [
              "                                           sentence1  \\\n",
              "0                           무엇보다도 호스트분들이 너무 친절하셨습니다.   \n",
              "1                             주요 관광지 모두 걸어서 이동가능합니다.   \n",
              "2  학생들의 균형 있는 영어능력을 향상시킬 수 있는 학교 수업을 유도하기 위해 2018...   \n",
              "3                          다만, 도로와 인접해서 거리의 소음이 들려요.   \n",
              "4                형이 다시 캐나다 들어가야 하니 가족모임 일정은 바꾸지 마세요.   \n",
              "\n",
              "                                           sentence2  real_label  \n",
              "0                            무엇보다도, 호스트들은 매우 친절했습니다.    4.857143  \n",
              "1                        위치는 피렌체 중심가까지 걸어서 이동 가능합니다.    1.428571  \n",
              "2  영어 영역의 경우 학생들이 한글 해석본을 암기하는 문제를 해소하기 위해 2016학년...    1.285714  \n",
              "3                 하지만, 길과 가깝기 때문에 거리의 소음을 들을 수 있습니다.    3.714286  \n",
              "4                            가족 모임 일정은 바꾸지 말도록 하십시오.    2.500000  "
            ],
            "text/html": [
              "\n",
              "  <div id=\"df-cbc6e1aa-26e4-4603-9aa2-ffc540d78d9a\">\n",
              "    <div class=\"colab-df-container\">\n",
              "      <div>\n",
              "<style scoped>\n",
              "    .dataframe tbody tr th:only-of-type {\n",
              "        vertical-align: middle;\n",
              "    }\n",
              "\n",
              "    .dataframe tbody tr th {\n",
              "        vertical-align: top;\n",
              "    }\n",
              "\n",
              "    .dataframe thead th {\n",
              "        text-align: right;\n",
              "    }\n",
              "</style>\n",
              "<table border=\"1\" class=\"dataframe\">\n",
              "  <thead>\n",
              "    <tr style=\"text-align: right;\">\n",
              "      <th></th>\n",
              "      <th>sentence1</th>\n",
              "      <th>sentence2</th>\n",
              "      <th>real_label</th>\n",
              "    </tr>\n",
              "  </thead>\n",
              "  <tbody>\n",
              "    <tr>\n",
              "      <th>0</th>\n",
              "      <td>무엇보다도 호스트분들이 너무 친절하셨습니다.</td>\n",
              "      <td>무엇보다도, 호스트들은 매우 친절했습니다.</td>\n",
              "      <td>4.857143</td>\n",
              "    </tr>\n",
              "    <tr>\n",
              "      <th>1</th>\n",
              "      <td>주요 관광지 모두 걸어서 이동가능합니다.</td>\n",
              "      <td>위치는 피렌체 중심가까지 걸어서 이동 가능합니다.</td>\n",
              "      <td>1.428571</td>\n",
              "    </tr>\n",
              "    <tr>\n",
              "      <th>2</th>\n",
              "      <td>학생들의 균형 있는 영어능력을 향상시킬 수 있는 학교 수업을 유도하기 위해 2018...</td>\n",
              "      <td>영어 영역의 경우 학생들이 한글 해석본을 암기하는 문제를 해소하기 위해 2016학년...</td>\n",
              "      <td>1.285714</td>\n",
              "    </tr>\n",
              "    <tr>\n",
              "      <th>3</th>\n",
              "      <td>다만, 도로와 인접해서 거리의 소음이 들려요.</td>\n",
              "      <td>하지만, 길과 가깝기 때문에 거리의 소음을 들을 수 있습니다.</td>\n",
              "      <td>3.714286</td>\n",
              "    </tr>\n",
              "    <tr>\n",
              "      <th>4</th>\n",
              "      <td>형이 다시 캐나다 들어가야 하니 가족모임 일정은 바꾸지 마세요.</td>\n",
              "      <td>가족 모임 일정은 바꾸지 말도록 하십시오.</td>\n",
              "      <td>2.500000</td>\n",
              "    </tr>\n",
              "  </tbody>\n",
              "</table>\n",
              "</div>\n",
              "      <button class=\"colab-df-convert\" onclick=\"convertToInteractive('df-cbc6e1aa-26e4-4603-9aa2-ffc540d78d9a')\"\n",
              "              title=\"Convert this dataframe to an interactive table.\"\n",
              "              style=\"display:none;\">\n",
              "        \n",
              "  <svg xmlns=\"http://www.w3.org/2000/svg\" height=\"24px\"viewBox=\"0 0 24 24\"\n",
              "       width=\"24px\">\n",
              "    <path d=\"M0 0h24v24H0V0z\" fill=\"none\"/>\n",
              "    <path d=\"M18.56 5.44l.94 2.06.94-2.06 2.06-.94-2.06-.94-.94-2.06-.94 2.06-2.06.94zm-11 1L8.5 8.5l.94-2.06 2.06-.94-2.06-.94L8.5 2.5l-.94 2.06-2.06.94zm10 10l.94 2.06.94-2.06 2.06-.94-2.06-.94-.94-2.06-.94 2.06-2.06.94z\"/><path d=\"M17.41 7.96l-1.37-1.37c-.4-.4-.92-.59-1.43-.59-.52 0-1.04.2-1.43.59L10.3 9.45l-7.72 7.72c-.78.78-.78 2.05 0 2.83L4 21.41c.39.39.9.59 1.41.59.51 0 1.02-.2 1.41-.59l7.78-7.78 2.81-2.81c.8-.78.8-2.07 0-2.86zM5.41 20L4 18.59l7.72-7.72 1.47 1.35L5.41 20z\"/>\n",
              "  </svg>\n",
              "      </button>\n",
              "      \n",
              "  <style>\n",
              "    .colab-df-container {\n",
              "      display:flex;\n",
              "      flex-wrap:wrap;\n",
              "      gap: 12px;\n",
              "    }\n",
              "\n",
              "    .colab-df-convert {\n",
              "      background-color: #E8F0FE;\n",
              "      border: none;\n",
              "      border-radius: 50%;\n",
              "      cursor: pointer;\n",
              "      display: none;\n",
              "      fill: #1967D2;\n",
              "      height: 32px;\n",
              "      padding: 0 0 0 0;\n",
              "      width: 32px;\n",
              "    }\n",
              "\n",
              "    .colab-df-convert:hover {\n",
              "      background-color: #E2EBFA;\n",
              "      box-shadow: 0px 1px 2px rgba(60, 64, 67, 0.3), 0px 1px 3px 1px rgba(60, 64, 67, 0.15);\n",
              "      fill: #174EA6;\n",
              "    }\n",
              "\n",
              "    [theme=dark] .colab-df-convert {\n",
              "      background-color: #3B4455;\n",
              "      fill: #D2E3FC;\n",
              "    }\n",
              "\n",
              "    [theme=dark] .colab-df-convert:hover {\n",
              "      background-color: #434B5C;\n",
              "      box-shadow: 0px 1px 3px 1px rgba(0, 0, 0, 0.15);\n",
              "      filter: drop-shadow(0px 1px 2px rgba(0, 0, 0, 0.3));\n",
              "      fill: #FFFFFF;\n",
              "    }\n",
              "  </style>\n",
              "\n",
              "      <script>\n",
              "        const buttonEl =\n",
              "          document.querySelector('#df-cbc6e1aa-26e4-4603-9aa2-ffc540d78d9a button.colab-df-convert');\n",
              "        buttonEl.style.display =\n",
              "          google.colab.kernel.accessAllowed ? 'block' : 'none';\n",
              "\n",
              "        async function convertToInteractive(key) {\n",
              "          const element = document.querySelector('#df-cbc6e1aa-26e4-4603-9aa2-ffc540d78d9a');\n",
              "          const dataTable =\n",
              "            await google.colab.kernel.invokeFunction('convertToInteractive',\n",
              "                                                     [key], {});\n",
              "          if (!dataTable) return;\n",
              "\n",
              "          const docLinkHtml = 'Like what you see? Visit the ' +\n",
              "            '<a target=\"_blank\" href=https://colab.research.google.com/notebooks/data_table.ipynb>data table notebook</a>'\n",
              "            + ' to learn more about interactive tables.';\n",
              "          element.innerHTML = '';\n",
              "          dataTable['output_type'] = 'display_data';\n",
              "          await google.colab.output.renderOutput(dataTable, element);\n",
              "          const docLink = document.createElement('div');\n",
              "          docLink.innerHTML = docLinkHtml;\n",
              "          element.appendChild(docLink);\n",
              "        }\n",
              "      </script>\n",
              "    </div>\n",
              "  </div>\n",
              "  "
            ]
          },
          "metadata": {},
          "execution_count": 51
        }
      ]
    },
    {
      "cell_type": "code",
      "source": [
        "# prediction['probs'] = [p.item() for p in prediction['probs']]\n",
        "df['probs'] = prediction['probs']\n",
        "df['distance'] = df['real_label'] - df['probs']"
      ],
      "metadata": {
        "id": "SgMmyXL0rDt7"
      },
      "execution_count": null,
      "outputs": []
    },
    {
      "cell_type": "code",
      "source": [
        "df['blabel'] = True\n",
        "df['blabel'].loc[df['real_label'] < 3] = False\n",
        "\n",
        "df['b_pred'] = True\n",
        "df['b_pred'].loc[df['probs'] < 3] = False"
      ],
      "metadata": {
        "id": "dfK9rsrjRWmV"
      },
      "execution_count": null,
      "outputs": []
    },
    {
      "cell_type": "code",
      "source": [
        "# 틀린 것\n",
        "df.loc[df.blabel != df.b_pred]"
      ],
      "metadata": {
        "colab": {
          "base_uri": "https://localhost:8080/",
          "height": 676
        },
        "id": "szsK2EeHxKCe",
        "outputId": "17bd99f6-ba10-4186-c121-f0655fcf8428"
      },
      "execution_count": null,
      "outputs": [
        {
          "output_type": "execute_result",
          "data": {
            "text/plain": [
              "                                           sentence1  \\\n",
              "6     최근 국민들의 여행심리 위축 등으로 동남아 등 다른 노선까지 영향을 받는 상황이다.   \n",
              "10                                   라디오 듣는 건 금지되어있어   \n",
              "20                            덕분에 너무 즐거웠던 여행이 되었습니다!   \n",
              "21                       와이키키 중심지로 이동이 편리한 위치에 있습니다.   \n",
              "25                      집안에서 효율적으로 환기하고 싶을 때 뭐가 필요해?   \n",
              "..                                               ...   \n",
              "505                        한메일 계정을 더 만드는건 유료니 그만 만들어   \n",
              "507                특히 직불금 도입 과정에서 중소규모 농가를 더 배려했습니다.   \n",
              "508                      지금 집안 습도가 얼마인지 확인할 수 있게 도와줘   \n",
              "514  문체부는 이를 연차적으로 확대, 시행해 학교운동부와 스포츠클럽 간의 연계를 강화한다.   \n",
              "515                      일단 정확한 정보와 빠른 답변이 정말 좋았습니다.   \n",
              "\n",
              "                                             sentence2  real_label     probs  \\\n",
              "6       동남아시아와 같은 다른 노선은 최근 사람들의 여행 감정의 하락에 영향을 받았습니다.    3.600000  2.657490   \n",
              "10                                       라디오 듣는건 삼가주세요    2.500000  3.843205   \n",
              "20                               덕분에 즐거운 일본 여행이 되었습니다.    2.833333  3.998187   \n",
              "21                             와이키키 센터에 편리하게 위치해 있습니다.    2.857143  3.340758   \n",
              "25                      발코니말고 집안에서 효율적으로 환기할 때 필요한 것은?    2.666667  3.322337   \n",
              "..                                                 ...         ...       ...   \n",
              "505                        한메일 계정은 그만 만들고 네이버 계정으로 만들어    2.428571  3.097188   \n",
              "507          특히, 중소 농부들은 직불금을 도입하는 과정에서 더 많은 배려를 했습니다.    2.714286  4.142483   \n",
              "508                        집안 습도 어떤지 보고싶을 때는 뭐라고 해야하니?    3.166667  0.858109   \n",
              "514  문화체육관광부는 학교스포츠학과와 스포츠클럽의 연계성을 강화하기 위해 매년 이 프로그...    2.200000  3.816726   \n",
              "515                      호스트의 빠른 답변과 유용한 정보들이 정말 좋습니다.    2.833333  3.301589   \n",
              "\n",
              "     distance  blabel  b_pred  \n",
              "6    0.942510    True   False  \n",
              "10  -1.343205   False    True  \n",
              "20  -1.164853   False    True  \n",
              "21  -0.483615   False    True  \n",
              "25  -0.655670   False    True  \n",
              "..        ...     ...     ...  \n",
              "505 -0.668617   False    True  \n",
              "507 -1.428197   False    True  \n",
              "508  2.308557    True   False  \n",
              "514 -1.616726   False    True  \n",
              "515 -0.468256   False    True  \n",
              "\n",
              "[89 rows x 7 columns]"
            ],
            "text/html": [
              "\n",
              "  <div id=\"df-6da4f0cf-a687-4220-aa74-a2cb887ce196\">\n",
              "    <div class=\"colab-df-container\">\n",
              "      <div>\n",
              "<style scoped>\n",
              "    .dataframe tbody tr th:only-of-type {\n",
              "        vertical-align: middle;\n",
              "    }\n",
              "\n",
              "    .dataframe tbody tr th {\n",
              "        vertical-align: top;\n",
              "    }\n",
              "\n",
              "    .dataframe thead th {\n",
              "        text-align: right;\n",
              "    }\n",
              "</style>\n",
              "<table border=\"1\" class=\"dataframe\">\n",
              "  <thead>\n",
              "    <tr style=\"text-align: right;\">\n",
              "      <th></th>\n",
              "      <th>sentence1</th>\n",
              "      <th>sentence2</th>\n",
              "      <th>real_label</th>\n",
              "      <th>probs</th>\n",
              "      <th>distance</th>\n",
              "      <th>blabel</th>\n",
              "      <th>b_pred</th>\n",
              "    </tr>\n",
              "  </thead>\n",
              "  <tbody>\n",
              "    <tr>\n",
              "      <th>6</th>\n",
              "      <td>최근 국민들의 여행심리 위축 등으로 동남아 등 다른 노선까지 영향을 받는 상황이다.</td>\n",
              "      <td>동남아시아와 같은 다른 노선은 최근 사람들의 여행 감정의 하락에 영향을 받았습니다.</td>\n",
              "      <td>3.600000</td>\n",
              "      <td>2.657490</td>\n",
              "      <td>0.942510</td>\n",
              "      <td>True</td>\n",
              "      <td>False</td>\n",
              "    </tr>\n",
              "    <tr>\n",
              "      <th>10</th>\n",
              "      <td>라디오 듣는 건 금지되어있어</td>\n",
              "      <td>라디오 듣는건 삼가주세요</td>\n",
              "      <td>2.500000</td>\n",
              "      <td>3.843205</td>\n",
              "      <td>-1.343205</td>\n",
              "      <td>False</td>\n",
              "      <td>True</td>\n",
              "    </tr>\n",
              "    <tr>\n",
              "      <th>20</th>\n",
              "      <td>덕분에 너무 즐거웠던 여행이 되었습니다!</td>\n",
              "      <td>덕분에 즐거운 일본 여행이 되었습니다.</td>\n",
              "      <td>2.833333</td>\n",
              "      <td>3.998187</td>\n",
              "      <td>-1.164853</td>\n",
              "      <td>False</td>\n",
              "      <td>True</td>\n",
              "    </tr>\n",
              "    <tr>\n",
              "      <th>21</th>\n",
              "      <td>와이키키 중심지로 이동이 편리한 위치에 있습니다.</td>\n",
              "      <td>와이키키 센터에 편리하게 위치해 있습니다.</td>\n",
              "      <td>2.857143</td>\n",
              "      <td>3.340758</td>\n",
              "      <td>-0.483615</td>\n",
              "      <td>False</td>\n",
              "      <td>True</td>\n",
              "    </tr>\n",
              "    <tr>\n",
              "      <th>25</th>\n",
              "      <td>집안에서 효율적으로 환기하고 싶을 때 뭐가 필요해?</td>\n",
              "      <td>발코니말고 집안에서 효율적으로 환기할 때 필요한 것은?</td>\n",
              "      <td>2.666667</td>\n",
              "      <td>3.322337</td>\n",
              "      <td>-0.655670</td>\n",
              "      <td>False</td>\n",
              "      <td>True</td>\n",
              "    </tr>\n",
              "    <tr>\n",
              "      <th>...</th>\n",
              "      <td>...</td>\n",
              "      <td>...</td>\n",
              "      <td>...</td>\n",
              "      <td>...</td>\n",
              "      <td>...</td>\n",
              "      <td>...</td>\n",
              "      <td>...</td>\n",
              "    </tr>\n",
              "    <tr>\n",
              "      <th>505</th>\n",
              "      <td>한메일 계정을 더 만드는건 유료니 그만 만들어</td>\n",
              "      <td>한메일 계정은 그만 만들고 네이버 계정으로 만들어</td>\n",
              "      <td>2.428571</td>\n",
              "      <td>3.097188</td>\n",
              "      <td>-0.668617</td>\n",
              "      <td>False</td>\n",
              "      <td>True</td>\n",
              "    </tr>\n",
              "    <tr>\n",
              "      <th>507</th>\n",
              "      <td>특히 직불금 도입 과정에서 중소규모 농가를 더 배려했습니다.</td>\n",
              "      <td>특히, 중소 농부들은 직불금을 도입하는 과정에서 더 많은 배려를 했습니다.</td>\n",
              "      <td>2.714286</td>\n",
              "      <td>4.142483</td>\n",
              "      <td>-1.428197</td>\n",
              "      <td>False</td>\n",
              "      <td>True</td>\n",
              "    </tr>\n",
              "    <tr>\n",
              "      <th>508</th>\n",
              "      <td>지금 집안 습도가 얼마인지 확인할 수 있게 도와줘</td>\n",
              "      <td>집안 습도 어떤지 보고싶을 때는 뭐라고 해야하니?</td>\n",
              "      <td>3.166667</td>\n",
              "      <td>0.858109</td>\n",
              "      <td>2.308557</td>\n",
              "      <td>True</td>\n",
              "      <td>False</td>\n",
              "    </tr>\n",
              "    <tr>\n",
              "      <th>514</th>\n",
              "      <td>문체부는 이를 연차적으로 확대, 시행해 학교운동부와 스포츠클럽 간의 연계를 강화한다.</td>\n",
              "      <td>문화체육관광부는 학교스포츠학과와 스포츠클럽의 연계성을 강화하기 위해 매년 이 프로그...</td>\n",
              "      <td>2.200000</td>\n",
              "      <td>3.816726</td>\n",
              "      <td>-1.616726</td>\n",
              "      <td>False</td>\n",
              "      <td>True</td>\n",
              "    </tr>\n",
              "    <tr>\n",
              "      <th>515</th>\n",
              "      <td>일단 정확한 정보와 빠른 답변이 정말 좋았습니다.</td>\n",
              "      <td>호스트의 빠른 답변과 유용한 정보들이 정말 좋습니다.</td>\n",
              "      <td>2.833333</td>\n",
              "      <td>3.301589</td>\n",
              "      <td>-0.468256</td>\n",
              "      <td>False</td>\n",
              "      <td>True</td>\n",
              "    </tr>\n",
              "  </tbody>\n",
              "</table>\n",
              "<p>89 rows × 7 columns</p>\n",
              "</div>\n",
              "      <button class=\"colab-df-convert\" onclick=\"convertToInteractive('df-6da4f0cf-a687-4220-aa74-a2cb887ce196')\"\n",
              "              title=\"Convert this dataframe to an interactive table.\"\n",
              "              style=\"display:none;\">\n",
              "        \n",
              "  <svg xmlns=\"http://www.w3.org/2000/svg\" height=\"24px\"viewBox=\"0 0 24 24\"\n",
              "       width=\"24px\">\n",
              "    <path d=\"M0 0h24v24H0V0z\" fill=\"none\"/>\n",
              "    <path d=\"M18.56 5.44l.94 2.06.94-2.06 2.06-.94-2.06-.94-.94-2.06-.94 2.06-2.06.94zm-11 1L8.5 8.5l.94-2.06 2.06-.94-2.06-.94L8.5 2.5l-.94 2.06-2.06.94zm10 10l.94 2.06.94-2.06 2.06-.94-2.06-.94-.94-2.06-.94 2.06-2.06.94z\"/><path d=\"M17.41 7.96l-1.37-1.37c-.4-.4-.92-.59-1.43-.59-.52 0-1.04.2-1.43.59L10.3 9.45l-7.72 7.72c-.78.78-.78 2.05 0 2.83L4 21.41c.39.39.9.59 1.41.59.51 0 1.02-.2 1.41-.59l7.78-7.78 2.81-2.81c.8-.78.8-2.07 0-2.86zM5.41 20L4 18.59l7.72-7.72 1.47 1.35L5.41 20z\"/>\n",
              "  </svg>\n",
              "      </button>\n",
              "      \n",
              "  <style>\n",
              "    .colab-df-container {\n",
              "      display:flex;\n",
              "      flex-wrap:wrap;\n",
              "      gap: 12px;\n",
              "    }\n",
              "\n",
              "    .colab-df-convert {\n",
              "      background-color: #E8F0FE;\n",
              "      border: none;\n",
              "      border-radius: 50%;\n",
              "      cursor: pointer;\n",
              "      display: none;\n",
              "      fill: #1967D2;\n",
              "      height: 32px;\n",
              "      padding: 0 0 0 0;\n",
              "      width: 32px;\n",
              "    }\n",
              "\n",
              "    .colab-df-convert:hover {\n",
              "      background-color: #E2EBFA;\n",
              "      box-shadow: 0px 1px 2px rgba(60, 64, 67, 0.3), 0px 1px 3px 1px rgba(60, 64, 67, 0.15);\n",
              "      fill: #174EA6;\n",
              "    }\n",
              "\n",
              "    [theme=dark] .colab-df-convert {\n",
              "      background-color: #3B4455;\n",
              "      fill: #D2E3FC;\n",
              "    }\n",
              "\n",
              "    [theme=dark] .colab-df-convert:hover {\n",
              "      background-color: #434B5C;\n",
              "      box-shadow: 0px 1px 3px 1px rgba(0, 0, 0, 0.15);\n",
              "      filter: drop-shadow(0px 1px 2px rgba(0, 0, 0, 0.3));\n",
              "      fill: #FFFFFF;\n",
              "    }\n",
              "  </style>\n",
              "\n",
              "      <script>\n",
              "        const buttonEl =\n",
              "          document.querySelector('#df-6da4f0cf-a687-4220-aa74-a2cb887ce196 button.colab-df-convert');\n",
              "        buttonEl.style.display =\n",
              "          google.colab.kernel.accessAllowed ? 'block' : 'none';\n",
              "\n",
              "        async function convertToInteractive(key) {\n",
              "          const element = document.querySelector('#df-6da4f0cf-a687-4220-aa74-a2cb887ce196');\n",
              "          const dataTable =\n",
              "            await google.colab.kernel.invokeFunction('convertToInteractive',\n",
              "                                                     [key], {});\n",
              "          if (!dataTable) return;\n",
              "\n",
              "          const docLinkHtml = 'Like what you see? Visit the ' +\n",
              "            '<a target=\"_blank\" href=https://colab.research.google.com/notebooks/data_table.ipynb>data table notebook</a>'\n",
              "            + ' to learn more about interactive tables.';\n",
              "          element.innerHTML = '';\n",
              "          dataTable['output_type'] = 'display_data';\n",
              "          await google.colab.output.renderOutput(dataTable, element);\n",
              "          const docLink = document.createElement('div');\n",
              "          docLink.innerHTML = docLinkHtml;\n",
              "          element.appendChild(docLink);\n",
              "        }\n",
              "      </script>\n",
              "    </div>\n",
              "  </div>\n",
              "  "
            ]
          },
          "metadata": {},
          "execution_count": 58
        }
      ]
    },
    {
      "cell_type": "code",
      "source": [
        "# 예측값과 실제값이 1.5이상 차이나는 것\n",
        "df[df['distance'] >= 1.5].index"
      ],
      "metadata": {
        "colab": {
          "base_uri": "https://localhost:8080/"
        },
        "id": "jydZdoUtxDmW",
        "outputId": "5cb793e1-c4a3-4ff7-be9b-b93064ea1954"
      },
      "execution_count": null,
      "outputs": [
        {
          "output_type": "execute_result",
          "data": {
            "text/plain": [
              "Int64Index([60, 108, 149, 170, 177, 193, 234, 248, 307, 439, 446, 492, 508], dtype='int64')"
            ]
          },
          "metadata": {},
          "execution_count": 59
        }
      ]
    },
    {
      "cell_type": "code",
      "source": [
        "from sklearn.metrics import accuracy_score, recall_score, precision_score, f1_score\n",
        "from scipy.stats import pearsonr\n",
        "print(f'정확도 : {accuracy_score(df.blabel, df.b_pred):.4f}')\n",
        "print(f'recall : {recall_score(df.blabel, df.b_pred):.4f}')\n",
        "print(f'precision : {precision_score(df.blabel, df.b_pred):.4f}')\n",
        "print(f'f1_score : {f1_score(df.blabel, df.b_pred):.4f}')\n",
        "print(f\"pearsonr : {pearsonr(df['real_label'], df.probs)[0]:.4f}\")"
      ],
      "metadata": {
        "id": "qMNG-xENPpey",
        "outputId": "3229a94d-4970-447a-8432-8d83e19122a2",
        "colab": {
          "base_uri": "https://localhost:8080/"
        }
      },
      "execution_count": null,
      "outputs": [
        {
          "output_type": "stream",
          "name": "stdout",
          "text": [
            "정확도 : 0.8285\n",
            "recall : 0.8591\n",
            "precision : 0.7652\n",
            "f1_score : 0.8094\n",
            "pearsonr : 0.8116\n"
          ]
        }
      ]
    },
    {
      "cell_type": "code",
      "source": [
        "df.to_csv('klue-dataset-validation-prediction.csv')"
      ],
      "metadata": {
        "id": "5MlDLIOvmbH1"
      },
      "execution_count": null,
      "outputs": []
    }
  ]
}