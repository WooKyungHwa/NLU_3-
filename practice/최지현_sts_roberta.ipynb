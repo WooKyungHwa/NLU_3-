{
  "nbformat": 4,
  "nbformat_minor": 0,
  "metadata": {
    "colab": {
      "name": "최지현_sts.ipynb",
      "provenance": [],
      "collapsed_sections": [],
      "machine_shape": "hm",
      "authorship_tag": "ABX9TyO06qvGvo5aUi1tc/L1bdyQ",
      "include_colab_link": true
    },
    "kernelspec": {
      "name": "python3",
      "display_name": "Python 3"
    },
    "language_info": {
      "name": "python"
    },
    "accelerator": "GPU",
    "widgets": {
      "application/vnd.jupyter.widget-state+json": {
        "077fd340d3f340f4ae628d502aa1c6c9": {
          "model_module": "@jupyter-widgets/controls",
          "model_name": "HBoxModel",
          "model_module_version": "1.5.0",
          "state": {
            "_dom_classes": [],
            "_model_module": "@jupyter-widgets/controls",
            "_model_module_version": "1.5.0",
            "_model_name": "HBoxModel",
            "_view_count": null,
            "_view_module": "@jupyter-widgets/controls",
            "_view_module_version": "1.5.0",
            "_view_name": "HBoxView",
            "box_style": "",
            "children": [
              "IPY_MODEL_1e902d95dc324925ace6366e9ad0dae0",
              "IPY_MODEL_c2612dce67a145c9ad6a8ea7759c45c3",
              "IPY_MODEL_e0c890783dfa4d60b9a3cb53b8208e98"
            ],
            "layout": "IPY_MODEL_81e50aa5674840a7b9e13d51fa9541a8"
          }
        },
        "1e902d95dc324925ace6366e9ad0dae0": {
          "model_module": "@jupyter-widgets/controls",
          "model_name": "HTMLModel",
          "model_module_version": "1.5.0",
          "state": {
            "_dom_classes": [],
            "_model_module": "@jupyter-widgets/controls",
            "_model_module_version": "1.5.0",
            "_model_name": "HTMLModel",
            "_view_count": null,
            "_view_module": "@jupyter-widgets/controls",
            "_view_module_version": "1.5.0",
            "_view_name": "HTMLView",
            "description": "",
            "description_tooltip": null,
            "layout": "IPY_MODEL_b08dc138a0644dd7ac0cfaddb0053b62",
            "placeholder": "​",
            "style": "IPY_MODEL_e5b1b402da984fb7949d999a1c525c36",
            "value": "Downloading builder script: "
          }
        },
        "c2612dce67a145c9ad6a8ea7759c45c3": {
          "model_module": "@jupyter-widgets/controls",
          "model_name": "FloatProgressModel",
          "model_module_version": "1.5.0",
          "state": {
            "_dom_classes": [],
            "_model_module": "@jupyter-widgets/controls",
            "_model_module_version": "1.5.0",
            "_model_name": "FloatProgressModel",
            "_view_count": null,
            "_view_module": "@jupyter-widgets/controls",
            "_view_module_version": "1.5.0",
            "_view_name": "ProgressView",
            "bar_style": "success",
            "description": "",
            "description_tooltip": null,
            "layout": "IPY_MODEL_cfb686a05a3e4993aea936fac2b597b3",
            "max": 5206,
            "min": 0,
            "orientation": "horizontal",
            "style": "IPY_MODEL_63791f5f86f247dab2792acf7de3c71b",
            "value": 5206
          }
        },
        "e0c890783dfa4d60b9a3cb53b8208e98": {
          "model_module": "@jupyter-widgets/controls",
          "model_name": "HTMLModel",
          "model_module_version": "1.5.0",
          "state": {
            "_dom_classes": [],
            "_model_module": "@jupyter-widgets/controls",
            "_model_module_version": "1.5.0",
            "_model_name": "HTMLModel",
            "_view_count": null,
            "_view_module": "@jupyter-widgets/controls",
            "_view_module_version": "1.5.0",
            "_view_name": "HTMLView",
            "description": "",
            "description_tooltip": null,
            "layout": "IPY_MODEL_d04bb960532b4a17bca276a8274044a7",
            "placeholder": "​",
            "style": "IPY_MODEL_731e0b539d8a47a1afdf8b6cfe34f81f",
            "value": " 23.3k/? [00:00&lt;00:00, 744kB/s]"
          }
        },
        "81e50aa5674840a7b9e13d51fa9541a8": {
          "model_module": "@jupyter-widgets/base",
          "model_name": "LayoutModel",
          "model_module_version": "1.2.0",
          "state": {
            "_model_module": "@jupyter-widgets/base",
            "_model_module_version": "1.2.0",
            "_model_name": "LayoutModel",
            "_view_count": null,
            "_view_module": "@jupyter-widgets/base",
            "_view_module_version": "1.2.0",
            "_view_name": "LayoutView",
            "align_content": null,
            "align_items": null,
            "align_self": null,
            "border": null,
            "bottom": null,
            "display": null,
            "flex": null,
            "flex_flow": null,
            "grid_area": null,
            "grid_auto_columns": null,
            "grid_auto_flow": null,
            "grid_auto_rows": null,
            "grid_column": null,
            "grid_gap": null,
            "grid_row": null,
            "grid_template_areas": null,
            "grid_template_columns": null,
            "grid_template_rows": null,
            "height": null,
            "justify_content": null,
            "justify_items": null,
            "left": null,
            "margin": null,
            "max_height": null,
            "max_width": null,
            "min_height": null,
            "min_width": null,
            "object_fit": null,
            "object_position": null,
            "order": null,
            "overflow": null,
            "overflow_x": null,
            "overflow_y": null,
            "padding": null,
            "right": null,
            "top": null,
            "visibility": null,
            "width": null
          }
        },
        "b08dc138a0644dd7ac0cfaddb0053b62": {
          "model_module": "@jupyter-widgets/base",
          "model_name": "LayoutModel",
          "model_module_version": "1.2.0",
          "state": {
            "_model_module": "@jupyter-widgets/base",
            "_model_module_version": "1.2.0",
            "_model_name": "LayoutModel",
            "_view_count": null,
            "_view_module": "@jupyter-widgets/base",
            "_view_module_version": "1.2.0",
            "_view_name": "LayoutView",
            "align_content": null,
            "align_items": null,
            "align_self": null,
            "border": null,
            "bottom": null,
            "display": null,
            "flex": null,
            "flex_flow": null,
            "grid_area": null,
            "grid_auto_columns": null,
            "grid_auto_flow": null,
            "grid_auto_rows": null,
            "grid_column": null,
            "grid_gap": null,
            "grid_row": null,
            "grid_template_areas": null,
            "grid_template_columns": null,
            "grid_template_rows": null,
            "height": null,
            "justify_content": null,
            "justify_items": null,
            "left": null,
            "margin": null,
            "max_height": null,
            "max_width": null,
            "min_height": null,
            "min_width": null,
            "object_fit": null,
            "object_position": null,
            "order": null,
            "overflow": null,
            "overflow_x": null,
            "overflow_y": null,
            "padding": null,
            "right": null,
            "top": null,
            "visibility": null,
            "width": null
          }
        },
        "e5b1b402da984fb7949d999a1c525c36": {
          "model_module": "@jupyter-widgets/controls",
          "model_name": "DescriptionStyleModel",
          "model_module_version": "1.5.0",
          "state": {
            "_model_module": "@jupyter-widgets/controls",
            "_model_module_version": "1.5.0",
            "_model_name": "DescriptionStyleModel",
            "_view_count": null,
            "_view_module": "@jupyter-widgets/base",
            "_view_module_version": "1.2.0",
            "_view_name": "StyleView",
            "description_width": ""
          }
        },
        "cfb686a05a3e4993aea936fac2b597b3": {
          "model_module": "@jupyter-widgets/base",
          "model_name": "LayoutModel",
          "model_module_version": "1.2.0",
          "state": {
            "_model_module": "@jupyter-widgets/base",
            "_model_module_version": "1.2.0",
            "_model_name": "LayoutModel",
            "_view_count": null,
            "_view_module": "@jupyter-widgets/base",
            "_view_module_version": "1.2.0",
            "_view_name": "LayoutView",
            "align_content": null,
            "align_items": null,
            "align_self": null,
            "border": null,
            "bottom": null,
            "display": null,
            "flex": null,
            "flex_flow": null,
            "grid_area": null,
            "grid_auto_columns": null,
            "grid_auto_flow": null,
            "grid_auto_rows": null,
            "grid_column": null,
            "grid_gap": null,
            "grid_row": null,
            "grid_template_areas": null,
            "grid_template_columns": null,
            "grid_template_rows": null,
            "height": null,
            "justify_content": null,
            "justify_items": null,
            "left": null,
            "margin": null,
            "max_height": null,
            "max_width": null,
            "min_height": null,
            "min_width": null,
            "object_fit": null,
            "object_position": null,
            "order": null,
            "overflow": null,
            "overflow_x": null,
            "overflow_y": null,
            "padding": null,
            "right": null,
            "top": null,
            "visibility": null,
            "width": null
          }
        },
        "63791f5f86f247dab2792acf7de3c71b": {
          "model_module": "@jupyter-widgets/controls",
          "model_name": "ProgressStyleModel",
          "model_module_version": "1.5.0",
          "state": {
            "_model_module": "@jupyter-widgets/controls",
            "_model_module_version": "1.5.0",
            "_model_name": "ProgressStyleModel",
            "_view_count": null,
            "_view_module": "@jupyter-widgets/base",
            "_view_module_version": "1.2.0",
            "_view_name": "StyleView",
            "bar_color": null,
            "description_width": ""
          }
        },
        "d04bb960532b4a17bca276a8274044a7": {
          "model_module": "@jupyter-widgets/base",
          "model_name": "LayoutModel",
          "model_module_version": "1.2.0",
          "state": {
            "_model_module": "@jupyter-widgets/base",
            "_model_module_version": "1.2.0",
            "_model_name": "LayoutModel",
            "_view_count": null,
            "_view_module": "@jupyter-widgets/base",
            "_view_module_version": "1.2.0",
            "_view_name": "LayoutView",
            "align_content": null,
            "align_items": null,
            "align_self": null,
            "border": null,
            "bottom": null,
            "display": null,
            "flex": null,
            "flex_flow": null,
            "grid_area": null,
            "grid_auto_columns": null,
            "grid_auto_flow": null,
            "grid_auto_rows": null,
            "grid_column": null,
            "grid_gap": null,
            "grid_row": null,
            "grid_template_areas": null,
            "grid_template_columns": null,
            "grid_template_rows": null,
            "height": null,
            "justify_content": null,
            "justify_items": null,
            "left": null,
            "margin": null,
            "max_height": null,
            "max_width": null,
            "min_height": null,
            "min_width": null,
            "object_fit": null,
            "object_position": null,
            "order": null,
            "overflow": null,
            "overflow_x": null,
            "overflow_y": null,
            "padding": null,
            "right": null,
            "top": null,
            "visibility": null,
            "width": null
          }
        },
        "731e0b539d8a47a1afdf8b6cfe34f81f": {
          "model_module": "@jupyter-widgets/controls",
          "model_name": "DescriptionStyleModel",
          "model_module_version": "1.5.0",
          "state": {
            "_model_module": "@jupyter-widgets/controls",
            "_model_module_version": "1.5.0",
            "_model_name": "DescriptionStyleModel",
            "_view_count": null,
            "_view_module": "@jupyter-widgets/base",
            "_view_module_version": "1.2.0",
            "_view_name": "StyleView",
            "description_width": ""
          }
        },
        "331bcd3863034778aaa0c4f55f22c37c": {
          "model_module": "@jupyter-widgets/controls",
          "model_name": "HBoxModel",
          "model_module_version": "1.5.0",
          "state": {
            "_dom_classes": [],
            "_model_module": "@jupyter-widgets/controls",
            "_model_module_version": "1.5.0",
            "_model_name": "HBoxModel",
            "_view_count": null,
            "_view_module": "@jupyter-widgets/controls",
            "_view_module_version": "1.5.0",
            "_view_name": "HBoxView",
            "box_style": "",
            "children": [
              "IPY_MODEL_293236cca18b48a1857341247efae467",
              "IPY_MODEL_4c33da5eeb3945ff8cceaa26b523bbc5",
              "IPY_MODEL_d9565dc6880b417aa1543e2664fe5ed5"
            ],
            "layout": "IPY_MODEL_b4983df89a6645fea5f6730851d53991"
          }
        },
        "293236cca18b48a1857341247efae467": {
          "model_module": "@jupyter-widgets/controls",
          "model_name": "HTMLModel",
          "model_module_version": "1.5.0",
          "state": {
            "_dom_classes": [],
            "_model_module": "@jupyter-widgets/controls",
            "_model_module_version": "1.5.0",
            "_model_name": "HTMLModel",
            "_view_count": null,
            "_view_module": "@jupyter-widgets/controls",
            "_view_module_version": "1.5.0",
            "_view_name": "HTMLView",
            "description": "",
            "description_tooltip": null,
            "layout": "IPY_MODEL_615eb32f590c48cba423b2818a579e1d",
            "placeholder": "​",
            "style": "IPY_MODEL_c4453631a0a34b0ea68d8f11221cbf01",
            "value": "Downloading metadata: "
          }
        },
        "4c33da5eeb3945ff8cceaa26b523bbc5": {
          "model_module": "@jupyter-widgets/controls",
          "model_name": "FloatProgressModel",
          "model_module_version": "1.5.0",
          "state": {
            "_dom_classes": [],
            "_model_module": "@jupyter-widgets/controls",
            "_model_module_version": "1.5.0",
            "_model_name": "FloatProgressModel",
            "_view_count": null,
            "_view_module": "@jupyter-widgets/controls",
            "_view_module_version": "1.5.0",
            "_view_name": "ProgressView",
            "bar_style": "success",
            "description": "",
            "description_tooltip": null,
            "layout": "IPY_MODEL_0ad078ff13274215ab628022ef15b300",
            "max": 2932,
            "min": 0,
            "orientation": "horizontal",
            "style": "IPY_MODEL_fbe28b8b22d14d18bb9339e307a4439d",
            "value": 2932
          }
        },
        "d9565dc6880b417aa1543e2664fe5ed5": {
          "model_module": "@jupyter-widgets/controls",
          "model_name": "HTMLModel",
          "model_module_version": "1.5.0",
          "state": {
            "_dom_classes": [],
            "_model_module": "@jupyter-widgets/controls",
            "_model_module_version": "1.5.0",
            "_model_name": "HTMLModel",
            "_view_count": null,
            "_view_module": "@jupyter-widgets/controls",
            "_view_module_version": "1.5.0",
            "_view_name": "HTMLView",
            "description": "",
            "description_tooltip": null,
            "layout": "IPY_MODEL_49e9f19cc40749539c235198873bd565",
            "placeholder": "​",
            "style": "IPY_MODEL_b079538f3c5f441b822756dc32b45b75",
            "value": " 22.7k/? [00:00&lt;00:00, 760kB/s]"
          }
        },
        "b4983df89a6645fea5f6730851d53991": {
          "model_module": "@jupyter-widgets/base",
          "model_name": "LayoutModel",
          "model_module_version": "1.2.0",
          "state": {
            "_model_module": "@jupyter-widgets/base",
            "_model_module_version": "1.2.0",
            "_model_name": "LayoutModel",
            "_view_count": null,
            "_view_module": "@jupyter-widgets/base",
            "_view_module_version": "1.2.0",
            "_view_name": "LayoutView",
            "align_content": null,
            "align_items": null,
            "align_self": null,
            "border": null,
            "bottom": null,
            "display": null,
            "flex": null,
            "flex_flow": null,
            "grid_area": null,
            "grid_auto_columns": null,
            "grid_auto_flow": null,
            "grid_auto_rows": null,
            "grid_column": null,
            "grid_gap": null,
            "grid_row": null,
            "grid_template_areas": null,
            "grid_template_columns": null,
            "grid_template_rows": null,
            "height": null,
            "justify_content": null,
            "justify_items": null,
            "left": null,
            "margin": null,
            "max_height": null,
            "max_width": null,
            "min_height": null,
            "min_width": null,
            "object_fit": null,
            "object_position": null,
            "order": null,
            "overflow": null,
            "overflow_x": null,
            "overflow_y": null,
            "padding": null,
            "right": null,
            "top": null,
            "visibility": null,
            "width": null
          }
        },
        "615eb32f590c48cba423b2818a579e1d": {
          "model_module": "@jupyter-widgets/base",
          "model_name": "LayoutModel",
          "model_module_version": "1.2.0",
          "state": {
            "_model_module": "@jupyter-widgets/base",
            "_model_module_version": "1.2.0",
            "_model_name": "LayoutModel",
            "_view_count": null,
            "_view_module": "@jupyter-widgets/base",
            "_view_module_version": "1.2.0",
            "_view_name": "LayoutView",
            "align_content": null,
            "align_items": null,
            "align_self": null,
            "border": null,
            "bottom": null,
            "display": null,
            "flex": null,
            "flex_flow": null,
            "grid_area": null,
            "grid_auto_columns": null,
            "grid_auto_flow": null,
            "grid_auto_rows": null,
            "grid_column": null,
            "grid_gap": null,
            "grid_row": null,
            "grid_template_areas": null,
            "grid_template_columns": null,
            "grid_template_rows": null,
            "height": null,
            "justify_content": null,
            "justify_items": null,
            "left": null,
            "margin": null,
            "max_height": null,
            "max_width": null,
            "min_height": null,
            "min_width": null,
            "object_fit": null,
            "object_position": null,
            "order": null,
            "overflow": null,
            "overflow_x": null,
            "overflow_y": null,
            "padding": null,
            "right": null,
            "top": null,
            "visibility": null,
            "width": null
          }
        },
        "c4453631a0a34b0ea68d8f11221cbf01": {
          "model_module": "@jupyter-widgets/controls",
          "model_name": "DescriptionStyleModel",
          "model_module_version": "1.5.0",
          "state": {
            "_model_module": "@jupyter-widgets/controls",
            "_model_module_version": "1.5.0",
            "_model_name": "DescriptionStyleModel",
            "_view_count": null,
            "_view_module": "@jupyter-widgets/base",
            "_view_module_version": "1.2.0",
            "_view_name": "StyleView",
            "description_width": ""
          }
        },
        "0ad078ff13274215ab628022ef15b300": {
          "model_module": "@jupyter-widgets/base",
          "model_name": "LayoutModel",
          "model_module_version": "1.2.0",
          "state": {
            "_model_module": "@jupyter-widgets/base",
            "_model_module_version": "1.2.0",
            "_model_name": "LayoutModel",
            "_view_count": null,
            "_view_module": "@jupyter-widgets/base",
            "_view_module_version": "1.2.0",
            "_view_name": "LayoutView",
            "align_content": null,
            "align_items": null,
            "align_self": null,
            "border": null,
            "bottom": null,
            "display": null,
            "flex": null,
            "flex_flow": null,
            "grid_area": null,
            "grid_auto_columns": null,
            "grid_auto_flow": null,
            "grid_auto_rows": null,
            "grid_column": null,
            "grid_gap": null,
            "grid_row": null,
            "grid_template_areas": null,
            "grid_template_columns": null,
            "grid_template_rows": null,
            "height": null,
            "justify_content": null,
            "justify_items": null,
            "left": null,
            "margin": null,
            "max_height": null,
            "max_width": null,
            "min_height": null,
            "min_width": null,
            "object_fit": null,
            "object_position": null,
            "order": null,
            "overflow": null,
            "overflow_x": null,
            "overflow_y": null,
            "padding": null,
            "right": null,
            "top": null,
            "visibility": null,
            "width": null
          }
        },
        "fbe28b8b22d14d18bb9339e307a4439d": {
          "model_module": "@jupyter-widgets/controls",
          "model_name": "ProgressStyleModel",
          "model_module_version": "1.5.0",
          "state": {
            "_model_module": "@jupyter-widgets/controls",
            "_model_module_version": "1.5.0",
            "_model_name": "ProgressStyleModel",
            "_view_count": null,
            "_view_module": "@jupyter-widgets/base",
            "_view_module_version": "1.2.0",
            "_view_name": "StyleView",
            "bar_color": null,
            "description_width": ""
          }
        },
        "49e9f19cc40749539c235198873bd565": {
          "model_module": "@jupyter-widgets/base",
          "model_name": "LayoutModel",
          "model_module_version": "1.2.0",
          "state": {
            "_model_module": "@jupyter-widgets/base",
            "_model_module_version": "1.2.0",
            "_model_name": "LayoutModel",
            "_view_count": null,
            "_view_module": "@jupyter-widgets/base",
            "_view_module_version": "1.2.0",
            "_view_name": "LayoutView",
            "align_content": null,
            "align_items": null,
            "align_self": null,
            "border": null,
            "bottom": null,
            "display": null,
            "flex": null,
            "flex_flow": null,
            "grid_area": null,
            "grid_auto_columns": null,
            "grid_auto_flow": null,
            "grid_auto_rows": null,
            "grid_column": null,
            "grid_gap": null,
            "grid_row": null,
            "grid_template_areas": null,
            "grid_template_columns": null,
            "grid_template_rows": null,
            "height": null,
            "justify_content": null,
            "justify_items": null,
            "left": null,
            "margin": null,
            "max_height": null,
            "max_width": null,
            "min_height": null,
            "min_width": null,
            "object_fit": null,
            "object_position": null,
            "order": null,
            "overflow": null,
            "overflow_x": null,
            "overflow_y": null,
            "padding": null,
            "right": null,
            "top": null,
            "visibility": null,
            "width": null
          }
        },
        "b079538f3c5f441b822756dc32b45b75": {
          "model_module": "@jupyter-widgets/controls",
          "model_name": "DescriptionStyleModel",
          "model_module_version": "1.5.0",
          "state": {
            "_model_module": "@jupyter-widgets/controls",
            "_model_module_version": "1.5.0",
            "_model_name": "DescriptionStyleModel",
            "_view_count": null,
            "_view_module": "@jupyter-widgets/base",
            "_view_module_version": "1.2.0",
            "_view_name": "StyleView",
            "description_width": ""
          }
        },
        "35f252f1129d4280893c83fbe25b8c11": {
          "model_module": "@jupyter-widgets/controls",
          "model_name": "HBoxModel",
          "model_module_version": "1.5.0",
          "state": {
            "_dom_classes": [],
            "_model_module": "@jupyter-widgets/controls",
            "_model_module_version": "1.5.0",
            "_model_name": "HBoxModel",
            "_view_count": null,
            "_view_module": "@jupyter-widgets/controls",
            "_view_module_version": "1.5.0",
            "_view_name": "HBoxView",
            "box_style": "",
            "children": [
              "IPY_MODEL_606da54fdf314b8d8497813896c322eb",
              "IPY_MODEL_7d6337cd631b4ab5b62813e56fe5e455",
              "IPY_MODEL_147deaae35b044ac832bf63d88fb3f76"
            ],
            "layout": "IPY_MODEL_376deea76b72481fae7d3a566993ef06"
          }
        },
        "606da54fdf314b8d8497813896c322eb": {
          "model_module": "@jupyter-widgets/controls",
          "model_name": "HTMLModel",
          "model_module_version": "1.5.0",
          "state": {
            "_dom_classes": [],
            "_model_module": "@jupyter-widgets/controls",
            "_model_module_version": "1.5.0",
            "_model_name": "HTMLModel",
            "_view_count": null,
            "_view_module": "@jupyter-widgets/controls",
            "_view_module_version": "1.5.0",
            "_view_name": "HTMLView",
            "description": "",
            "description_tooltip": null,
            "layout": "IPY_MODEL_4e0a6945d7024316b8dd30efc2a67b5e",
            "placeholder": "​",
            "style": "IPY_MODEL_abe5ea21bb1e4280afd5b4786a28e3a9",
            "value": "Downloading data: 100%"
          }
        },
        "7d6337cd631b4ab5b62813e56fe5e455": {
          "model_module": "@jupyter-widgets/controls",
          "model_name": "FloatProgressModel",
          "model_module_version": "1.5.0",
          "state": {
            "_dom_classes": [],
            "_model_module": "@jupyter-widgets/controls",
            "_model_module_version": "1.5.0",
            "_model_name": "FloatProgressModel",
            "_view_count": null,
            "_view_module": "@jupyter-widgets/controls",
            "_view_module_version": "1.5.0",
            "_view_name": "ProgressView",
            "bar_style": "success",
            "description": "",
            "description_tooltip": null,
            "layout": "IPY_MODEL_d0b42a2459214923b392ab5f7515889b",
            "max": 1349875,
            "min": 0,
            "orientation": "horizontal",
            "style": "IPY_MODEL_0f9295e7725447a99de862f211521ade",
            "value": 1349875
          }
        },
        "147deaae35b044ac832bf63d88fb3f76": {
          "model_module": "@jupyter-widgets/controls",
          "model_name": "HTMLModel",
          "model_module_version": "1.5.0",
          "state": {
            "_dom_classes": [],
            "_model_module": "@jupyter-widgets/controls",
            "_model_module_version": "1.5.0",
            "_model_name": "HTMLModel",
            "_view_count": null,
            "_view_module": "@jupyter-widgets/controls",
            "_view_module_version": "1.5.0",
            "_view_name": "HTMLView",
            "description": "",
            "description_tooltip": null,
            "layout": "IPY_MODEL_78fb5e051471453e82ccbf24a71558a3",
            "placeholder": "​",
            "style": "IPY_MODEL_317a1f871d1647e09c26c39727c73eb0",
            "value": " 1.35M/1.35M [00:01&lt;00:00, 835kB/s]"
          }
        },
        "376deea76b72481fae7d3a566993ef06": {
          "model_module": "@jupyter-widgets/base",
          "model_name": "LayoutModel",
          "model_module_version": "1.2.0",
          "state": {
            "_model_module": "@jupyter-widgets/base",
            "_model_module_version": "1.2.0",
            "_model_name": "LayoutModel",
            "_view_count": null,
            "_view_module": "@jupyter-widgets/base",
            "_view_module_version": "1.2.0",
            "_view_name": "LayoutView",
            "align_content": null,
            "align_items": null,
            "align_self": null,
            "border": null,
            "bottom": null,
            "display": null,
            "flex": null,
            "flex_flow": null,
            "grid_area": null,
            "grid_auto_columns": null,
            "grid_auto_flow": null,
            "grid_auto_rows": null,
            "grid_column": null,
            "grid_gap": null,
            "grid_row": null,
            "grid_template_areas": null,
            "grid_template_columns": null,
            "grid_template_rows": null,
            "height": null,
            "justify_content": null,
            "justify_items": null,
            "left": null,
            "margin": null,
            "max_height": null,
            "max_width": null,
            "min_height": null,
            "min_width": null,
            "object_fit": null,
            "object_position": null,
            "order": null,
            "overflow": null,
            "overflow_x": null,
            "overflow_y": null,
            "padding": null,
            "right": null,
            "top": null,
            "visibility": null,
            "width": null
          }
        },
        "4e0a6945d7024316b8dd30efc2a67b5e": {
          "model_module": "@jupyter-widgets/base",
          "model_name": "LayoutModel",
          "model_module_version": "1.2.0",
          "state": {
            "_model_module": "@jupyter-widgets/base",
            "_model_module_version": "1.2.0",
            "_model_name": "LayoutModel",
            "_view_count": null,
            "_view_module": "@jupyter-widgets/base",
            "_view_module_version": "1.2.0",
            "_view_name": "LayoutView",
            "align_content": null,
            "align_items": null,
            "align_self": null,
            "border": null,
            "bottom": null,
            "display": null,
            "flex": null,
            "flex_flow": null,
            "grid_area": null,
            "grid_auto_columns": null,
            "grid_auto_flow": null,
            "grid_auto_rows": null,
            "grid_column": null,
            "grid_gap": null,
            "grid_row": null,
            "grid_template_areas": null,
            "grid_template_columns": null,
            "grid_template_rows": null,
            "height": null,
            "justify_content": null,
            "justify_items": null,
            "left": null,
            "margin": null,
            "max_height": null,
            "max_width": null,
            "min_height": null,
            "min_width": null,
            "object_fit": null,
            "object_position": null,
            "order": null,
            "overflow": null,
            "overflow_x": null,
            "overflow_y": null,
            "padding": null,
            "right": null,
            "top": null,
            "visibility": null,
            "width": null
          }
        },
        "abe5ea21bb1e4280afd5b4786a28e3a9": {
          "model_module": "@jupyter-widgets/controls",
          "model_name": "DescriptionStyleModel",
          "model_module_version": "1.5.0",
          "state": {
            "_model_module": "@jupyter-widgets/controls",
            "_model_module_version": "1.5.0",
            "_model_name": "DescriptionStyleModel",
            "_view_count": null,
            "_view_module": "@jupyter-widgets/base",
            "_view_module_version": "1.2.0",
            "_view_name": "StyleView",
            "description_width": ""
          }
        },
        "d0b42a2459214923b392ab5f7515889b": {
          "model_module": "@jupyter-widgets/base",
          "model_name": "LayoutModel",
          "model_module_version": "1.2.0",
          "state": {
            "_model_module": "@jupyter-widgets/base",
            "_model_module_version": "1.2.0",
            "_model_name": "LayoutModel",
            "_view_count": null,
            "_view_module": "@jupyter-widgets/base",
            "_view_module_version": "1.2.0",
            "_view_name": "LayoutView",
            "align_content": null,
            "align_items": null,
            "align_self": null,
            "border": null,
            "bottom": null,
            "display": null,
            "flex": null,
            "flex_flow": null,
            "grid_area": null,
            "grid_auto_columns": null,
            "grid_auto_flow": null,
            "grid_auto_rows": null,
            "grid_column": null,
            "grid_gap": null,
            "grid_row": null,
            "grid_template_areas": null,
            "grid_template_columns": null,
            "grid_template_rows": null,
            "height": null,
            "justify_content": null,
            "justify_items": null,
            "left": null,
            "margin": null,
            "max_height": null,
            "max_width": null,
            "min_height": null,
            "min_width": null,
            "object_fit": null,
            "object_position": null,
            "order": null,
            "overflow": null,
            "overflow_x": null,
            "overflow_y": null,
            "padding": null,
            "right": null,
            "top": null,
            "visibility": null,
            "width": null
          }
        },
        "0f9295e7725447a99de862f211521ade": {
          "model_module": "@jupyter-widgets/controls",
          "model_name": "ProgressStyleModel",
          "model_module_version": "1.5.0",
          "state": {
            "_model_module": "@jupyter-widgets/controls",
            "_model_module_version": "1.5.0",
            "_model_name": "ProgressStyleModel",
            "_view_count": null,
            "_view_module": "@jupyter-widgets/base",
            "_view_module_version": "1.2.0",
            "_view_name": "StyleView",
            "bar_color": null,
            "description_width": ""
          }
        },
        "78fb5e051471453e82ccbf24a71558a3": {
          "model_module": "@jupyter-widgets/base",
          "model_name": "LayoutModel",
          "model_module_version": "1.2.0",
          "state": {
            "_model_module": "@jupyter-widgets/base",
            "_model_module_version": "1.2.0",
            "_model_name": "LayoutModel",
            "_view_count": null,
            "_view_module": "@jupyter-widgets/base",
            "_view_module_version": "1.2.0",
            "_view_name": "LayoutView",
            "align_content": null,
            "align_items": null,
            "align_self": null,
            "border": null,
            "bottom": null,
            "display": null,
            "flex": null,
            "flex_flow": null,
            "grid_area": null,
            "grid_auto_columns": null,
            "grid_auto_flow": null,
            "grid_auto_rows": null,
            "grid_column": null,
            "grid_gap": null,
            "grid_row": null,
            "grid_template_areas": null,
            "grid_template_columns": null,
            "grid_template_rows": null,
            "height": null,
            "justify_content": null,
            "justify_items": null,
            "left": null,
            "margin": null,
            "max_height": null,
            "max_width": null,
            "min_height": null,
            "min_width": null,
            "object_fit": null,
            "object_position": null,
            "order": null,
            "overflow": null,
            "overflow_x": null,
            "overflow_y": null,
            "padding": null,
            "right": null,
            "top": null,
            "visibility": null,
            "width": null
          }
        },
        "317a1f871d1647e09c26c39727c73eb0": {
          "model_module": "@jupyter-widgets/controls",
          "model_name": "DescriptionStyleModel",
          "model_module_version": "1.5.0",
          "state": {
            "_model_module": "@jupyter-widgets/controls",
            "_model_module_version": "1.5.0",
            "_model_name": "DescriptionStyleModel",
            "_view_count": null,
            "_view_module": "@jupyter-widgets/base",
            "_view_module_version": "1.2.0",
            "_view_name": "StyleView",
            "description_width": ""
          }
        },
        "b122a4735a7b4879b9a2e48d3ac4948f": {
          "model_module": "@jupyter-widgets/controls",
          "model_name": "HBoxModel",
          "model_module_version": "1.5.0",
          "state": {
            "_dom_classes": [],
            "_model_module": "@jupyter-widgets/controls",
            "_model_module_version": "1.5.0",
            "_model_name": "HBoxModel",
            "_view_count": null,
            "_view_module": "@jupyter-widgets/controls",
            "_view_module_version": "1.5.0",
            "_view_name": "HBoxView",
            "box_style": "",
            "children": [
              "IPY_MODEL_a128e6ed45074d58ac38a85fb9896d1b",
              "IPY_MODEL_ccaa5a5453a443bfabb7dcac5e244b4e",
              "IPY_MODEL_80bb67feebd64814b817548c9f35dc7e"
            ],
            "layout": "IPY_MODEL_3317cc757c8f4b1f8fe3a8049f2153be"
          }
        },
        "a128e6ed45074d58ac38a85fb9896d1b": {
          "model_module": "@jupyter-widgets/controls",
          "model_name": "HTMLModel",
          "model_module_version": "1.5.0",
          "state": {
            "_dom_classes": [],
            "_model_module": "@jupyter-widgets/controls",
            "_model_module_version": "1.5.0",
            "_model_name": "HTMLModel",
            "_view_count": null,
            "_view_module": "@jupyter-widgets/controls",
            "_view_module_version": "1.5.0",
            "_view_name": "HTMLView",
            "description": "",
            "description_tooltip": null,
            "layout": "IPY_MODEL_4df703baf13647b1aa7aaefca4d79697",
            "placeholder": "​",
            "style": "IPY_MODEL_fb49c56ebae5463ab829104f312b65ea",
            "value": "Generating train split:  99%"
          }
        },
        "ccaa5a5453a443bfabb7dcac5e244b4e": {
          "model_module": "@jupyter-widgets/controls",
          "model_name": "FloatProgressModel",
          "model_module_version": "1.5.0",
          "state": {
            "_dom_classes": [],
            "_model_module": "@jupyter-widgets/controls",
            "_model_module_version": "1.5.0",
            "_model_name": "FloatProgressModel",
            "_view_count": null,
            "_view_module": "@jupyter-widgets/controls",
            "_view_module_version": "1.5.0",
            "_view_name": "ProgressView",
            "bar_style": "",
            "description": "",
            "description_tooltip": null,
            "layout": "IPY_MODEL_78fa99b7f2d04adf8c76539eb7408205",
            "max": 11668,
            "min": 0,
            "orientation": "horizontal",
            "style": "IPY_MODEL_4386220cfed844398615a1b2091e3289",
            "value": 11668
          }
        },
        "80bb67feebd64814b817548c9f35dc7e": {
          "model_module": "@jupyter-widgets/controls",
          "model_name": "HTMLModel",
          "model_module_version": "1.5.0",
          "state": {
            "_dom_classes": [],
            "_model_module": "@jupyter-widgets/controls",
            "_model_module_version": "1.5.0",
            "_model_name": "HTMLModel",
            "_view_count": null,
            "_view_module": "@jupyter-widgets/controls",
            "_view_module_version": "1.5.0",
            "_view_name": "HTMLView",
            "description": "",
            "description_tooltip": null,
            "layout": "IPY_MODEL_e063b8e9c21a4b6e8e9178299d11153c",
            "placeholder": "​",
            "style": "IPY_MODEL_eb44689ef9a04d4cbdb1a71d9f7347a4",
            "value": " 11589/11668 [00:01&lt;00:00, 11326.24 examples/s]"
          }
        },
        "3317cc757c8f4b1f8fe3a8049f2153be": {
          "model_module": "@jupyter-widgets/base",
          "model_name": "LayoutModel",
          "model_module_version": "1.2.0",
          "state": {
            "_model_module": "@jupyter-widgets/base",
            "_model_module_version": "1.2.0",
            "_model_name": "LayoutModel",
            "_view_count": null,
            "_view_module": "@jupyter-widgets/base",
            "_view_module_version": "1.2.0",
            "_view_name": "LayoutView",
            "align_content": null,
            "align_items": null,
            "align_self": null,
            "border": null,
            "bottom": null,
            "display": null,
            "flex": null,
            "flex_flow": null,
            "grid_area": null,
            "grid_auto_columns": null,
            "grid_auto_flow": null,
            "grid_auto_rows": null,
            "grid_column": null,
            "grid_gap": null,
            "grid_row": null,
            "grid_template_areas": null,
            "grid_template_columns": null,
            "grid_template_rows": null,
            "height": null,
            "justify_content": null,
            "justify_items": null,
            "left": null,
            "margin": null,
            "max_height": null,
            "max_width": null,
            "min_height": null,
            "min_width": null,
            "object_fit": null,
            "object_position": null,
            "order": null,
            "overflow": null,
            "overflow_x": null,
            "overflow_y": null,
            "padding": null,
            "right": null,
            "top": null,
            "visibility": null,
            "width": null
          }
        },
        "4df703baf13647b1aa7aaefca4d79697": {
          "model_module": "@jupyter-widgets/base",
          "model_name": "LayoutModel",
          "model_module_version": "1.2.0",
          "state": {
            "_model_module": "@jupyter-widgets/base",
            "_model_module_version": "1.2.0",
            "_model_name": "LayoutModel",
            "_view_count": null,
            "_view_module": "@jupyter-widgets/base",
            "_view_module_version": "1.2.0",
            "_view_name": "LayoutView",
            "align_content": null,
            "align_items": null,
            "align_self": null,
            "border": null,
            "bottom": null,
            "display": null,
            "flex": null,
            "flex_flow": null,
            "grid_area": null,
            "grid_auto_columns": null,
            "grid_auto_flow": null,
            "grid_auto_rows": null,
            "grid_column": null,
            "grid_gap": null,
            "grid_row": null,
            "grid_template_areas": null,
            "grid_template_columns": null,
            "grid_template_rows": null,
            "height": null,
            "justify_content": null,
            "justify_items": null,
            "left": null,
            "margin": null,
            "max_height": null,
            "max_width": null,
            "min_height": null,
            "min_width": null,
            "object_fit": null,
            "object_position": null,
            "order": null,
            "overflow": null,
            "overflow_x": null,
            "overflow_y": null,
            "padding": null,
            "right": null,
            "top": null,
            "visibility": null,
            "width": null
          }
        },
        "fb49c56ebae5463ab829104f312b65ea": {
          "model_module": "@jupyter-widgets/controls",
          "model_name": "DescriptionStyleModel",
          "model_module_version": "1.5.0",
          "state": {
            "_model_module": "@jupyter-widgets/controls",
            "_model_module_version": "1.5.0",
            "_model_name": "DescriptionStyleModel",
            "_view_count": null,
            "_view_module": "@jupyter-widgets/base",
            "_view_module_version": "1.2.0",
            "_view_name": "StyleView",
            "description_width": ""
          }
        },
        "78fa99b7f2d04adf8c76539eb7408205": {
          "model_module": "@jupyter-widgets/base",
          "model_name": "LayoutModel",
          "model_module_version": "1.2.0",
          "state": {
            "_model_module": "@jupyter-widgets/base",
            "_model_module_version": "1.2.0",
            "_model_name": "LayoutModel",
            "_view_count": null,
            "_view_module": "@jupyter-widgets/base",
            "_view_module_version": "1.2.0",
            "_view_name": "LayoutView",
            "align_content": null,
            "align_items": null,
            "align_self": null,
            "border": null,
            "bottom": null,
            "display": null,
            "flex": null,
            "flex_flow": null,
            "grid_area": null,
            "grid_auto_columns": null,
            "grid_auto_flow": null,
            "grid_auto_rows": null,
            "grid_column": null,
            "grid_gap": null,
            "grid_row": null,
            "grid_template_areas": null,
            "grid_template_columns": null,
            "grid_template_rows": null,
            "height": null,
            "justify_content": null,
            "justify_items": null,
            "left": null,
            "margin": null,
            "max_height": null,
            "max_width": null,
            "min_height": null,
            "min_width": null,
            "object_fit": null,
            "object_position": null,
            "order": null,
            "overflow": null,
            "overflow_x": null,
            "overflow_y": null,
            "padding": null,
            "right": null,
            "top": null,
            "visibility": null,
            "width": null
          }
        },
        "4386220cfed844398615a1b2091e3289": {
          "model_module": "@jupyter-widgets/controls",
          "model_name": "ProgressStyleModel",
          "model_module_version": "1.5.0",
          "state": {
            "_model_module": "@jupyter-widgets/controls",
            "_model_module_version": "1.5.0",
            "_model_name": "ProgressStyleModel",
            "_view_count": null,
            "_view_module": "@jupyter-widgets/base",
            "_view_module_version": "1.2.0",
            "_view_name": "StyleView",
            "bar_color": null,
            "description_width": ""
          }
        },
        "e063b8e9c21a4b6e8e9178299d11153c": {
          "model_module": "@jupyter-widgets/base",
          "model_name": "LayoutModel",
          "model_module_version": "1.2.0",
          "state": {
            "_model_module": "@jupyter-widgets/base",
            "_model_module_version": "1.2.0",
            "_model_name": "LayoutModel",
            "_view_count": null,
            "_view_module": "@jupyter-widgets/base",
            "_view_module_version": "1.2.0",
            "_view_name": "LayoutView",
            "align_content": null,
            "align_items": null,
            "align_self": null,
            "border": null,
            "bottom": null,
            "display": null,
            "flex": null,
            "flex_flow": null,
            "grid_area": null,
            "grid_auto_columns": null,
            "grid_auto_flow": null,
            "grid_auto_rows": null,
            "grid_column": null,
            "grid_gap": null,
            "grid_row": null,
            "grid_template_areas": null,
            "grid_template_columns": null,
            "grid_template_rows": null,
            "height": null,
            "justify_content": null,
            "justify_items": null,
            "left": null,
            "margin": null,
            "max_height": null,
            "max_width": null,
            "min_height": null,
            "min_width": null,
            "object_fit": null,
            "object_position": null,
            "order": null,
            "overflow": null,
            "overflow_x": null,
            "overflow_y": null,
            "padding": null,
            "right": null,
            "top": null,
            "visibility": null,
            "width": null
          }
        },
        "eb44689ef9a04d4cbdb1a71d9f7347a4": {
          "model_module": "@jupyter-widgets/controls",
          "model_name": "DescriptionStyleModel",
          "model_module_version": "1.5.0",
          "state": {
            "_model_module": "@jupyter-widgets/controls",
            "_model_module_version": "1.5.0",
            "_model_name": "DescriptionStyleModel",
            "_view_count": null,
            "_view_module": "@jupyter-widgets/base",
            "_view_module_version": "1.2.0",
            "_view_name": "StyleView",
            "description_width": ""
          }
        },
        "bc9fd73b650c48849b5f624106445d29": {
          "model_module": "@jupyter-widgets/controls",
          "model_name": "HBoxModel",
          "model_module_version": "1.5.0",
          "state": {
            "_dom_classes": [],
            "_model_module": "@jupyter-widgets/controls",
            "_model_module_version": "1.5.0",
            "_model_name": "HBoxModel",
            "_view_count": null,
            "_view_module": "@jupyter-widgets/controls",
            "_view_module_version": "1.5.0",
            "_view_name": "HBoxView",
            "box_style": "",
            "children": [
              "IPY_MODEL_419c1d8476d04d3c9d961a18c6c64f3b",
              "IPY_MODEL_5909e8f7492c478a92f7958482bae8bb",
              "IPY_MODEL_fc38d1b461614a91b8e64d3215e527ea"
            ],
            "layout": "IPY_MODEL_348743723bdf4c2788356df934c7b40f"
          }
        },
        "419c1d8476d04d3c9d961a18c6c64f3b": {
          "model_module": "@jupyter-widgets/controls",
          "model_name": "HTMLModel",
          "model_module_version": "1.5.0",
          "state": {
            "_dom_classes": [],
            "_model_module": "@jupyter-widgets/controls",
            "_model_module_version": "1.5.0",
            "_model_name": "HTMLModel",
            "_view_count": null,
            "_view_module": "@jupyter-widgets/controls",
            "_view_module_version": "1.5.0",
            "_view_name": "HTMLView",
            "description": "",
            "description_tooltip": null,
            "layout": "IPY_MODEL_c1800d145d9b4727a7387fdcf1f7df55",
            "placeholder": "​",
            "style": "IPY_MODEL_57e671c59ddf407ebc95acbe8061a28e",
            "value": "Generating validation split:   0%"
          }
        },
        "5909e8f7492c478a92f7958482bae8bb": {
          "model_module": "@jupyter-widgets/controls",
          "model_name": "FloatProgressModel",
          "model_module_version": "1.5.0",
          "state": {
            "_dom_classes": [],
            "_model_module": "@jupyter-widgets/controls",
            "_model_module_version": "1.5.0",
            "_model_name": "FloatProgressModel",
            "_view_count": null,
            "_view_module": "@jupyter-widgets/controls",
            "_view_module_version": "1.5.0",
            "_view_name": "ProgressView",
            "bar_style": "",
            "description": "",
            "description_tooltip": null,
            "layout": "IPY_MODEL_b7e3ac5447b34fe28a7140b4a75f8917",
            "max": 519,
            "min": 0,
            "orientation": "horizontal",
            "style": "IPY_MODEL_c451fb481ac848d3b522de6086397de0",
            "value": 519
          }
        },
        "fc38d1b461614a91b8e64d3215e527ea": {
          "model_module": "@jupyter-widgets/controls",
          "model_name": "HTMLModel",
          "model_module_version": "1.5.0",
          "state": {
            "_dom_classes": [],
            "_model_module": "@jupyter-widgets/controls",
            "_model_module_version": "1.5.0",
            "_model_name": "HTMLModel",
            "_view_count": null,
            "_view_module": "@jupyter-widgets/controls",
            "_view_module_version": "1.5.0",
            "_view_name": "HTMLView",
            "description": "",
            "description_tooltip": null,
            "layout": "IPY_MODEL_9a81b3cd95664806b1314b92ebf32a68",
            "placeholder": "​",
            "style": "IPY_MODEL_6683b706daf948bbbe5fac027e2acf17",
            "value": " 0/519 [00:00&lt;?, ? examples/s]"
          }
        },
        "348743723bdf4c2788356df934c7b40f": {
          "model_module": "@jupyter-widgets/base",
          "model_name": "LayoutModel",
          "model_module_version": "1.2.0",
          "state": {
            "_model_module": "@jupyter-widgets/base",
            "_model_module_version": "1.2.0",
            "_model_name": "LayoutModel",
            "_view_count": null,
            "_view_module": "@jupyter-widgets/base",
            "_view_module_version": "1.2.0",
            "_view_name": "LayoutView",
            "align_content": null,
            "align_items": null,
            "align_self": null,
            "border": null,
            "bottom": null,
            "display": null,
            "flex": null,
            "flex_flow": null,
            "grid_area": null,
            "grid_auto_columns": null,
            "grid_auto_flow": null,
            "grid_auto_rows": null,
            "grid_column": null,
            "grid_gap": null,
            "grid_row": null,
            "grid_template_areas": null,
            "grid_template_columns": null,
            "grid_template_rows": null,
            "height": null,
            "justify_content": null,
            "justify_items": null,
            "left": null,
            "margin": null,
            "max_height": null,
            "max_width": null,
            "min_height": null,
            "min_width": null,
            "object_fit": null,
            "object_position": null,
            "order": null,
            "overflow": null,
            "overflow_x": null,
            "overflow_y": null,
            "padding": null,
            "right": null,
            "top": null,
            "visibility": null,
            "width": null
          }
        },
        "c1800d145d9b4727a7387fdcf1f7df55": {
          "model_module": "@jupyter-widgets/base",
          "model_name": "LayoutModel",
          "model_module_version": "1.2.0",
          "state": {
            "_model_module": "@jupyter-widgets/base",
            "_model_module_version": "1.2.0",
            "_model_name": "LayoutModel",
            "_view_count": null,
            "_view_module": "@jupyter-widgets/base",
            "_view_module_version": "1.2.0",
            "_view_name": "LayoutView",
            "align_content": null,
            "align_items": null,
            "align_self": null,
            "border": null,
            "bottom": null,
            "display": null,
            "flex": null,
            "flex_flow": null,
            "grid_area": null,
            "grid_auto_columns": null,
            "grid_auto_flow": null,
            "grid_auto_rows": null,
            "grid_column": null,
            "grid_gap": null,
            "grid_row": null,
            "grid_template_areas": null,
            "grid_template_columns": null,
            "grid_template_rows": null,
            "height": null,
            "justify_content": null,
            "justify_items": null,
            "left": null,
            "margin": null,
            "max_height": null,
            "max_width": null,
            "min_height": null,
            "min_width": null,
            "object_fit": null,
            "object_position": null,
            "order": null,
            "overflow": null,
            "overflow_x": null,
            "overflow_y": null,
            "padding": null,
            "right": null,
            "top": null,
            "visibility": null,
            "width": null
          }
        },
        "57e671c59ddf407ebc95acbe8061a28e": {
          "model_module": "@jupyter-widgets/controls",
          "model_name": "DescriptionStyleModel",
          "model_module_version": "1.5.0",
          "state": {
            "_model_module": "@jupyter-widgets/controls",
            "_model_module_version": "1.5.0",
            "_model_name": "DescriptionStyleModel",
            "_view_count": null,
            "_view_module": "@jupyter-widgets/base",
            "_view_module_version": "1.2.0",
            "_view_name": "StyleView",
            "description_width": ""
          }
        },
        "b7e3ac5447b34fe28a7140b4a75f8917": {
          "model_module": "@jupyter-widgets/base",
          "model_name": "LayoutModel",
          "model_module_version": "1.2.0",
          "state": {
            "_model_module": "@jupyter-widgets/base",
            "_model_module_version": "1.2.0",
            "_model_name": "LayoutModel",
            "_view_count": null,
            "_view_module": "@jupyter-widgets/base",
            "_view_module_version": "1.2.0",
            "_view_name": "LayoutView",
            "align_content": null,
            "align_items": null,
            "align_self": null,
            "border": null,
            "bottom": null,
            "display": null,
            "flex": null,
            "flex_flow": null,
            "grid_area": null,
            "grid_auto_columns": null,
            "grid_auto_flow": null,
            "grid_auto_rows": null,
            "grid_column": null,
            "grid_gap": null,
            "grid_row": null,
            "grid_template_areas": null,
            "grid_template_columns": null,
            "grid_template_rows": null,
            "height": null,
            "justify_content": null,
            "justify_items": null,
            "left": null,
            "margin": null,
            "max_height": null,
            "max_width": null,
            "min_height": null,
            "min_width": null,
            "object_fit": null,
            "object_position": null,
            "order": null,
            "overflow": null,
            "overflow_x": null,
            "overflow_y": null,
            "padding": null,
            "right": null,
            "top": null,
            "visibility": null,
            "width": null
          }
        },
        "c451fb481ac848d3b522de6086397de0": {
          "model_module": "@jupyter-widgets/controls",
          "model_name": "ProgressStyleModel",
          "model_module_version": "1.5.0",
          "state": {
            "_model_module": "@jupyter-widgets/controls",
            "_model_module_version": "1.5.0",
            "_model_name": "ProgressStyleModel",
            "_view_count": null,
            "_view_module": "@jupyter-widgets/base",
            "_view_module_version": "1.2.0",
            "_view_name": "StyleView",
            "bar_color": null,
            "description_width": ""
          }
        },
        "9a81b3cd95664806b1314b92ebf32a68": {
          "model_module": "@jupyter-widgets/base",
          "model_name": "LayoutModel",
          "model_module_version": "1.2.0",
          "state": {
            "_model_module": "@jupyter-widgets/base",
            "_model_module_version": "1.2.0",
            "_model_name": "LayoutModel",
            "_view_count": null,
            "_view_module": "@jupyter-widgets/base",
            "_view_module_version": "1.2.0",
            "_view_name": "LayoutView",
            "align_content": null,
            "align_items": null,
            "align_self": null,
            "border": null,
            "bottom": null,
            "display": null,
            "flex": null,
            "flex_flow": null,
            "grid_area": null,
            "grid_auto_columns": null,
            "grid_auto_flow": null,
            "grid_auto_rows": null,
            "grid_column": null,
            "grid_gap": null,
            "grid_row": null,
            "grid_template_areas": null,
            "grid_template_columns": null,
            "grid_template_rows": null,
            "height": null,
            "justify_content": null,
            "justify_items": null,
            "left": null,
            "margin": null,
            "max_height": null,
            "max_width": null,
            "min_height": null,
            "min_width": null,
            "object_fit": null,
            "object_position": null,
            "order": null,
            "overflow": null,
            "overflow_x": null,
            "overflow_y": null,
            "padding": null,
            "right": null,
            "top": null,
            "visibility": null,
            "width": null
          }
        },
        "6683b706daf948bbbe5fac027e2acf17": {
          "model_module": "@jupyter-widgets/controls",
          "model_name": "DescriptionStyleModel",
          "model_module_version": "1.5.0",
          "state": {
            "_model_module": "@jupyter-widgets/controls",
            "_model_module_version": "1.5.0",
            "_model_name": "DescriptionStyleModel",
            "_view_count": null,
            "_view_module": "@jupyter-widgets/base",
            "_view_module_version": "1.2.0",
            "_view_name": "StyleView",
            "description_width": ""
          }
        },
        "8dff9722ae2e46d8ae5b4069aef6a78b": {
          "model_module": "@jupyter-widgets/controls",
          "model_name": "HBoxModel",
          "model_module_version": "1.5.0",
          "state": {
            "_dom_classes": [],
            "_model_module": "@jupyter-widgets/controls",
            "_model_module_version": "1.5.0",
            "_model_name": "HBoxModel",
            "_view_count": null,
            "_view_module": "@jupyter-widgets/controls",
            "_view_module_version": "1.5.0",
            "_view_name": "HBoxView",
            "box_style": "",
            "children": [
              "IPY_MODEL_00b21b2f0841405bb5a7d37cc8ea0573",
              "IPY_MODEL_5bb999f68f0c492d82b02a61c6cb5046",
              "IPY_MODEL_d50492b66a2b49dc9bd04dbb64280c5c"
            ],
            "layout": "IPY_MODEL_9d18461f5351468a96e35c94f45e0b64"
          }
        },
        "00b21b2f0841405bb5a7d37cc8ea0573": {
          "model_module": "@jupyter-widgets/controls",
          "model_name": "HTMLModel",
          "model_module_version": "1.5.0",
          "state": {
            "_dom_classes": [],
            "_model_module": "@jupyter-widgets/controls",
            "_model_module_version": "1.5.0",
            "_model_name": "HTMLModel",
            "_view_count": null,
            "_view_module": "@jupyter-widgets/controls",
            "_view_module_version": "1.5.0",
            "_view_name": "HTMLView",
            "description": "",
            "description_tooltip": null,
            "layout": "IPY_MODEL_95323307f4ce4e62abcb21966c1ee0a9",
            "placeholder": "​",
            "style": "IPY_MODEL_bbeee70e29ac4b759c424aa116137285",
            "value": "100%"
          }
        },
        "5bb999f68f0c492d82b02a61c6cb5046": {
          "model_module": "@jupyter-widgets/controls",
          "model_name": "FloatProgressModel",
          "model_module_version": "1.5.0",
          "state": {
            "_dom_classes": [],
            "_model_module": "@jupyter-widgets/controls",
            "_model_module_version": "1.5.0",
            "_model_name": "FloatProgressModel",
            "_view_count": null,
            "_view_module": "@jupyter-widgets/controls",
            "_view_module_version": "1.5.0",
            "_view_name": "ProgressView",
            "bar_style": "success",
            "description": "",
            "description_tooltip": null,
            "layout": "IPY_MODEL_b50968621cce48d3abe3e0f6551c921c",
            "max": 2,
            "min": 0,
            "orientation": "horizontal",
            "style": "IPY_MODEL_250aac5028e046d18eb2f028b0a7ecfc",
            "value": 2
          }
        },
        "d50492b66a2b49dc9bd04dbb64280c5c": {
          "model_module": "@jupyter-widgets/controls",
          "model_name": "HTMLModel",
          "model_module_version": "1.5.0",
          "state": {
            "_dom_classes": [],
            "_model_module": "@jupyter-widgets/controls",
            "_model_module_version": "1.5.0",
            "_model_name": "HTMLModel",
            "_view_count": null,
            "_view_module": "@jupyter-widgets/controls",
            "_view_module_version": "1.5.0",
            "_view_name": "HTMLView",
            "description": "",
            "description_tooltip": null,
            "layout": "IPY_MODEL_03bc386059fa4fb19a5f2f4a5ad86d42",
            "placeholder": "​",
            "style": "IPY_MODEL_ef157b907d7448aaa92e869cdc0a70d4",
            "value": " 2/2 [00:00&lt;00:00, 55.89it/s]"
          }
        },
        "9d18461f5351468a96e35c94f45e0b64": {
          "model_module": "@jupyter-widgets/base",
          "model_name": "LayoutModel",
          "model_module_version": "1.2.0",
          "state": {
            "_model_module": "@jupyter-widgets/base",
            "_model_module_version": "1.2.0",
            "_model_name": "LayoutModel",
            "_view_count": null,
            "_view_module": "@jupyter-widgets/base",
            "_view_module_version": "1.2.0",
            "_view_name": "LayoutView",
            "align_content": null,
            "align_items": null,
            "align_self": null,
            "border": null,
            "bottom": null,
            "display": null,
            "flex": null,
            "flex_flow": null,
            "grid_area": null,
            "grid_auto_columns": null,
            "grid_auto_flow": null,
            "grid_auto_rows": null,
            "grid_column": null,
            "grid_gap": null,
            "grid_row": null,
            "grid_template_areas": null,
            "grid_template_columns": null,
            "grid_template_rows": null,
            "height": null,
            "justify_content": null,
            "justify_items": null,
            "left": null,
            "margin": null,
            "max_height": null,
            "max_width": null,
            "min_height": null,
            "min_width": null,
            "object_fit": null,
            "object_position": null,
            "order": null,
            "overflow": null,
            "overflow_x": null,
            "overflow_y": null,
            "padding": null,
            "right": null,
            "top": null,
            "visibility": null,
            "width": null
          }
        },
        "95323307f4ce4e62abcb21966c1ee0a9": {
          "model_module": "@jupyter-widgets/base",
          "model_name": "LayoutModel",
          "model_module_version": "1.2.0",
          "state": {
            "_model_module": "@jupyter-widgets/base",
            "_model_module_version": "1.2.0",
            "_model_name": "LayoutModel",
            "_view_count": null,
            "_view_module": "@jupyter-widgets/base",
            "_view_module_version": "1.2.0",
            "_view_name": "LayoutView",
            "align_content": null,
            "align_items": null,
            "align_self": null,
            "border": null,
            "bottom": null,
            "display": null,
            "flex": null,
            "flex_flow": null,
            "grid_area": null,
            "grid_auto_columns": null,
            "grid_auto_flow": null,
            "grid_auto_rows": null,
            "grid_column": null,
            "grid_gap": null,
            "grid_row": null,
            "grid_template_areas": null,
            "grid_template_columns": null,
            "grid_template_rows": null,
            "height": null,
            "justify_content": null,
            "justify_items": null,
            "left": null,
            "margin": null,
            "max_height": null,
            "max_width": null,
            "min_height": null,
            "min_width": null,
            "object_fit": null,
            "object_position": null,
            "order": null,
            "overflow": null,
            "overflow_x": null,
            "overflow_y": null,
            "padding": null,
            "right": null,
            "top": null,
            "visibility": null,
            "width": null
          }
        },
        "bbeee70e29ac4b759c424aa116137285": {
          "model_module": "@jupyter-widgets/controls",
          "model_name": "DescriptionStyleModel",
          "model_module_version": "1.5.0",
          "state": {
            "_model_module": "@jupyter-widgets/controls",
            "_model_module_version": "1.5.0",
            "_model_name": "DescriptionStyleModel",
            "_view_count": null,
            "_view_module": "@jupyter-widgets/base",
            "_view_module_version": "1.2.0",
            "_view_name": "StyleView",
            "description_width": ""
          }
        },
        "b50968621cce48d3abe3e0f6551c921c": {
          "model_module": "@jupyter-widgets/base",
          "model_name": "LayoutModel",
          "model_module_version": "1.2.0",
          "state": {
            "_model_module": "@jupyter-widgets/base",
            "_model_module_version": "1.2.0",
            "_model_name": "LayoutModel",
            "_view_count": null,
            "_view_module": "@jupyter-widgets/base",
            "_view_module_version": "1.2.0",
            "_view_name": "LayoutView",
            "align_content": null,
            "align_items": null,
            "align_self": null,
            "border": null,
            "bottom": null,
            "display": null,
            "flex": null,
            "flex_flow": null,
            "grid_area": null,
            "grid_auto_columns": null,
            "grid_auto_flow": null,
            "grid_auto_rows": null,
            "grid_column": null,
            "grid_gap": null,
            "grid_row": null,
            "grid_template_areas": null,
            "grid_template_columns": null,
            "grid_template_rows": null,
            "height": null,
            "justify_content": null,
            "justify_items": null,
            "left": null,
            "margin": null,
            "max_height": null,
            "max_width": null,
            "min_height": null,
            "min_width": null,
            "object_fit": null,
            "object_position": null,
            "order": null,
            "overflow": null,
            "overflow_x": null,
            "overflow_y": null,
            "padding": null,
            "right": null,
            "top": null,
            "visibility": null,
            "width": null
          }
        },
        "250aac5028e046d18eb2f028b0a7ecfc": {
          "model_module": "@jupyter-widgets/controls",
          "model_name": "ProgressStyleModel",
          "model_module_version": "1.5.0",
          "state": {
            "_model_module": "@jupyter-widgets/controls",
            "_model_module_version": "1.5.0",
            "_model_name": "ProgressStyleModel",
            "_view_count": null,
            "_view_module": "@jupyter-widgets/base",
            "_view_module_version": "1.2.0",
            "_view_name": "StyleView",
            "bar_color": null,
            "description_width": ""
          }
        },
        "03bc386059fa4fb19a5f2f4a5ad86d42": {
          "model_module": "@jupyter-widgets/base",
          "model_name": "LayoutModel",
          "model_module_version": "1.2.0",
          "state": {
            "_model_module": "@jupyter-widgets/base",
            "_model_module_version": "1.2.0",
            "_model_name": "LayoutModel",
            "_view_count": null,
            "_view_module": "@jupyter-widgets/base",
            "_view_module_version": "1.2.0",
            "_view_name": "LayoutView",
            "align_content": null,
            "align_items": null,
            "align_self": null,
            "border": null,
            "bottom": null,
            "display": null,
            "flex": null,
            "flex_flow": null,
            "grid_area": null,
            "grid_auto_columns": null,
            "grid_auto_flow": null,
            "grid_auto_rows": null,
            "grid_column": null,
            "grid_gap": null,
            "grid_row": null,
            "grid_template_areas": null,
            "grid_template_columns": null,
            "grid_template_rows": null,
            "height": null,
            "justify_content": null,
            "justify_items": null,
            "left": null,
            "margin": null,
            "max_height": null,
            "max_width": null,
            "min_height": null,
            "min_width": null,
            "object_fit": null,
            "object_position": null,
            "order": null,
            "overflow": null,
            "overflow_x": null,
            "overflow_y": null,
            "padding": null,
            "right": null,
            "top": null,
            "visibility": null,
            "width": null
          }
        },
        "ef157b907d7448aaa92e869cdc0a70d4": {
          "model_module": "@jupyter-widgets/controls",
          "model_name": "DescriptionStyleModel",
          "model_module_version": "1.5.0",
          "state": {
            "_model_module": "@jupyter-widgets/controls",
            "_model_module_version": "1.5.0",
            "_model_name": "DescriptionStyleModel",
            "_view_count": null,
            "_view_module": "@jupyter-widgets/base",
            "_view_module_version": "1.2.0",
            "_view_name": "StyleView",
            "description_width": ""
          }
        }
      }
    }
  },
  "cells": [
    {
      "cell_type": "markdown",
      "metadata": {
        "id": "view-in-github",
        "colab_type": "text"
      },
      "source": [
        "<a href=\"https://colab.research.google.com/github/ttogle918/NLU_3-/blob/main/practice/%EC%B5%9C%EC%A7%80%ED%98%84_sts_roberta.ipynb\" target=\"_parent\"><img src=\"https://colab.research.google.com/assets/colab-badge.svg\" alt=\"Open In Colab\"/></a>"
      ]
    },
    {
      "cell_type": "markdown",
      "source": [
        "# **NLU - 문장 유사도 계산 (STS)**\n",
        "\n"
      ],
      "metadata": {
        "id": "xMjisMbV8egY"
      }
    },
    {
      "cell_type": "markdown",
      "source": [
        "- RoBERTa 적용\n",
        "  - klue/roberta-base\n",
        "\n",
        "참고 : \n",
        "- [code](https://www.datafied.world/detailed-notebook-to-fine-tune-roberta-for-beginners-222)\n",
        "- [huggingface RobertaModel](https://huggingface.co/docs/transformers/model_doc/roberta#transformers.RobertaModel)\n",
        "- [huggingface git](https://github.com/huggingface/transformers/blob/v4.19.2/src/transformers/models/roberta/modeling_roberta.py#L692)\n",
        "- [huggingface models](https://huggingface.co/models)"
      ],
      "metadata": {
        "id": "8IxJAFOS83jQ"
      }
    },
    {
      "cell_type": "code",
      "source": [
        "!pip install optuna\n",
        "!pip install pytorch-transformers\n",
        "!pip install transformers\n",
        "!pip install datasets"
      ],
      "metadata": {
        "id": "ctFKX352qtdE"
      },
      "execution_count": null,
      "outputs": []
    },
    {
      "cell_type": "code",
      "execution_count": 2,
      "metadata": {
        "id": "Ev_s6Hh8h6KR"
      },
      "outputs": [],
      "source": [
        "import torch\n",
        "from torch import nn\n",
        "import torch.nn.functional as F\n",
        "import torch.optim as optim\n",
        "from torch.optim import AdamW\n",
        "from torch.nn.utils import clip_grad_norm_\n",
        "from torch.utils.data import Dataset, DataLoader\n",
        "import numpy as np\n",
        "from tqdm import tqdm, tqdm_notebook\n",
        "from sklearn.metrics import f1_score\n",
        "from scipy import stats\n",
        "import time\n",
        "import matplotlib.pyplot as plt"
      ]
    },
    {
      "cell_type": "code",
      "source": [
        "# gpu 연산이 가능하면 'cuda:0', 아니면 'cpu' 출력\n",
        "device = torch.device(\"cuda:0\" if torch.cuda.is_available() else \"cpu\")\n",
        "device, torch.cuda.device_count()"
      ],
      "metadata": {
        "colab": {
          "base_uri": "https://localhost:8080/"
        },
        "id": "ayvjtv81TpLW",
        "outputId": "bb46f04c-2ca1-4161-cf6f-58c53e15dadb"
      },
      "execution_count": 3,
      "outputs": [
        {
          "output_type": "execute_result",
          "data": {
            "text/plain": [
              "(device(type='cuda', index=0), 1)"
            ]
          },
          "metadata": {},
          "execution_count": 3
        }
      ]
    },
    {
      "cell_type": "code",
      "source": [
        "from google.colab import drive\n",
        "drive.mount('/content/drive')"
      ],
      "metadata": {
        "id": "EN4G1L_eKvSx",
        "colab": {
          "base_uri": "https://localhost:8080/"
        },
        "outputId": "29b50d09-c851-41e8-9fe8-8576ef395f79"
      },
      "execution_count": 4,
      "outputs": [
        {
          "output_type": "stream",
          "name": "stdout",
          "text": [
            "Mounted at /content/drive\n"
          ]
        }
      ]
    },
    {
      "cell_type": "code",
      "source": [
        "from transformers import AutoTokenizer, AutoModel, RobertaConfig\n",
        "from transformers.optimization import get_cosine_schedule_with_warmup\n",
        "from transformers import get_linear_schedule_with_warmup"
      ],
      "metadata": {
        "id": "fuuFJ9c_vaHu"
      },
      "execution_count": 5,
      "outputs": []
    },
    {
      "cell_type": "markdown",
      "source": [
        "# Load dataset"
      ],
      "metadata": {
        "id": "3l3wMury3Blb"
      }
    },
    {
      "cell_type": "markdown",
      "source": [
        "### KLUE 데이터셋 및 전처리 과정 예시\n",
        "\n",
        "[klue-sts-벤치마크-구조-보기](https://velog.io/@soyoun9798/KLUE-STS-%EB%B2%A4%EC%B9%98%EB%A7%88%ED%81%AC-%EA%B5%AC%EC%A1%B0-%EB%B3%B4%EA%B8%B0)\n"
      ],
      "metadata": {
        "id": "ziojmbiVoSup"
      }
    },
    {
      "cell_type": "code",
      "source": [
        "from datasets import load_dataset\n",
        "dataset = load_dataset('klue', 'sts')"
      ],
      "metadata": {
        "id": "hCQ-gQlZznhA",
        "colab": {
          "base_uri": "https://localhost:8080/",
          "height": 182,
          "referenced_widgets": [
            "077fd340d3f340f4ae628d502aa1c6c9",
            "1e902d95dc324925ace6366e9ad0dae0",
            "c2612dce67a145c9ad6a8ea7759c45c3",
            "e0c890783dfa4d60b9a3cb53b8208e98",
            "81e50aa5674840a7b9e13d51fa9541a8",
            "b08dc138a0644dd7ac0cfaddb0053b62",
            "e5b1b402da984fb7949d999a1c525c36",
            "cfb686a05a3e4993aea936fac2b597b3",
            "63791f5f86f247dab2792acf7de3c71b",
            "d04bb960532b4a17bca276a8274044a7",
            "731e0b539d8a47a1afdf8b6cfe34f81f",
            "331bcd3863034778aaa0c4f55f22c37c",
            "293236cca18b48a1857341247efae467",
            "4c33da5eeb3945ff8cceaa26b523bbc5",
            "d9565dc6880b417aa1543e2664fe5ed5",
            "b4983df89a6645fea5f6730851d53991",
            "615eb32f590c48cba423b2818a579e1d",
            "c4453631a0a34b0ea68d8f11221cbf01",
            "0ad078ff13274215ab628022ef15b300",
            "fbe28b8b22d14d18bb9339e307a4439d",
            "49e9f19cc40749539c235198873bd565",
            "b079538f3c5f441b822756dc32b45b75",
            "35f252f1129d4280893c83fbe25b8c11",
            "606da54fdf314b8d8497813896c322eb",
            "7d6337cd631b4ab5b62813e56fe5e455",
            "147deaae35b044ac832bf63d88fb3f76",
            "376deea76b72481fae7d3a566993ef06",
            "4e0a6945d7024316b8dd30efc2a67b5e",
            "abe5ea21bb1e4280afd5b4786a28e3a9",
            "d0b42a2459214923b392ab5f7515889b",
            "0f9295e7725447a99de862f211521ade",
            "78fb5e051471453e82ccbf24a71558a3",
            "317a1f871d1647e09c26c39727c73eb0",
            "b122a4735a7b4879b9a2e48d3ac4948f",
            "a128e6ed45074d58ac38a85fb9896d1b",
            "ccaa5a5453a443bfabb7dcac5e244b4e",
            "80bb67feebd64814b817548c9f35dc7e",
            "3317cc757c8f4b1f8fe3a8049f2153be",
            "4df703baf13647b1aa7aaefca4d79697",
            "fb49c56ebae5463ab829104f312b65ea",
            "78fa99b7f2d04adf8c76539eb7408205",
            "4386220cfed844398615a1b2091e3289",
            "e063b8e9c21a4b6e8e9178299d11153c",
            "eb44689ef9a04d4cbdb1a71d9f7347a4",
            "bc9fd73b650c48849b5f624106445d29",
            "419c1d8476d04d3c9d961a18c6c64f3b",
            "5909e8f7492c478a92f7958482bae8bb",
            "fc38d1b461614a91b8e64d3215e527ea",
            "348743723bdf4c2788356df934c7b40f",
            "c1800d145d9b4727a7387fdcf1f7df55",
            "57e671c59ddf407ebc95acbe8061a28e",
            "b7e3ac5447b34fe28a7140b4a75f8917",
            "c451fb481ac848d3b522de6086397de0",
            "9a81b3cd95664806b1314b92ebf32a68",
            "6683b706daf948bbbe5fac027e2acf17",
            "8dff9722ae2e46d8ae5b4069aef6a78b",
            "00b21b2f0841405bb5a7d37cc8ea0573",
            "5bb999f68f0c492d82b02a61c6cb5046",
            "d50492b66a2b49dc9bd04dbb64280c5c",
            "9d18461f5351468a96e35c94f45e0b64",
            "95323307f4ce4e62abcb21966c1ee0a9",
            "bbeee70e29ac4b759c424aa116137285",
            "b50968621cce48d3abe3e0f6551c921c",
            "250aac5028e046d18eb2f028b0a7ecfc",
            "03bc386059fa4fb19a5f2f4a5ad86d42",
            "ef157b907d7448aaa92e869cdc0a70d4"
          ]
        },
        "outputId": "22e7d282-586c-4905-e735-5c7c5cd29a9e"
      },
      "execution_count": 6,
      "outputs": [
        {
          "output_type": "display_data",
          "data": {
            "text/plain": [
              "Downloading builder script:   0%|          | 0.00/5.21k [00:00<?, ?B/s]"
            ],
            "application/vnd.jupyter.widget-view+json": {
              "version_major": 2,
              "version_minor": 0,
              "model_id": "077fd340d3f340f4ae628d502aa1c6c9"
            }
          },
          "metadata": {}
        },
        {
          "output_type": "display_data",
          "data": {
            "text/plain": [
              "Downloading metadata:   0%|          | 0.00/2.93k [00:00<?, ?B/s]"
            ],
            "application/vnd.jupyter.widget-view+json": {
              "version_major": 2,
              "version_minor": 0,
              "model_id": "331bcd3863034778aaa0c4f55f22c37c"
            }
          },
          "metadata": {}
        },
        {
          "output_type": "stream",
          "name": "stdout",
          "text": [
            "Downloading and preparing dataset klue/sts (download: 1.29 MiB, generated: 2.82 MiB, post-processed: Unknown size, total: 4.11 MiB) to /root/.cache/huggingface/datasets/klue/sts/1.0.0/e0fc3bc3de3eb03be2c92d72fd04a60ecc71903f821619cb28ca0e1e29e4233e...\n"
          ]
        },
        {
          "output_type": "display_data",
          "data": {
            "text/plain": [
              "Downloading data:   0%|          | 0.00/1.35M [00:00<?, ?B/s]"
            ],
            "application/vnd.jupyter.widget-view+json": {
              "version_major": 2,
              "version_minor": 0,
              "model_id": "35f252f1129d4280893c83fbe25b8c11"
            }
          },
          "metadata": {}
        },
        {
          "output_type": "display_data",
          "data": {
            "text/plain": [
              "Generating train split:   0%|          | 0/11668 [00:00<?, ? examples/s]"
            ],
            "application/vnd.jupyter.widget-view+json": {
              "version_major": 2,
              "version_minor": 0,
              "model_id": "b122a4735a7b4879b9a2e48d3ac4948f"
            }
          },
          "metadata": {}
        },
        {
          "output_type": "display_data",
          "data": {
            "text/plain": [
              "Generating validation split:   0%|          | 0/519 [00:00<?, ? examples/s]"
            ],
            "application/vnd.jupyter.widget-view+json": {
              "version_major": 2,
              "version_minor": 0,
              "model_id": "bc9fd73b650c48849b5f624106445d29"
            }
          },
          "metadata": {}
        },
        {
          "output_type": "stream",
          "name": "stdout",
          "text": [
            "Dataset klue downloaded and prepared to /root/.cache/huggingface/datasets/klue/sts/1.0.0/e0fc3bc3de3eb03be2c92d72fd04a60ecc71903f821619cb28ca0e1e29e4233e. Subsequent calls will reuse this data.\n"
          ]
        },
        {
          "output_type": "display_data",
          "data": {
            "text/plain": [
              "  0%|          | 0/2 [00:00<?, ?it/s]"
            ],
            "application/vnd.jupyter.widget-view+json": {
              "version_major": 2,
              "version_minor": 0,
              "model_id": "8dff9722ae2e46d8ae5b4069aef6a78b"
            }
          },
          "metadata": {}
        }
      ]
    },
    {
      "cell_type": "code",
      "source": [
        "print(f\"type(dataset) : {type(dataset)}\")\n",
        "print(f\"key : {dataset.keys()}\")\n",
        "print(f\"type dataset[train] : {type(dataset['train'])}\")\n",
        "print(f\"dataset[train] : {dataset['train']} \\n\\n\")\n",
        "# labels : { 이진분류 : 1, 반올림 값 : 3.7, 실제 label 값 : 3.71422... }\n",
        "dataset['train'][0]"
      ],
      "metadata": {
        "colab": {
          "base_uri": "https://localhost:8080/"
        },
        "id": "u9qplkC53DTD",
        "outputId": "8eab5f3c-8f9d-4744-a402-2a77eafd59ba"
      },
      "execution_count": 6,
      "outputs": [
        {
          "output_type": "stream",
          "name": "stdout",
          "text": [
            "type(dataset) : <class 'datasets.dataset_dict.DatasetDict'>\n",
            "key : dict_keys(['train', 'validation'])\n",
            "type dataset[train] : <class 'datasets.arrow_dataset.Dataset'>\n",
            "dataset[train] : Dataset({\n",
            "    features: ['guid', 'source', 'sentence1', 'sentence2', 'labels'],\n",
            "    num_rows: 11668\n",
            "}) \n",
            "\n",
            "\n"
          ]
        },
        {
          "output_type": "execute_result",
          "data": {
            "text/plain": [
              "{'guid': 'klue-sts-v1_train_00000',\n",
              " 'labels': {'binary-label': 1, 'label': 3.7, 'real-label': 3.714285714285714},\n",
              " 'sentence1': '숙소 위치는 찾기 쉽고 일반적인 한국의 반지하 숙소입니다.',\n",
              " 'sentence2': '숙박시설의 위치는 쉽게 찾을 수 있고 한국의 대표적인 반지하 숙박시설입니다.',\n",
              " 'source': 'airbnb-rtt'}"
            ]
          },
          "metadata": {},
          "execution_count": 6
        }
      ]
    },
    {
      "cell_type": "code",
      "source": [
        "# 데이터 4개만 확인\n",
        "i = 0\n",
        "for d in dataset['train'] :\n",
        "  if i == 4 : break\n",
        "  print(d['sentence1'],'/',  d['sentence2'])\n",
        "  i += 1"
      ],
      "metadata": {
        "id": "pYSX9gRHdEM-",
        "outputId": "0fad5e68-933e-47f9-d318-20d3d05079fb",
        "colab": {
          "base_uri": "https://localhost:8080/"
        }
      },
      "execution_count": 7,
      "outputs": [
        {
          "output_type": "stream",
          "name": "stdout",
          "text": [
            "숙소 위치는 찾기 쉽고 일반적인 한국의 반지하 숙소입니다. / 숙박시설의 위치는 쉽게 찾을 수 있고 한국의 대표적인 반지하 숙박시설입니다.\n",
            "위반행위 조사 등을 거부·방해·기피한 자는 500만원 이하 과태료 부과 대상이다. / 시민들 스스로 자발적인 예방 노력을 한 것은 아산 뿐만이 아니었다.\n",
            "회사가 보낸 메일은 이 지메일이 아니라 다른 지메일 계정으로 전달해줘. / 사람들이 주로 네이버 메일을 쓰는 이유를 알려줘\n",
            "긴급 고용안정지원금은 지역고용대응 등 특별지원금, 지자체별 소상공인 지원사업, 취업성공패키지, 청년구직활동지원금, 긴급복지지원제도 지원금과는 중복 수급이 불가능하다. / 고용보험이 1차 고용안전망이라면, 국민취업지원제도는 2차 고용안전망입니다.\n"
          ]
        }
      ]
    },
    {
      "cell_type": "code",
      "source": [
        "import re\n",
        "i = 0\n",
        "for d in dataset['train'] :\n",
        "  if i == 4 : break\n",
        "  print(re.sub('[^가-힣A-Za-z0-9]','', d['sentence1']),'/',  re.sub('[^가-힣A-Za-z0-9]','', d['sentence2']))\n",
        "  i += 1"
      ],
      "metadata": {
        "colab": {
          "base_uri": "https://localhost:8080/"
        },
        "id": "3U8K3P4gVBWy",
        "outputId": "f665bc87-0038-4729-bc9d-8a47583798d8"
      },
      "execution_count": 9,
      "outputs": [
        {
          "output_type": "stream",
          "name": "stdout",
          "text": [
            "숙소위치는찾기쉽고일반적인한국의반지하숙소입니다 / 숙박시설의위치는쉽게찾을수있고한국의대표적인반지하숙박시설입니다\n",
            "위반행위조사등을거부방해기피한자는500만원이하과태료부과대상이다 / 시민들스스로자발적인예방노력을한것은아산뿐만이아니었다\n",
            "회사가보낸메일은이지메일이아니라다른지메일계정으로전달해줘 / 사람들이주로네이버메일을쓰는이유를알려줘\n",
            "긴급고용안정지원금은지역고용대응등특별지원금지자체별소상공인지원사업취업성공패키지청년구직활동지원금긴급복지지원제도지원금과는중복수급이불가능하다 / 고용보험이1차고용안전망이라면국민취업지원제도는2차고용안전망입니다\n"
          ]
        }
      ]
    },
    {
      "cell_type": "code",
      "source": [
        "tokenizer = AutoTokenizer.from_pretrained('klue/roberta-base')\n",
        "\n",
        "result = tokenizer(re.sub('[^가-힣]','', dataset['train']['sentence1'][0]), re.sub('[^가-힣]','', dataset['train']['sentence2'][0]))\n",
        "print('input_ids', result.input_ids)\n",
        "print('token_type_ids', result.token_type_ids)\n",
        "print('attention_mask', result.attention_mask)\n",
        "print(tokenizer.decode(result['input_ids']))"
      ],
      "metadata": {
        "colab": {
          "base_uri": "https://localhost:8080/"
        },
        "id": "EPVj0uBmVZsB",
        "outputId": "dcf1e866-270d-4db8-964f-15502e564bfd"
      },
      "execution_count": 12,
      "outputs": [
        {
          "output_type": "stream",
          "name": "stdout",
          "text": [
            "input_ids [0, 9206, 12765, 2259, 2688, 2015, 2961, 2088, 2210, 2536, 31221, 2470, 2226, 2079, 2536, 2118, 2205, 2300, 2024, 12190, 2, 8134, 10171, 2079, 12765, 2259, 2961, 2318, 2688, 2069, 2113, 2689, 2088, 2470, 2226, 2079, 5718, 31221, 2536, 2118, 2205, 2300, 2042, 10171, 12190, 2]\n",
            "token_type_ids [0, 0, 0, 0, 0, 0, 0, 0, 0, 0, 0, 0, 0, 0, 0, 0, 0, 0, 0, 0, 0, 0, 0, 0, 0, 0, 0, 0, 0, 0, 0, 0, 0, 0, 0, 0, 0, 0, 0, 0, 0, 0, 0, 0, 0, 0]\n",
            "attention_mask [1, 1, 1, 1, 1, 1, 1, 1, 1, 1, 1, 1, 1, 1, 1, 1, 1, 1, 1, 1, 1, 1, 1, 1, 1, 1, 1, 1, 1, 1, 1, 1, 1, 1, 1, 1, 1, 1, 1, 1, 1, 1, 1, 1, 1, 1]\n",
            "[CLS] 숙소위치는찾기쉽고일반적인한국의반지하숙소입니다 [SEP] 숙박시설의위치는쉽게찾을수있고한국의대표적인반지하숙박시설입니다 [SEP]\n"
          ]
        }
      ]
    },
    {
      "cell_type": "code",
      "source": [
        "model = AutoModel.from_pretrained('klue/roberta-base')#, output_hidden_states=True)\n",
        "tokenizer = AutoTokenizer.from_pretrained('klue/roberta-base')\n",
        "result = tokenizer(dataset['train']['sentence1'][0], dataset['train']['sentence2'][0], return_tensors='pt')\n",
        "outputs = model(**result)\n",
        "# 'textattack/roberta-base-STS-B'"
      ],
      "metadata": {
        "colab": {
          "base_uri": "https://localhost:8080/"
        },
        "id": "dSZ9keEMb9rS",
        "outputId": "999edfc3-5fa1-4369-d2a9-30b55b932e10"
      },
      "execution_count": 20,
      "outputs": [
        {
          "output_type": "stream",
          "name": "stderr",
          "text": [
            "Some weights of the model checkpoint at klue/roberta-base were not used when initializing RobertaModel: ['lm_head.layer_norm.bias', 'lm_head.dense.bias', 'lm_head.decoder.bias', 'lm_head.decoder.weight', 'lm_head.dense.weight', 'lm_head.layer_norm.weight', 'lm_head.bias']\n",
            "- This IS expected if you are initializing RobertaModel from the checkpoint of a model trained on another task or with another architecture (e.g. initializing a BertForSequenceClassification model from a BertForPreTraining model).\n",
            "- This IS NOT expected if you are initializing RobertaModel from the checkpoint of a model that you expect to be exactly identical (initializing a BertForSequenceClassification model from a BertForSequenceClassification model).\n",
            "Some weights of RobertaModel were not initialized from the model checkpoint at klue/roberta-base and are newly initialized: ['roberta.pooler.dense.bias', 'roberta.pooler.dense.weight']\n",
            "You should probably TRAIN this model on a down-stream task to be able to use it for predictions and inference.\n"
          ]
        }
      ]
    },
    {
      "cell_type": "code",
      "source": [
        "outputs['pooler_output'].shape, outputs['last_hidden_state'].shape, "
      ],
      "metadata": {
        "colab": {
          "base_uri": "https://localhost:8080/"
        },
        "id": "RtzL52eIt6vm",
        "outputId": "5d5e02b4-968e-4a16-f886-d98282b628b2"
      },
      "execution_count": 16,
      "outputs": [
        {
          "output_type": "execute_result",
          "data": {
            "text/plain": [
              "(torch.Size([1, 768]), torch.Size([1, 41, 768]))"
            ]
          },
          "metadata": {},
          "execution_count": 16
        }
      ]
    },
    {
      "cell_type": "code",
      "source": [
        "del outputs\n",
        "del model\n",
        "del tokenizer\n",
        "del result"
      ],
      "metadata": {
        "id": "5KbB2npXvFm_"
      },
      "execution_count": 22,
      "outputs": []
    },
    {
      "cell_type": "markdown",
      "source": [
        "# Dataset Tokenizing -> dataLoader"
      ],
      "metadata": {
        "id": "kMX55thM_Owd"
      }
    },
    {
      "cell_type": "code",
      "source": [
        "import re\n",
        "from torch.utils.data import Dataset, DataLoader, RandomSampler, SequentialSampler"
      ],
      "metadata": {
        "id": "xpST6GczRO6N"
      },
      "execution_count": 7,
      "outputs": []
    },
    {
      "cell_type": "code",
      "source": [
        "class CustomDataset(Dataset):\n",
        "    def __init__(self, dataset, appended_data=None, appended_data2=None):\n",
        "        self.sentence1, self.sentence2, self.labels = self.make_dataset(dataset, appended_data, appended_data2)\n",
        "\n",
        "    def make_dataset(self, dataset, appended_data=None, appended_data2=None):\n",
        "        \"\"\"\n",
        "        self.label : dataset의 label의 list\n",
        "        self.input : sentence1, sentence2를 tokenizer한 값을 이어 붙임 \n",
        "        rlabels : # real-label -> 0 ~ 5일 때, binary-label : 0 or 1\n",
        "        \"\"\"\n",
        "        sentence1, sentence2, rlabels = [], [], []\n",
        "\n",
        "        for data in dataset :\n",
        "          # rlabels.append(data['labels']['real-label'])\n",
        "          rlabels.append(data['labels']['binary-label'])\n",
        "          sentence1.append(self.cleaning(data['sentence1']))\n",
        "          sentence2.append(self.cleaning(data['sentence2']))\n",
        "\n",
        "        if appended_data is not None :\n",
        "          for data in appended_data :\n",
        "            if data['score'] is None or data['sentence1'] is None or data['sentence2'] is None :\n",
        "              continue \n",
        "            rlabels.append(data['score'])\n",
        "            sentence1.append(self.cleaning(data['sentence1']))\n",
        "            sentence2.append(self.cleaning(data['sentence2']))\n",
        "\n",
        "        if appended_data2 is not None :\n",
        "          for data in appended_data2 :\n",
        "            if data['score'] is None or data['sentence1'] is None or data['sentence2'] is None :\n",
        "              continue\n",
        "            rlabels.append(data['score'])\n",
        "            sentence1.append(self.cleaning(data['sentence1']))\n",
        "            sentence2.append(self.cleaning(data['sentence2']))\n",
        "        return sentence1, sentence2, rlabels\n",
        "        \n",
        "    def __len__(self):\n",
        "        return len(self.labels)\n",
        "\n",
        "    def __getitem__(self, idx):\n",
        "        return self.sentence1[idx], self.sentence2[idx], self.labels[idx]\n",
        "\n",
        "    def cleaning(self, sentence) :\n",
        "        # return re.sub('[^가-힣A-Za-z0-9]','', sentence)\n",
        "        return sentence"
      ],
      "metadata": {
        "id": "P7VYohZZeCbW"
      },
      "execution_count": 8,
      "outputs": []
    },
    {
      "cell_type": "code",
      "source": [
        "def custom_collate_fn(batch):\n",
        "    input1_list, input2_list, target_list = [], [], []\n",
        "\n",
        "    for _input1, _input2, _target in batch:\n",
        "        input1_list.append(_input1)\n",
        "        input2_list.append(_input2)\n",
        "        target_list.append(_target)\n",
        "    \n",
        "    tensorized_input = tokenizer(\n",
        "        input1_list, input2_list,\n",
        "        add_special_tokens=True,\n",
        "        padding=\"longest\",  # 배치내 가장 긴 문장을 기준으로 부족한 문장은 [PAD] 토큰을 추가\n",
        "        truncation=True, # max_length를 넘는 문장은 이 후 토큰을 제거함\n",
        "        max_length=512,\n",
        "        return_tensors='pt' # 토크나이즈된 결과 값을 텐서 형태로 반환\n",
        "    )\n",
        "    tensorized_label = torch.tensor(target_list)\n",
        "\n",
        "    return tensorized_input, tensorized_label"
      ],
      "metadata": {
        "id": "FBrzwcq1EMC6"
      },
      "execution_count": 9,
      "outputs": []
    },
    {
      "cell_type": "code",
      "source": [
        "def make_dataloader(dataset, tok_model, batch_size, s='train') :\n",
        "  global tokenizer\n",
        "  tokenizer = AutoTokenizer.from_pretrained(tok_model)\n",
        "  if s == 'train' :\n",
        "    dataloader = DataLoader(\n",
        "        dataset,\n",
        "        batch_size =batch_size,\n",
        "        sampler = RandomSampler(dataset),\n",
        "        collate_fn = custom_collate_fn\n",
        "    )\n",
        "  else :\n",
        "    dataloader = DataLoader(\n",
        "        dataset,\n",
        "        batch_size =batch_size,\n",
        "        sampler = SequentialSampler(dataset),\n",
        "        collate_fn = custom_collate_fn\n",
        "    )\n",
        "  print(f'batch_size : {batch_size}')\n",
        "  return dataloader"
      ],
      "metadata": {
        "id": "J2M5WpvbGO5O"
      },
      "execution_count": 10,
      "outputs": []
    },
    {
      "cell_type": "markdown",
      "source": [
        "# model class"
      ],
      "metadata": {
        "id": "wo6N6cZgNDRj"
      }
    },
    {
      "cell_type": "code",
      "source": [
        "class CustomBertOnlyNSPHead(nn.Module):\n",
        "    def __init__(self, config):\n",
        "        super().__init__()\n",
        "        self.seq_relationship = nn.Linear(config.hidden_size, 2)\n",
        "\n",
        "    def forward(self, pooled_output):\n",
        "        seq_relationship_score = self.seq_relationship(pooled_output)\n",
        "        return seq_relationship_score\n",
        "# 모델 클래스\n",
        "class CustomSTS(nn.Module):\n",
        "    def __init__(self, model_name):\n",
        "        super(CustomSTS, self).__init__()\n",
        "        self.config = RobertaConfig.from_pretrained(model_name)\n",
        "        self.model = AutoModel.from_pretrained(model_name)\n",
        "        self.cls = CustomBertOnlyNSPHead(self.config)\n",
        "        self.softmax = nn.Softmax(dim=1)\n",
        "        self.classifier = nn.Sequential(\n",
        "          nn.Linear(768, 32),\n",
        "          nn.ReLU(),\n",
        "          nn.Dropout(0.1),\n",
        "          nn.Linear(32, 2)\n",
        "        )\n",
        "\n",
        "    def forward(self, input_ids, attention_mask=None, token_type_ids=None, labels=None):\n",
        "        \"\"\"\n",
        "        outputs(NextSentencePredictorOutput) : logtis, loss(next_sentence_label이 주어질 때 return)\n",
        "                                              hidden_states(optional), attentions(optional) 을 가지고 있다.\n",
        "        loss는 주어진 label이 0~5 사이의 값으로 scale 되어있기 때문에 직접 구해야한다!\n",
        "\n",
        "        \"\"\"\n",
        "        # logits's shape : (batch_size, seq_len, 2)\n",
        "        outputs = self.model(\n",
        "            input_ids,\n",
        "            attention_mask=attention_mask,\n",
        "            token_type_ids=token_type_ids,\n",
        "        )['last_hidden_state']\n",
        "        logits = self.classifier(outputs)[:, 0, :]\n",
        "        probs = self.softmax(logits)\n",
        "        # probs = probs[:, 0] * 5    # 0~5 사이의 값으로 정답(T)일 확률 뽑아내기\n",
        "        return probs    # 정답(T)일 확률, 정답일때 1 "
      ],
      "metadata": {
        "id": "rvWujlFzYLR6"
      },
      "execution_count": 23,
      "outputs": []
    },
    {
      "cell_type": "markdown",
      "source": [
        "# train"
      ],
      "metadata": {
        "id": "964Xf_8dXx-Q"
      }
    },
    {
      "cell_type": "markdown",
      "source": [
        "### model, optimizer, scheduler 초기화"
      ],
      "metadata": {
        "id": "f6UwWz0Uo5xa"
      }
    },
    {
      "cell_type": "code",
      "source": [
        "def initializer(train_dataloader, epochs=2, model_name='snunlp/KR-Medium', lr=4e-5, wd=4e-5):\n",
        "    \"\"\"\n",
        "    모델, 옵티마이저, 스케쥴러 초기화\n",
        "    \"\"\"\n",
        "    model = CustomSTS(model_name=model_name)   # hidden size?\n",
        "\n",
        "    optimizer = AdamW(\n",
        "        model.parameters(), # update 대상 파라미터를 입력\n",
        "        lr=lr,    # 2e-5\n",
        "        eps=1e-8,\n",
        "        weight_decay=wd\n",
        "    )\n",
        "    \n",
        "    total_steps = len(train_dataloader) * epochs\n",
        "    print(f\"Total train steps with {epochs} epochs: {total_steps}\")\n",
        "\n",
        "    scheduler = get_linear_schedule_with_warmup(\n",
        "        optimizer, \n",
        "        num_warmup_steps = 0, # 여기서는 warmup을 사용하지 않는다.\n",
        "        num_training_steps = total_steps\n",
        "    )\n",
        "    print(f'model_name : {model_name}, lr : {lr}, weight_decay : {wd}, epochs : {epochs}')\n",
        "    return model, optimizer, scheduler"
      ],
      "metadata": {
        "id": "G0SsW8oXjDlc"
      },
      "execution_count": 12,
      "outputs": []
    },
    {
      "cell_type": "markdown",
      "source": [
        "### checkpoint"
      ],
      "metadata": {
        "id": "tq-7ThFjovDX"
      }
    },
    {
      "cell_type": "code",
      "source": [
        "def save_checkpoint(path, model, optimizer, scheduler, epoch, loss, f1, model_name=''):\n",
        "    file_name = f'{path}/epoch:{epoch}_loss:{loss:.4f}_f1:{f1:.4f}.ckpt'\n",
        "    \n",
        "    torch.save({\n",
        "            'epoch': epoch,\n",
        "            'model_state_dict': model.state_dict(),\n",
        "            'optimizer_state_dict': optimizer.state_dict(),\n",
        "            'scheduler_state_dict': scheduler.state_dict(),\n",
        "            'loss' : loss,\n",
        "            'f1' : f1\n",
        "        }, \n",
        "        file_name\n",
        "    )\n",
        "    \n",
        "    print(f\"Saving epoch {epoch} checkpoint at {file_name}\")"
      ],
      "metadata": {
        "id": "CQ9Gdhuuoug4"
      },
      "execution_count": 13,
      "outputs": []
    },
    {
      "cell_type": "markdown",
      "source": [
        "### train code"
      ],
      "metadata": {
        "id": "txIbdOd3oyR8"
      }
    },
    {
      "cell_type": "code",
      "source": [
        "before_loss, before_f1 = 0.4, 0.7"
      ],
      "metadata": {
        "id": "oYZsU8boWuTp"
      },
      "execution_count": 14,
      "outputs": []
    },
    {
      "cell_type": "code",
      "source": [
        "def train(model, optimizer, scheduler, train_dataloader, valid_dataloader=None, epochs=1, model_name=''):\n",
        "  loss_fct = nn.MSELoss()\n",
        "  train_dict = {'loss' : [], 'f1' : []}\n",
        "  valid_dict = {'loss' : [], 'f1' : []}\n",
        "  global before_loss, before_f1\n",
        "  for epoch in range(epochs) :\n",
        "\n",
        "    print(f\"*****Epoch {epoch} Train Start*****\")\n",
        "    # 배치 단위 평균 loss와 총 평균 loss 계산하기위해 변수 생성\n",
        "    total_loss, total_f1, batch_f1, batch_loss, batch_count = 0,0,0,0,0\n",
        "    \n",
        "    # model을 train 모드로 설정 & device 할당\n",
        "    model.train()\n",
        "    model.to(device)\n",
        "    \n",
        "    # data iterator를 돌면서 하나씩 학습\n",
        "    for step, batch in enumerate(train_dataloader):\n",
        "      batch_count+=1\n",
        "      \n",
        "      # tensor 연산 전, 각 tensor에 device 할당\n",
        "      batch = tuple(item.to(device) for item in batch)\n",
        "      \n",
        "      batch_input, batch_label = batch\n",
        "      labels = torch.tensor([[1, 0] if label == 1 else [0, 1] for label in batch_label]).to(device)\n",
        "\n",
        "      # batch마다 모델이 갖고 있는 기존 gradient를 초기화\n",
        "      model.zero_grad()\n",
        "      \n",
        "      # forward\n",
        "      probs = model(**batch_input)\n",
        "      pred = torch.argmin(probs, dim=1).cpu()   # [0, 1]이면 Fasle, Batch_label은 0, [1,0]이면 True, Batch_label은 1\n",
        "\n",
        "      # loss\n",
        "      loss = loss_fct(labels.to(torch.float32), probs.to(torch.float32))\n",
        "      batch_loss += loss.item()\n",
        "      total_loss += loss.item()\n",
        "\n",
        "      # f1-score\n",
        "      f1 = f1_score(pred, [b.cpu() for b in batch_label])\n",
        "      batch_f1 += f1\n",
        "      total_f1 += f1\n",
        "\n",
        "      # backward -> 파라미터의 미분(gradient)를 자동으로 계산\n",
        "      loss.backward()\n",
        "\n",
        "      # gradient clipping 적용 \n",
        "      clip_grad_norm_(model.parameters(), 1.0)\n",
        "      \n",
        "      # optimizer & scheduler 업데이트\n",
        "      optimizer.step()\n",
        "      scheduler.step()\n",
        "\n",
        "      # 그래디언트 초기화\n",
        "      model.zero_grad()\n",
        "\n",
        "      # 배치 128개씩 처리할 때마다 평균 loss와 lr를 출력\n",
        "      if (step % 128 == 0 and step != 0):\n",
        "          learning_rate = optimizer.param_groups[0]['lr']\n",
        "          print(f\"Epoch: {epoch}, Step : {step}, LR : {learning_rate:.10f}, Avg Loss : {batch_loss / batch_count:.4f}, f1 score : {batch_f1 / batch_count:.4f}\")\n",
        "          \n",
        "          if (round(batch_f1 / batch_count, 5) == 0) and (round(learning_rate, 10) == 0) :\n",
        "              print(\"Train Finished, learning_rate is 0 and train_f1 is 0\")\n",
        "              return train_dict, valid_dict\n",
        "\n",
        "          # 변수 초기화\n",
        "          batch_loss, batch_f1, batch_count = 0,0,0\n",
        "\n",
        "\n",
        "    print(f\"Epoch {epoch} Total Mean Loss : {total_loss/(step+1):.4f}\")\n",
        "    print(f\"Epoch {epoch} Total Mean f1 : {total_f1/(step+1):.4f}\")\n",
        "    print(f\"*****Epoch {epoch} Train Finish*****\\n\")\n",
        "\n",
        "    train_dict['f1'].append(total_f1/(step+1))\n",
        "    train_dict['loss'].append(total_loss/(step+1))\n",
        "    \n",
        "    if valid_dataloader is not None:\n",
        "        print(f\"*****Epoch {epoch} Valid Start*****\")\n",
        "        valid_loss, valid_acc, valid_f1 = validate(model, valid_dataloader)\n",
        "        print(f\"Epoch {epoch} Valid Loss : {valid_loss:.4f} Valid Acc : {valid_acc:.4f} Valid f1 : {valid_f1:.4f}\")\n",
        "        print(f\"*****Epoch {epoch} Valid Finish*****\\n\")\n",
        "\n",
        "    valid_dict['f1'].append(valid_f1)\n",
        "    valid_dict['loss'].append(valid_loss)\n",
        "    if round(valid_f1, 4) == 0 :\n",
        "        break\n",
        "    if before_loss > valid_loss :\n",
        "        before_loss = valid_loss\n",
        "        save_checkpoint(\"/content/drive/MyDrive/Colab Notebooks/nlp\", model, optimizer, scheduler, epoch, valid_loss, valid_f1, model_name)\n",
        "\n",
        "    elif before_f1 < valid_f1  :\n",
        "        before_f1 = valid_f1\n",
        "        save_checkpoint(\"/content/drive/MyDrive/Colab Notebooks/nlp\", model, optimizer, scheduler, epoch, valid_loss, valid_f1, model_name)\n",
        "\n",
        "  print(\"Train Finished\")\n",
        "  return train_dict, valid_dict"
      ],
      "metadata": {
        "id": "HluWdArhYFIC"
      },
      "execution_count": 15,
      "outputs": []
    },
    {
      "cell_type": "markdown",
      "source": [
        "### validation code"
      ],
      "metadata": {
        "id": "w2AMocOkozvZ"
      }
    },
    {
      "cell_type": "code",
      "source": [
        "def validate(model, valid_dataloader):\n",
        "    loss_fct = nn.MSELoss()\n",
        "    # 모델을 evaluate 모드로 설정 & device 할당\n",
        "    model.eval()\n",
        "    model.to(device)\n",
        "    \n",
        "    total_loss, total_acc, total_f1, = 0,0, 0\n",
        "        \n",
        "    for step, batch in enumerate(valid_dataloader):\n",
        "        \n",
        "        # tensor 연산 전, 각 tensor에 device 할당\n",
        "        batch = tuple(item.to(device) for item in batch)\n",
        "            \n",
        "        batch_input, batch_label = batch\n",
        "        labels = torch.tensor([[1, 0] if label == 1 else [0, 1] for label in batch_label]).to(device)\n",
        "            \n",
        "        # gradient 계산하지 않음\n",
        "        with torch.no_grad():\n",
        "            probs = model(**batch_input)\n",
        "        pred = torch.argmin(probs, dim=1).cpu()\n",
        "            \n",
        "        # loss\n",
        "        loss = loss_fct(probs.to(torch.float32), labels.to(torch.float32))\n",
        "        total_loss += loss.item()\n",
        "        \n",
        "        # accuracy\n",
        "        acc = 0\n",
        "        for p, b in zip(pred, batch_label) :\n",
        "          if p == b :\n",
        "            acc += 1\n",
        "        \n",
        "        acc = acc / len(pred)\n",
        "        total_acc+=acc\n",
        "        \n",
        "        # f1-score\n",
        "        f1 = f1_score(pred, [b.cpu() for b in batch_label])\n",
        "        total_f1 += f1\n",
        "\n",
        "    total_loss = total_loss/(step+1)\n",
        "    total_acc = total_acc/(step+1)\n",
        "    total_f1 = total_f1/(step+1)\n",
        "    return total_loss, total_acc, total_f1"
      ],
      "metadata": {
        "id": "D9DpetR6oTdb"
      },
      "execution_count": 16,
      "outputs": []
    },
    {
      "cell_type": "markdown",
      "source": [
        "### draw_plot"
      ],
      "metadata": {
        "id": "jgca7DMFJlJp"
      }
    },
    {
      "cell_type": "code",
      "source": [
        "# loss와 f1-score의 변화를 epoch마다 보기 위한 plot\n",
        "def draw_plot(train_dict, valid_dict, i) :\n",
        "  print('green is loss, gray is f1')\n",
        "  plt.subplot(1, 2, 1)\n",
        "  plt.xlabel('Epochs')\n",
        "  plt.title('Loss and F1 of Train data')\n",
        "  x_values= [n for n in range(len(train_dict['loss']))]\n",
        "  plt.plot(x_values, train_dict['loss'], color='green', marker='o')  # loss\n",
        "  plt.plot(x_values, train_dict['f1'], color='#AAAAAA', marker='*')  # f1\n",
        "\n",
        "  plt.subplot(1, 2, 2)\n",
        "  plt.xlabel('Epochs')\n",
        "  plt.title('Loss and F1 of Validation data')\n",
        "  x_values= [n for n in range(len(valid_dict['loss']))]\n",
        "  plt.plot(x_values, valid_dict['loss'], color='green', marker='o')  # loss\n",
        "  plt.plot(x_values, valid_dict['f1'], color='#AAAAAA', marker='*')  # f1\n",
        "\n",
        "  plt.show()\n",
        "  plt.savefig(f'figure_{i}.png')"
      ],
      "metadata": {
        "id": "0v_Er2FkAJsi"
      },
      "execution_count": 17,
      "outputs": []
    },
    {
      "cell_type": "markdown",
      "source": [
        "# train"
      ],
      "metadata": {
        "id": "GsT4lhE7WV4a"
      }
    },
    {
      "cell_type": "code",
      "source": [
        "# 'klue/roberta-base', 64, 32, lr : 5e-05, weight_decay : 0.01 -> 0.8381\n",
        "# 'klue/roberta-base', 87, 32, lr : 5e-05, weight_decay : 0.01, layer : 32 -> 0.8392\n",
        "# layer : 64 -> 0.8348\n",
        "# 'klue/roberta-base', 80, 32, lr : 5e-05, 0.01 , layer -> 64->32 -> 0.8222\n",
        "# 'klue/roberta-base', 87, 32, lr : 5e-05, 0.01 , layer -> 32->16 -> 0.8044\n",
        "# 'klue/roberta-base', 87, 32, lr : 5e-05, 0.01 , layer -> 16 -> 0.8044\n",
        "train_batch_size = 87\n",
        "model_name = 'klue/roberta-base'\n",
        "\n",
        "train_dataset = CustomDataset(dataset['train'])\n",
        "valid_dataset = CustomDataset(dataset['validation'])\n",
        "\n",
        "train_dataloader = make_dataloader(train_dataset, model_name, train_batch_size, 'train')\n",
        "valid_dataloader = make_dataloader(valid_dataset, model_name, 32, 'valid')\n",
        "learning_rate = 5e-05\n",
        "weight_decay = 0.01\n",
        "\n",
        "model, optimizer, scheduler = initializer(train_dataloader, 4, model_name, learning_rate, weight_decay)\n",
        "\n",
        "start = time.time()\n",
        "train_dict, valid_dict = train(model, optimizer, scheduler, train_dataloader, valid_dataloader, 4, model_name)\n",
        "end = time.time()\n",
        "print(f\"time : {(end - start)//60}분 {(end - start)%60}초\")\n",
        "\n",
        "draw_plot(train_dict, valid_dict, 0)"
      ],
      "metadata": {
        "id": "2tQ-DQqE3Stb",
        "outputId": "f373fad5-d7b7-459b-bf04-711a8e5f7bbc",
        "colab": {
          "base_uri": "https://localhost:8080/",
          "height": 1000
        }
      },
      "execution_count": 21,
      "outputs": [
        {
          "output_type": "stream",
          "name": "stdout",
          "text": [
            "batch_size : 87\n",
            "batch_size : 32\n"
          ]
        },
        {
          "output_type": "stream",
          "name": "stderr",
          "text": [
            "Some weights of the model checkpoint at klue/roberta-base were not used when initializing RobertaModel: ['lm_head.layer_norm.weight', 'lm_head.decoder.weight', 'lm_head.dense.bias', 'lm_head.bias', 'lm_head.decoder.bias', 'lm_head.dense.weight', 'lm_head.layer_norm.bias']\n",
            "- This IS expected if you are initializing RobertaModel from the checkpoint of a model trained on another task or with another architecture (e.g. initializing a BertForSequenceClassification model from a BertForPreTraining model).\n",
            "- This IS NOT expected if you are initializing RobertaModel from the checkpoint of a model that you expect to be exactly identical (initializing a BertForSequenceClassification model from a BertForSequenceClassification model).\n",
            "Some weights of RobertaModel were not initialized from the model checkpoint at klue/roberta-base and are newly initialized: ['roberta.pooler.dense.bias', 'roberta.pooler.dense.weight']\n",
            "You should probably TRAIN this model on a down-stream task to be able to use it for predictions and inference.\n"
          ]
        },
        {
          "output_type": "stream",
          "name": "stdout",
          "text": [
            "Total train steps with 4 epochs: 540\n",
            "model_name : klue/roberta-base, lr : 5e-05, weight_decay : 0.01, epochs : 4\n",
            "*****Epoch 0 Train Start*****\n",
            "Epoch: 0, Step : 128, LR : 0.0000380556, Avg Loss : 0.0662, f1 score : 0.8991\n",
            "Epoch 0 Total Mean Loss : 0.0663\n",
            "Epoch 0 Total Mean f1 : 0.8988\n",
            "*****Epoch 0 Train Finish*****\n",
            "\n",
            "*****Epoch 0 Valid Start*****\n",
            "Epoch 0 Valid Loss : 0.1304 Valid Acc : 0.8196 Valid f1 : 0.8125\n",
            "*****Epoch 0 Valid Finish*****\n",
            "\n",
            "Saving epoch 0 checkpoint at /content/drive/MyDrive/Colab Notebooks/nlp/epoch:0_loss:0.1304_f1:0.8125.ckpt\n",
            "*****Epoch 1 Train Start*****\n",
            "Epoch: 1, Step : 128, LR : 0.0000255556, Avg Loss : 0.0309, f1 score : 0.9627\n",
            "Epoch 1 Total Mean Loss : 0.0308\n",
            "Epoch 1 Total Mean f1 : 0.9627\n",
            "*****Epoch 1 Train Finish*****\n",
            "\n",
            "*****Epoch 1 Valid Start*****\n",
            "Epoch 1 Valid Loss : 0.1763 Valid Acc : 0.7910 Valid f1 : 0.7937\n",
            "*****Epoch 1 Valid Finish*****\n",
            "\n",
            "*****Epoch 2 Train Start*****\n",
            "Epoch: 2, Step : 128, LR : 0.0000130556, Avg Loss : 0.0195, f1 score : 0.9764\n",
            "Epoch 2 Total Mean Loss : 0.0200\n",
            "Epoch 2 Total Mean f1 : 0.9758\n",
            "*****Epoch 2 Train Finish*****\n",
            "\n",
            "*****Epoch 2 Valid Start*****\n",
            "Epoch 2 Valid Loss : 0.1412 Valid Acc : 0.8398 Valid f1 : 0.8221\n",
            "*****Epoch 2 Valid Finish*****\n",
            "\n",
            "Saving epoch 2 checkpoint at /content/drive/MyDrive/Colab Notebooks/nlp/epoch:2_loss:0.1412_f1:0.8221.ckpt\n",
            "*****Epoch 3 Train Start*****\n",
            "Epoch: 3, Step : 128, LR : 0.0000005556, Avg Loss : 0.0122, f1 score : 0.9862\n",
            "Epoch 3 Total Mean Loss : 0.0118\n",
            "Epoch 3 Total Mean f1 : 0.9867\n",
            "*****Epoch 3 Train Finish*****\n",
            "\n",
            "*****Epoch 3 Valid Start*****\n",
            "Epoch 3 Valid Loss : 0.1611 Valid Acc : 0.8149 Valid f1 : 0.8091\n",
            "*****Epoch 3 Valid Finish*****\n",
            "\n",
            "Train Finished\n",
            "time : 6.0분 41.85213303565979초\n",
            "green is loss, gray is f1\n"
          ]
        },
        {
          "output_type": "display_data",
          "data": {
            "text/plain": [
              "<Figure size 432x288 with 2 Axes>"
            ],
            "image/png": "[encoded data removed]"
          },
          "metadata": {
            "needs_background": "light"
          }
        },
        {
          "output_type": "display_data",
          "data": {
            "text/plain": [
              "<Figure size 432x288 with 0 Axes>"
            ]
          },
          "metadata": {}
        }
      ]
    },
    {
      "cell_type": "markdown",
      "source": [
        "# hyperparameter 조정\n",
        "\n",
        "[optuna 사용법](https://dacon.io/codeshare/2704)\n",
        "\n",
        "- transformer의 trainer 사용\n",
        "  - [trainer huggingface](https://huggingface.co/docs/transformers/main_classes/trainer)\n",
        "  - [bert에 optuna 사용법-medium](https://medium.com/carbon-consulting/transformer-models-hyperparameter-optimization-with-the-optuna-299e185044a8)\n",
        "  - [bert에 optuna 사용법-git블로그](https://thigm85.github.io/blog/search/cord19/bert/transformers/optuna/2020/11/07/bert-training-optuna-tuning.html)\n"
      ],
      "metadata": {
        "id": "NHB9BN_u6Q7V"
      }
    },
    {
      "cell_type": "code",
      "source": [
        "import optuna"
      ],
      "metadata": {
        "id": "6NkXzrfM_E7L"
      },
      "execution_count": 17,
      "outputs": []
    },
    {
      "cell_type": "code",
      "source": [
        "i = 0\n",
        "def objective(trial: optuna.Trial):\n",
        "    model_name = 'klue/roberta-base'\n",
        "    learning_rate = trial.suggest_loguniform('learning_rate', low=5e-5, high=0.01)\n",
        "    weight_decay = trial.suggest_loguniform('weight_decay', low=4e-5, high=0.01)\n",
        "\n",
        "    train_batch_size = trial.suggest_int(\"per_device_train_batch_size\", 16, 88)\n",
        "    train_dataloader = make_dataloader(train_dataset, model_name, train_batch_size, 'train')\n",
        "    valid_dataloader = make_dataloader(valid_dataset, model_name, 32, 'valid')\n",
        "    \n",
        "    model, optimizer, scheduler = initializer(train_dataloader, 4, model_name, learning_rate, weight_decay)\n",
        "    start = time.time()\n",
        "    train_dict, valid_dict = train(model, optimizer, scheduler, train_dataloader, valid_dataloader, 4, model_name)\n",
        "    end = time.time()\n",
        "    print(f\"time : {(end - start)//60}분 {(end - start)%60}초\")\n",
        "\n",
        "    global i\n",
        "\n",
        "    draw_plot(train_dict, valid_dict, i)\n",
        "    i += 1\n",
        "\n",
        "    gc.collect()\n",
        "    print('\\n------------------------------------------\\n\\n')\n",
        "    return max(valid_dict['f1'])"
      ],
      "metadata": {
        "id": "Ra_jiyPVEDO_"
      },
      "execution_count": 23,
      "outputs": []
    },
    {
      "cell_type": "code",
      "source": [
        "train_dataset = CustomDataset(dataset['train'])\n",
        "valid_dataset = CustomDataset(dataset['validation'])"
      ],
      "metadata": {
        "id": "CIu4WWvSaiv8"
      },
      "execution_count": 24,
      "outputs": []
    },
    {
      "cell_type": "code",
      "source": [
        "import gc\n",
        "gc.collect()"
      ],
      "metadata": {
        "colab": {
          "base_uri": "https://localhost:8080/"
        },
        "id": "ua4VteshaxPO",
        "outputId": "dce20b07-9c02-4bb9-992f-5c359b4fbf4b"
      },
      "execution_count": 26,
      "outputs": [
        {
          "output_type": "execute_result",
          "data": {
            "text/plain": [
              "88"
            ]
          },
          "metadata": {},
          "execution_count": 26
        }
      ]
    },
    {
      "cell_type": "markdown",
      "source": [
        "### klue/roberta-base\n",
        "\n",
        "**train_batch_size, lr, weight_decay, epoch -> f1**\n",
        "\n",
        "\n",
        "|step|||||f1||step|||||f1|\n",
        "|:--:|:--:|:--:|:--:|:--:|:--:|:--:|:--:|:--:|:--:|:--:|:--:|:--:|\n",
        "|- |64|5e-05|0.01||**0.8381**||layer(32)|87|5e-05|0.01||**0.8392**|\n",
        "|layer(64, 32) |80|5e-05|0.01||0.8222||layer(64)|87|5e-05|0.01||**0.8348**|\n",
        "|1. |81|0.0001|4.33e-05|4|0.8100||24.|45|0.0001|0.001|3|0.7674|\n",
        "|9.|40|0.0001|0.0059|4|0.7986||25.|37|8e-05|0.005|4|0.8117|\n",
        "|10.|19|0.0001|0.0001|1|0.5828||27.|25|8e-05|0.009|4|0.8159|\n",
        "|11.|38|9e-05|0.0098|3|0.8258||29.|51|0.0001|0.0006|3|0.8201|\n",
        "|13.|70|5e-05|5e-05|4|**0.8345**||31.|82|7e-05|0.0003|4|0.8275|\n",
        "|14.|71|5e-05|0.0001|3|0.8181||32.|82|7e-05|0.0004|4|0.8287|\n",
        "|16.|35|6e-05|0.0002|3|0.8113||34.|79|6e-05|0.0001|3|0.8145|\n",
        "|21.|73|5e-05|9e-05|4|0.8074||35.|87|0.0001|6e-05|4|0.8096|\n",
        "|22.|73|6e-05|0.00029|2|0.8251||36.|82|0.0001|0.0009|4|0.7898|\n",
        "|23.|45|7e-05|0.0003|3|**0.8373**||38.|84|7e-05|0.0001|3|0.8185|\n",
        "|||||||  |39.|69|5e-05|0.0003|4|0.8266|\n",
        "\n",
        "\n",
        "\n",
        "\n",
        "\n",
        "\n",
        "\n",
        "\n",
        "\n"
      ],
      "metadata": {
        "id": "JqHbDXMCC94f"
      }
    },
    {
      "cell_type": "code",
      "source": [
        "print('klue/roberta-base\\n\\n')\n",
        "# We want to minimize the loss! \n",
        "study = optuna.create_study(study_name='hyper-parameter-search', direction='maximize') \n",
        "# Optimize the objective using 5 different trials \n",
        "study.optimize(objective, n_trials=40)"
      ],
      "metadata": {
        "id": "2XJmhoinC_bx",
        "colab": {
          "base_uri": "https://localhost:8080/",
          "height": 1000
        },
        "outputId": "a2455b49-6693-439f-b569-781040e601ba"
      },
      "execution_count": 26,
      "outputs": [
        {
          "output_type": "stream",
          "name": "stderr",
          "text": [
            "\u001b[32m[I 2022-06-08 17:13:45,147]\u001b[0m A new study created in memory with name: hyper-parameter-search\u001b[0m\n"
          ]
        },
        {
          "output_type": "stream",
          "name": "stdout",
          "text": [
            "klue/roberta-base\n",
            "\n",
            "\n",
            "batch_size : 88\n",
            "batch_size : 32\n"
          ]
        },
        {
          "output_type": "stream",
          "name": "stderr",
          "text": [
            "Some weights of the model checkpoint at klue/roberta-base were not used when initializing RobertaModel: ['lm_head.decoder.bias', 'lm_head.dense.bias', 'lm_head.decoder.weight', 'lm_head.layer_norm.weight', 'lm_head.dense.weight', 'lm_head.layer_norm.bias', 'lm_head.bias']\n",
            "- This IS expected if you are initializing RobertaModel from the checkpoint of a model trained on another task or with another architecture (e.g. initializing a BertForSequenceClassification model from a BertForPreTraining model).\n",
            "- This IS NOT expected if you are initializing RobertaModel from the checkpoint of a model that you expect to be exactly identical (initializing a BertForSequenceClassification model from a BertForSequenceClassification model).\n",
            "Some weights of RobertaModel were not initialized from the model checkpoint at klue/roberta-base and are newly initialized: ['roberta.pooler.dense.weight', 'roberta.pooler.dense.bias']\n",
            "You should probably TRAIN this model on a down-stream task to be able to use it for predictions and inference.\n"
          ]
        },
        {
          "output_type": "stream",
          "name": "stdout",
          "text": [
            "Total train steps with 4 epochs: 532\n",
            "model_name : klue/roberta-base, lr : 0.009869577882559828, weight_decay : 0.0077246634149112925, epochs : 4\n",
            "*****Epoch 0 Train Start*****\n",
            "Epoch: 0, Step : 128, LR : 0.0074763908, Avg Loss : 0.2552, f1 score : 0.0953\n",
            "Epoch 0 Total Mean Loss : 0.2550\n",
            "Epoch 0 Total Mean f1 : 0.0925\n",
            "*****Epoch 0 Train Finish*****\n",
            "\n",
            "*****Epoch 0 Valid Start*****\n",
            "Epoch 0 Valid Loss : 0.2481 Valid Acc : 0.5825 Valid f1 : 0.0000\n",
            "*****Epoch 0 Valid Finish*****\n",
            "\n",
            "Train Finished\n",
            "time : 1.0분 40.35153889656067초\n",
            "green is loss, gray is f1\n"
          ]
        },
        {
          "output_type": "display_data",
          "data": {
            "text/plain": [
              "<Figure size 432x288 with 2 Axes>"
            ],
            "image/png": "[encoded data removed]"
          },
          "metadata": {
            "needs_background": "light"
          }
        },
        {
          "output_type": "stream",
          "name": "stderr",
          "text": [
            "\u001b[32m[I 2022-06-08 17:15:39,997]\u001b[0m Trial 0 finished with value: 0.0 and parameters: {'learning_rate': 0.009869577882559828, 'weight_decay': 0.0077246634149112925, 'per_device_train_batch_size': 88}. Best is trial 0 with value: 0.0.\u001b[0m\n"
          ]
        },
        {
          "output_type": "stream",
          "name": "stdout",
          "text": [
            "\n",
            "------------------------------------------\n",
            "\n",
            "\n",
            "batch_size : 81\n",
            "batch_size : 32\n"
          ]
        },
        {
          "output_type": "stream",
          "name": "stderr",
          "text": [
            "Some weights of the model checkpoint at klue/roberta-base were not used when initializing RobertaModel: ['lm_head.decoder.bias', 'lm_head.dense.bias', 'lm_head.decoder.weight', 'lm_head.layer_norm.weight', 'lm_head.dense.weight', 'lm_head.layer_norm.bias', 'lm_head.bias']\n",
            "- This IS expected if you are initializing RobertaModel from the checkpoint of a model trained on another task or with another architecture (e.g. initializing a BertForSequenceClassification model from a BertForPreTraining model).\n",
            "- This IS NOT expected if you are initializing RobertaModel from the checkpoint of a model that you expect to be exactly identical (initializing a BertForSequenceClassification model from a BertForSequenceClassification model).\n",
            "Some weights of RobertaModel were not initialized from the model checkpoint at klue/roberta-base and are newly initialized: ['roberta.pooler.dense.weight', 'roberta.pooler.dense.bias']\n",
            "You should probably TRAIN this model on a down-stream task to be able to use it for predictions and inference.\n"
          ]
        },
        {
          "output_type": "stream",
          "name": "stdout",
          "text": [
            "Total train steps with 4 epochs: 580\n",
            "model_name : klue/roberta-base, lr : 0.00013826926088511616, weight_decay : 4.331965360396003e-05, epochs : 4\n",
            "*****Epoch 0 Train Start*****\n",
            "Epoch: 0, Step : 128, LR : 0.0001075163, Avg Loss : 0.0893, f1 score : 0.8472\n",
            "Epoch 0 Total Mean Loss : 0.0871\n",
            "Epoch 0 Total Mean f1 : 0.8547\n",
            "*****Epoch 0 Train Finish*****\n",
            "\n",
            "*****Epoch 0 Valid Start*****\n",
            "Epoch 0 Valid Loss : 0.1372 Valid Acc : 0.8380 Valid f1 : 0.8097\n",
            "*****Epoch 0 Valid Finish*****\n",
            "\n",
            "Saving epoch 0 checkpoint at /content/drive/MyDrive/Colab Notebooks/nlp/epoch:0_loss:0.1372_f1:0.8097.ckpt\n",
            "*****Epoch 1 Train Start*****\n",
            "Epoch: 1, Step : 128, LR : 0.0000729490, Avg Loss : 0.0458, f1 score : 0.9424\n",
            "Epoch 1 Total Mean Loss : 0.0452\n",
            "Epoch 1 Total Mean f1 : 0.9429\n",
            "*****Epoch 1 Train Finish*****\n",
            "\n",
            "*****Epoch 1 Valid Start*****\n",
            "Epoch 1 Valid Loss : 0.1313 Valid Acc : 0.8138 Valid f1 : 0.7960\n",
            "*****Epoch 1 Valid Finish*****\n",
            "\n",
            "Saving epoch 1 checkpoint at /content/drive/MyDrive/Colab Notebooks/nlp/epoch:1_loss:0.1313_f1:0.7960.ckpt\n",
            "*****Epoch 2 Train Start*****\n",
            "Epoch: 2, Step : 128, LR : 0.0000383816, Avg Loss : 0.0287, f1 score : 0.9642\n",
            "Epoch 2 Total Mean Loss : 0.0294\n",
            "Epoch 2 Total Mean f1 : 0.9624\n",
            "*****Epoch 2 Train Finish*****\n",
            "\n",
            "*****Epoch 2 Valid Start*****\n",
            "Epoch 2 Valid Loss : 0.1759 Valid Acc : 0.7891 Valid f1 : 0.7906\n",
            "*****Epoch 2 Valid Finish*****\n",
            "\n",
            "Saving epoch 2 checkpoint at /content/drive/MyDrive/Colab Notebooks/nlp/epoch:2_loss:0.1759_f1:0.7906.ckpt\n",
            "*****Epoch 3 Train Start*****\n",
            "Epoch: 3, Step : 128, LR : 0.0000038143, Avg Loss : 0.0141, f1 score : 0.9824\n",
            "Epoch 3 Total Mean Loss : 0.0141\n",
            "Epoch 3 Total Mean f1 : 0.9824\n",
            "*****Epoch 3 Train Finish*****\n",
            "\n",
            "*****Epoch 3 Valid Start*****\n",
            "Epoch 3 Valid Loss : 0.1496 Valid Acc : 0.8204 Valid f1 : 0.8100\n",
            "*****Epoch 3 Valid Finish*****\n",
            "\n",
            "Saving epoch 3 checkpoint at /content/drive/MyDrive/Colab Notebooks/nlp/epoch:3_loss:0.1496_f1:0.8100.ckpt\n",
            "Train Finished\n",
            "time : 7.0분 2.983996868133545초\n",
            "green is loss, gray is f1\n"
          ]
        },
        {
          "output_type": "display_data",
          "data": {
            "text/plain": [
              "<Figure size 432x288 with 2 Axes>"
            ],
            "image/png": "[encoded data removed]"
          },
          "metadata": {
            "needs_background": "light"
          }
        },
        {
          "output_type": "stream",
          "name": "stderr",
          "text": [
            "\u001b[32m[I 2022-06-08 17:22:57,552]\u001b[0m Trial 1 finished with value: 0.8100237504389753 and parameters: {'learning_rate': 0.00013826926088511616, 'weight_decay': 4.331965360396003e-05, 'per_device_train_batch_size': 81}. Best is trial 1 with value: 0.8100237504389753.\u001b[0m\n"
          ]
        },
        {
          "output_type": "stream",
          "name": "stdout",
          "text": [
            "\n",
            "------------------------------------------\n",
            "\n",
            "\n",
            "batch_size : 45\n",
            "batch_size : 32\n"
          ]
        },
        {
          "output_type": "stream",
          "name": "stderr",
          "text": [
            "Some weights of the model checkpoint at klue/roberta-base were not used when initializing RobertaModel: ['lm_head.decoder.bias', 'lm_head.dense.bias', 'lm_head.decoder.weight', 'lm_head.layer_norm.weight', 'lm_head.dense.weight', 'lm_head.layer_norm.bias', 'lm_head.bias']\n",
            "- This IS expected if you are initializing RobertaModel from the checkpoint of a model trained on another task or with another architecture (e.g. initializing a BertForSequenceClassification model from a BertForPreTraining model).\n",
            "- This IS NOT expected if you are initializing RobertaModel from the checkpoint of a model that you expect to be exactly identical (initializing a BertForSequenceClassification model from a BertForSequenceClassification model).\n",
            "Some weights of RobertaModel were not initialized from the model checkpoint at klue/roberta-base and are newly initialized: ['roberta.pooler.dense.weight', 'roberta.pooler.dense.bias']\n",
            "You should probably TRAIN this model on a down-stream task to be able to use it for predictions and inference.\n"
          ]
        },
        {
          "output_type": "stream",
          "name": "stdout",
          "text": [
            "Total train steps with 4 epochs: 1040\n",
            "model_name : klue/roberta-base, lr : 0.009869457358232596, weight_decay : 0.0023692942804177655, epochs : 4\n",
            "*****Epoch 0 Train Start*****\n",
            "Epoch: 0, Step : 128, LR : 0.0086452651, Avg Loss : 0.2653, f1 score : 0.1566\n",
            "Epoch: 0, Step : 256, LR : 0.0074305626, Avg Loss : 0.2497, f1 score : 0.0000\n",
            "Epoch 0 Total Mean Loss : 0.2574\n",
            "Epoch 0 Total Mean f1 : 0.0777\n",
            "*****Epoch 0 Train Finish*****\n",
            "\n",
            "*****Epoch 0 Valid Start*****\n",
            "Epoch 0 Valid Loss : 0.2456 Valid Acc : 0.5825 Valid f1 : 0.0000\n",
            "*****Epoch 0 Valid Finish*****\n",
            "\n",
            "Train Finished\n",
            "time : 1.0분 44.517805099487305초\n",
            "green is loss, gray is f1\n"
          ]
        },
        {
          "output_type": "display_data",
          "data": {
            "text/plain": [
              "<Figure size 432x288 with 2 Axes>"
            ],
            "image/png": "[encoded data removed]"
          },
          "metadata": {
            "needs_background": "light"
          }
        },
        {
          "output_type": "stream",
          "name": "stderr",
          "text": [
            "\u001b[32m[I 2022-06-08 17:24:56,772]\u001b[0m Trial 2 finished with value: 0.0 and parameters: {'learning_rate': 0.009869457358232596, 'weight_decay': 0.0023692942804177655, 'per_device_train_batch_size': 45}. Best is trial 1 with value: 0.8100237504389753.\u001b[0m\n"
          ]
        },
        {
          "output_type": "stream",
          "name": "stdout",
          "text": [
            "\n",
            "------------------------------------------\n",
            "\n",
            "\n",
            "batch_size : 76\n",
            "batch_size : 32\n"
          ]
        },
        {
          "output_type": "stream",
          "name": "stderr",
          "text": [
            "Some weights of the model checkpoint at klue/roberta-base were not used when initializing RobertaModel: ['lm_head.decoder.bias', 'lm_head.dense.bias', 'lm_head.decoder.weight', 'lm_head.layer_norm.weight', 'lm_head.dense.weight', 'lm_head.layer_norm.bias', 'lm_head.bias']\n",
            "- This IS expected if you are initializing RobertaModel from the checkpoint of a model trained on another task or with another architecture (e.g. initializing a BertForSequenceClassification model from a BertForPreTraining model).\n",
            "- This IS NOT expected if you are initializing RobertaModel from the checkpoint of a model that you expect to be exactly identical (initializing a BertForSequenceClassification model from a BertForSequenceClassification model).\n",
            "Some weights of RobertaModel were not initialized from the model checkpoint at klue/roberta-base and are newly initialized: ['roberta.pooler.dense.weight', 'roberta.pooler.dense.bias']\n",
            "You should probably TRAIN this model on a down-stream task to be able to use it for predictions and inference.\n"
          ]
        },
        {
          "output_type": "stream",
          "name": "stdout",
          "text": [
            "Total train steps with 4 epochs: 616\n",
            "model_name : klue/roberta-base, lr : 0.009269070920589378, weight_decay : 0.0030174596368868893, epochs : 4\n",
            "*****Epoch 0 Train Start*****\n",
            "Epoch: 0, Step : 128, LR : 0.0073279830, Avg Loss : 0.4716, f1 score : 0.0147\n",
            "Epoch 0 Total Mean Loss : 0.4755\n",
            "Epoch 0 Total Mean f1 : 0.0123\n",
            "*****Epoch 0 Train Finish*****\n",
            "\n",
            "*****Epoch 0 Valid Start*****\n",
            "Epoch 0 Valid Loss : 0.4175 Valid Acc : 0.5825 Valid f1 : 0.0000\n",
            "*****Epoch 0 Valid Finish*****\n",
            "\n",
            "Train Finished\n",
            "time : 1.0분 41.309600830078125초\n",
            "green is loss, gray is f1\n"
          ]
        },
        {
          "output_type": "display_data",
          "data": {
            "text/plain": [
              "<Figure size 432x288 with 2 Axes>"
            ],
            "image/png": "[encoded data removed]"
          },
          "metadata": {
            "needs_background": "light"
          }
        },
        {
          "output_type": "stream",
          "name": "stderr",
          "text": [
            "\u001b[32m[I 2022-06-08 17:26:52,515]\u001b[0m Trial 3 finished with value: 0.0 and parameters: {'learning_rate': 0.009269070920589378, 'weight_decay': 0.0030174596368868893, 'per_device_train_batch_size': 76}. Best is trial 1 with value: 0.8100237504389753.\u001b[0m\n"
          ]
        },
        {
          "output_type": "stream",
          "name": "stdout",
          "text": [
            "\n",
            "------------------------------------------\n",
            "\n",
            "\n",
            "batch_size : 57\n",
            "batch_size : 32\n"
          ]
        },
        {
          "output_type": "stream",
          "name": "stderr",
          "text": [
            "Some weights of the model checkpoint at klue/roberta-base were not used when initializing RobertaModel: ['lm_head.decoder.bias', 'lm_head.dense.bias', 'lm_head.decoder.weight', 'lm_head.layer_norm.weight', 'lm_head.dense.weight', 'lm_head.layer_norm.bias', 'lm_head.bias']\n",
            "- This IS expected if you are initializing RobertaModel from the checkpoint of a model trained on another task or with another architecture (e.g. initializing a BertForSequenceClassification model from a BertForPreTraining model).\n",
            "- This IS NOT expected if you are initializing RobertaModel from the checkpoint of a model that you expect to be exactly identical (initializing a BertForSequenceClassification model from a BertForSequenceClassification model).\n",
            "Some weights of RobertaModel were not initialized from the model checkpoint at klue/roberta-base and are newly initialized: ['roberta.pooler.dense.weight', 'roberta.pooler.dense.bias']\n",
            "You should probably TRAIN this model on a down-stream task to be able to use it for predictions and inference.\n"
          ]
        },
        {
          "output_type": "stream",
          "name": "stdout",
          "text": [
            "Total train steps with 4 epochs: 820\n",
            "model_name : klue/roberta-base, lr : 0.004399744748013493, weight_decay : 0.0010040681421018718, epochs : 4\n",
            "*****Epoch 0 Train Start*****\n",
            "Epoch: 0, Step : 128, LR : 0.0037075898, Avg Loss : 0.2575, f1 score : 0.2300\n",
            "Epoch 0 Total Mean Loss : 0.2547\n",
            "Epoch 0 Total Mean f1 : 0.1447\n",
            "*****Epoch 0 Train Finish*****\n",
            "\n",
            "*****Epoch 0 Valid Start*****\n",
            "Epoch 0 Valid Loss : 0.2481 Valid Acc : 0.5825 Valid f1 : 0.0000\n",
            "*****Epoch 0 Valid Finish*****\n",
            "\n",
            "Train Finished\n",
            "time : 1.0분 43.28410315513611초\n",
            "green is loss, gray is f1\n"
          ]
        },
        {
          "output_type": "display_data",
          "data": {
            "text/plain": [
              "<Figure size 432x288 with 2 Axes>"
            ],
            "image/png": "[encoded data removed]"
          },
          "metadata": {
            "needs_background": "light"
          }
        },
        {
          "output_type": "stream",
          "name": "stderr",
          "text": [
            "\u001b[32m[I 2022-06-08 17:28:50,289]\u001b[0m Trial 4 finished with value: 0.0 and parameters: {'learning_rate': 0.004399744748013493, 'weight_decay': 0.0010040681421018718, 'per_device_train_batch_size': 57}. Best is trial 1 with value: 0.8100237504389753.\u001b[0m\n"
          ]
        },
        {
          "output_type": "stream",
          "name": "stdout",
          "text": [
            "\n",
            "------------------------------------------\n",
            "\n",
            "\n",
            "batch_size : 56\n",
            "batch_size : 32\n"
          ]
        },
        {
          "output_type": "stream",
          "name": "stderr",
          "text": [
            "Some weights of the model checkpoint at klue/roberta-base were not used when initializing RobertaModel: ['lm_head.decoder.bias', 'lm_head.dense.bias', 'lm_head.decoder.weight', 'lm_head.layer_norm.weight', 'lm_head.dense.weight', 'lm_head.layer_norm.bias', 'lm_head.bias']\n",
            "- This IS expected if you are initializing RobertaModel from the checkpoint of a model trained on another task or with another architecture (e.g. initializing a BertForSequenceClassification model from a BertForPreTraining model).\n",
            "- This IS NOT expected if you are initializing RobertaModel from the checkpoint of a model that you expect to be exactly identical (initializing a BertForSequenceClassification model from a BertForSequenceClassification model).\n",
            "Some weights of RobertaModel were not initialized from the model checkpoint at klue/roberta-base and are newly initialized: ['roberta.pooler.dense.weight', 'roberta.pooler.dense.bias']\n",
            "You should probably TRAIN this model on a down-stream task to be able to use it for predictions and inference.\n"
          ]
        },
        {
          "output_type": "stream",
          "name": "stdout",
          "text": [
            "Total train steps with 4 epochs: 836\n",
            "model_name : klue/roberta-base, lr : 0.006080310444261164, weight_decay : 4.283008022837476e-05, epochs : 4\n",
            "*****Epoch 0 Train Start*****\n",
            "Epoch: 0, Step : 128, LR : 0.0051420807, Avg Loss : 0.2544, f1 score : 0.1862\n",
            "Epoch 0 Total Mean Loss : 0.2527\n",
            "Epoch 0 Total Mean f1 : 0.1150\n",
            "*****Epoch 0 Train Finish*****\n",
            "\n",
            "*****Epoch 0 Valid Start*****\n",
            "Epoch 0 Valid Loss : 0.2478 Valid Acc : 0.5825 Valid f1 : 0.0000\n",
            "*****Epoch 0 Valid Finish*****\n",
            "\n",
            "Train Finished\n",
            "time : 1.0분 43.005677938461304초\n",
            "green is loss, gray is f1\n"
          ]
        },
        {
          "output_type": "display_data",
          "data": {
            "text/plain": [
              "<Figure size 432x288 with 2 Axes>"
            ],
            "image/png": "[encoded data removed]"
          },
          "metadata": {
            "needs_background": "light"
          }
        },
        {
          "output_type": "stream",
          "name": "stderr",
          "text": [
            "\u001b[32m[I 2022-06-08 17:30:47,767]\u001b[0m Trial 5 finished with value: 0.0 and parameters: {'learning_rate': 0.006080310444261164, 'weight_decay': 4.283008022837476e-05, 'per_device_train_batch_size': 56}. Best is trial 1 with value: 0.8100237504389753.\u001b[0m\n"
          ]
        },
        {
          "output_type": "stream",
          "name": "stdout",
          "text": [
            "\n",
            "------------------------------------------\n",
            "\n",
            "\n",
            "batch_size : 54\n",
            "batch_size : 32\n"
          ]
        },
        {
          "output_type": "stream",
          "name": "stderr",
          "text": [
            "Some weights of the model checkpoint at klue/roberta-base were not used when initializing RobertaModel: ['lm_head.decoder.bias', 'lm_head.dense.bias', 'lm_head.decoder.weight', 'lm_head.layer_norm.weight', 'lm_head.dense.weight', 'lm_head.layer_norm.bias', 'lm_head.bias']\n",
            "- This IS expected if you are initializing RobertaModel from the checkpoint of a model trained on another task or with another architecture (e.g. initializing a BertForSequenceClassification model from a BertForPreTraining model).\n",
            "- This IS NOT expected if you are initializing RobertaModel from the checkpoint of a model that you expect to be exactly identical (initializing a BertForSequenceClassification model from a BertForSequenceClassification model).\n",
            "Some weights of RobertaModel were not initialized from the model checkpoint at klue/roberta-base and are newly initialized: ['roberta.pooler.dense.weight', 'roberta.pooler.dense.bias']\n",
            "You should probably TRAIN this model on a down-stream task to be able to use it for predictions and inference.\n"
          ]
        },
        {
          "output_type": "stream",
          "name": "stdout",
          "text": [
            "Total train steps with 4 epochs: 868\n",
            "model_name : klue/roberta-base, lr : 0.001083502229642499, weight_decay : 0.0001224521528346411, epochs : 4\n",
            "*****Epoch 0 Train Start*****\n",
            "Epoch: 0, Step : 128, LR : 0.0009224748, Avg Loss : 0.2516, f1 score : 0.1932\n",
            "Epoch 0 Total Mean Loss : 0.2510\n",
            "Epoch 0 Total Mean f1 : 0.3399\n",
            "*****Epoch 0 Train Finish*****\n",
            "\n",
            "*****Epoch 0 Valid Start*****\n",
            "Epoch 0 Valid Loss : 0.2505 Valid Acc : 0.4175 Valid f1 : 0.5857\n",
            "*****Epoch 0 Valid Finish*****\n",
            "\n",
            "*****Epoch 1 Train Start*****\n",
            "Epoch: 1, Step : 128, LR : 0.0006515993, Avg Loss : 0.2499, f1 score : 0.1379\n",
            "Epoch 1 Total Mean Loss : 0.2499\n",
            "Epoch 1 Total Mean f1 : 0.0820\n",
            "*****Epoch 1 Train Finish*****\n",
            "\n",
            "*****Epoch 1 Valid Start*****\n",
            "Epoch 1 Valid Loss : 0.2482 Valid Acc : 0.5825 Valid f1 : 0.0000\n",
            "*****Epoch 1 Valid Finish*****\n",
            "\n",
            "Train Finished\n",
            "time : 3.0분 26.20087504386902초\n",
            "green is loss, gray is f1\n"
          ]
        },
        {
          "output_type": "display_data",
          "data": {
            "text/plain": [
              "<Figure size 432x288 with 2 Axes>"
            ],
            "image/png": "[encoded data removed]"
          },
          "metadata": {
            "needs_background": "light"
          }
        },
        {
          "output_type": "stream",
          "name": "stderr",
          "text": [
            "\u001b[32m[I 2022-06-08 17:34:28,740]\u001b[0m Trial 6 finished with value: 0.585747622409982 and parameters: {'learning_rate': 0.001083502229642499, 'weight_decay': 0.0001224521528346411, 'per_device_train_batch_size': 54}. Best is trial 1 with value: 0.8100237504389753.\u001b[0m\n"
          ]
        },
        {
          "output_type": "stream",
          "name": "stdout",
          "text": [
            "\n",
            "------------------------------------------\n",
            "\n",
            "\n",
            "batch_size : 87\n",
            "batch_size : 32\n"
          ]
        },
        {
          "output_type": "stream",
          "name": "stderr",
          "text": [
            "Some weights of the model checkpoint at klue/roberta-base were not used when initializing RobertaModel: ['lm_head.decoder.bias', 'lm_head.dense.bias', 'lm_head.decoder.weight', 'lm_head.layer_norm.weight', 'lm_head.dense.weight', 'lm_head.layer_norm.bias', 'lm_head.bias']\n",
            "- This IS expected if you are initializing RobertaModel from the checkpoint of a model trained on another task or with another architecture (e.g. initializing a BertForSequenceClassification model from a BertForPreTraining model).\n",
            "- This IS NOT expected if you are initializing RobertaModel from the checkpoint of a model that you expect to be exactly identical (initializing a BertForSequenceClassification model from a BertForSequenceClassification model).\n",
            "Some weights of RobertaModel were not initialized from the model checkpoint at klue/roberta-base and are newly initialized: ['roberta.pooler.dense.weight', 'roberta.pooler.dense.bias']\n",
            "You should probably TRAIN this model on a down-stream task to be able to use it for predictions and inference.\n"
          ]
        },
        {
          "output_type": "stream",
          "name": "stdout",
          "text": [
            "Total train steps with 4 epochs: 540\n",
            "model_name : klue/roberta-base, lr : 0.0009600888253898992, weight_decay : 0.003091274454576633, epochs : 4\n",
            "*****Epoch 0 Train Start*****\n",
            "Epoch: 0, Step : 128, LR : 0.0007307343, Avg Loss : 0.2542, f1 score : 0.3295\n",
            "Epoch 0 Total Mean Loss : 0.2540\n",
            "Epoch 0 Total Mean f1 : 0.3163\n",
            "*****Epoch 0 Train Finish*****\n",
            "\n",
            "*****Epoch 0 Valid Start*****\n",
            "Epoch 0 Valid Loss : 0.2434 Valid Acc : 0.5825 Valid f1 : 0.0000\n",
            "*****Epoch 0 Valid Finish*****\n",
            "\n",
            "Train Finished\n",
            "time : 1.0분 39.93442416191101초\n",
            "green is loss, gray is f1\n"
          ]
        },
        {
          "output_type": "display_data",
          "data": {
            "text/plain": [
              "<Figure size 432x288 with 2 Axes>"
            ],
            "image/png": "[encoded data removed]"
          },
          "metadata": {
            "needs_background": "light"
          }
        },
        {
          "output_type": "stream",
          "name": "stderr",
          "text": [
            "\u001b[32m[I 2022-06-08 17:36:23,127]\u001b[0m Trial 7 finished with value: 0.0 and parameters: {'learning_rate': 0.0009600888253898992, 'weight_decay': 0.003091274454576633, 'per_device_train_batch_size': 87}. Best is trial 1 with value: 0.8100237504389753.\u001b[0m\n"
          ]
        },
        {
          "output_type": "stream",
          "name": "stdout",
          "text": [
            "\n",
            "------------------------------------------\n",
            "\n",
            "\n",
            "batch_size : 50\n",
            "batch_size : 32\n"
          ]
        },
        {
          "output_type": "stream",
          "name": "stderr",
          "text": [
            "Some weights of the model checkpoint at klue/roberta-base were not used when initializing RobertaModel: ['lm_head.decoder.bias', 'lm_head.dense.bias', 'lm_head.decoder.weight', 'lm_head.layer_norm.weight', 'lm_head.dense.weight', 'lm_head.layer_norm.bias', 'lm_head.bias']\n",
            "- This IS expected if you are initializing RobertaModel from the checkpoint of a model trained on another task or with another architecture (e.g. initializing a BertForSequenceClassification model from a BertForPreTraining model).\n",
            "- This IS NOT expected if you are initializing RobertaModel from the checkpoint of a model that you expect to be exactly identical (initializing a BertForSequenceClassification model from a BertForSequenceClassification model).\n",
            "Some weights of RobertaModel were not initialized from the model checkpoint at klue/roberta-base and are newly initialized: ['roberta.pooler.dense.weight', 'roberta.pooler.dense.bias']\n",
            "You should probably TRAIN this model on a down-stream task to be able to use it for predictions and inference.\n"
          ]
        },
        {
          "output_type": "stream",
          "name": "stdout",
          "text": [
            "Total train steps with 4 epochs: 936\n",
            "model_name : klue/roberta-base, lr : 0.0017844658457451914, weight_decay : 0.0004880445351291956, epochs : 4\n",
            "*****Epoch 0 Train Start*****\n",
            "Epoch: 0, Step : 128, LR : 0.0015385298, Avg Loss : 0.2530, f1 score : 0.3232\n",
            "Epoch 0 Total Mean Loss : 0.2520\n",
            "Epoch 0 Total Mean f1 : 0.3074\n",
            "*****Epoch 0 Train Finish*****\n",
            "\n",
            "*****Epoch 0 Valid Start*****\n",
            "Epoch 0 Valid Loss : 0.2550 Valid Acc : 0.4175 Valid f1 : 0.5857\n",
            "*****Epoch 0 Valid Finish*****\n",
            "\n",
            "*****Epoch 1 Train Start*****\n",
            "Epoch: 1, Step : 128, LR : 0.0010924134, Avg Loss : 0.2501, f1 score : 0.3243\n",
            "Epoch 1 Total Mean Loss : 0.2502\n",
            "Epoch 1 Total Mean f1 : 0.3023\n",
            "*****Epoch 1 Train Finish*****\n",
            "\n",
            "*****Epoch 1 Valid Start*****\n",
            "Epoch 1 Valid Loss : 0.2477 Valid Acc : 0.5825 Valid f1 : 0.0000\n",
            "*****Epoch 1 Valid Finish*****\n",
            "\n",
            "Train Finished\n",
            "time : 3.0분 27.029114246368408초\n",
            "green is loss, gray is f1\n"
          ]
        },
        {
          "output_type": "display_data",
          "data": {
            "text/plain": [
              "<Figure size 432x288 with 2 Axes>"
            ],
            "image/png": "[encoded data removed]"
          },
          "metadata": {
            "needs_background": "light"
          }
        },
        {
          "output_type": "stream",
          "name": "stderr",
          "text": [
            "\u001b[32m[I 2022-06-08 17:40:05,016]\u001b[0m Trial 8 finished with value: 0.585747622409982 and parameters: {'learning_rate': 0.0017844658457451914, 'weight_decay': 0.0004880445351291956, 'per_device_train_batch_size': 50}. Best is trial 1 with value: 0.8100237504389753.\u001b[0m\n"
          ]
        },
        {
          "output_type": "stream",
          "name": "stdout",
          "text": [
            "\n",
            "------------------------------------------\n",
            "\n",
            "\n",
            "batch_size : 40\n",
            "batch_size : 32\n"
          ]
        },
        {
          "output_type": "stream",
          "name": "stderr",
          "text": [
            "Some weights of the model checkpoint at klue/roberta-base were not used when initializing RobertaModel: ['lm_head.decoder.bias', 'lm_head.dense.bias', 'lm_head.decoder.weight', 'lm_head.layer_norm.weight', 'lm_head.dense.weight', 'lm_head.layer_norm.bias', 'lm_head.bias']\n",
            "- This IS expected if you are initializing RobertaModel from the checkpoint of a model trained on another task or with another architecture (e.g. initializing a BertForSequenceClassification model from a BertForPreTraining model).\n",
            "- This IS NOT expected if you are initializing RobertaModel from the checkpoint of a model that you expect to be exactly identical (initializing a BertForSequenceClassification model from a BertForSequenceClassification model).\n",
            "Some weights of RobertaModel were not initialized from the model checkpoint at klue/roberta-base and are newly initialized: ['roberta.pooler.dense.weight', 'roberta.pooler.dense.bias']\n",
            "You should probably TRAIN this model on a down-stream task to be able to use it for predictions and inference.\n"
          ]
        },
        {
          "output_type": "stream",
          "name": "stdout",
          "text": [
            "Total train steps with 4 epochs: 1168\n",
            "model_name : klue/roberta-base, lr : 0.00010168117111744502, weight_decay : 0.00597341717031394, epochs : 4\n",
            "*****Epoch 0 Train Start*****\n",
            "Epoch: 0, Step : 128, LR : 0.0000904510, Avg Loss : 0.1207, f1 score : 0.8185\n",
            "Epoch: 0, Step : 256, LR : 0.0000793078, Avg Loss : 0.0624, f1 score : 0.9193\n",
            "Epoch 0 Total Mean Loss : 0.0874\n",
            "Epoch 0 Total Mean f1 : 0.8763\n",
            "*****Epoch 0 Train Finish*****\n",
            "\n",
            "*****Epoch 0 Valid Start*****\n",
            "Epoch 0 Valid Loss : 0.1812 Valid Acc : 0.7918 Valid f1 : 0.7842\n",
            "*****Epoch 0 Valid Finish*****\n",
            "\n",
            "*****Epoch 1 Train Start*****\n",
            "Epoch: 1, Step : 128, LR : 0.0000650307, Avg Loss : 0.0441, f1 score : 0.9456\n",
            "Epoch: 1, Step : 256, LR : 0.0000538875, Avg Loss : 0.0395, f1 score : 0.9469\n",
            "Epoch 1 Total Mean Loss : 0.0421\n",
            "Epoch 1 Total Mean f1 : 0.9464\n",
            "*****Epoch 1 Train Finish*****\n",
            "\n",
            "*****Epoch 1 Valid Start*****\n",
            "Epoch 1 Valid Loss : 0.2244 Valid Acc : 0.7237 Valid f1 : 0.7323\n",
            "*****Epoch 1 Valid Finish*****\n",
            "\n",
            "*****Epoch 2 Train Start*****\n",
            "Epoch: 2, Step : 128, LR : 0.0000396104, Avg Loss : 0.0274, f1 score : 0.9673\n",
            "Epoch: 2, Step : 256, LR : 0.0000284672, Avg Loss : 0.0248, f1 score : 0.9679\n",
            "Epoch 2 Total Mean Loss : 0.0257\n",
            "Epoch 2 Total Mean f1 : 0.9679\n",
            "*****Epoch 2 Train Finish*****\n",
            "\n",
            "*****Epoch 2 Valid Start*****\n",
            "Epoch 2 Valid Loss : 0.1876 Valid Acc : 0.7763 Valid f1 : 0.7857\n",
            "*****Epoch 2 Valid Finish*****\n",
            "\n",
            "*****Epoch 3 Train Start*****\n",
            "Epoch: 3, Step : 128, LR : 0.0000141901, Avg Loss : 0.0149, f1 score : 0.9808\n",
            "Epoch: 3, Step : 256, LR : 0.0000030470, Avg Loss : 0.0148, f1 score : 0.9822\n",
            "Epoch 3 Total Mean Loss : 0.0145\n",
            "Epoch 3 Total Mean f1 : 0.9819\n",
            "*****Epoch 3 Train Finish*****\n",
            "\n",
            "*****Epoch 3 Valid Start*****\n",
            "Epoch 3 Valid Loss : 0.1593 Valid Acc : 0.8112 Valid f1 : 0.7986\n",
            "*****Epoch 3 Valid Finish*****\n",
            "\n",
            "Train Finished\n",
            "time : 7.0분 3.5694172382354736초\n",
            "green is loss, gray is f1\n"
          ]
        },
        {
          "output_type": "display_data",
          "data": {
            "text/plain": [
              "<Figure size 432x288 with 2 Axes>"
            ],
            "image/png": "[encoded data removed]"
          },
          "metadata": {
            "needs_background": "light"
          }
        },
        {
          "output_type": "stream",
          "name": "stderr",
          "text": [
            "\u001b[32m[I 2022-06-08 17:47:23,020]\u001b[0m Trial 9 finished with value: 0.7985697170664136 and parameters: {'learning_rate': 0.00010168117111744502, 'weight_decay': 0.00597341717031394, 'per_device_train_batch_size': 40}. Best is trial 1 with value: 0.8100237504389753.\u001b[0m\n"
          ]
        },
        {
          "output_type": "stream",
          "name": "stdout",
          "text": [
            "\n",
            "------------------------------------------\n",
            "\n",
            "\n",
            "batch_size : 19\n",
            "batch_size : 32\n"
          ]
        },
        {
          "output_type": "stream",
          "name": "stderr",
          "text": [
            "Some weights of the model checkpoint at klue/roberta-base were not used when initializing RobertaModel: ['lm_head.decoder.bias', 'lm_head.dense.bias', 'lm_head.decoder.weight', 'lm_head.layer_norm.weight', 'lm_head.dense.weight', 'lm_head.layer_norm.bias', 'lm_head.bias']\n",
            "- This IS expected if you are initializing RobertaModel from the checkpoint of a model trained on another task or with another architecture (e.g. initializing a BertForSequenceClassification model from a BertForPreTraining model).\n",
            "- This IS NOT expected if you are initializing RobertaModel from the checkpoint of a model that you expect to be exactly identical (initializing a BertForSequenceClassification model from a BertForSequenceClassification model).\n",
            "Some weights of RobertaModel were not initialized from the model checkpoint at klue/roberta-base and are newly initialized: ['roberta.pooler.dense.weight', 'roberta.pooler.dense.bias']\n",
            "You should probably TRAIN this model on a down-stream task to be able to use it for predictions and inference.\n"
          ]
        },
        {
          "output_type": "stream",
          "name": "stdout",
          "text": [
            "Total train steps with 4 epochs: 2460\n",
            "model_name : klue/roberta-base, lr : 0.00012477943546822094, weight_decay : 0.0001676411443427781, epochs : 4\n",
            "*****Epoch 0 Train Start*****\n",
            "Epoch: 0, Step : 128, LR : 0.0001182361, Avg Loss : 0.1430, f1 score : 0.7464\n",
            "Epoch: 0, Step : 256, LR : 0.0001117435, Avg Loss : 0.1361, f1 score : 0.8290\n",
            "Epoch: 0, Step : 384, LR : 0.0001052509, Avg Loss : 0.1250, f1 score : 0.8299\n",
            "Epoch: 0, Step : 512, LR : 0.0000987584, Avg Loss : 0.1273, f1 score : 0.8389\n",
            "Epoch 0 Total Mean Loss : 0.1335\n",
            "Epoch 0 Total Mean f1 : 0.8107\n",
            "*****Epoch 0 Train Finish*****\n",
            "\n",
            "*****Epoch 0 Valid Start*****\n",
            "Epoch 0 Valid Loss : 0.2137 Valid Acc : 0.7130 Valid f1 : 0.5828\n",
            "*****Epoch 0 Valid Finish*****\n",
            "\n",
            "*****Epoch 1 Train Start*****\n",
            "Epoch: 1, Step : 128, LR : 0.0000870413, Avg Loss : 0.1413, f1 score : 0.7785\n",
            "Epoch: 1, Step : 256, LR : 0.0000805487, Avg Loss : 0.2295, f1 score : 0.2754\n",
            "Epoch: 1, Step : 384, LR : 0.0000740561, Avg Loss : 0.2485, f1 score : 0.2440\n",
            "Epoch: 1, Step : 512, LR : 0.0000675635, Avg Loss : 0.2394, f1 score : 0.2660\n"
          ]
        },
        {
          "output_type": "stream",
          "name": "stderr",
          "text": [
            "/usr/local/lib/python3.7/dist-packages/sklearn/metrics/_classification.py:1580: UndefinedMetricWarning: F-score is ill-defined and being set to 0.0 due to no true nor predicted samples. Use `zero_division` parameter to control this behavior.\n",
            "  _warn_prf(average, \"true nor predicted\", \"F-score is\", len(true_sum))\n"
          ]
        },
        {
          "output_type": "stream",
          "name": "stdout",
          "text": [
            "Epoch 1 Total Mean Loss : 0.2185\n",
            "Epoch 1 Total Mean f1 : 0.3556\n",
            "*****Epoch 1 Train Finish*****\n",
            "\n",
            "*****Epoch 1 Valid Start*****\n",
            "Epoch 1 Valid Loss : 0.2350 Valid Acc : 0.6284 Valid f1 : 0.2065\n",
            "*****Epoch 1 Valid Finish*****\n",
            "\n",
            "*****Epoch 2 Train Start*****\n",
            "Epoch: 2, Step : 128, LR : 0.0000558464, Avg Loss : 0.2440, f1 score : 0.1081\n",
            "Epoch: 2, Step : 256, LR : 0.0000493538, Avg Loss : 0.2441, f1 score : 0.0891\n",
            "Epoch: 2, Step : 384, LR : 0.0000428612, Avg Loss : 0.2352, f1 score : 0.2255\n",
            "Epoch: 2, Step : 512, LR : 0.0000363686, Avg Loss : 0.1697, f1 score : 0.6975\n",
            "Epoch 2 Total Mean Loss : 0.2104\n",
            "Epoch 2 Total Mean f1 : 0.3638\n",
            "*****Epoch 2 Train Finish*****\n",
            "\n",
            "*****Epoch 2 Valid Start*****\n",
            "Epoch 2 Valid Loss : 0.2210 Valid Acc : 0.6891 Valid f1 : 0.5033\n",
            "*****Epoch 2 Valid Finish*****\n",
            "\n",
            "*****Epoch 3 Train Start*****\n",
            "Epoch: 3, Step : 128, LR : 0.0000246515, Avg Loss : 0.1617, f1 score : 0.7059\n",
            "Epoch: 3, Step : 256, LR : 0.0000181590, Avg Loss : 0.2155, f1 score : 0.4318\n",
            "Epoch: 3, Step : 384, LR : 0.0000116664, Avg Loss : 0.2252, f1 score : 0.3873\n",
            "Epoch: 3, Step : 512, LR : 0.0000051738, Avg Loss : 0.2313, f1 score : 0.3248\n"
          ]
        },
        {
          "output_type": "stream",
          "name": "stderr",
          "text": [
            "/usr/local/lib/python3.7/dist-packages/sklearn/metrics/_classification.py:1580: UndefinedMetricWarning: F-score is ill-defined and being set to 0.0 due to no true nor predicted samples. Use `zero_division` parameter to control this behavior.\n",
            "  _warn_prf(average, \"true nor predicted\", \"F-score is\", len(true_sum))\n"
          ]
        },
        {
          "output_type": "stream",
          "name": "stdout",
          "text": [
            "Epoch 3 Total Mean Loss : 0.2148\n",
            "Epoch 3 Total Mean f1 : 0.4275\n",
            "*****Epoch 3 Train Finish*****\n",
            "\n",
            "*****Epoch 3 Valid Start*****\n",
            "Epoch 3 Valid Loss : 0.2435 Valid Acc : 0.6027 Valid f1 : 0.1210\n",
            "*****Epoch 3 Valid Finish*****\n",
            "\n",
            "Train Finished\n",
            "time : 7.0분 10.065274477005005초\n",
            "green is loss, gray is f1\n"
          ]
        },
        {
          "output_type": "display_data",
          "data": {
            "text/plain": [
              "<Figure size 432x288 with 2 Axes>"
            ],
            "image/png": "[encoded data removed]"
          },
          "metadata": {
            "needs_background": "light"
          }
        },
        {
          "output_type": "stream",
          "name": "stderr",
          "text": [
            "\u001b[32m[I 2022-06-08 17:54:47,542]\u001b[0m Trial 10 finished with value: 0.5827732508324738 and parameters: {'learning_rate': 0.00012477943546822094, 'weight_decay': 0.0001676411443427781, 'per_device_train_batch_size': 19}. Best is trial 1 with value: 0.8100237504389753.\u001b[0m\n"
          ]
        },
        {
          "output_type": "stream",
          "name": "stdout",
          "text": [
            "\n",
            "------------------------------------------\n",
            "\n",
            "\n",
            "batch_size : 38\n",
            "batch_size : 32\n"
          ]
        },
        {
          "output_type": "stream",
          "name": "stderr",
          "text": [
            "Some weights of the model checkpoint at klue/roberta-base were not used when initializing RobertaModel: ['lm_head.decoder.bias', 'lm_head.dense.bias', 'lm_head.decoder.weight', 'lm_head.layer_norm.weight', 'lm_head.dense.weight', 'lm_head.layer_norm.bias', 'lm_head.bias']\n",
            "- This IS expected if you are initializing RobertaModel from the checkpoint of a model trained on another task or with another architecture (e.g. initializing a BertForSequenceClassification model from a BertForPreTraining model).\n",
            "- This IS NOT expected if you are initializing RobertaModel from the checkpoint of a model that you expect to be exactly identical (initializing a BertForSequenceClassification model from a BertForSequenceClassification model).\n",
            "Some weights of RobertaModel were not initialized from the model checkpoint at klue/roberta-base and are newly initialized: ['roberta.pooler.dense.weight', 'roberta.pooler.dense.bias']\n",
            "You should probably TRAIN this model on a down-stream task to be able to use it for predictions and inference.\n"
          ]
        },
        {
          "output_type": "stream",
          "name": "stdout",
          "text": [
            "Total train steps with 4 epochs: 1232\n",
            "model_name : klue/roberta-base, lr : 9.122297649951162e-05, weight_decay : 0.009871164157374166, epochs : 4\n",
            "*****Epoch 0 Train Start*****\n",
            "Epoch: 0, Step : 128, LR : 0.0000816712, Avg Loss : 0.0872, f1 score : 0.8603\n",
            "Epoch: 0, Step : 256, LR : 0.0000721935, Avg Loss : 0.0687, f1 score : 0.9180\n"
          ]
        },
        {
          "output_type": "stream",
          "name": "stderr",
          "text": [
            "/usr/local/lib/python3.7/dist-packages/sklearn/metrics/_classification.py:1580: UndefinedMetricWarning: F-score is ill-defined and being set to 0.0 due to no true nor predicted samples. Use `zero_division` parameter to control this behavior.\n",
            "  _warn_prf(average, \"true nor predicted\", \"F-score is\", len(true_sum))\n"
          ]
        },
        {
          "output_type": "stream",
          "name": "stdout",
          "text": [
            "Epoch 0 Total Mean Loss : 0.0760\n",
            "Epoch 0 Total Mean f1 : 0.8907\n",
            "*****Epoch 0 Train Finish*****\n",
            "\n",
            "*****Epoch 0 Valid Start*****\n",
            "Epoch 0 Valid Loss : 0.1841 Valid Acc : 0.7873 Valid f1 : 0.7488\n",
            "*****Epoch 0 Valid Finish*****\n",
            "\n",
            "*****Epoch 1 Train Start*****\n",
            "Epoch: 1, Step : 128, LR : 0.0000588655, Avg Loss : 0.0532, f1 score : 0.9310\n",
            "Epoch: 1, Step : 256, LR : 0.0000493878, Avg Loss : 0.0465, f1 score : 0.9442\n"
          ]
        },
        {
          "output_type": "stream",
          "name": "stderr",
          "text": [
            "/usr/local/lib/python3.7/dist-packages/sklearn/metrics/_classification.py:1580: UndefinedMetricWarning: F-score is ill-defined and being set to 0.0 due to no true nor predicted samples. Use `zero_division` parameter to control this behavior.\n",
            "  _warn_prf(average, \"true nor predicted\", \"F-score is\", len(true_sum))\n"
          ]
        },
        {
          "output_type": "stream",
          "name": "stdout",
          "text": [
            "Epoch 1 Total Mean Loss : 0.0477\n",
            "Epoch 1 Total Mean f1 : 0.9365\n",
            "*****Epoch 1 Train Finish*****\n",
            "\n",
            "*****Epoch 1 Valid Start*****\n",
            "Epoch 1 Valid Loss : 0.1521 Valid Acc : 0.8075 Valid f1 : 0.7897\n",
            "*****Epoch 1 Valid Finish*****\n",
            "\n",
            "*****Epoch 2 Train Start*****\n",
            "Epoch: 2, Step : 128, LR : 0.0000360597, Avg Loss : 0.0323, f1 score : 0.9612\n",
            "Epoch: 2, Step : 256, LR : 0.0000265820, Avg Loss : 0.0293, f1 score : 0.9606\n",
            "Epoch 2 Total Mean Loss : 0.0297\n",
            "Epoch 2 Total Mean f1 : 0.9624\n",
            "*****Epoch 2 Train Finish*****\n",
            "\n",
            "*****Epoch 2 Valid Start*****\n",
            "Epoch 2 Valid Loss : 0.1311 Valid Acc : 0.8380 Valid f1 : 0.8258\n",
            "*****Epoch 2 Valid Finish*****\n",
            "\n",
            "Saving epoch 2 checkpoint at /content/drive/MyDrive/Colab Notebooks/nlp/epoch:2_loss:0.1311_f1:0.8258.ckpt\n",
            "*****Epoch 3 Train Start*****\n",
            "Epoch: 3, Step : 128, LR : 0.0000132540, Avg Loss : 0.0202, f1 score : 0.9764\n",
            "Epoch: 3, Step : 256, LR : 0.0000037763, Avg Loss : 0.0166, f1 score : 0.9800\n",
            "Epoch 3 Total Mean Loss : 0.0183\n",
            "Epoch 3 Total Mean f1 : 0.9782\n",
            "*****Epoch 3 Train Finish*****\n",
            "\n",
            "*****Epoch 3 Valid Start*****\n",
            "Epoch 3 Valid Loss : 0.1618 Valid Acc : 0.8038 Valid f1 : 0.7762\n",
            "*****Epoch 3 Valid Finish*****\n",
            "\n",
            "Train Finished\n",
            "time : 7.0분 9.600947141647339초\n",
            "green is loss, gray is f1\n"
          ]
        },
        {
          "output_type": "display_data",
          "data": {
            "text/plain": [
              "<Figure size 432x288 with 2 Axes>"
            ],
            "image/png": "[encoded data removed]"
          },
          "metadata": {
            "needs_background": "light"
          }
        },
        {
          "output_type": "stream",
          "name": "stderr",
          "text": [
            "\u001b[32m[I 2022-06-08 18:02:11,847]\u001b[0m Trial 11 finished with value: 0.825769567541471 and parameters: {'learning_rate': 9.122297649951162e-05, 'weight_decay': 0.009871164157374166, 'per_device_train_batch_size': 38}. Best is trial 11 with value: 0.825769567541471.\u001b[0m\n"
          ]
        },
        {
          "output_type": "stream",
          "name": "stdout",
          "text": [
            "\n",
            "------------------------------------------\n",
            "\n",
            "\n",
            "batch_size : 28\n",
            "batch_size : 32\n"
          ]
        },
        {
          "output_type": "stream",
          "name": "stderr",
          "text": [
            "Some weights of the model checkpoint at klue/roberta-base were not used when initializing RobertaModel: ['lm_head.decoder.bias', 'lm_head.dense.bias', 'lm_head.decoder.weight', 'lm_head.layer_norm.weight', 'lm_head.dense.weight', 'lm_head.layer_norm.bias', 'lm_head.bias']\n",
            "- This IS expected if you are initializing RobertaModel from the checkpoint of a model trained on another task or with another architecture (e.g. initializing a BertForSequenceClassification model from a BertForPreTraining model).\n",
            "- This IS NOT expected if you are initializing RobertaModel from the checkpoint of a model that you expect to be exactly identical (initializing a BertForSequenceClassification model from a BertForSequenceClassification model).\n",
            "Some weights of RobertaModel were not initialized from the model checkpoint at klue/roberta-base and are newly initialized: ['roberta.pooler.dense.weight', 'roberta.pooler.dense.bias']\n",
            "You should probably TRAIN this model on a down-stream task to be able to use it for predictions and inference.\n"
          ]
        },
        {
          "output_type": "stream",
          "name": "stdout",
          "text": [
            "Total train steps with 4 epochs: 1668\n",
            "model_name : klue/roberta-base, lr : 0.00024288736617466766, weight_decay : 0.00045861292246667553, epochs : 4\n",
            "*****Epoch 0 Train Start*****\n",
            "Epoch: 0, Step : 128, LR : 0.0002241029, Avg Loss : 0.2521, f1 score : 0.2801\n",
            "Epoch: 0, Step : 256, LR : 0.0002054641, Avg Loss : 0.2494, f1 score : 0.0000\n",
            "Epoch: 0, Step : 384, LR : 0.0001868252, Avg Loss : 0.2502, f1 score : 0.0000\n",
            "Epoch 0 Total Mean Loss : 0.2505\n",
            "Epoch 0 Total Mean f1 : 0.0866\n",
            "*****Epoch 0 Train Finish*****\n",
            "\n",
            "*****Epoch 0 Valid Start*****\n",
            "Epoch 0 Valid Loss : 0.2487 Valid Acc : 0.5825 Valid f1 : 0.0000\n",
            "*****Epoch 0 Valid Finish*****\n",
            "\n",
            "Train Finished\n",
            "time : 1.0분 47.47777557373047초\n",
            "green is loss, gray is f1\n"
          ]
        },
        {
          "output_type": "display_data",
          "data": {
            "text/plain": [
              "<Figure size 432x288 with 2 Axes>"
            ],
            "image/png": "[encoded data removed]"
          },
          "metadata": {
            "needs_background": "light"
          }
        },
        {
          "output_type": "stream",
          "name": "stderr",
          "text": [
            "\u001b[32m[I 2022-06-08 18:04:13,898]\u001b[0m Trial 12 finished with value: 0.0 and parameters: {'learning_rate': 0.00024288736617466766, 'weight_decay': 0.00045861292246667553, 'per_device_train_batch_size': 28}. Best is trial 11 with value: 0.825769567541471.\u001b[0m\n"
          ]
        },
        {
          "output_type": "stream",
          "name": "stdout",
          "text": [
            "\n",
            "------------------------------------------\n",
            "\n",
            "\n",
            "batch_size : 70\n",
            "batch_size : 32\n"
          ]
        },
        {
          "output_type": "stream",
          "name": "stderr",
          "text": [
            "Some weights of the model checkpoint at klue/roberta-base were not used when initializing RobertaModel: ['lm_head.decoder.bias', 'lm_head.dense.bias', 'lm_head.decoder.weight', 'lm_head.layer_norm.weight', 'lm_head.dense.weight', 'lm_head.layer_norm.bias', 'lm_head.bias']\n",
            "- This IS expected if you are initializing RobertaModel from the checkpoint of a model trained on another task or with another architecture (e.g. initializing a BertForSequenceClassification model from a BertForPreTraining model).\n",
            "- This IS NOT expected if you are initializing RobertaModel from the checkpoint of a model that you expect to be exactly identical (initializing a BertForSequenceClassification model from a BertForSequenceClassification model).\n",
            "Some weights of RobertaModel were not initialized from the model checkpoint at klue/roberta-base and are newly initialized: ['roberta.pooler.dense.weight', 'roberta.pooler.dense.bias']\n",
            "You should probably TRAIN this model on a down-stream task to be able to use it for predictions and inference.\n"
          ]
        },
        {
          "output_type": "stream",
          "name": "stdout",
          "text": [
            "Total train steps with 4 epochs: 668\n",
            "model_name : klue/roberta-base, lr : 5.556702312758466e-05, weight_decay : 5.1179364509363895e-05, epochs : 4\n",
            "*****Epoch 0 Train Start*****\n",
            "Epoch: 0, Step : 128, LR : 0.0000448363, Avg Loss : 0.0783, f1 score : 0.8672\n",
            "Epoch 0 Total Mean Loss : 0.0693\n",
            "Epoch 0 Total Mean f1 : 0.8859\n",
            "*****Epoch 0 Train Finish*****\n",
            "\n",
            "*****Epoch 0 Valid Start*****\n",
            "Epoch 0 Valid Loss : 0.2413 Valid Acc : 0.7329 Valid f1 : 0.7570\n",
            "*****Epoch 0 Valid Finish*****\n",
            "\n",
            "*****Epoch 1 Train Start*****\n",
            "Epoch: 1, Step : 128, LR : 0.0000309445, Avg Loss : 0.0274, f1 score : 0.9635\n",
            "Epoch 1 Total Mean Loss : 0.0270\n",
            "Epoch 1 Total Mean f1 : 0.9641\n",
            "*****Epoch 1 Train Finish*****\n",
            "\n",
            "*****Epoch 1 Valid Start*****\n",
            "Epoch 1 Valid Loss : 0.1465 Valid Acc : 0.8377 Valid f1 : 0.8278\n",
            "*****Epoch 1 Valid Finish*****\n",
            "\n",
            "Saving epoch 1 checkpoint at /content/drive/MyDrive/Colab Notebooks/nlp/epoch:1_loss:0.1465_f1:0.8278.ckpt\n",
            "*****Epoch 2 Train Start*****\n",
            "Epoch: 2, Step : 128, LR : 0.0000170528, Avg Loss : 0.0143, f1 score : 0.9829\n",
            "Epoch 2 Total Mean Loss : 0.0147\n",
            "Epoch 2 Total Mean f1 : 0.9823\n",
            "*****Epoch 2 Train Finish*****\n",
            "\n",
            "*****Epoch 2 Valid Start*****\n",
            "Epoch 2 Valid Loss : 0.1415 Valid Acc : 0.8332 Valid f1 : 0.8249\n",
            "*****Epoch 2 Valid Finish*****\n",
            "\n",
            "*****Epoch 3 Train Start*****\n",
            "Epoch: 3, Step : 128, LR : 0.0000031610, Avg Loss : 0.0085, f1 score : 0.9897\n",
            "Epoch 3 Total Mean Loss : 0.0091\n",
            "Epoch 3 Total Mean f1 : 0.9892\n",
            "*****Epoch 3 Train Finish*****\n",
            "\n",
            "*****Epoch 3 Valid Start*****\n",
            "Epoch 3 Valid Loss : 0.1432 Valid Acc : 0.8472 Valid f1 : 0.8345\n",
            "*****Epoch 3 Valid Finish*****\n",
            "\n",
            "Saving epoch 3 checkpoint at /content/drive/MyDrive/Colab Notebooks/nlp/epoch:3_loss:0.1432_f1:0.8345.ckpt\n",
            "Train Finished\n",
            "time : 6.0분 55.07378888130188초\n",
            "green is loss, gray is f1\n"
          ]
        },
        {
          "output_type": "display_data",
          "data": {
            "text/plain": [
              "<Figure size 432x288 with 2 Axes>"
            ],
            "image/png": "[encoded data removed]"
          },
          "metadata": {
            "needs_background": "light"
          }
        },
        {
          "output_type": "stream",
          "name": "stderr",
          "text": [
            "\u001b[32m[I 2022-06-08 18:11:23,458]\u001b[0m Trial 13 finished with value: 0.8345308559036908 and parameters: {'learning_rate': 5.556702312758466e-05, 'weight_decay': 5.1179364509363895e-05, 'per_device_train_batch_size': 70}. Best is trial 13 with value: 0.8345308559036908.\u001b[0m\n"
          ]
        },
        {
          "output_type": "stream",
          "name": "stdout",
          "text": [
            "\n",
            "------------------------------------------\n",
            "\n",
            "\n",
            "batch_size : 71\n",
            "batch_size : 32\n"
          ]
        },
        {
          "output_type": "stream",
          "name": "stderr",
          "text": [
            "Some weights of the model checkpoint at klue/roberta-base were not used when initializing RobertaModel: ['lm_head.decoder.bias', 'lm_head.dense.bias', 'lm_head.decoder.weight', 'lm_head.layer_norm.weight', 'lm_head.dense.weight', 'lm_head.layer_norm.bias', 'lm_head.bias']\n",
            "- This IS expected if you are initializing RobertaModel from the checkpoint of a model trained on another task or with another architecture (e.g. initializing a BertForSequenceClassification model from a BertForPreTraining model).\n",
            "- This IS NOT expected if you are initializing RobertaModel from the checkpoint of a model that you expect to be exactly identical (initializing a BertForSequenceClassification model from a BertForSequenceClassification model).\n",
            "Some weights of RobertaModel were not initialized from the model checkpoint at klue/roberta-base and are newly initialized: ['roberta.pooler.dense.weight', 'roberta.pooler.dense.bias']\n",
            "You should probably TRAIN this model on a down-stream task to be able to use it for predictions and inference.\n"
          ]
        },
        {
          "output_type": "stream",
          "name": "stdout",
          "text": [
            "Total train steps with 4 epochs: 660\n",
            "model_name : klue/roberta-base, lr : 5.210319121127111e-05, weight_decay : 0.00013149381123269137, epochs : 4\n",
            "*****Epoch 0 Train Start*****\n",
            "Epoch: 0, Step : 128, LR : 0.0000419194, Avg Loss : 0.0966, f1 score : 0.8388\n",
            "Epoch 0 Total Mean Loss : 0.0858\n",
            "Epoch 0 Total Mean f1 : 0.8617\n",
            "*****Epoch 0 Train Finish*****\n",
            "\n",
            "*****Epoch 0 Valid Start*****\n",
            "Epoch 0 Valid Loss : 0.1766 Valid Acc : 0.7844 Valid f1 : 0.7939\n",
            "*****Epoch 0 Valid Finish*****\n",
            "\n",
            "*****Epoch 1 Train Start*****\n",
            "Epoch: 1, Step : 128, LR : 0.0000288936, Avg Loss : 0.0372, f1 score : 0.9538\n",
            "Epoch 1 Total Mean Loss : 0.0353\n",
            "Epoch 1 Total Mean f1 : 0.9564\n",
            "*****Epoch 1 Train Finish*****\n",
            "\n",
            "*****Epoch 1 Valid Start*****\n",
            "Epoch 1 Valid Loss : 0.1397 Valid Acc : 0.8277 Valid f1 : 0.8061\n",
            "*****Epoch 1 Valid Finish*****\n",
            "\n",
            "*****Epoch 2 Train Start*****\n",
            "Epoch: 2, Step : 128, LR : 0.0000158678, Avg Loss : 0.0219, f1 score : 0.9731\n",
            "Epoch 2 Total Mean Loss : 0.0219\n",
            "Epoch 2 Total Mean f1 : 0.9726\n",
            "*****Epoch 2 Train Finish*****\n",
            "\n",
            "*****Epoch 2 Valid Start*****\n",
            "Epoch 2 Valid Loss : 0.1551 Valid Acc : 0.8214 Valid f1 : 0.8181\n",
            "*****Epoch 2 Valid Finish*****\n",
            "\n",
            "*****Epoch 3 Train Start*****\n",
            "Epoch: 3, Step : 128, LR : 0.0000028420, Avg Loss : 0.0139, f1 score : 0.9829\n",
            "Epoch 3 Total Mean Loss : 0.0135\n",
            "Epoch 3 Total Mean f1 : 0.9837\n",
            "*****Epoch 3 Train Finish*****\n",
            "\n",
            "*****Epoch 3 Valid Start*****\n",
            "Epoch 3 Valid Loss : 0.1619 Valid Acc : 0.8141 Valid f1 : 0.8083\n",
            "*****Epoch 3 Valid Finish*****\n",
            "\n",
            "Train Finished\n",
            "time : 6.0분 44.996328592300415초\n",
            "green is loss, gray is f1\n"
          ]
        },
        {
          "output_type": "display_data",
          "data": {
            "text/plain": [
              "<Figure size 432x288 with 2 Axes>"
            ],
            "image/png": "[encoded data removed]"
          },
          "metadata": {
            "needs_background": "light"
          }
        },
        {
          "output_type": "stream",
          "name": "stderr",
          "text": [
            "\u001b[32m[I 2022-06-08 18:18:23,055]\u001b[0m Trial 14 finished with value: 0.8180681320799517 and parameters: {'learning_rate': 5.210319121127111e-05, 'weight_decay': 0.00013149381123269137, 'per_device_train_batch_size': 71}. Best is trial 13 with value: 0.8345308559036908.\u001b[0m\n"
          ]
        },
        {
          "output_type": "stream",
          "name": "stdout",
          "text": [
            "\n",
            "------------------------------------------\n",
            "\n",
            "\n",
            "batch_size : 67\n",
            "batch_size : 32\n"
          ]
        },
        {
          "output_type": "stream",
          "name": "stderr",
          "text": [
            "Some weights of the model checkpoint at klue/roberta-base were not used when initializing RobertaModel: ['lm_head.decoder.bias', 'lm_head.dense.bias', 'lm_head.decoder.weight', 'lm_head.layer_norm.weight', 'lm_head.dense.weight', 'lm_head.layer_norm.bias', 'lm_head.bias']\n",
            "- This IS expected if you are initializing RobertaModel from the checkpoint of a model trained on another task or with another architecture (e.g. initializing a BertForSequenceClassification model from a BertForPreTraining model).\n",
            "- This IS NOT expected if you are initializing RobertaModel from the checkpoint of a model that you expect to be exactly identical (initializing a BertForSequenceClassification model from a BertForSequenceClassification model).\n",
            "Some weights of RobertaModel were not initialized from the model checkpoint at klue/roberta-base and are newly initialized: ['roberta.pooler.dense.weight', 'roberta.pooler.dense.bias']\n",
            "You should probably TRAIN this model on a down-stream task to be able to use it for predictions and inference.\n"
          ]
        },
        {
          "output_type": "stream",
          "name": "stdout",
          "text": [
            "Total train steps with 4 epochs: 700\n",
            "model_name : klue/roberta-base, lr : 0.0003523890404889373, weight_decay : 0.0012775383961204508, epochs : 4\n",
            "*****Epoch 0 Train Start*****\n",
            "Epoch: 0, Step : 128, LR : 0.0002874488, Avg Loss : 0.2511, f1 score : 0.3714\n",
            "Epoch 0 Total Mean Loss : 0.2507\n",
            "Epoch 0 Total Mean f1 : 0.3390\n",
            "*****Epoch 0 Train Finish*****\n",
            "\n",
            "*****Epoch 0 Valid Start*****\n",
            "Epoch 0 Valid Loss : 0.2458 Valid Acc : 0.5825 Valid f1 : 0.0000\n",
            "*****Epoch 0 Valid Finish*****\n",
            "\n",
            "Train Finished\n",
            "time : 1.0분 41.390246629714966초\n",
            "green is loss, gray is f1\n"
          ]
        },
        {
          "output_type": "display_data",
          "data": {
            "text/plain": [
              "<Figure size 432x288 with 2 Axes>"
            ],
            "image/png": "[encoded data removed]"
          },
          "metadata": {
            "needs_background": "light"
          }
        },
        {
          "output_type": "stream",
          "name": "stderr",
          "text": [
            "\u001b[32m[I 2022-06-08 18:20:19,243]\u001b[0m Trial 15 finished with value: 0.0 and parameters: {'learning_rate': 0.0003523890404889373, 'weight_decay': 0.0012775383961204508, 'per_device_train_batch_size': 67}. Best is trial 13 with value: 0.8345308559036908.\u001b[0m\n"
          ]
        },
        {
          "output_type": "stream",
          "name": "stdout",
          "text": [
            "\n",
            "------------------------------------------\n",
            "\n",
            "\n",
            "batch_size : 35\n",
            "batch_size : 32\n"
          ]
        },
        {
          "output_type": "stream",
          "name": "stderr",
          "text": [
            "Some weights of the model checkpoint at klue/roberta-base were not used when initializing RobertaModel: ['lm_head.decoder.bias', 'lm_head.dense.bias', 'lm_head.decoder.weight', 'lm_head.layer_norm.weight', 'lm_head.dense.weight', 'lm_head.layer_norm.bias', 'lm_head.bias']\n",
            "- This IS expected if you are initializing RobertaModel from the checkpoint of a model trained on another task or with another architecture (e.g. initializing a BertForSequenceClassification model from a BertForPreTraining model).\n",
            "- This IS NOT expected if you are initializing RobertaModel from the checkpoint of a model that you expect to be exactly identical (initializing a BertForSequenceClassification model from a BertForSequenceClassification model).\n",
            "Some weights of RobertaModel were not initialized from the model checkpoint at klue/roberta-base and are newly initialized: ['roberta.pooler.dense.weight', 'roberta.pooler.dense.bias']\n",
            "You should probably TRAIN this model on a down-stream task to be able to use it for predictions and inference.\n"
          ]
        },
        {
          "output_type": "stream",
          "name": "stdout",
          "text": [
            "Total train steps with 4 epochs: 1336\n",
            "model_name : klue/roberta-base, lr : 6.001121293727358e-05, weight_decay : 0.00021687813626212552, epochs : 4\n",
            "*****Epoch 0 Train Start*****\n",
            "Epoch: 0, Step : 128, LR : 0.0000542167, Avg Loss : 0.0860, f1 score : 0.8550\n",
            "Epoch: 0, Step : 256, LR : 0.0000484671, Avg Loss : 0.0489, f1 score : 0.9365\n",
            "Epoch 0 Total Mean Loss : 0.0633\n",
            "Epoch 0 Total Mean f1 : 0.9047\n",
            "*****Epoch 0 Train Finish*****\n",
            "\n",
            "*****Epoch 0 Valid Start*****\n",
            "Epoch 0 Valid Loss : 0.1404 Valid Acc : 0.8057 Valid f1 : 0.8085\n",
            "*****Epoch 0 Valid Finish*****\n",
            "\n",
            "*****Epoch 1 Train Start*****\n",
            "Epoch: 1, Step : 128, LR : 0.0000392139, Avg Loss : 0.0343, f1 score : 0.9544\n",
            "Epoch: 1, Step : 256, LR : 0.0000334643, Avg Loss : 0.0311, f1 score : 0.9603\n",
            "Epoch 1 Total Mean Loss : 0.0322\n",
            "Epoch 1 Total Mean f1 : 0.9576\n",
            "*****Epoch 1 Train Finish*****\n",
            "\n",
            "*****Epoch 1 Valid Start*****\n",
            "Epoch 1 Valid Loss : 0.1450 Valid Acc : 0.8251 Valid f1 : 0.8095\n",
            "*****Epoch 1 Valid Finish*****\n",
            "\n",
            "*****Epoch 2 Train Start*****\n",
            "Epoch: 2, Step : 128, LR : 0.0000242111, Avg Loss : 0.0195, f1 score : 0.9746\n",
            "Epoch: 2, Step : 256, LR : 0.0000184615, Avg Loss : 0.0175, f1 score : 0.9772\n",
            "Epoch 2 Total Mean Loss : 0.0177\n",
            "Epoch 2 Total Mean f1 : 0.9771\n",
            "*****Epoch 2 Train Finish*****\n",
            "\n",
            "*****Epoch 2 Valid Start*****\n",
            "Epoch 2 Valid Loss : 0.1533 Valid Acc : 0.8251 Valid f1 : 0.8113\n",
            "*****Epoch 2 Valid Finish*****\n",
            "\n",
            "*****Epoch 3 Train Start*****\n",
            "Epoch: 3, Step : 128, LR : 0.0000092083, Avg Loss : 0.0097, f1 score : 0.9889\n",
            "Epoch: 3, Step : 256, LR : 0.0000034587, Avg Loss : 0.0084, f1 score : 0.9895\n",
            "Epoch 3 Total Mean Loss : 0.0093\n",
            "Epoch 3 Total Mean f1 : 0.9891\n",
            "*****Epoch 3 Train Finish*****\n",
            "\n",
            "*****Epoch 3 Valid Start*****\n",
            "Epoch 3 Valid Loss : 0.1645 Valid Acc : 0.8178 Valid f1 : 0.8076\n",
            "*****Epoch 3 Valid Finish*****\n",
            "\n",
            "Train Finished\n",
            "time : 7.0분 5.988072633743286초\n",
            "green is loss, gray is f1\n"
          ]
        },
        {
          "output_type": "display_data",
          "data": {
            "text/plain": [
              "<Figure size 432x288 with 2 Axes>"
            ],
            "image/png": "[encoded data removed]"
          },
          "metadata": {
            "needs_background": "light"
          }
        },
        {
          "output_type": "stream",
          "name": "stderr",
          "text": [
            "\u001b[32m[I 2022-06-08 18:27:39,681]\u001b[0m Trial 16 finished with value: 0.8112697071073064 and parameters: {'learning_rate': 6.001121293727358e-05, 'weight_decay': 0.00021687813626212552, 'per_device_train_batch_size': 35}. Best is trial 13 with value: 0.8345308559036908.\u001b[0m\n"
          ]
        },
        {
          "output_type": "stream",
          "name": "stdout",
          "text": [
            "\n",
            "------------------------------------------\n",
            "\n",
            "\n",
            "batch_size : 65\n",
            "batch_size : 32\n"
          ]
        },
        {
          "output_type": "stream",
          "name": "stderr",
          "text": [
            "Some weights of the model checkpoint at klue/roberta-base were not used when initializing RobertaModel: ['lm_head.decoder.bias', 'lm_head.dense.bias', 'lm_head.decoder.weight', 'lm_head.layer_norm.weight', 'lm_head.dense.weight', 'lm_head.layer_norm.bias', 'lm_head.bias']\n",
            "- This IS expected if you are initializing RobertaModel from the checkpoint of a model trained on another task or with another architecture (e.g. initializing a BertForSequenceClassification model from a BertForPreTraining model).\n",
            "- This IS NOT expected if you are initializing RobertaModel from the checkpoint of a model that you expect to be exactly identical (initializing a BertForSequenceClassification model from a BertForSequenceClassification model).\n",
            "Some weights of RobertaModel were not initialized from the model checkpoint at klue/roberta-base and are newly initialized: ['roberta.pooler.dense.weight', 'roberta.pooler.dense.bias']\n",
            "You should probably TRAIN this model on a down-stream task to be able to use it for predictions and inference.\n"
          ]
        },
        {
          "output_type": "stream",
          "name": "stdout",
          "text": [
            "Total train steps with 4 epochs: 720\n",
            "model_name : klue/roberta-base, lr : 0.00032453262736768145, weight_decay : 0.0003063104186232896, epochs : 4\n",
            "*****Epoch 0 Train Start*****\n",
            "Epoch: 0, Step : 128, LR : 0.0002663872, Avg Loss : 0.2515, f1 score : 0.2477\n",
            "Epoch 0 Total Mean Loss : 0.2511\n",
            "Epoch 0 Total Mean f1 : 0.2240\n",
            "*****Epoch 0 Train Finish*****\n",
            "\n",
            "*****Epoch 0 Valid Start*****\n",
            "Epoch 0 Valid Loss : 0.2491 Valid Acc : 0.5825 Valid f1 : 0.0000\n",
            "*****Epoch 0 Valid Finish*****\n",
            "\n",
            "Train Finished\n",
            "time : 1.0분 41.77054405212402초\n",
            "green is loss, gray is f1\n"
          ]
        },
        {
          "output_type": "display_data",
          "data": {
            "text/plain": [
              "<Figure size 432x288 with 2 Axes>"
            ],
            "image/png": "[encoded data removed]"
          },
          "metadata": {
            "needs_background": "light"
          }
        },
        {
          "output_type": "stream",
          "name": "stderr",
          "text": [
            "\u001b[32m[I 2022-06-08 18:29:35,952]\u001b[0m Trial 17 finished with value: 0.0 and parameters: {'learning_rate': 0.00032453262736768145, 'weight_decay': 0.0003063104186232896, 'per_device_train_batch_size': 65}. Best is trial 13 with value: 0.8345308559036908.\u001b[0m\n"
          ]
        },
        {
          "output_type": "stream",
          "name": "stdout",
          "text": [
            "\n",
            "------------------------------------------\n",
            "\n",
            "\n",
            "batch_size : 30\n",
            "batch_size : 32\n"
          ]
        },
        {
          "output_type": "stream",
          "name": "stderr",
          "text": [
            "Some weights of the model checkpoint at klue/roberta-base were not used when initializing RobertaModel: ['lm_head.decoder.bias', 'lm_head.dense.bias', 'lm_head.decoder.weight', 'lm_head.layer_norm.weight', 'lm_head.dense.weight', 'lm_head.layer_norm.bias', 'lm_head.bias']\n",
            "- This IS expected if you are initializing RobertaModel from the checkpoint of a model trained on another task or with another architecture (e.g. initializing a BertForSequenceClassification model from a BertForPreTraining model).\n",
            "- This IS NOT expected if you are initializing RobertaModel from the checkpoint of a model that you expect to be exactly identical (initializing a BertForSequenceClassification model from a BertForSequenceClassification model).\n",
            "Some weights of RobertaModel were not initialized from the model checkpoint at klue/roberta-base and are newly initialized: ['roberta.pooler.dense.weight', 'roberta.pooler.dense.bias']\n",
            "You should probably TRAIN this model on a down-stream task to be able to use it for predictions and inference.\n"
          ]
        },
        {
          "output_type": "stream",
          "name": "stdout",
          "text": [
            "Total train steps with 4 epochs: 1556\n",
            "model_name : klue/roberta-base, lr : 8.410382222381985e-05, weight_decay : 6.703157637651055e-05, epochs : 4\n",
            "*****Epoch 0 Train Start*****\n",
            "Epoch: 0, Step : 128, LR : 0.0000771312, Avg Loss : 0.2509, f1 score : 0.2666\n",
            "Epoch: 0, Step : 256, LR : 0.0000702126, Avg Loss : 0.2518, f1 score : 0.0803\n",
            "Epoch: 0, Step : 384, LR : 0.0000632941, Avg Loss : 0.2493, f1 score : 0.0000\n",
            "Epoch 0 Total Mean Loss : 0.2506\n",
            "Epoch 0 Total Mean f1 : 0.1148\n",
            "*****Epoch 0 Train Finish*****\n",
            "\n",
            "*****Epoch 0 Valid Start*****\n",
            "Epoch 0 Valid Loss : 0.2466 Valid Acc : 0.5825 Valid f1 : 0.0000\n",
            "*****Epoch 0 Valid Finish*****\n",
            "\n",
            "Train Finished\n",
            "time : 1.0분 47.89273953437805초\n",
            "green is loss, gray is f1\n"
          ]
        },
        {
          "output_type": "display_data",
          "data": {
            "text/plain": [
              "<Figure size 432x288 with 2 Axes>"
            ],
            "image/png": "[encoded data removed]"
          },
          "metadata": {
            "needs_background": "light"
          }
        },
        {
          "output_type": "stream",
          "name": "stderr",
          "text": [
            "\u001b[32m[I 2022-06-08 18:31:38,343]\u001b[0m Trial 18 finished with value: 0.0 and parameters: {'learning_rate': 8.410382222381985e-05, 'weight_decay': 6.703157637651055e-05, 'per_device_train_batch_size': 30}. Best is trial 13 with value: 0.8345308559036908.\u001b[0m\n"
          ]
        },
        {
          "output_type": "stream",
          "name": "stdout",
          "text": [
            "\n",
            "------------------------------------------\n",
            "\n",
            "\n",
            "batch_size : 20\n",
            "batch_size : 32\n"
          ]
        },
        {
          "output_type": "stream",
          "name": "stderr",
          "text": [
            "Some weights of the model checkpoint at klue/roberta-base were not used when initializing RobertaModel: ['lm_head.decoder.bias', 'lm_head.dense.bias', 'lm_head.decoder.weight', 'lm_head.layer_norm.weight', 'lm_head.dense.weight', 'lm_head.layer_norm.bias', 'lm_head.bias']\n",
            "- This IS expected if you are initializing RobertaModel from the checkpoint of a model trained on another task or with another architecture (e.g. initializing a BertForSequenceClassification model from a BertForPreTraining model).\n",
            "- This IS NOT expected if you are initializing RobertaModel from the checkpoint of a model that you expect to be exactly identical (initializing a BertForSequenceClassification model from a BertForSequenceClassification model).\n",
            "Some weights of RobertaModel were not initialized from the model checkpoint at klue/roberta-base and are newly initialized: ['roberta.pooler.dense.weight', 'roberta.pooler.dense.bias']\n",
            "You should probably TRAIN this model on a down-stream task to be able to use it for predictions and inference.\n"
          ]
        },
        {
          "output_type": "stream",
          "name": "stdout",
          "text": [
            "Total train steps with 4 epochs: 2336\n",
            "model_name : klue/roberta-base, lr : 0.00019659999697797003, weight_decay : 0.0009564958488846833, epochs : 4\n",
            "*****Epoch 0 Train Start*****\n",
            "Epoch: 0, Step : 128, LR : 0.0001857432, Avg Loss : 0.2507, f1 score : 0.0832\n",
            "Epoch: 0, Step : 256, LR : 0.0001749706, Avg Loss : 0.2507, f1 score : 0.0000\n",
            "Epoch: 0, Step : 384, LR : 0.0001641980, Avg Loss : 0.2500, f1 score : 0.0000\n",
            "Epoch: 0, Step : 512, LR : 0.0001534254, Avg Loss : 0.2497, f1 score : 0.0000\n",
            "Epoch 0 Total Mean Loss : 0.2502\n",
            "Epoch 0 Total Mean f1 : 0.0184\n",
            "*****Epoch 0 Train Finish*****\n",
            "\n",
            "*****Epoch 0 Valid Start*****\n",
            "Epoch 0 Valid Loss : 0.2453 Valid Acc : 0.5825 Valid f1 : 0.0000\n",
            "*****Epoch 0 Valid Finish*****\n",
            "\n",
            "Train Finished\n",
            "time : 1.0분 46.084516286849976초\n",
            "green is loss, gray is f1\n"
          ]
        },
        {
          "output_type": "display_data",
          "data": {
            "text/plain": [
              "<Figure size 432x288 with 2 Axes>"
            ],
            "image/png": "[encoded data removed]"
          },
          "metadata": {
            "needs_background": "light"
          }
        },
        {
          "output_type": "stream",
          "name": "stderr",
          "text": [
            "\u001b[32m[I 2022-06-08 18:33:38,846]\u001b[0m Trial 19 finished with value: 0.0 and parameters: {'learning_rate': 0.00019659999697797003, 'weight_decay': 0.0009564958488846833, 'per_device_train_batch_size': 20}. Best is trial 13 with value: 0.8345308559036908.\u001b[0m\n"
          ]
        },
        {
          "output_type": "stream",
          "name": "stdout",
          "text": [
            "\n",
            "------------------------------------------\n",
            "\n",
            "\n",
            "batch_size : 63\n",
            "batch_size : 32\n"
          ]
        },
        {
          "output_type": "stream",
          "name": "stderr",
          "text": [
            "Some weights of the model checkpoint at klue/roberta-base were not used when initializing RobertaModel: ['lm_head.decoder.bias', 'lm_head.dense.bias', 'lm_head.decoder.weight', 'lm_head.layer_norm.weight', 'lm_head.dense.weight', 'lm_head.layer_norm.bias', 'lm_head.bias']\n",
            "- This IS expected if you are initializing RobertaModel from the checkpoint of a model trained on another task or with another architecture (e.g. initializing a BertForSequenceClassification model from a BertForPreTraining model).\n",
            "- This IS NOT expected if you are initializing RobertaModel from the checkpoint of a model that you expect to be exactly identical (initializing a BertForSequenceClassification model from a BertForSequenceClassification model).\n",
            "Some weights of RobertaModel were not initialized from the model checkpoint at klue/roberta-base and are newly initialized: ['roberta.pooler.dense.weight', 'roberta.pooler.dense.bias']\n",
            "You should probably TRAIN this model on a down-stream task to be able to use it for predictions and inference.\n"
          ]
        },
        {
          "output_type": "stream",
          "name": "stdout",
          "text": [
            "Total train steps with 4 epochs: 744\n",
            "model_name : klue/roberta-base, lr : 0.0003528995964672154, weight_decay : 8.311370533813824e-05, epochs : 4\n",
            "*****Epoch 0 Train Start*****\n",
            "Epoch: 0, Step : 128, LR : 0.0002917114, Avg Loss : 0.2524, f1 score : 0.2786\n",
            "Epoch 0 Total Mean Loss : 0.2513\n",
            "Epoch 0 Total Mean f1 : 0.2455\n",
            "*****Epoch 0 Train Finish*****\n",
            "\n",
            "*****Epoch 0 Valid Start*****\n",
            "Epoch 0 Valid Loss : 0.2449 Valid Acc : 0.5825 Valid f1 : 0.0000\n",
            "*****Epoch 0 Valid Finish*****\n",
            "\n",
            "Train Finished\n",
            "time : 1.0분 42.79383039474487초\n",
            "green is loss, gray is f1\n"
          ]
        },
        {
          "output_type": "display_data",
          "data": {
            "text/plain": [
              "<Figure size 432x288 with 2 Axes>"
            ],
            "image/png": "[encoded data removed]"
          },
          "metadata": {
            "needs_background": "light"
          }
        },
        {
          "output_type": "stream",
          "name": "stderr",
          "text": [
            "\u001b[32m[I 2022-06-08 18:35:36,154]\u001b[0m Trial 20 finished with value: 0.0 and parameters: {'learning_rate': 0.0003528995964672154, 'weight_decay': 8.311370533813824e-05, 'per_device_train_batch_size': 63}. Best is trial 13 with value: 0.8345308559036908.\u001b[0m\n"
          ]
        },
        {
          "output_type": "stream",
          "name": "stdout",
          "text": [
            "\n",
            "------------------------------------------\n",
            "\n",
            "\n",
            "batch_size : 73\n",
            "batch_size : 32\n"
          ]
        },
        {
          "output_type": "stream",
          "name": "stderr",
          "text": [
            "Some weights of the model checkpoint at klue/roberta-base were not used when initializing RobertaModel: ['lm_head.decoder.bias', 'lm_head.dense.bias', 'lm_head.decoder.weight', 'lm_head.layer_norm.weight', 'lm_head.dense.weight', 'lm_head.layer_norm.bias', 'lm_head.bias']\n",
            "- This IS expected if you are initializing RobertaModel from the checkpoint of a model trained on another task or with another architecture (e.g. initializing a BertForSequenceClassification model from a BertForPreTraining model).\n",
            "- This IS NOT expected if you are initializing RobertaModel from the checkpoint of a model that you expect to be exactly identical (initializing a BertForSequenceClassification model from a BertForSequenceClassification model).\n",
            "Some weights of RobertaModel were not initialized from the model checkpoint at klue/roberta-base and are newly initialized: ['roberta.pooler.dense.weight', 'roberta.pooler.dense.bias']\n",
            "You should probably TRAIN this model on a down-stream task to be able to use it for predictions and inference.\n"
          ]
        },
        {
          "output_type": "stream",
          "name": "stdout",
          "text": [
            "Total train steps with 4 epochs: 640\n",
            "model_name : klue/roberta-base, lr : 5.0903548520565514e-05, weight_decay : 9.041016119060306e-05, epochs : 4\n",
            "*****Epoch 0 Train Start*****\n",
            "Epoch: 0, Step : 128, LR : 0.0000406433, Avg Loss : 0.0728, f1 score : 0.8737\n",
            "Epoch 0 Total Mean Loss : 0.0671\n",
            "Epoch 0 Total Mean f1 : 0.8867\n",
            "*****Epoch 0 Train Finish*****\n",
            "\n",
            "*****Epoch 0 Valid Start*****\n",
            "Epoch 0 Valid Loss : 0.1452 Valid Acc : 0.7975 Valid f1 : 0.7165\n",
            "*****Epoch 0 Valid Finish*****\n",
            "\n",
            "*****Epoch 1 Train Start*****\n",
            "Epoch: 1, Step : 128, LR : 0.0000279174, Avg Loss : 0.0295, f1 score : 0.9620\n",
            "Epoch 1 Total Mean Loss : 0.0292\n",
            "Epoch 1 Total Mean f1 : 0.9625\n",
            "*****Epoch 1 Train Finish*****\n",
            "\n",
            "*****Epoch 1 Valid Start*****\n",
            "Epoch 1 Valid Loss : 0.1662 Valid Acc : 0.7744 Valid f1 : 0.7472\n",
            "*****Epoch 1 Valid Finish*****\n",
            "\n",
            "*****Epoch 2 Train Start*****\n",
            "Epoch: 2, Step : 128, LR : 0.0000151915, Avg Loss : 0.0173, f1 score : 0.9787\n",
            "Epoch 2 Total Mean Loss : 0.0177\n",
            "Epoch 2 Total Mean f1 : 0.9778\n",
            "*****Epoch 2 Train Finish*****\n",
            "\n",
            "*****Epoch 2 Valid Start*****\n",
            "Epoch 2 Valid Loss : 0.1547 Valid Acc : 0.8065 Valid f1 : 0.7816\n",
            "*****Epoch 2 Valid Finish*****\n",
            "\n",
            "*****Epoch 3 Train Start*****\n",
            "Epoch: 3, Step : 128, LR : 0.0000024656, Avg Loss : 0.0114, f1 score : 0.9866\n",
            "Epoch 3 Total Mean Loss : 0.0114\n",
            "Epoch 3 Total Mean f1 : 0.9867\n",
            "*****Epoch 3 Train Finish*****\n",
            "\n",
            "*****Epoch 3 Valid Start*****\n",
            "Epoch 3 Valid Loss : 0.1510 Valid Acc : 0.8267 Valid f1 : 0.8074\n",
            "*****Epoch 3 Valid Finish*****\n",
            "\n",
            "Train Finished\n",
            "time : 6.0분 42.428494453430176초\n",
            "green is loss, gray is f1\n"
          ]
        },
        {
          "output_type": "display_data",
          "data": {
            "text/plain": [
              "<Figure size 432x288 with 2 Axes>"
            ],
            "image/png": "[encoded data removed]"
          },
          "metadata": {
            "needs_background": "light"
          }
        },
        {
          "output_type": "stream",
          "name": "stderr",
          "text": [
            "\u001b[32m[I 2022-06-08 18:42:32,995]\u001b[0m Trial 21 finished with value: 0.807443499617599 and parameters: {'learning_rate': 5.0903548520565514e-05, 'weight_decay': 9.041016119060306e-05, 'per_device_train_batch_size': 73}. Best is trial 13 with value: 0.8345308559036908.\u001b[0m\n"
          ]
        },
        {
          "output_type": "stream",
          "name": "stdout",
          "text": [
            "\n",
            "------------------------------------------\n",
            "\n",
            "\n",
            "batch_size : 73\n",
            "batch_size : 32\n"
          ]
        },
        {
          "output_type": "stream",
          "name": "stderr",
          "text": [
            "Some weights of the model checkpoint at klue/roberta-base were not used when initializing RobertaModel: ['lm_head.decoder.bias', 'lm_head.dense.bias', 'lm_head.decoder.weight', 'lm_head.layer_norm.weight', 'lm_head.dense.weight', 'lm_head.layer_norm.bias', 'lm_head.bias']\n",
            "- This IS expected if you are initializing RobertaModel from the checkpoint of a model trained on another task or with another architecture (e.g. initializing a BertForSequenceClassification model from a BertForPreTraining model).\n",
            "- This IS NOT expected if you are initializing RobertaModel from the checkpoint of a model that you expect to be exactly identical (initializing a BertForSequenceClassification model from a BertForSequenceClassification model).\n",
            "Some weights of RobertaModel were not initialized from the model checkpoint at klue/roberta-base and are newly initialized: ['roberta.pooler.dense.weight', 'roberta.pooler.dense.bias']\n",
            "You should probably TRAIN this model on a down-stream task to be able to use it for predictions and inference.\n"
          ]
        },
        {
          "output_type": "stream",
          "name": "stdout",
          "text": [
            "Total train steps with 4 epochs: 640\n",
            "model_name : klue/roberta-base, lr : 6.344732233950684e-05, weight_decay : 0.0002950064884685298, epochs : 4\n",
            "*****Epoch 0 Train Start*****\n",
            "Epoch: 0, Step : 128, LR : 0.0000506587, Avg Loss : 0.0660, f1 score : 0.9111\n",
            "Epoch 0 Total Mean Loss : 0.0612\n",
            "Epoch 0 Total Mean f1 : 0.9169\n",
            "*****Epoch 0 Train Finish*****\n",
            "\n",
            "*****Epoch 0 Valid Start*****\n",
            "Epoch 0 Valid Loss : 0.1998 Valid Acc : 0.7616 Valid f1 : 0.7761\n",
            "*****Epoch 0 Valid Finish*****\n",
            "\n",
            "*****Epoch 1 Train Start*****\n",
            "Epoch: 1, Step : 128, LR : 0.0000347969, Avg Loss : 0.0283, f1 score : 0.9641\n",
            "Epoch 1 Total Mean Loss : 0.0280\n",
            "Epoch 1 Total Mean f1 : 0.9641\n",
            "*****Epoch 1 Train Finish*****\n",
            "\n",
            "*****Epoch 1 Valid Start*****\n",
            "Epoch 1 Valid Loss : 0.1190 Valid Acc : 0.8480 Valid f1 : 0.8251\n",
            "*****Epoch 1 Valid Finish*****\n",
            "\n",
            "Saving epoch 1 checkpoint at /content/drive/MyDrive/Colab Notebooks/nlp/epoch:1_loss:0.1190_f1:0.8251.ckpt\n",
            "*****Epoch 2 Train Start*****\n",
            "Epoch: 2, Step : 128, LR : 0.0000189351, Avg Loss : 0.0168, f1 score : 0.9784\n",
            "Epoch 2 Total Mean Loss : 0.0165\n",
            "Epoch 2 Total Mean f1 : 0.9789\n",
            "*****Epoch 2 Train Finish*****\n",
            "\n",
            "*****Epoch 2 Valid Start*****\n",
            "Epoch 2 Valid Loss : 0.1478 Valid Acc : 0.8130 Valid f1 : 0.8091\n",
            "*****Epoch 2 Valid Finish*****\n",
            "\n",
            "*****Epoch 3 Train Start*****\n",
            "Epoch: 3, Step : 128, LR : 0.0000030732, Avg Loss : 0.0092, f1 score : 0.9897\n",
            "Epoch 3 Total Mean Loss : 0.0098\n",
            "Epoch 3 Total Mean f1 : 0.9892\n",
            "*****Epoch 3 Train Finish*****\n",
            "\n",
            "*****Epoch 3 Valid Start*****\n",
            "Epoch 3 Valid Loss : 0.1492 Valid Acc : 0.8306 Valid f1 : 0.8198\n",
            "*****Epoch 3 Valid Finish*****\n",
            "\n",
            "Train Finished\n",
            "time : 6.0분 48.39270210266113초\n",
            "green is loss, gray is f1\n"
          ]
        },
        {
          "output_type": "display_data",
          "data": {
            "text/plain": [
              "<Figure size 432x288 with 2 Axes>"
            ],
            "image/png": "[encoded data removed]"
          },
          "metadata": {
            "needs_background": "light"
          }
        },
        {
          "output_type": "stream",
          "name": "stderr",
          "text": [
            "\u001b[32m[I 2022-06-08 18:49:35,861]\u001b[0m Trial 22 finished with value: 0.8250963188590674 and parameters: {'learning_rate': 6.344732233950684e-05, 'weight_decay': 0.0002950064884685298, 'per_device_train_batch_size': 73}. Best is trial 13 with value: 0.8345308559036908.\u001b[0m\n"
          ]
        },
        {
          "output_type": "stream",
          "name": "stdout",
          "text": [
            "\n",
            "------------------------------------------\n",
            "\n",
            "\n",
            "batch_size : 45\n",
            "batch_size : 32\n"
          ]
        },
        {
          "output_type": "stream",
          "name": "stderr",
          "text": [
            "Some weights of the model checkpoint at klue/roberta-base were not used when initializing RobertaModel: ['lm_head.decoder.bias', 'lm_head.dense.bias', 'lm_head.decoder.weight', 'lm_head.layer_norm.weight', 'lm_head.dense.weight', 'lm_head.layer_norm.bias', 'lm_head.bias']\n",
            "- This IS expected if you are initializing RobertaModel from the checkpoint of a model trained on another task or with another architecture (e.g. initializing a BertForSequenceClassification model from a BertForPreTraining model).\n",
            "- This IS NOT expected if you are initializing RobertaModel from the checkpoint of a model that you expect to be exactly identical (initializing a BertForSequenceClassification model from a BertForSequenceClassification model).\n",
            "Some weights of RobertaModel were not initialized from the model checkpoint at klue/roberta-base and are newly initialized: ['roberta.pooler.dense.weight', 'roberta.pooler.dense.bias']\n",
            "You should probably TRAIN this model on a down-stream task to be able to use it for predictions and inference.\n"
          ]
        },
        {
          "output_type": "stream",
          "name": "stdout",
          "text": [
            "Total train steps with 4 epochs: 1040\n",
            "model_name : klue/roberta-base, lr : 7.632181892333855e-05, weight_decay : 0.000319471637185035, epochs : 4\n",
            "*****Epoch 0 Train Start*****\n",
            "Epoch: 0, Step : 128, LR : 0.0000668550, Avg Loss : 0.0880, f1 score : 0.8805\n",
            "Epoch: 0, Step : 256, LR : 0.0000574615, Avg Loss : 0.0531, f1 score : 0.9303\n",
            "Epoch 0 Total Mean Loss : 0.0703\n",
            "Epoch 0 Total Mean f1 : 0.9057\n",
            "*****Epoch 0 Train Finish*****\n",
            "\n",
            "*****Epoch 0 Valid Start*****\n",
            "Epoch 0 Valid Loss : 0.1665 Valid Acc : 0.8141 Valid f1 : 0.8111\n",
            "*****Epoch 0 Valid Finish*****\n",
            "\n",
            "*****Epoch 1 Train Start*****\n",
            "Epoch: 1, Step : 128, LR : 0.0000477745, Avg Loss : 0.0369, f1 score : 0.9522\n",
            "Epoch: 1, Step : 256, LR : 0.0000383811, Avg Loss : 0.0335, f1 score : 0.9557\n",
            "Epoch 1 Total Mean Loss : 0.0350\n",
            "Epoch 1 Total Mean f1 : 0.9542\n",
            "*****Epoch 1 Train Finish*****\n",
            "\n",
            "*****Epoch 1 Valid Start*****\n",
            "Epoch 1 Valid Loss : 0.1265 Valid Acc : 0.8251 Valid f1 : 0.8035\n",
            "*****Epoch 1 Valid Finish*****\n",
            "\n",
            "*****Epoch 2 Train Start*****\n",
            "Epoch: 2, Step : 128, LR : 0.0000286941, Avg Loss : 0.0196, f1 score : 0.9763\n",
            "Epoch: 2, Step : 256, LR : 0.0000193006, Avg Loss : 0.0171, f1 score : 0.9781\n",
            "Epoch 2 Total Mean Loss : 0.0183\n",
            "Epoch 2 Total Mean f1 : 0.9773\n",
            "*****Epoch 2 Train Finish*****\n",
            "\n",
            "*****Epoch 2 Valid Start*****\n",
            "Epoch 2 Valid Loss : 0.1355 Valid Acc : 0.8501 Valid f1 : 0.8373\n",
            "*****Epoch 2 Valid Finish*****\n",
            "\n",
            "Saving epoch 2 checkpoint at /content/drive/MyDrive/Colab Notebooks/nlp/epoch:2_loss:0.1355_f1:0.8373.ckpt\n",
            "*****Epoch 3 Train Start*****\n",
            "Epoch: 3, Step : 128, LR : 0.0000096136, Avg Loss : 0.0127, f1 score : 0.9854\n",
            "Epoch: 3, Step : 256, LR : 0.0000002202, Avg Loss : 0.0090, f1 score : 0.9882\n",
            "Epoch 3 Total Mean Loss : 0.0109\n",
            "Epoch 3 Total Mean f1 : 0.9868\n",
            "*****Epoch 3 Train Finish*****\n",
            "\n",
            "*****Epoch 3 Valid Start*****\n",
            "Epoch 3 Valid Loss : 0.1479 Valid Acc : 0.8288 Valid f1 : 0.8179\n",
            "*****Epoch 3 Valid Finish*****\n",
            "\n",
            "Train Finished\n",
            "time : 7.0분 1.4363188743591309초\n",
            "green is loss, gray is f1\n"
          ]
        },
        {
          "output_type": "display_data",
          "data": {
            "text/plain": [
              "<Figure size 432x288 with 2 Axes>"
            ],
            "image/png": "[encoded data removed]"
          },
          "metadata": {
            "needs_background": "light"
          }
        },
        {
          "output_type": "stream",
          "name": "stderr",
          "text": [
            "\u001b[32m[I 2022-06-08 18:56:51,789]\u001b[0m Trial 23 finished with value: 0.8373039614965615 and parameters: {'learning_rate': 7.632181892333855e-05, 'weight_decay': 0.000319471637185035, 'per_device_train_batch_size': 45}. Best is trial 23 with value: 0.8373039614965615.\u001b[0m\n"
          ]
        },
        {
          "output_type": "stream",
          "name": "stdout",
          "text": [
            "\n",
            "------------------------------------------\n",
            "\n",
            "\n",
            "batch_size : 45\n",
            "batch_size : 32\n"
          ]
        },
        {
          "output_type": "stream",
          "name": "stderr",
          "text": [
            "Some weights of the model checkpoint at klue/roberta-base were not used when initializing RobertaModel: ['lm_head.decoder.bias', 'lm_head.dense.bias', 'lm_head.decoder.weight', 'lm_head.layer_norm.weight', 'lm_head.dense.weight', 'lm_head.layer_norm.bias', 'lm_head.bias']\n",
            "- This IS expected if you are initializing RobertaModel from the checkpoint of a model trained on another task or with another architecture (e.g. initializing a BertForSequenceClassification model from a BertForPreTraining model).\n",
            "- This IS NOT expected if you are initializing RobertaModel from the checkpoint of a model that you expect to be exactly identical (initializing a BertForSequenceClassification model from a BertForSequenceClassification model).\n",
            "Some weights of RobertaModel were not initialized from the model checkpoint at klue/roberta-base and are newly initialized: ['roberta.pooler.dense.weight', 'roberta.pooler.dense.bias']\n",
            "You should probably TRAIN this model on a down-stream task to be able to use it for predictions and inference.\n"
          ]
        },
        {
          "output_type": "stream",
          "name": "stdout",
          "text": [
            "Total train steps with 4 epochs: 1040\n",
            "model_name : klue/roberta-base, lr : 0.00016736388371861482, weight_decay : 0.0017961547803924181, epochs : 4\n",
            "*****Epoch 0 Train Start*****\n",
            "Epoch: 0, Step : 128, LR : 0.0001466043, Avg Loss : 0.1427, f1 score : 0.7972\n",
            "Epoch: 0, Step : 256, LR : 0.0001260057, Avg Loss : 0.1113, f1 score : 0.8586\n",
            "Epoch 0 Total Mean Loss : 0.1268\n",
            "Epoch 0 Total Mean f1 : 0.8281\n",
            "*****Epoch 0 Train Finish*****\n",
            "\n",
            "*****Epoch 0 Valid Start*****\n",
            "Epoch 0 Valid Loss : 0.2404 Valid Acc : 0.6696 Valid f1 : 0.7011\n",
            "*****Epoch 0 Valid Finish*****\n",
            "\n",
            "*****Epoch 1 Train Start*****\n",
            "Epoch: 1, Step : 128, LR : 0.0001047634, Avg Loss : 0.1137, f1 score : 0.8597\n",
            "Epoch: 1, Step : 256, LR : 0.0000841647, Avg Loss : 0.0961, f1 score : 0.8864\n",
            "Epoch 1 Total Mean Loss : 0.1045\n",
            "Epoch 1 Total Mean f1 : 0.8735\n",
            "*****Epoch 1 Train Finish*****\n",
            "\n",
            "*****Epoch 1 Valid Start*****\n",
            "Epoch 1 Valid Loss : 0.2322 Valid Acc : 0.7172 Valid f1 : 0.7248\n",
            "*****Epoch 1 Valid Finish*****\n",
            "\n",
            "*****Epoch 2 Train Start*****\n",
            "Epoch: 2, Step : 128, LR : 0.0000629224, Avg Loss : 0.0848, f1 score : 0.8980\n",
            "Epoch: 2, Step : 256, LR : 0.0000423238, Avg Loss : 0.0690, f1 score : 0.9170\n",
            "Epoch 2 Total Mean Loss : 0.0767\n",
            "Epoch 2 Total Mean f1 : 0.9078\n",
            "*****Epoch 2 Train Finish*****\n",
            "\n",
            "*****Epoch 2 Valid Start*****\n",
            "Epoch 2 Valid Loss : 0.1900 Valid Acc : 0.7763 Valid f1 : 0.7674\n",
            "*****Epoch 2 Valid Finish*****\n",
            "\n",
            "*****Epoch 3 Train Start*****\n",
            "Epoch: 3, Step : 128, LR : 0.0000210814, Avg Loss : 0.0552, f1 score : 0.9318\n",
            "Epoch: 3, Step : 256, LR : 0.0000004828, Avg Loss : 0.0481, f1 score : 0.9413\n",
            "Epoch 3 Total Mean Loss : 0.0518\n",
            "Epoch 3 Total Mean f1 : 0.9364\n",
            "*****Epoch 3 Train Finish*****\n",
            "\n",
            "*****Epoch 3 Valid Start*****\n",
            "Epoch 3 Valid Loss : 0.1901 Valid Acc : 0.7550 Valid f1 : 0.7413\n",
            "*****Epoch 3 Valid Finish*****\n",
            "\n",
            "Train Finished\n",
            "time : 6.0분 55.6612868309021초\n",
            "green is loss, gray is f1\n"
          ]
        },
        {
          "output_type": "display_data",
          "data": {
            "text/plain": [
              "<Figure size 432x288 with 2 Axes>"
            ],
            "image/png": "[encoded data removed]"
          },
          "metadata": {
            "needs_background": "light"
          }
        },
        {
          "output_type": "stream",
          "name": "stderr",
          "text": [
            "\u001b[32m[I 2022-06-08 19:04:02,280]\u001b[0m Trial 24 finished with value: 0.7673694163274486 and parameters: {'learning_rate': 0.00016736388371861482, 'weight_decay': 0.0017961547803924181, 'per_device_train_batch_size': 45}. Best is trial 23 with value: 0.8373039614965615.\u001b[0m\n"
          ]
        },
        {
          "output_type": "stream",
          "name": "stdout",
          "text": [
            "\n",
            "------------------------------------------\n",
            "\n",
            "\n",
            "batch_size : 37\n",
            "batch_size : 32\n"
          ]
        },
        {
          "output_type": "stream",
          "name": "stderr",
          "text": [
            "Some weights of the model checkpoint at klue/roberta-base were not used when initializing RobertaModel: ['lm_head.decoder.bias', 'lm_head.dense.bias', 'lm_head.decoder.weight', 'lm_head.layer_norm.weight', 'lm_head.dense.weight', 'lm_head.layer_norm.bias', 'lm_head.bias']\n",
            "- This IS expected if you are initializing RobertaModel from the checkpoint of a model trained on another task or with another architecture (e.g. initializing a BertForSequenceClassification model from a BertForPreTraining model).\n",
            "- This IS NOT expected if you are initializing RobertaModel from the checkpoint of a model that you expect to be exactly identical (initializing a BertForSequenceClassification model from a BertForSequenceClassification model).\n",
            "Some weights of RobertaModel were not initialized from the model checkpoint at klue/roberta-base and are newly initialized: ['roberta.pooler.dense.weight', 'roberta.pooler.dense.bias']\n",
            "You should probably TRAIN this model on a down-stream task to be able to use it for predictions and inference.\n"
          ]
        },
        {
          "output_type": "stream",
          "name": "stdout",
          "text": [
            "Total train steps with 4 epochs: 1264\n",
            "model_name : klue/roberta-base, lr : 8.893919749970807e-05, weight_decay : 0.005289395501302799, epochs : 4\n",
            "*****Epoch 0 Train Start*****\n",
            "Epoch: 0, Step : 128, LR : 0.0000798623, Avg Loss : 0.0917, f1 score : 0.8687\n",
            "Epoch: 0, Step : 256, LR : 0.0000708558, Avg Loss : 0.0615, f1 score : 0.9219\n",
            "Epoch 0 Total Mean Loss : 0.0723\n",
            "Epoch 0 Total Mean f1 : 0.9029\n",
            "*****Epoch 0 Train Finish*****\n",
            "\n",
            "*****Epoch 0 Valid Start*****\n",
            "Epoch 0 Valid Loss : 0.1531 Valid Acc : 0.7881 Valid f1 : 0.7918\n",
            "*****Epoch 0 Valid Finish*****\n",
            "\n",
            "*****Epoch 1 Train Start*****\n",
            "Epoch: 1, Step : 128, LR : 0.0000576275, Avg Loss : 0.0374, f1 score : 0.9503\n",
            "Epoch: 1, Step : 256, LR : 0.0000486210, Avg Loss : 0.0364, f1 score : 0.9551\n",
            "Epoch 1 Total Mean Loss : 0.0355\n",
            "Epoch 1 Total Mean f1 : 0.9548\n",
            "*****Epoch 1 Train Finish*****\n",
            "\n",
            "*****Epoch 1 Valid Start*****\n",
            "Epoch 1 Valid Loss : 0.1741 Valid Acc : 0.7983 Valid f1 : 0.8014\n",
            "*****Epoch 1 Valid Finish*****\n",
            "\n",
            "*****Epoch 2 Train Start*****\n",
            "Epoch: 2, Step : 128, LR : 0.0000353927, Avg Loss : 0.0208, f1 score : 0.9717\n",
            "Epoch: 2, Step : 256, LR : 0.0000263862, Avg Loss : 0.0185, f1 score : 0.9772\n",
            "Epoch 2 Total Mean Loss : 0.0199\n",
            "Epoch 2 Total Mean f1 : 0.9741\n",
            "*****Epoch 2 Train Finish*****\n",
            "\n",
            "*****Epoch 2 Valid Start*****\n",
            "Epoch 2 Valid Loss : 0.1812 Valid Acc : 0.7920 Valid f1 : 0.7889\n",
            "*****Epoch 2 Valid Finish*****\n",
            "\n",
            "*****Epoch 3 Train Start*****\n",
            "Epoch: 3, Step : 128, LR : 0.0000131579, Avg Loss : 0.0116, f1 score : 0.9854\n",
            "Epoch: 3, Step : 256, LR : 0.0000041514, Avg Loss : 0.0094, f1 score : 0.9894\n",
            "Epoch 3 Total Mean Loss : 0.0099\n",
            "Epoch 3 Total Mean f1 : 0.9883\n",
            "*****Epoch 3 Train Finish*****\n",
            "\n",
            "*****Epoch 3 Valid Start*****\n",
            "Epoch 3 Valid Loss : 0.1578 Valid Acc : 0.8269 Valid f1 : 0.8117\n",
            "*****Epoch 3 Valid Finish*****\n",
            "\n",
            "Train Finished\n",
            "time : 7.0분 3.6296675205230713초\n",
            "green is loss, gray is f1\n"
          ]
        },
        {
          "output_type": "display_data",
          "data": {
            "text/plain": [
              "<Figure size 432x288 with 2 Axes>"
            ],
            "image/png": "[encoded data removed]"
          },
          "metadata": {
            "needs_background": "light"
          }
        },
        {
          "output_type": "stream",
          "name": "stderr",
          "text": [
            "\u001b[32m[I 2022-06-08 19:11:20,344]\u001b[0m Trial 25 finished with value: 0.8116522960521871 and parameters: {'learning_rate': 8.893919749970807e-05, 'weight_decay': 0.005289395501302799, 'per_device_train_batch_size': 37}. Best is trial 23 with value: 0.8373039614965615.\u001b[0m\n"
          ]
        },
        {
          "output_type": "stream",
          "name": "stdout",
          "text": [
            "\n",
            "------------------------------------------\n",
            "\n",
            "\n",
            "batch_size : 47\n",
            "batch_size : 32\n"
          ]
        },
        {
          "output_type": "stream",
          "name": "stderr",
          "text": [
            "Some weights of the model checkpoint at klue/roberta-base were not used when initializing RobertaModel: ['lm_head.decoder.bias', 'lm_head.dense.bias', 'lm_head.decoder.weight', 'lm_head.layer_norm.weight', 'lm_head.dense.weight', 'lm_head.layer_norm.bias', 'lm_head.bias']\n",
            "- This IS expected if you are initializing RobertaModel from the checkpoint of a model trained on another task or with another architecture (e.g. initializing a BertForSequenceClassification model from a BertForPreTraining model).\n",
            "- This IS NOT expected if you are initializing RobertaModel from the checkpoint of a model that you expect to be exactly identical (initializing a BertForSequenceClassification model from a BertForSequenceClassification model).\n",
            "Some weights of RobertaModel were not initialized from the model checkpoint at klue/roberta-base and are newly initialized: ['roberta.pooler.dense.weight', 'roberta.pooler.dense.bias']\n",
            "You should probably TRAIN this model on a down-stream task to be able to use it for predictions and inference.\n"
          ]
        },
        {
          "output_type": "stream",
          "name": "stdout",
          "text": [
            "Total train steps with 4 epochs: 996\n",
            "model_name : klue/roberta-base, lr : 0.0005543986525735047, weight_decay : 0.0006751826865502066, epochs : 4\n",
            "*****Epoch 0 Train Start*****\n",
            "Epoch: 0, Step : 128, LR : 0.0004825940, Avg Loss : 0.2515, f1 score : 0.0838\n",
            "Epoch 0 Total Mean Loss : 0.2505\n",
            "Epoch 0 Total Mean f1 : 0.0434\n",
            "*****Epoch 0 Train Finish*****\n",
            "\n",
            "*****Epoch 0 Valid Start*****\n",
            "Epoch 0 Valid Loss : 0.2475 Valid Acc : 0.5825 Valid f1 : 0.0000\n",
            "*****Epoch 0 Valid Finish*****\n",
            "\n",
            "Train Finished\n",
            "time : 1.0분 43.671849727630615초\n",
            "green is loss, gray is f1\n"
          ]
        },
        {
          "output_type": "display_data",
          "data": {
            "text/plain": [
              "<Figure size 432x288 with 2 Axes>"
            ],
            "image/png": "[encoded data removed]"
          },
          "metadata": {
            "needs_background": "light"
          }
        },
        {
          "output_type": "stream",
          "name": "stderr",
          "text": [
            "\u001b[32m[I 2022-06-08 19:13:18,431]\u001b[0m Trial 26 finished with value: 0.0 and parameters: {'learning_rate': 0.0005543986525735047, 'weight_decay': 0.0006751826865502066, 'per_device_train_batch_size': 47}. Best is trial 23 with value: 0.8373039614965615.\u001b[0m\n"
          ]
        },
        {
          "output_type": "stream",
          "name": "stdout",
          "text": [
            "\n",
            "------------------------------------------\n",
            "\n",
            "\n",
            "batch_size : 25\n",
            "batch_size : 32\n"
          ]
        },
        {
          "output_type": "stream",
          "name": "stderr",
          "text": [
            "Some weights of the model checkpoint at klue/roberta-base were not used when initializing RobertaModel: ['lm_head.decoder.bias', 'lm_head.dense.bias', 'lm_head.decoder.weight', 'lm_head.layer_norm.weight', 'lm_head.dense.weight', 'lm_head.layer_norm.bias', 'lm_head.bias']\n",
            "- This IS expected if you are initializing RobertaModel from the checkpoint of a model trained on another task or with another architecture (e.g. initializing a BertForSequenceClassification model from a BertForPreTraining model).\n",
            "- This IS NOT expected if you are initializing RobertaModel from the checkpoint of a model that you expect to be exactly identical (initializing a BertForSequenceClassification model from a BertForSequenceClassification model).\n",
            "Some weights of RobertaModel were not initialized from the model checkpoint at klue/roberta-base and are newly initialized: ['roberta.pooler.dense.weight', 'roberta.pooler.dense.bias']\n",
            "You should probably TRAIN this model on a down-stream task to be able to use it for predictions and inference.\n"
          ]
        },
        {
          "output_type": "stream",
          "name": "stdout",
          "text": [
            "Total train steps with 4 epochs: 1868\n",
            "model_name : klue/roberta-base, lr : 8.211729770923923e-05, weight_decay : 0.009501890779124802, epochs : 4\n",
            "*****Epoch 0 Train Start*****\n",
            "Epoch: 0, Step : 128, LR : 0.0000764465, Avg Loss : 0.0991, f1 score : 0.8285\n",
            "Epoch: 0, Step : 256, LR : 0.0000708196, Avg Loss : 0.0650, f1 score : 0.9224\n",
            "Epoch: 0, Step : 384, LR : 0.0000651927, Avg Loss : 0.0607, f1 score : 0.9290\n",
            "Epoch 0 Total Mean Loss : 0.0761\n",
            "Epoch 0 Total Mean f1 : 0.8944\n",
            "*****Epoch 0 Train Finish*****\n",
            "\n",
            "*****Epoch 0 Valid Start*****\n",
            "Epoch 0 Valid Loss : 0.1810 Valid Acc : 0.7818 Valid f1 : 0.6830\n",
            "*****Epoch 0 Valid Finish*****\n",
            "\n",
            "*****Epoch 1 Train Start*****\n",
            "Epoch: 1, Step : 128, LR : 0.0000559171, Avg Loss : 0.0489, f1 score : 0.9321\n",
            "Epoch: 1, Step : 256, LR : 0.0000502903, Avg Loss : 0.0476, f1 score : 0.9414\n",
            "Epoch: 1, Step : 384, LR : 0.0000446634, Avg Loss : 0.0455, f1 score : 0.9458\n",
            "Epoch 1 Total Mean Loss : 0.0459\n",
            "Epoch 1 Total Mean f1 : 0.9418\n",
            "*****Epoch 1 Train Finish*****\n",
            "\n",
            "*****Epoch 1 Valid Start*****\n",
            "Epoch 1 Valid Loss : 0.2054 Valid Acc : 0.7579 Valid f1 : 0.7695\n",
            "*****Epoch 1 Valid Finish*****\n",
            "\n",
            "*****Epoch 2 Train Start*****\n",
            "Epoch: 2, Step : 128, LR : 0.0000353878, Avg Loss : 0.0362, f1 score : 0.9510\n",
            "Epoch: 2, Step : 256, LR : 0.0000297609, Avg Loss : 0.0264, f1 score : 0.9673\n",
            "Epoch: 2, Step : 384, LR : 0.0000241340, Avg Loss : 0.0312, f1 score : 0.9634\n",
            "Epoch 2 Total Mean Loss : 0.0309\n",
            "Epoch 2 Total Mean f1 : 0.9613\n",
            "*****Epoch 2 Train Finish*****\n",
            "\n",
            "*****Epoch 2 Valid Start*****\n",
            "Epoch 2 Valid Loss : 0.1936 Valid Acc : 0.7855 Valid f1 : 0.7912\n",
            "*****Epoch 2 Valid Finish*****\n",
            "\n",
            "*****Epoch 3 Train Start*****\n",
            "Epoch: 3, Step : 128, LR : 0.0000148585, Avg Loss : 0.0200, f1 score : 0.9740\n",
            "Epoch: 3, Step : 256, LR : 0.0000092316, Avg Loss : 0.0210, f1 score : 0.9770\n",
            "Epoch: 3, Step : 384, LR : 0.0000036047, Avg Loss : 0.0180, f1 score : 0.9795\n",
            "Epoch 3 Total Mean Loss : 0.0198\n",
            "Epoch 3 Total Mean f1 : 0.9766\n",
            "*****Epoch 3 Train Finish*****\n",
            "\n",
            "*****Epoch 3 Valid Start*****\n",
            "Epoch 3 Valid Loss : 0.1650 Valid Acc : 0.8185 Valid f1 : 0.8159\n",
            "*****Epoch 3 Valid Finish*****\n",
            "\n",
            "Train Finished\n",
            "time : 7.0분 3.44356632232666초\n",
            "green is loss, gray is f1\n"
          ]
        },
        {
          "output_type": "display_data",
          "data": {
            "text/plain": [
              "<Figure size 432x288 with 2 Axes>"
            ],
            "image/png": "[encoded data removed]"
          },
          "metadata": {
            "needs_background": "light"
          }
        },
        {
          "output_type": "stream",
          "name": "stderr",
          "text": [
            "\u001b[32m[I 2022-06-08 19:20:36,260]\u001b[0m Trial 27 finished with value: 0.8159039541265318 and parameters: {'learning_rate': 8.211729770923923e-05, 'weight_decay': 0.009501890779124802, 'per_device_train_batch_size': 25}. Best is trial 23 with value: 0.8373039614965615.\u001b[0m\n"
          ]
        },
        {
          "output_type": "stream",
          "name": "stdout",
          "text": [
            "\n",
            "------------------------------------------\n",
            "\n",
            "\n",
            "batch_size : 41\n",
            "batch_size : 32\n"
          ]
        },
        {
          "output_type": "stream",
          "name": "stderr",
          "text": [
            "Some weights of the model checkpoint at klue/roberta-base were not used when initializing RobertaModel: ['lm_head.decoder.bias', 'lm_head.dense.bias', 'lm_head.decoder.weight', 'lm_head.layer_norm.weight', 'lm_head.dense.weight', 'lm_head.layer_norm.bias', 'lm_head.bias']\n",
            "- This IS expected if you are initializing RobertaModel from the checkpoint of a model trained on another task or with another architecture (e.g. initializing a BertForSequenceClassification model from a BertForPreTraining model).\n",
            "- This IS NOT expected if you are initializing RobertaModel from the checkpoint of a model that you expect to be exactly identical (initializing a BertForSequenceClassification model from a BertForSequenceClassification model).\n",
            "Some weights of RobertaModel were not initialized from the model checkpoint at klue/roberta-base and are newly initialized: ['roberta.pooler.dense.weight', 'roberta.pooler.dense.bias']\n",
            "You should probably TRAIN this model on a down-stream task to be able to use it for predictions and inference.\n"
          ]
        },
        {
          "output_type": "stream",
          "name": "stdout",
          "text": [
            "Total train steps with 4 epochs: 1140\n",
            "model_name : klue/roberta-base, lr : 0.0002274416763977539, weight_decay : 0.0002780540324376309, epochs : 4\n",
            "*****Epoch 0 Train Start*****\n",
            "Epoch: 0, Step : 128, LR : 0.0002017049, Avg Loss : 0.2528, f1 score : 0.3166\n",
            "Epoch: 0, Step : 256, LR : 0.0001761675, Avg Loss : 0.2505, f1 score : 0.1821\n",
            "Epoch 0 Total Mean Loss : 0.2515\n",
            "Epoch 0 Total Mean f1 : 0.2416\n",
            "*****Epoch 0 Train Finish*****\n",
            "\n",
            "*****Epoch 0 Valid Start*****\n",
            "Epoch 0 Valid Loss : 0.2472 Valid Acc : 0.5825 Valid f1 : 0.0000\n",
            "*****Epoch 0 Valid Finish*****\n",
            "\n",
            "Train Finished\n",
            "time : 1.0분 44.20213174819946초\n",
            "green is loss, gray is f1\n"
          ]
        },
        {
          "output_type": "display_data",
          "data": {
            "text/plain": [
              "<Figure size 432x288 with 2 Axes>"
            ],
            "image/png": "[encoded data removed]"
          },
          "metadata": {
            "needs_background": "light"
          }
        },
        {
          "output_type": "stream",
          "name": "stderr",
          "text": [
            "\u001b[32m[I 2022-06-08 19:22:34,888]\u001b[0m Trial 28 finished with value: 0.0 and parameters: {'learning_rate': 0.0002274416763977539, 'weight_decay': 0.0002780540324376309, 'per_device_train_batch_size': 41}. Best is trial 23 with value: 0.8373039614965615.\u001b[0m\n"
          ]
        },
        {
          "output_type": "stream",
          "name": "stdout",
          "text": [
            "\n",
            "------------------------------------------\n",
            "\n",
            "\n",
            "batch_size : 51\n",
            "batch_size : 32\n"
          ]
        },
        {
          "output_type": "stream",
          "name": "stderr",
          "text": [
            "Some weights of the model checkpoint at klue/roberta-base were not used when initializing RobertaModel: ['lm_head.decoder.bias', 'lm_head.dense.bias', 'lm_head.decoder.weight', 'lm_head.layer_norm.weight', 'lm_head.dense.weight', 'lm_head.layer_norm.bias', 'lm_head.bias']\n",
            "- This IS expected if you are initializing RobertaModel from the checkpoint of a model trained on another task or with another architecture (e.g. initializing a BertForSequenceClassification model from a BertForPreTraining model).\n",
            "- This IS NOT expected if you are initializing RobertaModel from the checkpoint of a model that you expect to be exactly identical (initializing a BertForSequenceClassification model from a BertForSequenceClassification model).\n",
            "Some weights of RobertaModel were not initialized from the model checkpoint at klue/roberta-base and are newly initialized: ['roberta.pooler.dense.weight', 'roberta.pooler.dense.bias']\n",
            "You should probably TRAIN this model on a down-stream task to be able to use it for predictions and inference.\n"
          ]
        },
        {
          "output_type": "stream",
          "name": "stdout",
          "text": [
            "Total train steps with 4 epochs: 916\n",
            "model_name : klue/roberta-base, lr : 0.000125325617701243, weight_decay : 0.00066887058711862, epochs : 4\n",
            "*****Epoch 0 Train Start*****\n",
            "Epoch: 0, Step : 128, LR : 0.0001076760, Avg Loss : 0.0948, f1 score : 0.8619\n",
            "Epoch 0 Total Mean Loss : 0.0804\n",
            "Epoch 0 Total Mean f1 : 0.8878\n",
            "*****Epoch 0 Train Finish*****\n",
            "\n",
            "*****Epoch 0 Valid Start*****\n",
            "Epoch 0 Valid Loss : 0.1701 Valid Acc : 0.7697 Valid f1 : 0.7272\n",
            "*****Epoch 0 Valid Finish*****\n",
            "\n",
            "*****Epoch 1 Train Start*****\n",
            "Epoch: 1, Step : 128, LR : 0.0000763446, Avg Loss : 0.0479, f1 score : 0.9365\n",
            "Epoch 1 Total Mean Loss : 0.0477\n",
            "Epoch 1 Total Mean f1 : 0.9393\n",
            "*****Epoch 1 Train Finish*****\n",
            "\n",
            "*****Epoch 1 Valid Start*****\n",
            "Epoch 1 Valid Loss : 0.1419 Valid Acc : 0.8065 Valid f1 : 0.7842\n",
            "*****Epoch 1 Valid Finish*****\n",
            "\n",
            "*****Epoch 2 Train Start*****\n",
            "Epoch: 2, Step : 128, LR : 0.0000450132, Avg Loss : 0.0291, f1 score : 0.9594\n",
            "Epoch 2 Total Mean Loss : 0.0275\n",
            "Epoch 2 Total Mean f1 : 0.9622\n",
            "*****Epoch 2 Train Finish*****\n",
            "\n",
            "*****Epoch 2 Valid Start*****\n",
            "Epoch 2 Valid Loss : 0.1485 Valid Acc : 0.8343 Valid f1 : 0.8201\n",
            "*****Epoch 2 Valid Finish*****\n",
            "\n",
            "*****Epoch 3 Train Start*****\n",
            "Epoch: 3, Step : 128, LR : 0.0000136818, Avg Loss : 0.0138, f1 score : 0.9820\n",
            "Epoch 3 Total Mean Loss : 0.0142\n",
            "Epoch 3 Total Mean f1 : 0.9823\n",
            "*****Epoch 3 Train Finish*****\n",
            "\n",
            "*****Epoch 3 Valid Start*****\n",
            "Epoch 3 Valid Loss : 0.1524 Valid Acc : 0.8196 Valid f1 : 0.8041\n",
            "*****Epoch 3 Valid Finish*****\n",
            "\n",
            "Train Finished\n",
            "time : 6.0분 51.6049280166626초\n",
            "green is loss, gray is f1\n"
          ]
        },
        {
          "output_type": "display_data",
          "data": {
            "text/plain": [
              "<Figure size 432x288 with 2 Axes>"
            ],
            "image/png": "[encoded data removed]"
          },
          "metadata": {
            "needs_background": "light"
          }
        },
        {
          "output_type": "stream",
          "name": "stderr",
          "text": [
            "\u001b[32m[I 2022-06-08 19:29:41,013]\u001b[0m Trial 29 finished with value: 0.8200858815565482 and parameters: {'learning_rate': 0.000125325617701243, 'weight_decay': 0.00066887058711862, 'per_device_train_batch_size': 51}. Best is trial 23 with value: 0.8373039614965615.\u001b[0m\n"
          ]
        },
        {
          "output_type": "stream",
          "name": "stdout",
          "text": [
            "\n",
            "------------------------------------------\n",
            "\n",
            "\n",
            "batch_size : 60\n",
            "batch_size : 32\n"
          ]
        },
        {
          "output_type": "stream",
          "name": "stderr",
          "text": [
            "Some weights of the model checkpoint at klue/roberta-base were not used when initializing RobertaModel: ['lm_head.decoder.bias', 'lm_head.dense.bias', 'lm_head.decoder.weight', 'lm_head.layer_norm.weight', 'lm_head.dense.weight', 'lm_head.layer_norm.bias', 'lm_head.bias']\n",
            "- This IS expected if you are initializing RobertaModel from the checkpoint of a model trained on another task or with another architecture (e.g. initializing a BertForSequenceClassification model from a BertForPreTraining model).\n",
            "- This IS NOT expected if you are initializing RobertaModel from the checkpoint of a model that you expect to be exactly identical (initializing a BertForSequenceClassification model from a BertForSequenceClassification model).\n",
            "Some weights of RobertaModel were not initialized from the model checkpoint at klue/roberta-base and are newly initialized: ['roberta.pooler.dense.weight', 'roberta.pooler.dense.bias']\n",
            "You should probably TRAIN this model on a down-stream task to be able to use it for predictions and inference.\n"
          ]
        },
        {
          "output_type": "stream",
          "name": "stdout",
          "text": [
            "Total train steps with 4 epochs: 780\n",
            "model_name : klue/roberta-base, lr : 0.0005539612807009426, weight_decay : 0.0044074872346177175, epochs : 4\n",
            "*****Epoch 0 Train Start*****\n",
            "Epoch: 0, Step : 128, LR : 0.0004623446, Avg Loss : 0.2530, f1 score : 0.1225\n",
            "Epoch 0 Total Mean Loss : 0.2518\n",
            "Epoch 0 Total Mean f1 : 0.0811\n",
            "*****Epoch 0 Train Finish*****\n",
            "\n",
            "*****Epoch 0 Valid Start*****\n",
            "Epoch 0 Valid Loss : 0.2470 Valid Acc : 0.5825 Valid f1 : 0.0000\n",
            "*****Epoch 0 Valid Finish*****\n",
            "\n",
            "Train Finished\n",
            "time : 1.0분 42.69281268119812초\n",
            "green is loss, gray is f1\n"
          ]
        },
        {
          "output_type": "display_data",
          "data": {
            "text/plain": [
              "<Figure size 432x288 with 2 Axes>"
            ],
            "image/png": "[encoded data removed]"
          },
          "metadata": {
            "needs_background": "light"
          }
        },
        {
          "output_type": "stream",
          "name": "stderr",
          "text": [
            "\u001b[32m[I 2022-06-08 19:31:38,167]\u001b[0m Trial 30 finished with value: 0.0 and parameters: {'learning_rate': 0.0005539612807009426, 'weight_decay': 0.0044074872346177175, 'per_device_train_batch_size': 60}. Best is trial 23 with value: 0.8373039614965615.\u001b[0m\n"
          ]
        },
        {
          "output_type": "stream",
          "name": "stdout",
          "text": [
            "\n",
            "------------------------------------------\n",
            "\n",
            "\n",
            "batch_size : 82\n",
            "batch_size : 32\n"
          ]
        },
        {
          "output_type": "stream",
          "name": "stderr",
          "text": [
            "Some weights of the model checkpoint at klue/roberta-base were not used when initializing RobertaModel: ['lm_head.decoder.bias', 'lm_head.dense.bias', 'lm_head.decoder.weight', 'lm_head.layer_norm.weight', 'lm_head.dense.weight', 'lm_head.layer_norm.bias', 'lm_head.bias']\n",
            "- This IS expected if you are initializing RobertaModel from the checkpoint of a model trained on another task or with another architecture (e.g. initializing a BertForSequenceClassification model from a BertForPreTraining model).\n",
            "- This IS NOT expected if you are initializing RobertaModel from the checkpoint of a model that you expect to be exactly identical (initializing a BertForSequenceClassification model from a BertForSequenceClassification model).\n",
            "Some weights of RobertaModel were not initialized from the model checkpoint at klue/roberta-base and are newly initialized: ['roberta.pooler.dense.weight', 'roberta.pooler.dense.bias']\n",
            "You should probably TRAIN this model on a down-stream task to be able to use it for predictions and inference.\n"
          ]
        },
        {
          "output_type": "stream",
          "name": "stdout",
          "text": [
            "Total train steps with 4 epochs: 572\n",
            "model_name : klue/roberta-base, lr : 7.351955303424214e-05, weight_decay : 0.0003697851564032416, epochs : 4\n",
            "*****Epoch 0 Train Start*****\n",
            "Epoch: 0, Step : 128, LR : 0.0000569391, Avg Loss : 0.0765, f1 score : 0.8902\n",
            "Epoch 0 Total Mean Loss : 0.0728\n",
            "Epoch 0 Total Mean f1 : 0.8958\n",
            "*****Epoch 0 Train Finish*****\n",
            "\n",
            "*****Epoch 0 Valid Start*****\n",
            "Epoch 0 Valid Loss : 0.1205 Valid Acc : 0.8435 Valid f1 : 0.8241\n",
            "*****Epoch 0 Valid Finish*****\n",
            "\n",
            "*****Epoch 1 Train Start*****\n",
            "Epoch: 1, Step : 128, LR : 0.0000385592, Avg Loss : 0.0283, f1 score : 0.9625\n",
            "Epoch 1 Total Mean Loss : 0.0285\n",
            "Epoch 1 Total Mean f1 : 0.9623\n",
            "*****Epoch 1 Train Finish*****\n",
            "\n",
            "*****Epoch 1 Valid Start*****\n",
            "Epoch 1 Valid Loss : 0.1702 Valid Acc : 0.7983 Valid f1 : 0.8021\n",
            "*****Epoch 1 Valid Finish*****\n",
            "\n",
            "*****Epoch 2 Train Start*****\n",
            "Epoch: 2, Step : 128, LR : 0.0000201793, Avg Loss : 0.0167, f1 score : 0.9793\n",
            "Epoch 2 Total Mean Loss : 0.0170\n",
            "Epoch 2 Total Mean f1 : 0.9791\n",
            "*****Epoch 2 Train Finish*****\n",
            "\n",
            "*****Epoch 2 Valid Start*****\n",
            "Epoch 2 Valid Loss : 0.1435 Valid Acc : 0.8241 Valid f1 : 0.8179\n",
            "*****Epoch 2 Valid Finish*****\n",
            "\n",
            "*****Epoch 3 Train Start*****\n",
            "Epoch: 3, Step : 128, LR : 0.0000017994, Avg Loss : 0.0099, f1 score : 0.9883\n",
            "Epoch 3 Total Mean Loss : 0.0097\n",
            "Epoch 3 Total Mean f1 : 0.9884\n",
            "*****Epoch 3 Train Finish*****\n",
            "\n",
            "*****Epoch 3 Valid Start*****\n",
            "Epoch 3 Valid Loss : 0.1405 Valid Acc : 0.8369 Valid f1 : 0.8275\n",
            "*****Epoch 3 Valid Finish*****\n",
            "\n",
            "Train Finished\n",
            "time : 6.0분 43.400763750076294초\n",
            "green is loss, gray is f1\n"
          ]
        },
        {
          "output_type": "display_data",
          "data": {
            "text/plain": [
              "<Figure size 432x288 with 2 Axes>"
            ],
            "image/png": "[encoded data removed]"
          },
          "metadata": {
            "needs_background": "light"
          }
        },
        {
          "output_type": "stream",
          "name": "stderr",
          "text": [
            "\u001b[32m[I 2022-06-08 19:38:36,071]\u001b[0m Trial 31 finished with value: 0.8275416963595144 and parameters: {'learning_rate': 7.351955303424214e-05, 'weight_decay': 0.0003697851564032416, 'per_device_train_batch_size': 82}. Best is trial 23 with value: 0.8373039614965615.\u001b[0m\n"
          ]
        },
        {
          "output_type": "stream",
          "name": "stdout",
          "text": [
            "\n",
            "------------------------------------------\n",
            "\n",
            "\n",
            "batch_size : 82\n",
            "batch_size : 32\n"
          ]
        },
        {
          "output_type": "stream",
          "name": "stderr",
          "text": [
            "Some weights of the model checkpoint at klue/roberta-base were not used when initializing RobertaModel: ['lm_head.decoder.bias', 'lm_head.dense.bias', 'lm_head.decoder.weight', 'lm_head.layer_norm.weight', 'lm_head.dense.weight', 'lm_head.layer_norm.bias', 'lm_head.bias']\n",
            "- This IS expected if you are initializing RobertaModel from the checkpoint of a model trained on another task or with another architecture (e.g. initializing a BertForSequenceClassification model from a BertForPreTraining model).\n",
            "- This IS NOT expected if you are initializing RobertaModel from the checkpoint of a model that you expect to be exactly identical (initializing a BertForSequenceClassification model from a BertForSequenceClassification model).\n",
            "Some weights of RobertaModel were not initialized from the model checkpoint at klue/roberta-base and are newly initialized: ['roberta.pooler.dense.weight', 'roberta.pooler.dense.bias']\n",
            "You should probably TRAIN this model on a down-stream task to be able to use it for predictions and inference.\n"
          ]
        },
        {
          "output_type": "stream",
          "name": "stdout",
          "text": [
            "Total train steps with 4 epochs: 572\n",
            "model_name : klue/roberta-base, lr : 7.18024269533738e-05, weight_decay : 0.0004618994107645463, epochs : 4\n",
            "*****Epoch 0 Train Start*****\n",
            "Epoch: 0, Step : 128, LR : 0.0000556092, Avg Loss : 0.0650, f1 score : 0.9021\n",
            "Epoch 0 Total Mean Loss : 0.0628\n",
            "Epoch 0 Total Mean f1 : 0.9062\n",
            "*****Epoch 0 Train Finish*****\n",
            "\n",
            "*****Epoch 0 Valid Start*****\n",
            "Epoch 0 Valid Loss : 0.1591 Valid Acc : 0.7873 Valid f1 : 0.7921\n",
            "*****Epoch 0 Valid Finish*****\n",
            "\n",
            "*****Epoch 1 Train Start*****\n",
            "Epoch: 1, Step : 128, LR : 0.0000376586, Avg Loss : 0.0297, f1 score : 0.9605\n",
            "Epoch 1 Total Mean Loss : 0.0300\n",
            "Epoch 1 Total Mean f1 : 0.9602\n",
            "*****Epoch 1 Train Finish*****\n",
            "\n",
            "*****Epoch 1 Valid Start*****\n",
            "Epoch 1 Valid Loss : 0.1379 Valid Acc : 0.8314 Valid f1 : 0.8272\n",
            "*****Epoch 1 Valid Finish*****\n",
            "\n",
            "*****Epoch 2 Train Start*****\n",
            "Epoch: 2, Step : 128, LR : 0.0000197080, Avg Loss : 0.0151, f1 score : 0.9815\n",
            "Epoch 2 Total Mean Loss : 0.0155\n",
            "Epoch 2 Total Mean f1 : 0.9812\n",
            "*****Epoch 2 Train Finish*****\n",
            "\n",
            "*****Epoch 2 Valid Start*****\n",
            "Epoch 2 Valid Loss : 0.1441 Valid Acc : 0.8314 Valid f1 : 0.8255\n",
            "*****Epoch 2 Valid Finish*****\n",
            "\n",
            "*****Epoch 3 Train Start*****\n",
            "Epoch: 3, Step : 128, LR : 0.0000017574, Avg Loss : 0.0099, f1 score : 0.9885\n",
            "Epoch 3 Total Mean Loss : 0.0097\n",
            "Epoch 3 Total Mean f1 : 0.9888\n",
            "*****Epoch 3 Train Finish*****\n",
            "\n",
            "*****Epoch 3 Valid Start*****\n",
            "Epoch 3 Valid Loss : 0.1407 Valid Acc : 0.8388 Valid f1 : 0.8287\n",
            "*****Epoch 3 Valid Finish*****\n",
            "\n",
            "Train Finished\n",
            "time : 6.0분 41.20889472961426초\n",
            "green is loss, gray is f1\n"
          ]
        },
        {
          "output_type": "display_data",
          "data": {
            "text/plain": [
              "<Figure size 432x288 with 2 Axes>"
            ],
            "image/png": "[encoded data removed]"
          },
          "metadata": {
            "needs_background": "light"
          }
        },
        {
          "output_type": "stream",
          "name": "stderr",
          "text": [
            "\u001b[32m[I 2022-06-08 19:45:32,602]\u001b[0m Trial 32 finished with value: 0.8286582940676306 and parameters: {'learning_rate': 7.18024269533738e-05, 'weight_decay': 0.0004618994107645463, 'per_device_train_batch_size': 82}. Best is trial 23 with value: 0.8373039614965615.\u001b[0m\n"
          ]
        },
        {
          "output_type": "stream",
          "name": "stdout",
          "text": [
            "\n",
            "------------------------------------------\n",
            "\n",
            "\n",
            "batch_size : 83\n",
            "batch_size : 32\n"
          ]
        },
        {
          "output_type": "stream",
          "name": "stderr",
          "text": [
            "Some weights of the model checkpoint at klue/roberta-base were not used when initializing RobertaModel: ['lm_head.decoder.bias', 'lm_head.dense.bias', 'lm_head.decoder.weight', 'lm_head.layer_norm.weight', 'lm_head.dense.weight', 'lm_head.layer_norm.bias', 'lm_head.bias']\n",
            "- This IS expected if you are initializing RobertaModel from the checkpoint of a model trained on another task or with another architecture (e.g. initializing a BertForSequenceClassification model from a BertForPreTraining model).\n",
            "- This IS NOT expected if you are initializing RobertaModel from the checkpoint of a model that you expect to be exactly identical (initializing a BertForSequenceClassification model from a BertForSequenceClassification model).\n",
            "Some weights of RobertaModel were not initialized from the model checkpoint at klue/roberta-base and are newly initialized: ['roberta.pooler.dense.weight', 'roberta.pooler.dense.bias']\n",
            "You should probably TRAIN this model on a down-stream task to be able to use it for predictions and inference.\n"
          ]
        },
        {
          "output_type": "stream",
          "name": "stdout",
          "text": [
            "Total train steps with 4 epochs: 564\n",
            "model_name : klue/roberta-base, lr : 0.00013544743534145618, weight_decay : 0.0004220921683148312, epochs : 4\n",
            "*****Epoch 0 Train Start*****\n",
            "Epoch: 0, Step : 128, LR : 0.0001044674, Avg Loss : 0.2511, f1 score : 0.1310\n",
            "Epoch 0 Total Mean Loss : 0.2509\n",
            "Epoch 0 Total Mean f1 : 0.1198\n",
            "*****Epoch 0 Train Finish*****\n",
            "\n",
            "*****Epoch 0 Valid Start*****\n",
            "Epoch 0 Valid Loss : 0.2473 Valid Acc : 0.5825 Valid f1 : 0.0000\n",
            "*****Epoch 0 Valid Finish*****\n",
            "\n",
            "Train Finished\n",
            "time : 1.0분 40.5898962020874초\n",
            "green is loss, gray is f1\n"
          ]
        },
        {
          "output_type": "display_data",
          "data": {
            "text/plain": [
              "<Figure size 432x288 with 2 Axes>"
            ],
            "image/png": "[encoded data removed]"
          },
          "metadata": {
            "needs_background": "light"
          }
        },
        {
          "output_type": "stream",
          "name": "stderr",
          "text": [
            "\u001b[32m[I 2022-06-08 19:47:27,587]\u001b[0m Trial 33 finished with value: 0.0 and parameters: {'learning_rate': 0.00013544743534145618, 'weight_decay': 0.0004220921683148312, 'per_device_train_batch_size': 83}. Best is trial 23 with value: 0.8373039614965615.\u001b[0m\n"
          ]
        },
        {
          "output_type": "stream",
          "name": "stdout",
          "text": [
            "\n",
            "------------------------------------------\n",
            "\n",
            "\n",
            "batch_size : 79\n",
            "batch_size : 32\n"
          ]
        },
        {
          "output_type": "stream",
          "name": "stderr",
          "text": [
            "Some weights of the model checkpoint at klue/roberta-base were not used when initializing RobertaModel: ['lm_head.decoder.bias', 'lm_head.dense.bias', 'lm_head.decoder.weight', 'lm_head.layer_norm.weight', 'lm_head.dense.weight', 'lm_head.layer_norm.bias', 'lm_head.bias']\n",
            "- This IS expected if you are initializing RobertaModel from the checkpoint of a model trained on another task or with another architecture (e.g. initializing a BertForSequenceClassification model from a BertForPreTraining model).\n",
            "- This IS NOT expected if you are initializing RobertaModel from the checkpoint of a model that you expect to be exactly identical (initializing a BertForSequenceClassification model from a BertForSequenceClassification model).\n",
            "Some weights of RobertaModel were not initialized from the model checkpoint at klue/roberta-base and are newly initialized: ['roberta.pooler.dense.weight', 'roberta.pooler.dense.bias']\n",
            "You should probably TRAIN this model on a down-stream task to be able to use it for predictions and inference.\n"
          ]
        },
        {
          "output_type": "stream",
          "name": "stdout",
          "text": [
            "Total train steps with 4 epochs: 592\n",
            "model_name : klue/roberta-base, lr : 6.843634700237655e-05, weight_decay : 0.000197467151098045, epochs : 4\n",
            "*****Epoch 0 Train Start*****\n",
            "Epoch: 0, Step : 128, LR : 0.0000535237, Avg Loss : 0.0708, f1 score : 0.8940\n",
            "Epoch 0 Total Mean Loss : 0.0671\n",
            "Epoch 0 Total Mean f1 : 0.9002\n",
            "*****Epoch 0 Train Finish*****\n",
            "\n",
            "*****Epoch 0 Valid Start*****\n",
            "Epoch 0 Valid Loss : 0.1383 Valid Acc : 0.8120 Valid f1 : 0.7989\n",
            "*****Epoch 0 Valid Finish*****\n",
            "\n",
            "*****Epoch 1 Train Start*****\n",
            "Epoch: 1, Step : 128, LR : 0.0000364146, Avg Loss : 0.0315, f1 score : 0.9590\n",
            "Epoch 1 Total Mean Loss : 0.0308\n",
            "Epoch 1 Total Mean f1 : 0.9601\n",
            "*****Epoch 1 Train Finish*****\n",
            "\n",
            "*****Epoch 1 Valid Start*****\n",
            "Epoch 1 Valid Loss : 0.1227 Valid Acc : 0.8380 Valid f1 : 0.8075\n",
            "*****Epoch 1 Valid Finish*****\n",
            "\n",
            "*****Epoch 2 Train Start*****\n",
            "Epoch: 2, Step : 128, LR : 0.0000193055, Avg Loss : 0.0171, f1 score : 0.9787\n",
            "Epoch 2 Total Mean Loss : 0.0167\n",
            "Epoch 2 Total Mean f1 : 0.9795\n",
            "*****Epoch 2 Train Finish*****\n",
            "\n",
            "*****Epoch 2 Valid Start*****\n",
            "Epoch 2 Valid Loss : 0.1663 Valid Acc : 0.8149 Valid f1 : 0.8145\n",
            "*****Epoch 2 Valid Finish*****\n",
            "\n",
            "*****Epoch 3 Train Start*****\n",
            "Epoch: 3, Step : 128, LR : 0.0000021964, Avg Loss : 0.0101, f1 score : 0.9881\n",
            "Epoch 3 Total Mean Loss : 0.0102\n",
            "Epoch 3 Total Mean f1 : 0.9878\n",
            "*****Epoch 3 Train Finish*****\n",
            "\n",
            "*****Epoch 3 Valid Start*****\n",
            "Epoch 3 Valid Loss : 0.1401 Valid Acc : 0.8343 Valid f1 : 0.8111\n",
            "*****Epoch 3 Valid Finish*****\n",
            "\n",
            "Train Finished\n",
            "time : 6.0분 42.43021249771118초\n",
            "green is loss, gray is f1\n"
          ]
        },
        {
          "output_type": "display_data",
          "data": {
            "text/plain": [
              "<Figure size 432x288 with 2 Axes>"
            ],
            "image/png": "[encoded data removed]"
          },
          "metadata": {
            "needs_background": "light"
          }
        },
        {
          "output_type": "stream",
          "name": "stderr",
          "text": [
            "\u001b[32m[I 2022-06-08 19:54:24,487]\u001b[0m Trial 34 finished with value: 0.8145497538678943 and parameters: {'learning_rate': 6.843634700237655e-05, 'weight_decay': 0.000197467151098045, 'per_device_train_batch_size': 79}. Best is trial 23 with value: 0.8373039614965615.\u001b[0m\n"
          ]
        },
        {
          "output_type": "stream",
          "name": "stdout",
          "text": [
            "\n",
            "------------------------------------------\n",
            "\n",
            "\n",
            "batch_size : 87\n",
            "batch_size : 32\n"
          ]
        },
        {
          "output_type": "stream",
          "name": "stderr",
          "text": [
            "Some weights of the model checkpoint at klue/roberta-base were not used when initializing RobertaModel: ['lm_head.decoder.bias', 'lm_head.dense.bias', 'lm_head.decoder.weight', 'lm_head.layer_norm.weight', 'lm_head.dense.weight', 'lm_head.layer_norm.bias', 'lm_head.bias']\n",
            "- This IS expected if you are initializing RobertaModel from the checkpoint of a model trained on another task or with another architecture (e.g. initializing a BertForSequenceClassification model from a BertForPreTraining model).\n",
            "- This IS NOT expected if you are initializing RobertaModel from the checkpoint of a model that you expect to be exactly identical (initializing a BertForSequenceClassification model from a BertForSequenceClassification model).\n",
            "Some weights of RobertaModel were not initialized from the model checkpoint at klue/roberta-base and are newly initialized: ['roberta.pooler.dense.weight', 'roberta.pooler.dense.bias']\n",
            "You should probably TRAIN this model on a down-stream task to be able to use it for predictions and inference.\n"
          ]
        },
        {
          "output_type": "stream",
          "name": "stdout",
          "text": [
            "Total train steps with 4 epochs: 540\n",
            "model_name : klue/roberta-base, lr : 0.00015541631317394909, weight_decay : 6.0112139884435e-05, epochs : 4\n",
            "*****Epoch 0 Train Start*****\n",
            "Epoch: 0, Step : 128, LR : 0.0001182891, Avg Loss : 0.1124, f1 score : 0.8361\n",
            "Epoch 0 Total Mean Loss : 0.1101\n",
            "Epoch 0 Total Mean f1 : 0.8399\n",
            "*****Epoch 0 Train Finish*****\n",
            "\n",
            "*****Epoch 0 Valid Start*****\n",
            "Epoch 0 Valid Loss : 0.2153 Valid Acc : 0.7285 Valid f1 : 0.7451\n",
            "*****Epoch 0 Valid Finish*****\n",
            "\n",
            "*****Epoch 1 Train Start*****\n",
            "Epoch: 1, Step : 128, LR : 0.0000794350, Avg Loss : 0.0618, f1 score : 0.9222\n",
            "Epoch 1 Total Mean Loss : 0.0608\n",
            "Epoch 1 Total Mean f1 : 0.9230\n",
            "*****Epoch 1 Train Finish*****\n",
            "\n",
            "*****Epoch 1 Valid Start*****\n",
            "Epoch 1 Valid Loss : 0.1764 Valid Acc : 0.7671 Valid f1 : 0.7764\n",
            "*****Epoch 1 Valid Finish*****\n",
            "\n",
            "*****Epoch 2 Train Start*****\n",
            "Epoch: 2, Step : 128, LR : 0.0000405809, Avg Loss : 0.0395, f1 score : 0.9506\n",
            "Epoch 2 Total Mean Loss : 0.0392\n",
            "Epoch 2 Total Mean f1 : 0.9509\n",
            "*****Epoch 2 Train Finish*****\n",
            "\n",
            "*****Epoch 2 Valid Start*****\n",
            "Epoch 2 Valid Loss : 0.1503 Valid Acc : 0.8112 Valid f1 : 0.7862\n",
            "*****Epoch 2 Valid Finish*****\n",
            "\n",
            "*****Epoch 3 Train Start*****\n",
            "Epoch: 3, Step : 128, LR : 0.0000017268, Avg Loss : 0.0232, f1 score : 0.9718\n",
            "Epoch 3 Total Mean Loss : 0.0227\n",
            "Epoch 3 Total Mean f1 : 0.9723\n",
            "*****Epoch 3 Train Finish*****\n",
            "\n",
            "*****Epoch 3 Valid Start*****\n",
            "Epoch 3 Valid Loss : 0.1546 Valid Acc : 0.8141 Valid f1 : 0.8096\n",
            "*****Epoch 3 Valid Finish*****\n",
            "\n",
            "Train Finished\n",
            "time : 6.0분 42.269800662994385초\n",
            "green is loss, gray is f1\n"
          ]
        },
        {
          "output_type": "display_data",
          "data": {
            "text/plain": [
              "<Figure size 432x288 with 2 Axes>"
            ],
            "image/png": "[encoded data removed]"
          },
          "metadata": {
            "needs_background": "light"
          }
        },
        {
          "output_type": "stream",
          "name": "stderr",
          "text": [
            "\u001b[32m[I 2022-06-08 20:01:21,215]\u001b[0m Trial 35 finished with value: 0.8095983892325136 and parameters: {'learning_rate': 0.00015541631317394909, 'weight_decay': 6.0112139884435e-05, 'per_device_train_batch_size': 87}. Best is trial 23 with value: 0.8373039614965615.\u001b[0m\n"
          ]
        },
        {
          "output_type": "stream",
          "name": "stdout",
          "text": [
            "\n",
            "------------------------------------------\n",
            "\n",
            "\n",
            "batch_size : 82\n",
            "batch_size : 32\n"
          ]
        },
        {
          "output_type": "stream",
          "name": "stderr",
          "text": [
            "Some weights of the model checkpoint at klue/roberta-base were not used when initializing RobertaModel: ['lm_head.decoder.bias', 'lm_head.dense.bias', 'lm_head.decoder.weight', 'lm_head.layer_norm.weight', 'lm_head.dense.weight', 'lm_head.layer_norm.bias', 'lm_head.bias']\n",
            "- This IS expected if you are initializing RobertaModel from the checkpoint of a model trained on another task or with another architecture (e.g. initializing a BertForSequenceClassification model from a BertForPreTraining model).\n",
            "- This IS NOT expected if you are initializing RobertaModel from the checkpoint of a model that you expect to be exactly identical (initializing a BertForSequenceClassification model from a BertForSequenceClassification model).\n",
            "Some weights of RobertaModel were not initialized from the model checkpoint at klue/roberta-base and are newly initialized: ['roberta.pooler.dense.weight', 'roberta.pooler.dense.bias']\n",
            "You should probably TRAIN this model on a down-stream task to be able to use it for predictions and inference.\n"
          ]
        },
        {
          "output_type": "stream",
          "name": "stdout",
          "text": [
            "Total train steps with 4 epochs: 572\n",
            "model_name : klue/roberta-base, lr : 0.0001100022678249792, weight_decay : 0.0009020230471502597, epochs : 4\n",
            "*****Epoch 0 Train Start*****\n",
            "Epoch: 0, Step : 128, LR : 0.0000851941, Avg Loss : 0.0848, f1 score : 0.8767\n",
            "Epoch 0 Total Mean Loss : 0.0811\n",
            "Epoch 0 Total Mean f1 : 0.8824\n",
            "*****Epoch 0 Train Finish*****\n",
            "\n",
            "*****Epoch 0 Valid Start*****\n",
            "Epoch 0 Valid Loss : 0.1987 Valid Acc : 0.7623 Valid f1 : 0.7749\n",
            "*****Epoch 0 Valid Finish*****\n",
            "\n",
            "*****Epoch 1 Train Start*****\n",
            "Epoch: 1, Step : 128, LR : 0.0000576935, Avg Loss : 0.0371, f1 score : 0.9533\n",
            "Epoch 1 Total Mean Loss : 0.0373\n",
            "Epoch 1 Total Mean f1 : 0.9528\n",
            "*****Epoch 1 Train Finish*****\n",
            "\n",
            "*****Epoch 1 Valid Start*****\n",
            "Epoch 1 Valid Loss : 0.1701 Valid Acc : 0.7910 Valid f1 : 0.7876\n",
            "*****Epoch 1 Valid Finish*****\n",
            "\n",
            "*****Epoch 2 Train Start*****\n",
            "Epoch: 2, Step : 128, LR : 0.0000301929, Avg Loss : 0.0245, f1 score : 0.9695\n",
            "Epoch 2 Total Mean Loss : 0.0239\n",
            "Epoch 2 Total Mean f1 : 0.9703\n",
            "*****Epoch 2 Train Finish*****\n",
            "\n",
            "*****Epoch 2 Valid Start*****\n",
            "Epoch 2 Valid Loss : 0.1737 Valid Acc : 0.7770 Valid f1 : 0.7554\n",
            "*****Epoch 2 Valid Finish*****\n",
            "\n",
            "*****Epoch 3 Train Start*****\n",
            "Epoch: 3, Step : 128, LR : 0.0000026924, Avg Loss : 0.0116, f1 score : 0.9857\n",
            "Epoch 3 Total Mean Loss : 0.0116\n",
            "Epoch 3 Total Mean f1 : 0.9858\n",
            "*****Epoch 3 Train Finish*****\n",
            "\n",
            "*****Epoch 3 Valid Start*****\n",
            "Epoch 3 Valid Loss : 0.1688 Valid Acc : 0.8020 Valid f1 : 0.7898\n",
            "*****Epoch 3 Valid Finish*****\n",
            "\n",
            "Train Finished\n",
            "time : 6.0분 43.17422080039978초\n",
            "green is loss, gray is f1\n"
          ]
        },
        {
          "output_type": "display_data",
          "data": {
            "text/plain": [
              "<Figure size 432x288 with 2 Axes>"
            ],
            "image/png": "[encoded data removed]"
          },
          "metadata": {
            "needs_background": "light"
          }
        },
        {
          "output_type": "stream",
          "name": "stderr",
          "text": [
            "\u001b[32m[I 2022-06-08 20:08:18,805]\u001b[0m Trial 36 finished with value: 0.789806916396809 and parameters: {'learning_rate': 0.0001100022678249792, 'weight_decay': 0.0009020230471502597, 'per_device_train_batch_size': 82}. Best is trial 23 with value: 0.8373039614965615.\u001b[0m\n"
          ]
        },
        {
          "output_type": "stream",
          "name": "stdout",
          "text": [
            "\n",
            "------------------------------------------\n",
            "\n",
            "\n",
            "batch_size : 77\n",
            "batch_size : 32\n"
          ]
        },
        {
          "output_type": "stream",
          "name": "stderr",
          "text": [
            "Some weights of the model checkpoint at klue/roberta-base were not used when initializing RobertaModel: ['lm_head.decoder.bias', 'lm_head.dense.bias', 'lm_head.decoder.weight', 'lm_head.layer_norm.weight', 'lm_head.dense.weight', 'lm_head.layer_norm.bias', 'lm_head.bias']\n",
            "- This IS expected if you are initializing RobertaModel from the checkpoint of a model trained on another task or with another architecture (e.g. initializing a BertForSequenceClassification model from a BertForPreTraining model).\n",
            "- This IS NOT expected if you are initializing RobertaModel from the checkpoint of a model that you expect to be exactly identical (initializing a BertForSequenceClassification model from a BertForSequenceClassification model).\n",
            "Some weights of RobertaModel were not initialized from the model checkpoint at klue/roberta-base and are newly initialized: ['roberta.pooler.dense.weight', 'roberta.pooler.dense.bias']\n",
            "You should probably TRAIN this model on a down-stream task to be able to use it for predictions and inference.\n"
          ]
        },
        {
          "output_type": "stream",
          "name": "stdout",
          "text": [
            "Total train steps with 4 epochs: 608\n",
            "model_name : klue/roberta-base, lr : 0.0029720618508421717, weight_decay : 0.0015745436871768513, epochs : 4\n",
            "*****Epoch 0 Train Start*****\n",
            "Epoch: 0, Step : 128, LR : 0.0023414764, Avg Loss : 0.2537, f1 score : 0.2816\n",
            "Epoch 0 Total Mean Loss : 0.2532\n",
            "Epoch 0 Total Mean f1 : 0.2390\n",
            "*****Epoch 0 Train Finish*****\n",
            "\n",
            "*****Epoch 0 Valid Start*****\n",
            "Epoch 0 Valid Loss : 0.2481 Valid Acc : 0.5825 Valid f1 : 0.0000\n",
            "*****Epoch 0 Valid Finish*****\n",
            "\n",
            "Train Finished\n",
            "time : 1.0분 40.00025510787964초\n",
            "green is loss, gray is f1\n"
          ]
        },
        {
          "output_type": "display_data",
          "data": {
            "text/plain": [
              "<Figure size 432x288 with 2 Axes>"
            ],
            "image/png": "[encoded data removed]"
          },
          "metadata": {
            "needs_background": "light"
          }
        },
        {
          "output_type": "stream",
          "name": "stderr",
          "text": [
            "\u001b[32m[I 2022-06-08 20:10:13,636]\u001b[0m Trial 37 finished with value: 0.0 and parameters: {'learning_rate': 0.0029720618508421717, 'weight_decay': 0.0015745436871768513, 'per_device_train_batch_size': 77}. Best is trial 23 with value: 0.8373039614965615.\u001b[0m\n"
          ]
        },
        {
          "output_type": "stream",
          "name": "stdout",
          "text": [
            "\n",
            "------------------------------------------\n",
            "\n",
            "\n",
            "batch_size : 84\n",
            "batch_size : 32\n"
          ]
        },
        {
          "output_type": "stream",
          "name": "stderr",
          "text": [
            "Some weights of the model checkpoint at klue/roberta-base were not used when initializing RobertaModel: ['lm_head.decoder.bias', 'lm_head.dense.bias', 'lm_head.decoder.weight', 'lm_head.layer_norm.weight', 'lm_head.dense.weight', 'lm_head.layer_norm.bias', 'lm_head.bias']\n",
            "- This IS expected if you are initializing RobertaModel from the checkpoint of a model trained on another task or with another architecture (e.g. initializing a BertForSequenceClassification model from a BertForPreTraining model).\n",
            "- This IS NOT expected if you are initializing RobertaModel from the checkpoint of a model that you expect to be exactly identical (initializing a BertForSequenceClassification model from a BertForSequenceClassification model).\n",
            "Some weights of RobertaModel were not initialized from the model checkpoint at klue/roberta-base and are newly initialized: ['roberta.pooler.dense.weight', 'roberta.pooler.dense.bias']\n",
            "You should probably TRAIN this model on a down-stream task to be able to use it for predictions and inference.\n"
          ]
        },
        {
          "output_type": "stream",
          "name": "stdout",
          "text": [
            "Total train steps with 4 epochs: 556\n",
            "model_name : klue/roberta-base, lr : 7.303728559792305e-05, weight_decay : 0.0001322508857835097, epochs : 4\n",
            "*****Epoch 0 Train Start*****\n",
            "Epoch: 0, Step : 128, LR : 0.0000560916, Avg Loss : 0.0704, f1 score : 0.8845\n",
            "Epoch 0 Total Mean Loss : 0.0684\n",
            "Epoch 0 Total Mean f1 : 0.8891\n",
            "*****Epoch 0 Train Finish*****\n",
            "\n",
            "*****Epoch 0 Valid Start*****\n",
            "Epoch 0 Valid Loss : 0.1661 Valid Acc : 0.7826 Valid f1 : 0.7818\n",
            "*****Epoch 0 Valid Finish*****\n",
            "\n",
            "*****Epoch 1 Train Start*****\n",
            "Epoch: 1, Step : 128, LR : 0.0000378323, Avg Loss : 0.0298, f1 score : 0.9619\n",
            "Epoch 1 Total Mean Loss : 0.0296\n",
            "Epoch 1 Total Mean f1 : 0.9622\n",
            "*****Epoch 1 Train Finish*****\n",
            "\n",
            "*****Epoch 1 Valid Start*****\n",
            "Epoch 1 Valid Loss : 0.1898 Valid Acc : 0.7634 Valid f1 : 0.7766\n",
            "*****Epoch 1 Valid Finish*****\n",
            "\n",
            "*****Epoch 2 Train Start*****\n",
            "Epoch: 2, Step : 128, LR : 0.0000195729, Avg Loss : 0.0179, f1 score : 0.9773\n",
            "Epoch 2 Total Mean Loss : 0.0173\n",
            "Epoch 2 Total Mean f1 : 0.9782\n",
            "*****Epoch 2 Train Finish*****\n",
            "\n",
            "*****Epoch 2 Valid Start*****\n",
            "Epoch 2 Valid Loss : 0.1539 Valid Acc : 0.8241 Valid f1 : 0.8185\n",
            "*****Epoch 2 Valid Finish*****\n",
            "\n",
            "*****Epoch 3 Train Start*****\n",
            "Epoch: 3, Step : 128, LR : 0.0000013136, Avg Loss : 0.0089, f1 score : 0.9894\n",
            "Epoch 3 Total Mean Loss : 0.0094\n",
            "Epoch 3 Total Mean f1 : 0.9888\n",
            "*****Epoch 3 Train Finish*****\n",
            "\n",
            "*****Epoch 3 Valid Start*****\n",
            "Epoch 3 Valid Loss : 0.1751 Valid Acc : 0.8002 Valid f1 : 0.8000\n",
            "*****Epoch 3 Valid Finish*****\n",
            "\n",
            "Train Finished\n",
            "time : 6.0분 41.45813870429993초\n",
            "green is loss, gray is f1\n"
          ]
        },
        {
          "output_type": "display_data",
          "data": {
            "text/plain": [
              "<Figure size 432x288 with 2 Axes>"
            ],
            "image/png": "[encoded data removed]"
          },
          "metadata": {
            "needs_background": "light"
          }
        },
        {
          "output_type": "stream",
          "name": "stderr",
          "text": [
            "\u001b[32m[I 2022-06-08 20:17:09,535]\u001b[0m Trial 38 finished with value: 0.8184930449228384 and parameters: {'learning_rate': 7.303728559792305e-05, 'weight_decay': 0.0001322508857835097, 'per_device_train_batch_size': 84}. Best is trial 23 with value: 0.8373039614965615.\u001b[0m\n"
          ]
        },
        {
          "output_type": "stream",
          "name": "stdout",
          "text": [
            "\n",
            "------------------------------------------\n",
            "\n",
            "\n",
            "batch_size : 69\n",
            "batch_size : 32\n"
          ]
        },
        {
          "output_type": "stream",
          "name": "stderr",
          "text": [
            "Some weights of the model checkpoint at klue/roberta-base were not used when initializing RobertaModel: ['lm_head.decoder.bias', 'lm_head.dense.bias', 'lm_head.decoder.weight', 'lm_head.layer_norm.weight', 'lm_head.dense.weight', 'lm_head.layer_norm.bias', 'lm_head.bias']\n",
            "- This IS expected if you are initializing RobertaModel from the checkpoint of a model trained on another task or with another architecture (e.g. initializing a BertForSequenceClassification model from a BertForPreTraining model).\n",
            "- This IS NOT expected if you are initializing RobertaModel from the checkpoint of a model that you expect to be exactly identical (initializing a BertForSequenceClassification model from a BertForSequenceClassification model).\n",
            "Some weights of RobertaModel were not initialized from the model checkpoint at klue/roberta-base and are newly initialized: ['roberta.pooler.dense.weight', 'roberta.pooler.dense.bias']\n",
            "You should probably TRAIN this model on a down-stream task to be able to use it for predictions and inference.\n"
          ]
        },
        {
          "output_type": "stream",
          "name": "stdout",
          "text": [
            "Total train steps with 4 epochs: 680\n",
            "model_name : klue/roberta-base, lr : 5.2635585672403106e-05, weight_decay : 0.0003762889687857567, epochs : 4\n",
            "*****Epoch 0 Train Start*****\n",
            "Epoch: 0, Step : 128, LR : 0.0000426503, Avg Loss : 0.0812, f1 score : 0.8640\n",
            "Epoch 0 Total Mean Loss : 0.0736\n",
            "Epoch 0 Total Mean f1 : 0.8791\n",
            "*****Epoch 0 Train Finish*****\n",
            "\n",
            "*****Epoch 0 Valid Start*****\n",
            "Epoch 0 Valid Loss : 0.1150 Valid Acc : 0.8461 Valid f1 : 0.8227\n",
            "*****Epoch 0 Valid Finish*****\n",
            "\n",
            "Saving epoch 0 checkpoint at /content/drive/MyDrive/Colab Notebooks/nlp/epoch:0_loss:0.1150_f1:0.8227.ckpt\n",
            "*****Epoch 1 Train Start*****\n",
            "Epoch: 1, Step : 128, LR : 0.0000294914, Avg Loss : 0.0285, f1 score : 0.9628\n",
            "Epoch 1 Total Mean Loss : 0.0288\n",
            "Epoch 1 Total Mean f1 : 0.9628\n",
            "*****Epoch 1 Train Finish*****\n",
            "\n",
            "*****Epoch 1 Valid Start*****\n",
            "Epoch 1 Valid Loss : 0.1331 Valid Acc : 0.8178 Valid f1 : 0.8067\n",
            "*****Epoch 1 Valid Finish*****\n",
            "\n",
            "*****Epoch 2 Train Start*****\n",
            "Epoch: 2, Step : 128, LR : 0.0000163325, Avg Loss : 0.0175, f1 score : 0.9773\n",
            "Epoch 2 Total Mean Loss : 0.0174\n",
            "Epoch 2 Total Mean f1 : 0.9776\n",
            "*****Epoch 2 Train Finish*****\n",
            "\n",
            "*****Epoch 2 Valid Start*****\n",
            "Epoch 2 Valid Loss : 0.1468 Valid Acc : 0.8306 Valid f1 : 0.8262\n",
            "*****Epoch 2 Valid Finish*****\n",
            "\n",
            "*****Epoch 3 Train Start*****\n",
            "Epoch: 3, Step : 128, LR : 0.0000031736, Avg Loss : 0.0102, f1 score : 0.9876\n",
            "Epoch 3 Total Mean Loss : 0.0100\n",
            "Epoch 3 Total Mean f1 : 0.9881\n",
            "*****Epoch 3 Train Finish*****\n",
            "\n",
            "*****Epoch 3 Valid Start*****\n",
            "Epoch 3 Valid Loss : 0.1440 Valid Acc : 0.8361 Valid f1 : 0.8266\n",
            "*****Epoch 3 Valid Finish*****\n",
            "\n",
            "Train Finished\n",
            "time : 6.0분 49.67801308631897초\n",
            "green is loss, gray is f1\n"
          ]
        },
        {
          "output_type": "display_data",
          "data": {
            "text/plain": [
              "<Figure size 432x288 with 2 Axes>"
            ],
            "image/png": "[encoded data removed]"
          },
          "metadata": {
            "needs_background": "light"
          }
        },
        {
          "output_type": "stream",
          "name": "stderr",
          "text": [
            "\u001b[32m[I 2022-06-08 20:24:13,672]\u001b[0m Trial 39 finished with value: 0.8265908777471256 and parameters: {'learning_rate': 5.2635585672403106e-05, 'weight_decay': 0.0003762889687857567, 'per_device_train_batch_size': 69}. Best is trial 23 with value: 0.8373039614965615.\u001b[0m\n"
          ]
        },
        {
          "output_type": "stream",
          "name": "stdout",
          "text": [
            "\n",
            "------------------------------------------\n",
            "\n",
            "\n"
          ]
        },
        {
          "output_type": "display_data",
          "data": {
            "text/plain": [
              "<Figure size 432x288 with 0 Axes>"
            ]
          },
          "metadata": {}
        }
      ]
    },
    {
      "cell_type": "code",
      "source": [
        "# print(f'study.best_trial.value : {study.best_trial.value}') \n",
        "# print(f'study.best_params : {study.best_params}') \n",
        "# print(f'study.trials : {study.trials}')\n",
        "# optuna.visualization.plot_edf(study)"
      ],
      "metadata": {
        "id": "bwvffW9-wM5-"
      },
      "execution_count": null,
      "outputs": []
    },
    {
      "cell_type": "markdown",
      "source": [
        "# 추가학습\n"
      ],
      "metadata": {
        "id": "kI9yDMRqpF6k"
      }
    },
    {
      "cell_type": "code",
      "source": [
        "train_batch_size = 32\n",
        "model_name = 'klue/roberta-base'\n",
        "\n",
        "train_dataloader = make_dataloader(train_dataset, model_name, train_batch_size, 'train')\n",
        "valid_dataloader = make_dataloader(valid_dataset, model_name, 32, 'valid')\n",
        "learning_rate = 2e-05\n",
        "weight_decay = 0.01\n",
        "\n",
        "model, optimizer, scheduler = initializer(train_dataloader, 20, model_name, learning_rate, weight_decay)\n",
        "\n",
        "start = time.time()\n",
        "train_dict, valid_dict = train(model, optimizer, scheduler, train_dataloader, valid_dataloader, 20, model_name)\n",
        "end = time.time()\n",
        "print(f\"time : {(end - start)//60}분 {(end - start)%60}초\")\n",
        "\n",
        "draw_plot(train_dict, valid_dict, 0)"
      ],
      "metadata": {
        "id": "r9_uo1FRzzPW"
      },
      "execution_count": null,
      "outputs": []
    },
    {
      "cell_type": "markdown",
      "source": [
        "# Test : 최적화된 모델로 KLUE-sts Validation 문장 test\n",
        "\n",
        "csv파일로 score과 두 문장 저장"
      ],
      "metadata": {
        "id": "YhdTRSOJMq3O"
      }
    },
    {
      "cell_type": "code",
      "source": [
        "model_name = 'epoch:0_loss:0.1288_f1:0.8392.ckpt'\n",
        "checkpoint = torch.load(f'/content/drive/MyDrive/Colab Notebooks/nlp/{model_name}')\n",
        "checkpoint.keys()"
      ],
      "metadata": {
        "colab": {
          "base_uri": "https://localhost:8080/"
        },
        "id": "k55lEq4kORiX",
        "outputId": "5a883dfd-f3f9-42bf-a18d-0ec1ebc2dfab"
      },
      "execution_count": 18,
      "outputs": [
        {
          "output_type": "execute_result",
          "data": {
            "text/plain": [
              "dict_keys(['epoch', 'model_state_dict', 'optimizer_state_dict', 'scheduler_state_dict', 'loss', 'f1'])"
            ]
          },
          "metadata": {},
          "execution_count": 18
        }
      ]
    },
    {
      "cell_type": "code",
      "source": [
        "def test(model, test_dataloader):\n",
        "    loss_fct = nn.MSELoss()\n",
        "    # 모델을 evaluate 모드로 설정 & device 할당\n",
        "    model.eval()\n",
        "    model.to(device)\n",
        "    \n",
        "    total_loss, total_acc, total_f1, total_pearson= 0,0, 0, 0\n",
        "    prediction = {'probs' : [], 'batch_input_ids' : []}   # batch_input_ids는 문장 확인을 위해 넣어둠.\n",
        "\n",
        "    for step, batch in enumerate(test_dataloader):\n",
        "        \n",
        "        # tensor 연산 전, 각 tensor에 device 할당\n",
        "        batch = tuple(item.to(device) for item in batch)\n",
        "            \n",
        "        batch_input, batch_label = batch\n",
        "        labels = torch.tensor([[1, 0] if label == 1 else [0, 1] for label in batch_label]).to(device)\n",
        "\n",
        "        prediction['batch_input_ids'].extend(batch_input['input_ids'])\n",
        "        \n",
        "        # gradient 계산하지 않음\n",
        "        with torch.no_grad():\n",
        "            probs = model(**batch_input)\n",
        "        pred = torch.argmin(probs, dim=1).cpu()\n",
        "        \n",
        "        prediction['probs'].extend(probs)\n",
        "\n",
        "        # loss\n",
        "        loss = loss_fct(probs.to(torch.float32), labels.to(torch.float32))\n",
        "        total_loss += loss.item()\n",
        "        \n",
        "        # accuracy\n",
        "        acc = 0\n",
        "        for p, b in zip(pred, batch_label) :\n",
        "          if p == b :\n",
        "            acc += 1\n",
        "        \n",
        "        acc = acc / len(probs)\n",
        "        total_acc+=acc\n",
        "        \n",
        "\n",
        "        # f1-score\n",
        "        f1 = f1_score(pred, [b.cpu() for b in batch_label])\n",
        "        total_f1 += f1\n",
        "\n",
        "    total_loss = total_loss/(step+1)\n",
        "    total_acc = total_acc/(step+1)\n",
        "    total_f1 = total_f1/(step+1)\n",
        "    return prediction, total_loss, total_acc, total_f1"
      ],
      "metadata": {
        "id": "-LBs5lPfLBlr"
      },
      "execution_count": 25,
      "outputs": []
    },
    {
      "cell_type": "code",
      "source": [
        "valid_dataset = CustomDataset(dataset['validation'])\n",
        "validation_loader = make_dataloader(valid_dataset, 'klue/roberta-base', 32, 'valid')\n",
        "\n",
        "model = CustomSTS(model_name='klue/roberta-base')\n",
        "model.load_state_dict(checkpoint['model_state_dict'])\n",
        "model.eval()\n",
        "prediction, total_loss, total_acc, total_f1 = test(model, validation_loader)"
      ],
      "metadata": {
        "id": "K2m0GThmM7-S",
        "colab": {
          "base_uri": "https://localhost:8080/"
        },
        "outputId": "c0ca8a63-fc3e-4b0b-fe2b-5a4ee276981b"
      },
      "execution_count": 26,
      "outputs": [
        {
          "output_type": "stream",
          "name": "stdout",
          "text": [
            "batch_size : 32\n"
          ]
        },
        {
          "output_type": "stream",
          "name": "stderr",
          "text": [
            "Some weights of the model checkpoint at klue/roberta-base were not used when initializing RobertaModel: ['lm_head.layer_norm.weight', 'lm_head.dense.bias', 'lm_head.layer_norm.bias', 'lm_head.bias', 'lm_head.decoder.bias', 'lm_head.dense.weight', 'lm_head.decoder.weight']\n",
            "- This IS expected if you are initializing RobertaModel from the checkpoint of a model trained on another task or with another architecture (e.g. initializing a BertForSequenceClassification model from a BertForPreTraining model).\n",
            "- This IS NOT expected if you are initializing RobertaModel from the checkpoint of a model that you expect to be exactly identical (initializing a BertForSequenceClassification model from a BertForSequenceClassification model).\n",
            "Some weights of RobertaModel were not initialized from the model checkpoint at klue/roberta-base and are newly initialized: ['roberta.pooler.dense.weight', 'roberta.pooler.dense.bias']\n",
            "You should probably TRAIN this model on a down-stream task to be able to use it for predictions and inference.\n"
          ]
        }
      ]
    },
    {
      "cell_type": "code",
      "source": [
        "import pandas as pd\n",
        "df = pd.DataFrame({'sentence1' : [data['sentence1'] for data in dataset['validation']],\n",
        "                   'sentence2' : [data['sentence2'] for data in dataset['validation']],\n",
        "                   'binary_label' : [data['labels']['binary-label'] for data in dataset['validation']]\n",
        "                   })\n",
        "df.head()"
      ],
      "metadata": {
        "colab": {
          "base_uri": "https://localhost:8080/",
          "height": 206
        },
        "id": "EGKEL2n2m3Tt",
        "outputId": "ca2f0dc8-cdb2-4fa3-9bd6-eecff8bdb56f"
      },
      "execution_count": 50,
      "outputs": [
        {
          "output_type": "execute_result",
          "data": {
            "text/plain": [
              "                                           sentence1  \\\n",
              "0                           무엇보다도 호스트분들이 너무 친절하셨습니다.   \n",
              "1                             주요 관광지 모두 걸어서 이동가능합니다.   \n",
              "2  학생들의 균형 있는 영어능력을 향상시킬 수 있는 학교 수업을 유도하기 위해 2018...   \n",
              "3                          다만, 도로와 인접해서 거리의 소음이 들려요.   \n",
              "4                형이 다시 캐나다 들어가야 하니 가족모임 일정은 바꾸지 마세요.   \n",
              "\n",
              "                                           sentence2  binary_label  \n",
              "0                            무엇보다도, 호스트들은 매우 친절했습니다.             1  \n",
              "1                        위치는 피렌체 중심가까지 걸어서 이동 가능합니다.             0  \n",
              "2  영어 영역의 경우 학생들이 한글 해석본을 암기하는 문제를 해소하기 위해 2016학년...             0  \n",
              "3                 하지만, 길과 가깝기 때문에 거리의 소음을 들을 수 있습니다.             1  \n",
              "4                            가족 모임 일정은 바꾸지 말도록 하십시오.             0  "
            ],
            "text/html": [
              "\n",
              "  <div id=\"df-0be79947-40c4-4b1c-b53b-a568179a0771\">\n",
              "    <div class=\"colab-df-container\">\n",
              "      <div>\n",
              "<style scoped>\n",
              "    .dataframe tbody tr th:only-of-type {\n",
              "        vertical-align: middle;\n",
              "    }\n",
              "\n",
              "    .dataframe tbody tr th {\n",
              "        vertical-align: top;\n",
              "    }\n",
              "\n",
              "    .dataframe thead th {\n",
              "        text-align: right;\n",
              "    }\n",
              "</style>\n",
              "<table border=\"1\" class=\"dataframe\">\n",
              "  <thead>\n",
              "    <tr style=\"text-align: right;\">\n",
              "      <th></th>\n",
              "      <th>sentence1</th>\n",
              "      <th>sentence2</th>\n",
              "      <th>binary_label</th>\n",
              "    </tr>\n",
              "  </thead>\n",
              "  <tbody>\n",
              "    <tr>\n",
              "      <th>0</th>\n",
              "      <td>무엇보다도 호스트분들이 너무 친절하셨습니다.</td>\n",
              "      <td>무엇보다도, 호스트들은 매우 친절했습니다.</td>\n",
              "      <td>1</td>\n",
              "    </tr>\n",
              "    <tr>\n",
              "      <th>1</th>\n",
              "      <td>주요 관광지 모두 걸어서 이동가능합니다.</td>\n",
              "      <td>위치는 피렌체 중심가까지 걸어서 이동 가능합니다.</td>\n",
              "      <td>0</td>\n",
              "    </tr>\n",
              "    <tr>\n",
              "      <th>2</th>\n",
              "      <td>학생들의 균형 있는 영어능력을 향상시킬 수 있는 학교 수업을 유도하기 위해 2018...</td>\n",
              "      <td>영어 영역의 경우 학생들이 한글 해석본을 암기하는 문제를 해소하기 위해 2016학년...</td>\n",
              "      <td>0</td>\n",
              "    </tr>\n",
              "    <tr>\n",
              "      <th>3</th>\n",
              "      <td>다만, 도로와 인접해서 거리의 소음이 들려요.</td>\n",
              "      <td>하지만, 길과 가깝기 때문에 거리의 소음을 들을 수 있습니다.</td>\n",
              "      <td>1</td>\n",
              "    </tr>\n",
              "    <tr>\n",
              "      <th>4</th>\n",
              "      <td>형이 다시 캐나다 들어가야 하니 가족모임 일정은 바꾸지 마세요.</td>\n",
              "      <td>가족 모임 일정은 바꾸지 말도록 하십시오.</td>\n",
              "      <td>0</td>\n",
              "    </tr>\n",
              "  </tbody>\n",
              "</table>\n",
              "</div>\n",
              "      <button class=\"colab-df-convert\" onclick=\"convertToInteractive('df-0be79947-40c4-4b1c-b53b-a568179a0771')\"\n",
              "              title=\"Convert this dataframe to an interactive table.\"\n",
              "              style=\"display:none;\">\n",
              "        \n",
              "  <svg xmlns=\"http://www.w3.org/2000/svg\" height=\"24px\"viewBox=\"0 0 24 24\"\n",
              "       width=\"24px\">\n",
              "    <path d=\"M0 0h24v24H0V0z\" fill=\"none\"/>\n",
              "    <path d=\"M18.56 5.44l.94 2.06.94-2.06 2.06-.94-2.06-.94-.94-2.06-.94 2.06-2.06.94zm-11 1L8.5 8.5l.94-2.06 2.06-.94-2.06-.94L8.5 2.5l-.94 2.06-2.06.94zm10 10l.94 2.06.94-2.06 2.06-.94-2.06-.94-.94-2.06-.94 2.06-2.06.94z\"/><path d=\"M17.41 7.96l-1.37-1.37c-.4-.4-.92-.59-1.43-.59-.52 0-1.04.2-1.43.59L10.3 9.45l-7.72 7.72c-.78.78-.78 2.05 0 2.83L4 21.41c.39.39.9.59 1.41.59.51 0 1.02-.2 1.41-.59l7.78-7.78 2.81-2.81c.8-.78.8-2.07 0-2.86zM5.41 20L4 18.59l7.72-7.72 1.47 1.35L5.41 20z\"/>\n",
              "  </svg>\n",
              "      </button>\n",
              "      \n",
              "  <style>\n",
              "    .colab-df-container {\n",
              "      display:flex;\n",
              "      flex-wrap:wrap;\n",
              "      gap: 12px;\n",
              "    }\n",
              "\n",
              "    .colab-df-convert {\n",
              "      background-color: #E8F0FE;\n",
              "      border: none;\n",
              "      border-radius: 50%;\n",
              "      cursor: pointer;\n",
              "      display: none;\n",
              "      fill: #1967D2;\n",
              "      height: 32px;\n",
              "      padding: 0 0 0 0;\n",
              "      width: 32px;\n",
              "    }\n",
              "\n",
              "    .colab-df-convert:hover {\n",
              "      background-color: #E2EBFA;\n",
              "      box-shadow: 0px 1px 2px rgba(60, 64, 67, 0.3), 0px 1px 3px 1px rgba(60, 64, 67, 0.15);\n",
              "      fill: #174EA6;\n",
              "    }\n",
              "\n",
              "    [theme=dark] .colab-df-convert {\n",
              "      background-color: #3B4455;\n",
              "      fill: #D2E3FC;\n",
              "    }\n",
              "\n",
              "    [theme=dark] .colab-df-convert:hover {\n",
              "      background-color: #434B5C;\n",
              "      box-shadow: 0px 1px 3px 1px rgba(0, 0, 0, 0.15);\n",
              "      filter: drop-shadow(0px 1px 2px rgba(0, 0, 0, 0.3));\n",
              "      fill: #FFFFFF;\n",
              "    }\n",
              "  </style>\n",
              "\n",
              "      <script>\n",
              "        const buttonEl =\n",
              "          document.querySelector('#df-0be79947-40c4-4b1c-b53b-a568179a0771 button.colab-df-convert');\n",
              "        buttonEl.style.display =\n",
              "          google.colab.kernel.accessAllowed ? 'block' : 'none';\n",
              "\n",
              "        async function convertToInteractive(key) {\n",
              "          const element = document.querySelector('#df-0be79947-40c4-4b1c-b53b-a568179a0771');\n",
              "          const dataTable =\n",
              "            await google.colab.kernel.invokeFunction('convertToInteractive',\n",
              "                                                     [key], {});\n",
              "          if (!dataTable) return;\n",
              "\n",
              "          const docLinkHtml = 'Like what you see? Visit the ' +\n",
              "            '<a target=\"_blank\" href=https://colab.research.google.com/notebooks/data_table.ipynb>data table notebook</a>'\n",
              "            + ' to learn more about interactive tables.';\n",
              "          element.innerHTML = '';\n",
              "          dataTable['output_type'] = 'display_data';\n",
              "          await google.colab.output.renderOutput(dataTable, element);\n",
              "          const docLink = document.createElement('div');\n",
              "          docLink.innerHTML = docLinkHtml;\n",
              "          element.appendChild(docLink);\n",
              "        }\n",
              "      </script>\n",
              "    </div>\n",
              "  </div>\n",
              "  "
            ]
          },
          "metadata": {},
          "execution_count": 50
        }
      ]
    },
    {
      "cell_type": "code",
      "source": [
        "# prediction['probs'] = [p.item() for p in prediction['probs']]\n",
        "df['pred'] = [torch.argmin(p).item() for p in prediction['probs']]\n",
        "df['prob'] = [p.cpu().numpy() for p in prediction['probs']]\n",
        "df.head()"
      ],
      "metadata": {
        "id": "SgMmyXL0rDt7",
        "colab": {
          "base_uri": "https://localhost:8080/",
          "height": 206
        },
        "outputId": "eadb4817-2ed1-462e-9a80-e4cc6f2d1742"
      },
      "execution_count": 51,
      "outputs": [
        {
          "output_type": "execute_result",
          "data": {
            "text/plain": [
              "                                           sentence1  \\\n",
              "0                           무엇보다도 호스트분들이 너무 친절하셨습니다.   \n",
              "1                             주요 관광지 모두 걸어서 이동가능합니다.   \n",
              "2  학생들의 균형 있는 영어능력을 향상시킬 수 있는 학교 수업을 유도하기 위해 2018...   \n",
              "3                          다만, 도로와 인접해서 거리의 소음이 들려요.   \n",
              "4                형이 다시 캐나다 들어가야 하니 가족모임 일정은 바꾸지 마세요.   \n",
              "\n",
              "                                           sentence2  binary_label  pred  \\\n",
              "0                            무엇보다도, 호스트들은 매우 친절했습니다.             1     1   \n",
              "1                        위치는 피렌체 중심가까지 걸어서 이동 가능합니다.             0     0   \n",
              "2  영어 영역의 경우 학생들이 한글 해석본을 암기하는 문제를 해소하기 위해 2016학년...             0     0   \n",
              "3                 하지만, 길과 가깝기 때문에 거리의 소음을 들을 수 있습니다.             1     1   \n",
              "4                            가족 모임 일정은 바꾸지 말도록 하십시오.             0     0   \n",
              "\n",
              "                        prob  \n",
              "0   [0.9838352, 0.016164767]  \n",
              "1   [0.025290715, 0.9747093]  \n",
              "2  [0.022371277, 0.97762877]  \n",
              "3  [0.98333204, 0.016667979]  \n",
              "4  [0.035525218, 0.96447474]  "
            ],
            "text/html": [
              "\n",
              "  <div id=\"df-b4dcbe65-6aa4-457f-8ac6-1a93a8bb3f8c\">\n",
              "    <div class=\"colab-df-container\">\n",
              "      <div>\n",
              "<style scoped>\n",
              "    .dataframe tbody tr th:only-of-type {\n",
              "        vertical-align: middle;\n",
              "    }\n",
              "\n",
              "    .dataframe tbody tr th {\n",
              "        vertical-align: top;\n",
              "    }\n",
              "\n",
              "    .dataframe thead th {\n",
              "        text-align: right;\n",
              "    }\n",
              "</style>\n",
              "<table border=\"1\" class=\"dataframe\">\n",
              "  <thead>\n",
              "    <tr style=\"text-align: right;\">\n",
              "      <th></th>\n",
              "      <th>sentence1</th>\n",
              "      <th>sentence2</th>\n",
              "      <th>binary_label</th>\n",
              "      <th>pred</th>\n",
              "      <th>prob</th>\n",
              "    </tr>\n",
              "  </thead>\n",
              "  <tbody>\n",
              "    <tr>\n",
              "      <th>0</th>\n",
              "      <td>무엇보다도 호스트분들이 너무 친절하셨습니다.</td>\n",
              "      <td>무엇보다도, 호스트들은 매우 친절했습니다.</td>\n",
              "      <td>1</td>\n",
              "      <td>1</td>\n",
              "      <td>[0.9838352, 0.016164767]</td>\n",
              "    </tr>\n",
              "    <tr>\n",
              "      <th>1</th>\n",
              "      <td>주요 관광지 모두 걸어서 이동가능합니다.</td>\n",
              "      <td>위치는 피렌체 중심가까지 걸어서 이동 가능합니다.</td>\n",
              "      <td>0</td>\n",
              "      <td>0</td>\n",
              "      <td>[0.025290715, 0.9747093]</td>\n",
              "    </tr>\n",
              "    <tr>\n",
              "      <th>2</th>\n",
              "      <td>학생들의 균형 있는 영어능력을 향상시킬 수 있는 학교 수업을 유도하기 위해 2018...</td>\n",
              "      <td>영어 영역의 경우 학생들이 한글 해석본을 암기하는 문제를 해소하기 위해 2016학년...</td>\n",
              "      <td>0</td>\n",
              "      <td>0</td>\n",
              "      <td>[0.022371277, 0.97762877]</td>\n",
              "    </tr>\n",
              "    <tr>\n",
              "      <th>3</th>\n",
              "      <td>다만, 도로와 인접해서 거리의 소음이 들려요.</td>\n",
              "      <td>하지만, 길과 가깝기 때문에 거리의 소음을 들을 수 있습니다.</td>\n",
              "      <td>1</td>\n",
              "      <td>1</td>\n",
              "      <td>[0.98333204, 0.016667979]</td>\n",
              "    </tr>\n",
              "    <tr>\n",
              "      <th>4</th>\n",
              "      <td>형이 다시 캐나다 들어가야 하니 가족모임 일정은 바꾸지 마세요.</td>\n",
              "      <td>가족 모임 일정은 바꾸지 말도록 하십시오.</td>\n",
              "      <td>0</td>\n",
              "      <td>0</td>\n",
              "      <td>[0.035525218, 0.96447474]</td>\n",
              "    </tr>\n",
              "  </tbody>\n",
              "</table>\n",
              "</div>\n",
              "      <button class=\"colab-df-convert\" onclick=\"convertToInteractive('df-b4dcbe65-6aa4-457f-8ac6-1a93a8bb3f8c')\"\n",
              "              title=\"Convert this dataframe to an interactive table.\"\n",
              "              style=\"display:none;\">\n",
              "        \n",
              "  <svg xmlns=\"http://www.w3.org/2000/svg\" height=\"24px\"viewBox=\"0 0 24 24\"\n",
              "       width=\"24px\">\n",
              "    <path d=\"M0 0h24v24H0V0z\" fill=\"none\"/>\n",
              "    <path d=\"M18.56 5.44l.94 2.06.94-2.06 2.06-.94-2.06-.94-.94-2.06-.94 2.06-2.06.94zm-11 1L8.5 8.5l.94-2.06 2.06-.94-2.06-.94L8.5 2.5l-.94 2.06-2.06.94zm10 10l.94 2.06.94-2.06 2.06-.94-2.06-.94-.94-2.06-.94 2.06-2.06.94z\"/><path d=\"M17.41 7.96l-1.37-1.37c-.4-.4-.92-.59-1.43-.59-.52 0-1.04.2-1.43.59L10.3 9.45l-7.72 7.72c-.78.78-.78 2.05 0 2.83L4 21.41c.39.39.9.59 1.41.59.51 0 1.02-.2 1.41-.59l7.78-7.78 2.81-2.81c.8-.78.8-2.07 0-2.86zM5.41 20L4 18.59l7.72-7.72 1.47 1.35L5.41 20z\"/>\n",
              "  </svg>\n",
              "      </button>\n",
              "      \n",
              "  <style>\n",
              "    .colab-df-container {\n",
              "      display:flex;\n",
              "      flex-wrap:wrap;\n",
              "      gap: 12px;\n",
              "    }\n",
              "\n",
              "    .colab-df-convert {\n",
              "      background-color: #E8F0FE;\n",
              "      border: none;\n",
              "      border-radius: 50%;\n",
              "      cursor: pointer;\n",
              "      display: none;\n",
              "      fill: #1967D2;\n",
              "      height: 32px;\n",
              "      padding: 0 0 0 0;\n",
              "      width: 32px;\n",
              "    }\n",
              "\n",
              "    .colab-df-convert:hover {\n",
              "      background-color: #E2EBFA;\n",
              "      box-shadow: 0px 1px 2px rgba(60, 64, 67, 0.3), 0px 1px 3px 1px rgba(60, 64, 67, 0.15);\n",
              "      fill: #174EA6;\n",
              "    }\n",
              "\n",
              "    [theme=dark] .colab-df-convert {\n",
              "      background-color: #3B4455;\n",
              "      fill: #D2E3FC;\n",
              "    }\n",
              "\n",
              "    [theme=dark] .colab-df-convert:hover {\n",
              "      background-color: #434B5C;\n",
              "      box-shadow: 0px 1px 3px 1px rgba(0, 0, 0, 0.15);\n",
              "      filter: drop-shadow(0px 1px 2px rgba(0, 0, 0, 0.3));\n",
              "      fill: #FFFFFF;\n",
              "    }\n",
              "  </style>\n",
              "\n",
              "      <script>\n",
              "        const buttonEl =\n",
              "          document.querySelector('#df-b4dcbe65-6aa4-457f-8ac6-1a93a8bb3f8c button.colab-df-convert');\n",
              "        buttonEl.style.display =\n",
              "          google.colab.kernel.accessAllowed ? 'block' : 'none';\n",
              "\n",
              "        async function convertToInteractive(key) {\n",
              "          const element = document.querySelector('#df-b4dcbe65-6aa4-457f-8ac6-1a93a8bb3f8c');\n",
              "          const dataTable =\n",
              "            await google.colab.kernel.invokeFunction('convertToInteractive',\n",
              "                                                     [key], {});\n",
              "          if (!dataTable) return;\n",
              "\n",
              "          const docLinkHtml = 'Like what you see? Visit the ' +\n",
              "            '<a target=\"_blank\" href=https://colab.research.google.com/notebooks/data_table.ipynb>data table notebook</a>'\n",
              "            + ' to learn more about interactive tables.';\n",
              "          element.innerHTML = '';\n",
              "          dataTable['output_type'] = 'display_data';\n",
              "          await google.colab.output.renderOutput(dataTable, element);\n",
              "          const docLink = document.createElement('div');\n",
              "          docLink.innerHTML = docLinkHtml;\n",
              "          element.appendChild(docLink);\n",
              "        }\n",
              "      </script>\n",
              "    </div>\n",
              "  </div>\n",
              "  "
            ]
          },
          "metadata": {},
          "execution_count": 51
        }
      ]
    },
    {
      "cell_type": "code",
      "source": [
        "df[df['pred'] != df['binary_label']]"
      ],
      "metadata": {
        "id": "dfK9rsrjRWmV",
        "colab": {
          "base_uri": "https://localhost:8080/",
          "height": 424
        },
        "outputId": "bd803e27-9d24-4682-d9af-3b33ad70d18e"
      },
      "execution_count": 54,
      "outputs": [
        {
          "output_type": "execute_result",
          "data": {
            "text/plain": [
              "                                             sentence1  \\\n",
              "10                                     라디오 듣는 건 금지되어있어   \n",
              "21                         와이키키 중심지로 이동이 편리한 위치에 있습니다.   \n",
              "25                        집안에서 효율적으로 환기하고 싶을 때 뭐가 필요해?   \n",
              "26   기본적인 어매니티 외에 커피머신 제빙기  토스터와 전자레인지등은  2층 로비 플로어...   \n",
              "27                신발 신고다니는 숙소라 불편하신 분들은 슬리퍼챙겨오시는게 좋을듯여   \n",
              "..                                                 ...   \n",
              "494                        들어올때 말고 나갈때 방범모드 확인하는 건 어때?   \n",
              "505                          한메일 계정을 더 만드는건 유료니 그만 만들어   \n",
              "507                  특히 직불금 도입 과정에서 중소규모 농가를 더 배려했습니다.   \n",
              "514    문체부는 이를 연차적으로 확대, 시행해 학교운동부와 스포츠클럽 간의 연계를 강화한다.   \n",
              "518                      여느 포르투갈의 비앤비와 같이 엘리베이터는 없습니다.   \n",
              "\n",
              "                                             sentence2  binary_label  pred  \\\n",
              "10                                       라디오 듣는건 삼가주세요             0     1   \n",
              "21                             와이키키 센터에 편리하게 위치해 있습니다.             0     1   \n",
              "25                      발코니말고 집안에서 효율적으로 환기할 때 필요한 것은?             0     1   \n",
              "26        커피머신용 토스터와 전자레인지도 2층 로비 층에서 무료로 이용하실 수 있습니다.             0     1   \n",
              "27                          슬리퍼 등 실내화를 챙기시는게 좋을 것 같아요.             1     0   \n",
              "..                                                 ...           ...   ...   \n",
              "494                                외출 시 방범 모드는 어떻게 바꿔?             0     1   \n",
              "505                        한메일 계정은 그만 만들고 네이버 계정으로 만들어             0     1   \n",
              "507          특히, 중소 농부들은 직불금을 도입하는 과정에서 더 많은 배려를 했습니다.             0     1   \n",
              "514  문화체육관광부는 학교스포츠학과와 스포츠클럽의 연계성을 강화하기 위해 매년 이 프로그...             0     1   \n",
              "518                     포르투의 거의 모든 숙박 시설은 엘리베이터는 없습니다.             0     1   \n",
              "\n",
              "                          prob  \n",
              "10   [0.98154056, 0.018459415]  \n",
              "21   [0.97817594, 0.021824026]  \n",
              "25      [0.6507532, 0.3492468]  \n",
              "26    [0.90808976, 0.09191025]  \n",
              "27    [0.041293427, 0.9587066]  \n",
              "..                         ...  \n",
              "494     [0.964011, 0.03598903]  \n",
              "505     [0.6371587, 0.3628413]  \n",
              "507  [0.98425484, 0.015745124]  \n",
              "514   [0.98391736, 0.01608258]  \n",
              "518    [0.73457646, 0.2654236]  \n",
              "\n",
              "[77 rows x 5 columns]"
            ],
            "text/html": [
              "\n",
              "  <div id=\"df-2b962404-3d7f-4cc6-8bb1-2e618e28b1b0\">\n",
              "    <div class=\"colab-df-container\">\n",
              "      <div>\n",
              "<style scoped>\n",
              "    .dataframe tbody tr th:only-of-type {\n",
              "        vertical-align: middle;\n",
              "    }\n",
              "\n",
              "    .dataframe tbody tr th {\n",
              "        vertical-align: top;\n",
              "    }\n",
              "\n",
              "    .dataframe thead th {\n",
              "        text-align: right;\n",
              "    }\n",
              "</style>\n",
              "<table border=\"1\" class=\"dataframe\">\n",
              "  <thead>\n",
              "    <tr style=\"text-align: right;\">\n",
              "      <th></th>\n",
              "      <th>sentence1</th>\n",
              "      <th>sentence2</th>\n",
              "      <th>binary_label</th>\n",
              "      <th>pred</th>\n",
              "      <th>prob</th>\n",
              "    </tr>\n",
              "  </thead>\n",
              "  <tbody>\n",
              "    <tr>\n",
              "      <th>10</th>\n",
              "      <td>라디오 듣는 건 금지되어있어</td>\n",
              "      <td>라디오 듣는건 삼가주세요</td>\n",
              "      <td>0</td>\n",
              "      <td>1</td>\n",
              "      <td>[0.98154056, 0.018459415]</td>\n",
              "    </tr>\n",
              "    <tr>\n",
              "      <th>21</th>\n",
              "      <td>와이키키 중심지로 이동이 편리한 위치에 있습니다.</td>\n",
              "      <td>와이키키 센터에 편리하게 위치해 있습니다.</td>\n",
              "      <td>0</td>\n",
              "      <td>1</td>\n",
              "      <td>[0.97817594, 0.021824026]</td>\n",
              "    </tr>\n",
              "    <tr>\n",
              "      <th>25</th>\n",
              "      <td>집안에서 효율적으로 환기하고 싶을 때 뭐가 필요해?</td>\n",
              "      <td>발코니말고 집안에서 효율적으로 환기할 때 필요한 것은?</td>\n",
              "      <td>0</td>\n",
              "      <td>1</td>\n",
              "      <td>[0.6507532, 0.3492468]</td>\n",
              "    </tr>\n",
              "    <tr>\n",
              "      <th>26</th>\n",
              "      <td>기본적인 어매니티 외에 커피머신 제빙기  토스터와 전자레인지등은  2층 로비 플로어...</td>\n",
              "      <td>커피머신용 토스터와 전자레인지도 2층 로비 층에서 무료로 이용하실 수 있습니다.</td>\n",
              "      <td>0</td>\n",
              "      <td>1</td>\n",
              "      <td>[0.90808976, 0.09191025]</td>\n",
              "    </tr>\n",
              "    <tr>\n",
              "      <th>27</th>\n",
              "      <td>신발 신고다니는 숙소라 불편하신 분들은 슬리퍼챙겨오시는게 좋을듯여</td>\n",
              "      <td>슬리퍼 등 실내화를 챙기시는게 좋을 것 같아요.</td>\n",
              "      <td>1</td>\n",
              "      <td>0</td>\n",
              "      <td>[0.041293427, 0.9587066]</td>\n",
              "    </tr>\n",
              "    <tr>\n",
              "      <th>...</th>\n",
              "      <td>...</td>\n",
              "      <td>...</td>\n",
              "      <td>...</td>\n",
              "      <td>...</td>\n",
              "      <td>...</td>\n",
              "    </tr>\n",
              "    <tr>\n",
              "      <th>494</th>\n",
              "      <td>들어올때 말고 나갈때 방범모드 확인하는 건 어때?</td>\n",
              "      <td>외출 시 방범 모드는 어떻게 바꿔?</td>\n",
              "      <td>0</td>\n",
              "      <td>1</td>\n",
              "      <td>[0.964011, 0.03598903]</td>\n",
              "    </tr>\n",
              "    <tr>\n",
              "      <th>505</th>\n",
              "      <td>한메일 계정을 더 만드는건 유료니 그만 만들어</td>\n",
              "      <td>한메일 계정은 그만 만들고 네이버 계정으로 만들어</td>\n",
              "      <td>0</td>\n",
              "      <td>1</td>\n",
              "      <td>[0.6371587, 0.3628413]</td>\n",
              "    </tr>\n",
              "    <tr>\n",
              "      <th>507</th>\n",
              "      <td>특히 직불금 도입 과정에서 중소규모 농가를 더 배려했습니다.</td>\n",
              "      <td>특히, 중소 농부들은 직불금을 도입하는 과정에서 더 많은 배려를 했습니다.</td>\n",
              "      <td>0</td>\n",
              "      <td>1</td>\n",
              "      <td>[0.98425484, 0.015745124]</td>\n",
              "    </tr>\n",
              "    <tr>\n",
              "      <th>514</th>\n",
              "      <td>문체부는 이를 연차적으로 확대, 시행해 학교운동부와 스포츠클럽 간의 연계를 강화한다.</td>\n",
              "      <td>문화체육관광부는 학교스포츠학과와 스포츠클럽의 연계성을 강화하기 위해 매년 이 프로그...</td>\n",
              "      <td>0</td>\n",
              "      <td>1</td>\n",
              "      <td>[0.98391736, 0.01608258]</td>\n",
              "    </tr>\n",
              "    <tr>\n",
              "      <th>518</th>\n",
              "      <td>여느 포르투갈의 비앤비와 같이 엘리베이터는 없습니다.</td>\n",
              "      <td>포르투의 거의 모든 숙박 시설은 엘리베이터는 없습니다.</td>\n",
              "      <td>0</td>\n",
              "      <td>1</td>\n",
              "      <td>[0.73457646, 0.2654236]</td>\n",
              "    </tr>\n",
              "  </tbody>\n",
              "</table>\n",
              "<p>77 rows × 5 columns</p>\n",
              "</div>\n",
              "      <button class=\"colab-df-convert\" onclick=\"convertToInteractive('df-2b962404-3d7f-4cc6-8bb1-2e618e28b1b0')\"\n",
              "              title=\"Convert this dataframe to an interactive table.\"\n",
              "              style=\"display:none;\">\n",
              "        \n",
              "  <svg xmlns=\"http://www.w3.org/2000/svg\" height=\"24px\"viewBox=\"0 0 24 24\"\n",
              "       width=\"24px\">\n",
              "    <path d=\"M0 0h24v24H0V0z\" fill=\"none\"/>\n",
              "    <path d=\"M18.56 5.44l.94 2.06.94-2.06 2.06-.94-2.06-.94-.94-2.06-.94 2.06-2.06.94zm-11 1L8.5 8.5l.94-2.06 2.06-.94-2.06-.94L8.5 2.5l-.94 2.06-2.06.94zm10 10l.94 2.06.94-2.06 2.06-.94-2.06-.94-.94-2.06-.94 2.06-2.06.94z\"/><path d=\"M17.41 7.96l-1.37-1.37c-.4-.4-.92-.59-1.43-.59-.52 0-1.04.2-1.43.59L10.3 9.45l-7.72 7.72c-.78.78-.78 2.05 0 2.83L4 21.41c.39.39.9.59 1.41.59.51 0 1.02-.2 1.41-.59l7.78-7.78 2.81-2.81c.8-.78.8-2.07 0-2.86zM5.41 20L4 18.59l7.72-7.72 1.47 1.35L5.41 20z\"/>\n",
              "  </svg>\n",
              "      </button>\n",
              "      \n",
              "  <style>\n",
              "    .colab-df-container {\n",
              "      display:flex;\n",
              "      flex-wrap:wrap;\n",
              "      gap: 12px;\n",
              "    }\n",
              "\n",
              "    .colab-df-convert {\n",
              "      background-color: #E8F0FE;\n",
              "      border: none;\n",
              "      border-radius: 50%;\n",
              "      cursor: pointer;\n",
              "      display: none;\n",
              "      fill: #1967D2;\n",
              "      height: 32px;\n",
              "      padding: 0 0 0 0;\n",
              "      width: 32px;\n",
              "    }\n",
              "\n",
              "    .colab-df-convert:hover {\n",
              "      background-color: #E2EBFA;\n",
              "      box-shadow: 0px 1px 2px rgba(60, 64, 67, 0.3), 0px 1px 3px 1px rgba(60, 64, 67, 0.15);\n",
              "      fill: #174EA6;\n",
              "    }\n",
              "\n",
              "    [theme=dark] .colab-df-convert {\n",
              "      background-color: #3B4455;\n",
              "      fill: #D2E3FC;\n",
              "    }\n",
              "\n",
              "    [theme=dark] .colab-df-convert:hover {\n",
              "      background-color: #434B5C;\n",
              "      box-shadow: 0px 1px 3px 1px rgba(0, 0, 0, 0.15);\n",
              "      filter: drop-shadow(0px 1px 2px rgba(0, 0, 0, 0.3));\n",
              "      fill: #FFFFFF;\n",
              "    }\n",
              "  </style>\n",
              "\n",
              "      <script>\n",
              "        const buttonEl =\n",
              "          document.querySelector('#df-2b962404-3d7f-4cc6-8bb1-2e618e28b1b0 button.colab-df-convert');\n",
              "        buttonEl.style.display =\n",
              "          google.colab.kernel.accessAllowed ? 'block' : 'none';\n",
              "\n",
              "        async function convertToInteractive(key) {\n",
              "          const element = document.querySelector('#df-2b962404-3d7f-4cc6-8bb1-2e618e28b1b0');\n",
              "          const dataTable =\n",
              "            await google.colab.kernel.invokeFunction('convertToInteractive',\n",
              "                                                     [key], {});\n",
              "          if (!dataTable) return;\n",
              "\n",
              "          const docLinkHtml = 'Like what you see? Visit the ' +\n",
              "            '<a target=\"_blank\" href=https://colab.research.google.com/notebooks/data_table.ipynb>data table notebook</a>'\n",
              "            + ' to learn more about interactive tables.';\n",
              "          element.innerHTML = '';\n",
              "          dataTable['output_type'] = 'display_data';\n",
              "          await google.colab.output.renderOutput(dataTable, element);\n",
              "          const docLink = document.createElement('div');\n",
              "          docLink.innerHTML = docLinkHtml;\n",
              "          element.appendChild(docLink);\n",
              "        }\n",
              "      </script>\n",
              "    </div>\n",
              "  </div>\n",
              "  "
            ]
          },
          "metadata": {},
          "execution_count": 54
        }
      ]
    },
    {
      "cell_type": "code",
      "source": [
        "from sklearn.metrics import accuracy_score, recall_score, precision_score, f1_score\n",
        "from scipy.stats import pearsonr\n",
        "print(f'정확도 : {accuracy_score(df.binary_label, df.pred):.4f}')\n",
        "print(f'recall : {recall_score(df.binary_label, df.pred):.4f}')\n",
        "print(f'precision : {precision_score(df.binary_label, df.pred):.4f}')\n",
        "print(f'f1_score : {f1_score(df.binary_label, df.pred):.4f}')"
      ],
      "metadata": {
        "id": "qMNG-xENPpey",
        "outputId": "12495807-81e0-41d4-8216-bd9d7dad6d57",
        "colab": {
          "base_uri": "https://localhost:8080/"
        }
      },
      "execution_count": 55,
      "outputs": [
        {
          "output_type": "stream",
          "name": "stdout",
          "text": [
            "정확도 : 0.8516\n",
            "recall : 0.9636\n",
            "precision : 0.7544\n",
            "f1_score : 0.8463\n"
          ]
        }
      ]
    },
    {
      "cell_type": "code",
      "source": [
        "df.to_csv('klue-dataset-validation-prediction_roberta.csv')"
      ],
      "metadata": {
        "id": "5MlDLIOvmbH1"
      },
      "execution_count": 56,
      "outputs": []
    },
    {
      "cell_type": "code",
      "source": [
        ""
      ],
      "metadata": {
        "id": "_eVdd5fwELx_"
      },
      "execution_count": null,
      "outputs": []
    }
  ]
}