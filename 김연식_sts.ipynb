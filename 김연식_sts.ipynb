{
  "nbformat": 4,
  "nbformat_minor": 0,
  "metadata": {
    "colab": {
      "name": "김연식_sts.ipynb",
      "private_outputs": true,
      "provenance": [],
      "collapsed_sections": [],
      "authorship_tag": "ABX9TyPCnDYv/v4Qh/5Kt2ZY2An4",
      "include_colab_link": true
    },
    "kernelspec": {
      "name": "python3",
      "display_name": "Python 3"
    },
    "language_info": {
      "name": "python"
    },
    "accelerator": "GPU"
  },
  "cells": [
    {
      "cell_type": "markdown",
      "metadata": {
        "id": "view-in-github",
        "colab_type": "text"
      },
      "source": [
        "<a href=\"https://colab.research.google.com/github/ttogle918/NLU_3-/blob/main/%EA%B9%80%EC%97%B0%EC%8B%9D_sts.ipynb\" target=\"_parent\"><img src=\"https://colab.research.google.com/assets/colab-badge.svg\" alt=\"Open In Colab\"/></a>"
      ]
    },
    {
      "cell_type": "markdown",
      "source": [
        "# **NLU - 문장 유사도 계산 (STS)**\n",
        "\n",
        "* 과제 목표\n",
        "  + 두 개의 한국어 문장을 입력받아 두 문장의 의미적 유사도를 출력\n",
        "  + regression task (0 ≤ target ≤ 5)\n",
        "\n",
        "* 학습 데이터 셋 (다운로드 가능 & 제공 예정)\n",
        "  + KLUE-STS\n",
        "    - AIRBNB (리뷰)\n",
        "    - policy (뉴스)\n",
        "    - paraKQC (스마트홈 쿼리)\n",
        "\n",
        "* 과제 결과물\n",
        "  + 학습된 모델 (모델 자유 선택) (train set만 사용해 학습)\n",
        "  + 학습 방식 보고서\n",
        "    - 어떤 모델을 선택했나\n",
        "    - 어떻게 파라미터를 튜닝했나\n",
        "    - 어떤 훈련 과정을 거쳤는가\n",
        "  + dev set score (F1)\n",
        "  + 문장 유사도를 출력하는 API (프레임워크 자유 선택)\n"
      ],
      "metadata": {
        "id": "czT0METo0WTi"
      }
    },
    {
      "cell_type": "code",
      "source": [
        ""
      ],
      "metadata": {
        "id": "vKoJuZG0slCA"
      },
      "execution_count": null,
      "outputs": []
    },
    {
      "cell_type": "code",
      "source": [
        ""
      ],
      "metadata": {
        "id": "cThblfeEeEXA"
      },
      "execution_count": null,
      "outputs": []
    },
    {
      "cell_type": "code",
      "source": [
        "!pip install pytorch-transformers\n",
        "!pip install transformers\n",
        "!pip install datasets\n",
        "!pip install sentence-transformers datasets"
      ],
      "metadata": {
        "id": "WJQ81bvUGHSS"
      },
      "execution_count": null,
      "outputs": []
    },
    {
      "cell_type": "code",
      "execution_count": null,
      "metadata": {
        "id": "ICtNa6Snzlc2"
      },
      "outputs": [],
      "source": [
        "import os\n",
        "import sys\n",
        "import pandas as pd\n",
        "import numpy as np \n",
        "import math\n",
        "import torch\n",
        "import logging\n",
        "\n",
        "\n",
        "from torch.utils.data import DataLoader\n",
        "from datetime import datetime\n",
        "from sentence_transformers import SentenceTransformer,  LoggingHandler, losses, models, util\n",
        "from sentence_transformers.evaluation import EmbeddingSimilarityEvaluator\n",
        "from sentence_transformers.readers import InputExample\n",
        "from datasets import load_dataset"
      ]
    },
    {
      "cell_type": "code",
      "source": [
        "# seed\n",
        "seed = 42\n",
        "torch.manual_seed(seed)\n",
        "torch.cuda.manual_seed_all(seed)\n",
        "\n",
        "# device type\n",
        "if torch.cuda.is_available():\n",
        "    device = torch.device(\"cuda\")\n",
        "    print(f\"# available GPUs : {torch.cuda.device_count()}\")\n",
        "    print(f\"GPU name : {torch.cuda.get_device_name()}\")\n",
        "else:\n",
        "    device = torch.device(\"cpu\")\n",
        "print(device)"
      ],
      "metadata": {
        "id": "x1xRMF-a8D3s"
      },
      "execution_count": null,
      "outputs": []
    },
    {
      "cell_type": "code",
      "source": [
        "logging.basicConfig(\n",
        "    format=\"%(asctime)s - %(message)s\",\n",
        "    datefmt=\"%Y-%m-%d %H:%M:%S\",\n",
        "    level=logging.INFO,\n",
        "    handlers=[LoggingHandler()],\n",
        ")"
      ],
      "metadata": {
        "id": "HPcNLKiAiBgk"
      },
      "execution_count": null,
      "outputs": []
    },
    {
      "cell_type": "code",
      "source": [
        "model_name = \"klue/roberta-large\""
      ],
      "metadata": {
        "id": "o76CkkRLiZfj"
      },
      "execution_count": null,
      "outputs": []
    },
    {
      "cell_type": "code",
      "source": [
        "train_batch_size = 32\n",
        "num_epochs = 4\n",
        "model_save_path = \"output/training_klue_sts_\" + model_name.replace(\"/\", \"-\") + \"-\" + datetime.now().strftime(\"%Y-%m-%d_%H-%M-%S\")"
      ],
      "metadata": {
        "id": "LNBOXC9Bifpb"
      },
      "execution_count": null,
      "outputs": []
    },
    {
      "cell_type": "code",
      "source": [
        "embedding_model = models.Transformer(model_name)"
      ],
      "metadata": {
        "id": "rKhsSsO7io_2"
      },
      "execution_count": null,
      "outputs": []
    },
    {
      "cell_type": "code",
      "source": [
        "pooler = models.Pooling(\n",
        "    embedding_model.get_word_embedding_dimension(),\n",
        "    pooling_mode_mean_tokens=True,\n",
        "    pooling_mode_cls_token=False,\n",
        "    pooling_mode_max_tokens=False,\n",
        ")"
      ],
      "metadata": {
        "id": "_E0C7xJhitBH"
      },
      "execution_count": null,
      "outputs": []
    },
    {
      "cell_type": "code",
      "source": [
        "model = SentenceTransformer(modules=[embedding_model, pooler])"
      ],
      "metadata": {
        "id": "Y6nNyj5divQz"
      },
      "execution_count": null,
      "outputs": []
    },
    {
      "cell_type": "code",
      "source": [
        "from datasets import load_dataset\n",
        "dataset = load_dataset(\"klue\", \"sts\")"
      ],
      "metadata": {
        "id": "nFIEYMNViVd4"
      },
      "execution_count": null,
      "outputs": []
    },
    {
      "cell_type": "code",
      "source": [
        "dataset"
      ],
      "metadata": {
        "id": "PnQInpYSjD0S"
      },
      "execution_count": null,
      "outputs": []
    },
    {
      "cell_type": "code",
      "source": [
        "train_dt= dataset['train']"
      ],
      "metadata": {
        "id": "bJvYPK0RaOkG"
      },
      "execution_count": null,
      "outputs": []
    },
    {
      "cell_type": "code",
      "source": [
        "val_dt= dataset['validation']"
      ],
      "metadata": {
        "id": "sBs2GWdJaiTX"
      },
      "execution_count": null,
      "outputs": []
    },
    {
      "cell_type": "code",
      "source": [
        "dataset['validation'][0]"
      ],
      "metadata": {
        "id": "9oYBRjXsjPCw"
      },
      "execution_count": null,
      "outputs": []
    },
    {
      "cell_type": "code",
      "source": [
        "max_length=512\n",
        "len(train_dt), len(val_dt)"
      ],
      "metadata": {
        "id": "YXwwjHpNder_"
      },
      "execution_count": null,
      "outputs": []
    },
    {
      "cell_type": "code",
      "source": [
        "testsets = load_dataset(\"kor_nlu\", \"sts\")"
      ],
      "metadata": {
        "id": "t6ZLzWXBl_00"
      },
      "execution_count": null,
      "outputs": []
    },
    {
      "cell_type": "code",
      "source": [
        "train_samples = []\n",
        "dev_samples = []\n",
        "test_samples = []\n",
        "\n",
        "# KLUE STS 내 훈련, 검증 데이터 예제 변환\n",
        "for phase in [\"train\", \"validation\"]:\n",
        "    examples = dataset[phase]\n",
        "\n",
        "    for example in examples:\n",
        "        score = float(example[\"labels\"][\"label\"]) / 5.0  # 0.0 ~ 1.0 스케일로 유사도 정규화\n",
        "\n",
        "        inp_example = InputExample(\n",
        "            texts=[example[\"sentence1\"], example[\"sentence2\"]], \n",
        "            label=score,\n",
        "        )\n",
        "\n",
        "        if phase == \"validation\":\n",
        "            dev_samples.append(inp_example)\n",
        "        else:\n",
        "            train_samples.append(inp_example)\n",
        "\n",
        "# KorSTS 내 테스트 데이터 예제 변환\n",
        "for example in testsets[\"test\"]:\n",
        "    score = float(example[\"score\"]) / 5.0\n",
        "\n",
        "    if example[\"sentence1\"] and example[\"sentence2\"]:\n",
        "        inp_example = InputExample(\n",
        "            texts=[example[\"sentence1\"], example[\"sentence2\"]],\n",
        "            label=score,\n",
        "        )\n",
        "\n",
        "    test_samples.append(inp_example)"
      ],
      "metadata": {
        "id": "2pE-I6-gmCjf"
      },
      "execution_count": null,
      "outputs": []
    },
    {
      "cell_type": "code",
      "source": [
        "train_dataloader = DataLoader(\n",
        "    train_samples,\n",
        "    shuffle=True,\n",
        "    batch_size=train_batch_size,\n",
        ")\n",
        "train_loss = losses.CosineSimilarityLoss(model=model)"
      ],
      "metadata": {
        "id": "PHFDL4RejY6U"
      },
      "execution_count": null,
      "outputs": []
    },
    {
      "cell_type": "code",
      "source": [
        "evaluator = EmbeddingSimilarityEvaluator.from_input_examples(\n",
        "    dev_samples,\n",
        "    name=\"sts-dev\",\n",
        ")"
      ],
      "metadata": {
        "id": "pyiAOkbcjpWA"
      },
      "execution_count": null,
      "outputs": []
    },
    {
      "cell_type": "code",
      "source": [
        "warmup_steps = math.ceil(len(train_dataloader) * num_epochs  * 0.1)  # 10% of train data for warm-up\n",
        "logging.info(f\"Warmup-steps: {warmup_steps}\")"
      ],
      "metadata": {
        "id": "70A8sK2zkzsh"
      },
      "execution_count": null,
      "outputs": []
    },
    {
      "cell_type": "code",
      "source": [
        "import torch\n",
        "torch.cuda.empty_cache()\n",
        "\n",
        "torch.cuda.memory_summary(device=None, abbreviated=False)"
      ],
      "metadata": {
        "id": "8s1G1hTf1-Ua"
      },
      "execution_count": null,
      "outputs": []
    },
    {
      "cell_type": "code",
      "source": [
        "model.fit(\n",
        "    train_objectives=[(train_dataloader, train_loss)],\n",
        "    evaluator=evaluator,\n",
        "    epochs=num_epochs,\n",
        "    evaluation_steps=1000,\n",
        "    warmup_steps=warmup_steps,\n",
        "    output_path=model_save_path,\n",
        ")"
      ],
      "metadata": {
        "id": "5b-F8PbCmIZx"
      },
      "execution_count": null,
      "outputs": []
    },
    {
      "cell_type": "code",
      "source": [
        "model = SentenceTransformer(model_save_path)\n",
        "test_evaluator = EmbeddingSimilarityEvaluator.from_input_examples(test_samples, name='sts-test')"
      ],
      "metadata": {
        "id": "NBZZNocnmwav"
      },
      "execution_count": null,
      "outputs": []
    },
    {
      "cell_type": "code",
      "source": [
        "test_evaluator(model, output_path=model_save_path)"
      ],
      "metadata": {
        "id": "jV6QLbNwmxVp"
      },
      "execution_count": null,
      "outputs": []
    }
  ]
}