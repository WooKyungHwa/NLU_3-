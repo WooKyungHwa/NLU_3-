{
  "nbformat": 4,
  "nbformat_minor": 0,
  "metadata": {
    "colab": {
      "name": "김연식_sts.ipynb",
      "private_outputs": true,
      "provenance": [],
      "collapsed_sections": [],
      "authorship_tag": "ABX9TyNtdN6LhQffdUKQkkTUBTsN",
      "include_colab_link": true
    },
    "kernelspec": {
      "name": "python3",
      "display_name": "Python 3"
    },
    "language_info": {
      "name": "python"
    },
    "accelerator": "GPU"
  },
  "cells": [
    {
      "cell_type": "markdown",
      "metadata": {
        "id": "view-in-github",
        "colab_type": "text"
      },
      "source": [
        "<a href=\"https://colab.research.google.com/github/ttogle918/NLU_3-/blob/main/%EA%B9%80%EC%97%B0%EC%8B%9D_sts.ipynb\" target=\"_parent\"><img src=\"https://colab.research.google.com/assets/colab-badge.svg\" alt=\"Open In Colab\"/></a>"
      ]
    },
    {
      "cell_type": "markdown",
      "source": [
        "# **NLU - 문장 유사도 계산 (STS)**\n",
        "\n",
        "* 과제 목표\n",
        "  + 두 개의 한국어 문장을 입력받아 두 문장의 의미적 유사도를 출력\n",
        "  + regression task (0 ≤ target ≤ 5)\n",
        "\n",
        "* 학습 데이터 셋 (다운로드 가능 & 제공 예정)\n",
        "  + KLUE-STS\n",
        "    - AIRBNB (리뷰)\n",
        "    - policy (뉴스)\n",
        "    - paraKQC (스마트홈 쿼리)\n",
        "\n",
        "* 과제 결과물\n",
        "  + 학습된 모델 (모델 자유 선택) (train set만 사용해 학습)\n",
        "  + 학습 방식 보고서\n",
        "    - 어떤 모델을 선택했나\n",
        "    - 어떻게 파라미터를 튜닝했나\n",
        "    - 어떤 훈련 과정을 거쳤는가\n",
        "  + dev set score (F1)\n",
        "  + 문장 유사도를 출력하는 API (프레임워크 자유 선택)\n"
      ],
      "metadata": {
        "id": "czT0METo0WTi"
      }
    },
    {
      "cell_type": "code",
      "source": [
        "!pip install pytorch-transformers\n",
        "!pip install transformers\n",
        "!pip install datasets\n",
        "!pip install sentence-transformers datasets"
      ],
      "metadata": {
        "id": "WJQ81bvUGHSS"
      },
      "execution_count": null,
      "outputs": []
    },
    {
      "cell_type": "code",
      "execution_count": null,
      "metadata": {
        "id": "ICtNa6Snzlc2"
      },
      "outputs": [],
      "source": [
        "import os\n",
        "import sys\n",
        "import pandas as pd\n",
        "import numpy as np \n",
        "import math\n",
        "import torch\n",
        "import logging\n",
        "import re\n",
        "\n",
        "\n",
        "from torch.utils.data import DataLoader\n",
        "from datetime import datetime\n",
        "from sentence_transformers import SentenceTransformer,  LoggingHandler, losses, models, util\n",
        "from sentence_transformers.evaluation import EmbeddingSimilarityEvaluator\n",
        "from sentence_transformers.readers import InputExample\n",
        "from datasets import load_dataset"
      ]
    },
    {
      "cell_type": "markdown",
      "source": [
        "## **1. 데이터 Load & 전처리**\n",
        "\n",
        "[KLUE ](https://github.com/KLUE-benchmark/KLUE)"
      ],
      "metadata": {
        "id": "k3gcD62_HyYk"
      }
    },
    {
      "cell_type": "code",
      "source": [
        "from datasets import load_dataset\n",
        "klue_dt = load_dataset(\"klue\", \"sts\")"
      ],
      "metadata": {
        "id": "DAqDDrLdXFu7"
      },
      "execution_count": null,
      "outputs": []
    },
    {
      "cell_type": "code",
      "source": [
        "klue_dt"
      ],
      "metadata": {
        "id": "uikHX6YbYf1p"
      },
      "execution_count": null,
      "outputs": []
    },
    {
      "cell_type": "markdown",
      "source": [
        "[Kor_STS](https://github.com/kakaobrain/KorNLUDatasets)"
      ],
      "metadata": {
        "id": "nQt8vewMlPXX"
      }
    },
    {
      "cell_type": "code",
      "source": [
        "# KorSTS dataset\n",
        "KorSTS_dt = load_dataset(\"kor_nlu\", \"sts\")"
      ],
      "metadata": {
        "id": "k8jSkBDz-HLJ"
      },
      "execution_count": null,
      "outputs": []
    },
    {
      "cell_type": "code",
      "source": [
        "KorSTS_dt"
      ],
      "metadata": {
        "id": "-oWEbX_7Wxju"
      },
      "execution_count": null,
      "outputs": []
    },
    {
      "cell_type": "code",
      "source": [
        "def make_dataset(dataset):\n",
        "    sentence1, sentence2, rlabels = [], [], []\n",
        "\n",
        "    for data in dataset :\n",
        "          rlabels.append(data['labels']['real-label'])\n",
        "          sentence1.append(cleaning(data['sentence1']))\n",
        "          sentence2.append(cleaning(data['sentence2']))\n",
        "\n",
        "    df = pd.DataFrame({'sentence1' : sentence1, 'sentence2' : sentence2, 'labels' : rlabels})\n",
        "\n",
        "    return df\n",
        "    "
      ],
      "metadata": {
        "id": "85x_mw3kmDod"
      },
      "execution_count": null,
      "outputs": []
    },
    {
      "cell_type": "code",
      "source": [
        "# 데이터셋을 프레임으로 변환하고, sentence 와 점수만 뽑음\n",
        "def make_dataset_sts(dataset):\n",
        "    sentence1, sentence2, rlabels = [], [], []\n",
        "\n",
        "    for data in dataset :\n",
        "          rlabels.append(data['score']['real-label'])\n",
        "          sentence1.append(cleaning(data['sentence1']))\n",
        "          sentence2.append(cleaning(data['sentence2']))\n",
        "\n",
        "    df = pd.DataFrame({'sentence1' : sentence1, 'sentence2' : sentence2, 'labels' : rlabels})\n",
        "\n",
        "    return df\n"
      ],
      "metadata": {
        "id": "iKxAEMovhdKO"
      },
      "execution_count": null,
      "outputs": []
    },
    {
      "cell_type": "code",
      "source": [
        "klue_df_train=make_dataset(klue_dt['train'])\n",
        "KorSTS_df_train=make_dataset_sts(KorSTS_dt['train'])\n",
        "KorSTS_df_train"
      ],
      "metadata": {
        "id": "5TQXy-Mfhf3-"
      },
      "execution_count": null,
      "outputs": []
    },
    {
      "cell_type": "code",
      "source": [
        ""
      ],
      "metadata": {
        "id": "0AmitTk2lfXa"
      },
      "execution_count": null,
      "outputs": []
    },
    {
      "cell_type": "code",
      "source": [
        ""
      ],
      "metadata": {
        "id": "Ns3O-XyJlMpJ"
      },
      "execution_count": null,
      "outputs": []
    },
    {
      "cell_type": "code",
      "source": [
        "# seed\n",
        "seed = 42\n",
        "torch.manual_seed(seed)\n",
        "torch.cuda.manual_seed_all(seed)\n",
        "\n",
        "# device type 확인\n",
        "if torch.cuda.is_available():\n",
        "    device = torch.device(\"cuda\")\n",
        "    print(f\"# available GPUs : {torch.cuda.device_count()}\")\n",
        "    print(f\"GPU name : {torch.cuda.get_device_name()}\")\n",
        "else:\n",
        "    device = torch.device(\"cpu\")\n",
        "print(device)"
      ],
      "metadata": {
        "id": "x1xRMF-a8D3s"
      },
      "execution_count": null,
      "outputs": []
    },
    {
      "cell_type": "code",
      "source": [
        "logging.basicConfig(\n",
        "    format=\"%(asctime)s - %(message)s\",\n",
        "    datefmt=\"%Y-%m-%d %H:%M:%S\",\n",
        "    level=logging.INFO,\n",
        "    handlers=[LoggingHandler()],\n",
        ")"
      ],
      "metadata": {
        "id": "HPcNLKiAiBgk"
      },
      "execution_count": null,
      "outputs": []
    },
    {
      "cell_type": "code",
      "source": [
        "# 모델 이름 설정\n",
        "model_name = \"klue/roberta-large\"\n",
        "embedding_model = models.Transformer(model_name, max_seq_length=256, do_lower_case=True)"
      ],
      "metadata": {
        "id": "rKhsSsO7io_2"
      },
      "execution_count": null,
      "outputs": []
    },
    {
      "cell_type": "code",
      "source": [
        "pooler = models.Pooling(\n",
        "    embedding_model.get_word_embedding_dimension(),\n",
        "    pooling_mode_mean_tokens=True,\n",
        "    pooling_mode_cls_token=False,\n",
        "    pooling_mode_max_tokens=False,\n",
        ")"
      ],
      "metadata": {
        "id": "_E0C7xJhitBH"
      },
      "execution_count": null,
      "outputs": []
    },
    {
      "cell_type": "code",
      "source": [
        "model = SentenceTransformer(modules=[embedding_model, pooler])"
      ],
      "metadata": {
        "id": "Y6nNyj5divQz"
      },
      "execution_count": null,
      "outputs": []
    },
    {
      "cell_type": "code",
      "source": [
        "train_batch_size = 16\n",
        "num_epochs = 1\n",
        "model_save_path = \"output/training_klue_sts_\" + model_name.replace(\"/\", \"-\") + \"-\" + datetime.now().strftime(\"%Y-%m-%d_%H-%M-%S\")"
      ],
      "metadata": {
        "id": "LNBOXC9Bifpb"
      },
      "execution_count": null,
      "outputs": []
    },
    {
      "cell_type": "code",
      "source": [
        "from datasets import load_dataset\n",
        "dataset = load_dataset(\"klue\", \"sts\")"
      ],
      "metadata": {
        "id": "nFIEYMNViVd4"
      },
      "execution_count": null,
      "outputs": []
    },
    {
      "cell_type": "code",
      "source": [
        "\n",
        "sentence1, sentence2, rlabels = [], [], []\n",
        "\n",
        "for data1 in dataset['train'] :\n",
        "  sentence1.append(data1['sentence1'])\n",
        "  sentence2.append(data1['sentence2'])\n",
        "  rlabels.append(data1['labels']['real-label'])\n",
        "\n",
        "train_df = pd.DataFrame({'sentence1' : sentence1, 'sentence2' : sentence2, 'labels' : rlabels})\n",
        "train_df.head(10)"
      ],
      "metadata": {
        "id": "_gJSf7vKe0Lz"
      },
      "execution_count": null,
      "outputs": []
    },
    {
      "cell_type": "code",
      "source": [
        "sentence3, sentence4, rlabels2 = [], [], []\n",
        "\n",
        "for data2 in dataset['validation'] :\n",
        "  sentence3.append(data2['sentence1'])\n",
        "  sentence4.append(data2['sentence2'])\n",
        "  rlabels2.append(data2['labels']['real-label'])\n",
        "\n",
        "test_df= pd.DataFrame({'sentence1' : sentence3, 'sentence2' : sentence4, 'labels' : rlabels2})\n",
        "test_df.head(10)"
      ],
      "metadata": {
        "id": "M9xpoEVug1Yc"
      },
      "execution_count": null,
      "outputs": []
    },
    {
      "cell_type": "code",
      "source": [
        "train_df.shape, test_df.shape"
      ],
      "metadata": {
        "id": "LlGvP2RchnPW"
      },
      "execution_count": null,
      "outputs": []
    },
    {
      "cell_type": "code",
      "source": [
        "kor_nlu_data = load_dataset(\"kor_nlu\", \"sts\")\n"
      ],
      "metadata": {
        "id": "Dm5Et8Woh_P-"
      },
      "execution_count": null,
      "outputs": []
    },
    {
      "cell_type": "code",
      "source": [
        "kor_nlu_data"
      ],
      "metadata": {
        "id": "6Dh-UKKeismq"
      },
      "execution_count": null,
      "outputs": []
    },
    {
      "cell_type": "code",
      "source": [
        "sentence_k, sentence_k2, rlabels_k = [], [], []\n",
        "\n",
        "for data_k in kor_nlu_data['train']  :\n",
        "  sentence_k.append(data_k['sentence1'])\n",
        "  sentence_k2.append(data_k['sentence2'])\n",
        "  rlabels_k.append(data2['labels']['real-label'])\n",
        "\n",
        "kor_nlu_df= pd.DataFrame({'sentence1' : sentence_k, 'sentence2' : sentence_k2, 'labels' : rlabels_k})\n",
        "kor_nlu_df.head(10)"
      ],
      "metadata": {
        "id": "Ah5My4O7iMqo"
      },
      "execution_count": null,
      "outputs": []
    },
    {
      "cell_type": "code",
      "source": [
        "train_df_1 = pd.concat(train_df,kor_nlu_df)"
      ],
      "metadata": {
        "id": "9FM0ElP4jPwO"
      },
      "execution_count": null,
      "outputs": []
    },
    {
      "cell_type": "code",
      "source": [
        "train_dt= dataset['train']"
      ],
      "metadata": {
        "id": "bJvYPK0RaOkG"
      },
      "execution_count": null,
      "outputs": []
    },
    {
      "cell_type": "code",
      "source": [
        "val_dt= dataset['validation']"
      ],
      "metadata": {
        "id": "sBs2GWdJaiTX"
      },
      "execution_count": null,
      "outputs": []
    },
    {
      "cell_type": "code",
      "source": [
        "dataset['validation'][0]"
      ],
      "metadata": {
        "id": "9oYBRjXsjPCw"
      },
      "execution_count": null,
      "outputs": []
    },
    {
      "cell_type": "code",
      "source": [
        "\n",
        "len(train_dt), len(val_dt)"
      ],
      "metadata": {
        "id": "YXwwjHpNder_"
      },
      "execution_count": null,
      "outputs": []
    },
    {
      "cell_type": "code",
      "source": [
        "def make_sts_input_example(dataset):\n",
        "    ''' \n",
        "    Transform to InputExample\n",
        "    ''' \n",
        "    input_examples = []\n",
        "    for i, data in enumerate(dataset):\n",
        "        sentence1 = data['sentence1']\n",
        "        sentence2 = data['sentence2']\n",
        "        score = (data['labels']['label']) / 5.0  # normalize 0 to 5\n",
        "        input_examples.append(InputExample(texts=[sentence1, sentence2], label=score))\n",
        "\n",
        "    return input_examples"
      ],
      "metadata": {
        "id": "onkdo47AR-eA"
      },
      "execution_count": null,
      "outputs": []
    },
    {
      "cell_type": "code",
      "source": [
        "test_examples_dt = make_sts_input_example(val_dt)\n",
        "\n",
        "train_samples_dt = make_sts_input_example(train_dt)"
      ],
      "metadata": {
        "id": "En3-KcSTp5hP"
      },
      "execution_count": null,
      "outputs": []
    },
    {
      "cell_type": "code",
      "source": [
        "train_dataloader = DataLoader(\n",
        "    train_samples_dt,\n",
        "    shuffle=True,\n",
        "    batch_size=train_batch_size,\n",
        ")\n",
        "train_loss = losses.CosineSimilarityLoss(model=model)"
      ],
      "metadata": {
        "id": "PHFDL4RejY6U"
      },
      "execution_count": null,
      "outputs": []
    },
    {
      "cell_type": "code",
      "source": [
        "evaluator = EmbeddingSimilarityEvaluator.from_input_examples(\n",
        "    test_examples_dt,\n",
        "    name=\"sts-dev\",\n",
        ")"
      ],
      "metadata": {
        "id": "pyiAOkbcjpWA"
      },
      "execution_count": null,
      "outputs": []
    },
    {
      "cell_type": "code",
      "source": [
        "warmup_steps = math.ceil(len(train_dataloader) * num_epochs  * 0.1)  # 10% of train data for warm-up\n",
        "logging.info(f\"Warmup-steps: {warmup_steps}\")"
      ],
      "metadata": {
        "id": "70A8sK2zkzsh"
      },
      "execution_count": null,
      "outputs": []
    },
    {
      "cell_type": "code",
      "source": [
        "import torch\n",
        "torch.cuda.empty_cache()\n",
        "\n",
        "torch.cuda.memory_summary(device=None, abbreviated=False)"
      ],
      "metadata": {
        "id": "8s1G1hTf1-Ua"
      },
      "execution_count": null,
      "outputs": []
    },
    {
      "cell_type": "code",
      "source": [
        "model.fit(\n",
        "    train_objectives=[(train_dataloader, train_loss)],\n",
        "    evaluator=evaluator,\n",
        "    epochs=num_epochs,\n",
        "    evaluation_steps=1000,\n",
        "    warmup_steps=warmup_steps,\n",
        "    output_path=model_save_path,\n",
        ")"
      ],
      "metadata": {
        "id": "5b-F8PbCmIZx"
      },
      "execution_count": null,
      "outputs": []
    },
    {
      "cell_type": "code",
      "source": [
        ""
      ],
      "metadata": {
        "id": "HjyGBJyt4Rgk"
      },
      "execution_count": null,
      "outputs": []
    },
    {
      "cell_type": "code",
      "source": [
        "model = SentenceTransformer(model_save_path)\n",
        "test_evaluator = EmbeddingSimilarityEvaluator.from_input_examples(test_examples_dt, name='sts-test')"
      ],
      "metadata": {
        "id": "NBZZNocnmwav"
      },
      "execution_count": null,
      "outputs": []
    },
    {
      "cell_type": "code",
      "source": [
        "test_evaluator(model, output_path=model_save_path)"
      ],
      "metadata": {
        "id": "jV6QLbNwmxVp"
      },
      "execution_count": null,
      "outputs": []
    },
    {
      "cell_type": "code",
      "source": [
        ""
      ],
      "metadata": {
        "id": "2XzITWc7hAUZ"
      },
      "execution_count": null,
      "outputs": []
    }
  ]
}